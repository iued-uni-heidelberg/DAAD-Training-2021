{
  "nbformat": 4,
  "nbformat_minor": 0,
  "metadata": {
    "colab": {
      "name": "Session02ShakespeareRhyme.ipynb",
      "provenance": [],
      "authorship_tag": "ABX9TyNWvMsFic93ALJbDylYAgqk",
      "include_colab_link": true
    },
    "kernelspec": {
      "name": "python3",
      "display_name": "Python 3"
    },
    "language_info": {
      "name": "python"
    }
  },
  "cells": [
    {
      "cell_type": "markdown",
      "metadata": {
        "id": "view-in-github",
        "colab_type": "text"
      },
      "source": [
        "<a href=\"https://colab.research.google.com/github/iued-uni-heidelberg/DAAD-Training-2021/blob/main/Session02ShakespeareRhyme.ipynb\" target=\"_parent\"><img src=\"https://colab.research.google.com/assets/colab-badge.svg\" alt=\"Open In Colab\"/></a>"
      ]
    },
    {
      "cell_type": "code",
      "metadata": {
        "id": "WG4w-84zIgc4"
      },
      "source": [
        ""
      ],
      "execution_count": null,
      "outputs": []
    },
    {
      "cell_type": "markdown",
      "metadata": {
        "id": "rN20pMtjJAcb"
      },
      "source": [
        "# Python for linguistic research\n",
        "## Dictionary of Skahespeare's rhymes\n",
        "\n",
        "1. Upload into your Colab space the text file with Skakespeare's sonnets: https://heibox.uni-heidelberg.de/d/d65daff8341e467c82b1/\n",
        "2. Our task is to create a dictionary of rhymes, to investigate English pronounciation in Shakespeare's times"
      ]
    },
    {
      "cell_type": "code",
      "metadata": {
        "id": "KMPpT801J2yi"
      },
      "source": [
        ""
      ],
      "execution_count": null,
      "outputs": []
    }
  ]
}