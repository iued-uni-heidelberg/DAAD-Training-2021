{
  "nbformat": 4,
  "nbformat_minor": 0,
  "metadata": {
    "colab": {
      "name": "Session02ShakespeareRhyme.ipynb",
      "provenance": [],
      "authorship_tag": "ABX9TyP17qpgsrAAs3vTpEsEoFSf",
      "include_colab_link": true
    },
    "kernelspec": {
      "name": "python3",
      "display_name": "Python 3"
    },
    "language_info": {
      "name": "python"
    }
  },
  "cells": [
    {
      "cell_type": "markdown",
      "metadata": {
        "id": "view-in-github",
        "colab_type": "text"
      },
      "source": [
        "<a href=\"https://colab.research.google.com/github/iued-uni-heidelberg/DAAD-Training-2021/blob/main/Session02ShakespeareRhyme.ipynb\" target=\"_parent\"><img src=\"https://colab.research.google.com/assets/colab-badge.svg\" alt=\"Open In Colab\"/></a>"
      ]
    },
    {
      "cell_type": "code",
      "metadata": {
        "id": "WG4w-84zIgc4"
      },
      "source": [
        "import re, os, sys"
      ],
      "execution_count": 9,
      "outputs": []
    },
    {
      "cell_type": "markdown",
      "metadata": {
        "id": "rN20pMtjJAcb"
      },
      "source": [
        "# Python for linguistic research\n",
        "## Dictionaries of William Skahespeare's and Nahapet Kuchak's rhymes\n",
        "\n",
        "1. Upload into your Colab space the text file with Skakespeare's sonnets and / or Nahapet Kuchak's airens: https://heibox.uni-heidelberg.de/d/d65daff8341e467c82b1/\n",
        "2. Our task is to create a dictionary of rhymes, to investigate English pronounciation in Shakespeare's times"
      ]
    },
    {
      "cell_type": "code",
      "metadata": {
        "id": "KMPpT801J2yi"
      },
      "source": [
        "# Download sonnets by William Shakespeare\n",
        "# !wget https://heibox.uni-heidelberg.de/f/3998d538f5534f8cb7c9/?dl=1\n",
        "\n",
        "\n",
        "# Download airens by Նահապետ Քուչակ :\n",
        "# !wget https://heibox.uni-heidelberg.de/f/88d39f993d60499aa10e/?dl=1\n"
      ],
      "execution_count": 17,
      "outputs": []
    },
    {
      "cell_type": "code",
      "metadata": {
        "id": "5YTEWxwwIe41"
      },
      "source": [
        "mv index.html?dl=1 poetry.txt"
      ],
      "execution_count": 4,
      "outputs": []
    },
    {
      "cell_type": "code",
      "metadata": {
        "id": "QMEFjw4vTXhT"
      },
      "source": [
        "# openning files\n",
        "FInEn = open('poetry-en.txt', 'r')\n",
        "FInHy = open('poetry-hy.txt', 'r')\n",
        "FOutEn = open('poetry-en-rhymes.txt', 'w')\n",
        "FOutHy = open('poetry-hy-rhymes.txt', 'w')"
      ],
      "execution_count": 18,
      "outputs": []
    },
    {
      "cell_type": "code",
      "metadata": {
        "id": "VOUMzxObTvEr"
      },
      "source": [
        "# reading entire file into string\n",
        "SPoems = FInEn.read()"
      ],
      "execution_count": 19,
      "outputs": []
    },
    {
      "cell_type": "code",
      "metadata": {
        "id": "ru5YFlJmUEpd",
        "outputId": "16b3caff-617a-46d0-f112-0b2614999525",
        "colab": {
          "base_uri": "https://localhost:8080/"
        }
      },
      "source": [
        "FOutEn.write(SPoems)"
      ],
      "execution_count": 20,
      "outputs": [
        {
          "output_type": "execute_result",
          "data": {
            "text/plain": [
              "95490"
            ]
          },
          "metadata": {},
          "execution_count": 20
        }
      ]
    },
    {
      "cell_type": "code",
      "metadata": {
        "id": "pbmU3ntkUWNI"
      },
      "source": [
        "# splitting string into individual sonnets / airens\n",
        "LPoems = re.split('^Sonnet.+', SPoems, flags=re.MULTILINE)"
      ],
      "execution_count": 21,
      "outputs": []
    },
    {
      "cell_type": "code",
      "metadata": {
        "id": "5CpdeBnTUjD0",
        "outputId": "31aa82e2-d7fb-4e23-e571-f1145aaf608d",
        "colab": {
          "base_uri": "https://localhost:8080/",
          "height": 143
        }
      },
      "source": [
        "LPoems[18]"
      ],
      "execution_count": 22,
      "outputs": [
        {
          "output_type": "execute_result",
          "data": {
            "application/vnd.google.colaboratory.intrinsic+json": {
              "type": "string"
            },
            "text/plain": [
              "\"\\nShall I compare thee to a summer's day?\\nThou art more lovely and more temperate:\\nRough winds do shake the darling buds of May,\\nAnd summer's lease hath all too short a date:\\nSometime too hot the eye of heaven shines,\\nAnd often is his gold complexion dimm'd;\\nAnd every fair from fair sometime declines,\\nBy chance or nature's changing course untrimm'd;\\nBut thy eternal summer shall not fade\\nNor lose possession of that fair thou owest;\\nNor shall Death brag thou wander'st in his shade,\\nWhen in eternal lines to time thou growest:\\nSo long as men can breathe or eyes can see,\\nSo long lives this and this gives life to thee.\\n\""
            ]
          },
          "metadata": {},
          "execution_count": 22
        }
      ]
    },
    {
      "cell_type": "code",
      "metadata": {
        "id": "DIr0Z4M-XM9i"
      },
      "source": [
        "LVerses = re.split('\\n', LPoems[18])\n",
        "LVerses[2]"
      ],
      "execution_count": null,
      "outputs": []
    },
    {
      "cell_type": "code",
      "metadata": {
        "id": "9Ui0oMPifJR6"
      },
      "source": [
        ""
      ],
      "execution_count": null,
      "outputs": []
    },
    {
      "cell_type": "code",
      "metadata": {
        "id": "xG-LhURzfNEs"
      },
      "source": [
        "DRhymes = {} # frequency dictionary of rhymes\n",
        "def add2dict(ILNum1, ILNum2, LLVersesWords):\n",
        "  try:\n",
        "    SRhymingWord1 = LLVersesWords[ILNum1][-1]\n",
        "    SRhymingWord2 = LLVersesWords[ILNum2][-1]\n",
        "  except:\n",
        "    SRhymingWord1 = ''\n",
        "    SRhymingWord2 = ''\n",
        "  try:\n",
        "    DRhymes[SRhymingWord1 + ' ~ ' + SRhymingWord2] +=1\n",
        "  except:\n",
        "    DRhymes[SRhymingWord1 + ' ~ ' + SRhymingWord2] =1"
      ],
      "execution_count": null,
      "outputs": []
    },
    {
      "cell_type": "code",
      "metadata": {
        "id": "Cy4bpRGTW7UG"
      },
      "source": [
        "for SPoem in LPoems:\n",
        "  LLVersesWords = []\n",
        "  LVerses = re.split('\\n', SPoem)\n",
        "  # splitting each verse into words and forming list of lists: list of verses and words\n",
        "  for SVerse in LVerses:\n",
        "    LWords = re.split('[ ,\\.:;\\!\\(\\)\\\"\\[\\]]+', SVerse)\n",
        "    # remove empty words: https://stackoverflow.com/questions/3845423/remove-empty-strings-from-a-list-of-strings\n",
        "    LWords = list(filter(None, LWords))\n",
        "    LLVersesWords.append(LWords)\n",
        "  \n",
        "  # back to the whole poem\n",
        "\n",
        "\n"
      ],
      "execution_count": 29,
      "outputs": []
    },
    {
      "cell_type": "code",
      "metadata": {
        "id": "cLhSO9Z-dklz",
        "outputId": "4855a073-cdfc-4490-b64b-e694e3e38c95",
        "colab": {
          "base_uri": "https://localhost:8080/"
        }
      },
      "source": [
        "LLVersesWords"
      ],
      "execution_count": 33,
      "outputs": [
        {
          "output_type": "execute_result",
          "data": {
            "text/plain": [
              "[[],\n",
              " ['The', 'little', 'Love-god', 'lying', 'once', 'asleep'],\n",
              " ['Laid', 'by', 'his', 'side', 'his', 'heart-inflaming', 'brand'],\n",
              " ['Whilst', 'many', 'nymphs', 'that', \"vow'd\", 'chaste', 'life', 'to', 'keep'],\n",
              " ['Came', 'tripping', 'by', 'but', 'in', 'her', 'maiden', 'hand'],\n",
              " ['The', 'fairest', 'votary', 'took', 'up', 'that', 'fire'],\n",
              " ['Which', 'many', 'legions', 'of', 'true', 'hearts', 'had', \"warm'd\"],\n",
              " ['And', 'so', 'the', 'general', 'of', 'hot', 'desire'],\n",
              " ['Was', 'sleeping', 'by', 'a', 'virgin', 'hand', \"disarm'd\"],\n",
              " ['This', 'brand', 'she', 'quenched', 'in', 'a', 'cool', 'well', 'by'],\n",
              " ['Which', 'from', \"Love's\", 'fire', 'took', 'heat', 'perpetual'],\n",
              " ['Growing', 'a', 'bath', 'and', 'healthful', 'remedy'],\n",
              " ['For', 'men', 'diseased', 'but', 'I', 'my', \"mistress'\", 'thrall'],\n",
              " ['Came', 'there', 'for', 'cure', 'and', 'this', 'by', 'that', 'I', 'prove'],\n",
              " [\"Love's\", 'fire', 'heats', 'water', 'water', 'cools', 'not', 'love'],\n",
              " []]"
            ]
          },
          "metadata": {},
          "execution_count": 33
        }
      ]
    }
  ]
}