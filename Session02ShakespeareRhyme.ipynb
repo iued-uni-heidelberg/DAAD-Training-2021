{
  "nbformat": 4,
  "nbformat_minor": 0,
  "metadata": {
    "colab": {
      "name": "Session02ShakespeareRhyme.ipynb",
      "provenance": [],
      "authorship_tag": "ABX9TyOZAXRGAyobQChBni/4n4hL",
      "include_colab_link": true
    },
    "kernelspec": {
      "name": "python3",
      "display_name": "Python 3"
    },
    "language_info": {
      "name": "python"
    }
  },
  "cells": [
    {
      "cell_type": "markdown",
      "metadata": {
        "id": "view-in-github",
        "colab_type": "text"
      },
      "source": [
        "<a href=\"https://colab.research.google.com/github/iued-uni-heidelberg/DAAD-Training-2021/blob/main/Session02ShakespeareRhyme.ipynb\" target=\"_parent\"><img src=\"https://colab.research.google.com/assets/colab-badge.svg\" alt=\"Open In Colab\"/></a>"
      ]
    },
    {
      "cell_type": "code",
      "metadata": {
        "id": "WG4w-84zIgc4"
      },
      "source": [
        "import re, os, sys"
      ],
      "execution_count": 9,
      "outputs": []
    },
    {
      "cell_type": "markdown",
      "metadata": {
        "id": "rN20pMtjJAcb"
      },
      "source": [
        "# Python for linguistic research\n",
        "## Dictionaries of William Skahespeare's and Nahapet Kuchak's rhymes\n",
        "\n",
        "1. Upload into your Colab space the text file with Skakespeare's sonnets and / or Nahapet Kuchak's airens: https://heibox.uni-heidelberg.de/d/d65daff8341e467c82b1/\n",
        "2. Our task is to create a dictionary of rhymes, to investigate English pronounciation in Shakespeare's times"
      ]
    },
    {
      "cell_type": "code",
      "metadata": {
        "id": "KMPpT801J2yi"
      },
      "source": [
        "# Download sonnets by William Shakespeare\n",
        "# !wget https://heibox.uni-heidelberg.de/f/3998d538f5534f8cb7c9/?dl=1\n",
        "\n",
        "\n",
        "# Download airens by Նահապետ Քուչակ :\n",
        "# !wget https://heibox.uni-heidelberg.de/f/88d39f993d60499aa10e/?dl=1\n",
        "\n",
        "\n",
        "# Download The Constitution of Armenia\n",
        "# !wget https://heibox.uni-heidelberg.de/f/d212fce36ed2471db25a/?dl=1\n",
        "# !mv index.html?dl=1 Const_RA_l.txt\n"
      ],
      "execution_count": null,
      "outputs": []
    },
    {
      "cell_type": "code",
      "metadata": {
        "id": "5YTEWxwwIe41"
      },
      "source": [
        "mv index.html?dl=1 poetry.txt"
      ],
      "execution_count": 4,
      "outputs": []
    },
    {
      "cell_type": "code",
      "metadata": {
        "id": "QMEFjw4vTXhT"
      },
      "source": [
        "# openning files\n",
        "FInEn = open('poetry-en.txt', 'r')\n",
        "FInHy = open('poetry-hy.txt', 'r')\n",
        "FOutEn = open('poetry-en-rhymes.txt', 'w')\n",
        "FOutHy = open('poetry-hy-rhymes.txt', 'w')"
      ],
      "execution_count": 39,
      "outputs": []
    },
    {
      "cell_type": "code",
      "metadata": {
        "id": "VOUMzxObTvEr"
      },
      "source": [
        "# reading entire file into string\n",
        "SPoems = FInEn.read()"
      ],
      "execution_count": 40,
      "outputs": []
    },
    {
      "cell_type": "code",
      "metadata": {
        "id": "ru5YFlJmUEpd"
      },
      "source": [
        "# FOutEn.write(SPoems)"
      ],
      "execution_count": 41,
      "outputs": []
    },
    {
      "cell_type": "code",
      "metadata": {
        "id": "pbmU3ntkUWNI"
      },
      "source": [
        "# splitting string into individual sonnets / airens\n",
        "LPoems = re.split('^Sonnet.+', SPoems, flags=re.MULTILINE)"
      ],
      "execution_count": 42,
      "outputs": []
    },
    {
      "cell_type": "code",
      "metadata": {
        "colab": {
          "base_uri": "https://localhost:8080/",
          "height": 143
        },
        "id": "5CpdeBnTUjD0",
        "outputId": "c86b0d07-3c86-40bc-9f39-934093a29d19"
      },
      "source": [
        "LPoems[18]"
      ],
      "execution_count": 43,
      "outputs": [
        {
          "output_type": "execute_result",
          "data": {
            "application/vnd.google.colaboratory.intrinsic+json": {
              "type": "string"
            },
            "text/plain": [
              "\"\\nShall I compare thee to a summer's day?\\nThou art more lovely and more temperate:\\nRough winds do shake the darling buds of May,\\nAnd summer's lease hath all too short a date:\\nSometime too hot the eye of heaven shines,\\nAnd often is his gold complexion dimm'd;\\nAnd every fair from fair sometime declines,\\nBy chance or nature's changing course untrimm'd;\\nBut thy eternal summer shall not fade\\nNor lose possession of that fair thou owest;\\nNor shall Death brag thou wander'st in his shade,\\nWhen in eternal lines to time thou growest:\\nSo long as men can breathe or eyes can see,\\nSo long lives this and this gives life to thee.\\n\""
            ]
          },
          "metadata": {},
          "execution_count": 43
        }
      ]
    },
    {
      "cell_type": "code",
      "metadata": {
        "colab": {
          "base_uri": "https://localhost:8080/",
          "height": 37
        },
        "id": "DIr0Z4M-XM9i",
        "outputId": "d6dfd9c5-191e-4097-8dd2-924378e52e9d"
      },
      "source": [
        "LVerses = re.split('\\n', LPoems[18])\n",
        "LVerses[2]"
      ],
      "execution_count": 44,
      "outputs": [
        {
          "output_type": "execute_result",
          "data": {
            "application/vnd.google.colaboratory.intrinsic+json": {
              "type": "string"
            },
            "text/plain": [
              "'Thou art more lovely and more temperate:'"
            ]
          },
          "metadata": {},
          "execution_count": 44
        }
      ]
    },
    {
      "cell_type": "code",
      "metadata": {
        "id": "9Ui0oMPifJR6"
      },
      "source": [
        "DRhymes = {} # frequency dictionary of rhymes"
      ],
      "execution_count": 45,
      "outputs": []
    },
    {
      "cell_type": "code",
      "metadata": {
        "id": "xG-LhURzfNEs"
      },
      "source": [
        "def add2dict(ILNum1, ILNum2, LLVersesWords):\n",
        "  try:\n",
        "    SRhymingWord1 = LLVersesWords[ILNum1][-1]\n",
        "    SRhymingWord2 = LLVersesWords[ILNum2][-1]\n",
        "  except:\n",
        "    SRhymingWord1 = ''\n",
        "    SRhymingWord2 = ''\n",
        "  try:\n",
        "    DRhymes[SRhymingWord1 + ' ~ ' + SRhymingWord2] +=1\n",
        "  except:\n",
        "    DRhymes[SRhymingWord1 + ' ~ ' + SRhymingWord2] =1"
      ],
      "execution_count": 46,
      "outputs": []
    },
    {
      "cell_type": "code",
      "metadata": {
        "id": "Cy4bpRGTW7UG"
      },
      "source": [
        "for SPoem in LPoems:\n",
        "  LLVersesWords = []\n",
        "  LVerses = re.split('\\n', SPoem)\n",
        "  # splitting each verse into words and forming list of lists: list of verses, each is a list of words\n",
        "  for SVerse in LVerses:\n",
        "    LWords = re.split('[ ,\\.:;\\!\\(\\)\\\"\\[\\]]+', SVerse) # modify for Armenian!\n",
        "    # remove empty words: https://stackoverflow.com/questions/3845423/remove-empty-strings-from-a-list-of-strings\n",
        "    LWords = list(filter(None, LWords))\n",
        "    LLVersesWords.append(LWords)\n",
        "  \n",
        "  # back to the whole poem: \n",
        "  ''' the last words rhyme, we need to tell which ones; Shakespeare's sonnets have:\n",
        "  abab cdcd efef gg; \n",
        "  this needs to be changed for Nahapet Kuchak's poetry, accordingly\n",
        "  '''\n",
        "  add2dict(1, 3, LLVersesWords)\n",
        "  add2dict(2, 4, LLVersesWords)\n",
        "\n",
        "  add2dict(5, 7, LLVersesWords)\n",
        "  add2dict(6, 8, LLVersesWords)\n",
        "\n",
        "  add2dict(9, 11, LLVersesWords)\n",
        "  add2dict(10, 12, LLVersesWords)\n",
        "\n",
        "  add2dict(13, 14, LLVersesWords)\n",
        "\n"
      ],
      "execution_count": 36,
      "outputs": []
    },
    {
      "cell_type": "code",
      "metadata": {
        "id": "cLhSO9Z-dklz"
      },
      "source": [
        "LLVersesWords"
      ],
      "execution_count": null,
      "outputs": []
    },
    {
      "cell_type": "code",
      "metadata": {
        "colab": {
          "base_uri": "https://localhost:8080/"
        },
        "id": "gwaFDEk9jrH0",
        "outputId": "68961dec-cbcb-460e-aec9-2dce83779258"
      },
      "source": [
        "len(DRhymes.items())"
      ],
      "execution_count": 49,
      "outputs": [
        {
          "output_type": "execute_result",
          "data": {
            "text/plain": [
              "0"
            ]
          },
          "metadata": {},
          "execution_count": 49
        }
      ]
    },
    {
      "cell_type": "code",
      "metadata": {
        "id": "MDd7lNH7iu3k"
      },
      "source": [
        "for Rhyme, Frq in sorted( DRhymes.items() , key=lambda x: x[1], reverse=True) :\n",
        "    FOutEn.write(Rhyme + '\\t' + str(Frq) + '\\n')"
      ],
      "execution_count": 48,
      "outputs": []
    }
  ]
}