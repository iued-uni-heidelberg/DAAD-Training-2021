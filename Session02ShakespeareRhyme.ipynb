{
  "nbformat": 4,
  "nbformat_minor": 0,
  "metadata": {
    "colab": {
      "name": "Session02ShakespeareRhyme.ipynb",
      "provenance": [],
      "authorship_tag": "ABX9TyN0vWu+DfE549ht4B9+R3ga",
      "include_colab_link": true
    },
    "kernelspec": {
      "name": "python3",
      "display_name": "Python 3"
    },
    "language_info": {
      "name": "python"
    }
  },
  "cells": [
    {
      "cell_type": "markdown",
      "metadata": {
        "id": "view-in-github",
        "colab_type": "text"
      },
      "source": [
        "<a href=\"https://colab.research.google.com/github/iued-uni-heidelberg/DAAD-Training-2021/blob/main/Session02ShakespeareRhyme.ipynb\" target=\"_parent\"><img src=\"https://colab.research.google.com/assets/colab-badge.svg\" alt=\"Open In Colab\"/></a>"
      ]
    },
    {
      "cell_type": "code",
      "metadata": {
        "id": "WG4w-84zIgc4"
      },
      "source": [
        "import re, os, sys\n",
        "DRhymes = {} # frequency dictionary of rhymes"
      ],
      "execution_count": 1,
      "outputs": []
    },
    {
      "cell_type": "markdown",
      "metadata": {
        "id": "rN20pMtjJAcb"
      },
      "source": [
        "# Python for linguistic research\n",
        "## Dictionaries of William Skahespeare's and Nahapet Kuchak's rhymes\n",
        "\n",
        "1. Upload into your Colab space the text file with Skakespeare's sonnets and / or Nahapet Kuchak's airens: https://heibox.uni-heidelberg.de/d/d65daff8341e467c82b1/\n",
        "2. Our task is to create a dictionary of rhymes, to investigate English pronounciation in Shakespeare's times"
      ]
    },
    {
      "cell_type": "code",
      "metadata": {
        "id": "KMPpT801J2yi"
      },
      "source": [
        "# Download sonnets by William Shakespeare\n",
        "!wget https://heibox.uni-heidelberg.de/f/3998d538f5534f8cb7c9/?dl=1\n",
        "!mv index.html?dl=1 poetry-en.txt\n",
        "\n",
        "# Download airens by Նահապետ Քուչակ :\n",
        "!wget https://heibox.uni-heidelberg.de/f/88d39f993d60499aa10e/?dl=1\n",
        "!mv index.html?dl=1 poetry-hy.txt\n",
        "\n",
        "# Download The Constitution of Armenia\n",
        "# !wget https://heibox.uni-heidelberg.de/f/d212fce36ed2471db25a/?dl=1\n",
        "# !mv index.html?dl=1 Const_RA_l.txt\n"
      ],
      "execution_count": null,
      "outputs": []
    },
    {
      "cell_type": "code",
      "metadata": {
        "id": "QMEFjw4vTXhT"
      },
      "source": [
        "# openning files\n",
        "FInEn = open('poetry-en.txt', 'r')\n",
        "FInHy = open('poetry-hy.txt', 'r')\n",
        "FOutEn = open('poetry-en-rhymes.txt', 'w')\n",
        "FOutHy = open('poetry-hy-rhymes.txt', 'w')"
      ],
      "execution_count": 13,
      "outputs": []
    },
    {
      "cell_type": "code",
      "metadata": {
        "id": "VOUMzxObTvEr"
      },
      "source": [
        "# reading entire file into string\n",
        "SPoems = FInEn.read()"
      ],
      "execution_count": 3,
      "outputs": []
    },
    {
      "cell_type": "code",
      "metadata": {
        "id": "pbmU3ntkUWNI"
      },
      "source": [
        "# splitting string into individual sonnets / airens\n",
        "LPoems = re.split('^Sonnet.+', SPoems, flags=re.MULTILINE)"
      ],
      "execution_count": 4,
      "outputs": []
    },
    {
      "cell_type": "code",
      "metadata": {
        "colab": {
          "base_uri": "https://localhost:8080/",
          "height": 143
        },
        "id": "5CpdeBnTUjD0",
        "outputId": "c33312c5-2440-46de-9c6f-33b16efc3739"
      },
      "source": [
        "LPoems[154]"
      ],
      "execution_count": 5,
      "outputs": [
        {
          "output_type": "execute_result",
          "data": {
            "application/vnd.google.colaboratory.intrinsic+json": {
              "type": "string"
            },
            "text/plain": [
              "\"\\nThe little Love-god lying once asleep\\nLaid by his side his heart-inflaming brand,\\nWhilst many nymphs that vow'd chaste life to keep\\nCame tripping by; but in her maiden hand\\nThe fairest votary took up that fire\\nWhich many legions of true hearts had warm'd;\\nAnd so the general of hot desire\\nWas sleeping by a virgin hand disarm'd.\\nThis brand she quenched in a cool well by,\\nWhich from Love's fire took heat perpetual,\\nGrowing a bath and healthful remedy\\nFor men diseased; but I, my mistress' thrall,\\nCame there for cure, and this by that I prove,\\nLove's fire heats water, water cools not love.\\n\""
            ]
          },
          "metadata": {},
          "execution_count": 5
        }
      ]
    },
    {
      "cell_type": "code",
      "metadata": {
        "colab": {
          "base_uri": "https://localhost:8080/",
          "height": 37
        },
        "id": "DIr0Z4M-XM9i",
        "outputId": "5e164a05-98c3-455e-e1c2-be12686923b8"
      },
      "source": [
        "LVerses = re.split('\\n', LPoems[18])\n",
        "LVerses[2]"
      ],
      "execution_count": 6,
      "outputs": [
        {
          "output_type": "execute_result",
          "data": {
            "application/vnd.google.colaboratory.intrinsic+json": {
              "type": "string"
            },
            "text/plain": [
              "'Thou art more lovely and more temperate:'"
            ]
          },
          "metadata": {},
          "execution_count": 6
        }
      ]
    },
    {
      "cell_type": "code",
      "metadata": {
        "id": "xG-LhURzfNEs"
      },
      "source": [
        "def add2dict(ILNum1, ILNum2, LLVersesWords):\n",
        "  try:\n",
        "    SRhymingWord1 = LLVersesWords[ILNum1][-1]\n",
        "    SRhymingWord2 = LLVersesWords[ILNum2][-1]\n",
        "  except:\n",
        "    SRhymingWord1 = ''\n",
        "    SRhymingWord2 = ''\n",
        "  try:\n",
        "    DRhymes[SRhymingWord1 + ' ~ ' + SRhymingWord2] +=1\n",
        "  except:\n",
        "    DRhymes[SRhymingWord1 + ' ~ ' + SRhymingWord2] =1"
      ],
      "execution_count": 7,
      "outputs": []
    },
    {
      "cell_type": "code",
      "metadata": {
        "id": "Cy4bpRGTW7UG"
      },
      "source": [
        "for SPoem in LPoems:\n",
        "  LLVersesWords = []\n",
        "  LVerses = re.split('\\n', SPoem)\n",
        "  # splitting each verse into words and forming list of lists: list of verses, each is a list of words\n",
        "  for SVerse in LVerses:\n",
        "    LWords = re.split('[ ,\\.:;\\!\\(\\)\\\"\\[\\]]+', SVerse) # modify for Armenian!\n",
        "    # remove empty words: https://stackoverflow.com/questions/3845423/remove-empty-strings-from-a-list-of-strings\n",
        "    LWords = list(filter(None, LWords))\n",
        "    LLVersesWords.append(LWords)\n",
        "  \n",
        "  # back to the whole poem: \n",
        "  ''' the last words rhyme, we need to tell which ones; Shakespeare's sonnets have:\n",
        "  abab cdcd efef gg; \n",
        "  this needs to be changed for Nahapet Kuchak's poetry, accordingly\n",
        "  '''\n",
        "  add2dict(1, 3, LLVersesWords)\n",
        "  add2dict(2, 4, LLVersesWords)\n",
        "\n",
        "  add2dict(5, 7, LLVersesWords)\n",
        "  add2dict(6, 8, LLVersesWords)\n",
        "\n",
        "  add2dict(9, 11, LLVersesWords)\n",
        "  add2dict(10, 12, LLVersesWords)\n",
        "\n",
        "  add2dict(13, 14, LLVersesWords)\n",
        "\n"
      ],
      "execution_count": 8,
      "outputs": []
    },
    {
      "cell_type": "code",
      "metadata": {
        "colab": {
          "base_uri": "https://localhost:8080/"
        },
        "id": "cLhSO9Z-dklz",
        "outputId": "73e918bc-f09c-484c-b00c-206b2cad3c10"
      },
      "source": [
        "LLVersesWords"
      ],
      "execution_count": 9,
      "outputs": [
        {
          "output_type": "execute_result",
          "data": {
            "text/plain": [
              "[[],\n",
              " ['The', 'little', 'Love-god', 'lying', 'once', 'asleep'],\n",
              " ['Laid', 'by', 'his', 'side', 'his', 'heart-inflaming', 'brand'],\n",
              " ['Whilst', 'many', 'nymphs', 'that', \"vow'd\", 'chaste', 'life', 'to', 'keep'],\n",
              " ['Came', 'tripping', 'by', 'but', 'in', 'her', 'maiden', 'hand'],\n",
              " ['The', 'fairest', 'votary', 'took', 'up', 'that', 'fire'],\n",
              " ['Which', 'many', 'legions', 'of', 'true', 'hearts', 'had', \"warm'd\"],\n",
              " ['And', 'so', 'the', 'general', 'of', 'hot', 'desire'],\n",
              " ['Was', 'sleeping', 'by', 'a', 'virgin', 'hand', \"disarm'd\"],\n",
              " ['This', 'brand', 'she', 'quenched', 'in', 'a', 'cool', 'well', 'by'],\n",
              " ['Which', 'from', \"Love's\", 'fire', 'took', 'heat', 'perpetual'],\n",
              " ['Growing', 'a', 'bath', 'and', 'healthful', 'remedy'],\n",
              " ['For', 'men', 'diseased', 'but', 'I', 'my', \"mistress'\", 'thrall'],\n",
              " ['Came', 'there', 'for', 'cure', 'and', 'this', 'by', 'that', 'I', 'prove'],\n",
              " [\"Love's\", 'fire', 'heats', 'water', 'water', 'cools', 'not', 'love'],\n",
              " []]"
            ]
          },
          "metadata": {},
          "execution_count": 9
        }
      ]
    },
    {
      "cell_type": "code",
      "metadata": {
        "colab": {
          "base_uri": "https://localhost:8080/"
        },
        "id": "gwaFDEk9jrH0",
        "outputId": "002c6210-3fca-42bf-c5cb-fa0742772841"
      },
      "source": [
        "len(DRhymes.items())"
      ],
      "execution_count": 10,
      "outputs": [
        {
          "output_type": "execute_result",
          "data": {
            "text/plain": [
              "887"
            ]
          },
          "metadata": {},
          "execution_count": 10
        }
      ]
    },
    {
      "cell_type": "code",
      "metadata": {
        "id": "MDd7lNH7iu3k"
      },
      "source": [
        "for Rhyme, Frq in sorted( DRhymes.items() , key=lambda x: x[1], reverse=True) :\n",
        "  FOutEn.write(Rhyme + '\\t' + str(Frq) + '\\n')\n",
        "\n",
        "FOutEn.flush()\n",
        "FOutEn.close()\n",
        "\n",
        "  "
      ],
      "execution_count": 14,
      "outputs": []
    }
  ]
}