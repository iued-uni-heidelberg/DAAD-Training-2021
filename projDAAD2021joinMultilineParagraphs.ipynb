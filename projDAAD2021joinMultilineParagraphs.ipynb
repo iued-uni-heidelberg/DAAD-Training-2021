{
  "nbformat": 4,
  "nbformat_minor": 0,
  "metadata": {
    "colab": {
      "name": "projDAAD2021joinMultilineParagraphs.ipynb",
      "provenance": [],
      "collapsed_sections": [],
      "authorship_tag": "ABX9TyOf/pdHbGZnYnBMgECv61nw",
      "include_colab_link": true
    },
    "kernelspec": {
      "name": "python3",
      "display_name": "Python 3"
    },
    "language_info": {
      "name": "python"
    }
  },
  "cells": [
    {
      "cell_type": "markdown",
      "metadata": {
        "id": "view-in-github",
        "colab_type": "text"
      },
      "source": [
        "<a href=\"https://colab.research.google.com/github/iued-uni-heidelberg/DAAD-Training-2021/blob/main/projDAAD2021joinMultilineParagraphs.ipynb\" target=\"_parent\"><img src=\"https://colab.research.google.com/assets/colab-badge.svg\" alt=\"Open In Colab\"/></a>"
      ]
    },
    {
      "cell_type": "markdown",
      "metadata": {
        "id": "sBzE8YDEd8eF"
      },
      "source": [
        "Replacement of multiline paragraphs with one-string paragraphs\n"
      ]
    },
    {
      "cell_type": "code",
      "metadata": {
        "id": "7qetd35seAU1"
      },
      "source": [
        "# downloading legal corpus from HeiBox (Vahram's link)\n",
        "!wget https://heibox.uni-heidelberg.de/f/dbb26710c4d0464eb852/?dl=1"
      ],
      "execution_count": null,
      "outputs": []
    },
    {
      "cell_type": "code",
      "metadata": {
        "id": "2R2gMIbGemxp"
      },
      "source": [
        "!mv index.html?dl=1 output.zip"
      ],
      "execution_count": null,
      "outputs": []
    },
    {
      "cell_type": "code",
      "metadata": {
        "id": "sZ4UPaZ3eikN"
      },
      "source": [
        "!unzip output.zip"
      ],
      "execution_count": null,
      "outputs": []
    },
    {
      "cell_type": "code",
      "metadata": {
        "id": "KgayPUrTeVhV"
      },
      "source": [
        "!head --lines=1000 output.txt >output1k.txt"
      ],
      "execution_count": null,
      "outputs": []
    },
    {
      "cell_type": "code",
      "metadata": {
        "id": "_eaYCoFKgfIe"
      },
      "source": [
        "!wc output1k.txt\n",
        "!wc output.txt"
      ],
      "execution_count": null,
      "outputs": []
    },
    {
      "cell_type": "code",
      "metadata": {
        "id": "2utR3r_bfkzo"
      },
      "source": [
        "FInput = open('output.txt', 'r')\n",
        "FOutput = open('output-utf8.txt', 'w')"
      ],
      "execution_count": null,
      "outputs": []
    },
    {
      "cell_type": "code",
      "metadata": {
        "id": "OMYUUFhCf0l4"
      },
      "source": [
        "import re\n",
        "i = 0\n",
        "SPrevString = ''\n",
        "REPattern = re.compile('[A-Za-zÄÖÜäöüß]')\n",
        "REPatternNewParagraph = re.compile('^ +')\n",
        "for SLine in FInput:\n",
        "    i += 1\n",
        "    if i%1000000 == 0: \n",
        "        SI = str(i)\n",
        "        print(f'{SI}')\n",
        "    SLine = SLine.rstrip()\n",
        "    if not re.search(REPattern, SLine): continue\n",
        "    if re.match(REPatternNewParagraph, SLine):\n",
        "        FOutput.write(SPrevString + '\\n')\n",
        "    else:\n",
        "        FOutput.write(SPrevString + ' ')\n",
        "    SPrevString = SLine\n",
        "\n",
        "FOutput.write(SPrevString + '\\n')\n",
        "FOutput.flush()\n",
        "FOutput.close()"
      ],
      "execution_count": null,
      "outputs": []
    },
    {
      "cell_type": "code",
      "metadata": {
        "id": "zGKhbI0spUyp"
      },
      "source": [
        "!head --lines=1000 output-utf8.txt >output1k-utf8.txt"
      ],
      "execution_count": null,
      "outputs": []
    },
    {
      "cell_type": "code",
      "metadata": {
        "id": "S9gGuQkGuZCw"
      },
      "source": [
        "!wc output-utf8.txt"
      ],
      "execution_count": null,
      "outputs": []
    },
    {
      "cell_type": "code",
      "metadata": {
        "id": "NjhMEZiBmdlv"
      },
      "source": [
        "!zip output0utf8.zip output-utf8.txt"
      ],
      "execution_count": null,
      "outputs": []
    },
    {
      "cell_type": "markdown",
      "metadata": {
        "id": "451laFQbwwAB"
      },
      "source": [
        "Then we can download \"output0utf8.zip\""
      ]
    }
  ]
}