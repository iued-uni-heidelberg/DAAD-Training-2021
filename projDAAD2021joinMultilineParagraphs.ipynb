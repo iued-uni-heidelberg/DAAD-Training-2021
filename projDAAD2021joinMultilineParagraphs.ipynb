{
  "nbformat": 4,
  "nbformat_minor": 0,
  "metadata": {
    "colab": {
      "name": "projDAAD2021joinMultilineParagraphs.ipynb",
      "provenance": [],
      "collapsed_sections": [],
      "authorship_tag": "ABX9TyPnsE+mjd5qyX80hXzdrW4C",
      "include_colab_link": true
    },
    "kernelspec": {
      "name": "python3",
      "display_name": "Python 3"
    },
    "language_info": {
      "name": "python"
    }
  },
  "cells": [
    {
      "cell_type": "markdown",
      "metadata": {
        "id": "view-in-github",
        "colab_type": "text"
      },
      "source": [
        "<a href=\"https://colab.research.google.com/github/iued-uni-heidelberg/DAAD-Training-2021/blob/main/projDAAD2021joinMultilineParagraphs.ipynb\" target=\"_parent\"><img src=\"https://colab.research.google.com/assets/colab-badge.svg\" alt=\"Open In Colab\"/></a>"
      ]
    },
    {
      "cell_type": "markdown",
      "metadata": {
        "id": "sBzE8YDEd8eF"
      },
      "source": [
        "Replacement of multiline paragraphs with one-string paragraphs\n"
      ]
    },
    {
      "cell_type": "code",
      "metadata": {
        "id": "7qetd35seAU1",
        "outputId": "3b8954a3-5373-40b6-b91b-c11cba71fd97",
        "colab": {
          "base_uri": "https://localhost:8080/"
        }
      },
      "source": [
        "# downloading legal corpus from HeiBox (Vahram's link)\n",
        "!wget https://heibox.uni-heidelberg.de/f/dbb26710c4d0464eb852/?dl=1"
      ],
      "execution_count": 1,
      "outputs": [
        {
          "output_type": "stream",
          "name": "stdout",
          "text": [
            "--2021-10-12 18:29:29--  https://heibox.uni-heidelberg.de/f/dbb26710c4d0464eb852/?dl=1\n",
            "Resolving heibox.uni-heidelberg.de (heibox.uni-heidelberg.de)... 129.206.7.113\n",
            "Connecting to heibox.uni-heidelberg.de (heibox.uni-heidelberg.de)|129.206.7.113|:443... connected.\n",
            "HTTP request sent, awaiting response... 302 Found\n",
            "Location: https://heibox.uni-heidelberg.de/seafhttp/files/8c93504e-4f9c-4c02-acd3-1272e0dab7bf/output1.zip [following]\n",
            "--2021-10-12 18:29:30--  https://heibox.uni-heidelberg.de/seafhttp/files/8c93504e-4f9c-4c02-acd3-1272e0dab7bf/output1.zip\n",
            "Reusing existing connection to heibox.uni-heidelberg.de:443.\n",
            "HTTP request sent, awaiting response... 200 OK\n",
            "Length: 397987055 (380M) [application/zip]\n",
            "Saving to: ‘index.html?dl=1’\n",
            "\n",
            "index.html?dl=1     100%[===================>] 379.55M  15.5MB/s    in 26s     \n",
            "\n",
            "2021-10-12 18:29:56 (14.6 MB/s) - ‘index.html?dl=1’ saved [397987055/397987055]\n",
            "\n"
          ]
        }
      ]
    },
    {
      "cell_type": "code",
      "metadata": {
        "id": "2R2gMIbGemxp"
      },
      "source": [
        "!mv index.html?dl=1 output.zip"
      ],
      "execution_count": 2,
      "outputs": []
    },
    {
      "cell_type": "code",
      "metadata": {
        "id": "sZ4UPaZ3eikN",
        "outputId": "ad987b60-67ae-43ed-ab4b-1115b2ade220",
        "colab": {
          "base_uri": "https://localhost:8080/"
        }
      },
      "source": [
        "!unzip output.zip"
      ],
      "execution_count": 3,
      "outputs": [
        {
          "output_type": "stream",
          "name": "stdout",
          "text": [
            "Archive:  output.zip\n",
            "  inflating: output.txt              \n"
          ]
        }
      ]
    },
    {
      "cell_type": "code",
      "metadata": {
        "id": "KgayPUrTeVhV"
      },
      "source": [
        "!head --lines=1000 output.txt >output1k.txt"
      ],
      "execution_count": 4,
      "outputs": []
    },
    {
      "cell_type": "code",
      "metadata": {
        "id": "_eaYCoFKgfIe",
        "outputId": "58cac78c-a5ff-4d40-88d3-d2d6a9f1165d",
        "colab": {
          "base_uri": "https://localhost:8080/"
        }
      },
      "source": [
        "!wc output1k.txt\n",
        "!wc output.txt"
      ],
      "execution_count": 5,
      "outputs": [
        {
          "output_type": "stream",
          "name": "stdout",
          "text": [
            " 1000 11975 92326 output1k.txt\n",
            "  15781128  188786327 1467960343 output.txt\n"
          ]
        }
      ]
    },
    {
      "cell_type": "code",
      "metadata": {
        "id": "2utR3r_bfkzo"
      },
      "source": [
        "FInput = open('output.txt', 'r')\n",
        "FOutput = open('output-utf8.txt', 'w')"
      ],
      "execution_count": 6,
      "outputs": []
    },
    {
      "cell_type": "code",
      "metadata": {
        "id": "OMYUUFhCf0l4",
        "outputId": "be9b3b48-b5fb-423a-c7e9-512cd1805e12",
        "colab": {
          "base_uri": "https://localhost:8080/"
        }
      },
      "source": [
        "import re\n",
        "i = 0\n",
        "iDocID = 1\n",
        "iDocBase = 1000000\n",
        "SPrevString = ''\n",
        "REPattern = re.compile('[A-Za-zÄÖÜäöüß]')\n",
        "REPatternNewParagraph = re.compile('^ +')\n",
        "FOutput.write('<doc id=\"t1000001\">\\n')\n",
        "for SLine in FInput:\n",
        "    i += 1\n",
        "    if i%1000000 == 0: \n",
        "        SI = str(i)\n",
        "        print(f'{SI}')\n",
        "    SLine = SLine.rstrip()\n",
        "    if SLine == '$$$$$$$$$$$$$$':\n",
        "        iDocID += 1; DocID = iDocID + iDocBase; SDocID = str(DocID)\n",
        "        FOutput.write(f'\\n</doc>\\n\\n<doc id=\"t{SDocID}\">\\n')\n",
        "    if not re.search(REPattern, SLine): continue\n",
        "    if re.match(REPatternNewParagraph, SLine):\n",
        "        FOutput.write(SPrevString + '\\n')\n",
        "    else:\n",
        "        FOutput.write(SPrevString + ' ')\n",
        "    SPrevString = SLine\n",
        "\n",
        "FOutput.write(SPrevString + '\\n')\n",
        "FOutput.flush()\n",
        "FOutput.close()"
      ],
      "execution_count": 7,
      "outputs": [
        {
          "output_type": "stream",
          "name": "stdout",
          "text": [
            "1000000\n",
            "2000000\n",
            "3000000\n",
            "4000000\n",
            "5000000\n",
            "6000000\n",
            "7000000\n",
            "8000000\n",
            "9000000\n",
            "10000000\n",
            "11000000\n",
            "12000000\n",
            "13000000\n",
            "14000000\n",
            "15000000\n"
          ]
        }
      ]
    },
    {
      "cell_type": "code",
      "metadata": {
        "id": "zGKhbI0spUyp"
      },
      "source": [
        "!head --lines=1000 output-utf8.txt >output1k-utf8.txt"
      ],
      "execution_count": 8,
      "outputs": []
    },
    {
      "cell_type": "code",
      "metadata": {
        "id": "S9gGuQkGuZCw",
        "outputId": "2b4710a2-38d2-4d7d-ddb8-c644da713bed",
        "colab": {
          "base_uri": "https://localhost:8080/"
        }
      },
      "source": [
        "!wc output-utf8.txt"
      ],
      "execution_count": 9,
      "outputs": [
        {
          "output_type": "stream",
          "name": "stdout",
          "text": [
            "  10787306  188543077 1464591129 output-utf8.txt\n"
          ]
        }
      ]
    },
    {
      "cell_type": "code",
      "metadata": {
        "id": "NjhMEZiBmdlv",
        "outputId": "0f4645d9-5eb5-41c8-d8f5-6a295fe32e52",
        "colab": {
          "base_uri": "https://localhost:8080/"
        }
      },
      "source": [
        "!zip output0utf8.zip output-utf8.txt"
      ],
      "execution_count": 10,
      "outputs": [
        {
          "output_type": "stream",
          "name": "stdout",
          "text": [
            "  adding: output-utf8.txt (deflated 73%)\n"
          ]
        }
      ]
    },
    {
      "cell_type": "markdown",
      "metadata": {
        "id": "451laFQbwwAB"
      },
      "source": [
        "Then we can download \"output0utf8.zip\""
      ]
    }
  ]
}