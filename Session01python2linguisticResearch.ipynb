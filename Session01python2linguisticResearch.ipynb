{
  "nbformat": 4,
  "nbformat_minor": 0,
  "metadata": {
    "colab": {
      "name": "Session01python2linguisticResearch.ipynb",
      "provenance": [],
      "authorship_tag": "ABX9TyOlxB9/5yXhiTA5KAtUqI/f",
      "include_colab_link": true
    },
    "kernelspec": {
      "name": "python3",
      "display_name": "Python 3"
    },
    "language_info": {
      "name": "python"
    }
  },
  "cells": [
    {
      "cell_type": "markdown",
      "metadata": {
        "id": "view-in-github",
        "colab_type": "text"
      },
      "source": [
        "<a href=\"https://colab.research.google.com/github/iued-uni-heidelberg/DAAD-Training-2021/blob/main/Session01python2linguisticResearch.ipynb\" target=\"_parent\"><img src=\"https://colab.research.google.com/assets/colab-badge.svg\" alt=\"Open In Colab\"/></a>"
      ]
    },
    {
      "cell_type": "code",
      "metadata": {
        "id": "0oYgbrJDARnE"
      },
      "source": [
        ""
      ],
      "execution_count": null,
      "outputs": []
    },
    {
      "cell_type": "markdown",
      "metadata": {
        "id": "cJUPXvIuAWqU"
      },
      "source": [
        "# Python for linguistic reasearch\n",
        "## Project: extracting terminology\n",
        "\n",
        "1. Upload and examine a .vert text (output of the TreeTagger)\n",
        "- Orwell 1984 for En and De are available on https://heibox.uni-heidelberg.de/d/d65daff8341e467c82b1/\n",
        "- You can generate such file from your own texts with the TreeTagger\n",
        "2. We will create a pattern-based dictionary of terminological candidates, learning fundamentals of data preparation in Python"
      ]
    },
    {
      "cell_type": "code",
      "metadata": {
        "id": "nzZqoeXaAXrQ"
      },
      "source": [
        ""
      ],
      "execution_count": null,
      "outputs": []
    }
  ]
}