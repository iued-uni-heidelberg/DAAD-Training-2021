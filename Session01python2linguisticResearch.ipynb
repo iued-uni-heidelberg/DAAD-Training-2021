{
  "nbformat": 4,
  "nbformat_minor": 0,
  "metadata": {
    "colab": {
      "name": "Session01python2linguisticResearch.ipynb",
      "provenance": [],
      "authorship_tag": "ABX9TyNPYAZHUhISty500jinbJaa",
      "include_colab_link": true
    },
    "kernelspec": {
      "name": "python3",
      "display_name": "Python 3"
    },
    "language_info": {
      "name": "python"
    }
  },
  "cells": [
    {
      "cell_type": "markdown",
      "metadata": {
        "id": "view-in-github",
        "colab_type": "text"
      },
      "source": [
        "<a href=\"https://colab.research.google.com/github/iued-uni-heidelberg/DAAD-Training-2021/blob/main/Session01python2linguisticResearch.ipynb\" target=\"_parent\"><img src=\"https://colab.research.google.com/assets/colab-badge.svg\" alt=\"Open In Colab\"/></a>"
      ]
    },
    {
      "cell_type": "code",
      "metadata": {
        "id": "0oYgbrJDARnE"
      },
      "source": [
        "import os, re, sys"
      ],
      "execution_count": 32,
      "outputs": []
    },
    {
      "cell_type": "markdown",
      "metadata": {
        "id": "cJUPXvIuAWqU"
      },
      "source": [
        "# Python for linguistic reasearch\n",
        "## Project: extracting terminology\n",
        "\n",
        "1. Upload and examine a .vert text (output of the TreeTagger)\n",
        "- Orwell 1984 for En and De are available on https://heibox.uni-heidelberg.de/d/d65daff8341e467c82b1/\n",
        "- You can generate such file from your own texts with the TreeTagger\n",
        "2. We will create a pattern-based dictionary of terminological candidates, learning fundamentals of data preparation in Python"
      ]
    },
    {
      "cell_type": "code",
      "metadata": {
        "id": "bMA3j8b4uMkS"
      },
      "source": [
        "class clProcCorpus(object):\n",
        "  ''' we will read a text file and return a dictionary\n",
        "  this will be done on the line by line basis\n",
        "  The dictionary can be sorted later...\n",
        "  '''\n",
        "  # this is a class for processing a corpus\n",
        "\n",
        "  def __init__(self, FileIN):\n",
        "    self.DictFrq = {}\n",
        "    self.processCorpus(FileIN)\n",
        "\n",
        "  def processCorpus(self, FileIN):\n",
        "    LTerm = []\n",
        "    for Line in FileIN:\n",
        "      Line = Line.strip()\n",
        "      LLine = re.split('\\t', Line)\n",
        "      try:\n",
        "        Word = LLine[0]\n",
        "        PoS = LLine[1]\n",
        "        Lemma = LLine[2]\n",
        "      except:\n",
        "        Word = \"\"\n",
        "        PoS = \"\"\n",
        "        Lemma = \"\"\n",
        "      \n",
        "      # if re.match('N\\..*', PoS) or re.match('ADJ.*', PoS) or re.match('von', Word):\n",
        "      if re.match('NN.*', PoS) or re.match('JJ.*', PoS):\n",
        "      \n",
        "        LTerm.append(Word)\n",
        "      else:\n",
        "        STerm = ' '.join(LTerm)\n",
        "        LTerm = []\n",
        "\n",
        "        try:\n",
        "            self.DictFrq[STerm] += 1\n",
        "        except:\n",
        "            self.DictFrq[STerm] = 1        \n",
        "\n",
        "    return\n",
        "\n"
      ],
      "execution_count": 33,
      "outputs": []
    },
    {
      "cell_type": "code",
      "metadata": {
        "id": "nzZqoeXaAXrQ"
      },
      "source": [
        "FileIN = open('go1984en-vert.txt', 'r')"
      ],
      "execution_count": 34,
      "outputs": []
    },
    {
      "cell_type": "code",
      "metadata": {
        "id": "IeEgj_dFs54B"
      },
      "source": [
        "FileOut = open('go1984en-terms.txt', 'w')"
      ],
      "execution_count": 35,
      "outputs": []
    },
    {
      "cell_type": "code",
      "metadata": {
        "id": "TSRrOa6-tTDY"
      },
      "source": [
        "# step 5: save the frequency dictionary into file, by decreasing frequencies\n",
        "# FileOutput.write( str( DictionaryFrq ) + '\\n' )\n",
        "\n",
        "OCorpus = clProcCorpus(FileIN)\n",
        "DictionaryFrq = OCorpus.DictFrq\n",
        "\n",
        "\n",
        "for Word, Frq in sorted( DictionaryFrq.items() , key=lambda x: x[1], reverse=True):\n",
        "  if re.search(' ', Word):\n",
        "    FileOut.write(Word + '\\t' + str(Frq) + '\\n')\n",
        "  "
      ],
      "execution_count": 36,
      "outputs": []
    },
    {
      "cell_type": "code",
      "metadata": {
        "id": "dsgW-9RdtjeD"
      },
      "source": [
        ""
      ],
      "execution_count": null,
      "outputs": []
    }
  ]
}