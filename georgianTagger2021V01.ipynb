{
  "nbformat": 4,
  "nbformat_minor": 0,
  "metadata": {
    "colab": {
      "name": "georgianTagger2021V01.ipynb",
      "provenance": [],
      "authorship_tag": "ABX9TyN6dtP3M+uya2Qa9SXZzVr9",
      "include_colab_link": true
    },
    "kernelspec": {
      "name": "python3",
      "display_name": "Python 3"
    },
    "language_info": {
      "name": "python"
    }
  },
  "cells": [
    {
      "cell_type": "markdown",
      "metadata": {
        "id": "view-in-github",
        "colab_type": "text"
      },
      "source": [
        "<a href=\"https://colab.research.google.com/github/iued-uni-heidelberg/DAAD-Training-2021/blob/main/georgianTagger2021V01.ipynb\" target=\"_parent\"><img src=\"https://colab.research.google.com/assets/colab-badge.svg\" alt=\"Open In Colab\"/></a>"
      ]
    },
    {
      "cell_type": "code",
      "metadata": {
        "colab": {
          "base_uri": "https://localhost:8080/"
        },
        "id": "pKG5ENjgDLV0",
        "outputId": "e4e738a3-dcff-43b7-a457-ca57a72c9109"
      },
      "source": [
        "!wget https://heibox.uni-heidelberg.de/f/d5603814da69440aadf4/?dl=1\n",
        "# georgian politics, culture ('Brown corpus')"
      ],
      "execution_count": 1,
      "outputs": [
        {
          "output_type": "stream",
          "name": "stdout",
          "text": [
            "--2021-11-30 08:57:27--  https://heibox.uni-heidelberg.de/f/d5603814da69440aadf4/?dl=1\n",
            "Resolving heibox.uni-heidelberg.de (heibox.uni-heidelberg.de)... 129.206.7.113\n",
            "Connecting to heibox.uni-heidelberg.de (heibox.uni-heidelberg.de)|129.206.7.113|:443... connected.\n",
            "HTTP request sent, awaiting response... 302 Found\n",
            "Location: https://heibox.uni-heidelberg.de/seafhttp/files/13a76ae2-5e82-44cf-b079-5d365ce8e51b/brownGEO.txt [following]\n",
            "--2021-11-30 08:57:28--  https://heibox.uni-heidelberg.de/seafhttp/files/13a76ae2-5e82-44cf-b079-5d365ce8e51b/brownGEO.txt\n",
            "Reusing existing connection to heibox.uni-heidelberg.de:443.\n",
            "HTTP request sent, awaiting response... 200 OK\n",
            "Length: 17108608 (16M) [text/plain]\n",
            "Saving to: ‘index.html?dl=1’\n",
            "\n",
            "index.html?dl=1     100%[===================>]  16.32M  10.7MB/s    in 1.5s    \n",
            "\n",
            "2021-11-30 08:57:30 (10.7 MB/s) - ‘index.html?dl=1’ saved [17108608/17108608]\n",
            "\n"
          ]
        }
      ]
    },
    {
      "cell_type": "code",
      "metadata": {
        "id": "BLWvCnAmEEq0"
      },
      "source": [
        "!mv index.html?dl=1 brownGEO.txt"
      ],
      "execution_count": 2,
      "outputs": []
    },
    {
      "cell_type": "code",
      "metadata": {
        "colab": {
          "base_uri": "https://localhost:8080/"
        },
        "id": "nMVCECQ8ERGu",
        "outputId": "e4357df4-5fcd-4623-8d0f-15b673f8e0ac"
      },
      "source": [
        "!wc brownGEO.txt\n",
        "!head --lines=10 brownGEO.txt"
      ],
      "execution_count": 3,
      "outputs": [
        {
          "output_type": "stream",
          "name": "stdout",
          "text": [
            "   58199   796419 17108608 brownGEO.txt\n",
            "მინდა გესაუბროთ სამსახურის შესახებ კონკრეტულად კი, რატომ არ შეუძლიათ ადამიანებს შეასრულონ საქმე სამსახურში, ეს პრობლემა, მგონი, ყველას გვაერთიანებს...\n",
            "მაგრამ, მოდით, თავიდან დავიწყოთ:\n",
            "არსებობენ კომპანიები, არასამეწარმეო ორგანიზაციები და საქველმოქმედო ორგანიზაციები და ყველა ამ ორგანიზაციას ჰყავს თანამშრომლები ან მოხალისეები..\n",
            "და ისინი ელიან ამ თანამშრომლებისგან საქმის კეთებას მათთვის.. დიადი საქმის კეთებას-- იმედს ვიტოვებ მაინც, რომ ეს ასეა..\n",
            "ჩვეულებრივად, კარგ საქმეს მაინც. იყოს, ძალიან კარგი საქმე.\n",
            "და რასაც ორგანიზაციები აკეთებენ, არის, რომ ისინი წყვეტენ რომ ადამიანებს სჭირდებათ ერთ ადგილას თავმოყრა იმისთვის, რომ გააკეთონ საქმე.\n",
            "ასე რომ იქნება ეს საქველმოქმედო, კომერციული ან სხვა სახის ორგანიზაცია ადამიანები, როგორც წესი, თუ აფრიკაში არ მუშაობთ, და თუ იღბლიანი ხართ, ძირითადად, ყოველ დღე დადიან სამსახურში (ოფისში).\n",
            "ასე რომ, კომპანიები აშენებენ ოფისებს\n",
            "ისინი მიდიან, ყიდულობენ შენობას, ან ქირაობენ შენობას ან იჯარით იღებენ ფართს, და ავსებენ მათ სხვადასხვა საგნებით\n",
            "მაგიდებით, მერხებით, სკამებით, კომპიუტერული აღჭურვილობით პროგრამებით, ინტერნეტთან წვდომით, შეიძლება მაცივრითაც, და რამდენიმე სხვა ნივთით, და ელიან თანამშრომლებისგან, ან მოხალისეებისგან, რომ მივიდნენ ყოველ დღე ამ ადგილას და მაგრად იმუშავონ.\n"
          ]
        }
      ]
    }
  ]
}