{
  "nbformat": 4,
  "nbformat_minor": 0,
  "metadata": {
    "colab": {
      "name": "Terminologieextraktion2WordsAndMWEs.ipynb",
      "provenance": [],
      "collapsed_sections": [],
      "include_colab_link": true
    },
    "kernelspec": {
      "name": "python3",
      "display_name": "Python 3"
    },
    "language_info": {
      "name": "python"
    }
  },
  "cells": [
    {
      "cell_type": "markdown",
      "metadata": {
        "id": "view-in-github",
        "colab_type": "text"
      },
      "source": [
        "<a href=\"https://colab.research.google.com/github/iued-uni-heidelberg/DAAD-Training-2021/blob/main/Terminologieextraktion2WordsAndMWEs.ipynb\" target=\"_parent\"><img src=\"https://colab.research.google.com/assets/colab-badge.svg\" alt=\"Open In Colab\"/></a>"
      ]
    },
    {
      "cell_type": "markdown",
      "metadata": {
        "id": "Ir693xy5khPU"
      },
      "source": [
        "# Terminology extraction experiments\n",
        "\n",
        "## Improving and running terminology extraction script on different corpora\n",
        "\n"
      ]
    },
    {
      "cell_type": "code",
      "metadata": {
        "id": "OtWZ1FuvlfLk"
      },
      "source": [
        "# "
      ],
      "execution_count": 1,
      "outputs": []
    },
    {
      "cell_type": "code",
      "metadata": {
        "id": "OXKKCk4ow8fQ",
        "colab": {
          "base_uri": "https://localhost:8080/"
        },
        "outputId": "517c37ef-866e-435f-c5dd-1448bdb5b889"
      },
      "source": [
        "# ArmenianWP\n",
        "# !wget https://heibox.uni-heidelberg.de/f/206d85a0270943e4b87b/?dl=1\n",
        "# renaming file\n",
        "# !mv index.html?dl=1 WPhy_vert.txt\n",
        "\n",
        "# Constitution Republic of Armenia\n",
        "# !wget https://heibox.uni-heidelberg.de/f/bf54977b17604ec592cd/?dl=1\n",
        "# renaming file\n",
        "# !mv index.html?dl=1 Const_RA_l.txt\n",
        "\n",
        "# Grundgesetz\n",
        "# !wget https://heibox.uni-heidelberg.de/f/d6c5b31edc84422d9e14/?dl=1\n",
        "# renaming file\n",
        "# !mv index.html?dl=1 GG_l.txt\n",
        "\n",
        "# Origin of the species\n",
        "# !wget https://heibox.uni-heidelberg.de/f/befc6dbe718b4a37ba74/?dl=1\n",
        "# renaming file\n",
        "# !mv index.html?dl=1 OOOS_l.txt\n",
        "\n",
        "# Europarl DE\n",
        "# !wget https://heibox.uni-heidelberg.de/f/3ba6122e744e4b7f9c14/?dl=1\n",
        "# renaming file\n",
        "# !mv index.html?dl=1 EP_DE_l.txt\n",
        "\n",
        "# 23.10.2021 part\n",
        "# German legal corpus, lemmatized in a zip archive\n",
        "!wget https://heibox.uni-heidelberg.de/f/fd96c36723b741d4a972/?dl=1\n",
        "# renaming file\n",
        "!mv index.html?dl=1 BGH-utf8-lem.zip\n"
      ],
      "execution_count": 2,
      "outputs": [
        {
          "output_type": "stream",
          "name": "stdout",
          "text": [
            "--2021-10-23 08:40:33--  https://heibox.uni-heidelberg.de/f/fd96c36723b741d4a972/?dl=1\n",
            "Resolving heibox.uni-heidelberg.de (heibox.uni-heidelberg.de)... 129.206.7.113\n",
            "Connecting to heibox.uni-heidelberg.de (heibox.uni-heidelberg.de)|129.206.7.113|:443... connected.\n",
            "HTTP request sent, awaiting response... 302 Found\n",
            "Location: https://heibox.uni-heidelberg.de/seafhttp/files/a14a49ba-c6bb-489e-8873-60d9d50dbbc9/output-utf8-lem.zip [following]\n",
            "--2021-10-23 08:40:34--  https://heibox.uni-heidelberg.de/seafhttp/files/a14a49ba-c6bb-489e-8873-60d9d50dbbc9/output-utf8-lem.zip\n",
            "Reusing existing connection to heibox.uni-heidelberg.de:443.\n",
            "HTTP request sent, awaiting response... 200 OK\n",
            "Length: 673144348 (642M) [application/zip]\n",
            "Saving to: ‘index.html?dl=1’\n",
            "\n",
            "index.html?dl=1     100%[===================>] 641.96M  14.9MB/s    in 43s     \n",
            "\n",
            "2021-10-23 08:41:17 (14.9 MB/s) - ‘index.html?dl=1’ saved [673144348/673144348]\n",
            "\n"
          ]
        }
      ]
    },
    {
      "cell_type": "code",
      "metadata": {
        "colab": {
          "base_uri": "https://localhost:8080/"
        },
        "id": "OAvDk1BRQtsZ",
        "outputId": "0e4dc837-d30f-461c-d1df-43556faa882c"
      },
      "source": [
        "!unzip BGH-utf8-lem.zip\n",
        "!rm BGH-utf8-lem.zip"
      ],
      "execution_count": 3,
      "outputs": [
        {
          "output_type": "stream",
          "name": "stdout",
          "text": [
            "Archive:  BGH-utf8-lem.zip\n",
            "  inflating: output-utf8-lem.txt     \n"
          ]
        }
      ]
    },
    {
      "cell_type": "code",
      "metadata": {
        "id": "J_OKgqfNRmQO"
      },
      "source": [
        "!mv output-utf8-lem.txt BGHlem.txt"
      ],
      "execution_count": 4,
      "outputs": []
    },
    {
      "cell_type": "code",
      "metadata": {
        "id": "koQG-wAsR0rQ"
      },
      "source": [
        "!head --lines=100000 BGHlem.txt >BGHlem1k.txt"
      ],
      "execution_count": 5,
      "outputs": []
    },
    {
      "cell_type": "code",
      "metadata": {
        "colab": {
          "base_uri": "https://localhost:8080/"
        },
        "id": "oMF8TyfHjmAy",
        "outputId": "469f102c-f319-452a-a9ee-06971d79ffb6"
      },
      "source": [
        "# debugging and explaining the algorithm for Stage 1:\n",
        "LLCandidates = []\n",
        "LWords = ['Revisionsverfahren', 'entstanden', 'notwendig', 'Auslage']\n",
        "for klen in range(len(LWords)): # lengths of candidate lists\n",
        "    klength = klen+1 # true length: for 0 it is le = 1\n",
        "    print(f'klen:{klength};')\n",
        "    for i in range(len(LWords) - klen): # positions where candidates start\n",
        "        print(f'i:{i};')\n",
        "        LCandidate = LWords[i:i+klength]\n",
        "        LLCandidates.append(LCandidate)\n",
        "        print(LCandidate)\n",
        "\n",
        "        # print(LWords[i])\n",
        "\n",
        "for LEl in LLCandidates:\n",
        "    # for el in LEl:\n",
        "    print(LEl)"
      ],
      "execution_count": 6,
      "outputs": [
        {
          "output_type": "stream",
          "name": "stdout",
          "text": [
            "klen:1;\n",
            "i:0;\n",
            "['Revisionsverfahren']\n",
            "i:1;\n",
            "['entstanden']\n",
            "i:2;\n",
            "['notwendig']\n",
            "i:3;\n",
            "['Auslage']\n",
            "klen:2;\n",
            "i:0;\n",
            "['Revisionsverfahren', 'entstanden']\n",
            "i:1;\n",
            "['entstanden', 'notwendig']\n",
            "i:2;\n",
            "['notwendig', 'Auslage']\n",
            "klen:3;\n",
            "i:0;\n",
            "['Revisionsverfahren', 'entstanden', 'notwendig']\n",
            "i:1;\n",
            "['entstanden', 'notwendig', 'Auslage']\n",
            "klen:4;\n",
            "i:0;\n",
            "['Revisionsverfahren', 'entstanden', 'notwendig', 'Auslage']\n",
            "['Revisionsverfahren']\n",
            "['entstanden']\n",
            "['notwendig']\n",
            "['Auslage']\n",
            "['Revisionsverfahren', 'entstanden']\n",
            "['entstanden', 'notwendig']\n",
            "['notwendig', 'Auslage']\n",
            "['Revisionsverfahren', 'entstanden', 'notwendig']\n",
            "['entstanden', 'notwendig', 'Auslage']\n",
            "['Revisionsverfahren', 'entstanden', 'notwendig', 'Auslage']\n"
          ]
        }
      ]
    },
    {
      "cell_type": "code",
      "metadata": {
        "id": "UeamIEr15Lev"
      },
      "source": [
        "#Terminologieextraktion\n",
        "import os, re, sys\n",
        "class clProcCorpus(object):\n",
        "    ''' we will read a text file and return a dictionary\n",
        "    this will be done on the line by line basis\n",
        "    The dictionary can be sorted later...\n",
        "    '''\n",
        "    # this is a class for processing a corpus\n",
        "\n",
        "    def __init__(self, FileIN):\n",
        "        self.DictFrq = {}\n",
        "        self.processCorpus(FileIN)\n",
        "\n",
        "\n",
        "    def procCorpSelectField4FrqDic(self, IFieldNumber, L2PossibleTerm):\n",
        "        '''\n",
        "        this functions takes a 2D list and returns a string which represents the term -- either as inflected words or lemmas\n",
        "        '''\n",
        "        LSelectedField = []\n",
        "        for LFields in L2PossibleTerm:\n",
        "            LSelectedField.append(LFields[IFieldNumber])\n",
        "        \n",
        "        SSelectedField = ' '.join(LSelectedField)\n",
        "        return SSelectedField\n",
        "\n",
        "        \n",
        "\n",
        "\n",
        "    def processCorpus(self, FileIN):\n",
        "        # here we consider a larger MWE, which has been collected, e.g., \n",
        "        # Wahl Schluckebier Nachschlagewerk;\n",
        "        # graphical user interface\n",
        "        # in the default version only the longest string is preserved;\n",
        "        # we try to split it into meaningful smaller units and preserve them as well:\n",
        "        # Wahl Schluckebier\n",
        "        # graphical user ; user interface ; interface\n",
        "        # PoS restrictions apply: \n",
        "        # - Adj cannot be at the end; function words (Prepositions, articles, etc.) cannot be on either edge.\n",
        "        # so we keep the list of tuples: and extract smaller MWEs from the larger strings using PoS restrictions\n",
        "\n",
        "\n",
        "        INGram = 2 ## -- homework: n-gram size\n",
        "        # collecting the longest string\n",
        "        LLTerm = [] # this is the List of Lists: list of words (with their fields), representing a sequence of allowed PoS codes\n",
        "        for Line in FileIN:\n",
        "            Line = Line.strip()\n",
        "            LLine = re.split('\\t', Line)\n",
        "            \n",
        "            try:\n",
        "                Word = LLine[0]\n",
        "                PoS = LLine[1]\n",
        "                Lemma = LLine[2]\n",
        "            except:\n",
        "                Word = \"\"\n",
        "                PoS = \"\"\n",
        "                Lemma = \"\"\n",
        "            \n",
        "            #Select the Tags for your langauge\n",
        "            # update: this is now done in two stages: \n",
        "            # Stage 1: a set of any PoS codes which may contain candidates\n",
        "            # Stage 2: restrictions on sequences (e.g., what is not allowed at the end, start...)\n",
        "            # \n",
        "            # CHANGE HERE FOR YOUR LANGUAGE: stage 1\n",
        "            #if re.match('N.*', PoS) or re.match('A.*', PoS): #Arm\n",
        "            #if re.match('N.*', PoS) or re.match('J.*', PoS): #EN\n",
        "            if re.match('N.*', PoS) or re.match('ADJ.*', PoS): #DE\n",
        "                LLTerm.append(LLine) # all the field as a list, to form the list of lists\n",
        "\n",
        "                # Terms as Words or Lemmas -- MOVED TO Stage 2\n",
        "                # to compare with the gold standard do we need words, or do we need to generate words from lemas?\n",
        "                # LTerm.append(Lemma)\n",
        "                # here we keep all the fields, because sub-sections of the longer MWE would also be analysed using PoS codes\n",
        "\n",
        "            else: # end of the 'candidate collection'\n",
        "                ### changed to an algorithm based on the data format: list of lists\n",
        "\n",
        "                # Stage 1: we generate candidate sub-n-grams using the longest allowed sequence, starting from single words to the longest one (the whole sequence)\n",
        "                L3Candidates = [] # this will be the list of all MWE candidates (sub-sequences)\n",
        "                IMaxMWE = len(LLTerm) # this is the longest MWE we can get from LLTerm: the length of the whole sequence\n",
        "                for klen in range(IMaxMWE): # lengths of candidate lists: starting from 0 till, but not including the max length\n",
        "                    klength = klen+1 # converting to true length: from length 1 till, and including the max length (we need this for slicing)\n",
        "                    # print(f'klen:{klength};')\n",
        "                    for i in range(IMaxMWE - klen): # positions where candidates start: position is from 0... up to (depending on length)\n",
        "                        # print(f'i:{i};')\n",
        "                        L2Candidate = LLTerm[i:i+klength] # L2 stands fro 'list of lists' (because we preserve 'word', 'lemma', 'pos' as a list for each item)\n",
        "                        L3Candidates.append(L2Candidate) # L3 is 'list of lists of lists' (here we collect all candidate sub-sequences from the longest L2 sequence)\n",
        "\n",
        "                # Stage 2: filtering by part-of-speech configurations: what is impossible, e.g., Adjectives can only appear in the beginning!\n",
        "                # CHANGE HERE FOR YOUR LANGUAGE: stage 2\n",
        "                L3PossibleTerms = [] # filtered lists of terms\n",
        "                for L2Candidate in L3Candidates: # for each candidate configuration\n",
        "                    # e.g., if Adj is the last element (at the end) -- do not add\n",
        "                    # ADD MORE CONFIGURATIONS, eg, Gen case articles, prepositions\n",
        "                    FileDebug.write(str(L2Candidate) + '\\n') # TEMPORARY -  DEBUGGING\n",
        "                    # Word = L2Candidate[WNumber][0]; PoS = L2Candidate[WNumber][1]; Lemma = L2Candidate[WNumber][2]\n",
        "                    # CONF 1: remove adjectives at the end: ListOfFields4LastWord = L2Candidate[-1] \n",
        "                    if re.match('ADJ.*', L2Candidate[-1][1]): \n",
        "                        FileDebug.write('\\t Removed:' + str(L2Candidate) + '\\n')\n",
        "                        continue\n",
        "                    # ADD MORE CONFIGURATIONS HERE, e.g, Gen. case articles...\n",
        "                    else: # when all filters passed -- add all fields; frq list of terms will be represented by the Word or Lemma field in the end\n",
        "                        L3PossibleTerms.append(L2Candidate)\n",
        "                # here we have L3PossibleTerms ready; con\n",
        "                FileDebug.write('-\\n')\n",
        "\n",
        "                # \n",
        "                SSelectedField = self.procCorpSelectField4FrqDic(self, IFieldNumber, L2PossibleTerm)\n",
        "\n",
        "\n",
        "\n",
        "                ####\n",
        "                # -- homework goes here -- \n",
        "                # -- break longer MWE into MWEs of size INGram\n",
        "                '''\n",
        "                for i in range(len(LTerm) - INGram):\n",
        "                    # if i+i+INGram > len(LTerm): break\n",
        "                    try: LWordsMWE = LTerm[i:i+INGram]\n",
        "                    except: LWordsMWE = []\n",
        "                    if LWordsMWE:\n",
        "                        SWordsMWE = ' '.join(LWordsMWE)\n",
        "                        # testing effectiveness:\n",
        "                        # SWordsMWE += ' ~~'\n",
        "                        try:\n",
        "                            self.DictFrq[SWordsMWE] += 1\n",
        "                        except:\n",
        "                            self.DictFrq[SWordsMWE] = 1                        \n",
        "                '''\n",
        "                # avoiding adding repeated sequences into dictionary:\n",
        "\n",
        "                # -- end: homework\n",
        "                # if we still need longer MWEs: (if not , just put ''' ''' around this block up to self.DictFrq[STerm] = 1)\n",
        "                # if len(LTerm) != INGram:  \n",
        "\n",
        "                ## -- this is going to be replaced; correct field identified...             \n",
        "                ## STerm = ' '.join(LTerm)\n",
        "                LLTerm = [] # now we clear the list represening allowed PoS sequence, and start over again (we are in the else, we encountered end of allowed PoS codes)\n",
        "\n",
        "                try:\n",
        "                    # self.DictFrq[STerm] += 1\n",
        "                    self.DictFrq[str(LLTerm)] += 1\n",
        "                except:\n",
        "                    # self.DictFrq[STerm] = 1\n",
        "                    self.DictFrq[str(LLTerm)] = 1       \n",
        "                \n",
        "        return\n",
        "\n"
      ],
      "execution_count": 7,
      "outputs": []
    },
    {
      "cell_type": "code",
      "metadata": {
        "id": "qnxocDPBMHcL"
      },
      "source": [
        "FileDebug = open('BGH_debug.txt', 'w')\n",
        "# FileIN = open('BGHlem.txt', 'r')\n",
        "FileIN = open('BGHlem1k.txt', 'r')\n",
        "\n",
        "FileOut1w = open('BGH_term1w.txt', 'w')\n",
        "FileOutMWE = open('BGH_termMWE.txt', 'w')"
      ],
      "execution_count": 8,
      "outputs": []
    },
    {
      "cell_type": "code",
      "metadata": {
        "id": "PY0xMY9SMSEE"
      },
      "source": [
        "# save the frequency dictionary into file, by decreasing frequencies\n",
        "# FileOutput.write( str( DictionaryFrq ) + '\\n' )\n",
        "\n",
        "OCorpus = clProcCorpus(FileIN)\n",
        "DictionaryFrq = OCorpus.DictFrq\n",
        "\n",
        "\n",
        "for Word, Frq in sorted( DictionaryFrq.items() , key=lambda x: x[1], reverse=True):\n",
        "    if re.search(' ', Word):\n",
        "        FileOutMWE.write(Word + '\\t' + str(Frq) + '\\n')\n",
        "    else:\n",
        "        FileOut1w.write(Word + '\\t' + str(Frq) + '\\n')"
      ],
      "execution_count": 9,
      "outputs": []
    },
    {
      "cell_type": "code",
      "metadata": {
        "id": "SUPLnj8E5byZ"
      },
      "source": [
        ""
      ],
      "execution_count": null,
      "outputs": []
    }
  ]
}