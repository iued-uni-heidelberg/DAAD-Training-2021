{
  "nbformat": 4,
  "nbformat_minor": 0,
  "metadata": {
    "colab": {
      "name": "session00introduction.ipynb",
      "provenance": [],
      "authorship_tag": "ABX9TyMxxlOahzQ31ATJhGz0l2Pn",
      "include_colab_link": true
    },
    "kernelspec": {
      "name": "python3",
      "display_name": "Python 3"
    },
    "language_info": {
      "name": "python"
    }
  },
  "cells": [
    {
      "cell_type": "markdown",
      "metadata": {
        "id": "view-in-github",
        "colab_type": "text"
      },
      "source": [
        "<a href=\"https://colab.research.google.com/github/iued-uni-heidelberg/DAAD-Training-2021/blob/main/session00introduction.ipynb\" target=\"_parent\"><img src=\"https://colab.research.google.com/assets/colab-badge.svg\" alt=\"Open In Colab\"/></a>"
      ]
    },
    {
      "cell_type": "markdown",
      "metadata": {
        "id": "vdVOtsDlWDWX"
      },
      "source": [
        "# Navigating Google Colab notebooks: \n",
        "\n",
        "1. You can click the folder icon on the left to **see/upload/download files**\n",
        "2. There are two types of cells: **code and text**. \n",
        "3. You can **edit/change/update** any cell by clicking on it (the code runs in your own personal account on Google cloud, other participants work in their own spaces with the same downloaded code)\n",
        "4. You can **download/save a copy of your Notebook** or the Python file to your local computer or your Google Drive via the *File* menu\n",
        "5. To **run a code cell**, you can either click on the “run” icon to the left; or press *Ctr+Enter*\n",
        "6. To add a new code/text cell below the current cell, click on *+Text* or *+Code* buttons;\n",
        "7. To **convert between code and text**: \n",
        "- *“Control_m m”* will convert a code cell to a text cell. \n",
        "- *“Control_m y”* will convert a text cell to a code cell.\n",
        "8. Under *“Runtime > Change runtime type”* you can request a **CPU-only, or GPU or a TPU environment** (depending on the code you run: some Machine Learning packages require GPU for faster processing).\n",
        "9. The *Python notebook* is opened by default. **To create an *R notebook***, run https://colab.research.google.com/#create=true&language=r or https://colab.to/r ; you can check that you run R in *“Runtime > Change Runtime type”* (R or Python3 will the the choices); GPU and TPU will be available for R notebooks as well.\n",
        "10. Saving your work: go to *\"File > Save a copy in Drive\"*\n",
        "- For the excercises please run each cell in the order how they appear. \n",
        "- Some cells (for training neural networks or downloading large models) will run for about 10-15 min -- just grab a cup of coffee!\n",
        "- Experiment with your own examples\n",
        "- The environment will clear when you leave the Colab space, please make sure you save your changes on the Google Drive\n",
        "\n",
        "Handount: https://docs.google.com/document/d/1S2fPnFuv5tbLWsS2Wsr8HeZ9CUQZR4100npmSRXuip0/edit?usp=sharing\n",
        "\n"
      ]
    },
    {
      "cell_type": "code",
      "metadata": {
        "id": "Y3ESYeTTldEK"
      },
      "source": [
        ""
      ],
      "execution_count": null,
      "outputs": []
    },
    {
      "cell_type": "markdown",
      "metadata": {
        "id": "7aynNt2Gjjfl"
      },
      "source": [
        "## Try it out: convert this section to code and run it. It should print a message\n",
        "\n",
        "my_name = 'First Last'\n",
        "\n",
        "print(f'Hello from {my_name}!\\n')"
      ]
    },
    {
      "cell_type": "code",
      "metadata": {
        "id": "OtWZ1FuvlfLk"
      },
      "source": [
        ""
      ],
      "execution_count": null,
      "outputs": []
    },
    {
      "cell_type": "markdown",
      "metadata": {
        "id": "A04lacMKrNJe"
      },
      "source": [
        "# Downloading / uploading a text corpus\n",
        "\n",
        "## George Orwell, 1984 novel: \n",
        "https://heibox.uni-heidelberg.de/d/d65daff8341e467c82b1/\n",
        "\n",
        "(texts in en, de, fr, es, it. You can search for a freely-available text in your own language).\n",
        "\n",
        "## Wikipedia corpus\n",
        "This site contains plain text versions of the Wikipedia:\n",
        "https://lindat.mff.cuni.cz/repository/xmlui/handle/11234/1-2735#\n",
        "\n",
        "You can download the version for your favourite language(s).\n",
        "\n",
        "1. Download the \"1984\" novel into your local drive\n",
        "2. Upload it onto the Colab file system:\n",
        "- *Files* button to the left \n",
        "- *Upload to Session storage* button\n",
        "3. Examine the file on Colab\n",
        "4. Write a command to download it onto your system automatically: tip -- google \"wget\" and use it in Colab\n",
        "\n"
      ]
    },
    {
      "cell_type": "code",
      "metadata": {
        "id": "OXKKCk4ow8fQ"
      },
      "source": [
        "# example for downloading files for different languages, e.g., German file in  from the https://heibox.uni-heidelberg.de/f/ea06aa47fe2d49959a62/\n",
        "# remove / insert comments to choose the language you want to work with\n",
        "\n",
        "# German\n",
        "# !wget https://heibox.uni-heidelberg.de/f/ea06aa47fe2d49959a62/\n",
        "# !wget https://heibox.uni-heidelberg.de/f/ea06aa47fe2d49959a62/?dl=1\n",
        "\n",
        "# Armenian\n",
        "# !wget https://heibox.uni-heidelberg.de/f/3255f672ff7b4190828a/?dl=1\n",
        "\n",
        "# Georgian\n",
        "# !wget https://heibox.uni-heidelberg.de/f/318b32556cdc44d38238/?dl=1\n",
        "\n",
        "# French\n",
        "# !wget https://heibox.uni-heidelberg.de/f/b0cc03fbdb6248cab544/?dl=1\n",
        "\n",
        "# Spanish\n",
        "# !wget https://heibox.uni-heidelberg.de/f/585ee5e9eb3548219c34/?dl=1\n",
        "\n",
        "# Italian\n",
        "# !wget https://heibox.uni-heidelberg.de/f/fe1ae20b08b240f3a4f0/?dl=1\n",
        "\n",
        "# English\n",
        "!wget https://heibox.uni-heidelberg.de/f/00ee04d9b9544c298be7/?dl=1\n",
        "\n",
        "# renaming file\n",
        "!mv index.html?dl=1 go1984.txt"
      ],
      "execution_count": null,
      "outputs": []
    },
    {
      "cell_type": "code",
      "metadata": {
        "id": "0eTKnjyU14fA"
      },
      "source": [
        ""
      ],
      "execution_count": null,
      "outputs": []
    },
    {
      "cell_type": "markdown",
      "metadata": {
        "id": "Uvrk6kE614_F"
      },
      "source": [
        "Now let's make a frequency dictionary from our file!"
      ]
    },
    {
      "cell_type": "code",
      "metadata": {
        "id": "5yxPWqXa255z"
      },
      "source": [
        "# step 1: importing standard Python libraries\n",
        "import sys, re, os"
      ],
      "execution_count": null,
      "outputs": []
    },
    {
      "cell_type": "code",
      "metadata": {
        "id": "nfoF_uI-2_cC"
      },
      "source": [
        "# step 2: open your file for reading (change the name of the file for a different language / corpus)\n",
        "# FileInput = open(\"go1984en.txt\",'r')\n",
        "FileInput = open(\"go1984.txt\",'r')\n",
        "# open another file for writing (our output file)\n",
        "FileOutput = open (\"go1984en-frq.txt\", 'w')"
      ],
      "execution_count": null,
      "outputs": []
    },
    {
      "cell_type": "code",
      "metadata": {
        "id": "acgrQq9P3tXw"
      },
      "source": [
        "# step 3: create an empty frequency dictionary: words will be 'keys', frequencies will be 'values'\n",
        "DictionaryFrq = {}"
      ],
      "execution_count": null,
      "outputs": []
    },
    {
      "cell_type": "code",
      "metadata": {
        "id": "k0p9QF4x39p-"
      },
      "source": [
        "# step 4: read each line, clean it up, split it into words and count unique words:\n",
        "\n",
        "for Line in FileInput:\n",
        "    Line = re.sub('<.*?>', '', Line) # remove html/xml tags\n",
        "    Line = Line.lower() # convert to lower case\n",
        "    Line = Line.strip() # remove leading and final white spaces\n",
        "    ListOfWords = re.split('[ ,\\.:;\\!\\(\\)\\\"\\[\\]]+', Line) # tokenize: split on white spaces and punctuation\n",
        "    # sys.stdout.write( str( ListOfWords ) + '\\n' )\n",
        "\n",
        "    # If word exists, add 1 to its existing frequency; if it doesn't, then set frequency to 1\n",
        "    # { word1 : 4 , word2 : 4, word3 : 2 }\n",
        "    for Word in ListOfWords:\n",
        "        try:\n",
        "            DictionaryFrq[Word] += 1\n",
        "        except:\n",
        "            DictionaryFrq[Word] = 1"
      ],
      "execution_count": null,
      "outputs": []
    },
    {
      "cell_type": "code",
      "metadata": {
        "id": "YuoVg7eB4y8I"
      },
      "source": [
        "# step 5: save the frequency dictionary into file, by decreasing frequencies\n",
        "# FileOutput.write( str( DictionaryFrq ) + '\\n' )\n",
        "for Word, Frq in sorted( DictionaryFrq.items() , key=lambda x: x[1], reverse=True) :\n",
        "    FileOutput.write(Word + '\\t' + str(Frq) + '\\n')"
      ],
      "execution_count": null,
      "outputs": []
    },
    {
      "cell_type": "code",
      "metadata": {
        "id": "UeamIEr15Lev"
      },
      "source": [
        ""
      ],
      "execution_count": null,
      "outputs": []
    },
    {
      "cell_type": "markdown",
      "metadata": {
        "id": "oYKESFuT5L9L"
      },
      "source": [
        "## Tasks\n",
        "1. Examine the frequencies file; \n",
        "2. download it onto your local machine; \n",
        "3. Change the programme to create a frequency dictionary from another file / corpus / language\n",
        "4. Change the programme to preserve lower/upper-case letters; \n",
        "5. Run it again and compare the results (save the results in another file).\n"
      ]
    },
    {
      "cell_type": "code",
      "metadata": {
        "id": "SUPLnj8E5byZ"
      },
      "source": [
        ""
      ],
      "execution_count": null,
      "outputs": []
    }
  ]
}