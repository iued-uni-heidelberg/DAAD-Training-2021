{
  "nbformat": 4,
  "nbformat_minor": 0,
  "metadata": {
    "colab": {
      "name": "session00introduction.ipynb",
      "provenance": [],
      "authorship_tag": "ABX9TyPpHM2C34PIrkSvsL3nCeLs",
      "include_colab_link": true
    },
    "kernelspec": {
      "name": "python3",
      "display_name": "Python 3"
    },
    "language_info": {
      "name": "python"
    }
  },
  "cells": [
    {
      "cell_type": "markdown",
      "metadata": {
        "id": "view-in-github",
        "colab_type": "text"
      },
      "source": [
        "<a href=\"https://colab.research.google.com/github/iued-uni-heidelberg/DAAD-Training-2021/blob/main/session00introduction.ipynb\" target=\"_parent\"><img src=\"https://colab.research.google.com/assets/colab-badge.svg\" alt=\"Open In Colab\"/></a>"
      ]
    },
    {
      "cell_type": "markdown",
      "metadata": {
        "id": "vdVOtsDlWDWX"
      },
      "source": [
        "# Navigating Google Colab notebooks: \n",
        "\n",
        "1. You can click the folder icon on the left to **see/upload/download files**\n",
        "2. There are two types of cells: **code and text**. \n",
        "3. You can **edit/change/update** any cell by clicking on it (the code runs in your own personal account on Google cloud, other participants work in their own spaces with the same downloaded code)\n",
        "4. You can **download/save a copy of your Notebook** or the Python file to your local computer or your Google Drive via the *File* menu\n",
        "5. To **run a code cell**, you can either click on the “run” icon to the left; or press *Ctr+Enter*\n",
        "6. To add a new code/text cell below the current cell, click on *+Text* or *+Code* buttons;\n",
        "7. To **convert between code and text**: \n",
        "- *“Control_m m”* will convert a code cell to a text cell. \n",
        "- *“Control_m y”* will convert a text cell to a code cell.\n",
        "8. Under *“Runtime > Change runtime type”* you can request a **CPU-only, or GPU or a TPU environment** (depending on the code you run: some Machine Learning packages require GPU for faster processing).\n",
        "9. The *Python notebook* is opened by default. **To create an *R notebook***, run https://colab.research.google.com/#create=true&language=r or https://colab.to/r ; you can check that you run R in *“Runtime > Change Runtime type”* (R or Python3 will the the choices); GPU and TPU will be available for R notebooks as well.\n",
        "10. Saving your work: go to *\"File > Save a copy in Drive\"*\n",
        "- For the excercises please run each cell in the order how they appear. \n",
        "- Some cells (for training neural networks or downloading large models) will run for about 10-15 min -- just grab a cup of coffee!\n",
        "- Experiment with your own examples\n",
        "- The environment will clear when you leave the Colab space, please make sure you save your changes on the Google Drive\n",
        "\n",
        "Handount: https://docs.google.com/document/d/1S2fPnFuv5tbLWsS2Wsr8HeZ9CUQZR4100npmSRXuip0/edit?usp=sharing\n",
        "\n"
      ]
    },
    {
      "cell_type": "code",
      "metadata": {
        "id": "Y3ESYeTTldEK"
      },
      "source": [
        ""
      ],
      "execution_count": null,
      "outputs": []
    },
    {
      "cell_type": "markdown",
      "metadata": {
        "id": "7aynNt2Gjjfl"
      },
      "source": [
        "## Try it out: convert this section to code and run it. It should print a message\n",
        "\n",
        "my_name = 'First Last'\n",
        "\n",
        "print(f'Hello from {my_name}!\\n')"
      ]
    },
    {
      "cell_type": "code",
      "metadata": {
        "id": "OtWZ1FuvlfLk"
      },
      "source": [
        ""
      ],
      "execution_count": null,
      "outputs": []
    },
    {
      "cell_type": "markdown",
      "metadata": {
        "id": "A04lacMKrNJe"
      },
      "source": [
        "# Downloading / uploading a text corpus\n",
        "\n",
        "## George Orwell, 1984 novel: \n",
        "https://heibox.uni-heidelberg.de/d/d65daff8341e467c82b1/\n",
        "\n",
        "(texts in en, de, fr, es, it. You can search for a freely-available text in your own language).\n",
        "\n",
        "## Wikipedia corpus\n",
        "This site contains plain text versions of the Wikipedia:\n",
        "https://lindat.mff.cuni.cz/repository/xmlui/handle/11234/1-2735#\n",
        "\n",
        "You can download the version for your favourite language(s).\n",
        "\n",
        "1. Download the \"1984\" novel into your local drive\n",
        "2. Upload it onto the Colab file system:\n",
        "- *Files* button to the left \n",
        "- *Upload to Session storage* button\n",
        "3. Examine the file on Colab\n",
        "4. Write a command to download it onto your system automatically: tip -- google \"wget\" and use it in Colab\n",
        "\n"
      ]
    },
    {
      "cell_type": "code",
      "metadata": {
        "id": "OXKKCk4ow8fQ",
        "colab": {
          "base_uri": "https://localhost:8080/"
        },
        "outputId": "2ed94cd9-793e-4886-91b8-6f5bbbcfe855"
      },
      "source": [
        "# example for downloading files for different languages, e.g., German file in  from the https://heibox.uni-heidelberg.de/f/ea06aa47fe2d49959a62/\n",
        "# remove / insert comments to choose the language you want to work with\n",
        "\n",
        "# German\n",
        "# !wget https://heibox.uni-heidelberg.de/f/ea06aa47fe2d49959a62/\n",
        "# !wget https://heibox.uni-heidelberg.de/f/ea06aa47fe2d49959a62/?dl=1\n",
        "\n",
        "# Armenian\n",
        "# !wget https://heibox.uni-heidelberg.de/f/3255f672ff7b4190828a/?dl=1\n",
        "\n",
        "# Georgian\n",
        "!wget https://heibox.uni-heidelberg.de/f/318b32556cdc44d38238/?dl=1\n",
        "\n",
        "# French\n",
        "# !wget https://heibox.uni-heidelberg.de/f/b0cc03fbdb6248cab544/?dl=1\n",
        "\n",
        "# Spanish\n",
        "# !wget https://heibox.uni-heidelberg.de/f/585ee5e9eb3548219c34/?dl=1\n",
        "\n",
        "# Italian\n",
        "# !wget https://heibox.uni-heidelberg.de/f/fe1ae20b08b240f3a4f0/?dl=1\n",
        "\n",
        "# English\n",
        "# !wget https://heibox.uni-heidelberg.de/f/00ee04d9b9544c298be7/?dl=1\n",
        "\n",
        "# renaming file\n",
        "!mv index.html?dl=1 go1984.txt"
      ],
      "execution_count": 67,
      "outputs": [
        {
          "output_type": "stream",
          "name": "stdout",
          "text": [
            "--2021-08-31 20:50:37--  https://heibox.uni-heidelberg.de/f/318b32556cdc44d38238/?dl=1\n",
            "Resolving heibox.uni-heidelberg.de (heibox.uni-heidelberg.de)... 129.206.7.113\n",
            "Connecting to heibox.uni-heidelberg.de (heibox.uni-heidelberg.de)|129.206.7.113|:443... connected.\n",
            "HTTP request sent, awaiting response... 302 Found\n",
            "Location: https://heibox.uni-heidelberg.de/seafhttp/files/08dab047-862f-4cb0-8972-72ebfc0d746c/go1984ka.txt [following]\n",
            "--2021-08-31 20:50:37--  https://heibox.uni-heidelberg.de/seafhttp/files/08dab047-862f-4cb0-8972-72ebfc0d746c/go1984ka.txt\n",
            "Reusing existing connection to heibox.uni-heidelberg.de:443.\n",
            "HTTP request sent, awaiting response... 200 OK\n",
            "Length: 1445762 (1.4M) [text/plain]\n",
            "Saving to: ‘index.html?dl=1’\n",
            "\n",
            "index.html?dl=1     100%[===================>]   1.38M  1.25MB/s    in 1.1s    \n",
            "\n",
            "2021-08-31 20:50:39 (1.25 MB/s) - ‘index.html?dl=1’ saved [1445762/1445762]\n",
            "\n"
          ]
        }
      ]
    },
    {
      "cell_type": "code",
      "metadata": {
        "id": "0eTKnjyU14fA"
      },
      "source": [
        ""
      ],
      "execution_count": null,
      "outputs": []
    },
    {
      "cell_type": "markdown",
      "metadata": {
        "id": "Uvrk6kE614_F"
      },
      "source": [
        "Now let's make a frequency dictionary from our file!"
      ]
    },
    {
      "cell_type": "code",
      "metadata": {
        "id": "5yxPWqXa255z"
      },
      "source": [
        "# step 1: importing standard Python libraries\n",
        "import sys, re, os\n",
        "import scipy.stats as ss\n",
        "import matplotlib.pyplot as plt\n",
        "import math\n",
        "import csv"
      ],
      "execution_count": 77,
      "outputs": []
    },
    {
      "cell_type": "code",
      "metadata": {
        "id": "nfoF_uI-2_cC"
      },
      "source": [
        "# step 2: open your file for reading (change the name of the file for a different language / corpus)\n",
        "# FileInput = open(\"go1984en.txt\",'r')\n",
        "FileInput = open(\"go1984.txt\",'r')\n",
        "# open another file for writing (our output file)\n",
        "FileOutput = open(\"go1984-frq.txt\", 'w')"
      ],
      "execution_count": 70,
      "outputs": []
    },
    {
      "cell_type": "code",
      "metadata": {
        "id": "acgrQq9P3tXw"
      },
      "source": [
        "# step 3: create an empty frequency dictionary: words will be 'keys', frequencies will be 'values'\n",
        "DictionaryFrq = {}"
      ],
      "execution_count": 71,
      "outputs": []
    },
    {
      "cell_type": "code",
      "metadata": {
        "id": "k0p9QF4x39p-"
      },
      "source": [
        "# step 4: read each line, clean it up, split it into words and count unique words:\n",
        "\n",
        "for Line in FileInput:\n",
        "    Line = re.sub('<.*?>', '', Line) # remove html/xml tags\n",
        "    Line = Line.lower() # convert to lower case\n",
        "    Line = Line.strip() # remove leading and final white spaces\n",
        "    ListOfWords = re.split('[ ,\\.:;\\!\\(\\)\\\"\\[\\]]+', Line) # tokenize: split on white spaces and punctuation\n",
        "    # sys.stdout.write( str( ListOfWords ) + '\\n' )\n",
        "\n",
        "    # If word exists, add 1 to its existing frequency; if it doesn't, then set frequency to 1\n",
        "    # { word1 : 4 , word2 : 4, word3 : 2 }\n",
        "    for Word in ListOfWords:\n",
        "        if Word:\n",
        "            try:\n",
        "                DictionaryFrq[Word] += 1\n",
        "            except:\n",
        "                DictionaryFrq[Word] = 1"
      ],
      "execution_count": 72,
      "outputs": []
    },
    {
      "cell_type": "code",
      "metadata": {
        "id": "YuoVg7eB4y8I"
      },
      "source": [
        "# step 5: save the frequency dictionary into file, by decreasing frequencies\n",
        "# FileOutput.write( str( DictionaryFrq ) + '\\n' )\n",
        "rank = 0\n",
        "for Word, Frq in sorted( DictionaryFrq.items() , key=lambda x: x[1], reverse=True) :\n",
        "    rank +=1 \n",
        "    coef = rank * Frq\n",
        "    FileOutput.write(str(rank) + '\\t' + Word + '\\t' + str(Frq) + '\\t' + str(coef) + '\\n')"
      ],
      "execution_count": 73,
      "outputs": []
    },
    {
      "cell_type": "code",
      "metadata": {
        "id": "UeamIEr15Lev",
        "colab": {
          "base_uri": "https://localhost:8080/"
        },
        "outputId": "f3c976be-acad-489d-f3d5-9b81a7d0f285"
      },
      "source": [
        "LRanks = []\n",
        "LFrqs = []\n",
        "LCoef = []\n",
        "rank = 0\n",
        "for Word, Frq in sorted(DictionaryFrq.items() , key=lambda x: x[1], reverse=True):\n",
        "    rank +=1\n",
        "    coef = rank * Frq\n",
        "    LRanks.append(rank)\n",
        "    LFrqs.append(Frq)\n",
        "    LCoef.append(coef)\n",
        "\n",
        "print(len(LRanks))\n",
        "print(len(LFrqs))\n",
        "print(len(LCoef))"
      ],
      "execution_count": 74,
      "outputs": [
        {
          "output_type": "stream",
          "name": "stdout",
          "text": [
            "20579\n",
            "20579\n",
            "20579\n"
          ]
        }
      ]
    },
    {
      "cell_type": "markdown",
      "metadata": {
        "id": "oYKESFuT5L9L"
      },
      "source": [
        "## Tasks\n",
        "1. Examine the frequencies file; \n",
        "2. download it onto your local machine; \n",
        "3. Change the programme to create a frequency dictionary from another file / corpus / language\n",
        "4. Change the programme to preserve lower/upper-case letters; how would you print out only words with frequency >1 ?\n",
        "5. Run it again and compare the results (save the results in another file).\n"
      ]
    },
    {
      "cell_type": "markdown",
      "metadata": {
        "id": "IrtSuYu2EDzB"
      },
      "source": [
        "Let's plot rank vs. frequency\n",
        "(cf. our coefficient), scaled by log"
      ]
    },
    {
      "cell_type": "code",
      "metadata": {
        "colab": {
          "base_uri": "https://localhost:8080/",
          "height": 303
        },
        "id": "NJS1iWuy3VB0",
        "outputId": "11d170b8-fe6e-41fd-da76-5807f547bd68"
      },
      "source": [
        "plt.plot([math.log(c) for c in LRanks], [math.log(c) for c in LFrqs], 'ro')\n",
        "plt.plot([math.log(c) for c in LRanks], [math.log(c) for c in LCoef], 'bs')\n",
        "# plt.plot([c for c in LRanks], [c for c in LFrqs], 'bs')\n"
      ],
      "execution_count": 75,
      "outputs": [
        {
          "output_type": "execute_result",
          "data": {
            "text/plain": [
              "[<matplotlib.lines.Line2D at 0x7ffa1f9ff310>]"
            ]
          },
          "metadata": {},
          "execution_count": 75
        },
        {
          "output_type": "display_data",
          "data": {
            "image/png": "[encoded data removed]",
            "text/plain": [
              "<Figure size 432x288 with 1 Axes>"
            ]
          },
          "metadata": {
            "needs_background": "light"
          }
        }
      ]
    },
    {
      "cell_type": "markdown",
      "metadata": {
        "id": "RWHfxDX1CRoU"
      },
      "source": [
        "Now let's compare this to distributions in biological systems:"
      ]
    },
    {
      "cell_type": "code",
      "metadata": {
        "colab": {
          "base_uri": "https://localhost:8080/"
        },
        "id": "eVrjLGG8CPaE",
        "outputId": "6745ed84-75d1-4199-b0e4-1f303d8a58e3"
      },
      "source": [
        "# !wget https://userpage.fu-berlin.de/soga/200/2010_data_sets/students.csv\n",
        "!wget https://heibox.uni-heidelberg.de/f/3feb8aa4b57145d6a6f2/?dl=1\n",
        "!mv index.html?dl=1 students.csv"
      ],
      "execution_count": 83,
      "outputs": [
        {
          "output_type": "stream",
          "name": "stdout",
          "text": [
            "--2021-08-31 21:32:19--  https://heibox.uni-heidelberg.de/f/3feb8aa4b57145d6a6f2/?dl=1\n",
            "Resolving heibox.uni-heidelberg.de (heibox.uni-heidelberg.de)... 129.206.7.113\n",
            "Connecting to heibox.uni-heidelberg.de (heibox.uni-heidelberg.de)|129.206.7.113|:443... connected.\n",
            "HTTP request sent, awaiting response... 302 Found\n",
            "Location: https://heibox.uni-heidelberg.de/seafhttp/files/d58123c6-1f64-4391-a3e6-0411ab9fdd27/students.csv [following]\n",
            "--2021-08-31 21:32:20--  https://heibox.uni-heidelberg.de/seafhttp/files/d58123c6-1f64-4391-a3e6-0411ab9fdd27/students.csv\n",
            "Reusing existing connection to heibox.uni-heidelberg.de:443.\n",
            "HTTP request sent, awaiting response... 200 OK\n",
            "Length: 1085090 (1.0M) [application/octet-stream]\n",
            "Saving to: ‘index.html?dl=1’\n",
            "\n",
            "index.html?dl=1     100%[===================>]   1.03M  1.20MB/s    in 0.9s    \n",
            "\n",
            "2021-08-31 21:32:21 (1.20 MB/s) - ‘index.html?dl=1’ saved [1085090/1085090]\n",
            "\n"
          ]
        }
      ]
    },
    {
      "cell_type": "code",
      "metadata": {
        "id": "SUPLnj8E5byZ",
        "colab": {
          "base_uri": "https://localhost:8080/"
        },
        "outputId": "940506a0-6a2c-4091-9ac1-56a9cf3ac8fb"
      },
      "source": [
        "FileOutputStudents = open('students-frq.txt', 'w')\n",
        "with open(\"students.csv\", 'r') as file:\n",
        "    csv_file = csv.DictReader(file)\n",
        "    c = 0\n",
        "    for row in csv_file:\n",
        "        c+=1\n",
        "        if c>10: break\n",
        "        print(dict(row))\n"
      ],
      "execution_count": 135,
      "outputs": [
        {
          "output_type": "stream",
          "name": "stdout",
          "text": [
            "{'seq': '1', 'stud.id': '833917', 'name': 'Gonzales, Christina', 'gender': 'Female', 'age': '19', 'height': '160', 'weight': '64.8', 'religion': 'Muslim', 'nc.score': '1.91', 'semester': '1st', 'major': 'Political Science', 'minor': 'Social Sciences', 'score1': 'NA', 'score2': 'NA', 'online.tutorial': '0', 'graduated': '0', 'salary': 'NA'}\n",
            "{'seq': '2', 'stud.id': '898539', 'name': \"Lozano, T'Hani\", 'gender': 'Female', 'age': '19', 'height': '172', 'weight': '73', 'religion': 'Other', 'nc.score': '1.56', 'semester': '2nd', 'major': 'Social Sciences', 'minor': 'Mathematics and Statistics', 'score1': 'NA', 'score2': 'NA', 'online.tutorial': '0', 'graduated': '0', 'salary': 'NA'}\n",
            "{'seq': '3', 'stud.id': '379678', 'name': 'Williams, Hanh', 'gender': 'Female', 'age': '22', 'height': '168', 'weight': '70.6', 'religion': 'Protestant', 'nc.score': '1.24', 'semester': '3rd', 'major': 'Social Sciences', 'minor': 'Mathematics and Statistics', 'score1': '45', 'score2': '46', 'online.tutorial': '0', 'graduated': '0', 'salary': 'NA'}\n",
            "{'seq': '4', 'stud.id': '807564', 'name': 'Nem, Denzel', 'gender': 'Male', 'age': '19', 'height': '183', 'weight': '79.7', 'religion': 'Other', 'nc.score': '1.37', 'semester': '2nd', 'major': 'Environmental Sciences', 'minor': 'Mathematics and Statistics', 'score1': 'NA', 'score2': 'NA', 'online.tutorial': '0', 'graduated': '0', 'salary': 'NA'}\n",
            "{'seq': '5', 'stud.id': '383291', 'name': 'Powell, Heather', 'gender': 'Female', 'age': '21', 'height': '175', 'weight': '71.4', 'religion': 'Catholic', 'nc.score': '1.46', 'semester': '1st', 'major': 'Environmental Sciences', 'minor': 'Mathematics and Statistics', 'score1': 'NA', 'score2': 'NA', 'online.tutorial': '0', 'graduated': '0', 'salary': 'NA'}\n",
            "{'seq': '6', 'stud.id': '256074', 'name': 'Perez, Jadrian', 'gender': 'Male', 'age': '19', 'height': '189', 'weight': '85.8', 'religion': 'Catholic', 'nc.score': '1.34', 'semester': '2nd', 'major': 'Political Science', 'minor': 'Mathematics and Statistics', 'score1': 'NA', 'score2': 'NA', 'online.tutorial': '0', 'graduated': '0', 'salary': 'NA'}\n",
            "{'seq': '7', 'stud.id': '754591', 'name': 'Clardy, Anita', 'gender': 'Female', 'age': '21', 'height': '156', 'weight': '65.9', 'religion': 'Protestant', 'nc.score': '1.11', 'semester': '2nd', 'major': 'Political Science', 'minor': 'Social Sciences', 'score1': 'NA', 'score2': 'NA', 'online.tutorial': '0', 'graduated': '0', 'salary': 'NA'}\n",
            "{'seq': '8', 'stud.id': '146494', 'name': 'Allen, Rebecca Marie', 'gender': 'Female', 'age': '21', 'height': '167', 'weight': '65.7', 'religion': 'Other', 'nc.score': '2.03', 'semester': '3rd', 'major': 'Political Science', 'minor': 'Economics and Finance', 'score1': '58', 'score2': '62', 'online.tutorial': '0', 'graduated': '0', 'salary': 'NA'}\n",
            "{'seq': '9', 'stud.id': '723584', 'name': 'Tracy, Robert', 'gender': 'Male', 'age': '18', 'height': '195', 'weight': '94.4', 'religion': 'Other', 'nc.score': '1.29', 'semester': '3rd', 'major': 'Economics and Finance', 'minor': 'Environmental Sciences', 'score1': '57', 'score2': '67', 'online.tutorial': '0', 'graduated': '0', 'salary': 'NA'}\n",
            "{'seq': '10', 'stud.id': '314281', 'name': 'Nimmons, Laura', 'gender': 'Female', 'age': '18', 'height': '165', 'weight': '66', 'religion': 'Orthodox', 'nc.score': '1.19', 'semester': '2nd', 'major': 'Environmental Sciences', 'minor': 'Mathematics and Statistics', 'score1': 'NA', 'score2': 'NA', 'online.tutorial': '0', 'graduated': '0', 'salary': 'NA'}\n"
          ]
        }
      ]
    },
    {
      "cell_type": "code",
      "metadata": {
        "id": "srr4leyQIeae"
      },
      "source": [
        "with open(\"students.csv\", 'r') as file:\n",
        "    csv_file = csv.DictReader(file)\n",
        "\n",
        "    DBiometricsM = {}\n",
        "    DBiometricsF = {}\n",
        "    for row in csv_file:\n",
        "        DRow = dict(row)\n",
        "        SID = DRow['stud.id']\n",
        "        SGend = DRow['gender']\n",
        "        SHeight = DRow['height']; IHeight = int(SHeight) # ; print(str(IHeight))\n",
        "        # SWeight = DRow['weight']; FWeight = float(SWeight) # ; print(str(FWeight))\n",
        "        if SGend == 'Female':\n",
        "            try:\n",
        "                DBiometricsF[IHeight] += 1\n",
        "            except:\n",
        "                DBiometricsF[IHeight] = 1\n",
        "\n",
        "        if SGend == 'Male':\n",
        "            try:\n",
        "                DBiometricsM[IHeight] += 1\n",
        "            except:\n",
        "                DBiometricsM[IHeight] = 1"
      ],
      "execution_count": 136,
      "outputs": []
    },
    {
      "cell_type": "markdown",
      "metadata": {
        "id": "954Z_DrBK2VS"
      },
      "source": [
        "now we rank from lowest to highest"
      ]
    },
    {
      "cell_type": "code",
      "metadata": {
        "id": "BfjseItHK_Gu"
      },
      "source": [
        "def rankDict(Dict2fill):\n",
        "    LRanks = []\n",
        "    LFrq = []\n",
        "    LCoef = []\n",
        "\n",
        "    rank = 0\n",
        "    for IHeight, Frq in sorted(Dict2fill.items() , key=lambda x: x[0], reverse=False):\n",
        "        rank +=1\n",
        "        # if rank > 10: break\n",
        "        coef = rank * Frq ; FileOutputStudents.write(str(rank) + '\\t' + str(Frq) + '\\t' + str(IHeight) + '\\t' + str(coef) + '\\n')\n",
        "        LRanks.append(rank)\n",
        "        LFrq.append(Frq)\n",
        "        LCoef.append(coef)\n",
        "    \n",
        "    FileOutputStudents.write('\\n\\n')\n",
        "    FileOutputStudents.write(str(len(LRanks)) + 'len of Ranks\\n')\n",
        "    FileOutputStudents.write(str(len(LFrq)) + 'len of Frqs\\n')\n",
        "    FileOutputStudents.write(str(len(LCoef)) + 'len of Coef\\n')\n",
        "    FileOutputStudents.flush()\n",
        "\n",
        "    return LRanks, LFrq, LCoef\n",
        "\n",
        "LRanksF, LFrqF, LCoefF = rankDict(DBiometricsF)\n",
        "LRanksM, LFrqM, LCoefM = rankDict(DBiometricsM)\n",
        "\n",
        "\n"
      ],
      "execution_count": 137,
      "outputs": []
    },
    {
      "cell_type": "code",
      "metadata": {
        "id": "dKpUIa8sZr7d"
      },
      "source": [
        "FileOutputStudents.close()"
      ],
      "execution_count": 146,
      "outputs": []
    },
    {
      "cell_type": "code",
      "metadata": {
        "colab": {
          "base_uri": "https://localhost:8080/",
          "height": 303
        },
        "id": "uulPFA2BLiHu",
        "outputId": "6d9c9dc0-5bb2-44fe-ad46-528f4b5a53c9"
      },
      "source": [
        "# plt.plot([math.log(c) for c in LRanks], [math.log(c) for c in LFrqs], 'ro')\n",
        "# plt.plot([math.log(c) for c in LRanks], [math.log(c) for c in LCoef], 'bs')\n",
        "plt.plot([c for c in LRanksF], [c for c in LFrqF], 'bs')\n",
        "plt.plot([c for c in LRanksM], [c for c in LFrqM], 'ro')\n",
        "plt.plot([c for c in LRanksF], [c/100 for c in LCoefF], 'cs')\n",
        "plt.plot([c for c in LRanksM], [c/100 for c in LCoefM], 'mo')"
      ],
      "execution_count": 145,
      "outputs": [
        {
          "output_type": "execute_result",
          "data": {
            "text/plain": [
              "[<matplotlib.lines.Line2D at 0x7ffa0c403690>]"
            ]
          },
          "metadata": {},
          "execution_count": 145
        },
        {
          "output_type": "display_data",
          "data": {
            "image/png": "[encoded data removed]",
            "text/plain": [
              "<Figure size 432x288 with 1 Axes>"
            ]
          },
          "metadata": {
            "needs_background": "light"
          }
        }
      ]
    },
    {
      "cell_type": "markdown",
      "metadata": {
        "id": "wFoclZ5sSuwR"
      },
      "source": [
        "# Foundations of Python:\n",
        "1. Variables\n",
        "\n",
        "2. Data types\n",
        "- integers, floating point numbers\n",
        "- strings\n",
        "- lists, tuples\n",
        "- dictionaries, multidimensional dictionaries\n",
        "- files\n",
        "\n",
        "3. Regular expressions\n",
        "- Match and search\n",
        "- Capturing expressions in context\n",
        "\n",
        "4. Control flow statements\n",
        "- if, elif, else\n",
        "- while, for\n",
        "- break, continue\n",
        "- range\n",
        "\n",
        "5. Functions\n",
        "- standard functions (e.g., sorted)\n",
        "- writing own functions\n",
        "\n",
        "6. Classes and objects\n",
        "- Object packages and libraries \n",
        "- Ideas of object-oriented programming\n",
        "\n",
        "7. Writing reusable code and using others' libraries\n",
        "- Principles of software engineering\n",
        "- Using objects for Machine Learning (tensorflow, pytorch), text processing (NLTK), data visualisation"
      ]
    }
  ]
}