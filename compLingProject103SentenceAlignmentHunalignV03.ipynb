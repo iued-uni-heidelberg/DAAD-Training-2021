{
  "nbformat": 4,
  "nbformat_minor": 0,
  "metadata": {
    "colab": {
      "name": "compLingProject103SentenceAlignmentHunalignV03.ipynb",
      "provenance": [],
      "collapsed_sections": [],
      "include_colab_link": true
    },
    "kernelspec": {
      "name": "python3",
      "display_name": "Python 3"
    },
    "language_info": {
      "name": "python"
    }
  },
  "cells": [
    {
      "cell_type": "markdown",
      "metadata": {
        "id": "view-in-github",
        "colab_type": "text"
      },
      "source": [
        "<a href=\"https://colab.research.google.com/github/iued-uni-heidelberg/DAAD-Training-2021/blob/main/compLingProject103SentenceAlignmentHunalignV03.ipynb\" target=\"_parent\"><img src=\"https://colab.research.google.com/assets/colab-badge.svg\" alt=\"Open In Colab\"/></a>"
      ]
    },
    {
      "cell_type": "markdown",
      "source": [
        "# Experiments with alignment tools"
      ],
      "metadata": {
        "id": "hhDdKnVbT6Aa"
      }
    },
    {
      "cell_type": "markdown",
      "source": [
        "resources / corpora:\n",
        "https://heibox.uni-heidelberg.de/d/d65daff8341e467c82b1/\n",
        "\n",
        "\n",
        "Instructions are here:\n",
        "https://github.com/danielvarga/hunalign\n"
      ],
      "metadata": {
        "id": "iM-SQNgcjh6t"
      }
    },
    {
      "cell_type": "code",
      "execution_count": null,
      "metadata": {
        "colab": {
          "base_uri": "https://localhost:8080/"
        },
        "id": "5wTTt2yCTo7U",
        "outputId": "f9da11c1-b5d9-442f-b7a0-a19764becc7d"
      },
      "outputs": [
        {
          "output_type": "stream",
          "name": "stdout",
          "text": [
            "Cloning into 'hunalign'...\n",
            "remote: Enumerating objects: 397, done.\u001b[K\n",
            "remote: Total 397 (delta 0), reused 0 (delta 0), pack-reused 397\u001b[K\n",
            "Receiving objects: 100% (397/397), 7.60 MiB | 10.53 MiB/s, done.\n",
            "Resolving deltas: 100% (191/191), done.\n"
          ]
        }
      ],
      "source": [
        "!git clone https://github.com/danielvarga/hunalign.git"
      ]
    },
    {
      "cell_type": "code",
      "source": [
        "%cd hunalign/src/hunalign\n",
        "!pwd"
      ],
      "metadata": {
        "colab": {
          "base_uri": "https://localhost:8080/"
        },
        "id": "ZddMwgW9T5Rj",
        "outputId": "ac79b78f-9303-4d5b-de0d-063651709f12"
      },
      "execution_count": null,
      "outputs": [
        {
          "output_type": "stream",
          "name": "stdout",
          "text": [
            "/content/hunalign/src/hunalign\n",
            "/content/hunalign/src/hunalign\n"
          ]
        }
      ]
    },
    {
      "cell_type": "code",
      "source": [
        "!make"
      ],
      "metadata": {
        "colab": {
          "base_uri": "https://localhost:8080/"
        },
        "id": "hJbwoRqGVK_O",
        "outputId": "8fbdfe17-3848-4586-9521-6a38cb237a20"
      },
      "execution_count": null,
      "outputs": [
        {
          "output_type": "stream",
          "name": "stdout",
          "text": [
            "g++  -O9 -ffast-math -funroll-loops -I ../include  -c -o alignerTool.o alignerTool.cpp\n",
            "g++  -O9 -ffast-math -funroll-loops -I ../include  -c -o alignment.o alignment.cpp\n",
            "g++  -O9 -ffast-math -funroll-loops -I ../include  -c -o bloom.o bloom.cpp\n",
            "g++  -O9 -ffast-math -funroll-loops -I ../include  -c -o bookToMatrix.o bookToMatrix.cpp\n",
            "g++  -O9 -ffast-math -funroll-loops -I ../include  -c -o cooccurrence.o cooccurrence.cpp\n",
            "In file included from \u001b[01m\u001b[K/usr/include/c++/7/ext/hash_map:60:0\u001b[m\u001b[K,\n",
            "                 from \u001b[01m\u001b[K../include/portableHash.h:23\u001b[m\u001b[K,\n",
            "                 from \u001b[01m\u001b[Kcooccurrence.cpp:36\u001b[m\u001b[K:\n",
            "\u001b[01m\u001b[K/usr/include/c++/7/backward/backward_warning.h:32:2:\u001b[m\u001b[K \u001b[01;35m\u001b[Kwarning: \u001b[m\u001b[K#warning This file includes at least one deprecated or antiquated header which may be removed without further notice at a future date. Please use a non-deprecated interface with equivalent functionality instead. For a listing of replacement headers and interfaces, consult the file backward_warning.h. To disable this warning use -Wno-deprecated. [\u001b[01;35m\u001b[K-Wcpp\u001b[m\u001b[K]\n",
            " #\u001b[01;35m\u001b[Kwarning\u001b[m\u001b[K \\\n",
            "  \u001b[01;35m\u001b[K^~~~~~~\u001b[m\u001b[K\n",
            "g++  -O9 -ffast-math -funroll-loops -I ../include  -c -o cooccurrenceTool.o cooccurrenceTool.cpp\n",
            "g++  -O9 -ffast-math -funroll-loops -I ../include  -c -o dictionary.o dictionary.cpp\n",
            "g++  -O9 -ffast-math -funroll-loops -I ../include  -c -o main.o main.cpp\n",
            "g++  -O9 -ffast-math -funroll-loops -I ../include  -c -o networkFlow.o networkFlow.cpp\n",
            "In file included from \u001b[01m\u001b[K/usr/include/c++/7/ext/hash_map:60:0\u001b[m\u001b[K,\n",
            "                 from \u001b[01m\u001b[K../include/portableHash.h:23\u001b[m\u001b[K,\n",
            "                 from \u001b[01m\u001b[KnetworkFlow.cpp:15\u001b[m\u001b[K:\n",
            "\u001b[01m\u001b[K/usr/include/c++/7/backward/backward_warning.h:32:2:\u001b[m\u001b[K \u001b[01;35m\u001b[Kwarning: \u001b[m\u001b[K#warning This file includes at least one deprecated or antiquated header which may be removed without further notice at a future date. Please use a non-deprecated interface with equivalent functionality instead. For a listing of replacement headers and interfaces, consult the file backward_warning.h. To disable this warning use -Wno-deprecated. [\u001b[01;35m\u001b[K-Wcpp\u001b[m\u001b[K]\n",
            " #\u001b[01;35m\u001b[Kwarning\u001b[m\u001b[K \\\n",
            "  \u001b[01;35m\u001b[K^~~~~~~\u001b[m\u001b[K\n",
            "g++  -O9 -ffast-math -funroll-loops -I ../include  -c -o oldAlignTest.o oldAlignTest.cpp\n",
            "g++  -O9 -ffast-math -funroll-loops -I ../include  -c -o trailPostprocessors.o trailPostprocessors.cpp\n",
            "g++  -O9 -ffast-math -funroll-loops -I ../include  -c -o translate.o translate.cpp\n",
            "g++  -O9 -ffast-math -funroll-loops -I ../include  -c -o wordAlignment.o wordAlignment.cpp\n",
            "g++  -O9 -ffast-math -funroll-loops -I ../include  -c -o ../utils/stringsAndStreams.o ../utils/stringsAndStreams.cpp\n",
            "g++  -O9 -ffast-math -funroll-loops -I ../include  -c -o ../utils/argumentsParser.o ../utils/argumentsParser.cpp\n",
            "g++  -O9 -ffast-math -funroll-loops -I ../include  -c -o ../utils/timer.o ../utils/timer.cpp\n",
            "g++ -O9 -ffast-math -funroll-loops -I ../include -lstdc++ -o hunalign alignerTool.o alignment.o bloom.o bookToMatrix.o cooccurrence.o cooccurrenceTool.o dictionary.o main.o networkFlow.o oldAlignTest.o trailPostprocessors.o translate.o wordAlignment.o ../utils/stringsAndStreams.o ../utils/argumentsParser.o ../utils/timer.o\n"
          ]
        }
      ]
    },
    {
      "cell_type": "code",
      "source": [
        "%cd /content/hunalign/\n",
        "!pwd\n",
        "!src/hunalign/hunalign data/hu-en.stem.dic examples/demo.hu.stem examples/demo.en.stem -hand=examples/demo.manual.ladder -text > /tmp/align.txt\n",
        "# !less /tmp/align.txt"
      ],
      "metadata": {
        "id": "fVz4B9KoVW7T"
      },
      "execution_count": null,
      "outputs": []
    },
    {
      "cell_type": "code",
      "source": [
        "# downloading files"
      ],
      "metadata": {
        "id": "4C3Lu_yijc-2"
      },
      "execution_count": null,
      "outputs": []
    },
    {
      "cell_type": "code",
      "source": [
        "!wget https://heibox.uni-heidelberg.de/f/dc01904f8f9040a69610/?dl=1\n",
        "!mv index.html?dl=1 en-RE01.txt\n",
        "# English file\n",
        "!wget https://heibox.uni-heidelberg.de/f/646957ccb3d24f359ed7/?dl=1\n",
        "!mv index.html?dl=1 es-RE01.txt\n",
        "# English file"
      ],
      "metadata": {
        "id": "-irmCMkDjfjK"
      },
      "execution_count": null,
      "outputs": []
    },
    {
      "cell_type": "code",
      "source": [
        "# !./src/hunalign/hunalign -text -realign -autodict=es2enAutodict.txt data/null.dic en-RE01.txt es-RE01.txt > en2esAlignment.txt\n",
        "!./src/hunalign/hunalign -text -realign -autodict=es2enREAutodict.dic data/null.dic en-RE01.txt es-RE01.txt > en2esAlignment.txt"
      ],
      "metadata": {
        "id": "YbI3WH-WccuO"
      },
      "execution_count": null,
      "outputs": []
    },
    {
      "cell_type": "code",
      "source": [
        "!./src/hunalign/hunalign -text -realign -autodict=de2enMedAutodict.dic data/null.dic /content/ab-t01-de.txt /content/ab-t01-en.txt > de2enAlignment.txt"
      ],
      "metadata": {
        "id": "_0xrhyeyyLgn",
        "outputId": "2868250e-8282-47dd-c392-5b62bde4d189",
        "colab": {
          "base_uri": "https://localhost:8080/"
        }
      },
      "execution_count": null,
      "outputs": [
        {
          "output_type": "stream",
          "name": "stdout",
          "text": [
            "Reading dictionary...\n",
            "111 source language sentences read.\n",
            "106 target language sentences read.\n",
            "quasiglobal_stopwordRemoval is set to 0\n",
            "Simplified dictionary ready.\n",
            "Rough translation ready.\n",
            "0 \n",
            "100 \n",
            "Rough translation-based similarity matrix ready.\n",
            "Matrix built.\n",
            "Trail found.\n",
            "Align ready.\n",
            "Global quality of unfiltered align 1.06914\n",
            "2169 items inside the border.\n",
            "Border of realign zone determined.\n",
            "105 bisentences collected.\n",
            "Plausible bisentences filtered.\n",
            "Removing stopwords...Removing identicals... % %, %. %; (1). (10 (10). (108–144 (11) (110 (110–140 (110–144 (12, (124 (13 (140 (140–180 (141–180 (144 (144–180 (15, (18, (180 (180–252 (2), (20), (20). (20, (200 (21) (270 (28, (3). (30). (31, (34). (35). (36, (38). (39), (39). (4). (4, (40 (40). (41–70 (5). (5, (6) (68 (7, (79–110 (9). (9, (ARI (CONTROLING, (IIT) (OR (OR: (RCT) (SHR, ([e5], (absolute (e1). (e11, (e13). (e14). (e15). (e2, (e4). (e6). (e7). (e8). (e9, (≤ (≥ 1 1). 10 10, 10.3238/arztebl.m2021.0221 10–14 118: 12 126 13, 139 14) 15 158 16 16, 17 17, 19 19). 2 2). 2001 2021 2021; 24 29) 3 30 30) 30). 30, 305 312 32). 33). 35). 36 37). 38, 39). 40). 407 559 6–10 6–8 70 747 750 8 8, 8–10 9). 943 996 = ADA American Arztebl Association Birkenfeld, Care Clinical DDG DOI: Diabetes Dtsch ESPEN Endocrine Enteral European Garg Gesellschaft IIT In Int LNSLNS Leuven-I Leuven-II Loeffelholz, Luethi Management Metabolism Müller, NICE-SUGAR NNH NNT Nutrition OR Parenteral PubMed RCT RCTs Roth, SHR Society Sommerfeld, Sponholz, Yamada [108–180 [110 [110–141 [110–149 [141–180 [146 [166 [180–200 [180–220 [180–252 [1]). [252 [79–110 [80–110 [ADA], [ARI] [ASPEN]). [NNT] [OR [OR: [OR] absolute al. e3). et for für harm in mellitus mg/dL) mg/dL). mg/dL]) mg/dL]). mg/dL], mmol/L moderate needed p perioperative positive relative versus von – ≤ ≥ \n",
            "222 identical translations found.\n",
            "Removing hapaxes...6 hapax-based dictionary items found.\n",
            "Building CorpusConstellation... Done.\n",
            "0 items left in original dictionary.\n",
            "Removing stopwords...Removing identicals... \n",
            "0 identical translations found.\n",
            "Removing hapaxes...0 hapax-based dictionary items found.\n",
            "Building CorpusConstellation... Done.\n",
            "4428 new dictionary items found.\n",
            "Simplified dictionary ready.\n",
            "Rough translation ready.\n",
            "0 \n",
            "100 Matrix built.\n",
            "Trail found.\n",
            "Detail realign ready.\n",
            "Global quality of unfiltered align after realign 1.1718\n",
            "quasiglobal_spaceOutBySentenceLength is set to 1\n",
            "Trail spaced out by sentence length.\n",
            "Global quality of unfiltered align after realign 1.1718\n",
            "Quality 1.1718\n"
          ]
        }
      ]
    },
    {
      "cell_type": "code",
      "source": [
        "!cp es2enAutodict.txt es2enAutodict.dict"
      ],
      "metadata": {
        "id": "V_gxwlekhkZW"
      },
      "execution_count": null,
      "outputs": []
    },
    {
      "cell_type": "code",
      "source": [
        "!src/hunalign/hunalign -text -realign -autodict=es2enAutodict2.txt es2enAutodict.dict en-RE01.txt es-RE01.txt > en2esAlignment2.txt"
      ],
      "metadata": {
        "id": "yh_I8HhHivWJ"
      },
      "execution_count": null,
      "outputs": []
    },
    {
      "cell_type": "code",
      "source": [
        "%cd /content/"
      ],
      "metadata": {
        "colab": {
          "base_uri": "https://localhost:8080/"
        },
        "id": "4uqIFYZHlaTo",
        "outputId": "5fa40cf3-9aa1-432d-a65f-df261482e499"
      },
      "execution_count": null,
      "outputs": [
        {
          "output_type": "stream",
          "name": "stdout",
          "text": [
            "/content\n"
          ]
        }
      ]
    },
    {
      "cell_type": "markdown",
      "source": [
        "#Other tools\n",
        "## Giza++\n",
        "\n",
        "Instructions here:\n",
        "https://sinaahmadi.github.io/posts/sentence-alignment-using-giza.html\n"
      ],
      "metadata": {
        "id": "XI3K-pgllebD"
      }
    },
    {
      "cell_type": "code",
      "source": [
        "!git clone https://github.com/moses-smt/giza-pp.git"
      ],
      "metadata": {
        "colab": {
          "base_uri": "https://localhost:8080/"
        },
        "id": "BMAQakezmVUY",
        "outputId": "c344973a-c9df-4390-8ca4-545efe664fc6"
      },
      "execution_count": null,
      "outputs": [
        {
          "output_type": "stream",
          "name": "stdout",
          "text": [
            "Cloning into 'giza-pp'...\n",
            "remote: Enumerating objects: 301, done.\u001b[K\n",
            "remote: Total 301 (delta 0), reused 0 (delta 0), pack-reused 301\u001b[K\n",
            "Receiving objects: 100% (301/301), 259.42 KiB | 1.70 MiB/s, done.\n",
            "Resolving deltas: 100% (207/207), done.\n"
          ]
        }
      ]
    },
    {
      "cell_type": "code",
      "source": [
        "!pwd"
      ],
      "metadata": {
        "colab": {
          "base_uri": "https://localhost:8080/"
        },
        "id": "3mSFNTUSorbq",
        "outputId": "24b1cb1d-0edf-49c2-eebb-e794c01b99a5"
      },
      "execution_count": null,
      "outputs": [
        {
          "output_type": "stream",
          "name": "stdout",
          "text": [
            "/content\n"
          ]
        }
      ]
    },
    {
      "cell_type": "code",
      "source": [
        "%cd /content/giza-pp/GIZA++-v2"
      ],
      "metadata": {
        "colab": {
          "base_uri": "https://localhost:8080/"
        },
        "id": "nB7yGxgbrwaS",
        "outputId": "c5a739ae-bb85-4eb2-c3c8-362d4f0c7179"
      },
      "execution_count": null,
      "outputs": [
        {
          "output_type": "stream",
          "name": "stdout",
          "text": [
            "/content/giza-pp/GIZA++-v2\n"
          ]
        }
      ]
    },
    {
      "cell_type": "code",
      "source": [
        "!wget https://heibox.uni-heidelberg.de/f/0b97c120e54848e2bf3d/?dl=1\n",
        "!mv index.html?dl=1 Makefile\n",
        "!wget https://heibox.uni-heidelberg.de/f/2ec2d308a0214e5dbb76/?dl=1\n",
        "!mv index.html?dl=1 model3.cpp\n"
      ],
      "metadata": {
        "id": "wLW1y6vjq0Ao"
      },
      "execution_count": null,
      "outputs": []
    },
    {
      "cell_type": "code",
      "source": [
        "## do not run !\n",
        "# %cd giza-pp\n",
        "# !perl -pi -w -e 's/<tr1\\//</g;' GIZA++-v2/* mkcls-v2/*\n",
        "# !perl -pi -w -e 's/using namespace std::tr1;//g;' GIZA++-v2/* mkcls-v2/*\n",
        "# !perl -pi -w -e 's/std::tr1:://g;' GIZA++-v2/* mkcls-v2/*\n",
        "# !sed '36d' mkcls-v2/mystl.h > mkcls-v2/mystl.h.tmp\n",
        "# !sed '50d' mkcls-v2/mystl.h.tmp > mkcls-v2/mystl.h\n",
        "# !rm mkcls-v2/mystl.h.tmp"
      ],
      "metadata": {
        "id": "7vf8qvV5oun5"
      },
      "execution_count": null,
      "outputs": []
    },
    {
      "cell_type": "code",
      "source": [
        "%cd /content/giza-pp"
      ],
      "metadata": {
        "colab": {
          "base_uri": "https://localhost:8080/"
        },
        "id": "f3TtHT8ssRyH",
        "outputId": "bd46b659-1bdd-4764-9887-500af97181d3"
      },
      "execution_count": null,
      "outputs": [
        {
          "output_type": "stream",
          "name": "stdout",
          "text": [
            "/content/giza-pp\n"
          ]
        }
      ]
    },
    {
      "cell_type": "code",
      "source": [
        "!pwd"
      ],
      "metadata": {
        "colab": {
          "base_uri": "https://localhost:8080/"
        },
        "id": "mlvkbADGsKUH",
        "outputId": "e3ff96c9-6d9b-44d3-d110-d967cbea8431"
      },
      "execution_count": null,
      "outputs": [
        {
          "output_type": "stream",
          "name": "stdout",
          "text": [
            "/content/giza-pp\n"
          ]
        }
      ]
    },
    {
      "cell_type": "code",
      "source": [
        "!make"
      ],
      "metadata": {
        "colab": {
          "base_uri": "https://localhost:8080/"
        },
        "id": "d12z0hfQo9RB",
        "outputId": "dfcde751-2011-414e-b0ca-7060c0218b63"
      },
      "execution_count": null,
      "outputs": [
        {
          "output_type": "stream",
          "name": "stdout",
          "text": [
            "make -C GIZA++-v2\n",
            "make[1]: Entering directory '/content/giza-pp/GIZA++-v2'\n",
            "mkdir optimized/\n",
            "g++   -Wall -Wno-parentheses -O3 -funroll-loops -DNDEBUG -DWORDINDEX_WITH_4_BYTE -DBINARY_SEARCH_FOR_TTABLE  -c Parameter.cpp -o optimized/Parameter.o\n",
            "\u001b[01m\u001b[KParameter.cpp:\u001b[m\u001b[K In function ‘\u001b[01m\u001b[Kbool writeParameters(std::ofstream&, const ParSet&, int)\u001b[m\u001b[K’:\n",
            "\u001b[01m\u001b[KParameter.cpp:48:14:\u001b[m\u001b[K \u001b[01;35m\u001b[Kwarning: \u001b[m\u001b[Kignoring return value of ‘\u001b[01m\u001b[Kchar* getcwd(char*, size_t)\u001b[m\u001b[K’, declared with attribute warn_unused_result [\u001b[01;35m\u001b[K-Wunused-result\u001b[m\u001b[K]\n",
            "        \u001b[01;35m\u001b[Kgetcwd(path,1024)\u001b[m\u001b[K;\n",
            "        \u001b[01;35m\u001b[K~~~~~~^~~~~~~~~~~\u001b[m\u001b[K\n",
            "g++   -Wall -Wno-parentheses -O3 -funroll-loops -DNDEBUG -DWORDINDEX_WITH_4_BYTE -DBINARY_SEARCH_FOR_TTABLE  -c myassert.cpp -o optimized/myassert.o\n",
            "g++   -Wall -Wno-parentheses -O3 -funroll-loops -DNDEBUG -DWORDINDEX_WITH_4_BYTE -DBINARY_SEARCH_FOR_TTABLE  -c Perplexity.cpp -o optimized/Perplexity.o\n",
            "g++   -Wall -Wno-parentheses -O3 -funroll-loops -DNDEBUG -DWORDINDEX_WITH_4_BYTE -DBINARY_SEARCH_FOR_TTABLE  -c model1.cpp -o optimized/model1.o\n",
            "g++   -Wall -Wno-parentheses -O3 -funroll-loops -DNDEBUG -DWORDINDEX_WITH_4_BYTE -DBINARY_SEARCH_FOR_TTABLE  -c model2.cpp -o optimized/model2.o\n",
            "g++   -Wall -Wno-parentheses -O3 -funroll-loops -DNDEBUG -DWORDINDEX_WITH_4_BYTE -DBINARY_SEARCH_FOR_TTABLE  -c model3.cpp -o optimized/model3.o\n",
            "g++   -Wall -Wno-parentheses -O3 -funroll-loops -DNDEBUG -DWORDINDEX_WITH_4_BYTE -DBINARY_SEARCH_FOR_TTABLE  -c getSentence.cpp -o optimized/getSentence.o\n",
            "g++   -Wall -Wno-parentheses -O3 -funroll-loops -DNDEBUG -DWORDINDEX_WITH_4_BYTE -DBINARY_SEARCH_FOR_TTABLE  -c TTables.cpp -o optimized/TTables.o\n",
            "g++   -Wall -Wno-parentheses -O3 -funroll-loops -DNDEBUG -DWORDINDEX_WITH_4_BYTE -DBINARY_SEARCH_FOR_TTABLE  -c ATables.cpp -o optimized/ATables.o\n",
            "g++   -Wall -Wno-parentheses -O3 -funroll-loops -DNDEBUG -DWORDINDEX_WITH_4_BYTE -DBINARY_SEARCH_FOR_TTABLE  -c AlignTables.cpp -o optimized/AlignTables.o\n",
            "g++   -Wall -Wno-parentheses -O3 -funroll-loops -DNDEBUG -DWORDINDEX_WITH_4_BYTE -DBINARY_SEARCH_FOR_TTABLE  -c main.cpp -o optimized/main.o\n",
            "g++   -Wall -Wno-parentheses -O3 -funroll-loops -DNDEBUG -DWORDINDEX_WITH_4_BYTE -DBINARY_SEARCH_FOR_TTABLE  -c NTables.cpp -o optimized/NTables.o\n",
            "g++   -Wall -Wno-parentheses -O3 -funroll-loops -DNDEBUG -DWORDINDEX_WITH_4_BYTE -DBINARY_SEARCH_FOR_TTABLE  -c model2to3.cpp -o optimized/model2to3.o\n",
            "g++   -Wall -Wno-parentheses -O3 -funroll-loops -DNDEBUG -DWORDINDEX_WITH_4_BYTE -DBINARY_SEARCH_FOR_TTABLE  -c collCounts.cpp -o optimized/collCounts.o\n",
            "g++   -Wall -Wno-parentheses -O3 -funroll-loops -DNDEBUG -DWORDINDEX_WITH_4_BYTE -DBINARY_SEARCH_FOR_TTABLE  -c alignment.cpp -o optimized/alignment.o\n",
            "g++   -Wall -Wno-parentheses -O3 -funroll-loops -DNDEBUG -DWORDINDEX_WITH_4_BYTE -DBINARY_SEARCH_FOR_TTABLE  -c vocab.cpp -o optimized/vocab.o\n",
            "g++   -Wall -Wno-parentheses -O3 -funroll-loops -DNDEBUG -DWORDINDEX_WITH_4_BYTE -DBINARY_SEARCH_FOR_TTABLE  -c MoveSwapMatrix.cpp -o optimized/MoveSwapMatrix.o\n",
            "g++   -Wall -Wno-parentheses -O3 -funroll-loops -DNDEBUG -DWORDINDEX_WITH_4_BYTE -DBINARY_SEARCH_FOR_TTABLE  -c transpair_model3.cpp -o optimized/transpair_model3.o\n",
            "g++   -Wall -Wno-parentheses -O3 -funroll-loops -DNDEBUG -DWORDINDEX_WITH_4_BYTE -DBINARY_SEARCH_FOR_TTABLE  -c transpair_model5.cpp -o optimized/transpair_model5.o\n",
            "g++   -Wall -Wno-parentheses -O3 -funroll-loops -DNDEBUG -DWORDINDEX_WITH_4_BYTE -DBINARY_SEARCH_FOR_TTABLE  -c transpair_model4.cpp -o optimized/transpair_model4.o\n",
            "g++   -Wall -Wno-parentheses -O3 -funroll-loops -DNDEBUG -DWORDINDEX_WITH_4_BYTE -DBINARY_SEARCH_FOR_TTABLE  -c utility.cpp -o optimized/utility.o\n",
            "g++   -Wall -Wno-parentheses -O3 -funroll-loops -DNDEBUG -DWORDINDEX_WITH_4_BYTE -DBINARY_SEARCH_FOR_TTABLE  -c parse.cpp -o optimized/parse.o\n",
            "g++   -Wall -Wno-parentheses -O3 -funroll-loops -DNDEBUG -DWORDINDEX_WITH_4_BYTE -DBINARY_SEARCH_FOR_TTABLE  -c reports.cpp -o optimized/reports.o\n",
            "g++   -Wall -Wno-parentheses -O3 -funroll-loops -DNDEBUG -DWORDINDEX_WITH_4_BYTE -DBINARY_SEARCH_FOR_TTABLE  -c model3_viterbi.cpp -o optimized/model3_viterbi.o\n",
            "g++   -Wall -Wno-parentheses -O3 -funroll-loops -DNDEBUG -DWORDINDEX_WITH_4_BYTE -DBINARY_SEARCH_FOR_TTABLE  -c model3_viterbi_with_tricks.cpp -o optimized/model3_viterbi_with_tricks.o\n",
            "g++   -Wall -Wno-parentheses -O3 -funroll-loops -DNDEBUG -DWORDINDEX_WITH_4_BYTE -DBINARY_SEARCH_FOR_TTABLE  -c Dictionary.cpp -o optimized/Dictionary.o\n",
            "g++   -Wall -Wno-parentheses -O3 -funroll-loops -DNDEBUG -DWORDINDEX_WITH_4_BYTE -DBINARY_SEARCH_FOR_TTABLE  -c model345-peg.cpp -o optimized/model345-peg.o\n",
            "g++   -Wall -Wno-parentheses -O3 -funroll-loops -DNDEBUG -DWORDINDEX_WITH_4_BYTE -DBINARY_SEARCH_FOR_TTABLE  -c hmm.cpp -o optimized/hmm.o\n",
            "g++   -Wall -Wno-parentheses -O3 -funroll-loops -DNDEBUG -DWORDINDEX_WITH_4_BYTE -DBINARY_SEARCH_FOR_TTABLE  -c HMMTables.cpp -o optimized/HMMTables.o\n",
            "g++   -Wall -Wno-parentheses -O3 -funroll-loops -DNDEBUG -DWORDINDEX_WITH_4_BYTE -DBINARY_SEARCH_FOR_TTABLE  -c ForwardBackward.cpp -o optimized/ForwardBackward.o\n",
            "g++  -Wall -Wno-parentheses -O3 -funroll-loops -DNDEBUG -DWORDINDEX_WITH_4_BYTE -DBINARY_SEARCH_FOR_TTABLE optimized/Parameter.o optimized/myassert.o optimized/Perplexity.o optimized/model1.o optimized/model2.o optimized/model3.o optimized/getSentence.o optimized/TTables.o optimized/ATables.o optimized/AlignTables.o optimized/main.o optimized/NTables.o optimized/model2to3.o optimized/collCounts.o optimized/alignment.o optimized/vocab.o optimized/MoveSwapMatrix.o optimized/transpair_model3.o optimized/transpair_model5.o optimized/transpair_model4.o optimized/utility.o optimized/parse.o optimized/reports.o optimized/model3_viterbi.o optimized/model3_viterbi_with_tricks.o optimized/Dictionary.o optimized/model345-peg.o optimized/hmm.o optimized/HMMTables.o optimized/ForwardBackward.o  -o GIZA++\n",
            "g++  -O3 -W -Wall snt2plain.cpp -o snt2plain.out\n",
            "g++  -O3 -W -Wall plain2snt.cpp -o plain2snt.out\n",
            "g++  -O3 -g -W -Wall snt2cooc.cpp -o snt2cooc.out\n",
            "make[1]: Leaving directory '/content/giza-pp/GIZA++-v2'\n",
            "make -C mkcls-v2\n",
            "make[1]: Entering directory '/content/giza-pp/mkcls-v2'\n",
            "g++ -Wall -W -DNDEBUG -O3 -funroll-loops -c GDAOptimization.cpp -o GDAOptimization.o\n",
            "g++ -Wall -W -DNDEBUG -O3 -funroll-loops -c HCOptimization.cpp -o HCOptimization.o\n",
            "g++ -Wall -W -DNDEBUG -O3 -funroll-loops -c Problem.cpp -o Problem.o\n",
            "g++ -Wall -W -DNDEBUG -O3 -funroll-loops -c IterOptimization.cpp -o IterOptimization.o\n",
            "g++ -Wall -W -DNDEBUG -O3 -funroll-loops -c ProblemTest.cpp -o ProblemTest.o\n",
            "g++ -Wall -W -DNDEBUG -O3 -funroll-loops -c RRTOptimization.cpp -o RRTOptimization.o\n",
            "g++ -Wall -W -DNDEBUG -O3 -funroll-loops -c MYOptimization.cpp -o MYOptimization.o\n",
            "g++ -Wall -W -DNDEBUG -O3 -funroll-loops -c SAOptimization.cpp -o SAOptimization.o\n",
            "g++ -Wall -W -DNDEBUG -O3 -funroll-loops -c TAOptimization.cpp -o TAOptimization.o\n",
            "g++ -Wall -W -DNDEBUG -O3 -funroll-loops -c Optimization.cpp -o Optimization.o\n",
            "g++ -Wall -W -DNDEBUG -O3 -funroll-loops -c KategProblemTest.cpp -o KategProblemTest.o\n",
            "g++ -Wall -W -DNDEBUG -O3 -funroll-loops -c KategProblemKBC.cpp -o KategProblemKBC.o\n",
            "g++ -Wall -W -DNDEBUG -O3 -funroll-loops -c KategProblemWBC.cpp -o KategProblemWBC.o\n",
            "g++ -Wall -W -DNDEBUG -O3 -funroll-loops -c KategProblem.cpp -o KategProblem.o\n",
            "\u001b[01m\u001b[KKategProblem.cpp:\u001b[m\u001b[K In member function ‘\u001b[01m\u001b[Kvirtual int KategProblem::_change(ProblemChange**)\u001b[m\u001b[K’:\n",
            "\u001b[01m\u001b[KKategProblem.cpp:484:10:\u001b[m\u001b[K \u001b[01;35m\u001b[Kwarning: \u001b[m\u001b[Kthis statement may fall through [\u001b[01;35m\u001b[K-Wimplicit-fallthrough=\u001b[m\u001b[K]\n",
            "       \u001b[01;35m\u001b[Kkat=randomInt(katFreq.nKats-2)+2\u001b[m\u001b[K;\n",
            "       \u001b[01;35m\u001b[K~~~^~~~~~~~~~~~~~~~~~~~~~~~~~~~~\u001b[m\u001b[K\n",
            "\u001b[01m\u001b[KKategProblem.cpp:486:5:\u001b[m\u001b[K \u001b[01;36m\u001b[Knote: \u001b[m\u001b[Khere\n",
            "     \u001b[01;36m\u001b[Kcase\u001b[m\u001b[K K_DET:\n",
            "     \u001b[01;36m\u001b[K^~~~\u001b[m\u001b[K\n",
            "g++ -Wall -W -DNDEBUG -O3 -funroll-loops -c StatVar.cpp -o StatVar.o\n",
            "g++ -Wall -W -DNDEBUG -O3 -funroll-loops -c general.cpp -o general.o\n",
            "g++ -Wall -W -DNDEBUG -O3 -funroll-loops -c mkcls.cpp -o mkcls.o\n",
            "g++ -Wall -W -DNDEBUG -O3 -funroll-loops -o mkcls GDAOptimization.o HCOptimization.o Problem.o IterOptimization.o ProblemTest.o RRTOptimization.o MYOptimization.o SAOptimization.o TAOptimization.o Optimization.o KategProblemTest.o KategProblemKBC.o KategProblemWBC.o KategProblem.o StatVar.o general.o mkcls.o \n",
            "make[1]: Leaving directory '/content/giza-pp/mkcls-v2'\n"
          ]
        }
      ]
    },
    {
      "cell_type": "code",
      "source": [
        "# aligning files: sentence > word level\n",
        "%cd /content/\n",
        "!pwd"
      ],
      "metadata": {
        "colab": {
          "base_uri": "https://localhost:8080/"
        },
        "id": "qTUciD30tNvy",
        "outputId": "72bf2b25-71f7-4332-dda0-bd0a2e8c34f7"
      },
      "execution_count": null,
      "outputs": [
        {
          "output_type": "stream",
          "name": "stdout",
          "text": [
            "/content\n",
            "/content\n"
          ]
        }
      ]
    },
    {
      "cell_type": "code",
      "source": [
        "mkdir examples"
      ],
      "metadata": {
        "id": "Ym7sFvAq4bGd"
      },
      "execution_count": null,
      "outputs": []
    },
    {
      "cell_type": "code",
      "source": [
        "%cd /content/examples/\n",
        "!pwd"
      ],
      "metadata": {
        "colab": {
          "base_uri": "https://localhost:8080/"
        },
        "id": "b0HnzCeu4jdE",
        "outputId": "33e40d84-097b-4124-bd06-72241987ccf9"
      },
      "execution_count": null,
      "outputs": [
        {
          "output_type": "stream",
          "name": "stdout",
          "text": [
            "/content/examples\n",
            "/content/examples\n"
          ]
        }
      ]
    },
    {
      "cell_type": "code",
      "source": [
        "# !wget https://heibox.uni-heidelberg.de/f/f3c38db77ce649faacb8/?dl=1\n",
        "!wget https://heibox.uni-heidelberg.de/f/f3c38db77ce649faacb8/?dl=1\n",
        "!mv index.html?dl=1 de-uk.txt.zip\n",
        "!unzip de-uk.txt.zip"
      ],
      "metadata": {
        "colab": {
          "base_uri": "https://localhost:8080/"
        },
        "id": "TCfjxjFswel7",
        "outputId": "f8a33291-94a6-4c0b-87e3-6d9c8b5b72e4"
      },
      "execution_count": null,
      "outputs": [
        {
          "output_type": "stream",
          "name": "stdout",
          "text": [
            "--2021-12-13 22:21:01--  https://heibox.uni-heidelberg.de/f/f3c38db77ce649faacb8/?dl=1\n",
            "Resolving heibox.uni-heidelberg.de (heibox.uni-heidelberg.de)... 129.206.7.113\n",
            "Connecting to heibox.uni-heidelberg.de (heibox.uni-heidelberg.de)|129.206.7.113|:443... connected.\n",
            "HTTP request sent, awaiting response... 302 Found\n",
            "Location: https://heibox.uni-heidelberg.de/seafhttp/files/ceac13c0-aafe-4421-93f0-fa173f1c9555/de-uk.txt.zip [following]\n",
            "--2021-12-13 22:21:02--  https://heibox.uni-heidelberg.de/seafhttp/files/ceac13c0-aafe-4421-93f0-fa173f1c9555/de-uk.txt.zip\n",
            "Reusing existing connection to heibox.uni-heidelberg.de:443.\n",
            "HTTP request sent, awaiting response... 200 OK\n",
            "Length: 16226577 (15M) [application/zip]\n",
            "Saving to: ‘index.html?dl=1’\n",
            "\n",
            "index.html?dl=1     100%[===================>]  15.47M  4.99MB/s    in 3.1s    \n",
            "\n",
            "2021-12-13 22:21:06 (4.99 MB/s) - ‘index.html?dl=1’ saved [16226577/16226577]\n",
            "\n",
            "Archive:  de-uk.txt.zip\n",
            "  inflating: OpenSubtitles.de-uk.de  \n",
            "  inflating: OpenSubtitles.de-uk.uk  \n",
            "  inflating: OpenSubtitles.de-uk.ids  \n",
            "  inflating: README                  \n"
          ]
        }
      ]
    },
    {
      "cell_type": "code",
      "source": [
        "%cd /content/giza-pp/GIZA++-v2\n",
        "!pwd"
      ],
      "metadata": {
        "colab": {
          "base_uri": "https://localhost:8080/"
        },
        "id": "E7zSEBGtxUjp",
        "outputId": "b0f0d563-16f3-4cff-db6f-1d818939845e"
      },
      "execution_count": null,
      "outputs": [
        {
          "output_type": "stream",
          "name": "stdout",
          "text": [
            "/content/giza-pp/GIZA++-v2\n",
            "/content/giza-pp/GIZA++-v2\n"
          ]
        }
      ]
    },
    {
      "cell_type": "code",
      "source": [
        "!./plain2snt.out ../../examples/OpenSubtitles.de-uk.de ../../examples/OpenSubtitles.de-uk.uk"
      ],
      "metadata": {
        "colab": {
          "base_uri": "https://localhost:8080/"
        },
        "id": "Hpc6FsWox-q7",
        "outputId": "114bc958-2221-4882-8ec9-e2ab1f7f1208"
      },
      "execution_count": null,
      "outputs": [
        {
          "output_type": "stream",
          "name": "stdout",
          "text": [
            "../../examples/OpenSubtitles.de-uk.de -> OpenSubtitles.de-uk.de\n",
            "../../examples/OpenSubtitles.de-uk.uk -> OpenSubtitles.de-uk.uk\n"
          ]
        }
      ]
    },
    {
      "cell_type": "code",
      "source": [
        "# ./snt2cooc.out ../giza_example/Constitution_of_Ireland.tok.en.vcb ../giza_example/Constitution_of_Ireland.tok.ga.vcb ../giza_example/Constitution_of_Ireland.tok.ga_Constitution_of_Ireland.tok.en.snt > ../giza_example/corp.cooc\n",
        "!./snt2cooc.out ../../examples/OpenSubtitles.de-uk.de.vcb ../../examples/OpenSubtitles.de-uk.uk.vcb ../../examples/OpenSubtitles.de-uk.uk_OpenSubtitles.de-uk.de.snt > ../../examples/corp.cooc"
      ],
      "metadata": {
        "id": "BfbMDzOwzWHt"
      },
      "execution_count": null,
      "outputs": []
    },
    {
      "cell_type": "code",
      "source": [
        "%%bash\n",
        "# ./GIZA++ -S ../giza_example/Constitution_of_Ireland.tok.ga.vcb -T ../giza_example/Constitution_of_Ireland.tok.en.vcb -C ../giza_example/Constitution_of_Ireland.tok.ga_Constitution_of_Ireland.tok.en.snt -CoocurrenceFile ../giza_example/corp.cooc -outputpath ../giza_example/\n",
        "# !./GIZA++ -S ../../KDEdoc.de-uk.uk.vcb -T ../../KDEdoc.de-uk.de.vcb -C ../../KDEdoc.de-uk.uk_KDEdoc.de-uk.de.snt -CoocurrenceFile ../../corp.cooc -outputpath ../../\n",
        "./GIZA++ -s /content/examples/OpenSubtitles.de-uk.uk.vcb -t /content/examples/OpenSubtitles.de-uk.de.vcb -c /content/examples/OpenSubtitles.de-uk.uk_OpenSubtitles.de-uk.de.snt -CoocurrenceFile /content/examples/corp.cooc -outputpath /content/examples/eout/ 2>&1"
      ],
      "metadata": {
        "colab": {
          "base_uri": "https://localhost:8080/"
        },
        "id": "xsv4DGO905Ug",
        "outputId": "8f939270-2b8e-49f3-ea19-6bc74f95e55e"
      },
      "execution_count": null,
      "outputs": [
        {
          "output_type": "stream",
          "name": "stderr",
          "text": [
            "bash: line 3:  2038 Segmentation fault      (core dumped) ./GIZA++ -s /content/examples/OpenSubtitles.de-uk.uk.vcb -t /content/examples/OpenSubtitles.de-uk.de.vcb -c /content/examples/OpenSubtitles.de-uk.uk_OpenSubtitles.de-uk.de.snt -CoocurrenceFile /content/examples/corp.cooc -outputpath /content/examples/eout/ 2>&1\n"
          ]
        }
      ]
    },
    {
      "cell_type": "code",
      "source": [
        "!./GIZA++ --h 2>&1"
      ],
      "metadata": {
        "colab": {
          "base_uri": "https://localhost:8080/"
        },
        "id": "zW1xcnfT-RaO",
        "outputId": "d0485913-60b2-4a7c-d089-7f8e5d469bd4"
      },
      "execution_count": null,
      "outputs": [
        {
          "output_type": "stream",
          "name": "stdout",
          "text": [
            "/bin/bash: line 1:  2042 Segmentation fault      (core dumped) ./GIZA++ --h 2>&1\n"
          ]
        }
      ]
    }
  ]
}