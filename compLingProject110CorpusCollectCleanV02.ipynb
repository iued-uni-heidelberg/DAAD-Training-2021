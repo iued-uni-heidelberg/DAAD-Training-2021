{
  "nbformat": 4,
  "nbformat_minor": 0,
  "metadata": {
    "colab": {
      "name": "compLingProject110CorpusCollectCleanV02.ipynb",
      "provenance": [],
      "collapsed_sections": [
        "BnkFj87HjIXf"
      ],
      "authorship_tag": "ABX9TyOp0SL4RCPRi6wf1si8Aetc",
      "include_colab_link": true
    },
    "kernelspec": {
      "name": "python3",
      "display_name": "Python 3"
    },
    "language_info": {
      "name": "python"
    }
  },
  "cells": [
    {
      "cell_type": "markdown",
      "metadata": {
        "id": "view-in-github",
        "colab_type": "text"
      },
      "source": [
        "<a href=\"https://colab.research.google.com/github/iued-uni-heidelberg/DAAD-Training-2021/blob/main/compLingProject110CorpusCollectCleanV02.ipynb\" target=\"_parent\"><img src=\"https://colab.research.google.com/assets/colab-badge.svg\" alt=\"Open In Colab\"/></a>"
      ]
    },
    {
      "cell_type": "markdown",
      "source": [
        "# Working with corpus"
      ],
      "metadata": {
        "id": "BnkFj87HjIXf"
      }
    },
    {
      "cell_type": "markdown",
      "source": [
        "# Corpus collection and preparation methods\n",
        "## Recursively download a website\n",
        "\n",
        "Possible sources for corpus collection. Some examples:\n",
        "- Aerzteblatt.de : de and en medical texts https://www.aerzteblatt.de/int/archive/\n",
        "- Georgian Medical News journal (summaries in ka and en) https://www.geomednews.com/\n",
        "- Yerevan State Medical University, en, hy parallel texts https://ysmu.am/\n",
        "\n",
        "Tasks: \n",
        "- 'recursively' download (crawl) the website\n",
        "- remove html structure or convert pdf, find content text\n",
        "- save as text file, prepare for Part-of-Speech tagging & alignment\n",
        "\n",
        "wget manual and advice: \n",
        "- https://www.gnu.org/software/wget/manual/html_node/Recursive-Retrieval-Options.html\n",
        "- https://stackoverflow.com/questions/273743/using-wget-to-recursively-fetch-a-directory-with-arbitrary-files-in-it\n",
        "\n",
        "Run the following cell for a few minutes, then stop (by clicking on the rotating button) when you think you have enough data."
      ],
      "metadata": {
        "id": "sKhP5AvAdyOM"
      }
    },
    {
      "cell_type": "code",
      "execution_count": null,
      "metadata": {
        "id": "nJsojy-jdECz"
      },
      "outputs": [],
      "source": [
        "%%bash\n",
        "wget --recursive --no-parent https://www.aerzteblatt.de/int/archive/"
      ]
    },
    {
      "cell_type": "code",
      "source": [
        "!tar -cvzf www.aerzteblatt.de.tgz www.aerzteblatt.de"
      ],
      "metadata": {
        "id": "Ksi13NS3oB8u"
      },
      "execution_count": null,
      "outputs": []
    },
    {
      "cell_type": "code",
      "source": [
        "!zip -r www.aerzteblatt.de.zip www.aerzteblatt.de"
      ],
      "metadata": {
        "id": "q8DkmQwPvxcz"
      },
      "execution_count": null,
      "outputs": []
    },
    {
      "cell_type": "code",
      "source": [
        "# longer collection, wget --recursive was running for ~45 min\n",
        "!wget https://heibox.uni-heidelberg.de/f/00bbb48ee1c046c896af/?dl=1\n",
        "# smaller collection, ~ 6 files\n",
        "# !wget https://heibox.uni-heidelberg.de/f/c38d0b9f7f744c5aae16/?dl=1"
      ],
      "metadata": {
        "id": "hH7qS9uwHwMx"
      },
      "execution_count": null,
      "outputs": []
    },
    {
      "cell_type": "code",
      "source": [
        "!mv index.html?dl=1 www.aerzteblatt.de.tgz"
      ],
      "metadata": {
        "id": "CZx9BbOUI07g"
      },
      "execution_count": 3,
      "outputs": []
    },
    {
      "cell_type": "code",
      "source": [
        "!tar -xvzf www.aerzteblatt.de.tgz"
      ],
      "metadata": {
        "id": "Bl4bvCjToixa"
      },
      "execution_count": null,
      "outputs": []
    },
    {
      "cell_type": "markdown",
      "source": [
        "## Installing and using *Lynx*"
      ],
      "metadata": {
        "id": "KpNaZy6fKucl"
      }
    },
    {
      "cell_type": "code",
      "source": [
        "!apt-get install lynx"
      ],
      "metadata": {
        "id": "pIg8EBMYom8J"
      },
      "execution_count": null,
      "outputs": []
    },
    {
      "cell_type": "code",
      "source": [
        "!lynx https://www.uni-heidelberg.de/en"
      ],
      "metadata": {
        "id": "2uYnERw9J4ec"
      },
      "execution_count": null,
      "outputs": []
    },
    {
      "cell_type": "code",
      "source": [
        "!lynx --dump https://www.uni-heidelberg.de/en >uni-heidelberg.txt"
      ],
      "metadata": {
        "id": "TdY5MV5mJJIe"
      },
      "execution_count": 6,
      "outputs": []
    },
    {
      "cell_type": "code",
      "source": [
        "!cp /content/www.aerzteblatt.de/int/archive/article/219616 /content/219616.html"
      ],
      "metadata": {
        "id": "9_rObrMgNcjm"
      },
      "execution_count": 7,
      "outputs": []
    },
    {
      "cell_type": "code",
      "source": [
        "!lynx --dump /content/219616.html > /content/219616.txt"
      ],
      "metadata": {
        "id": "YQpFu2zbNr8A"
      },
      "execution_count": 10,
      "outputs": []
    },
    {
      "cell_type": "code",
      "source": [
        "!iconv -f UTF-8 -t UTF-8//IGNORE ./219616.txt > 219616_V2.txt"
      ],
      "metadata": {
        "id": "zWzB3avsNgoF"
      },
      "execution_count": 12,
      "outputs": []
    },
    {
      "cell_type": "markdown",
      "source": [
        "## Recursively processing the corpus collected by crawling the website"
      ],
      "metadata": {
        "id": "uCheyh-FK3Lv"
      }
    },
    {
      "cell_type": "code",
      "source": [
        "!rm -r ./texts/"
      ],
      "metadata": {
        "id": "BUMY6nQs6_GP"
      },
      "execution_count": 20,
      "outputs": []
    },
    {
      "cell_type": "code",
      "source": [
        "!mkdir ./texts/"
      ],
      "metadata": {
        "id": "qJBn9zci7G4H"
      },
      "execution_count": 21,
      "outputs": []
    },
    {
      "cell_type": "code",
      "source": [
        "!rm *_2.txt"
      ],
      "metadata": {
        "id": "fyNGhGSb8iX1"
      },
      "execution_count": 22,
      "outputs": []
    },
    {
      "cell_type": "code",
      "source": [
        "# <li><a class=\"deLink\" href=\"/archiv/219550/Diabetes-im-Krankenhaus\">German version</a></li>"
      ],
      "metadata": {
        "id": "vbCc5eXz7_e8"
      },
      "execution_count": 18,
      "outputs": []
    },
    {
      "cell_type": "code",
      "source": [
        "# -*- coding: utf-8 -*-\n",
        "# Python script to open each file, read json input and copy to one text file for subsequent processing\n",
        "import os, re, sys\n",
        "\n",
        "class clHtmlDir2txt(object):\n",
        "    '''\n",
        "    @author Bogdan Babych, IÜD, Heidelberg University, 2021\n",
        "    @email bogdan [dot] babych [at] iued [dot] uni-heidelberg [dot] de\n",
        "    '''\n",
        "    def __init__(self, SDirName, output_file = 'corpus_text', tag='doc', id=1000000, find_parallel=False): # initialising by openning the directories\n",
        "        self.SOutput_file = output_file\n",
        "        self.STag = tag\n",
        "        self.ID = id        \n",
        "        self.openDir(SDirName)\n",
        "        self.BFindParallel = find_parallel\n",
        "        return\n",
        "\n",
        "    def openDir(self, path): # implementation of recursively openning directories from a given rule directory and reading each file recursively into a string\n",
        "        i = 0\n",
        "        FOut = open(self.SOutput_file + '.txt', 'w')\n",
        "        if self.BFindParallel:\n",
        "            FOutPara = open(self.SOutput_file + '_para.txt')\n",
        "\n",
        "        for root,d_names,f_names in os.walk(path):\n",
        "            for f in f_names:\n",
        "                ## remove this if using on another corpus\n",
        "                if not re.match('^[0-9]+$', f): \n",
        "                    # print(f'Skipped: {f}')\n",
        "                    continue\n",
        "\n",
        "                fullpath = os.path.join(root, f)\n",
        "                i+=1\n",
        "                if i%1==0: \n",
        "                    print(str(i) + '. Processing: ' + f)\n",
        "                    print(fullpath)\n",
        "\n",
        "                # FIn = open(fullpath,'r')\n",
        "                # SIn = FIn.read()\n",
        "                # apply text filter, if not None\n",
        "                # if self.STextFilter and (re.search(self.RFilter, SIn) == None): continue\n",
        "                # SText2Write = self.procFile(SIn,f,i)\n",
        "\n",
        "                SText2Write = self.procFile(fullpath, f, i) # returns converted string + tags\n",
        "                if SText2Write: FOut.write(SText2Write) # if the string is not empty then write to file\n",
        "                # FIn.close()\n",
        "\n",
        "                try:\n",
        "                    pass\n",
        "                except:\n",
        "                    print(f'file {f} cannot be read or processed')\n",
        "                finally:\n",
        "                    pass\n",
        "        \n",
        "        FOut.flush()\n",
        "        FOut.close()\n",
        "\n",
        "        return\n",
        "\n",
        "\n",
        "    def procFile(self, fullpath, SFNameIn, i): # sending each json string for extraction of text and attaching an correct tags to each output string output string\n",
        "        STagOpen = '<' + self.STag + ' id=\"' + self.STag + str(self.ID + i)  + '\">\\n'\n",
        "        STagClose = '\\n</' + self.STag + '>\\n\\n'\n",
        "        SText4Corpus = self.getString(fullpath, SFNameIn)\n",
        "        if SText4Corpus:\n",
        "            return STagOpen + SText4Corpus + STagClose\n",
        "        else:\n",
        "            print('\\tNo data read from: ' + SFNameIn)\n",
        "            return None\n",
        "\n",
        "\n",
        "    def getString(self, fullpath, SFNameIn):\n",
        "        '''\n",
        "        the function uses system commands to copy, open and extract content of needed files\n",
        "        '''\n",
        "        # iconv -c -t UTF-8 < input.txt > output.txt\n",
        "        # iconv -f UTF-8 -t UTF-8//IGNORE 219624.txt > 219624_V2.txt\n",
        "        # last works!\n",
        "\n",
        "        SFNameHTML = SFNameIn + '_1.html'\n",
        "        SFNameTXT2 = SFNameIn + '_2.txt'\n",
        "        SFNameTXT3 = SFNameIn + '_3.txt'\n",
        "\n",
        "        SCommand = 'cp ' + fullpath + ' ./texts/' + SFNameHTML\n",
        "        os.system(SCommand)\n",
        "\n",
        "        SCommand2 = 'lynx --dump ./texts/' + SFNameHTML + ' > ./texts/' + SFNameTXT2\n",
        "        os.system(SCommand2)\n",
        "\n",
        "        # SCommand2 = 'iconv -c -t UTF-8 < ' + SFNameHTML + ' > ./texts/' + SFNameHTML2\n",
        "        SCommand3 = 'iconv -f UTF-8 -t UTF-8//IGNORE ./texts/' + SFNameTXT2 + ' > ./texts/' + SFNameTXT3\n",
        "        os.system(SCommand3)\n",
        "\n",
        "        # stream = os.popen('lynx --dump ./' + SFNameHTML2)\n",
        "        # SFileContent = stream.read()\n",
        "\n",
        "        F2Read = open('./texts/' + SFNameTXT3, 'r', encoding=\"utf8\", errors=\"surrogateescape\")\n",
        "        SFileContent = F2Read.read()\n",
        "\n",
        "        LFileContent = re.split('\\n\\n+', SFileContent, flags=re.MULTILINE|re.DOTALL)\n",
        "        print(len(LFileContent))\n",
        "        print(LFileContent[0])\n",
        "\n",
        "        LFileContent0 = []\n",
        "        for el in LFileContent:\n",
        "            el = re.sub('\\n', ' ', el)\n",
        "            el = re.sub(' +', ' ', el)\n",
        "            LFileContent0.append(el)\n",
        "\n",
        "        SFileContent2 = '\\n\\n'.join(LFileContent0)\n",
        "        \n",
        "\n",
        "        return SFileContent2\n",
        "\n",
        "# calling the class\n",
        "OHtmlDir2txt = clHtmlDir2txt('/content/www.aerzteblatt.de')\n"
      ],
      "metadata": {
        "id": "6Ybg8wuELDa4"
      },
      "execution_count": null,
      "outputs": []
    },
    {
      "cell_type": "code",
      "source": [
        "!wc corpus_text.txt"
      ],
      "metadata": {
        "colab": {
          "base_uri": "https://localhost:8080/"
        },
        "id": "TNRXRkF5LhtA",
        "outputId": "f946ddce-bdf0-4d51-e149-4cb607bf019c"
      },
      "execution_count": 25,
      "outputs": [
        {
          "output_type": "stream",
          "name": "stdout",
          "text": [
            "  11920  315735 2862875 corpus_text.txt\n"
          ]
        }
      ]
    },
    {
      "cell_type": "code",
      "source": [
        "!head --lines=20 corpus_text.txt"
      ],
      "metadata": {
        "id": "zUdor6h1MLll"
      },
      "execution_count": null,
      "outputs": []
    },
    {
      "cell_type": "markdown",
      "source": [
        "## Parallel corpus can also be created\n",
        "- changing the input paremeter 'find_parallel=True'"
      ],
      "metadata": {
        "id": "uPANGFZnumfW"
      }
    }
  ]
}