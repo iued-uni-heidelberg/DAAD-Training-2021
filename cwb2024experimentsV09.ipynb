{
  "nbformat": 4,
  "nbformat_minor": 0,
  "metadata": {
    "colab": {
      "provenance": [],
      "include_colab_link": true
    },
    "kernelspec": {
      "name": "python3",
      "display_name": "Python 3"
    },
    "language_info": {
      "name": "python"
    }
  },
  "cells": [
    {
      "cell_type": "markdown",
      "metadata": {
        "id": "view-in-github",
        "colab_type": "text"
      },
      "source": [
        "<a href=\"https://colab.research.google.com/github/iued-uni-heidelberg/DAAD-Training-2021/blob/main/cwb2024experimentsV09.ipynb\" target=\"_parent\"><img src=\"https://colab.research.google.com/assets/colab-badge.svg\" alt=\"Open In Colab\"/></a>"
      ]
    },
    {
      "cell_type": "markdown",
      "source": [
        "# Working with CWB on Colab\n",
        "Author: Bogdan Babych, IÜD, Heidelberg University\n",
        "\n",
        "Modifying CWB installations and packages to work with colab environment\n",
        "\n",
        "### Downloading packages and data"
      ],
      "metadata": {
        "id": "3KsREtgj4KGB"
      }
    },
    {
      "cell_type": "code",
      "execution_count": 1,
      "metadata": {
        "id": "zAn_DUV0xv3Y",
        "outputId": "157845e1-1852-4193-f689-ff1a15de8911",
        "colab": {
          "base_uri": "https://localhost:8080/"
        }
      },
      "outputs": [
        {
          "output_type": "stream",
          "name": "stdout",
          "text": [
            "--2024-04-30 08:32:06--  https://heibox.uni-heidelberg.de/f/1e917698afa64a4886b9/?dl=1\n",
            "Resolving heibox.uni-heidelberg.de (heibox.uni-heidelberg.de)... 129.206.7.113\n",
            "Connecting to heibox.uni-heidelberg.de (heibox.uni-heidelberg.de)|129.206.7.113|:443... connected.\n",
            "HTTP request sent, awaiting response... 302 Found\n",
            "Location: https://heibox.uni-heidelberg.de/seafhttp/files/a6e2e4df-72c8-4f20-947f-430f2f2af9f4/cwb-3.5.0-src.tar.gz [following]\n",
            "--2024-04-30 08:32:07--  https://heibox.uni-heidelberg.de/seafhttp/files/a6e2e4df-72c8-4f20-947f-430f2f2af9f4/cwb-3.5.0-src.tar.gz\n",
            "Reusing existing connection to heibox.uni-heidelberg.de:443.\n",
            "HTTP request sent, awaiting response... 200 OK\n",
            "Length: 2928752 (2.8M) [application/octet-stream]\n",
            "Saving to: ‘index.html?dl=1’\n",
            "\n",
            "index.html?dl=1     100%[===================>]   2.79M  3.37MB/s    in 0.8s    \n",
            "\n",
            "2024-04-30 08:32:08 (3.37 MB/s) - ‘index.html?dl=1’ saved [2928752/2928752]\n",
            "\n"
          ]
        }
      ],
      "source": [
        "# v 3.4\n",
        "# !wget https://heibox.uni-heidelberg.de/f/7f1e8929352b4cf4b13a/?dl=1\n",
        "# v3.5\n",
        "!wget https://heibox.uni-heidelberg.de/f/1e917698afa64a4886b9/?dl=1"
      ]
    },
    {
      "cell_type": "code",
      "source": [
        "# !mv index.html?dl=1 cwb-3.4.22-source.tar.gz\n",
        "!mv index.html?dl=1 cwb-3.5.0-src.tar.gz"
      ],
      "metadata": {
        "id": "RISPCuS9ywar"
      },
      "execution_count": 2,
      "outputs": []
    },
    {
      "cell_type": "code",
      "source": [
        "# !tar xvfz cwb-3.4.22-source.tar.gz\n",
        "!tar xvfz cwb-3.5.0-src.tar.gz"
      ],
      "metadata": {
        "id": "-9q2g4tHy526",
        "outputId": "0e2226e0-3e2b-4f38-ec48-23a710a2e7a2",
        "colab": {
          "base_uri": "https://localhost:8080/"
        }
      },
      "execution_count": 3,
      "outputs": [
        {
          "output_type": "stream",
          "name": "stdout",
          "text": [
            "cwb-3.5.0-src/\n",
            "cwb-3.5.0-src/AUTHORS\n",
            "cwb-3.5.0-src/CHANGES\n",
            "cwb-3.5.0-src/COPYING\n",
            "cwb-3.5.0-src/INSTALL\n",
            "cwb-3.5.0-src/INSTALL-MACOS\n",
            "cwb-3.5.0-src/INSTALL-WIN\n",
            "cwb-3.5.0-src/README\n",
            "cwb-3.5.0-src/config.mk\n",
            "cwb-3.5.0-src/definitions.mk\n",
            "cwb-3.5.0-src/Makefile\n",
            "cwb-3.5.0-src/CQi/\n",
            "cwb-3.5.0-src/CQi/cqpserver.c\n",
            "cwb-3.5.0-src/CQi/cqi.h\n",
            "cwb-3.5.0-src/CQi/log.h\n",
            "cwb-3.5.0-src/CQi/server.h\n",
            "cwb-3.5.0-src/CQi/auth.c\n",
            "cwb-3.5.0-src/CQi/auth.h\n",
            "cwb-3.5.0-src/CQi/log.c\n",
            "cwb-3.5.0-src/CQi/server.c\n",
            "cwb-3.5.0-src/cl/\n",
            "cwb-3.5.0-src/cl/attributes.c\n",
            "cwb-3.5.0-src/cl/ngram-hash.c\n",
            "cwb-3.5.0-src/cl/attributes.h\n",
            "cwb-3.5.0-src/cl/bitfields.c\n",
            "cwb-3.5.0-src/cl/bitfields.h\n",
            "cwb-3.5.0-src/cl/bitio.c\n",
            "cwb-3.5.0-src/cl/bitio.h\n",
            "cwb-3.5.0-src/cl/compression.c\n",
            "cwb-3.5.0-src/cl/compression.h\n",
            "cwb-3.5.0-src/cl/corpus.h\n",
            "cwb-3.5.0-src/cl/globals.h\n",
            "cwb-3.5.0-src/cl/list.c\n",
            "cwb-3.5.0-src/cl/makecomps.h\n",
            "cwb-3.5.0-src/cl/registry.y\n",
            "cwb-3.5.0-src/cl/special-chars.h\n",
            "cwb-3.5.0-src/cl/lexhash.c\n",
            "cwb-3.5.0-src/cl/registry.l\n",
            "cwb-3.5.0-src/cl/fileutils.h\n",
            "cwb-3.5.0-src/cl/ui-helpers.c\n",
            "cwb-3.5.0-src/cl/ui-helpers.h\n",
            "cwb-3.5.0-src/cl/endian.c\n",
            "cwb-3.5.0-src/cl/dl_stub.c\n",
            "cwb-3.5.0-src/cl/endian.h\n",
            "cwb-3.5.0-src/cl/macros.c\n",
            "cwb-3.5.0-src/cl/makecomps.c\n",
            "cwb-3.5.0-src/cl/special-chars.c\n",
            "cwb-3.5.0-src/cl/storage.c\n",
            "cwb-3.5.0-src/cl/windows-mmap.c\n",
            "cwb-3.5.0-src/cl/windows-mmap.h\n",
            "cwb-3.5.0-src/cl/storage.h\n",
            "cwb-3.5.0-src/cl/regtab.h\n",
            "cwb-3.5.0-src/cl/cl.h\n",
            "cwb-3.5.0-src/cl/globals.c\n",
            "cwb-3.5.0-src/cl/cdaccess.c\n",
            "cwb-3.5.0-src/cl/corpus.c\n",
            "cwb-3.5.0-src/cl/cwb-globals.h\n",
            "cwb-3.5.0-src/cl/regtab.c\n",
            "cwb-3.5.0-src/cl/Makefile\n",
            "cwb-3.5.0-src/cl/fileutils.c\n",
            "cwb-3.5.0-src/cl/regopt.c\n",
            "cwb-3.5.0-src/cl/registry.output\n",
            "cwb-3.5.0-src/cl/registry.tab.h\n",
            "cwb-3.5.0-src/cl/registry.tab.c\n",
            "cwb-3.5.0-src/cl/lex.creg.c\n",
            "cwb-3.5.0-src/config/\n",
            "cwb-3.5.0-src/config/platform/\n",
            "cwb-3.5.0-src/config/platform/solaris\n",
            "cwb-3.5.0-src/config/platform/linux-64\n",
            "cwb-3.5.0-src/config/platform/cygwin\n",
            "cwb-3.5.0-src/config/platform/unix\n",
            "cwb-3.5.0-src/config/platform/darwin\n",
            "cwb-3.5.0-src/config/platform/darwin-64\n",
            "cwb-3.5.0-src/config/platform/darwin-brew\n",
            "cwb-3.5.0-src/config/platform/darwin-brew-m1\n",
            "cwb-3.5.0-src/config/platform/darwin-brew-release-m1\n",
            "cwb-3.5.0-src/config/platform/darwin-port\n",
            "cwb-3.5.0-src/config/platform/darwin-release\n",
            "cwb-3.5.0-src/config/platform/darwin-release-m1\n",
            "cwb-3.5.0-src/config/platform/darwin-universal\n",
            "cwb-3.5.0-src/config/platform/homebrew-formula\n",
            "cwb-3.5.0-src/config/platform/linux\n",
            "cwb-3.5.0-src/config/platform/linux-32\n",
            "cwb-3.5.0-src/config/platform/linux-native\n",
            "cwb-3.5.0-src/config/platform/linux-opteron\n",
            "cwb-3.5.0-src/config/platform/template\n",
            "cwb-3.5.0-src/config/platform/win64-msys2\n",
            "cwb-3.5.0-src/config/platform/darwin-brew-release\n",
            "cwb-3.5.0-src/config/site/\n",
            "cwb-3.5.0-src/config/site/solaris-release\n",
            "cwb-3.5.0-src/config/site/cygwin\n",
            "cwb-3.5.0-src/config/site/standard\n",
            "cwb-3.5.0-src/config/site/classic\n",
            "cwb-3.5.0-src/config/site/template\n",
            "cwb-3.5.0-src/config/site/beta-install\n",
            "cwb-3.5.0-src/config/site/homebrew-formula\n",
            "cwb-3.5.0-src/config/site/binary-release\n",
            "cwb-3.5.0-src/config/site/darwin-release\n",
            "cwb-3.5.0-src/config/site/linux-deb\n",
            "cwb-3.5.0-src/config/site/linux-release\n",
            "cwb-3.5.0-src/config/site/windows-release\n",
            "cwb-3.5.0-src/cqp/\n",
            "cwb-3.5.0-src/cqp/symtab.h\n",
            "cwb-3.5.0-src/cqp/tree.h\n",
            "cwb-3.5.0-src/cqp/eval.h\n",
            "cwb-3.5.0-src/cqp/targets.h\n",
            "cwb-3.5.0-src/cqp/cqp.h\n",
            "cwb-3.5.0-src/cqp/cqpcl.c\n",
            "cwb-3.5.0-src/cqp/macro.c\n",
            "cwb-3.5.0-src/cqp/macro.h\n",
            "cwb-3.5.0-src/cqp/parser.l\n",
            "cwb-3.5.0-src/cqp/tree.c\n",
            "cwb-3.5.0-src/cqp/groups.h\n",
            "cwb-3.5.0-src/cqp/attlist.c\n",
            "cwb-3.5.0-src/cqp/builtins.c\n",
            "cwb-3.5.0-src/cqp/builtins.h\n",
            "cwb-3.5.0-src/cqp/context_descriptor.c\n",
            "cwb-3.5.0-src/cqp/context_descriptor.h\n",
            "cwb-3.5.0-src/cqp/ranges.h\n",
            "cwb-3.5.0-src/cqp/treemacros.h\n",
            "cwb-3.5.0-src/cqp/variables.h\n",
            "cwb-3.5.0-src/cqp/ascii-print.h\n",
            "cwb-3.5.0-src/cqp/attlist.h\n",
            "cwb-3.5.0-src/cqp/html-print.h\n",
            "cwb-3.5.0-src/cqp/latex-print.h\n",
            "cwb-3.5.0-src/cqp/options.h\n",
            "cwb-3.5.0-src/cqp/output.h\n",
            "cwb-3.5.0-src/cqp/print-modes.h\n",
            "cwb-3.5.0-src/cqp/regex2dfa.h\n",
            "cwb-3.5.0-src/cqp/sgml-print.h\n",
            "cwb-3.5.0-src/cqp/concordance.h\n",
            "cwb-3.5.0-src/cqp/dummy_auth.c\n",
            "cwb-3.5.0-src/cqp/print-modes.c\n",
            "cwb-3.5.0-src/cqp/print_align.h\n",
            "cwb-3.5.0-src/cqp/ascii-print.c\n",
            "cwb-3.5.0-src/cqp/groups.c\n",
            "cwb-3.5.0-src/cqp/html-print.c\n",
            "cwb-3.5.0-src/cqp/latex-print.c\n",
            "cwb-3.5.0-src/cqp/output.c\n",
            "cwb-3.5.0-src/cqp/parse_actions.h\n",
            "cwb-3.5.0-src/cqp/parser.y\n",
            "cwb-3.5.0-src/cqp/sgml-print.c\n",
            "cwb-3.5.0-src/cqp/targets.c\n",
            "cwb-3.5.0-src/cqp/llquery.c\n",
            "cwb-3.5.0-src/cqp/parse_actions.c\n",
            "cwb-3.5.0-src/cqp/options.c\n",
            "cwb-3.5.0-src/cqp/concordance.c\n",
            "cwb-3.5.0-src/cqp/corpmanag.c\n",
            "cwb-3.5.0-src/cqp/corpmanag.h\n",
            "cwb-3.5.0-src/cqp/cqp.c\n",
            "cwb-3.5.0-src/cqp/eval.c\n",
            "cwb-3.5.0-src/cqp/matchlist.c\n",
            "cwb-3.5.0-src/cqp/matchlist.h\n",
            "cwb-3.5.0-src/cqp/print_align.c\n",
            "cwb-3.5.0-src/cqp/ranges.c\n",
            "cwb-3.5.0-src/cqp/regex2dfa.c\n",
            "cwb-3.5.0-src/cqp/symtab.c\n",
            "cwb-3.5.0-src/cqp/variables.c\n",
            "cwb-3.5.0-src/cqp/Makefile\n",
            "cwb-3.5.0-src/cqp/parser.tab.h\n",
            "cwb-3.5.0-src/cqp/parser.tab.c\n",
            "cwb-3.5.0-src/cqp/lex.yy.c\n",
            "cwb-3.5.0-src/doc/\n",
            "cwb-3.5.0-src/doc/html/\n",
            "cwb-3.5.0-src/doc/html/search/\n",
            "cwb-3.5.0-src/doc/html/search/enums_b.html\n",
            "cwb-3.5.0-src/doc/html/search/all_11.js\n",
            "cwb-3.5.0-src/doc/html/search/searchdata.js\n",
            "cwb-3.5.0-src/doc/html/search/all_0.html\n",
            "cwb-3.5.0-src/doc/html/search/all_1.html\n",
            "cwb-3.5.0-src/doc/html/search/all_10.html\n",
            "cwb-3.5.0-src/doc/html/search/all_11.html\n",
            "cwb-3.5.0-src/doc/html/search/all_12.html\n",
            "cwb-3.5.0-src/doc/html/search/all_13.html\n",
            "cwb-3.5.0-src/doc/html/search/all_14.html\n",
            "cwb-3.5.0-src/doc/html/search/all_15.html\n",
            "cwb-3.5.0-src/doc/html/search/all_16.html\n",
            "cwb-3.5.0-src/doc/html/search/all_17.html\n",
            "cwb-3.5.0-src/doc/html/search/all_18.html\n",
            "cwb-3.5.0-src/doc/html/search/all_19.html\n",
            "cwb-3.5.0-src/doc/html/search/all_1a.html\n",
            "cwb-3.5.0-src/doc/html/search/all_2.html\n",
            "cwb-3.5.0-src/doc/html/search/all_3.html\n",
            "cwb-3.5.0-src/doc/html/search/all_4.html\n",
            "cwb-3.5.0-src/doc/html/search/all_5.html\n",
            "cwb-3.5.0-src/doc/html/search/all_6.html\n",
            "cwb-3.5.0-src/doc/html/search/all_7.html\n",
            "cwb-3.5.0-src/doc/html/search/all_8.html\n",
            "cwb-3.5.0-src/doc/html/search/all_9.html\n",
            "cwb-3.5.0-src/doc/html/search/all_a.html\n",
            "cwb-3.5.0-src/doc/html/search/all_b.html\n",
            "cwb-3.5.0-src/doc/html/search/all_c.html\n",
            "cwb-3.5.0-src/doc/html/search/all_d.html\n",
            "cwb-3.5.0-src/doc/html/search/all_e.html\n",
            "cwb-3.5.0-src/doc/html/search/all_f.html\n",
            "cwb-3.5.0-src/doc/html/search/classes_0.html\n",
            "cwb-3.5.0-src/doc/html/search/classes_1.html\n",
            "cwb-3.5.0-src/doc/html/search/classes_10.html\n",
            "cwb-3.5.0-src/doc/html/search/classes_2.html\n",
            "cwb-3.5.0-src/doc/html/search/classes_3.html\n",
            "cwb-3.5.0-src/doc/html/search/classes_4.html\n",
            "cwb-3.5.0-src/doc/html/search/classes_5.html\n",
            "cwb-3.5.0-src/doc/html/search/classes_6.html\n",
            "cwb-3.5.0-src/doc/html/search/classes_7.html\n",
            "cwb-3.5.0-src/doc/html/search/classes_8.html\n",
            "cwb-3.5.0-src/doc/html/search/classes_9.html\n",
            "cwb-3.5.0-src/doc/html/search/classes_a.html\n",
            "cwb-3.5.0-src/doc/html/search/classes_b.html\n",
            "cwb-3.5.0-src/doc/html/search/classes_c.html\n",
            "cwb-3.5.0-src/doc/html/search/classes_d.html\n",
            "cwb-3.5.0-src/doc/html/search/classes_e.html\n",
            "cwb-3.5.0-src/doc/html/search/classes_f.html\n",
            "cwb-3.5.0-src/doc/html/search/close.svg\n",
            "cwb-3.5.0-src/doc/html/search/defines_0.html\n",
            "cwb-3.5.0-src/doc/html/search/defines_1.html\n",
            "cwb-3.5.0-src/doc/html/search/defines_10.html\n",
            "cwb-3.5.0-src/doc/html/search/defines_11.html\n",
            "cwb-3.5.0-src/doc/html/search/defines_12.html\n",
            "cwb-3.5.0-src/doc/html/search/defines_13.html\n",
            "cwb-3.5.0-src/doc/html/search/defines_14.html\n",
            "cwb-3.5.0-src/doc/html/search/defines_15.html\n",
            "cwb-3.5.0-src/doc/html/search/defines_2.html\n",
            "cwb-3.5.0-src/doc/html/search/defines_3.html\n",
            "cwb-3.5.0-src/doc/html/search/defines_4.html\n",
            "cwb-3.5.0-src/doc/html/search/defines_5.html\n",
            "cwb-3.5.0-src/doc/html/search/defines_6.html\n",
            "cwb-3.5.0-src/doc/html/search/defines_7.html\n",
            "cwb-3.5.0-src/doc/html/search/defines_8.html\n",
            "cwb-3.5.0-src/doc/html/search/defines_9.html\n",
            "cwb-3.5.0-src/doc/html/search/defines_a.html\n",
            "cwb-3.5.0-src/doc/html/search/defines_b.html\n",
            "cwb-3.5.0-src/doc/html/search/defines_c.html\n",
            "cwb-3.5.0-src/doc/html/search/defines_d.html\n",
            "cwb-3.5.0-src/doc/html/search/defines_e.html\n",
            "cwb-3.5.0-src/doc/html/search/defines_f.html\n",
            "cwb-3.5.0-src/doc/html/search/enums_0.html\n",
            "cwb-3.5.0-src/doc/html/search/enums_1.html\n",
            "cwb-3.5.0-src/doc/html/search/enums_2.html\n",
            "cwb-3.5.0-src/doc/html/search/enums_3.html\n",
            "cwb-3.5.0-src/doc/html/search/enums_4.html\n",
            "cwb-3.5.0-src/doc/html/search/enums_5.html\n",
            "cwb-3.5.0-src/doc/html/search/enums_6.html\n",
            "cwb-3.5.0-src/doc/html/search/enums_7.html\n",
            "cwb-3.5.0-src/doc/html/search/enums_8.html\n",
            "cwb-3.5.0-src/doc/html/search/enums_9.html\n",
            "cwb-3.5.0-src/doc/html/search/enums_a.html\n",
            "cwb-3.5.0-src/doc/html/search/enumvalues_0.html\n",
            "cwb-3.5.0-src/doc/html/search/enumvalues_1.html\n",
            "cwb-3.5.0-src/doc/html/search/enumvalues_10.html\n",
            "cwb-3.5.0-src/doc/html/search/enumvalues_11.html\n",
            "cwb-3.5.0-src/doc/html/search/enumvalues_12.html\n",
            "cwb-3.5.0-src/doc/html/search/enumvalues_13.html\n",
            "cwb-3.5.0-src/doc/html/search/enumvalues_14.html\n",
            "cwb-3.5.0-src/doc/html/search/enumvalues_15.html\n",
            "cwb-3.5.0-src/doc/html/search/enumvalues_16.html\n",
            "cwb-3.5.0-src/doc/html/search/enumvalues_2.html\n",
            "cwb-3.5.0-src/doc/html/search/enumvalues_3.html\n",
            "cwb-3.5.0-src/doc/html/search/enumvalues_4.html\n",
            "cwb-3.5.0-src/doc/html/search/enumvalues_5.html\n",
            "cwb-3.5.0-src/doc/html/search/enumvalues_6.html\n",
            "cwb-3.5.0-src/doc/html/search/enumvalues_7.html\n",
            "cwb-3.5.0-src/doc/html/search/enumvalues_8.html\n",
            "cwb-3.5.0-src/doc/html/search/enumvalues_9.html\n",
            "cwb-3.5.0-src/doc/html/search/enumvalues_a.html\n",
            "cwb-3.5.0-src/doc/html/search/enumvalues_b.html\n",
            "cwb-3.5.0-src/doc/html/search/enumvalues_c.html\n",
            "cwb-3.5.0-src/doc/html/search/enumvalues_d.html\n",
            "cwb-3.5.0-src/doc/html/search/enumvalues_e.html\n",
            "cwb-3.5.0-src/doc/html/search/enumvalues_f.html\n",
            "cwb-3.5.0-src/doc/html/search/files_0.html\n",
            "cwb-3.5.0-src/doc/html/search/files_1.html\n",
            "cwb-3.5.0-src/doc/html/search/files_10.html\n",
            "cwb-3.5.0-src/doc/html/search/files_11.html\n",
            "cwb-3.5.0-src/doc/html/search/files_12.html\n",
            "cwb-3.5.0-src/doc/html/search/files_2.html\n",
            "cwb-3.5.0-src/doc/html/search/files_3.html\n",
            "cwb-3.5.0-src/doc/html/search/files_4.html\n",
            "cwb-3.5.0-src/doc/html/search/files_5.html\n",
            "cwb-3.5.0-src/doc/html/search/files_6.html\n",
            "cwb-3.5.0-src/doc/html/search/files_7.html\n",
            "cwb-3.5.0-src/doc/html/search/files_8.html\n",
            "cwb-3.5.0-src/doc/html/search/files_9.html\n",
            "cwb-3.5.0-src/doc/html/search/files_a.html\n",
            "cwb-3.5.0-src/doc/html/search/files_b.html\n",
            "cwb-3.5.0-src/doc/html/search/files_c.html\n",
            "cwb-3.5.0-src/doc/html/search/files_d.html\n",
            "cwb-3.5.0-src/doc/html/search/files_e.html\n",
            "cwb-3.5.0-src/doc/html/search/files_f.html\n",
            "cwb-3.5.0-src/doc/html/search/functions_0.html\n",
            "cwb-3.5.0-src/doc/html/search/functions_1.html\n",
            "cwb-3.5.0-src/doc/html/search/functions_10.html\n",
            "cwb-3.5.0-src/doc/html/search/functions_11.html\n",
            "cwb-3.5.0-src/doc/html/search/functions_12.html\n",
            "cwb-3.5.0-src/doc/html/search/functions_13.html\n",
            "cwb-3.5.0-src/doc/html/search/functions_14.html\n",
            "cwb-3.5.0-src/doc/html/search/functions_15.html\n",
            "cwb-3.5.0-src/doc/html/search/functions_16.html\n",
            "cwb-3.5.0-src/doc/html/search/functions_2.html\n",
            "cwb-3.5.0-src/doc/html/search/functions_3.html\n",
            "cwb-3.5.0-src/doc/html/search/functions_4.html\n",
            "cwb-3.5.0-src/doc/html/search/functions_5.html\n",
            "cwb-3.5.0-src/doc/html/search/functions_6.html\n",
            "cwb-3.5.0-src/doc/html/search/functions_7.html\n",
            "cwb-3.5.0-src/doc/html/search/functions_8.html\n",
            "cwb-3.5.0-src/doc/html/search/functions_9.html\n",
            "cwb-3.5.0-src/doc/html/search/functions_a.html\n",
            "cwb-3.5.0-src/doc/html/search/functions_b.html\n",
            "cwb-3.5.0-src/doc/html/search/functions_c.html\n",
            "cwb-3.5.0-src/doc/html/search/functions_d.html\n",
            "cwb-3.5.0-src/doc/html/search/functions_e.html\n",
            "cwb-3.5.0-src/doc/html/search/functions_f.html\n",
            "cwb-3.5.0-src/doc/html/search/mag_sel.svg\n",
            "cwb-3.5.0-src/doc/html/search/nomatches.html\n",
            "cwb-3.5.0-src/doc/html/search/search.css\n",
            "cwb-3.5.0-src/doc/html/search/search.js\n",
            "cwb-3.5.0-src/doc/html/search/search_l.png\n",
            "cwb-3.5.0-src/doc/html/search/search_m.png\n",
            "cwb-3.5.0-src/doc/html/search/search_r.png\n",
            "cwb-3.5.0-src/doc/html/search/typedefs_0.html\n",
            "cwb-3.5.0-src/doc/html/search/typedefs_1.html\n",
            "cwb-3.5.0-src/doc/html/search/typedefs_10.html\n",
            "cwb-3.5.0-src/doc/html/search/typedefs_11.html\n",
            "cwb-3.5.0-src/doc/html/search/typedefs_12.html\n",
            "cwb-3.5.0-src/doc/html/search/typedefs_2.html\n",
            "cwb-3.5.0-src/doc/html/search/typedefs_3.html\n",
            "cwb-3.5.0-src/doc/html/search/typedefs_4.html\n",
            "cwb-3.5.0-src/doc/html/search/typedefs_5.html\n",
            "cwb-3.5.0-src/doc/html/search/typedefs_6.html\n",
            "cwb-3.5.0-src/doc/html/search/typedefs_7.html\n",
            "cwb-3.5.0-src/doc/html/search/typedefs_8.html\n",
            "cwb-3.5.0-src/doc/html/search/typedefs_9.html\n",
            "cwb-3.5.0-src/doc/html/search/typedefs_a.html\n",
            "cwb-3.5.0-src/doc/html/search/typedefs_b.html\n",
            "cwb-3.5.0-src/doc/html/search/typedefs_c.html\n",
            "cwb-3.5.0-src/doc/html/search/typedefs_d.html\n",
            "cwb-3.5.0-src/doc/html/search/typedefs_e.html\n",
            "cwb-3.5.0-src/doc/html/search/typedefs_f.html\n",
            "cwb-3.5.0-src/doc/html/search/variables_0.html\n",
            "cwb-3.5.0-src/doc/html/search/variables_1.html\n",
            "cwb-3.5.0-src/doc/html/search/variables_10.html\n",
            "cwb-3.5.0-src/doc/html/search/variables_11.html\n",
            "cwb-3.5.0-src/doc/html/search/variables_12.html\n",
            "cwb-3.5.0-src/doc/html/search/variables_13.html\n",
            "cwb-3.5.0-src/doc/html/search/variables_14.html\n",
            "cwb-3.5.0-src/doc/html/search/variables_15.html\n",
            "cwb-3.5.0-src/doc/html/search/variables_16.html\n",
            "cwb-3.5.0-src/doc/html/search/variables_17.html\n",
            "cwb-3.5.0-src/doc/html/search/variables_18.html\n",
            "cwb-3.5.0-src/doc/html/search/variables_19.html\n",
            "cwb-3.5.0-src/doc/html/search/variables_2.html\n",
            "cwb-3.5.0-src/doc/html/search/variables_3.html\n",
            "cwb-3.5.0-src/doc/html/search/variables_4.html\n",
            "cwb-3.5.0-src/doc/html/search/variables_5.html\n",
            "cwb-3.5.0-src/doc/html/search/variables_6.html\n",
            "cwb-3.5.0-src/doc/html/search/variables_7.html\n",
            "cwb-3.5.0-src/doc/html/search/variables_8.html\n",
            "cwb-3.5.0-src/doc/html/search/variables_9.html\n",
            "cwb-3.5.0-src/doc/html/search/variables_a.html\n",
            "cwb-3.5.0-src/doc/html/search/variables_b.html\n",
            "cwb-3.5.0-src/doc/html/search/variables_c.html\n",
            "cwb-3.5.0-src/doc/html/search/variables_d.html\n",
            "cwb-3.5.0-src/doc/html/search/variables_e.html\n",
            "cwb-3.5.0-src/doc/html/search/variables_f.html\n",
            "cwb-3.5.0-src/doc/html/search/all_0.js\n",
            "cwb-3.5.0-src/doc/html/search/all_1.js\n",
            "cwb-3.5.0-src/doc/html/search/all_10.js\n",
            "cwb-3.5.0-src/doc/html/search/all_12.js\n",
            "cwb-3.5.0-src/doc/html/search/all_13.js\n",
            "cwb-3.5.0-src/doc/html/search/all_14.js\n",
            "cwb-3.5.0-src/doc/html/search/all_15.js\n",
            "cwb-3.5.0-src/doc/html/search/all_16.js\n",
            "cwb-3.5.0-src/doc/html/search/all_17.js\n",
            "cwb-3.5.0-src/doc/html/search/all_18.js\n",
            "cwb-3.5.0-src/doc/html/search/all_19.js\n",
            "cwb-3.5.0-src/doc/html/search/all_1a.js\n",
            "cwb-3.5.0-src/doc/html/search/all_2.js\n",
            "cwb-3.5.0-src/doc/html/search/all_3.js\n",
            "cwb-3.5.0-src/doc/html/search/all_4.js\n",
            "cwb-3.5.0-src/doc/html/search/all_5.js\n",
            "cwb-3.5.0-src/doc/html/search/all_6.js\n",
            "cwb-3.5.0-src/doc/html/search/all_7.js\n",
            "cwb-3.5.0-src/doc/html/search/all_8.js\n",
            "cwb-3.5.0-src/doc/html/search/all_9.js\n",
            "cwb-3.5.0-src/doc/html/search/all_a.js\n",
            "cwb-3.5.0-src/doc/html/search/all_b.js\n",
            "cwb-3.5.0-src/doc/html/search/all_c.js\n",
            "cwb-3.5.0-src/doc/html/search/all_d.js\n",
            "cwb-3.5.0-src/doc/html/search/all_e.js\n",
            "cwb-3.5.0-src/doc/html/search/all_f.js\n",
            "cwb-3.5.0-src/doc/html/search/classes_0.js\n",
            "cwb-3.5.0-src/doc/html/search/classes_1.js\n",
            "cwb-3.5.0-src/doc/html/search/classes_10.js\n",
            "cwb-3.5.0-src/doc/html/search/classes_2.js\n",
            "cwb-3.5.0-src/doc/html/search/classes_3.js\n",
            "cwb-3.5.0-src/doc/html/search/classes_4.js\n",
            "cwb-3.5.0-src/doc/html/search/classes_5.js\n",
            "cwb-3.5.0-src/doc/html/search/classes_6.js\n",
            "cwb-3.5.0-src/doc/html/search/classes_7.js\n",
            "cwb-3.5.0-src/doc/html/search/classes_8.js\n",
            "cwb-3.5.0-src/doc/html/search/classes_9.js\n",
            "cwb-3.5.0-src/doc/html/search/classes_a.js\n",
            "cwb-3.5.0-src/doc/html/search/classes_b.js\n",
            "cwb-3.5.0-src/doc/html/search/classes_c.js\n",
            "cwb-3.5.0-src/doc/html/search/classes_d.js\n",
            "cwb-3.5.0-src/doc/html/search/classes_e.js\n",
            "cwb-3.5.0-src/doc/html/search/classes_f.js\n",
            "cwb-3.5.0-src/doc/html/search/defines_0.js\n",
            "cwb-3.5.0-src/doc/html/search/defines_1.js\n",
            "cwb-3.5.0-src/doc/html/search/defines_10.js\n",
            "cwb-3.5.0-src/doc/html/search/defines_11.js\n",
            "cwb-3.5.0-src/doc/html/search/defines_12.js\n",
            "cwb-3.5.0-src/doc/html/search/defines_13.js\n",
            "cwb-3.5.0-src/doc/html/search/defines_14.js\n",
            "cwb-3.5.0-src/doc/html/search/defines_15.js\n",
            "cwb-3.5.0-src/doc/html/search/defines_2.js\n",
            "cwb-3.5.0-src/doc/html/search/defines_3.js\n",
            "cwb-3.5.0-src/doc/html/search/defines_4.js\n",
            "cwb-3.5.0-src/doc/html/search/defines_5.js\n",
            "cwb-3.5.0-src/doc/html/search/defines_6.js\n",
            "cwb-3.5.0-src/doc/html/search/defines_7.js\n",
            "cwb-3.5.0-src/doc/html/search/defines_8.js\n",
            "cwb-3.5.0-src/doc/html/search/defines_9.js\n",
            "cwb-3.5.0-src/doc/html/search/defines_a.js\n",
            "cwb-3.5.0-src/doc/html/search/defines_b.js\n",
            "cwb-3.5.0-src/doc/html/search/defines_c.js\n",
            "cwb-3.5.0-src/doc/html/search/defines_d.js\n",
            "cwb-3.5.0-src/doc/html/search/defines_e.js\n",
            "cwb-3.5.0-src/doc/html/search/defines_f.js\n",
            "cwb-3.5.0-src/doc/html/search/enums_0.js\n",
            "cwb-3.5.0-src/doc/html/search/enums_1.js\n",
            "cwb-3.5.0-src/doc/html/search/enums_2.js\n",
            "cwb-3.5.0-src/doc/html/search/enums_3.js\n",
            "cwb-3.5.0-src/doc/html/search/enums_4.js\n",
            "cwb-3.5.0-src/doc/html/search/enums_5.js\n",
            "cwb-3.5.0-src/doc/html/search/enums_6.js\n",
            "cwb-3.5.0-src/doc/html/search/enums_7.js\n",
            "cwb-3.5.0-src/doc/html/search/enums_8.js\n",
            "cwb-3.5.0-src/doc/html/search/enums_9.js\n",
            "cwb-3.5.0-src/doc/html/search/enums_a.js\n",
            "cwb-3.5.0-src/doc/html/search/enums_b.js\n",
            "cwb-3.5.0-src/doc/html/search/enumvalues_0.js\n",
            "cwb-3.5.0-src/doc/html/search/enumvalues_1.js\n",
            "cwb-3.5.0-src/doc/html/search/enumvalues_10.js\n",
            "cwb-3.5.0-src/doc/html/search/enumvalues_11.js\n",
            "cwb-3.5.0-src/doc/html/search/enumvalues_12.js\n",
            "cwb-3.5.0-src/doc/html/search/enumvalues_13.js\n",
            "cwb-3.5.0-src/doc/html/search/enumvalues_14.js\n",
            "cwb-3.5.0-src/doc/html/search/enumvalues_15.js\n",
            "cwb-3.5.0-src/doc/html/search/enumvalues_16.js\n",
            "cwb-3.5.0-src/doc/html/search/enumvalues_2.js\n",
            "cwb-3.5.0-src/doc/html/search/enumvalues_3.js\n",
            "cwb-3.5.0-src/doc/html/search/enumvalues_4.js\n",
            "cwb-3.5.0-src/doc/html/search/enumvalues_5.js\n",
            "cwb-3.5.0-src/doc/html/search/enumvalues_6.js\n",
            "cwb-3.5.0-src/doc/html/search/enumvalues_7.js\n",
            "cwb-3.5.0-src/doc/html/search/enumvalues_8.js\n",
            "cwb-3.5.0-src/doc/html/search/enumvalues_9.js\n",
            "cwb-3.5.0-src/doc/html/search/enumvalues_a.js\n",
            "cwb-3.5.0-src/doc/html/search/enumvalues_b.js\n",
            "cwb-3.5.0-src/doc/html/search/enumvalues_c.js\n",
            "cwb-3.5.0-src/doc/html/search/enumvalues_d.js\n",
            "cwb-3.5.0-src/doc/html/search/enumvalues_e.js\n",
            "cwb-3.5.0-src/doc/html/search/enumvalues_f.js\n",
            "cwb-3.5.0-src/doc/html/search/files_0.js\n",
            "cwb-3.5.0-src/doc/html/search/files_1.js\n",
            "cwb-3.5.0-src/doc/html/search/files_10.js\n",
            "cwb-3.5.0-src/doc/html/search/files_11.js\n",
            "cwb-3.5.0-src/doc/html/search/files_12.js\n",
            "cwb-3.5.0-src/doc/html/search/files_2.js\n",
            "cwb-3.5.0-src/doc/html/search/files_3.js\n",
            "cwb-3.5.0-src/doc/html/search/files_4.js\n",
            "cwb-3.5.0-src/doc/html/search/files_5.js\n",
            "cwb-3.5.0-src/doc/html/search/files_6.js\n",
            "cwb-3.5.0-src/doc/html/search/files_7.js\n",
            "cwb-3.5.0-src/doc/html/search/files_8.js\n",
            "cwb-3.5.0-src/doc/html/search/files_9.js\n",
            "cwb-3.5.0-src/doc/html/search/files_a.js\n",
            "cwb-3.5.0-src/doc/html/search/files_b.js\n",
            "cwb-3.5.0-src/doc/html/search/files_c.js\n",
            "cwb-3.5.0-src/doc/html/search/files_d.js\n",
            "cwb-3.5.0-src/doc/html/search/files_e.js\n",
            "cwb-3.5.0-src/doc/html/search/files_f.js\n",
            "cwb-3.5.0-src/doc/html/search/functions_0.js\n",
            "cwb-3.5.0-src/doc/html/search/functions_1.js\n",
            "cwb-3.5.0-src/doc/html/search/functions_10.js\n",
            "cwb-3.5.0-src/doc/html/search/functions_11.js\n",
            "cwb-3.5.0-src/doc/html/search/functions_12.js\n",
            "cwb-3.5.0-src/doc/html/search/functions_13.js\n",
            "cwb-3.5.0-src/doc/html/search/functions_14.js\n",
            "cwb-3.5.0-src/doc/html/search/functions_15.js\n",
            "cwb-3.5.0-src/doc/html/search/functions_16.js\n",
            "cwb-3.5.0-src/doc/html/search/functions_2.js\n",
            "cwb-3.5.0-src/doc/html/search/functions_3.js\n",
            "cwb-3.5.0-src/doc/html/search/functions_4.js\n",
            "cwb-3.5.0-src/doc/html/search/functions_5.js\n",
            "cwb-3.5.0-src/doc/html/search/functions_6.js\n",
            "cwb-3.5.0-src/doc/html/search/functions_7.js\n",
            "cwb-3.5.0-src/doc/html/search/functions_8.js\n",
            "cwb-3.5.0-src/doc/html/search/functions_9.js\n",
            "cwb-3.5.0-src/doc/html/search/functions_a.js\n",
            "cwb-3.5.0-src/doc/html/search/functions_b.js\n",
            "cwb-3.5.0-src/doc/html/search/functions_c.js\n",
            "cwb-3.5.0-src/doc/html/search/functions_d.js\n",
            "cwb-3.5.0-src/doc/html/search/functions_e.js\n",
            "cwb-3.5.0-src/doc/html/search/functions_f.js\n",
            "cwb-3.5.0-src/doc/html/search/typedefs_0.js\n",
            "cwb-3.5.0-src/doc/html/search/typedefs_1.js\n",
            "cwb-3.5.0-src/doc/html/search/typedefs_10.js\n",
            "cwb-3.5.0-src/doc/html/search/typedefs_11.js\n",
            "cwb-3.5.0-src/doc/html/search/typedefs_12.js\n",
            "cwb-3.5.0-src/doc/html/search/typedefs_2.js\n",
            "cwb-3.5.0-src/doc/html/search/typedefs_3.js\n",
            "cwb-3.5.0-src/doc/html/search/typedefs_4.js\n",
            "cwb-3.5.0-src/doc/html/search/typedefs_5.js\n",
            "cwb-3.5.0-src/doc/html/search/typedefs_6.js\n",
            "cwb-3.5.0-src/doc/html/search/typedefs_7.js\n",
            "cwb-3.5.0-src/doc/html/search/typedefs_8.js\n",
            "cwb-3.5.0-src/doc/html/search/typedefs_9.js\n",
            "cwb-3.5.0-src/doc/html/search/typedefs_a.js\n",
            "cwb-3.5.0-src/doc/html/search/typedefs_b.js\n",
            "cwb-3.5.0-src/doc/html/search/typedefs_c.js\n",
            "cwb-3.5.0-src/doc/html/search/typedefs_d.js\n",
            "cwb-3.5.0-src/doc/html/search/typedefs_e.js\n",
            "cwb-3.5.0-src/doc/html/search/typedefs_f.js\n",
            "cwb-3.5.0-src/doc/html/search/variables_0.js\n",
            "cwb-3.5.0-src/doc/html/search/variables_1.js\n",
            "cwb-3.5.0-src/doc/html/search/variables_10.js\n",
            "cwb-3.5.0-src/doc/html/search/variables_11.js\n",
            "cwb-3.5.0-src/doc/html/search/variables_12.js\n",
            "cwb-3.5.0-src/doc/html/search/variables_13.js\n",
            "cwb-3.5.0-src/doc/html/search/variables_14.js\n",
            "cwb-3.5.0-src/doc/html/search/variables_15.js\n",
            "cwb-3.5.0-src/doc/html/search/variables_16.js\n",
            "cwb-3.5.0-src/doc/html/search/variables_17.js\n",
            "cwb-3.5.0-src/doc/html/search/variables_18.js\n",
            "cwb-3.5.0-src/doc/html/search/variables_19.js\n",
            "cwb-3.5.0-src/doc/html/search/variables_2.js\n",
            "cwb-3.5.0-src/doc/html/search/variables_3.js\n",
            "cwb-3.5.0-src/doc/html/search/variables_4.js\n",
            "cwb-3.5.0-src/doc/html/search/variables_5.js\n",
            "cwb-3.5.0-src/doc/html/search/variables_6.js\n",
            "cwb-3.5.0-src/doc/html/search/variables_7.js\n",
            "cwb-3.5.0-src/doc/html/search/variables_8.js\n",
            "cwb-3.5.0-src/doc/html/search/variables_9.js\n",
            "cwb-3.5.0-src/doc/html/search/variables_a.js\n",
            "cwb-3.5.0-src/doc/html/search/variables_b.js\n",
            "cwb-3.5.0-src/doc/html/search/variables_c.js\n",
            "cwb-3.5.0-src/doc/html/search/variables_d.js\n",
            "cwb-3.5.0-src/doc/html/search/variables_e.js\n",
            "cwb-3.5.0-src/doc/html/search/variables_f.js\n",
            "cwb-3.5.0-src/doc/html/concordance_8h.html\n",
            "cwb-3.5.0-src/doc/html/corpmanag_8c.js\n",
            "cwb-3.5.0-src/doc/html/corpmanag_8h.js\n",
            "cwb-3.5.0-src/doc/html/cqp_8c.js\n",
            "cwb-3.5.0-src/doc/html/cqp_8h.js\n",
            "cwb-3.5.0-src/doc/html/cqpcl_8c.html\n",
            "cwb-3.5.0-src/doc/html/cqpserver_8c.html\n",
            "cwb-3.5.0-src/doc/html/cwb-compress-rdx_8c.html\n",
            "cwb-3.5.0-src/doc/html/cwb-decode_8c.html\n",
            "cwb-3.5.0-src/doc/html/cwb-decode_8c.js\n",
            "cwb-3.5.0-src/doc/html/cwb-s-encode_8c.js\n",
            "cwb-3.5.0-src/doc/html/eval_8c.js\n",
            "cwb-3.5.0-src/doc/html/eval_8h.html\n",
            "cwb-3.5.0-src/doc/html/eval_8h.js\n",
            "cwb-3.5.0-src/doc/html/functions.html\n",
            "cwb-3.5.0-src/doc/html/functions_b.html\n",
            "cwb-3.5.0-src/doc/html/functions_c.html\n",
            "cwb-3.5.0-src/doc/html/functions_e.html\n",
            "cwb-3.5.0-src/doc/html/functions_h.html\n",
            "cwb-3.5.0-src/doc/html/functions_m.html\n",
            "cwb-3.5.0-src/doc/html/functions_n.html\n",
            "cwb-3.5.0-src/doc/html/functions_o.html\n",
            "cwb-3.5.0-src/doc/html/functions_q.html\n",
            "cwb-3.5.0-src/doc/html/functions_r.html\n",
            "cwb-3.5.0-src/doc/html/functions_s.html\n",
            "cwb-3.5.0-src/doc/html/functions_t.html\n",
            "cwb-3.5.0-src/doc/html/functions_vars.html\n",
            "cwb-3.5.0-src/doc/html/functions_vars_b.html\n",
            "cwb-3.5.0-src/doc/html/functions_vars_c.html\n",
            "cwb-3.5.0-src/doc/html/functions_vars_e.html\n",
            "cwb-3.5.0-src/doc/html/functions_vars_h.html\n",
            "cwb-3.5.0-src/doc/html/functions_vars_m.html\n",
            "cwb-3.5.0-src/doc/html/functions_vars_n.html\n",
            "cwb-3.5.0-src/doc/html/functions_vars_o.html\n",
            "cwb-3.5.0-src/doc/html/functions_vars_q.html\n",
            "cwb-3.5.0-src/doc/html/functions_vars_r.html\n",
            "cwb-3.5.0-src/doc/html/functions_vars_s.html\n",
            "cwb-3.5.0-src/doc/html/functions_vars_t.html\n",
            "cwb-3.5.0-src/doc/html/globals.html\n",
            "cwb-3.5.0-src/doc/html/globals_enum.html\n",
            "cwb-3.5.0-src/doc/html/globals_func.html\n",
            "cwb-3.5.0-src/doc/html/globals_func_g.html\n",
            "cwb-3.5.0-src/doc/html/globals_type.html\n",
            "cwb-3.5.0-src/doc/html/llquery_8c.html\n",
            "cwb-3.5.0-src/doc/html/macro_8c.js\n",
            "cwb-3.5.0-src/doc/html/macro_8h.js\n",
            "cwb-3.5.0-src/doc/html/matchlist_8c.js\n",
            "cwb-3.5.0-src/doc/html/matchlist_8h.js\n",
            "cwb-3.5.0-src/doc/html/options_8c.html\n",
            "cwb-3.5.0-src/doc/html/options_8h.html\n",
            "cwb-3.5.0-src/doc/html/struct___f_s_a_state.html\n",
            "cwb-3.5.0-src/doc/html/struct___f_s_a_state.js\n",
            "cwb-3.5.0-src/doc/html/struct___macro_entry.html\n",
            "cwb-3.5.0-src/doc/html/struct___macro_segment.html\n",
            "cwb-3.5.0-src/doc/html/struct___state_queue.html\n",
            "cwb-3.5.0-src/doc/html/struct___state_queue.js\n",
            "cwb-3.5.0-src/doc/html/struct__label__entry.html\n",
            "cwb-3.5.0-src/doc/html/struct_a_v_list.html\n",
            "cwb-3.5.0-src/doc/html/struct_a_v_list.js\n",
            "cwb-3.5.0-src/doc/html/struct_att_spec.html\n",
            "cwb-3.5.0-src/doc/html/struct_att_spec.js\n",
            "cwb-3.5.0-src/doc/html/struct_macro_hash_table.html\n",
            "cwb-3.5.0-src/doc/html/struct_match_selector.html\n",
            "cwb-3.5.0-src/doc/html/struct_match_selector.js\n",
            "cwb-3.5.0-src/doc/html/struct_range.html\n",
            "cwb-3.5.0-src/doc/html/struct_s_att_region.html\n",
            "cwb-3.5.0-src/doc/html/struct_s_att_region.js\n",
            "cwb-3.5.0-src/doc/html/structcl.html\n",
            "cwb-3.5.0-src/doc/html/structctxtsp.html\n",
            "cwb-3.5.0-src/doc/html/structdfa.html\n",
            "cwb-3.5.0-src/doc/html/structevalenv.html\n",
            "cwb-3.5.0-src/doc/html/structevalenv.js\n",
            "cwb-3.5.0-src/doc/html/structexp.html\n",
            "cwb-3.5.0-src/doc/html/structexp.js\n",
            "cwb-3.5.0-src/doc/html/structstate.html\n",
            "cwb-3.5.0-src/doc/html/structstate.js\n",
            "cwb-3.5.0-src/doc/html/symtab_8c.html\n",
            "cwb-3.5.0-src/doc/html/symtab_8c.js\n",
            "cwb-3.5.0-src/doc/html/targets_8c.js\n",
            "cwb-3.5.0-src/doc/html/targets_8h.js\n",
            "cwb-3.5.0-src/doc/html/tree_8c.js\n",
            "cwb-3.5.0-src/doc/html/ui-helpers_8c.html\n",
            "cwb-3.5.0-src/doc/html/ui-helpers_8h.html\n",
            "cwb-3.5.0-src/doc/html/union___attribute.html\n",
            "cwb-3.5.0-src/doc/html/union__avs.html\n",
            "cwb-3.5.0-src/doc/html/union__avs.js\n",
            "cwb-3.5.0-src/doc/html/unione__tree.html\n",
            "cwb-3.5.0-src/doc/html/unione__tree.js\n",
            "cwb-3.5.0-src/doc/html/attlist_8c.html\n",
            "cwb-3.5.0-src/doc/html/attlist_8h.html\n",
            "cwb-3.5.0-src/doc/html/attributes_8h.html\n",
            "cwb-3.5.0-src/doc/html/auth_8c.html\n",
            "cwb-3.5.0-src/doc/html/auth_8h.html\n",
            "cwb-3.5.0-src/doc/html/barlib_8c.html\n",
            "cwb-3.5.0-src/doc/html/barlib_8h.html\n",
            "cwb-3.5.0-src/doc/html/bitfields_8c.html\n",
            "cwb-3.5.0-src/doc/html/bitfields_8h.html\n",
            "cwb-3.5.0-src/doc/html/bitio_8c.html\n",
            "cwb-3.5.0-src/doc/html/bitio_8h.html\n",
            "cwb-3.5.0-src/doc/html/builtins_8h.html\n",
            "cwb-3.5.0-src/doc/html/compression_8c.html\n",
            "cwb-3.5.0-src/doc/html/compression_8h.html\n",
            "cwb-3.5.0-src/doc/html/context__descriptor_8h.html\n",
            "cwb-3.5.0-src/doc/html/corpus_8h.html\n",
            "cwb-3.5.0-src/doc/html/cqi_8h.html\n",
            "cwb-3.5.0-src/doc/html/cwb-align-decode_8c.html\n",
            "cwb-3.5.0-src/doc/html/cwb-align_8c.html\n",
            "cwb-3.5.0-src/doc/html/cwb-atoi_8c.html\n",
            "cwb-3.5.0-src/doc/html/cwb-describe-corpus_8c.html\n",
            "cwb-3.5.0-src/doc/html/cwb-huffcode_8c.html\n",
            "cwb-3.5.0-src/doc/html/cwb-makeall_8c.html\n",
            "cwb-3.5.0-src/doc/html/cwb-s-decode_8c.html\n",
            "cwb-3.5.0-src/doc/html/dir_14e46b28f8bd3b6864baed6345c77e95.html\n",
            "cwb-3.5.0-src/doc/html/dl__stub_8c.html\n",
            "cwb-3.5.0-src/doc/html/dummy__auth_8c.html\n",
            "cwb-3.5.0-src/doc/html/endian_8c.html\n",
            "cwb-3.5.0-src/doc/html/endian_8h.html\n",
            "cwb-3.5.0-src/doc/html/feature__maps_8c.html\n",
            "cwb-3.5.0-src/doc/html/feature__maps_8h.html\n",
            "cwb-3.5.0-src/doc/html/functions_d.html\n",
            "cwb-3.5.0-src/doc/html/functions_g.html\n",
            "cwb-3.5.0-src/doc/html/functions_i.html\n",
            "cwb-3.5.0-src/doc/html/functions_j.html\n",
            "cwb-3.5.0-src/doc/html/functions_l.html\n",
            "cwb-3.5.0-src/doc/html/functions_p.html\n",
            "cwb-3.5.0-src/doc/html/functions_u.html\n",
            "cwb-3.5.0-src/doc/html/functions_v.html\n",
            "cwb-3.5.0-src/doc/html/functions_vars_d.html\n",
            "cwb-3.5.0-src/doc/html/functions_vars_g.html\n",
            "cwb-3.5.0-src/doc/html/functions_vars_i.html\n",
            "cwb-3.5.0-src/doc/html/functions_vars_j.html\n",
            "cwb-3.5.0-src/doc/html/functions_vars_l.html\n",
            "cwb-3.5.0-src/doc/html/functions_vars_p.html\n",
            "cwb-3.5.0-src/doc/html/functions_vars_u.html\n",
            "cwb-3.5.0-src/doc/html/functions_vars_v.html\n",
            "cwb-3.5.0-src/doc/html/functions_vars_w.html\n",
            "cwb-3.5.0-src/doc/html/functions_vars_x.html\n",
            "cwb-3.5.0-src/doc/html/functions_vars_y.html\n",
            "cwb-3.5.0-src/doc/html/functions_w.html\n",
            "cwb-3.5.0-src/doc/html/functions_x.html\n",
            "cwb-3.5.0-src/doc/html/functions_y.html\n",
            "cwb-3.5.0-src/doc/html/globals_defs.html\n",
            "cwb-3.5.0-src/doc/html/globals_defs_b.html\n",
            "cwb-3.5.0-src/doc/html/globals_defs_d.html\n",
            "cwb-3.5.0-src/doc/html/globals_defs_e.html\n",
            "cwb-3.5.0-src/doc/html/globals_defs_f.html\n",
            "cwb-3.5.0-src/doc/html/globals_defs_g.html\n",
            "cwb-3.5.0-src/doc/html/globals_defs_h.html\n",
            "cwb-3.5.0-src/doc/html/globals_defs_i.html\n",
            "cwb-3.5.0-src/doc/html/globals_defs_l.html\n",
            "cwb-3.5.0-src/doc/html/globals_defs_m.html\n",
            "cwb-3.5.0-src/doc/html/globals_defs_n.html\n",
            "cwb-3.5.0-src/doc/html/globals_defs_o.html\n",
            "cwb-3.5.0-src/doc/html/globals_defs_p.html\n",
            "cwb-3.5.0-src/doc/html/globals_defs_q.html\n",
            "cwb-3.5.0-src/doc/html/globals_defs_r.html\n",
            "cwb-3.5.0-src/doc/html/globals_defs_u.html\n",
            "cwb-3.5.0-src/doc/html/globals_defs_v.html\n",
            "cwb-3.5.0-src/doc/html/globals_defs_w.html\n",
            "cwb-3.5.0-src/doc/html/globals_defs_x.html\n",
            "cwb-3.5.0-src/doc/html/globals_func_h.html\n",
            "cwb-3.5.0-src/doc/html/globals_func_o.html\n",
            "cwb-3.5.0-src/doc/html/globals_func_q.html\n",
            "cwb-3.5.0-src/doc/html/globals_func_t.html\n",
            "cwb-3.5.0-src/doc/html/globals_func_u.html\n",
            "cwb-3.5.0-src/doc/html/globals_func_w.html\n",
            "cwb-3.5.0-src/doc/html/globals_func_y.html\n",
            "cwb-3.5.0-src/doc/html/globals_o.html\n",
            "cwb-3.5.0-src/doc/html/globals_q.html\n",
            "cwb-3.5.0-src/doc/html/globals_vars.html\n",
            "cwb-3.5.0-src/doc/html/globals_vars_b.html\n",
            "cwb-3.5.0-src/doc/html/globals_vars_d.html\n",
            "cwb-3.5.0-src/doc/html/globals_vars_f.html\n",
            "cwb-3.5.0-src/doc/html/globals_vars_g.html\n",
            "cwb-3.5.0-src/doc/html/globals_vars_h.html\n",
            "cwb-3.5.0-src/doc/html/globals_vars_m.html\n",
            "cwb-3.5.0-src/doc/html/globals_vars_n.html\n",
            "cwb-3.5.0-src/doc/html/globals_vars_o.html\n",
            "cwb-3.5.0-src/doc/html/globals_vars_r.html\n",
            "cwb-3.5.0-src/doc/html/globals_vars_u.html\n",
            "cwb-3.5.0-src/doc/html/globals_vars_v.html\n",
            "cwb-3.5.0-src/doc/html/globals_vars_w.html\n",
            "cwb-3.5.0-src/doc/html/globals_vars_x.html\n",
            "cwb-3.5.0-src/doc/html/globals_vars_y.html\n",
            "cwb-3.5.0-src/doc/html/globals_w.html\n",
            "cwb-3.5.0-src/doc/html/globals_x.html\n",
            "cwb-3.5.0-src/doc/html/globals_y.html\n",
            "cwb-3.5.0-src/doc/html/globals_z.html\n",
            "cwb-3.5.0-src/doc/html/groups_8c.html\n",
            "cwb-3.5.0-src/doc/html/groups_8h.html\n",
            "cwb-3.5.0-src/doc/html/index.html\n",
            "cwb-3.5.0-src/doc/html/lexhash_8c.html\n",
            "cwb-3.5.0-src/doc/html/list_8c.html\n",
            "cwb-3.5.0-src/doc/html/log_8c.html\n",
            "cwb-3.5.0-src/doc/html/log_8h.html\n",
            "cwb-3.5.0-src/doc/html/makecomps_8c.html\n",
            "cwb-3.5.0-src/doc/html/makecomps_8h.html\n",
            "cwb-3.5.0-src/doc/html/ngram-hash_8c.html\n",
            "cwb-3.5.0-src/doc/html/print-modes_8c.html\n",
            "cwb-3.5.0-src/doc/html/print-modes_8h.html\n",
            "cwb-3.5.0-src/doc/html/print__align_8c.html\n",
            "cwb-3.5.0-src/doc/html/print__align_8h.html\n",
            "cwb-3.5.0-src/doc/html/regex2dfa_8h.html\n",
            "cwb-3.5.0-src/doc/html/server_8c.html\n",
            "cwb-3.5.0-src/doc/html/server_8h.html\n",
            "cwb-3.5.0-src/doc/html/special-chars_8h.html\n",
            "cwb-3.5.0-src/doc/html/storage_8c.html\n",
            "cwb-3.5.0-src/doc/html/storage_8h.html\n",
            "cwb-3.5.0-src/doc/html/struct___actual_param_list.html\n",
            "cwb-3.5.0-src/doc/html/struct___b_a_rdesc.html\n",
            "cwb-3.5.0-src/doc/html/struct___conc_line_field.html\n",
            "cwb-3.5.0-src/doc/html/struct___d_c_r.html\n",
            "cwb-3.5.0-src/doc/html/struct___hash.html\n",
            "cwb-3.5.0-src/doc/html/struct___ref_tab.html\n",
            "cwb-3.5.0-src/doc/html/struct___tabulation_item.html\n",
            "cwb-3.5.0-src/doc/html/struct__attlist.html\n",
            "cwb-3.5.0-src/doc/html/struct__attrbuf.html\n",
            "cwb-3.5.0-src/doc/html/struct__bfilebuf.html\n",
            "cwb-3.5.0-src/doc/html/struct__bstreambuf.html\n",
            "cwb-3.5.0-src/doc/html/struct__builtinf.html\n",
            "cwb-3.5.0-src/doc/html/struct__cl__int__list.html\n",
            "cwb-3.5.0-src/doc/html/struct__cl__lexhash.html\n",
            "cwb-3.5.0-src/doc/html/struct__cl__lexhash__entry.html\n",
            "cwb-3.5.0-src/doc/html/struct__cl__lexhash__entry_1_1__cl__lexhash__entry__data.html\n",
            "cwb-3.5.0-src/doc/html/struct__cl__ngram__hash.html\n",
            "cwb-3.5.0-src/doc/html/struct__cl__ngram__hash__entry.html\n",
            "cwb-3.5.0-src/doc/html/struct__cl__string__list.html\n",
            "cwb-3.5.0-src/doc/html/struct__cqpoption.html\n",
            "cwb-3.5.0-src/doc/html/struct__dyn__arg.html\n",
            "cwb-3.5.0-src/doc/html/struct__grouptable.html\n",
            "cwb-3.5.0-src/doc/html/struct__huffman__code__descriptor.html\n",
            "cwb-3.5.0-src/doc/html/struct__id__cnt__mapping.html\n",
            "cwb-3.5.0-src/doc/html/struct__idbuf.html\n",
            "cwb-3.5.0-src/doc/html/struct__position__stream__rec__.html\n",
            "cwb-3.5.0-src/doc/html/struct__sort__clause.html\n",
            "cwb-3.5.0-src/doc/html/struct__symbol__table.html\n",
            "cwb-3.5.0-src/doc/html/struct__variable__buf.html\n",
            "cwb-3.5.0-src/doc/html/struct__variable__item.html\n",
            "cwb-3.5.0-src/doc/html/struct_alg___attribute.html\n",
            "cwb-3.5.0-src/doc/html/struct_any___attribute.html\n",
            "cwb-3.5.0-src/doc/html/struct_b_f_buf.html\n",
            "cwb-3.5.0-src/doc/html/struct_c_l_stream.html\n",
            "cwb-3.5.0-src/doc/html/struct_cl_auto_string.html\n",
            "cwb-3.5.0-src/doc/html/struct_context_descriptor.html\n",
            "cwb-3.5.0-src/doc/html/struct_dynamic___attribute.html\n",
            "cwb-3.5.0-src/doc/html/struct_equiv.html\n",
            "cwb-3.5.0-src/doc/html/struct_grant.html\n",
            "cwb-3.5.0-src/doc/html/struct_host_entry.html\n",
            "cwb-3.5.0-src/doc/html/struct_input_buffer.html\n",
            "cwb-3.5.0-src/doc/html/struct_input_redir.html\n",
            "cwb-3.5.0-src/doc/html/struct_p_o_s___attribute.html\n",
            "cwb-3.5.0-src/doc/html/struct_print_description_record.html\n",
            "cwb-3.5.0-src/doc/html/struct_print_options.html\n",
            "cwb-3.5.0-src/doc/html/struct_redir.html\n",
            "cwb-3.5.0-src/doc/html/struct_stack_card.html\n",
            "cwb-3.5.0-src/doc/html/struct_struc___attribute.html\n",
            "cwb-3.5.0-src/doc/html/struct_t_component.html\n",
            "cwb-3.5.0-src/doc/html/struct_t_corpus.html\n",
            "cwb-3.5.0-src/doc/html/struct_t_corpus_property.html\n",
            "cwb-3.5.0-src/doc/html/struct_t_mblob.html\n",
            "cwb-3.5.0-src/doc/html/struct_user_entry.html\n",
            "cwb-3.5.0-src/doc/html/structatt__bucket.html\n",
            "cwb-3.5.0-src/doc/html/structatt__hashtable.html\n",
            "cwb-3.5.0-src/doc/html/structcharset__spec.html\n",
            "cwb-3.5.0-src/doc/html/structcomponent__field__spec.html\n",
            "cwb-3.5.0-src/doc/html/structequation.html\n",
            "cwb-3.5.0-src/doc/html/structfeature__maps__t.html\n",
            "cwb-3.5.0-src/doc/html/structitem.html\n",
            "cwb-3.5.0-src/doc/html/structmini__s__builder.html\n",
            "cwb-3.5.0-src/doc/html/structp__att__builder.html\n",
            "cwb-3.5.0-src/doc/html/structs__att__builder.html\n",
            "cwb-3.5.0-src/doc/html/structs__region.html\n",
            "cwb-3.5.0-src/doc/html/structvstack__t.html\n",
            "cwb-3.5.0-src/doc/html/treemacros_8h.html\n",
            "cwb-3.5.0-src/doc/html/unionc__tree.html\n",
            "cwb-3.5.0-src/doc/html/variables_8c.html\n",
            "cwb-3.5.0-src/doc/html/variables_8h.html\n",
            "cwb-3.5.0-src/doc/html/windows-mmap_8c.html\n",
            "cwb-3.5.0-src/doc/html/windows-mmap_8h.html\n",
            "cwb-3.5.0-src/doc/html/ascii-print_8c.js\n",
            "cwb-3.5.0-src/doc/html/ascii-print_8h.js\n",
            "cwb-3.5.0-src/doc/html/attlist_8h.js\n",
            "cwb-3.5.0-src/doc/html/attributes_8c.js\n",
            "cwb-3.5.0-src/doc/html/attributes_8h.js\n",
            "cwb-3.5.0-src/doc/html/auth_8c.js\n",
            "cwb-3.5.0-src/doc/html/bitfields_8h.js\n",
            "cwb-3.5.0-src/doc/html/bitio_8h.js\n",
            "cwb-3.5.0-src/doc/html/builtins_8c.js\n",
            "cwb-3.5.0-src/doc/html/builtins_8h.js\n",
            "cwb-3.5.0-src/doc/html/cdaccess_8c.js\n",
            "cwb-3.5.0-src/doc/html/concordance_8h.js\n",
            "cwb-3.5.0-src/doc/html/context__descriptor_8h.js\n",
            "cwb-3.5.0-src/doc/html/corpus_8h.js\n",
            "cwb-3.5.0-src/doc/html/cqpserver_8c.js\n",
            "cwb-3.5.0-src/doc/html/cwb-encode_8c.js\n",
            "cwb-3.5.0-src/doc/html/cwb-scan-corpus_8c.js\n",
            "cwb-3.5.0-src/doc/html/doxygen.css\n",
            "cwb-3.5.0-src/doc/html/doxygen.svg\n",
            "cwb-3.5.0-src/doc/html/dynsections.js\n",
            "cwb-3.5.0-src/doc/html/feature__maps_8h.js\n",
            "cwb-3.5.0-src/doc/html/files_dup.js\n",
            "cwb-3.5.0-src/doc/html/groups_8c.js\n",
            "cwb-3.5.0-src/doc/html/groups_8h.js\n",
            "cwb-3.5.0-src/doc/html/html-print_8c.js\n",
            "cwb-3.5.0-src/doc/html/html-print_8h.js\n",
            "cwb-3.5.0-src/doc/html/jquery.js\n",
            "cwb-3.5.0-src/doc/html/latex-print_8c.js\n",
            "cwb-3.5.0-src/doc/html/latex-print_8h.js\n",
            "cwb-3.5.0-src/doc/html/menu.js\n",
            "cwb-3.5.0-src/doc/html/navtree.css\n",
            "cwb-3.5.0-src/doc/html/navtree.js\n",
            "cwb-3.5.0-src/doc/html/navtreeindex0.js\n",
            "cwb-3.5.0-src/doc/html/options_8h.js\n",
            "cwb-3.5.0-src/doc/html/output_8h.js\n",
            "cwb-3.5.0-src/doc/html/ranges_8h.js\n",
            "cwb-3.5.0-src/doc/html/regex2dfa_8h.js\n",
            "cwb-3.5.0-src/doc/html/resize.js\n",
            "cwb-3.5.0-src/doc/html/server_8c.js\n",
            "cwb-3.5.0-src/doc/html/sgml-print_8c.js\n",
            "cwb-3.5.0-src/doc/html/sgml-print_8h.js\n",
            "cwb-3.5.0-src/doc/html/storage_8h.js\n",
            "cwb-3.5.0-src/doc/html/struct___d_c_r.js\n",
            "cwb-3.5.0-src/doc/html/struct___hash.js\n",
            "cwb-3.5.0-src/doc/html/struct__cl__lexhash__entry.js\n",
            "cwb-3.5.0-src/doc/html/struct__grouptable.js\n",
            "cwb-3.5.0-src/doc/html/struct_print_description_record.js\n",
            "cwb-3.5.0-src/doc/html/unionc__tree.js\n",
            "cwb-3.5.0-src/doc/html/variables_8h.js\n",
            "cwb-3.5.0-src/doc/html/attlist_8c.js\n",
            "cwb-3.5.0-src/doc/html/bitfields_8c.js\n",
            "cwb-3.5.0-src/doc/html/compression_8c.js\n",
            "cwb-3.5.0-src/doc/html/concordance_8c.js\n",
            "cwb-3.5.0-src/doc/html/context__descriptor_8c.js\n",
            "cwb-3.5.0-src/doc/html/corpus_8c.js\n",
            "cwb-3.5.0-src/doc/html/dir_14e46b28f8bd3b6864baed6345c77e95.js\n",
            "cwb-3.5.0-src/doc/html/dir_caf978792d6b0705158f044348baeba4.js\n",
            "cwb-3.5.0-src/doc/html/globals_8h.js\n",
            "cwb-3.5.0-src/doc/html/lexhash_8c.js\n",
            "cwb-3.5.0-src/doc/html/list_8c.js\n",
            "cwb-3.5.0-src/doc/html/log_8c.js\n",
            "cwb-3.5.0-src/doc/html/log_8h.js\n",
            "cwb-3.5.0-src/doc/html/macros_8c.js\n",
            "cwb-3.5.0-src/doc/html/makecomps_8c.js\n",
            "cwb-3.5.0-src/doc/html/ngram-hash_8c.js\n",
            "cwb-3.5.0-src/doc/html/options_8c.js\n",
            "cwb-3.5.0-src/doc/html/output_8c.js\n",
            "cwb-3.5.0-src/doc/html/print-modes_8c.js\n",
            "cwb-3.5.0-src/doc/html/print-modes_8h.js\n",
            "cwb-3.5.0-src/doc/html/print__align_8c.js\n",
            "cwb-3.5.0-src/doc/html/print__align_8h.js\n",
            "cwb-3.5.0-src/doc/html/ranges_8c.js\n",
            "cwb-3.5.0-src/doc/html/server_8h.js\n",
            "cwb-3.5.0-src/doc/html/storage_8c.js\n",
            "cwb-3.5.0-src/doc/html/struct__cl__ngram__hash.js\n",
            "cwb-3.5.0-src/doc/html/struct_grant.js\n",
            "cwb-3.5.0-src/doc/html/struct_host_entry.js\n",
            "cwb-3.5.0-src/doc/html/struct_range.js\n",
            "cwb-3.5.0-src/doc/html/struct_t_corpus.js\n",
            "cwb-3.5.0-src/doc/html/struct_user_entry.js\n",
            "cwb-3.5.0-src/doc/html/treemacros_8h.js\n",
            "cwb-3.5.0-src/doc/html/variables_8c.js\n",
            "cwb-3.5.0-src/doc/html/auth_8h.js\n",
            "cwb-3.5.0-src/doc/html/barlib_8c.js\n",
            "cwb-3.5.0-src/doc/html/barlib_8h.js\n",
            "cwb-3.5.0-src/doc/html/bitio_8c.js\n",
            "cwb-3.5.0-src/doc/html/compression_8h.js\n",
            "cwb-3.5.0-src/doc/html/cqi_8h.js\n",
            "cwb-3.5.0-src/doc/html/cqpcl_8c.js\n",
            "cwb-3.5.0-src/doc/html/cwb-align-decode_8c.js\n",
            "cwb-3.5.0-src/doc/html/cwb-align-encode_8c.js\n",
            "cwb-3.5.0-src/doc/html/cwb-align-show_8c.js\n",
            "cwb-3.5.0-src/doc/html/cwb-align_8c.js\n",
            "cwb-3.5.0-src/doc/html/cwb-atoi_8c.js\n",
            "cwb-3.5.0-src/doc/html/cwb-check-input_8c.js\n",
            "cwb-3.5.0-src/doc/html/cwb-compress-rdx_8c.js\n",
            "cwb-3.5.0-src/doc/html/cwb-describe-corpus_8c.js\n",
            "cwb-3.5.0-src/doc/html/cwb-huffcode_8c.js\n",
            "cwb-3.5.0-src/doc/html/cwb-itoa_8c.js\n",
            "cwb-3.5.0-src/doc/html/cwb-lexdecode_8c.js\n",
            "cwb-3.5.0-src/doc/html/cwb-makeall_8c.js\n",
            "cwb-3.5.0-src/doc/html/cwb-s-decode_8c.js\n",
            "cwb-3.5.0-src/doc/html/dl__stub_8c.js\n",
            "cwb-3.5.0-src/doc/html/dummy__auth_8c.js\n",
            "cwb-3.5.0-src/doc/html/endian_8c.js\n",
            "cwb-3.5.0-src/doc/html/endian_8h.js\n",
            "cwb-3.5.0-src/doc/html/feature__maps_8c.js\n",
            "cwb-3.5.0-src/doc/html/fileutils_8h.js\n",
            "cwb-3.5.0-src/doc/html/functions_dup.js\n",
            "cwb-3.5.0-src/doc/html/functions_vars.js\n",
            "cwb-3.5.0-src/doc/html/globals_8c.js\n",
            "cwb-3.5.0-src/doc/html/globals_defs.js\n",
            "cwb-3.5.0-src/doc/html/globals_dup.js\n",
            "cwb-3.5.0-src/doc/html/globals_func.js\n",
            "cwb-3.5.0-src/doc/html/llquery_8c.js\n",
            "cwb-3.5.0-src/doc/html/makecomps_8h.js\n",
            "cwb-3.5.0-src/doc/html/regex2dfa_8c.js\n",
            "cwb-3.5.0-src/doc/html/special-chars_8c.js\n",
            "cwb-3.5.0-src/doc/html/special-chars_8h.js\n",
            "cwb-3.5.0-src/doc/html/struct___actual_param_list.js\n",
            "cwb-3.5.0-src/doc/html/struct___b_a_rdesc.js\n",
            "cwb-3.5.0-src/doc/html/struct___conc_line_field.js\n",
            "cwb-3.5.0-src/doc/html/struct___macro_entry.js\n",
            "cwb-3.5.0-src/doc/html/struct___macro_segment.js\n",
            "cwb-3.5.0-src/doc/html/struct___matchlist.js\n",
            "cwb-3.5.0-src/doc/html/struct___ref_tab.js\n",
            "cwb-3.5.0-src/doc/html/struct___tabulation_item.js\n",
            "cwb-3.5.0-src/doc/html/struct__attlist.js\n",
            "cwb-3.5.0-src/doc/html/struct__attrbuf.js\n",
            "cwb-3.5.0-src/doc/html/struct__bfilebuf.js\n",
            "cwb-3.5.0-src/doc/html/struct__bstreambuf.js\n",
            "cwb-3.5.0-src/doc/html/struct__builtinf.js\n",
            "cwb-3.5.0-src/doc/html/struct__cl__int__list.js\n",
            "cwb-3.5.0-src/doc/html/struct__cl__lexhash.js\n",
            "cwb-3.5.0-src/doc/html/struct__cl__lexhash__entry_1_1__cl__lexhash__entry__data.js\n",
            "cwb-3.5.0-src/doc/html/struct__cl__ngram__hash__entry.js\n",
            "cwb-3.5.0-src/doc/html/struct__cl__regex.js\n",
            "cwb-3.5.0-src/doc/html/struct__cl__string__list.js\n",
            "cwb-3.5.0-src/doc/html/struct__cqpoption.js\n",
            "cwb-3.5.0-src/doc/html/struct__dyn__arg.js\n",
            "cwb-3.5.0-src/doc/html/struct__huffman__code__descriptor.js\n",
            "cwb-3.5.0-src/doc/html/struct__id__cnt__mapping.js\n",
            "cwb-3.5.0-src/doc/html/struct__idbuf.js\n",
            "cwb-3.5.0-src/doc/html/struct__label__entry.js\n",
            "cwb-3.5.0-src/doc/html/struct__position__stream__rec__.js\n",
            "cwb-3.5.0-src/doc/html/struct__sort__clause.js\n",
            "cwb-3.5.0-src/doc/html/struct__symbol__table.js\n",
            "cwb-3.5.0-src/doc/html/struct__variable__buf.js\n",
            "cwb-3.5.0-src/doc/html/struct__variable__item.js\n",
            "cwb-3.5.0-src/doc/html/struct_alg___attribute.js\n",
            "cwb-3.5.0-src/doc/html/struct_any___attribute.js\n",
            "cwb-3.5.0-src/doc/html/struct_b_f_buf.js\n",
            "cwb-3.5.0-src/doc/html/struct_c_l_stream.js\n",
            "cwb-3.5.0-src/doc/html/struct_cl_auto_string.js\n",
            "cwb-3.5.0-src/doc/html/struct_context_descriptor.js\n",
            "cwb-3.5.0-src/doc/html/struct_dynamic___attribute.js\n",
            "cwb-3.5.0-src/doc/html/struct_equiv.js\n",
            "cwb-3.5.0-src/doc/html/struct_input_buffer.js\n",
            "cwb-3.5.0-src/doc/html/struct_input_redir.js\n",
            "cwb-3.5.0-src/doc/html/struct_macro_hash_table.js\n",
            "cwb-3.5.0-src/doc/html/struct_p_o_s___attribute.js\n",
            "cwb-3.5.0-src/doc/html/struct_print_options.js\n",
            "cwb-3.5.0-src/doc/html/struct_redir.js\n",
            "cwb-3.5.0-src/doc/html/struct_stack_card.js\n",
            "cwb-3.5.0-src/doc/html/struct_struc___attribute.js\n",
            "cwb-3.5.0-src/doc/html/struct_t_component.js\n",
            "cwb-3.5.0-src/doc/html/struct_t_corpus_property.js\n",
            "cwb-3.5.0-src/doc/html/struct_t_mblob.js\n",
            "cwb-3.5.0-src/doc/html/structatt__bucket.js\n",
            "cwb-3.5.0-src/doc/html/structatt__hashtable.js\n",
            "cwb-3.5.0-src/doc/html/structcharset__spec.js\n",
            "cwb-3.5.0-src/doc/html/structcl.js\n",
            "cwb-3.5.0-src/doc/html/structcomponent__field__spec.js\n",
            "cwb-3.5.0-src/doc/html/structctxtsp.js\n",
            "cwb-3.5.0-src/doc/html/structdfa.js\n",
            "cwb-3.5.0-src/doc/html/structequation.js\n",
            "cwb-3.5.0-src/doc/html/structfeature__maps__t.js\n",
            "cwb-3.5.0-src/doc/html/structitem.js\n",
            "cwb-3.5.0-src/doc/html/structmini__s__builder.js\n",
            "cwb-3.5.0-src/doc/html/structp__att__builder.js\n",
            "cwb-3.5.0-src/doc/html/structs__att__builder.js\n",
            "cwb-3.5.0-src/doc/html/structs__region.js\n",
            "cwb-3.5.0-src/doc/html/structsymbol.js\n",
            "cwb-3.5.0-src/doc/html/structvstack__t.js\n",
            "cwb-3.5.0-src/doc/html/ui-helpers_8c.js\n",
            "cwb-3.5.0-src/doc/html/ui-helpers_8h.js\n",
            "cwb-3.5.0-src/doc/html/union___attribute.js\n",
            "cwb-3.5.0-src/doc/html/doc.png\n",
            "cwb-3.5.0-src/doc/html/folderclosed.png\n",
            "cwb-3.5.0-src/doc/html/folderopen.png\n",
            "cwb-3.5.0-src/doc/html/splitbar.png\n",
            "cwb-3.5.0-src/doc/html/bc_s.png\n",
            "cwb-3.5.0-src/doc/html/bdwn.png\n",
            "cwb-3.5.0-src/doc/html/closed.png\n",
            "cwb-3.5.0-src/doc/html/nav_f.png\n",
            "cwb-3.5.0-src/doc/html/nav_g.png\n",
            "cwb-3.5.0-src/doc/html/nav_h.png\n",
            "cwb-3.5.0-src/doc/html/open.png\n",
            "cwb-3.5.0-src/doc/html/sync_off.png\n",
            "cwb-3.5.0-src/doc/html/sync_on.png\n",
            "cwb-3.5.0-src/doc/html/tab_a.png\n",
            "cwb-3.5.0-src/doc/html/tab_b.png\n",
            "cwb-3.5.0-src/doc/html/tab_h.png\n",
            "cwb-3.5.0-src/doc/html/tab_s.png\n",
            "cwb-3.5.0-src/doc/html/annotated.html\n",
            "cwb-3.5.0-src/doc/html/annotated_dup.js\n",
            "cwb-3.5.0-src/doc/html/ascii-print_8c.html\n",
            "cwb-3.5.0-src/doc/html/ascii-print_8h.html\n",
            "cwb-3.5.0-src/doc/html/attributes_8c.html\n",
            "cwb-3.5.0-src/doc/html/builtins_8c.html\n",
            "cwb-3.5.0-src/doc/html/cdaccess_8c.html\n",
            "cwb-3.5.0-src/doc/html/cl_8h.html\n",
            "cwb-3.5.0-src/doc/html/cl_8h.js\n",
            "cwb-3.5.0-src/doc/html/classes.html\n",
            "cwb-3.5.0-src/doc/html/concordance_8c.html\n",
            "cwb-3.5.0-src/doc/html/context__descriptor_8c.html\n",
            "cwb-3.5.0-src/doc/html/corpmanag_8c.html\n",
            "cwb-3.5.0-src/doc/html/corpmanag_8h.html\n",
            "cwb-3.5.0-src/doc/html/corpus_8c.html\n",
            "cwb-3.5.0-src/doc/html/cqp_8c.html\n",
            "cwb-3.5.0-src/doc/html/cqp_8h.html\n",
            "cwb-3.5.0-src/doc/html/cwb-align-encode_8c.html\n",
            "cwb-3.5.0-src/doc/html/cwb-align-show_8c.html\n",
            "cwb-3.5.0-src/doc/html/cwb-check-input_8c.html\n",
            "cwb-3.5.0-src/doc/html/cwb-decode-nqrfile_8c.html\n",
            "cwb-3.5.0-src/doc/html/cwb-decode-nqrfile_8c.js\n",
            "cwb-3.5.0-src/doc/html/cwb-encode_8c.html\n",
            "cwb-3.5.0-src/doc/html/cwb-globals_8h.html\n",
            "cwb-3.5.0-src/doc/html/cwb-globals_8h.js\n",
            "cwb-3.5.0-src/doc/html/cwb-itoa_8c.html\n",
            "cwb-3.5.0-src/doc/html/cwb-lexdecode_8c.html\n",
            "cwb-3.5.0-src/doc/html/cwb-s-encode_8c.html\n",
            "cwb-3.5.0-src/doc/html/cwb-scan-corpus_8c.html\n",
            "cwb-3.5.0-src/doc/html/dir_0b9712b4d566c131b10613af70a8e558.html\n",
            "cwb-3.5.0-src/doc/html/dir_0b9712b4d566c131b10613af70a8e558.js\n",
            "cwb-3.5.0-src/doc/html/dir_caf978792d6b0705158f044348baeba4.html\n",
            "cwb-3.5.0-src/doc/html/dir_cbdb8362360e11eafe2fa3bc74cf0ffd.html\n",
            "cwb-3.5.0-src/doc/html/dir_cbdb8362360e11eafe2fa3bc74cf0ffd.js\n",
            "cwb-3.5.0-src/doc/html/eval_8c.html\n",
            "cwb-3.5.0-src/doc/html/files.html\n",
            "cwb-3.5.0-src/doc/html/fileutils_8c.html\n",
            "cwb-3.5.0-src/doc/html/fileutils_8c.js\n",
            "cwb-3.5.0-src/doc/html/fileutils_8h.html\n",
            "cwb-3.5.0-src/doc/html/functions_f.html\n",
            "cwb-3.5.0-src/doc/html/functions_k.html\n",
            "cwb-3.5.0-src/doc/html/functions_vars_f.html\n",
            "cwb-3.5.0-src/doc/html/functions_vars_k.html\n",
            "cwb-3.5.0-src/doc/html/globals_8c.html\n",
            "cwb-3.5.0-src/doc/html/globals_8h.html\n",
            "cwb-3.5.0-src/doc/html/globals_a.html\n",
            "cwb-3.5.0-src/doc/html/globals_b.html\n",
            "cwb-3.5.0-src/doc/html/globals_c.html\n",
            "cwb-3.5.0-src/doc/html/globals_d.html\n",
            "cwb-3.5.0-src/doc/html/globals_defs_c.html\n",
            "cwb-3.5.0-src/doc/html/globals_defs_s.html\n",
            "cwb-3.5.0-src/doc/html/globals_defs_t.html\n",
            "cwb-3.5.0-src/doc/html/globals_e.html\n",
            "cwb-3.5.0-src/doc/html/globals_eval.html\n",
            "cwb-3.5.0-src/doc/html/globals_f.html\n",
            "cwb-3.5.0-src/doc/html/globals_func_a.html\n",
            "cwb-3.5.0-src/doc/html/globals_func_b.html\n",
            "cwb-3.5.0-src/doc/html/globals_func_c.html\n",
            "cwb-3.5.0-src/doc/html/globals_func_d.html\n",
            "cwb-3.5.0-src/doc/html/globals_func_e.html\n",
            "cwb-3.5.0-src/doc/html/globals_func_f.html\n",
            "cwb-3.5.0-src/doc/html/globals_func_i.html\n",
            "cwb-3.5.0-src/doc/html/globals_func_l.html\n",
            "cwb-3.5.0-src/doc/html/globals_func_m.html\n",
            "cwb-3.5.0-src/doc/html/globals_func_n.html\n",
            "cwb-3.5.0-src/doc/html/globals_func_p.html\n",
            "cwb-3.5.0-src/doc/html/globals_func_r.html\n",
            "cwb-3.5.0-src/doc/html/globals_func_s.html\n",
            "cwb-3.5.0-src/doc/html/globals_func_v.html\n",
            "cwb-3.5.0-src/doc/html/globals_g.html\n",
            "cwb-3.5.0-src/doc/html/globals_h.html\n",
            "cwb-3.5.0-src/doc/html/globals_i.html\n",
            "cwb-3.5.0-src/doc/html/globals_k.html\n",
            "cwb-3.5.0-src/doc/html/globals_l.html\n",
            "cwb-3.5.0-src/doc/html/globals_m.html\n",
            "cwb-3.5.0-src/doc/html/globals_n.html\n",
            "cwb-3.5.0-src/doc/html/globals_p.html\n",
            "cwb-3.5.0-src/doc/html/globals_r.html\n",
            "cwb-3.5.0-src/doc/html/globals_s.html\n",
            "cwb-3.5.0-src/doc/html/globals_t.html\n",
            "cwb-3.5.0-src/doc/html/globals_u.html\n",
            "cwb-3.5.0-src/doc/html/globals_v.html\n",
            "cwb-3.5.0-src/doc/html/globals_vars.js\n",
            "cwb-3.5.0-src/doc/html/globals_vars_a.html\n",
            "cwb-3.5.0-src/doc/html/globals_vars_c.html\n",
            "cwb-3.5.0-src/doc/html/globals_vars_e.html\n",
            "cwb-3.5.0-src/doc/html/globals_vars_i.html\n",
            "cwb-3.5.0-src/doc/html/globals_vars_l.html\n",
            "cwb-3.5.0-src/doc/html/globals_vars_p.html\n",
            "cwb-3.5.0-src/doc/html/globals_vars_q.html\n",
            "cwb-3.5.0-src/doc/html/globals_vars_s.html\n",
            "cwb-3.5.0-src/doc/html/globals_vars_t.html\n",
            "cwb-3.5.0-src/doc/html/html-print_8c.html\n",
            "cwb-3.5.0-src/doc/html/html-print_8h.html\n",
            "cwb-3.5.0-src/doc/html/latex-print_8c.html\n",
            "cwb-3.5.0-src/doc/html/latex-print_8h.html\n",
            "cwb-3.5.0-src/doc/html/macro_8c.html\n",
            "cwb-3.5.0-src/doc/html/macro_8h.html\n",
            "cwb-3.5.0-src/doc/html/macros_8c.html\n",
            "cwb-3.5.0-src/doc/html/matchlist_8c.html\n",
            "cwb-3.5.0-src/doc/html/matchlist_8h.html\n",
            "cwb-3.5.0-src/doc/html/menudata.js\n",
            "cwb-3.5.0-src/doc/html/navtreedata.js\n",
            "cwb-3.5.0-src/doc/html/navtreeindex1.js\n",
            "cwb-3.5.0-src/doc/html/navtreeindex10.js\n",
            "cwb-3.5.0-src/doc/html/navtreeindex11.js\n",
            "cwb-3.5.0-src/doc/html/navtreeindex12.js\n",
            "cwb-3.5.0-src/doc/html/navtreeindex13.js\n",
            "cwb-3.5.0-src/doc/html/navtreeindex14.js\n",
            "cwb-3.5.0-src/doc/html/navtreeindex15.js\n",
            "cwb-3.5.0-src/doc/html/navtreeindex2.js\n",
            "cwb-3.5.0-src/doc/html/navtreeindex3.js\n",
            "cwb-3.5.0-src/doc/html/navtreeindex4.js\n",
            "cwb-3.5.0-src/doc/html/navtreeindex5.js\n",
            "cwb-3.5.0-src/doc/html/navtreeindex6.js\n",
            "cwb-3.5.0-src/doc/html/navtreeindex7.js\n",
            "cwb-3.5.0-src/doc/html/navtreeindex8.js\n",
            "cwb-3.5.0-src/doc/html/navtreeindex9.js\n",
            "cwb-3.5.0-src/doc/html/output_8c.html\n",
            "cwb-3.5.0-src/doc/html/output_8h.html\n",
            "cwb-3.5.0-src/doc/html/parse__actions_8c.html\n",
            "cwb-3.5.0-src/doc/html/parse__actions_8c.js\n",
            "cwb-3.5.0-src/doc/html/parse__actions_8h.html\n",
            "cwb-3.5.0-src/doc/html/parse__actions_8h.js\n",
            "cwb-3.5.0-src/doc/html/ranges_8c.html\n",
            "cwb-3.5.0-src/doc/html/ranges_8h.html\n",
            "cwb-3.5.0-src/doc/html/regex2dfa_8c.html\n",
            "cwb-3.5.0-src/doc/html/regopt_8c.html\n",
            "cwb-3.5.0-src/doc/html/regopt_8c.js\n",
            "cwb-3.5.0-src/doc/html/regtab_8c.html\n",
            "cwb-3.5.0-src/doc/html/regtab_8c.js\n",
            "cwb-3.5.0-src/doc/html/regtab_8h.html\n",
            "cwb-3.5.0-src/doc/html/regtab_8h.js\n",
            "cwb-3.5.0-src/doc/html/sgml-print_8c.html\n",
            "cwb-3.5.0-src/doc/html/sgml-print_8h.html\n",
            "cwb-3.5.0-src/doc/html/special-chars_8c.html\n",
            "cwb-3.5.0-src/doc/html/struct___matchlist.html\n",
            "cwb-3.5.0-src/doc/html/struct__cl__regex.html\n",
            "cwb-3.5.0-src/doc/html/structsymbol.html\n",
            "cwb-3.5.0-src/doc/html/symtab_8h.html\n",
            "cwb-3.5.0-src/doc/html/symtab_8h.js\n",
            "cwb-3.5.0-src/doc/html/tabs.css\n",
            "cwb-3.5.0-src/doc/html/targets_8c.html\n",
            "cwb-3.5.0-src/doc/html/targets_8h.html\n",
            "cwb-3.5.0-src/doc/html/tree_8c.html\n",
            "cwb-3.5.0-src/doc/html/tree_8h.html\n",
            "cwb-3.5.0-src/doc/html/tree_8h.js\n",
            "cwb-3.5.0-src/doc/install_cqpweb_macos.txt\n",
            "cwb-3.5.0-src/doc/old/\n",
            "cwb-3.5.0-src/doc/old/changes_before_R3.german.txt\n",
            "cwb-3.5.0-src/doc/old/old_todo_list.german.txt\n",
            "cwb-3.5.0-src/doc/old/development_plans.german.txt\n",
            "cwb-3.5.0-src/doc/old/macros_spec_and_internals.german.txt\n",
            "cwb-3.5.0-src/doc/old/beta_announcments_before_R3.txt\n",
            "cwb-3.5.0-src/doc/old/matching_strategies.german.txt\n",
            "cwb-3.5.0-src/doc/todo-3.5\n",
            "cwb-3.5.0-src/doc/code_overview.html\n",
            "cwb-3.5.0-src/doc/code_overview.textile\n",
            "cwb-3.5.0-src/doc/doxygen-readme\n",
            "cwb-3.5.0-src/doc/cwb-scan-corpus-benchmarks.txt\n",
            "cwb-3.5.0-src/doc/version-numbering-rules.html\n",
            "cwb-3.5.0-src/doc/version-numbering-rules.textile\n",
            "cwb-3.5.0-src/doc/coding-standards.html\n",
            "cwb-3.5.0-src/doc/coding-standards.textile\n",
            "cwb-3.5.0-src/doc/compiler_flags.txt\n",
            "cwb-3.5.0-src/doc/unicode_roadmap.html\n",
            "cwb-3.5.0-src/doc/unicode_roadmap.textile\n",
            "cwb-3.5.0-src/doc/unicode-regexlib-benchmarking-results.html\n",
            "cwb-3.5.0-src/doc/textile2html.perl\n",
            "cwb-3.5.0-src/doc/API-documentation-examples\n",
            "cwb-3.5.0-src/doc/hard_limits.txt\n",
            "cwb-3.5.0-src/doc/manpage_disclaimer.txt\n",
            "cwb-3.5.0-src/doc/cqpserver_readme.txt\n",
            "cwb-3.5.0-src/doc/source_header.txt\n",
            "cwb-3.5.0-src/doc/reserved_words.txt\n",
            "cwb-3.5.0-src/doc/doxygen-config\n",
            "cwb-3.5.0-src/doc/doxygen-config-docset\n",
            "cwb-3.5.0-src/doc/regex_optimizer_benchmarks.txt\n",
            "cwb-3.5.0-src/install-scripts/\n",
            "cwb-3.5.0-src/install-scripts/install-mac-osx\n",
            "cwb-3.5.0-src/install-scripts/build-win32\n",
            "cwb-3.5.0-src/install-scripts/config-basic\n",
            "cwb-3.5.0-src/install-scripts/install-linux\n",
            "cwb-3.5.0-src/instutils/\n",
            "cwb-3.5.0-src/instutils/find_readline.perl\n",
            "cwb-3.5.0-src/instutils/cwb-config.in\n",
            "cwb-3.5.0-src/instutils/install.sh\n",
            "cwb-3.5.0-src/instutils/cwb-config-win.bat.in\n",
            "cwb-3.5.0-src/instutils/INSTALL.old\n",
            "cwb-3.5.0-src/instutils/uninstall-cwb.perl\n",
            "cwb-3.5.0-src/instutils/INSTALL-release\n",
            "cwb-3.5.0-src/instutils/INSTALL-release-win\n",
            "cwb-3.5.0-src/instutils/Makefile\n",
            "cwb-3.5.0-src/instutils/install-cwb-win.bat.in\n",
            "cwb-3.5.0-src/instutils/cwb-config-release.perl\n",
            "cwb-3.5.0-src/man/\n",
            "cwb-3.5.0-src/man/cwb-makeall.pod\n",
            "cwb-3.5.0-src/man/cqpcl.pod\n",
            "cwb-3.5.0-src/man/cqpserver.pod\n",
            "cwb-3.5.0-src/man/cwb-atoi.pod\n",
            "cwb-3.5.0-src/man/cwb-compress-rdx.pod\n",
            "cwb-3.5.0-src/man/cwb-config.pod\n",
            "cwb-3.5.0-src/man/cwb-decode-nqrfile.pod\n",
            "cwb-3.5.0-src/man/cwb-describe-corpus.pod\n",
            "cwb-3.5.0-src/man/cwb-huffcode.pod\n",
            "cwb-3.5.0-src/man/cwb-itoa.pod\n",
            "cwb-3.5.0-src/man/cqp.pod\n",
            "cwb-3.5.0-src/man/cwb-align-decode.pod\n",
            "cwb-3.5.0-src/man/cwb-align-encode.pod\n",
            "cwb-3.5.0-src/man/cwb-align-show.pod\n",
            "cwb-3.5.0-src/man/cwb-align.pod\n",
            "cwb-3.5.0-src/man/cwb-decode.pod\n",
            "cwb-3.5.0-src/man/cwb-encode.pod\n",
            "cwb-3.5.0-src/man/cwb-lexdecode.pod\n",
            "cwb-3.5.0-src/man/cwb-s-decode.pod\n",
            "cwb-3.5.0-src/man/cwb-s-encode.pod\n",
            "cwb-3.5.0-src/man/cwb-scan-corpus.pod\n",
            "cwb-3.5.0-src/man/Makefile\n",
            "cwb-3.5.0-src/man/cqp.man\n",
            "cwb-3.5.0-src/man/cqpcl.man\n",
            "cwb-3.5.0-src/man/cqpserver.man\n",
            "cwb-3.5.0-src/man/cwb-align.man\n",
            "cwb-3.5.0-src/man/cwb-align-show.man\n",
            "cwb-3.5.0-src/man/cwb-align-encode.man\n",
            "cwb-3.5.0-src/man/cwb-align-decode.man\n",
            "cwb-3.5.0-src/man/cwb-atoi.man\n",
            "cwb-3.5.0-src/man/cwb-itoa.man\n",
            "cwb-3.5.0-src/man/cwb-config.man\n",
            "cwb-3.5.0-src/man/cwb-encode.man\n",
            "cwb-3.5.0-src/man/cwb-decode.man\n",
            "cwb-3.5.0-src/man/cwb-lexdecode.man\n",
            "cwb-3.5.0-src/man/cwb-decode-nqrfile.man\n",
            "cwb-3.5.0-src/man/cwb-describe-corpus.man\n",
            "cwb-3.5.0-src/man/cwb-makeall.man\n",
            "cwb-3.5.0-src/man/cwb-compress-rdx.man\n",
            "cwb-3.5.0-src/man/cwb-huffcode.man\n",
            "cwb-3.5.0-src/man/cwb-s-encode.man\n",
            "cwb-3.5.0-src/man/cwb-s-decode.man\n",
            "cwb-3.5.0-src/man/cwb-scan-corpus.man\n",
            "cwb-3.5.0-src/utils/\n",
            "cwb-3.5.0-src/utils/cwb-decode.c\n",
            "cwb-3.5.0-src/utils/barlib.h\n",
            "cwb-3.5.0-src/utils/cwb-compress-rdx.c\n",
            "cwb-3.5.0-src/utils/feature_maps.h\n",
            "cwb-3.5.0-src/utils/cwb-align-decode.c\n",
            "cwb-3.5.0-src/utils/cwb-align-encode.c\n",
            "cwb-3.5.0-src/utils/cwb-align-show.c\n",
            "cwb-3.5.0-src/utils/cwb-align.c\n",
            "cwb-3.5.0-src/utils/cwb-atoi.c\n",
            "cwb-3.5.0-src/utils/cwb-describe-corpus.c\n",
            "cwb-3.5.0-src/utils/cwb-itoa.c\n",
            "cwb-3.5.0-src/utils/cwb-s-decode.c\n",
            "cwb-3.5.0-src/utils/barlib.c\n",
            "cwb-3.5.0-src/utils/cwb-lexdecode.c\n",
            "cwb-3.5.0-src/utils/cwb-check-input.c\n",
            "cwb-3.5.0-src/utils/cwb-decode-nqrfile.c\n",
            "cwb-3.5.0-src/utils/cwb-encode.c\n",
            "cwb-3.5.0-src/utils/cwb-huffcode.c\n",
            "cwb-3.5.0-src/utils/cwb-makeall.c\n",
            "cwb-3.5.0-src/utils/cwb-s-encode.c\n",
            "cwb-3.5.0-src/utils/cwb-scan-corpus.c\n",
            "cwb-3.5.0-src/utils/feature_maps.c\n",
            "cwb-3.5.0-src/utils/Makefile\n",
            "cwb-3.5.0-src/build/\n"
          ]
        }
      ]
    },
    {
      "cell_type": "markdown",
      "source": [
        "### Installing the parser generator 'bison'"
      ],
      "metadata": {
        "id": "LTjz5aJb_Kxs"
      }
    },
    {
      "cell_type": "code",
      "source": [
        "!apt-get install flex bison"
      ],
      "metadata": {
        "id": "xMCPjvHC2e0_"
      },
      "execution_count": null,
      "outputs": []
    },
    {
      "cell_type": "markdown",
      "source": [
        "### Changing into installation directory and running installation scripts"
      ],
      "metadata": {
        "id": "6iM4NBfQBdyw"
      }
    },
    {
      "cell_type": "code",
      "source": [
        "# %cd /content/cwb-3.4.22/\n",
        "%cd /content/cwb-3.5.0-src"
      ],
      "metadata": {
        "id": "ppn0btNhzB1O",
        "outputId": "19fadb82-bdf3-414d-9adf-9cbca9edf575",
        "colab": {
          "base_uri": "https://localhost:8080/"
        }
      },
      "execution_count": 4,
      "outputs": [
        {
          "output_type": "stream",
          "name": "stdout",
          "text": [
            "/content/cwb-3.5.0-src\n"
          ]
        }
      ]
    },
    {
      "cell_type": "code",
      "source": [
        "!pwd"
      ],
      "metadata": {
        "id": "7zyvBPLDzFT8",
        "outputId": "7a01f8b3-d1fb-4dc1-f2f7-374842b5265f",
        "colab": {
          "base_uri": "https://localhost:8080/"
        }
      },
      "execution_count": 5,
      "outputs": [
        {
          "output_type": "stream",
          "name": "stdout",
          "text": [
            "/content/cwb-3.5.0-src\n"
          ]
        }
      ]
    },
    {
      "cell_type": "markdown",
      "source": [
        "(this will be the default register directory for the 'standard' CWB installation):"
      ],
      "metadata": {
        "id": "TJljSy_20JSX"
      }
    },
    {
      "cell_type": "code",
      "source": [
        "!mkdir -p /usr/local/share/cwb/registry/"
      ],
      "metadata": {
        "id": "voZ90vnn7WTi"
      },
      "execution_count": 6,
      "outputs": []
    },
    {
      "cell_type": "code",
      "source": [
        "# !sudo ./install-scripts/config-basic\n",
        "# !sudo ./install-scripts/install-linux\n",
        "\n",
        "\n",
        "!sudo /content/cwb-3.5.0-src/install-scripts/install-linux"
      ],
      "metadata": {
        "id": "8kt7QWlDzK7M",
        "outputId": "03f7ba93-d4bf-4b1f-a1a5-c59d2e341786",
        "colab": {
          "base_uri": "https://localhost:8080/"
        }
      },
      "execution_count": 7,
      "outputs": [
        {
          "output_type": "stream",
          "name": "stdout",
          "text": [
            "Linux distribution successfully detected: Ubuntu 22.04\n",
            "Reading package lists... Done\n",
            "Building dependency tree... Done\n",
            "Reading state information... Done\n",
            "autoconf is already the newest version (2.71-2).\n",
            "autoconf set to manually installed.\n",
            "gcc is already the newest version (4:11.2.0-1ubuntu1).\n",
            "gcc set to manually installed.\n",
            "libreadline-dev is already the newest version (8.1.2-1).\n",
            "libreadline-dev set to manually installed.\n",
            "make is already the newest version (4.3-4.1build1).\n",
            "make set to manually installed.\n",
            "pkg-config is already the newest version (0.29.2-1ubuntu3).\n",
            "libc6-dev is already the newest version (2.35-0ubuntu3.7).\n",
            "libc6-dev set to manually installed.\n",
            "libncurses-dev is already the newest version (6.3-2ubuntu0.1).\n",
            "libncurses-dev set to manually installed.\n",
            "libpcre3-dev is already the newest version (2:8.39-13ubuntu0.22.04.1).\n",
            "libpcre3-dev set to manually installed.\n",
            "The following additional packages will be installed:\n",
            "  libblkid-dev libblkid1 libffi-dev libfl-dev libfl2 libglib2.0-dev-bin\n",
            "  libmount-dev libmount1 libselinux1-dev libsepol-dev\n",
            "Suggested packages:\n",
            "  bison-doc flex-doc libgirepository1.0-dev libglib2.0-doc\n",
            "  libgdk-pixbuf2.0-bin | libgdk-pixbuf2.0-dev libxml2-utils cryptsetup-bin\n",
            "The following NEW packages will be installed:\n",
            "  bison flex libblkid-dev libffi-dev libfl-dev libfl2 libglib2.0-dev\n",
            "  libglib2.0-dev-bin libmount-dev libselinux1-dev libsepol-dev\n",
            "The following packages will be upgraded:\n",
            "  libblkid1 libmount1\n",
            "2 upgraded, 11 newly installed, 0 to remove and 43 not upgraded.\n",
            "Need to get 3,953 kB of archives.\n",
            "After this operation, 18.7 MB of additional disk space will be used.\n",
            "Get:1 http://archive.ubuntu.com/ubuntu jammy/main amd64 flex amd64 2.6.4-8build2 [307 kB]\n",
            "Get:2 http://archive.ubuntu.com/ubuntu jammy-updates/main amd64 libblkid1 amd64 2.37.2-4ubuntu3.4 [103 kB]\n",
            "Get:3 http://archive.ubuntu.com/ubuntu jammy-updates/main amd64 libmount1 amd64 2.37.2-4ubuntu3.4 [122 kB]\n",
            "Get:4 http://archive.ubuntu.com/ubuntu jammy/main amd64 bison amd64 2:3.8.2+dfsg-1build1 [748 kB]\n",
            "Get:5 http://archive.ubuntu.com/ubuntu jammy/main amd64 libfl2 amd64 2.6.4-8build2 [10.7 kB]\n",
            "Get:6 http://archive.ubuntu.com/ubuntu jammy/main amd64 libfl-dev amd64 2.6.4-8build2 [6,236 B]\n",
            "Get:7 http://archive.ubuntu.com/ubuntu jammy/main amd64 libffi-dev amd64 3.4.2-4 [63.7 kB]\n",
            "Get:8 http://archive.ubuntu.com/ubuntu jammy-updates/main amd64 libglib2.0-dev-bin amd64 2.72.4-0ubuntu2.2 [117 kB]\n",
            "Get:9 http://archive.ubuntu.com/ubuntu jammy-updates/main amd64 libblkid-dev amd64 2.37.2-4ubuntu3.4 [185 kB]\n",
            "Get:10 http://archive.ubuntu.com/ubuntu jammy/main amd64 libsepol-dev amd64 3.3-1build1 [378 kB]\n",
            "Get:11 http://archive.ubuntu.com/ubuntu jammy/main amd64 libselinux1-dev amd64 3.3-1build2 [158 kB]\n",
            "Get:12 http://archive.ubuntu.com/ubuntu jammy-updates/main amd64 libmount-dev amd64 2.37.2-4ubuntu3.4 [14.5 kB]\n",
            "Get:13 http://archive.ubuntu.com/ubuntu jammy-updates/main amd64 libglib2.0-dev amd64 2.72.4-0ubuntu2.2 [1,739 kB]\n",
            "Fetched 3,953 kB in 0s (8,199 kB/s)\n",
            "debconf: unable to initialize frontend: Dialog\n",
            "debconf: (No usable dialog-like program is installed, so the dialog based frontend cannot be used. at /usr/share/perl5/Debconf/FrontEnd/Dialog.pm line 78, <> line 13.)\n",
            "debconf: falling back to frontend: Readline\n",
            "debconf: unable to initialize frontend: Readline\n",
            "debconf: (This frontend requires a controlling tty.)\n",
            "debconf: falling back to frontend: Teletype\n",
            "dpkg-preconfigure: unable to re-open stdin: \n",
            "Selecting previously unselected package flex.\n",
            "(Reading database ... 121752 files and directories currently installed.)\n",
            "Preparing to unpack .../flex_2.6.4-8build2_amd64.deb ...\n",
            "Unpacking flex (2.6.4-8build2) ...\n",
            "Preparing to unpack .../libblkid1_2.37.2-4ubuntu3.4_amd64.deb ...\n",
            "Unpacking libblkid1:amd64 (2.37.2-4ubuntu3.4) over (2.37.2-4ubuntu3) ...\n",
            "Setting up libblkid1:amd64 (2.37.2-4ubuntu3.4) ...\n",
            "(Reading database ... 121825 files and directories currently installed.)\n",
            "Preparing to unpack .../libmount1_2.37.2-4ubuntu3.4_amd64.deb ...\n",
            "Unpacking libmount1:amd64 (2.37.2-4ubuntu3.4) over (2.37.2-4ubuntu3) ...\n",
            "Setting up libmount1:amd64 (2.37.2-4ubuntu3.4) ...\n",
            "Selecting previously unselected package bison.\n",
            "(Reading database ... 121825 files and directories currently installed.)\n",
            "Preparing to unpack .../0-bison_2%3a3.8.2+dfsg-1build1_amd64.deb ...\n",
            "Unpacking bison (2:3.8.2+dfsg-1build1) ...\n",
            "Selecting previously unselected package libfl2:amd64.\n",
            "Preparing to unpack .../1-libfl2_2.6.4-8build2_amd64.deb ...\n",
            "Unpacking libfl2:amd64 (2.6.4-8build2) ...\n",
            "Selecting previously unselected package libfl-dev:amd64.\n",
            "Preparing to unpack .../2-libfl-dev_2.6.4-8build2_amd64.deb ...\n",
            "Unpacking libfl-dev:amd64 (2.6.4-8build2) ...\n",
            "Selecting previously unselected package libffi-dev:amd64.\n",
            "Preparing to unpack .../3-libffi-dev_3.4.2-4_amd64.deb ...\n",
            "Unpacking libffi-dev:amd64 (3.4.2-4) ...\n",
            "Selecting previously unselected package libglib2.0-dev-bin.\n",
            "Preparing to unpack .../4-libglib2.0-dev-bin_2.72.4-0ubuntu2.2_amd64.deb ...\n",
            "Unpacking libglib2.0-dev-bin (2.72.4-0ubuntu2.2) ...\n",
            "Selecting previously unselected package libblkid-dev:amd64.\n",
            "Preparing to unpack .../5-libblkid-dev_2.37.2-4ubuntu3.4_amd64.deb ...\n",
            "Unpacking libblkid-dev:amd64 (2.37.2-4ubuntu3.4) ...\n",
            "Selecting previously unselected package libsepol-dev:amd64.\n",
            "Preparing to unpack .../6-libsepol-dev_3.3-1build1_amd64.deb ...\n",
            "Unpacking libsepol-dev:amd64 (3.3-1build1) ...\n",
            "Selecting previously unselected package libselinux1-dev:amd64.\n",
            "Preparing to unpack .../7-libselinux1-dev_3.3-1build2_amd64.deb ...\n",
            "Unpacking libselinux1-dev:amd64 (3.3-1build2) ...\n",
            "Selecting previously unselected package libmount-dev:amd64.\n",
            "Preparing to unpack .../8-libmount-dev_2.37.2-4ubuntu3.4_amd64.deb ...\n",
            "Unpacking libmount-dev:amd64 (2.37.2-4ubuntu3.4) ...\n",
            "Selecting previously unselected package libglib2.0-dev:amd64.\n",
            "Preparing to unpack .../9-libglib2.0-dev_2.72.4-0ubuntu2.2_amd64.deb ...\n",
            "Unpacking libglib2.0-dev:amd64 (2.72.4-0ubuntu2.2) ...\n",
            "Setting up libglib2.0-dev-bin (2.72.4-0ubuntu2.2) ...\n",
            "Setting up libblkid-dev:amd64 (2.37.2-4ubuntu3.4) ...\n",
            "Setting up flex (2.6.4-8build2) ...\n",
            "Setting up libffi-dev:amd64 (3.4.2-4) ...\n",
            "Setting up libsepol-dev:amd64 (3.3-1build1) ...\n",
            "Setting up libfl2:amd64 (2.6.4-8build2) ...\n",
            "Setting up bison (2:3.8.2+dfsg-1build1) ...\n",
            "update-alternatives: using /usr/bin/bison.yacc to provide /usr/bin/yacc (yacc) in auto mode\n",
            "Setting up libselinux1-dev:amd64 (3.3-1build2) ...\n",
            "Setting up libfl-dev:amd64 (2.6.4-8build2) ...\n",
            "Setting up libmount-dev:amd64 (2.37.2-4ubuntu3.4) ...\n",
            "Setting up libglib2.0-dev:amd64 (2.72.4-0ubuntu2.2) ...\n",
            "Processing triggers for libc-bin (2.35-0ubuntu3.4) ...\n",
            "/sbin/ldconfig.real: /usr/local/lib/libtbbmalloc.so.2 is not a symbolic link\n",
            "\n",
            "/sbin/ldconfig.real: /usr/local/lib/libtbbbind_2_0.so.3 is not a symbolic link\n",
            "\n",
            "/sbin/ldconfig.real: /usr/local/lib/libtbb.so.12 is not a symbolic link\n",
            "\n",
            "/sbin/ldconfig.real: /usr/local/lib/libtbbmalloc_proxy.so.2 is not a symbolic link\n",
            "\n",
            "/sbin/ldconfig.real: /usr/local/lib/libtbbbind.so.3 is not a symbolic link\n",
            "\n",
            "/sbin/ldconfig.real: /usr/local/lib/libtbbbind_2_5.so.3 is not a symbolic link\n",
            "\n",
            "Processing triggers for man-db (2.10.2-1) ...\n",
            "Processing triggers for libglib2.0-0:amd64 (2.72.4-0ubuntu2.2) ...\n",
            "--------------------------------- PERFORMING TYPICAL CLEANUP\n",
            "for i in cl cqp utils man instutils     ; do if [ -f \"$i/Makefile\" ]; then make -C $i clean; fi; done;\n",
            "make[1]: Entering directory '/content/cwb-3.5.0-src/cl'\n",
            "rm -f depend.mk\n",
            "gcc -MM -MG  -DCWB_REGISTRY_DEFAULT_PATH=\\\"\"/usr/local/share/cwb/registry\"\\\" -DCOMPILE_DATE=\\\"\"Tue Apr 30 08:32:57 AM UTC 2024\"\\\" -DCWB_VERSION=\\\"3.5.0\\\" -I/usr/include/glib-2.0 -I/usr/lib/x86_64-linux-gnu/glib-2.0/include    globals.c macros.c ui-helpers.c list.c lexhash.c ngram-hash.c bitfields.c storage.c fileutils.c regtab.c special-chars.c regopt.c corpus.c attributes.c makecomps.c registry.tab.c lex.creg.c cdaccess.c bitio.c endian.c compression.c  > depend.mk\n",
            "    .... cleanup compiled CL library code\n",
            "rm -f *.o libcl.a registry.output *~ libcl.so\n",
            "make[1]: Leaving directory '/content/cwb-3.5.0-src/cl'\n",
            "make[1]: Entering directory '/content/cwb-3.5.0-src/cqp'\n",
            "rm -f depend.mk\n",
            "gcc -MM -MG  -DCWB_REGISTRY_DEFAULT_PATH=\\\"\"/usr/local/share/cwb/registry\"\\\" -DCOMPILE_DATE=\\\"\"Tue Apr 30 08:32:57 AM UTC 2024\"\\\" -DCWB_VERSION=\\\"3.5.0\\\" -I/usr/include/glib-2.0 -I/usr/lib/x86_64-linux-gnu/glib-2.0/include    llquery.c cqp.c cqpcl.c symtab.c eval.c tree.c options.c corpmanag.c regex2dfa.c output.c ranges.c builtins.c groups.c targets.c matchlist.c concordance.c parse_actions.c attlist.c context_descriptor.c print-modes.c ascii-print.c sgml-print.c html-print.c latex-print.c variables.c print_align.c macro.c ../CQi/server.c ../CQi/auth.c ../CQi/log.c parser.tab.c lex.yy.c > depend.mk\n",
            "    .... cleaning up CQP programs\n",
            "rm -f cqp cqpcl cqpserver  *.o ../CQi/*.o parser.output *~ ../CQi/*~\n",
            "# TODO what is \"parser.output\" ? PARSES, PARSEH, PARSEO I think ....\n",
            "make[1]: Leaving directory '/content/cwb-3.5.0-src/cqp'\n",
            "make[1]: Entering directory '/content/cwb-3.5.0-src/utils'\n",
            "rm -f depend.mk\n",
            "gcc -MM -MG  -DCWB_REGISTRY_DEFAULT_PATH=\\\"\"/usr/local/share/cwb/registry\"\\\" -DCOMPILE_DATE=\\\"\"Tue Apr 30 08:32:58 AM UTC 2024\"\\\" -DCWB_VERSION=\\\"3.5.0\\\" -I/usr/include/glib-2.0 -I/usr/lib/x86_64-linux-gnu/glib-2.0/include    cwb-atoi.c cwb-itoa.c cwb-makeall.c cwb-encode.c cwb-decode.c cwb-lexdecode.c cwb-huffcode.c cwb-compress-rdx.c cwb-s-encode.c cwb-s-decode.c cwb-describe-corpus.c cwb-decode-nqrfile.c cwb-scan-corpus.c barlib.c feature_maps.c cwb-align.c cwb-align-show.c cwb-align-encode.c cwb-align-decode.c  > depend.mk\n",
            "    .... cleanup CWB utility programs\n",
            "rm -f cwb-atoi cwb-itoa cwb-makeall cwb-encode cwb-decode cwb-lexdecode cwb-huffcode cwb-compress-rdx cwb-s-encode cwb-s-decode cwb-describe-corpus cwb-decode-nqrfile cwb-scan-corpus cwb-align cwb-align-show cwb-align-encode cwb-align-decode  *.o *~\n",
            "make[1]: Leaving directory '/content/cwb-3.5.0-src/utils'\n",
            "make[1]: Entering directory '/content/cwb-3.5.0-src/man'\n",
            "    .... cleaning up PDF files\n",
            "rm -f cqp.pdf cqpcl.pdf cqpserver.pdf cwb-align.pdf cwb-align-show.pdf cwb-align-encode.pdf cwb-align-decode.pdf cwb-atoi.pdf cwb-itoa.pdf cwb-config.pdf cwb-encode.pdf cwb-decode.pdf cwb-lexdecode.pdf cwb-decode-nqrfile.pdf cwb-describe-corpus.pdf cwb-makeall.pdf cwb-compress-rdx.pdf cwb-huffcode.pdf cwb-s-encode.pdf cwb-s-decode.pdf cwb-scan-corpus.pdf *~\n",
            "make[1]: Leaving directory '/content/cwb-3.5.0-src/man'\n",
            "make[1]: Entering directory '/content/cwb-3.5.0-src/instutils'\n",
            "rm -f cwb-config install-cwb.sh *~\n",
            "make[1]: Leaving directory '/content/cwb-3.5.0-src/instutils'\n",
            "rm -f *~ config/*/*~ CQi/*~ CQi/*.o technical/*~ TAGS\n",
            "rm -f -rf build/* doc/docset_html\n",
            "--------------------------------- UPDATING ALL DEPENDENCIES\n",
            "for i in cl cqp utils man instutils     ; do make -C $i depend ; done;\n",
            "make[1]: Entering directory '/content/cwb-3.5.0-src/cl'\n",
            "    .... generating the CL's make dependencies\n",
            "rm -f depend.mk\n",
            "make depend.mk\n",
            "make[2]: Entering directory '/content/cwb-3.5.0-src/cl'\n",
            "rm -f depend.mk\n",
            "gcc -MM -MG  -DCWB_REGISTRY_DEFAULT_PATH=\\\"\"/usr/local/share/cwb/registry\"\\\" -DCOMPILE_DATE=\\\"\"Tue Apr 30 08:32:59 AM UTC 2024\"\\\" -DCWB_VERSION=\\\"3.5.0\\\" -I/usr/include/glib-2.0 -I/usr/lib/x86_64-linux-gnu/glib-2.0/include    globals.c macros.c ui-helpers.c list.c lexhash.c ngram-hash.c bitfields.c storage.c fileutils.c regtab.c special-chars.c regopt.c corpus.c attributes.c makecomps.c registry.tab.c lex.creg.c cdaccess.c bitio.c endian.c compression.c  > depend.mk\n",
            "make[2]: 'depend.mk' is up to date.\n",
            "make[2]: Leaving directory '/content/cwb-3.5.0-src/cl'\n",
            "make[1]: Leaving directory '/content/cwb-3.5.0-src/cl'\n",
            "make[1]: Entering directory '/content/cwb-3.5.0-src/cqp'\n",
            "    .... generating CQP's make dependencies\n",
            "rm -f depend.mk\n",
            "make depend.mk\n",
            "make[2]: Entering directory '/content/cwb-3.5.0-src/cqp'\n",
            "rm -f depend.mk\n",
            "gcc -MM -MG  -DCWB_REGISTRY_DEFAULT_PATH=\\\"\"/usr/local/share/cwb/registry\"\\\" -DCOMPILE_DATE=\\\"\"Tue Apr 30 08:32:59 AM UTC 2024\"\\\" -DCWB_VERSION=\\\"3.5.0\\\" -I/usr/include/glib-2.0 -I/usr/lib/x86_64-linux-gnu/glib-2.0/include    llquery.c cqp.c cqpcl.c symtab.c eval.c tree.c options.c corpmanag.c regex2dfa.c output.c ranges.c builtins.c groups.c targets.c matchlist.c concordance.c parse_actions.c attlist.c context_descriptor.c print-modes.c ascii-print.c sgml-print.c html-print.c latex-print.c variables.c print_align.c macro.c ../CQi/server.c ../CQi/auth.c ../CQi/log.c parser.tab.c lex.yy.c > depend.mk\n",
            "make[2]: 'depend.mk' is up to date.\n",
            "make[2]: Leaving directory '/content/cwb-3.5.0-src/cqp'\n",
            "make[1]: Leaving directory '/content/cwb-3.5.0-src/cqp'\n",
            "make[1]: Entering directory '/content/cwb-3.5.0-src/utils'\n",
            "    .... generate make dependencies for the CWB utilities\n",
            "rm -f depend.mk\n",
            "make depend.mk\n",
            "make[2]: Entering directory '/content/cwb-3.5.0-src/utils'\n",
            "rm -f depend.mk\n",
            "gcc -MM -MG  -DCWB_REGISTRY_DEFAULT_PATH=\\\"\"/usr/local/share/cwb/registry\"\\\" -DCOMPILE_DATE=\\\"\"Tue Apr 30 08:33:00 AM UTC 2024\"\\\" -DCWB_VERSION=\\\"3.5.0\\\" -I/usr/include/glib-2.0 -I/usr/lib/x86_64-linux-gnu/glib-2.0/include    cwb-atoi.c cwb-itoa.c cwb-makeall.c cwb-encode.c cwb-decode.c cwb-lexdecode.c cwb-huffcode.c cwb-compress-rdx.c cwb-s-encode.c cwb-s-decode.c cwb-describe-corpus.c cwb-decode-nqrfile.c cwb-scan-corpus.c barlib.c feature_maps.c cwb-align.c cwb-align-show.c cwb-align-encode.c cwb-align-decode.c  > depend.mk\n",
            "make[2]: 'depend.mk' is up to date.\n",
            "make[2]: Leaving directory '/content/cwb-3.5.0-src/utils'\n",
            "make[1]: Leaving directory '/content/cwb-3.5.0-src/utils'\n",
            "make[1]: Entering directory '/content/cwb-3.5.0-src/man'\n",
            "         Nothing to be done for 'make depend' in directory 'man'\n",
            "make[1]: Leaving directory '/content/cwb-3.5.0-src/man'\n",
            "make[1]: Entering directory '/content/cwb-3.5.0-src/instutils'\n",
            "         Nothing to be done for 'make depend' in directory 'instutils'\n",
            "make[1]: Leaving directory '/content/cwb-3.5.0-src/instutils'\n",
            "--------------------------------- BUILDING CORPUS LIBRARY (CL)\n",
            "make -C cl \n",
            "make[1]: Entering directory '/content/cwb-3.5.0-src/cl'\n",
            "    .... compiling source file globals.c\n",
            "rm -f globals.o\n",
            "gcc -c  -o globals.o -O2 -Wall -fPIC -O3 -march=x86-64 -mtune=generic   -DUSE_TERMCAP -DUSE_READLINE -DCWB_REGISTRY_DEFAULT_PATH=\\\"\"/usr/local/share/cwb/registry\"\\\" -DCOMPILE_DATE=\\\"\"Tue Apr 30 08:33:00 AM UTC 2024\"\\\" -DCWB_VERSION=\\\"3.5.0\\\" -I/usr/include/glib-2.0 -I/usr/lib/x86_64-linux-gnu/glib-2.0/include    globals.c\n",
            "    .... compiling source file macros.c\n",
            "rm -f macros.o\n",
            "gcc -c  -o macros.o -O2 -Wall -fPIC -O3 -march=x86-64 -mtune=generic   -DUSE_TERMCAP -DUSE_READLINE -DCWB_REGISTRY_DEFAULT_PATH=\\\"\"/usr/local/share/cwb/registry\"\\\" -DCOMPILE_DATE=\\\"\"Tue Apr 30 08:33:01 AM UTC 2024\"\\\" -DCWB_VERSION=\\\"3.5.0\\\" -I/usr/include/glib-2.0 -I/usr/lib/x86_64-linux-gnu/glib-2.0/include    macros.c\n",
            "    .... compiling source file ui-helpers.c\n",
            "rm -f ui-helpers.o\n",
            "gcc -c  -o ui-helpers.o -O2 -Wall -fPIC -O3 -march=x86-64 -mtune=generic   -DUSE_TERMCAP -DUSE_READLINE -DCWB_REGISTRY_DEFAULT_PATH=\\\"\"/usr/local/share/cwb/registry\"\\\" -DCOMPILE_DATE=\\\"\"Tue Apr 30 08:33:01 AM UTC 2024\"\\\" -DCWB_VERSION=\\\"3.5.0\\\" -I/usr/include/glib-2.0 -I/usr/lib/x86_64-linux-gnu/glib-2.0/include    ui-helpers.c\n",
            "    .... compiling source file list.c\n",
            "rm -f list.o\n",
            "gcc -c  -o list.o -O2 -Wall -fPIC -O3 -march=x86-64 -mtune=generic   -DUSE_TERMCAP -DUSE_READLINE -DCWB_REGISTRY_DEFAULT_PATH=\\\"\"/usr/local/share/cwb/registry\"\\\" -DCOMPILE_DATE=\\\"\"Tue Apr 30 08:33:01 AM UTC 2024\"\\\" -DCWB_VERSION=\\\"3.5.0\\\" -I/usr/include/glib-2.0 -I/usr/lib/x86_64-linux-gnu/glib-2.0/include    list.c\n",
            "    .... compiling source file lexhash.c\n",
            "rm -f lexhash.o\n",
            "gcc -c  -o lexhash.o -O2 -Wall -fPIC -O3 -march=x86-64 -mtune=generic   -DUSE_TERMCAP -DUSE_READLINE -DCWB_REGISTRY_DEFAULT_PATH=\\\"\"/usr/local/share/cwb/registry\"\\\" -DCOMPILE_DATE=\\\"\"Tue Apr 30 08:33:01 AM UTC 2024\"\\\" -DCWB_VERSION=\\\"3.5.0\\\" -I/usr/include/glib-2.0 -I/usr/lib/x86_64-linux-gnu/glib-2.0/include    lexhash.c\n",
            "    .... compiling source file ngram-hash.c\n",
            "rm -f ngram-hash.o\n",
            "gcc -c  -o ngram-hash.o -O2 -Wall -fPIC -O3 -march=x86-64 -mtune=generic   -DUSE_TERMCAP -DUSE_READLINE -DCWB_REGISTRY_DEFAULT_PATH=\\\"\"/usr/local/share/cwb/registry\"\\\" -DCOMPILE_DATE=\\\"\"Tue Apr 30 08:33:01 AM UTC 2024\"\\\" -DCWB_VERSION=\\\"3.5.0\\\" -I/usr/include/glib-2.0 -I/usr/lib/x86_64-linux-gnu/glib-2.0/include    ngram-hash.c\n",
            "    .... compiling source file bitfields.c\n",
            "rm -f bitfields.o\n",
            "gcc -c  -o bitfields.o -O2 -Wall -fPIC -O3 -march=x86-64 -mtune=generic   -DUSE_TERMCAP -DUSE_READLINE -DCWB_REGISTRY_DEFAULT_PATH=\\\"\"/usr/local/share/cwb/registry\"\\\" -DCOMPILE_DATE=\\\"\"Tue Apr 30 08:33:01 AM UTC 2024\"\\\" -DCWB_VERSION=\\\"3.5.0\\\" -I/usr/include/glib-2.0 -I/usr/lib/x86_64-linux-gnu/glib-2.0/include    bitfields.c\n",
            "    .... compiling source file storage.c\n",
            "rm -f storage.o\n",
            "gcc -c  -o storage.o -O2 -Wall -fPIC -O3 -march=x86-64 -mtune=generic   -DUSE_TERMCAP -DUSE_READLINE -DCWB_REGISTRY_DEFAULT_PATH=\\\"\"/usr/local/share/cwb/registry\"\\\" -DCOMPILE_DATE=\\\"\"Tue Apr 30 08:33:01 AM UTC 2024\"\\\" -DCWB_VERSION=\\\"3.5.0\\\" -I/usr/include/glib-2.0 -I/usr/lib/x86_64-linux-gnu/glib-2.0/include    storage.c\n",
            "\u001b[01m\u001b[Kstorage.c:\u001b[m\u001b[K In function ‘\u001b[01m\u001b[Kmmapfile\u001b[m\u001b[K’:\n",
            "\u001b[01m\u001b[Kstorage.c:336:7:\u001b[m\u001b[K \u001b[01;35m\u001b[Kwarning: \u001b[m\u001b[Kignoring return value of ‘\u001b[01m\u001b[Kwrite\u001b[m\u001b[K’ declared with attribute ‘\u001b[01m\u001b[Kwarn_unused_result\u001b[m\u001b[K’ [\u001b[01;35m\u001b[K\u001b]8;;https://gcc.gnu.org/onlinedocs/gcc/Warning-Options.html#index-Wunused-result\u0007-Wunused-result\u001b]8;;\u0007\u001b[m\u001b[K]\n",
            "  336 |       \u001b[01;35m\u001b[Kwrite(fd, &fd, sizeof(int))\u001b[m\u001b[K;\n",
            "      |       \u001b[01;35m\u001b[K^~~~~~~~~~~~~~~~~~~~~~~~~~~\u001b[m\u001b[K\n",
            "    .... compiling source file fileutils.c\n",
            "rm -f fileutils.o\n",
            "gcc -c  -o fileutils.o -O2 -Wall -fPIC -O3 -march=x86-64 -mtune=generic   -DUSE_TERMCAP -DUSE_READLINE -DCWB_REGISTRY_DEFAULT_PATH=\\\"\"/usr/local/share/cwb/registry\"\\\" -DCOMPILE_DATE=\\\"\"Tue Apr 30 08:33:01 AM UTC 2024\"\\\" -DCWB_VERSION=\\\"3.5.0\\\" -I/usr/include/glib-2.0 -I/usr/lib/x86_64-linux-gnu/glib-2.0/include    fileutils.c\n",
            "    .... compiling source file regtab.c\n",
            "rm -f regtab.o\n",
            "gcc -c  -o regtab.o -O2 -Wall -fPIC -O3 -march=x86-64 -mtune=generic   -DUSE_TERMCAP -DUSE_READLINE -DCWB_REGISTRY_DEFAULT_PATH=\\\"\"/usr/local/share/cwb/registry\"\\\" -DCOMPILE_DATE=\\\"\"Tue Apr 30 08:33:02 AM UTC 2024\"\\\" -DCWB_VERSION=\\\"3.5.0\\\" -I/usr/include/glib-2.0 -I/usr/lib/x86_64-linux-gnu/glib-2.0/include    regtab.c\n",
            "    .... compiling source file special-chars.c\n",
            "rm -f special-chars.o\n",
            "gcc -c  -o special-chars.o -O2 -Wall -fPIC -O3 -march=x86-64 -mtune=generic   -DUSE_TERMCAP -DUSE_READLINE -DCWB_REGISTRY_DEFAULT_PATH=\\\"\"/usr/local/share/cwb/registry\"\\\" -DCOMPILE_DATE=\\\"\"Tue Apr 30 08:33:02 AM UTC 2024\"\\\" -DCWB_VERSION=\\\"3.5.0\\\" -I/usr/include/glib-2.0 -I/usr/lib/x86_64-linux-gnu/glib-2.0/include    special-chars.c\n",
            "    .... compiling source file regopt.c\n",
            "rm -f regopt.o\n",
            "gcc -c  -o regopt.o -O2 -Wall -fPIC -O3 -march=x86-64 -mtune=generic   -DUSE_TERMCAP -DUSE_READLINE -DCWB_REGISTRY_DEFAULT_PATH=\\\"\"/usr/local/share/cwb/registry\"\\\" -DCOMPILE_DATE=\\\"\"Tue Apr 30 08:33:02 AM UTC 2024\"\\\" -DCWB_VERSION=\\\"3.5.0\\\" -I/usr/include/glib-2.0 -I/usr/lib/x86_64-linux-gnu/glib-2.0/include    regopt.c\n",
            "    .... compiling source file corpus.c\n",
            "rm -f corpus.o\n",
            "gcc -c  -o corpus.o -O2 -Wall -fPIC -O3 -march=x86-64 -mtune=generic   -DUSE_TERMCAP -DUSE_READLINE -DCWB_REGISTRY_DEFAULT_PATH=\\\"\"/usr/local/share/cwb/registry\"\\\" -DCOMPILE_DATE=\\\"\"Tue Apr 30 08:33:03 AM UTC 2024\"\\\" -DCWB_VERSION=\\\"3.5.0\\\" -I/usr/include/glib-2.0 -I/usr/lib/x86_64-linux-gnu/glib-2.0/include    corpus.c\n",
            "    .... compiling source file attributes.c\n",
            "rm -f attributes.o\n",
            "gcc -c  -o attributes.o -O2 -Wall -fPIC -O3 -march=x86-64 -mtune=generic   -DUSE_TERMCAP -DUSE_READLINE -DCWB_REGISTRY_DEFAULT_PATH=\\\"\"/usr/local/share/cwb/registry\"\\\" -DCOMPILE_DATE=\\\"\"Tue Apr 30 08:33:03 AM UTC 2024\"\\\" -DCWB_VERSION=\\\"3.5.0\\\" -I/usr/include/glib-2.0 -I/usr/lib/x86_64-linux-gnu/glib-2.0/include    attributes.c\n",
            "    .... compiling source file makecomps.c\n",
            "rm -f makecomps.o\n",
            "gcc -c  -o makecomps.o -O2 -Wall -fPIC -O3 -march=x86-64 -mtune=generic   -DUSE_TERMCAP -DUSE_READLINE -DCWB_REGISTRY_DEFAULT_PATH=\\\"\"/usr/local/share/cwb/registry\"\\\" -DCOMPILE_DATE=\\\"\"Tue Apr 30 08:33:03 AM UTC 2024\"\\\" -DCWB_VERSION=\\\"3.5.0\\\" -I/usr/include/glib-2.0 -I/usr/lib/x86_64-linux-gnu/glib-2.0/include    makecomps.c\n",
            "    .... compiling source file registry.tab.c\n",
            "rm -f registry.tab.o\n",
            "gcc -c  -o registry.tab.o -O2 -Wall -fPIC -O3 -march=x86-64 -mtune=generic   -DUSE_TERMCAP -DUSE_READLINE -DCWB_REGISTRY_DEFAULT_PATH=\\\"\"/usr/local/share/cwb/registry\"\\\" -DCOMPILE_DATE=\\\"\"Tue Apr 30 08:33:03 AM UTC 2024\"\\\" -DCWB_VERSION=\\\"3.5.0\\\" -I/usr/include/glib-2.0 -I/usr/lib/x86_64-linux-gnu/glib-2.0/include    registry.tab.c\n",
            "    .... compiling source file lex.creg.c\n",
            "rm -f lex.creg.o\n",
            "gcc -c  -o lex.creg.o -O2 -Wall -fPIC -O3 -march=x86-64 -mtune=generic   -DUSE_TERMCAP -DUSE_READLINE -DCWB_REGISTRY_DEFAULT_PATH=\\\"\"/usr/local/share/cwb/registry\"\\\" -DCOMPILE_DATE=\\\"\"Tue Apr 30 08:33:04 AM UTC 2024\"\\\" -DCWB_VERSION=\\\"3.5.0\\\" -I/usr/include/glib-2.0 -I/usr/lib/x86_64-linux-gnu/glib-2.0/include    lex.creg.c\n",
            "    .... compiling source file cdaccess.c\n",
            "rm -f cdaccess.o\n",
            "gcc -c  -o cdaccess.o -O2 -Wall -fPIC -O3 -march=x86-64 -mtune=generic   -DUSE_TERMCAP -DUSE_READLINE -DCWB_REGISTRY_DEFAULT_PATH=\\\"\"/usr/local/share/cwb/registry\"\\\" -DCOMPILE_DATE=\\\"\"Tue Apr 30 08:33:04 AM UTC 2024\"\\\" -DCWB_VERSION=\\\"3.5.0\\\" -I/usr/include/glib-2.0 -I/usr/lib/x86_64-linux-gnu/glib-2.0/include    cdaccess.c\n",
            "\u001b[01m\u001b[Kcdaccess.c:\u001b[m\u001b[K In function ‘\u001b[01m\u001b[Kcl_dynamic_call\u001b[m\u001b[K’:\n",
            "\u001b[01m\u001b[Kcdaccess.c:2502:7:\u001b[m\u001b[K \u001b[01;35m\u001b[Kwarning: \u001b[m\u001b[Kignoring return value of ‘\u001b[01m\u001b[Kfgets\u001b[m\u001b[K’ declared with attribute ‘\u001b[01m\u001b[Kwarn_unused_result\u001b[m\u001b[K’ [\u001b[01;35m\u001b[K\u001b]8;;https://gcc.gnu.org/onlinedocs/gcc/Warning-Options.html#index-Wunused-result\u0007-Wunused-result\u001b]8;;\u0007\u001b[m\u001b[K]\n",
            " 2502 |       \u001b[01;35m\u001b[Kfgets(call, CL_MAX_LINE_LENGTH, pipe)\u001b[m\u001b[K;\n",
            "      |       \u001b[01;35m\u001b[K^~~~~~~~~~~~~~~~~~~~~~~~~~~~~~~~~~~~~\u001b[m\u001b[K\n",
            "    .... compiling source file bitio.c\n",
            "rm -f bitio.o\n",
            "gcc -c  -o bitio.o -O2 -Wall -fPIC -O3 -march=x86-64 -mtune=generic   -DUSE_TERMCAP -DUSE_READLINE -DCWB_REGISTRY_DEFAULT_PATH=\\\"\"/usr/local/share/cwb/registry\"\\\" -DCOMPILE_DATE=\\\"\"Tue Apr 30 08:33:04 AM UTC 2024\"\\\" -DCWB_VERSION=\\\"3.5.0\\\" -I/usr/include/glib-2.0 -I/usr/lib/x86_64-linux-gnu/glib-2.0/include    bitio.c\n",
            "    .... compiling source file endian.c\n",
            "rm -f endian.o\n",
            "gcc -c  -o endian.o -O2 -Wall -fPIC -O3 -march=x86-64 -mtune=generic   -DUSE_TERMCAP -DUSE_READLINE -DCWB_REGISTRY_DEFAULT_PATH=\\\"\"/usr/local/share/cwb/registry\"\\\" -DCOMPILE_DATE=\\\"\"Tue Apr 30 08:33:05 AM UTC 2024\"\\\" -DCWB_VERSION=\\\"3.5.0\\\" -I/usr/include/glib-2.0 -I/usr/lib/x86_64-linux-gnu/glib-2.0/include    endian.c\n",
            "    .... compiling source file compression.c\n",
            "rm -f compression.o\n",
            "gcc -c  -o compression.o -O2 -Wall -fPIC -O3 -march=x86-64 -mtune=generic   -DUSE_TERMCAP -DUSE_READLINE -DCWB_REGISTRY_DEFAULT_PATH=\\\"\"/usr/local/share/cwb/registry\"\\\" -DCOMPILE_DATE=\\\"\"Tue Apr 30 08:33:05 AM UTC 2024\"\\\" -DCWB_VERSION=\\\"3.5.0\\\" -I/usr/include/glib-2.0 -I/usr/lib/x86_64-linux-gnu/glib-2.0/include    compression.c\n",
            "    .... generating static library file for CL (libcl.a)\n",
            "rm -f libcl.a\n",
            "ar cq libcl.a globals.o macros.o ui-helpers.o list.o lexhash.o ngram-hash.o bitfields.o storage.o fileutils.o regtab.o special-chars.o regopt.o corpus.o attributes.o makecomps.o registry.tab.o lex.creg.o cdaccess.o bitio.o endian.o compression.o\n",
            "ranlib libcl.a\n",
            "    .... generating shared library file for CL (libcl.so)\n",
            "gcc -shared -Wl,-soname,libcl.so -o libcl.so globals.o macros.o ui-helpers.o list.o lexhash.o ngram-hash.o bitfields.o storage.o fileutils.o regtab.o special-chars.o regopt.o corpus.o attributes.o makecomps.o registry.tab.o lex.creg.o cdaccess.o bitio.o endian.o compression.o   -lm   -lpcre -lglib-2.0 \n",
            "    .... compiling source file dl_stub.c\n",
            "rm -f dl_stub.o\n",
            "gcc -c  -o dl_stub.o -O2 -Wall -fPIC -O3 -march=x86-64 -mtune=generic   -DUSE_TERMCAP -DUSE_READLINE -DCWB_REGISTRY_DEFAULT_PATH=\\\"\"/usr/local/share/cwb/registry\"\\\" -DCOMPILE_DATE=\\\"\"Tue Apr 30 08:33:05 AM UTC 2024\"\\\" -DCWB_VERSION=\\\"3.5.0\\\" -I/usr/include/glib-2.0 -I/usr/lib/x86_64-linux-gnu/glib-2.0/include    dl_stub.c\n",
            "make[1]: Leaving directory '/content/cwb-3.5.0-src/cl'\n",
            "--------------------------------- BUILDING COMMAND-LINE UTILITIES\n",
            "make -C utils \n",
            "make[1]: Entering directory '/content/cwb-3.5.0-src/utils'\n",
            "    .... compiling source file cwb-atoi.c\n",
            "rm -f cwb-atoi.o\n",
            "gcc -c  -o cwb-atoi.o -O2 -Wall -fPIC -O3 -march=x86-64 -mtune=generic   -DUSE_TERMCAP -DUSE_READLINE -DCWB_REGISTRY_DEFAULT_PATH=\\\"\"/usr/local/share/cwb/registry\"\\\" -DCOMPILE_DATE=\\\"\"Tue Apr 30 08:33:06 AM UTC 2024\"\\\" -DCWB_VERSION=\\\"3.5.0\\\" -I/usr/include/glib-2.0 -I/usr/lib/x86_64-linux-gnu/glib-2.0/include    cwb-atoi.c\n",
            "    .... link executable cwb-atoi\n",
            "rm -f cwb-atoi\n",
            "gcc -O2 -Wall -fPIC -O3 -march=x86-64 -mtune=generic   -DUSE_TERMCAP -DUSE_READLINE -o cwb-atoi cwb-atoi.o /content/cwb-3.5.0-src/utils/../cl/libcl.so -Xlinker -rpath -Xlinker /usr/local/lib -lm   -lpcre -lglib-2.0 \n",
            "    .... compiling source file cwb-itoa.c\n",
            "rm -f cwb-itoa.o\n",
            "gcc -c  -o cwb-itoa.o -O2 -Wall -fPIC -O3 -march=x86-64 -mtune=generic   -DUSE_TERMCAP -DUSE_READLINE -DCWB_REGISTRY_DEFAULT_PATH=\\\"\"/usr/local/share/cwb/registry\"\\\" -DCOMPILE_DATE=\\\"\"Tue Apr 30 08:33:06 AM UTC 2024\"\\\" -DCWB_VERSION=\\\"3.5.0\\\" -I/usr/include/glib-2.0 -I/usr/lib/x86_64-linux-gnu/glib-2.0/include    cwb-itoa.c\n",
            "    .... link executable cwb-itoa\n",
            "rm -f cwb-itoa\n",
            "gcc -O2 -Wall -fPIC -O3 -march=x86-64 -mtune=generic   -DUSE_TERMCAP -DUSE_READLINE -o cwb-itoa cwb-itoa.o /content/cwb-3.5.0-src/utils/../cl/libcl.so -Xlinker -rpath -Xlinker /usr/local/lib -lm   -lpcre -lglib-2.0 \n",
            "    .... compiling source file cwb-makeall.c\n",
            "rm -f cwb-makeall.o\n",
            "gcc -c  -o cwb-makeall.o -O2 -Wall -fPIC -O3 -march=x86-64 -mtune=generic   -DUSE_TERMCAP -DUSE_READLINE -DCWB_REGISTRY_DEFAULT_PATH=\\\"\"/usr/local/share/cwb/registry\"\\\" -DCOMPILE_DATE=\\\"\"Tue Apr 30 08:33:06 AM UTC 2024\"\\\" -DCWB_VERSION=\\\"3.5.0\\\" -I/usr/include/glib-2.0 -I/usr/lib/x86_64-linux-gnu/glib-2.0/include    cwb-makeall.c\n",
            "    .... link executable cwb-makeall\n",
            "rm -f cwb-makeall\n",
            "gcc -O2 -Wall -fPIC -O3 -march=x86-64 -mtune=generic   -DUSE_TERMCAP -DUSE_READLINE -o cwb-makeall cwb-makeall.o /content/cwb-3.5.0-src/utils/../cl/libcl.so -Xlinker -rpath -Xlinker /usr/local/lib -lm   -lpcre -lglib-2.0 \n",
            "    .... compiling source file cwb-encode.c\n",
            "rm -f cwb-encode.o\n",
            "gcc -c  -o cwb-encode.o -O2 -Wall -fPIC -O3 -march=x86-64 -mtune=generic   -DUSE_TERMCAP -DUSE_READLINE -DCWB_REGISTRY_DEFAULT_PATH=\\\"\"/usr/local/share/cwb/registry\"\\\" -DCOMPILE_DATE=\\\"\"Tue Apr 30 08:33:06 AM UTC 2024\"\\\" -DCWB_VERSION=\\\"3.5.0\\\" -I/usr/include/glib-2.0 -I/usr/lib/x86_64-linux-gnu/glib-2.0/include    cwb-encode.c\n",
            "    .... link executable cwb-encode\n",
            "rm -f cwb-encode\n",
            "gcc -O2 -Wall -fPIC -O3 -march=x86-64 -mtune=generic   -DUSE_TERMCAP -DUSE_READLINE -o cwb-encode cwb-encode.o /content/cwb-3.5.0-src/utils/../cl/libcl.so -Xlinker -rpath -Xlinker /usr/local/lib -lm   -lpcre -lglib-2.0 \n",
            "    .... compiling source file cwb-decode.c\n",
            "rm -f cwb-decode.o\n",
            "gcc -c  -o cwb-decode.o -O2 -Wall -fPIC -O3 -march=x86-64 -mtune=generic   -DUSE_TERMCAP -DUSE_READLINE -DCWB_REGISTRY_DEFAULT_PATH=\\\"\"/usr/local/share/cwb/registry\"\\\" -DCOMPILE_DATE=\\\"\"Tue Apr 30 08:33:07 AM UTC 2024\"\\\" -DCWB_VERSION=\\\"3.5.0\\\" -I/usr/include/glib-2.0 -I/usr/lib/x86_64-linux-gnu/glib-2.0/include    cwb-decode.c\n",
            "    .... link executable cwb-decode\n",
            "rm -f cwb-decode\n",
            "gcc -O2 -Wall -fPIC -O3 -march=x86-64 -mtune=generic   -DUSE_TERMCAP -DUSE_READLINE -o cwb-decode cwb-decode.o /content/cwb-3.5.0-src/utils/../cl/libcl.so -Xlinker -rpath -Xlinker /usr/local/lib -lm   -lpcre -lglib-2.0 \n",
            "    .... compiling source file cwb-lexdecode.c\n",
            "rm -f cwb-lexdecode.o\n",
            "gcc -c  -o cwb-lexdecode.o -O2 -Wall -fPIC -O3 -march=x86-64 -mtune=generic   -DUSE_TERMCAP -DUSE_READLINE -DCWB_REGISTRY_DEFAULT_PATH=\\\"\"/usr/local/share/cwb/registry\"\\\" -DCOMPILE_DATE=\\\"\"Tue Apr 30 08:33:08 AM UTC 2024\"\\\" -DCWB_VERSION=\\\"3.5.0\\\" -I/usr/include/glib-2.0 -I/usr/lib/x86_64-linux-gnu/glib-2.0/include    cwb-lexdecode.c\n",
            "    .... link executable cwb-lexdecode\n",
            "rm -f cwb-lexdecode\n",
            "gcc -O2 -Wall -fPIC -O3 -march=x86-64 -mtune=generic   -DUSE_TERMCAP -DUSE_READLINE -o cwb-lexdecode cwb-lexdecode.o /content/cwb-3.5.0-src/utils/../cl/libcl.so -Xlinker -rpath -Xlinker /usr/local/lib -lm   -lpcre -lglib-2.0 \n",
            "    .... compiling source file cwb-huffcode.c\n",
            "rm -f cwb-huffcode.o\n",
            "gcc -c  -o cwb-huffcode.o -O2 -Wall -fPIC -O3 -march=x86-64 -mtune=generic   -DUSE_TERMCAP -DUSE_READLINE -DCWB_REGISTRY_DEFAULT_PATH=\\\"\"/usr/local/share/cwb/registry\"\\\" -DCOMPILE_DATE=\\\"\"Tue Apr 30 08:33:08 AM UTC 2024\"\\\" -DCWB_VERSION=\\\"3.5.0\\\" -I/usr/include/glib-2.0 -I/usr/lib/x86_64-linux-gnu/glib-2.0/include    cwb-huffcode.c\n",
            "    .... link executable cwb-huffcode\n",
            "rm -f cwb-huffcode\n",
            "gcc -O2 -Wall -fPIC -O3 -march=x86-64 -mtune=generic   -DUSE_TERMCAP -DUSE_READLINE -o cwb-huffcode cwb-huffcode.o /content/cwb-3.5.0-src/utils/../cl/libcl.so -Xlinker -rpath -Xlinker /usr/local/lib -lm   -lpcre -lglib-2.0 \n",
            "    .... compiling source file cwb-compress-rdx.c\n",
            "rm -f cwb-compress-rdx.o\n",
            "gcc -c  -o cwb-compress-rdx.o -O2 -Wall -fPIC -O3 -march=x86-64 -mtune=generic   -DUSE_TERMCAP -DUSE_READLINE -DCWB_REGISTRY_DEFAULT_PATH=\\\"\"/usr/local/share/cwb/registry\"\\\" -DCOMPILE_DATE=\\\"\"Tue Apr 30 08:33:08 AM UTC 2024\"\\\" -DCWB_VERSION=\\\"3.5.0\\\" -I/usr/include/glib-2.0 -I/usr/lib/x86_64-linux-gnu/glib-2.0/include    cwb-compress-rdx.c\n",
            "    .... link executable cwb-compress-rdx\n",
            "rm -f cwb-compress-rdx\n",
            "gcc -O2 -Wall -fPIC -O3 -march=x86-64 -mtune=generic   -DUSE_TERMCAP -DUSE_READLINE -o cwb-compress-rdx cwb-compress-rdx.o /content/cwb-3.5.0-src/utils/../cl/libcl.so -Xlinker -rpath -Xlinker /usr/local/lib -lm   -lpcre -lglib-2.0 \n",
            "    .... compiling source file cwb-s-encode.c\n",
            "rm -f cwb-s-encode.o\n",
            "gcc -c  -o cwb-s-encode.o -O2 -Wall -fPIC -O3 -march=x86-64 -mtune=generic   -DUSE_TERMCAP -DUSE_READLINE -DCWB_REGISTRY_DEFAULT_PATH=\\\"\"/usr/local/share/cwb/registry\"\\\" -DCOMPILE_DATE=\\\"\"Tue Apr 30 08:33:09 AM UTC 2024\"\\\" -DCWB_VERSION=\\\"3.5.0\\\" -I/usr/include/glib-2.0 -I/usr/lib/x86_64-linux-gnu/glib-2.0/include    cwb-s-encode.c\n",
            "    .... link executable cwb-s-encode\n",
            "rm -f cwb-s-encode\n",
            "gcc -O2 -Wall -fPIC -O3 -march=x86-64 -mtune=generic   -DUSE_TERMCAP -DUSE_READLINE -o cwb-s-encode cwb-s-encode.o /content/cwb-3.5.0-src/utils/../cl/libcl.so -Xlinker -rpath -Xlinker /usr/local/lib -lm   -lpcre -lglib-2.0 \n",
            "    .... compiling source file cwb-s-decode.c\n",
            "rm -f cwb-s-decode.o\n",
            "gcc -c  -o cwb-s-decode.o -O2 -Wall -fPIC -O3 -march=x86-64 -mtune=generic   -DUSE_TERMCAP -DUSE_READLINE -DCWB_REGISTRY_DEFAULT_PATH=\\\"\"/usr/local/share/cwb/registry\"\\\" -DCOMPILE_DATE=\\\"\"Tue Apr 30 08:33:09 AM UTC 2024\"\\\" -DCWB_VERSION=\\\"3.5.0\\\" -I/usr/include/glib-2.0 -I/usr/lib/x86_64-linux-gnu/glib-2.0/include    cwb-s-decode.c\n",
            "    .... link executable cwb-s-decode\n",
            "rm -f cwb-s-decode\n",
            "gcc -O2 -Wall -fPIC -O3 -march=x86-64 -mtune=generic   -DUSE_TERMCAP -DUSE_READLINE -o cwb-s-decode cwb-s-decode.o /content/cwb-3.5.0-src/utils/../cl/libcl.so -Xlinker -rpath -Xlinker /usr/local/lib -lm   -lpcre -lglib-2.0 \n",
            "    .... compiling source file cwb-describe-corpus.c\n",
            "rm -f cwb-describe-corpus.o\n",
            "gcc -c  -o cwb-describe-corpus.o -O2 -Wall -fPIC -O3 -march=x86-64 -mtune=generic   -DUSE_TERMCAP -DUSE_READLINE -DCWB_REGISTRY_DEFAULT_PATH=\\\"\"/usr/local/share/cwb/registry\"\\\" -DCOMPILE_DATE=\\\"\"Tue Apr 30 08:33:09 AM UTC 2024\"\\\" -DCWB_VERSION=\\\"3.5.0\\\" -I/usr/include/glib-2.0 -I/usr/lib/x86_64-linux-gnu/glib-2.0/include    cwb-describe-corpus.c\n",
            "    .... link executable cwb-describe-corpus\n",
            "rm -f cwb-describe-corpus\n",
            "gcc -O2 -Wall -fPIC -O3 -march=x86-64 -mtune=generic   -DUSE_TERMCAP -DUSE_READLINE -o cwb-describe-corpus cwb-describe-corpus.o /content/cwb-3.5.0-src/utils/../cl/libcl.so -Xlinker -rpath -Xlinker /usr/local/lib -lm   -lpcre -lglib-2.0 \n",
            "    .... compiling source file cwb-decode-nqrfile.c\n",
            "rm -f cwb-decode-nqrfile.o\n",
            "gcc -c  -o cwb-decode-nqrfile.o -O2 -Wall -fPIC -O3 -march=x86-64 -mtune=generic   -DUSE_TERMCAP -DUSE_READLINE -DCWB_REGISTRY_DEFAULT_PATH=\\\"\"/usr/local/share/cwb/registry\"\\\" -DCOMPILE_DATE=\\\"\"Tue Apr 30 08:33:09 AM UTC 2024\"\\\" -DCWB_VERSION=\\\"3.5.0\\\" -I/usr/include/glib-2.0 -I/usr/lib/x86_64-linux-gnu/glib-2.0/include    cwb-decode-nqrfile.c\n",
            "    .... link executable cwb-decode-nqrfile\n",
            "rm -f cwb-decode-nqrfile\n",
            "gcc -O2 -Wall -fPIC -O3 -march=x86-64 -mtune=generic   -DUSE_TERMCAP -DUSE_READLINE -o cwb-decode-nqrfile cwb-decode-nqrfile.o /content/cwb-3.5.0-src/utils/../cl/libcl.so -Xlinker -rpath -Xlinker /usr/local/lib -lm   -lpcre -lglib-2.0 \n",
            "    .... compiling source file cwb-scan-corpus.c\n",
            "rm -f cwb-scan-corpus.o\n",
            "gcc -c  -o cwb-scan-corpus.o -O2 -Wall -fPIC -O3 -march=x86-64 -mtune=generic   -DUSE_TERMCAP -DUSE_READLINE -DCWB_REGISTRY_DEFAULT_PATH=\\\"\"/usr/local/share/cwb/registry\"\\\" -DCOMPILE_DATE=\\\"\"Tue Apr 30 08:33:09 AM UTC 2024\"\\\" -DCWB_VERSION=\\\"3.5.0\\\" -I/usr/include/glib-2.0 -I/usr/lib/x86_64-linux-gnu/glib-2.0/include    cwb-scan-corpus.c\n",
            "    .... link executable cwb-scan-corpus\n",
            "rm -f cwb-scan-corpus\n",
            "gcc -O2 -Wall -fPIC -O3 -march=x86-64 -mtune=generic   -DUSE_TERMCAP -DUSE_READLINE -o cwb-scan-corpus cwb-scan-corpus.o /content/cwb-3.5.0-src/utils/../cl/libcl.so -Xlinker -rpath -Xlinker /usr/local/lib -lm   -lpcre -lglib-2.0 \n",
            "    .... compiling source file cwb-align.c\n",
            "rm -f cwb-align.o\n",
            "gcc -c  -o cwb-align.o -O2 -Wall -fPIC -O3 -march=x86-64 -mtune=generic   -DUSE_TERMCAP -DUSE_READLINE -DCWB_REGISTRY_DEFAULT_PATH=\\\"\"/usr/local/share/cwb/registry\"\\\" -DCOMPILE_DATE=\\\"\"Tue Apr 30 08:33:10 AM UTC 2024\"\\\" -DCWB_VERSION=\\\"3.5.0\\\" -I/usr/include/glib-2.0 -I/usr/lib/x86_64-linux-gnu/glib-2.0/include    cwb-align.c\n",
            "    .... compiling source file barlib.c\n",
            "rm -f barlib.o\n",
            "gcc -c  -o barlib.o -O2 -Wall -fPIC -O3 -march=x86-64 -mtune=generic   -DUSE_TERMCAP -DUSE_READLINE -DCWB_REGISTRY_DEFAULT_PATH=\\\"\"/usr/local/share/cwb/registry\"\\\" -DCOMPILE_DATE=\\\"\"Tue Apr 30 08:33:10 AM UTC 2024\"\\\" -DCWB_VERSION=\\\"3.5.0\\\" -I/usr/include/glib-2.0 -I/usr/lib/x86_64-linux-gnu/glib-2.0/include    barlib.c\n",
            "    .... compiling source file feature_maps.c\n",
            "rm -f feature_maps.o\n",
            "gcc -c  -o feature_maps.o -O2 -Wall -fPIC -O3 -march=x86-64 -mtune=generic   -DUSE_TERMCAP -DUSE_READLINE -DCWB_REGISTRY_DEFAULT_PATH=\\\"\"/usr/local/share/cwb/registry\"\\\" -DCOMPILE_DATE=\\\"\"Tue Apr 30 08:33:10 AM UTC 2024\"\\\" -DCWB_VERSION=\\\"3.5.0\\\" -I/usr/include/glib-2.0 -I/usr/lib/x86_64-linux-gnu/glib-2.0/include    feature_maps.c\n",
            "    .... link executable cwb-align\n",
            "rm -f cwb-align\n",
            "gcc -O2 -Wall -fPIC -O3 -march=x86-64 -mtune=generic   -DUSE_TERMCAP -DUSE_READLINE -o cwb-align cwb-align.o barlib.o feature_maps.o /content/cwb-3.5.0-src/utils/../cl/libcl.so -Xlinker -rpath -Xlinker /usr/local/lib -lm   -lpcre -lglib-2.0 \n",
            "    .... compiling source file cwb-align-show.c\n",
            "rm -f cwb-align-show.o\n",
            "gcc -c  -o cwb-align-show.o -O2 -Wall -fPIC -O3 -march=x86-64 -mtune=generic   -DUSE_TERMCAP -DUSE_READLINE -DCWB_REGISTRY_DEFAULT_PATH=\\\"\"/usr/local/share/cwb/registry\"\\\" -DCOMPILE_DATE=\\\"\"Tue Apr 30 08:33:10 AM UTC 2024\"\\\" -DCWB_VERSION=\\\"3.5.0\\\" -I/usr/include/glib-2.0 -I/usr/lib/x86_64-linux-gnu/glib-2.0/include    cwb-align-show.c\n",
            "\u001b[01m\u001b[Kcwb-align-show.c:\u001b[m\u001b[K In function ‘\u001b[01m\u001b[Kalignshow_skip_next_region\u001b[m\u001b[K’:\n",
            "\u001b[01m\u001b[Kcwb-align-show.c:217:3:\u001b[m\u001b[K \u001b[01;35m\u001b[Kwarning: \u001b[m\u001b[Kignoring return value of ‘\u001b[01m\u001b[Kfgets\u001b[m\u001b[K’ declared with attribute ‘\u001b[01m\u001b[Kwarn_unused_result\u001b[m\u001b[K’ [\u001b[01;35m\u001b[K\u001b]8;;https://gcc.gnu.org/onlinedocs/gcc/Warning-Options.html#index-Wunused-result\u0007-Wunused-result\u001b]8;;\u0007\u001b[m\u001b[K]\n",
            "  217 |   \u001b[01;35m\u001b[Kfgets(line, CL_MAX_LINE_LENGTH, f)\u001b[m\u001b[K;\n",
            "      |   \u001b[01;35m\u001b[K^~~~~~~~~~~~~~~~~~~~~~~~~~~~~~~~~~\u001b[m\u001b[K\n",
            "\u001b[01m\u001b[Kcwb-align-show.c:\u001b[m\u001b[K In function ‘\u001b[01m\u001b[Kmain\u001b[m\u001b[K’:\n",
            "\u001b[01m\u001b[Kcwb-align-show.c:354:3:\u001b[m\u001b[K \u001b[01;35m\u001b[Kwarning: \u001b[m\u001b[Kignoring return value of ‘\u001b[01m\u001b[Kfgets\u001b[m\u001b[K’ declared with attribute ‘\u001b[01m\u001b[Kwarn_unused_result\u001b[m\u001b[K’ [\u001b[01;35m\u001b[K\u001b]8;;https://gcc.gnu.org/onlinedocs/gcc/Warning-Options.html#index-Wunused-result\u0007-Wunused-result\u001b]8;;\u0007\u001b[m\u001b[K]\n",
            "  354 |   \u001b[01;35m\u001b[Kfgets(line, CL_MAX_LINE_LENGTH, af)\u001b[m\u001b[K;\n",
            "      |   \u001b[01;35m\u001b[K^~~~~~~~~~~~~~~~~~~~~~~~~~~~~~~~~~~\u001b[m\u001b[K\n",
            "\u001b[01m\u001b[Kcwb-align-show.c:392:5:\u001b[m\u001b[K \u001b[01;35m\u001b[Kwarning: \u001b[m\u001b[Kignoring return value of ‘\u001b[01m\u001b[Kfgets\u001b[m\u001b[K’ declared with attribute ‘\u001b[01m\u001b[Kwarn_unused_result\u001b[m\u001b[K’ [\u001b[01;35m\u001b[K\u001b]8;;https://gcc.gnu.org/onlinedocs/gcc/Warning-Options.html#index-Wunused-result\u0007-Wunused-result\u001b]8;;\u0007\u001b[m\u001b[K]\n",
            "  392 |     \u001b[01;35m\u001b[Kfgets(cmd, CL_MAX_LINE_LENGTH, stdin)\u001b[m\u001b[K;\n",
            "      |     \u001b[01;35m\u001b[K^~~~~~~~~~~~~~~~~~~~~~~~~~~~~~~~~~~~~\u001b[m\u001b[K\n",
            "    .... link executable cwb-align-show\n",
            "rm -f cwb-align-show\n",
            "gcc -O2 -Wall -fPIC -O3 -march=x86-64 -mtune=generic   -DUSE_TERMCAP -DUSE_READLINE -o cwb-align-show cwb-align-show.o /content/cwb-3.5.0-src/utils/../cl/libcl.so -Xlinker -rpath -Xlinker /usr/local/lib -lm   -lpcre -lglib-2.0 \n",
            "    .... compiling source file cwb-align-encode.c\n",
            "rm -f cwb-align-encode.o\n",
            "gcc -c  -o cwb-align-encode.o -O2 -Wall -fPIC -O3 -march=x86-64 -mtune=generic   -DUSE_TERMCAP -DUSE_READLINE -DCWB_REGISTRY_DEFAULT_PATH=\\\"\"/usr/local/share/cwb/registry\"\\\" -DCOMPILE_DATE=\\\"\"Tue Apr 30 08:33:11 AM UTC 2024\"\\\" -DCWB_VERSION=\\\"3.5.0\\\" -I/usr/include/glib-2.0 -I/usr/lib/x86_64-linux-gnu/glib-2.0/include    cwb-align-encode.c\n",
            "\u001b[01m\u001b[Kcwb-align-encode.c:\u001b[m\u001b[K In function ‘\u001b[01m\u001b[Kmain\u001b[m\u001b[K’:\n",
            "\u001b[01m\u001b[Kcwb-align-encode.c:207:3:\u001b[m\u001b[K \u001b[01;35m\u001b[Kwarning: \u001b[m\u001b[Kignoring return value of ‘\u001b[01m\u001b[Kfgets\u001b[m\u001b[K’ declared with attribute ‘\u001b[01m\u001b[Kwarn_unused_result\u001b[m\u001b[K’ [\u001b[01;35m\u001b[K\u001b]8;;https://gcc.gnu.org/onlinedocs/gcc/Warning-Options.html#index-Wunused-result\u0007-Wunused-result\u001b]8;;\u0007\u001b[m\u001b[K]\n",
            "  207 |   \u001b[01;35m\u001b[Kfgets(line, CL_MAX_LINE_LENGTH, af)\u001b[m\u001b[K;\n",
            "      |   \u001b[01;35m\u001b[K^~~~~~~~~~~~~~~~~~~~~~~~~~~~~~~~~~~\u001b[m\u001b[K\n",
            "    .... link executable cwb-align-encode\n",
            "rm -f cwb-align-encode\n",
            "gcc -O2 -Wall -fPIC -O3 -march=x86-64 -mtune=generic   -DUSE_TERMCAP -DUSE_READLINE -o cwb-align-encode cwb-align-encode.o /content/cwb-3.5.0-src/utils/../cl/libcl.so -Xlinker -rpath -Xlinker /usr/local/lib -lm   -lpcre -lglib-2.0 \n",
            "    .... compiling source file cwb-align-decode.c\n",
            "rm -f cwb-align-decode.o\n",
            "gcc -c  -o cwb-align-decode.o -O2 -Wall -fPIC -O3 -march=x86-64 -mtune=generic   -DUSE_TERMCAP -DUSE_READLINE -DCWB_REGISTRY_DEFAULT_PATH=\\\"\"/usr/local/share/cwb/registry\"\\\" -DCOMPILE_DATE=\\\"\"Tue Apr 30 08:33:11 AM UTC 2024\"\\\" -DCWB_VERSION=\\\"3.5.0\\\" -I/usr/include/glib-2.0 -I/usr/lib/x86_64-linux-gnu/glib-2.0/include    cwb-align-decode.c\n",
            "    .... link executable cwb-align-decode\n",
            "rm -f cwb-align-decode\n",
            "gcc -O2 -Wall -fPIC -O3 -march=x86-64 -mtune=generic   -DUSE_TERMCAP -DUSE_READLINE -o cwb-align-decode cwb-align-decode.o /content/cwb-3.5.0-src/utils/../cl/libcl.so -Xlinker -rpath -Xlinker /usr/local/lib -lm   -lpcre -lglib-2.0 \n",
            "make[1]: Leaving directory '/content/cwb-3.5.0-src/utils'\n",
            "--------------------------------- BUILDING CQP\n",
            "make -C cqp \n",
            "make[1]: Entering directory '/content/cwb-3.5.0-src/cqp'\n",
            "    .... compiling source file cqp.c\n",
            "rm -f cqp.o\n",
            "gcc -c  -o cqp.o -O2 -Wall -fPIC -O3 -march=x86-64 -mtune=generic   -DUSE_TERMCAP -DUSE_READLINE -DCWB_REGISTRY_DEFAULT_PATH=\\\"\"/usr/local/share/cwb/registry\"\\\" -DCOMPILE_DATE=\\\"\"Tue Apr 30 08:33:11 AM UTC 2024\"\\\" -DCWB_VERSION=\\\"3.5.0\\\" -I/usr/include/glib-2.0 -I/usr/lib/x86_64-linux-gnu/glib-2.0/include    cqp.c\n",
            "    .... compiling source file symtab.c\n",
            "rm -f symtab.o\n",
            "gcc -c  -o symtab.o -O2 -Wall -fPIC -O3 -march=x86-64 -mtune=generic   -DUSE_TERMCAP -DUSE_READLINE -DCWB_REGISTRY_DEFAULT_PATH=\\\"\"/usr/local/share/cwb/registry\"\\\" -DCOMPILE_DATE=\\\"\"Tue Apr 30 08:33:11 AM UTC 2024\"\\\" -DCWB_VERSION=\\\"3.5.0\\\" -I/usr/include/glib-2.0 -I/usr/lib/x86_64-linux-gnu/glib-2.0/include    symtab.c\n",
            "    .... compiling source file eval.c\n",
            "rm -f eval.o\n",
            "gcc -c  -o eval.o -O2 -Wall -fPIC -O3 -march=x86-64 -mtune=generic   -DUSE_TERMCAP -DUSE_READLINE -DCWB_REGISTRY_DEFAULT_PATH=\\\"\"/usr/local/share/cwb/registry\"\\\" -DCOMPILE_DATE=\\\"\"Tue Apr 30 08:33:11 AM UTC 2024\"\\\" -DCWB_VERSION=\\\"3.5.0\\\" -I/usr/include/glib-2.0 -I/usr/lib/x86_64-linux-gnu/glib-2.0/include    eval.c\n",
            "    .... compiling source file tree.c\n",
            "rm -f tree.o\n",
            "gcc -c  -o tree.o -O2 -Wall -fPIC -O3 -march=x86-64 -mtune=generic   -DUSE_TERMCAP -DUSE_READLINE -DCWB_REGISTRY_DEFAULT_PATH=\\\"\"/usr/local/share/cwb/registry\"\\\" -DCOMPILE_DATE=\\\"\"Tue Apr 30 08:33:12 AM UTC 2024\"\\\" -DCWB_VERSION=\\\"3.5.0\\\" -I/usr/include/glib-2.0 -I/usr/lib/x86_64-linux-gnu/glib-2.0/include    tree.c\n",
            "    .... compiling source file options.c\n",
            "rm -f options.o\n",
            "gcc -c  -o options.o -O2 -Wall -fPIC -O3 -march=x86-64 -mtune=generic   -DUSE_TERMCAP -DUSE_READLINE -DCWB_REGISTRY_DEFAULT_PATH=\\\"\"/usr/local/share/cwb/registry\"\\\" -DCOMPILE_DATE=\\\"\"Tue Apr 30 08:33:13 AM UTC 2024\"\\\" -DCWB_VERSION=\\\"3.5.0\\\" -I/usr/include/glib-2.0 -I/usr/lib/x86_64-linux-gnu/glib-2.0/include    options.c\n",
            "    .... compiling source file corpmanag.c\n",
            "rm -f corpmanag.o\n",
            "gcc -c  -o corpmanag.o -O2 -Wall -fPIC -O3 -march=x86-64 -mtune=generic   -DUSE_TERMCAP -DUSE_READLINE -DCWB_REGISTRY_DEFAULT_PATH=\\\"\"/usr/local/share/cwb/registry\"\\\" -DCOMPILE_DATE=\\\"\"Tue Apr 30 08:33:13 AM UTC 2024\"\\\" -DCWB_VERSION=\\\"3.5.0\\\" -I/usr/include/glib-2.0 -I/usr/lib/x86_64-linux-gnu/glib-2.0/include    corpmanag.c\n",
            "    .... compiling source file regex2dfa.c\n",
            "rm -f regex2dfa.o\n",
            "gcc -c  -o regex2dfa.o -O2 -Wall -fPIC -O3 -march=x86-64 -mtune=generic   -DUSE_TERMCAP -DUSE_READLINE -DCWB_REGISTRY_DEFAULT_PATH=\\\"\"/usr/local/share/cwb/registry\"\\\" -DCOMPILE_DATE=\\\"\"Tue Apr 30 08:33:13 AM UTC 2024\"\\\" -DCWB_VERSION=\\\"3.5.0\\\" -I/usr/include/glib-2.0 -I/usr/lib/x86_64-linux-gnu/glib-2.0/include    regex2dfa.c\n",
            "    .... compiling source file output.c\n",
            "rm -f output.o\n",
            "gcc -c  -o output.o -O2 -Wall -fPIC -O3 -march=x86-64 -mtune=generic   -DUSE_TERMCAP -DUSE_READLINE -DCWB_REGISTRY_DEFAULT_PATH=\\\"\"/usr/local/share/cwb/registry\"\\\" -DCOMPILE_DATE=\\\"\"Tue Apr 30 08:33:14 AM UTC 2024\"\\\" -DCWB_VERSION=\\\"3.5.0\\\" -I/usr/include/glib-2.0 -I/usr/lib/x86_64-linux-gnu/glib-2.0/include    output.c\n",
            "    .... compiling source file ranges.c\n",
            "rm -f ranges.o\n",
            "gcc -c  -o ranges.o -O2 -Wall -fPIC -O3 -march=x86-64 -mtune=generic   -DUSE_TERMCAP -DUSE_READLINE -DCWB_REGISTRY_DEFAULT_PATH=\\\"\"/usr/local/share/cwb/registry\"\\\" -DCOMPILE_DATE=\\\"\"Tue Apr 30 08:33:14 AM UTC 2024\"\\\" -DCWB_VERSION=\\\"3.5.0\\\" -I/usr/include/glib-2.0 -I/usr/lib/x86_64-linux-gnu/glib-2.0/include    ranges.c\n",
            "    .... compiling source file builtins.c\n",
            "rm -f builtins.o\n",
            "gcc -c  -o builtins.o -O2 -Wall -fPIC -O3 -march=x86-64 -mtune=generic   -DUSE_TERMCAP -DUSE_READLINE -DCWB_REGISTRY_DEFAULT_PATH=\\\"\"/usr/local/share/cwb/registry\"\\\" -DCOMPILE_DATE=\\\"\"Tue Apr 30 08:33:15 AM UTC 2024\"\\\" -DCWB_VERSION=\\\"3.5.0\\\" -I/usr/include/glib-2.0 -I/usr/lib/x86_64-linux-gnu/glib-2.0/include    builtins.c\n",
            "    .... compiling source file groups.c\n",
            "rm -f groups.o\n",
            "gcc -c  -o groups.o -O2 -Wall -fPIC -O3 -march=x86-64 -mtune=generic   -DUSE_TERMCAP -DUSE_READLINE -DCWB_REGISTRY_DEFAULT_PATH=\\\"\"/usr/local/share/cwb/registry\"\\\" -DCOMPILE_DATE=\\\"\"Tue Apr 30 08:33:15 AM UTC 2024\"\\\" -DCWB_VERSION=\\\"3.5.0\\\" -I/usr/include/glib-2.0 -I/usr/lib/x86_64-linux-gnu/glib-2.0/include    groups.c\n",
            "    .... compiling source file targets.c\n",
            "rm -f targets.o\n",
            "gcc -c  -o targets.o -O2 -Wall -fPIC -O3 -march=x86-64 -mtune=generic   -DUSE_TERMCAP -DUSE_READLINE -DCWB_REGISTRY_DEFAULT_PATH=\\\"\"/usr/local/share/cwb/registry\"\\\" -DCOMPILE_DATE=\\\"\"Tue Apr 30 08:33:15 AM UTC 2024\"\\\" -DCWB_VERSION=\\\"3.5.0\\\" -I/usr/include/glib-2.0 -I/usr/lib/x86_64-linux-gnu/glib-2.0/include    targets.c\n",
            "    .... compiling source file matchlist.c\n",
            "rm -f matchlist.o\n",
            "gcc -c  -o matchlist.o -O2 -Wall -fPIC -O3 -march=x86-64 -mtune=generic   -DUSE_TERMCAP -DUSE_READLINE -DCWB_REGISTRY_DEFAULT_PATH=\\\"\"/usr/local/share/cwb/registry\"\\\" -DCOMPILE_DATE=\\\"\"Tue Apr 30 08:33:15 AM UTC 2024\"\\\" -DCWB_VERSION=\\\"3.5.0\\\" -I/usr/include/glib-2.0 -I/usr/lib/x86_64-linux-gnu/glib-2.0/include    matchlist.c\n",
            "    .... compiling source file concordance.c\n",
            "rm -f concordance.o\n",
            "gcc -c  -o concordance.o -O2 -Wall -fPIC -O3 -march=x86-64 -mtune=generic   -DUSE_TERMCAP -DUSE_READLINE -DCWB_REGISTRY_DEFAULT_PATH=\\\"\"/usr/local/share/cwb/registry\"\\\" -DCOMPILE_DATE=\\\"\"Tue Apr 30 08:33:16 AM UTC 2024\"\\\" -DCWB_VERSION=\\\"3.5.0\\\" -I/usr/include/glib-2.0 -I/usr/lib/x86_64-linux-gnu/glib-2.0/include    concordance.c\n",
            "    .... compiling source file parse_actions.c\n",
            "rm -f parse_actions.o\n",
            "gcc -c  -o parse_actions.o -O2 -Wall -fPIC -O3 -march=x86-64 -mtune=generic   -DUSE_TERMCAP -DUSE_READLINE -DCWB_REGISTRY_DEFAULT_PATH=\\\"\"/usr/local/share/cwb/registry\"\\\" -DCOMPILE_DATE=\\\"\"Tue Apr 30 08:33:16 AM UTC 2024\"\\\" -DCWB_VERSION=\\\"3.5.0\\\" -I/usr/include/glib-2.0 -I/usr/lib/x86_64-linux-gnu/glib-2.0/include    parse_actions.c\n",
            "    .... compiling source file attlist.c\n",
            "rm -f attlist.o\n",
            "gcc -c  -o attlist.o -O2 -Wall -fPIC -O3 -march=x86-64 -mtune=generic   -DUSE_TERMCAP -DUSE_READLINE -DCWB_REGISTRY_DEFAULT_PATH=\\\"\"/usr/local/share/cwb/registry\"\\\" -DCOMPILE_DATE=\\\"\"Tue Apr 30 08:33:17 AM UTC 2024\"\\\" -DCWB_VERSION=\\\"3.5.0\\\" -I/usr/include/glib-2.0 -I/usr/lib/x86_64-linux-gnu/glib-2.0/include    attlist.c\n",
            "    .... compiling source file context_descriptor.c\n",
            "rm -f context_descriptor.o\n",
            "gcc -c  -o context_descriptor.o -O2 -Wall -fPIC -O3 -march=x86-64 -mtune=generic   -DUSE_TERMCAP -DUSE_READLINE -DCWB_REGISTRY_DEFAULT_PATH=\\\"\"/usr/local/share/cwb/registry\"\\\" -DCOMPILE_DATE=\\\"\"Tue Apr 30 08:33:17 AM UTC 2024\"\\\" -DCWB_VERSION=\\\"3.5.0\\\" -I/usr/include/glib-2.0 -I/usr/lib/x86_64-linux-gnu/glib-2.0/include    context_descriptor.c\n",
            "    .... compiling source file print-modes.c\n",
            "rm -f print-modes.o\n",
            "gcc -c  -o print-modes.o -O2 -Wall -fPIC -O3 -march=x86-64 -mtune=generic   -DUSE_TERMCAP -DUSE_READLINE -DCWB_REGISTRY_DEFAULT_PATH=\\\"\"/usr/local/share/cwb/registry\"\\\" -DCOMPILE_DATE=\\\"\"Tue Apr 30 08:33:17 AM UTC 2024\"\\\" -DCWB_VERSION=\\\"3.5.0\\\" -I/usr/include/glib-2.0 -I/usr/lib/x86_64-linux-gnu/glib-2.0/include    print-modes.c\n",
            "    .... compiling source file ascii-print.c\n",
            "rm -f ascii-print.o\n",
            "gcc -c  -o ascii-print.o -O2 -Wall -fPIC -O3 -march=x86-64 -mtune=generic   -DUSE_TERMCAP -DUSE_READLINE -DCWB_REGISTRY_DEFAULT_PATH=\\\"\"/usr/local/share/cwb/registry\"\\\" -DCOMPILE_DATE=\\\"\"Tue Apr 30 08:33:17 AM UTC 2024\"\\\" -DCWB_VERSION=\\\"3.5.0\\\" -I/usr/include/glib-2.0 -I/usr/lib/x86_64-linux-gnu/glib-2.0/include    ascii-print.c\n",
            "    .... compiling source file sgml-print.c\n",
            "rm -f sgml-print.o\n",
            "gcc -c  -o sgml-print.o -O2 -Wall -fPIC -O3 -march=x86-64 -mtune=generic   -DUSE_TERMCAP -DUSE_READLINE -DCWB_REGISTRY_DEFAULT_PATH=\\\"\"/usr/local/share/cwb/registry\"\\\" -DCOMPILE_DATE=\\\"\"Tue Apr 30 08:33:17 AM UTC 2024\"\\\" -DCWB_VERSION=\\\"3.5.0\\\" -I/usr/include/glib-2.0 -I/usr/lib/x86_64-linux-gnu/glib-2.0/include    sgml-print.c\n",
            "    .... compiling source file html-print.c\n",
            "rm -f html-print.o\n",
            "gcc -c  -o html-print.o -O2 -Wall -fPIC -O3 -march=x86-64 -mtune=generic   -DUSE_TERMCAP -DUSE_READLINE -DCWB_REGISTRY_DEFAULT_PATH=\\\"\"/usr/local/share/cwb/registry\"\\\" -DCOMPILE_DATE=\\\"\"Tue Apr 30 08:33:17 AM UTC 2024\"\\\" -DCWB_VERSION=\\\"3.5.0\\\" -I/usr/include/glib-2.0 -I/usr/lib/x86_64-linux-gnu/glib-2.0/include    html-print.c\n",
            "    .... compiling source file latex-print.c\n",
            "rm -f latex-print.o\n",
            "gcc -c  -o latex-print.o -O2 -Wall -fPIC -O3 -march=x86-64 -mtune=generic   -DUSE_TERMCAP -DUSE_READLINE -DCWB_REGISTRY_DEFAULT_PATH=\\\"\"/usr/local/share/cwb/registry\"\\\" -DCOMPILE_DATE=\\\"\"Tue Apr 30 08:33:18 AM UTC 2024\"\\\" -DCWB_VERSION=\\\"3.5.0\\\" -I/usr/include/glib-2.0 -I/usr/lib/x86_64-linux-gnu/glib-2.0/include    latex-print.c\n",
            "    .... compiling source file variables.c\n",
            "rm -f variables.o\n",
            "gcc -c  -o variables.o -O2 -Wall -fPIC -O3 -march=x86-64 -mtune=generic   -DUSE_TERMCAP -DUSE_READLINE -DCWB_REGISTRY_DEFAULT_PATH=\\\"\"/usr/local/share/cwb/registry\"\\\" -DCOMPILE_DATE=\\\"\"Tue Apr 30 08:33:18 AM UTC 2024\"\\\" -DCWB_VERSION=\\\"3.5.0\\\" -I/usr/include/glib-2.0 -I/usr/lib/x86_64-linux-gnu/glib-2.0/include    variables.c\n",
            "    .... compiling source file print_align.c\n",
            "rm -f print_align.o\n",
            "gcc -c  -o print_align.o -O2 -Wall -fPIC -O3 -march=x86-64 -mtune=generic   -DUSE_TERMCAP -DUSE_READLINE -DCWB_REGISTRY_DEFAULT_PATH=\\\"\"/usr/local/share/cwb/registry\"\\\" -DCOMPILE_DATE=\\\"\"Tue Apr 30 08:33:18 AM UTC 2024\"\\\" -DCWB_VERSION=\\\"3.5.0\\\" -I/usr/include/glib-2.0 -I/usr/lib/x86_64-linux-gnu/glib-2.0/include    print_align.c\n",
            "    .... compiling source file macro.c\n",
            "rm -f macro.o\n",
            "gcc -c  -o macro.o -O2 -Wall -fPIC -O3 -march=x86-64 -mtune=generic   -DUSE_TERMCAP -DUSE_READLINE -DCWB_REGISTRY_DEFAULT_PATH=\\\"\"/usr/local/share/cwb/registry\"\\\" -DCOMPILE_DATE=\\\"\"Tue Apr 30 08:33:18 AM UTC 2024\"\\\" -DCWB_VERSION=\\\"3.5.0\\\" -I/usr/include/glib-2.0 -I/usr/lib/x86_64-linux-gnu/glib-2.0/include    macro.c\n",
            "    .... compiling source file parser.tab.c\n",
            "rm -f parser.tab.o\n",
            "gcc -c  -o parser.tab.o -O2 -Wall -fPIC -O3 -march=x86-64 -mtune=generic   -DUSE_TERMCAP -DUSE_READLINE -DCWB_REGISTRY_DEFAULT_PATH=\\\"\"/usr/local/share/cwb/registry\"\\\" -DCOMPILE_DATE=\\\"\"Tue Apr 30 08:33:19 AM UTC 2024\"\\\" -DCWB_VERSION=\\\"3.5.0\\\" -I/usr/include/glib-2.0 -I/usr/lib/x86_64-linux-gnu/glib-2.0/include    parser.tab.c\n",
            "    .... compiling source file lex.yy.c\n",
            "rm -f lex.yy.o\n",
            "gcc -c  -o lex.yy.o -O2 -Wall -fPIC -O3 -march=x86-64 -mtune=generic   -DUSE_TERMCAP -DUSE_READLINE -DCWB_REGISTRY_DEFAULT_PATH=\\\"\"/usr/local/share/cwb/registry\"\\\" -DCOMPILE_DATE=\\\"\"Tue Apr 30 08:33:20 AM UTC 2024\"\\\" -DCWB_VERSION=\\\"3.5.0\\\" -I/usr/include/glib-2.0 -I/usr/lib/x86_64-linux-gnu/glib-2.0/include    lex.yy.c\n",
            "    .... compiling source file dummy_auth.c\n",
            "rm -f dummy_auth.o\n",
            "gcc -c  -o dummy_auth.o -O2 -Wall -fPIC -O3 -march=x86-64 -mtune=generic   -DUSE_TERMCAP -DUSE_READLINE -DCWB_REGISTRY_DEFAULT_PATH=\\\"\"/usr/local/share/cwb/registry\"\\\" -DCOMPILE_DATE=\\\"\"Tue Apr 30 08:33:21 AM UTC 2024\"\\\" -DCWB_VERSION=\\\"3.5.0\\\" -I/usr/include/glib-2.0 -I/usr/lib/x86_64-linux-gnu/glib-2.0/include    dummy_auth.c\n",
            "    .... compiling source file llquery.c\n",
            "rm -f llquery.o\n",
            "gcc -c  -o llquery.o -O2 -Wall -fPIC -O3 -march=x86-64 -mtune=generic   -DUSE_TERMCAP -DUSE_READLINE -DCWB_REGISTRY_DEFAULT_PATH=\\\"\"/usr/local/share/cwb/registry\"\\\" -DCOMPILE_DATE=\\\"\"Tue Apr 30 08:33:21 AM UTC 2024\"\\\" -DCWB_VERSION=\\\"3.5.0\\\" -I/usr/include/glib-2.0 -I/usr/lib/x86_64-linux-gnu/glib-2.0/include    llquery.c\n",
            "    .... linking executable cqp\n",
            "rm -f cqp\n",
            "gcc -O2 -Wall -fPIC -O3 -march=x86-64 -mtune=generic   -DUSE_TERMCAP -DUSE_READLINE -DCWB_REGISTRY_DEFAULT_PATH=\\\"\"/usr/local/share/cwb/registry\"\\\" -DCOMPILE_DATE=\\\"\"Tue Apr 30 08:33:21 AM UTC 2024\"\\\" -DCWB_VERSION=\\\"3.5.0\\\" -I/usr/include/glib-2.0 -I/usr/lib/x86_64-linux-gnu/glib-2.0/include    -o cqp llquery.o cqp.o symtab.o eval.o tree.o options.o corpmanag.o regex2dfa.o output.o ranges.o builtins.o groups.o targets.o matchlist.o concordance.o parse_actions.o attlist.o context_descriptor.o print-modes.o ascii-print.o sgml-print.o html-print.o latex-print.o variables.o print_align.o macro.o parser.tab.o lex.yy.o dummy_auth.o /content/cwb-3.5.0-src/cqp/../cl/libcl.so -Xlinker -rpath -Xlinker /usr/local/lib  -lm   -lpcre -lglib-2.0  -lreadline -lhistory -lncurses -ltinfo\n",
            "    .... compiling source file cqpcl.c\n",
            "rm -f cqpcl.o\n",
            "gcc -c  -o cqpcl.o -O2 -Wall -fPIC -O3 -march=x86-64 -mtune=generic   -DUSE_TERMCAP -DUSE_READLINE -DCWB_REGISTRY_DEFAULT_PATH=\\\"\"/usr/local/share/cwb/registry\"\\\" -DCOMPILE_DATE=\\\"\"Tue Apr 30 08:33:21 AM UTC 2024\"\\\" -DCWB_VERSION=\\\"3.5.0\\\" -I/usr/include/glib-2.0 -I/usr/lib/x86_64-linux-gnu/glib-2.0/include    cqpcl.c\n",
            "    .... linking executable cqpcl\n",
            "rm -f cqpcl\n",
            "gcc -O2 -Wall -fPIC -O3 -march=x86-64 -mtune=generic   -DUSE_TERMCAP -DUSE_READLINE -DCWB_REGISTRY_DEFAULT_PATH=\\\"\"/usr/local/share/cwb/registry\"\\\" -DCOMPILE_DATE=\\\"\"Tue Apr 30 08:33:21 AM UTC 2024\"\\\" -DCWB_VERSION=\\\"3.5.0\\\" -I/usr/include/glib-2.0 -I/usr/lib/x86_64-linux-gnu/glib-2.0/include    -o cqpcl cqpcl.o cqp.o symtab.o eval.o tree.o options.o corpmanag.o regex2dfa.o output.o ranges.o builtins.o groups.o targets.o matchlist.o concordance.o parse_actions.o attlist.o context_descriptor.o print-modes.o ascii-print.o sgml-print.o html-print.o latex-print.o variables.o print_align.o macro.o parser.tab.o lex.yy.o dummy_auth.o /content/cwb-3.5.0-src/cqp/../cl/libcl.so -Xlinker -rpath -Xlinker /usr/local/lib  -lm   -lpcre -lglib-2.0  -lreadline -lhistory -lncurses -ltinfo\n",
            "    .... compiling source file ../CQi/server.c\n",
            "rm -f ../CQi/server.o\n",
            "gcc -c  -o ../CQi/server.o -O2 -Wall -fPIC -O3 -march=x86-64 -mtune=generic   -DUSE_TERMCAP -DUSE_READLINE -DCWB_REGISTRY_DEFAULT_PATH=\\\"\"/usr/local/share/cwb/registry\"\\\" -DCOMPILE_DATE=\\\"\"Tue Apr 30 08:33:21 AM UTC 2024\"\\\" -DCWB_VERSION=\\\"3.5.0\\\" -I/usr/include/glib-2.0 -I/usr/lib/x86_64-linux-gnu/glib-2.0/include    ../CQi/server.c\n",
            "    .... compiling source file ../CQi/auth.c\n",
            "rm -f ../CQi/auth.o\n",
            "gcc -c  -o ../CQi/auth.o -O2 -Wall -fPIC -O3 -march=x86-64 -mtune=generic   -DUSE_TERMCAP -DUSE_READLINE -DCWB_REGISTRY_DEFAULT_PATH=\\\"\"/usr/local/share/cwb/registry\"\\\" -DCOMPILE_DATE=\\\"\"Tue Apr 30 08:33:21 AM UTC 2024\"\\\" -DCWB_VERSION=\\\"3.5.0\\\" -I/usr/include/glib-2.0 -I/usr/lib/x86_64-linux-gnu/glib-2.0/include    ../CQi/auth.c\n",
            "    .... compiling source file ../CQi/log.c\n",
            "rm -f ../CQi/log.o\n",
            "gcc -c  -o ../CQi/log.o -O2 -Wall -fPIC -O3 -march=x86-64 -mtune=generic   -DUSE_TERMCAP -DUSE_READLINE -DCWB_REGISTRY_DEFAULT_PATH=\\\"\"/usr/local/share/cwb/registry\"\\\" -DCOMPILE_DATE=\\\"\"Tue Apr 30 08:33:21 AM UTC 2024\"\\\" -DCWB_VERSION=\\\"3.5.0\\\" -I/usr/include/glib-2.0 -I/usr/lib/x86_64-linux-gnu/glib-2.0/include    ../CQi/log.c\n",
            "    .... compiling source file ../CQi/cqpserver.c\n",
            "rm -f ../CQi/cqpserver.o\n",
            "gcc -c  -o ../CQi/cqpserver.o -O2 -Wall -fPIC -O3 -march=x86-64 -mtune=generic   -DUSE_TERMCAP -DUSE_READLINE -DCWB_REGISTRY_DEFAULT_PATH=\\\"\"/usr/local/share/cwb/registry\"\\\" -DCOMPILE_DATE=\\\"\"Tue Apr 30 08:33:22 AM UTC 2024\"\\\" -DCWB_VERSION=\\\"3.5.0\\\" -I/usr/include/glib-2.0 -I/usr/lib/x86_64-linux-gnu/glib-2.0/include    ../CQi/cqpserver.c\n",
            "    .... linking executable cqpserver\n",
            "rm -f cqpserver\n",
            "gcc -O2 -Wall -fPIC -O3 -march=x86-64 -mtune=generic   -DUSE_TERMCAP -DUSE_READLINE -DCWB_REGISTRY_DEFAULT_PATH=\\\"\"/usr/local/share/cwb/registry\"\\\" -DCOMPILE_DATE=\\\"\"Tue Apr 30 08:33:22 AM UTC 2024\"\\\" -DCWB_VERSION=\\\"3.5.0\\\" -I/usr/include/glib-2.0 -I/usr/lib/x86_64-linux-gnu/glib-2.0/include    -o cqpserver ../CQi/cqpserver.o cqp.o symtab.o eval.o tree.o options.o corpmanag.o regex2dfa.o output.o ranges.o builtins.o groups.o targets.o matchlist.o concordance.o parse_actions.o attlist.o context_descriptor.o print-modes.o ascii-print.o sgml-print.o html-print.o latex-print.o variables.o print_align.o macro.o parser.tab.o lex.yy.o ../CQi/server.o ../CQi/auth.o ../CQi/log.o /content/cwb-3.5.0-src/cqp/../cl/libcl.so -Xlinker -rpath -Xlinker /usr/local/lib  -lm   -lpcre -lglib-2.0  -lreadline -lhistory -lncurses -ltinfo \n",
            "make[1]: Leaving directory '/content/cwb-3.5.0-src/cqp'\n",
            "--------------------------------- INSTALLING CORPUS WORKBENCH\n",
            "make -C cl install   # we're not using a for-loop, to make sure we abort on error\n",
            "make[1]: Entering directory '/content/cwb-3.5.0-src/cl'\n",
            "    .... installing cwb/cl.h header file\n",
            "if [ ! -d \"/usr/local/include/cwb\" ]; then install   -m 755   -d \"/usr/local/include/cwb\" ; fi;\n",
            "install  -m 644  cl.h \"/usr/local/include/cwb\"\n",
            "    .... installing the static CL library file\n",
            "if [ ! -d \"/usr/local/lib\" ]; then install   -m 755   -d \"/usr/local/lib\" ; fi;\n",
            "install  -m 644  libcl.a \"/usr/local/lib\"\n",
            "    .... installing the dynamic CL library file\n",
            "if [ ! -d \"/usr/local/lib\" ]; then install   -m 755   -d \"/usr/local/lib\" ; fi;\n",
            "install  -m 644  libcl.so \"/usr/local/lib\"\n",
            "make[1]: Leaving directory '/content/cwb-3.5.0-src/cl'\n",
            "make -C cqp install\n",
            "make[1]: Entering directory '/content/cwb-3.5.0-src/cqp'\n",
            "    .... installing the CQP programs\n",
            "if [ ! -d /usr/local/bin ]; then install   -m 755   -d /usr/local/bin; fi;\n",
            "for i in cqp cqpcl cqpserver ; do install  -m 755   $i /usr/local/bin ; done\n",
            "    .... installing the CQi/cqi.h header file\n",
            "if [ ! -d \"/usr/local/include/cwb\" ]; then install   -m 755   -d \"/usr/local/include/cwb\" ; fi;\n",
            "install  -m 644  ../CQi/cqi.h /usr/local/include/cwb\n",
            "make[1]: Leaving directory '/content/cwb-3.5.0-src/cqp'\n",
            "make -C utils install\n",
            "make[1]: Entering directory '/content/cwb-3.5.0-src/utils'\n",
            "    .... install the CWB utility programs\n",
            "if [ ! -d \"/usr/local/bin\" ]; then install   -m 755   -d \"/usr/local/bin\"; fi;\n",
            "for i in cwb-atoi cwb-itoa cwb-makeall cwb-encode cwb-decode cwb-lexdecode cwb-huffcode cwb-compress-rdx cwb-s-encode cwb-s-decode cwb-describe-corpus cwb-decode-nqrfile cwb-scan-corpus cwb-align cwb-align-show cwb-align-encode cwb-align-decode ; do install  -m 755   $i \"/usr/local/bin\"; done\n",
            "make[1]: Leaving directory '/content/cwb-3.5.0-src/utils'\n",
            "make -C man install\n",
            "make[1]: Entering directory '/content/cwb-3.5.0-src/man'\n",
            "    .... installing all manual files\n",
            "if [ ! -d /usr/local/share/man/man1 ]; then  install   -m 755   -d /usr/local/share/man/man1; fi\n",
            "for i in cqp cqpcl cqpserver cwb-align cwb-align-show cwb-align-encode cwb-align-decode cwb-atoi cwb-itoa cwb-config cwb-encode cwb-decode cwb-lexdecode cwb-decode-nqrfile cwb-describe-corpus cwb-makeall cwb-compress-rdx cwb-huffcode cwb-s-encode cwb-s-decode cwb-scan-corpus; do install  -m 644  $i.man /usr/local/share/man/man1/$i.1 ; done\n",
            "make[1]: Leaving directory '/content/cwb-3.5.0-src/man'\n",
            "make -C instutils all\n",
            "make[1]: Entering directory '/content/cwb-3.5.0-src/instutils'\n",
            "if [ -f cwb-config ];      then rm -f cwb-config;      fi\n",
            "make cwb-config\n",
            "make[2]: Entering directory '/content/cwb-3.5.0-src/instutils'\n",
            "VERSION='3.5.0' PREFIX='/usr/local' BINDIR='/usr/local/bin' LIBDIR='/usr/local/lib' INCDIR='/usr/local/include' MANDIR='/usr/local/share/man' CFLAGS='-I/usr/local/include' LDFLAGS='-L/usr/local/lib -lcl  -lm   -lpcre -lglib-2.0 ' REGISTRY='/usr/local/share/cwb/registry' sh cwb-config.in > cwb-config\n",
            "## NB: we have removed -I/usr/include/glib-2.0 -I/usr/lib/x86_64-linux-gnu/glib-2.0/include from CFLAGS= above because Glib and PCRE headers shouldn't be needed to link against CL\n",
            "make[2]: Leaving directory '/content/cwb-3.5.0-src/instutils'\n",
            "make[1]: Leaving directory '/content/cwb-3.5.0-src/instutils'\n",
            "make -C instutils install\n",
            "make[1]: Entering directory '/content/cwb-3.5.0-src/instutils'\n",
            "if [ ! -d /usr/local/bin ]; then install   -m 755   -d \"/usr/local/bin\"; fi\n",
            "install  -m 755   cwb-config \"/usr/local/bin/cwb-config\"\n",
            "make[1]: Leaving directory '/content/cwb-3.5.0-src/instutils'\n",
            "--------------------------------- PERFORMING TYPICAL CLEANUP\n",
            "for i in cl cqp utils man instutils     ; do if [ -f \"$i/Makefile\" ]; then make -C $i clean; fi; done;\n",
            "make[1]: Entering directory '/content/cwb-3.5.0-src/cl'\n",
            "    .... cleanup compiled CL library code\n",
            "rm -f *.o libcl.a registry.output *~ libcl.so\n",
            "make[1]: Leaving directory '/content/cwb-3.5.0-src/cl'\n",
            "make[1]: Entering directory '/content/cwb-3.5.0-src/cqp'\n",
            "    .... cleaning up CQP programs\n",
            "rm -f cqp cqpcl cqpserver  *.o ../CQi/*.o parser.output *~ ../CQi/*~\n",
            "# TODO what is \"parser.output\" ? PARSES, PARSEH, PARSEO I think ....\n",
            "make[1]: Leaving directory '/content/cwb-3.5.0-src/cqp'\n",
            "make[1]: Entering directory '/content/cwb-3.5.0-src/utils'\n",
            "    .... cleanup CWB utility programs\n",
            "rm -f cwb-atoi cwb-itoa cwb-makeall cwb-encode cwb-decode cwb-lexdecode cwb-huffcode cwb-compress-rdx cwb-s-encode cwb-s-decode cwb-describe-corpus cwb-decode-nqrfile cwb-scan-corpus cwb-align cwb-align-show cwb-align-encode cwb-align-decode  *.o *~\n",
            "make[1]: Leaving directory '/content/cwb-3.5.0-src/utils'\n",
            "make[1]: Entering directory '/content/cwb-3.5.0-src/man'\n",
            "    .... cleaning up PDF files\n",
            "rm -f cqp.pdf cqpcl.pdf cqpserver.pdf cwb-align.pdf cwb-align-show.pdf cwb-align-encode.pdf cwb-align-decode.pdf cwb-atoi.pdf cwb-itoa.pdf cwb-config.pdf cwb-encode.pdf cwb-decode.pdf cwb-lexdecode.pdf cwb-decode-nqrfile.pdf cwb-describe-corpus.pdf cwb-makeall.pdf cwb-compress-rdx.pdf cwb-huffcode.pdf cwb-s-encode.pdf cwb-s-decode.pdf cwb-scan-corpus.pdf *~\n",
            "make[1]: Leaving directory '/content/cwb-3.5.0-src/man'\n",
            "make[1]: Entering directory '/content/cwb-3.5.0-src/instutils'\n",
            "rm -f cwb-config install-cwb.sh *~\n",
            "make[1]: Leaving directory '/content/cwb-3.5.0-src/instutils'\n",
            "rm -f *~ config/*/*~ CQi/*~ CQi/*.o technical/*~ TAGS\n",
            "rm -f -rf build/* doc/docset_html\n",
            "--------------------------------- PERFORMING EXTRA CLEANUP\n",
            "for i in cl cqp utils man instutils     ; do make -C $i realclean; done;\n",
            "make[1]: Entering directory '/content/cwb-3.5.0-src/cl'\n",
            "    .... cleanup compiled CL library code\n",
            "rm -f *.o libcl.a registry.output *~ libcl.so\n",
            "    .... cleanup CL registry parser's automatic files\n",
            "rm -f registry.tab.c registry.tab.c lex.creg.c registry.tab.h\n",
            "rm -f depend.mk\n",
            "make[1]: Leaving directory '/content/cwb-3.5.0-src/cl'\n",
            "make[1]: Entering directory '/content/cwb-3.5.0-src/cqp'\n",
            "    .... cleaning up CQP programs\n",
            "rm -f cqp cqpcl cqpserver  *.o ../CQi/*.o parser.output *~ ../CQi/*~\n",
            "# TODO what is \"parser.output\" ? PARSES, PARSEH, PARSEO I think ....\n",
            "    .... cleaning up CQP parser code\n",
            "rm -f lex.yy.c parser.tab.c parser.tab.h \n",
            "rm -f depend.mk\n",
            "make[1]: Leaving directory '/content/cwb-3.5.0-src/cqp'\n",
            "make[1]: Entering directory '/content/cwb-3.5.0-src/utils'\n",
            "    .... cleanup CWB utility programs\n",
            "rm -f cwb-atoi cwb-itoa cwb-makeall cwb-encode cwb-decode cwb-lexdecode cwb-huffcode cwb-compress-rdx cwb-s-encode cwb-s-decode cwb-describe-corpus cwb-decode-nqrfile cwb-scan-corpus cwb-align cwb-align-show cwb-align-encode cwb-align-decode  *.o *~\n",
            "    .... cleanup CWB utilities dependency file\n",
            "rm -f depend.mk\n",
            "make[1]: Leaving directory '/content/cwb-3.5.0-src/utils'\n",
            "make[1]: Entering directory '/content/cwb-3.5.0-src/man'\n",
            "    .... cleaning up all manual files\n",
            "rm -f cqp.pdf cqpcl.pdf cqpserver.pdf cwb-align.pdf cwb-align-show.pdf cwb-align-encode.pdf cwb-align-decode.pdf cwb-atoi.pdf cwb-itoa.pdf cwb-config.pdf cwb-encode.pdf cwb-decode.pdf cwb-lexdecode.pdf cwb-decode-nqrfile.pdf cwb-describe-corpus.pdf cwb-makeall.pdf cwb-compress-rdx.pdf cwb-huffcode.pdf cwb-s-encode.pdf cwb-s-decode.pdf cwb-scan-corpus.pdf cqp.man cqpcl.man cqpserver.man cwb-align.man cwb-align-show.man cwb-align-encode.man cwb-align-decode.man cwb-atoi.man cwb-itoa.man cwb-config.man cwb-encode.man cwb-decode.man cwb-lexdecode.man cwb-decode-nqrfile.man cwb-describe-corpus.man cwb-makeall.man cwb-compress-rdx.man cwb-huffcode.man cwb-s-encode.man cwb-s-decode.man cwb-scan-corpus.man *~\n",
            "make[1]: Leaving directory '/content/cwb-3.5.0-src/man'\n",
            "make[1]: Entering directory '/content/cwb-3.5.0-src/instutils'\n",
            "rm -f cwb-config install-cwb.sh *~\n",
            "make[1]: Leaving directory '/content/cwb-3.5.0-src/instutils'\n"
          ]
        }
      ]
    },
    {
      "cell_type": "code",
      "source": [
        "%cd /content/"
      ],
      "metadata": {
        "id": "CVuSe3hQ_BDj",
        "colab": {
          "base_uri": "https://localhost:8080/"
        },
        "outputId": "65d2e826-0380-4ab2-d11b-7ddb0b676b6f"
      },
      "execution_count": 8,
      "outputs": [
        {
          "output_type": "stream",
          "name": "stdout",
          "text": [
            "/content\n"
          ]
        }
      ]
    },
    {
      "cell_type": "markdown",
      "source": [
        "### Downloading and relocating the register of a sample corpus\n",
        "The register is placed into the standard cwb location"
      ],
      "metadata": {
        "id": "rNjdhnI0By8g"
      }
    },
    {
      "cell_type": "code",
      "source": [
        "!wget https://heibox.uni-heidelberg.de/f/dd3538603aa84dd09a76/?dl=1\n",
        "!mv index.html?dl=1 Dickens-1.0.tar.gz\n",
        "!tar xvzf Dickens-1.0.tar.gz"
      ],
      "metadata": {
        "id": "oGgO8XnS8mp1",
        "colab": {
          "base_uri": "https://localhost:8080/"
        },
        "outputId": "e201c303-a9de-4cc5-db65-0cb0397d43bd"
      },
      "execution_count": 9,
      "outputs": [
        {
          "output_type": "stream",
          "name": "stdout",
          "text": [
            "--2024-04-30 08:33:34--  https://heibox.uni-heidelberg.de/f/dd3538603aa84dd09a76/?dl=1\n",
            "Resolving heibox.uni-heidelberg.de (heibox.uni-heidelberg.de)... 129.206.7.113\n",
            "Connecting to heibox.uni-heidelberg.de (heibox.uni-heidelberg.de)|129.206.7.113|:443... connected.\n",
            "HTTP request sent, awaiting response... 302 Found\n",
            "Location: https://heibox.uni-heidelberg.de/seafhttp/files/737d9500-af79-4c7a-88a8-ef77ac4c093e/Dickens-1.0.tar.gz [following]\n",
            "--2024-04-30 08:33:35--  https://heibox.uni-heidelberg.de/seafhttp/files/737d9500-af79-4c7a-88a8-ef77ac4c093e/Dickens-1.0.tar.gz\n",
            "Reusing existing connection to heibox.uni-heidelberg.de:443.\n",
            "HTTP request sent, awaiting response... 200 OK\n",
            "Length: 38979131 (37M) [application/octet-stream]\n",
            "Saving to: ‘index.html?dl=1’\n",
            "\n",
            "index.html?dl=1     100%[===================>]  37.17M  17.0MB/s    in 2.2s    \n",
            "\n",
            "2024-04-30 08:33:37 (17.0 MB/s) - ‘index.html?dl=1’ saved [38979131/38979131]\n",
            "\n",
            "Dickens-1.0/\n",
            "Dickens-1.0/data/\n",
            "Dickens-1.0/dickens_meta.txt\n",
            "Dickens-1.0/README.txt\n",
            "Dickens-1.0/registry/\n",
            "Dickens-1.0/registry/dickens\n",
            "Dickens-1.0/data/.info\n",
            "Dickens-1.0/data/book.rng\n",
            "Dickens-1.0/data/book_num.avs\n",
            "Dickens-1.0/data/book_num.avx\n",
            "Dickens-1.0/data/book_num.rng\n",
            "Dickens-1.0/data/chapter.rng\n",
            "Dickens-1.0/data/chapter_num.avs\n",
            "Dickens-1.0/data/chapter_num.avx\n",
            "Dickens-1.0/data/chapter_num.rng\n",
            "Dickens-1.0/data/chapter_title.avs\n",
            "Dickens-1.0/data/chapter_title.avx\n",
            "Dickens-1.0/data/chapter_title.rng\n",
            "Dickens-1.0/data/lemma.corpus.cnt\n",
            "Dickens-1.0/data/lemma.crc\n",
            "Dickens-1.0/data/lemma.crx\n",
            "Dickens-1.0/data/lemma.hcd\n",
            "Dickens-1.0/data/lemma.huf\n",
            "Dickens-1.0/data/lemma.huf.syn\n",
            "Dickens-1.0/data/lemma.lexicon\n",
            "Dickens-1.0/data/lemma.lexicon.idx\n",
            "Dickens-1.0/data/lemma.lexicon.srt\n",
            "Dickens-1.0/data/novel.rng\n",
            "Dickens-1.0/data/novel_title.avs\n",
            "Dickens-1.0/data/novel_title.avx\n",
            "Dickens-1.0/data/novel_title.rng\n",
            "Dickens-1.0/data/np.rng\n",
            "Dickens-1.0/data/np1.rng\n",
            "Dickens-1.0/data/np2.rng\n",
            "Dickens-1.0/data/np_h.avs\n",
            "Dickens-1.0/data/np_h.avx\n",
            "Dickens-1.0/data/np_h.rng\n",
            "Dickens-1.0/data/np_h1.avs\n",
            "Dickens-1.0/data/np_h1.avx\n",
            "Dickens-1.0/data/np_h1.rng\n",
            "Dickens-1.0/data/np_h2.avs\n",
            "Dickens-1.0/data/np_h2.avx\n",
            "Dickens-1.0/data/np_h2.rng\n",
            "Dickens-1.0/data/np_len.avs\n",
            "Dickens-1.0/data/np_len.avx\n",
            "Dickens-1.0/data/np_len.rng\n",
            "Dickens-1.0/data/np_len1.avs\n",
            "Dickens-1.0/data/np_len1.avx\n",
            "Dickens-1.0/data/np_len1.rng\n",
            "Dickens-1.0/data/np_len2.avs\n",
            "Dickens-1.0/data/np_len2.avx\n",
            "Dickens-1.0/data/np_len2.rng\n",
            "Dickens-1.0/data/p.rng\n",
            "Dickens-1.0/data/p_len.avs\n",
            "Dickens-1.0/data/p_len.avx\n",
            "Dickens-1.0/data/p_len.rng\n",
            "Dickens-1.0/data/pos.corpus.cnt\n",
            "Dickens-1.0/data/pos.crc\n",
            "Dickens-1.0/data/pos.crx\n",
            "Dickens-1.0/data/pos.hcd\n",
            "Dickens-1.0/data/pos.huf\n",
            "Dickens-1.0/data/pos.huf.syn\n",
            "Dickens-1.0/data/pos.lexicon\n",
            "Dickens-1.0/data/pos.lexicon.idx\n",
            "Dickens-1.0/data/pos.lexicon.srt\n",
            "Dickens-1.0/data/pp.rng\n",
            "Dickens-1.0/data/pp1.rng\n",
            "Dickens-1.0/data/pp2.rng\n",
            "Dickens-1.0/data/pp_h.avs\n",
            "Dickens-1.0/data/pp_h.avx\n",
            "Dickens-1.0/data/pp_h.rng\n",
            "Dickens-1.0/data/pp_h1.avs\n",
            "Dickens-1.0/data/pp_h1.avx\n",
            "Dickens-1.0/data/pp_h1.rng\n",
            "Dickens-1.0/data/pp_h2.avs\n",
            "Dickens-1.0/data/pp_h2.avx\n",
            "Dickens-1.0/data/pp_h2.rng\n",
            "Dickens-1.0/data/pp_len.avs\n",
            "Dickens-1.0/data/pp_len.avx\n",
            "Dickens-1.0/data/pp_len.rng\n",
            "Dickens-1.0/data/pp_len1.avs\n",
            "Dickens-1.0/data/pp_len1.avx\n",
            "Dickens-1.0/data/pp_len1.rng\n",
            "Dickens-1.0/data/pp_len2.avs\n",
            "Dickens-1.0/data/pp_len2.avx\n",
            "Dickens-1.0/data/pp_len2.rng\n",
            "Dickens-1.0/data/s.rng\n",
            "Dickens-1.0/data/s_len.avs\n",
            "Dickens-1.0/data/s_len.avx\n",
            "Dickens-1.0/data/s_len.rng\n",
            "Dickens-1.0/data/text.rng\n",
            "Dickens-1.0/data/text_id.avs\n",
            "Dickens-1.0/data/text_id.avx\n",
            "Dickens-1.0/data/text_id.rng\n",
            "Dickens-1.0/data/title.rng\n",
            "Dickens-1.0/data/title_len.avs\n",
            "Dickens-1.0/data/title_len.avx\n",
            "Dickens-1.0/data/title_len.rng\n",
            "Dickens-1.0/data/titlepage.rng\n",
            "Dickens-1.0/data/word.corpus.cnt\n",
            "Dickens-1.0/data/word.crc\n",
            "Dickens-1.0/data/word.crx\n",
            "Dickens-1.0/data/word.hcd\n",
            "Dickens-1.0/data/word.huf\n",
            "Dickens-1.0/data/word.huf.syn\n",
            "Dickens-1.0/data/word.lexicon\n",
            "Dickens-1.0/data/word.lexicon.idx\n",
            "Dickens-1.0/data/word.lexicon.srt\n"
          ]
        }
      ]
    },
    {
      "cell_type": "code",
      "source": [
        "!cp /content/Dickens-1.0/registry/dickens /content/Dickens-1.0/registry/dickens.old.01\n",
        "!awk '{ if (NR == 10) print \"HOME /content/Dickens-1.0/data\"; else print $0}' /content/Dickens-1.0/registry/dickens > /content/Dickens-1.0/registry/dickens.TMP\n",
        "!awk '{ if (NR == 12) print \"INFO /content/Dickens-1.0/data/.info\"; else print $0}' /content/Dickens-1.0/registry/dickens.TMP > /content/Dickens-1.0/registry/dickens"
      ],
      "metadata": {
        "id": "0UkrOMJw8ubE"
      },
      "execution_count": 10,
      "outputs": []
    },
    {
      "cell_type": "code",
      "source": [
        "!cp /content/Dickens-1.0/data/.info /content/dickens-info"
      ],
      "metadata": {
        "id": "OwdWNFGS5IaY"
      },
      "execution_count": 11,
      "outputs": []
    },
    {
      "cell_type": "code",
      "source": [
        "!cp /content/Dickens-1.0/registry/dickens /usr/local/share/cwb/registry"
      ],
      "metadata": {
        "id": "1zXK1Z9v8zob"
      },
      "execution_count": 12,
      "outputs": []
    },
    {
      "cell_type": "markdown",
      "source": [
        "### Updating path (only needed if installing into a non-standard location\n"
      ],
      "metadata": {
        "id": "6RlHVMGcCJFk"
      }
    },
    {
      "cell_type": "code",
      "source": [
        "# !echo $PATH"
      ],
      "metadata": {
        "id": "Zlu6uAee9eJ1"
      },
      "execution_count": null,
      "outputs": []
    },
    {
      "cell_type": "code",
      "source": [
        "# %env PATH=/usr/local/cwb-3.4.22/bin:/usr/local/nvidia/bin:/usr/local/cuda/bin:/usr/local/sbin:/usr/local/bin:/usr/sbin:/usr/bin:/sbin:/bin:/tools/node/bin:/tools/google-cloud-sdk/bin:/opt/bin"
      ],
      "metadata": {
        "id": "nsUAyqA79-PO"
      },
      "execution_count": null,
      "outputs": []
    },
    {
      "cell_type": "code",
      "source": [
        "# !echo $PATH"
      ],
      "metadata": {
        "id": "XwVe-fIX_BCO"
      },
      "execution_count": 13,
      "outputs": []
    },
    {
      "cell_type": "code",
      "source": [
        "# %env PATH=/usr/local/nvidia/bin:/usr/local/cuda/bin:/usr/local/sbin:/usr/local/bin:/usr/sbin:/usr/bin:/sbin:/bin:/tools/node/bin:/tools/google-cloud-sdk/bin:/opt/bin"
      ],
      "metadata": {
        "id": "6TBYYIgvkcVc"
      },
      "execution_count": null,
      "outputs": []
    },
    {
      "cell_type": "code",
      "source": [
        "!pwd"
      ],
      "metadata": {
        "id": "-SegqQOf_a4H",
        "colab": {
          "base_uri": "https://localhost:8080/"
        },
        "outputId": "3e3148f4-8b6b-490e-b9a0-711b65fcf81e"
      },
      "execution_count": 14,
      "outputs": [
        {
          "output_type": "stream",
          "name": "stdout",
          "text": [
            "/content\n"
          ]
        }
      ]
    },
    {
      "cell_type": "markdown",
      "source": [
        "### Testing interactive Corpus Query Processor (CQP)\n"
      ],
      "metadata": {
        "id": "E4GIzdN_Di-v"
      }
    },
    {
      "cell_type": "code",
      "source": [
        "# try these commands in the interactive prompt (just copy and paste them):\n",
        "# DICKENS;\n",
        "# \"question\";\n",
        "# q\n",
        "# exit;\n",
        "!cqp -e"
      ],
      "metadata": {
        "id": "OmUjHSSfz41T",
        "colab": {
          "base_uri": "https://localhost:8080/"
        },
        "outputId": "9932d585-3887-403f-866a-2376d7bfe8f1"
      },
      "execution_count": 15,
      "outputs": [
        {
          "output_type": "stream",
          "name": "stdout",
          "text": [
            "\u001b[m\u001b[?2004h[no corpus]> DICKENS;\n",
            "\u001b[m\u001b[?2004hDICKENS> \"question\";\n",
            "     5614:  then . Scrooge asked the <\u001b[m\u001b[7mquestion\u001b[m> , because he did n't know\u001b[m\u001b[m\n",
            "    24336: r a bear . At every fresh <\u001b[m\u001b[7mquestion\u001b[m> that was put to him , thi\u001b[m\u001b[m\n",
            "    28174: nny , and made it an open <\u001b[m\u001b[7mquestion\u001b[m> , I 'd repent of being so\u001b[m\u001b[m\n",
            "    31729: Scrooge , ` answer me one <\u001b[m\u001b[7mquestion\u001b[m> . Are these the shadows o\u001b[m\u001b[m\n",
            "    36008:  the second branch of the <\u001b[m\u001b[7mquestion\u001b[m> , I will only remark , th\u001b[m\u001b[m\n",
            "    36769: ving once , on a disputed <\u001b[m\u001b[7mquestion\u001b[m> of supplies , made some h\u001b[m\u001b[m\n",
            "    39206: ched - and so I asked the <\u001b[m\u001b[7mquestion\u001b[m> . You were an orphan , we\u001b[m\u001b[m\n",
            "    51121: , then ? said I , putting <\u001b[m\u001b[7mquestion\u001b[m> number two of the catechi\u001b[m\u001b[m\n",
            "    53098: n I have asked myself the <\u001b[m\u001b[7mquestion\u001b[m> , would it have been bett\u001b[m\u001b[m\n",
            "    57633: . But if he had asked the <\u001b[m\u001b[7mquestion\u001b[m> twenty times , each time \u001b[m\u001b[m\n",
            "    79051:  ? Did it bite ? At every <\u001b[m\u001b[7mquestion\u001b[m> he gave me a fleshy cut w\u001b[m\u001b[m\n",
            "    80966:  was of course out of the <\u001b[m\u001b[7mquestion\u001b[m> . In the morning , too , \u001b[m\u001b[m\n",
            "    83429: s ? Steerforth evaded the <\u001b[m\u001b[7mquestion\u001b[m> for a little while ; look\u001b[m\u001b[m\n",
            "    93809: ssionate judges of such a <\u001b[m\u001b[7mquestion\u001b[m> than you . ' Edward , ' r\u001b[m\u001b[m\n",
            "    97211:  sorrowful to discuss the <\u001b[m\u001b[7mquestion\u001b[m> , which would possibly ha\u001b[m\u001b[m\n",
            "   119570:  opportunity of putting a <\u001b[m\u001b[7mquestion\u001b[m> in which I had a near int\u001b[m\u001b[m\n",
            "   128775:  ; though I had asked the <\u001b[m\u001b[7mquestion\u001b[m> so often , that it almost\u001b[m\u001b[m\n",
            "   130829: vid Copperfield , and the <\u001b[m\u001b[7mquestion\u001b[m> I put to you is , what sh\u001b[m\u001b[m\n",
            "   133561:  going to ask you another <\u001b[m\u001b[7mquestion\u001b[m> . Look at this child . ' \u001b[m\u001b[m\n",
            "   135368: o give my opinion on this <\u001b[m\u001b[7mquestion\u001b[m> , I delivered my message \u001b[m\u001b[m\n",
            "   135996: endeavouring to evade the <\u001b[m\u001b[7mquestion\u001b[m> , by replying that I thou\u001b[m\u001b[m\n",
            "   137203: hem , chiefly because the <\u001b[m\u001b[7mquestion\u001b[m> was raised in her own min\u001b[m\u001b[m\n",
            "   144319: Mr. Wickfield - ' the old <\u001b[m\u001b[7mquestion\u001b[m> , you know . What 's your\u001b[m\u001b[m\n",
            "\u001b[K\u001b[?1l\u001b>\u001b[m\u001b[?2004hDICKENS> \n",
            "\u001b[m\u001b[?2004hDICKENS> exit;\n",
            "\u001b[?2004l\n",
            "Done. Share and enjoy!\n"
          ]
        }
      ]
    },
    {
      "cell_type": "code",
      "source": [
        "!cwb-describe-corpus -h"
      ],
      "metadata": {
        "id": "Wbbdaxst_020",
        "colab": {
          "base_uri": "https://localhost:8080/"
        },
        "outputId": "331b4e58-7b7f-40d9-e39d-38946992aa46"
      },
      "execution_count": 16,
      "outputs": [
        {
          "output_type": "stream",
          "name": "stdout",
          "text": [
            "\n",
            "Usage:  cwb-describe-corpus [flags] <corpus> [<corpus> ...] \n",
            "Options:\n",
            "  -r <dir>  use registry directory <dir>\n",
            "  -s        show statistics (attribute & lexicon size)\n",
            "  -d        show details (about component files)\n",
            "  -h        this help page\n",
            "Part of the IMS Open Corpus Workbench v3.5.0\n",
            "\n"
          ]
        }
      ]
    },
    {
      "cell_type": "code",
      "source": [
        "!cwb-describe-corpus -s dickens"
      ],
      "metadata": {
        "id": "iCmNuT3A0XPn",
        "colab": {
          "base_uri": "https://localhost:8080/"
        },
        "outputId": "928bb0b4-6618-4624-c453-3e689159340a"
      },
      "execution_count": 17,
      "outputs": [
        {
          "output_type": "stream",
          "name": "stdout",
          "text": [
            "\n",
            "============================================================\n",
            "Corpus: dickens\n",
            "============================================================\n",
            "\n",
            "description:    IMS Corpus Workbench Demo Corpus v1.0 (novels by Charles Dickens)\n",
            "registry file:  /usr/local/share/cwb/registry/dickens\n",
            "home directory: /content/Dickens-1.0/data/\n",
            "info file:      /content/Dickens-1.0/data/.info\n",
            "encoding:       latin1\n",
            "size (tokens):  3407085\n",
            "\n",
            "  3 positional attributes\n",
            " 34 structural attributes\n",
            "  0 alignment  attributes\n",
            "\n",
            "p-ATT word                3407085 tokens,    57568 types\n",
            "p-ATT pos                 3407085 tokens,       43 types\n",
            "p-ATT lemma               3407085 tokens,    41222 types\n",
            "s-ATT text                     14 regions\n",
            "s-ATT text_id                  14 regions (with annotations)\n",
            "s-ATT novel                    14 regions\n",
            "s-ATT novel_title              14 regions (with annotations)\n",
            "s-ATT titlepage                14 regions\n",
            "s-ATT book                     17 regions\n",
            "s-ATT book_num                 17 regions (with annotations)\n",
            "s-ATT chapter                 696 regions\n",
            "s-ATT chapter_num             696 regions (with annotations)\n",
            "s-ATT chapter_title           696 regions (with annotations)\n",
            "s-ATT title                   733 regions\n",
            "s-ATT title_len               733 regions (with annotations)\n",
            "s-ATT p                     61177 regions\n",
            "s-ATT p_len                 61177 regions (with annotations)\n",
            "s-ATT s                    152455 regions\n",
            "s-ATT s_len                152455 regions (with annotations)\n",
            "s-ATT np                   419363 regions\n",
            "s-ATT np1                   90915 regions\n",
            "s-ATT np2                   25640 regions\n",
            "s-ATT np_h                 419363 regions (with annotations)\n",
            "s-ATT np_h1                 90915 regions (with annotations)\n",
            "s-ATT np_h2                 25640 regions (with annotations)\n",
            "s-ATT np_len               419363 regions (with annotations)\n",
            "s-ATT np_len1               90915 regions (with annotations)\n",
            "s-ATT np_len2               25640 regions (with annotations)\n",
            "s-ATT pp                   116608 regions\n",
            "s-ATT pp1                   38889 regions\n",
            "s-ATT pp2                    9000 regions\n",
            "s-ATT pp_h                 116608 regions (with annotations)\n",
            "s-ATT pp_h1                 38889 regions (with annotations)\n",
            "s-ATT pp_h2                  9000 regions (with annotations)\n",
            "s-ATT pp_len               116608 regions (with annotations)\n",
            "s-ATT pp_len1               38889 regions (with annotations)\n",
            "s-ATT pp_len2                9000 regions (with annotations)\n",
            "\n"
          ]
        }
      ]
    },
    {
      "cell_type": "code",
      "source": [
        "# !cwb-describe-corpus -s -r registry dickens"
      ],
      "metadata": {
        "id": "L27_yMizBI_k",
        "colab": {
          "base_uri": "https://localhost:8080/"
        },
        "outputId": "551157a0-0610-46f9-d9fe-055c126d602a"
      },
      "execution_count": null,
      "outputs": [
        {
          "output_type": "stream",
          "name": "stdout",
          "text": [
            "cl_new_corpus: can't locate <dickens> in registry\n",
            "ERROR. Can't access corpus dickens !\n"
          ]
        }
      ]
    },
    {
      "cell_type": "code",
      "source": [
        "%cd /content/"
      ],
      "metadata": {
        "id": "HGZpuvwZFLVf",
        "colab": {
          "base_uri": "https://localhost:8080/"
        },
        "outputId": "01d10060-1199-4ab8-8ad5-0d5c59023f5c"
      },
      "execution_count": null,
      "outputs": [
        {
          "output_type": "stream",
          "name": "stdout",
          "text": [
            "/content\n"
          ]
        }
      ]
    },
    {
      "cell_type": "markdown",
      "source": [
        "## Installing python interface to CWB\n",
        "cwb-ccc"
      ],
      "metadata": {
        "id": "f6nQadtzEgp8"
      }
    },
    {
      "cell_type": "code",
      "source": [
        "# !python -m pip install cwb-ccc\n",
        "!python -m pip install cwb-ccc"
      ],
      "metadata": {
        "id": "56JFOM66E1Kt",
        "colab": {
          "base_uri": "https://localhost:8080/"
        },
        "outputId": "19e371d7-d446-4b2f-8b28-10e2409bd186"
      },
      "execution_count": null,
      "outputs": [
        {
          "output_type": "stream",
          "name": "stdout",
          "text": [
            "Requirement already satisfied: cwb-ccc in /usr/local/lib/python3.10/dist-packages (0.12.1)\n",
            "Requirement already satisfied: wheel<0.42,>=0.41.1 in /usr/local/lib/python3.10/dist-packages (from cwb-ccc) (0.41.3)\n",
            "Requirement already satisfied: association-measures<0.3,>=0.2.6 in /usr/local/lib/python3.10/dist-packages (from cwb-ccc) (0.2.7)\n",
            "Collecting pandas<2.0,>=1.3.5 (from cwb-ccc)\n",
            "  Using cached pandas-1.5.3-cp310-cp310-manylinux_2_17_x86_64.manylinux2014_x86_64.whl (12.1 MB)\n",
            "Requirement already satisfied: numexpr<3.0,>=2.8.5 in /usr/local/lib/python3.10/dist-packages (from cwb-ccc) (2.10.0)\n",
            "Requirement already satisfied: Bottleneck<2.0,>=1.3.7 in /usr/local/lib/python3.10/dist-packages (from cwb-ccc) (1.3.8)\n",
            "Requirement already satisfied: unidecode<2.0,>=1.3.6 in /usr/local/lib/python3.10/dist-packages (from cwb-ccc) (1.3.8)\n",
            "Requirement already satisfied: pyyaml<7.0,>=6.0.1 in /usr/local/lib/python3.10/dist-packages (from cwb-ccc) (6.0.1)\n",
            "Requirement already satisfied: scipy in /usr/local/lib/python3.10/dist-packages (from association-measures<0.3,>=0.2.6->cwb-ccc) (1.11.4)\n",
            "Requirement already satisfied: numpy in /usr/local/lib/python3.10/dist-packages (from Bottleneck<2.0,>=1.3.7->cwb-ccc) (1.25.2)\n",
            "Requirement already satisfied: python-dateutil>=2.8.1 in /usr/local/lib/python3.10/dist-packages (from pandas<2.0,>=1.3.5->cwb-ccc) (2.8.2)\n",
            "Requirement already satisfied: pytz>=2020.1 in /usr/local/lib/python3.10/dist-packages (from pandas<2.0,>=1.3.5->cwb-ccc) (2023.4)\n",
            "Requirement already satisfied: six>=1.5 in /usr/local/lib/python3.10/dist-packages (from python-dateutil>=2.8.1->pandas<2.0,>=1.3.5->cwb-ccc) (1.16.0)\n",
            "Installing collected packages: pandas\n",
            "  Attempting uninstall: pandas\n",
            "    Found existing installation: pandas 1.1.5\n",
            "    Uninstalling pandas-1.1.5:\n",
            "      Successfully uninstalled pandas-1.1.5\n",
            "\u001b[31mERROR: pip's dependency resolver does not currently take into account all the packages that are installed. This behaviour is the source of the following dependency conflicts.\n",
            "google-colab 1.0.0 requires pandas==2.0.3, but you have pandas 1.5.3 which is incompatible.\u001b[0m\u001b[31m\n",
            "\u001b[0mSuccessfully installed pandas-1.5.3\n"
          ]
        }
      ]
    },
    {
      "cell_type": "code",
      "source": [
        "!mkdir cwb-ccc-src"
      ],
      "metadata": {
        "id": "gIFIz3dLJWxN"
      },
      "execution_count": 19,
      "outputs": []
    },
    {
      "cell_type": "code",
      "source": [
        "%cd cwb-ccc-src/"
      ],
      "metadata": {
        "id": "AXheeCh3JsYF",
        "outputId": "353c4065-7e1d-489c-8b6e-938ca1871907",
        "colab": {
          "base_uri": "https://localhost:8080/"
        }
      },
      "execution_count": 20,
      "outputs": [
        {
          "output_type": "stream",
          "name": "stdout",
          "text": [
            "/content/cwb-ccc-src\n"
          ]
        }
      ]
    },
    {
      "cell_type": "code",
      "source": [
        "!pwd"
      ],
      "metadata": {
        "id": "vHn9D-blJyoF",
        "outputId": "ec86fe36-a4bc-40fe-aa03-c98befbe4467",
        "colab": {
          "base_uri": "https://localhost:8080/"
        }
      },
      "execution_count": 21,
      "outputs": [
        {
          "output_type": "stream",
          "name": "stdout",
          "text": [
            "/content/cwb-ccc-src\n"
          ]
        }
      ]
    },
    {
      "cell_type": "code",
      "source": [
        "!git clone https://github.com/ausgerechnet/cwb-ccc"
      ],
      "metadata": {
        "id": "h5_tQoqFJ48M",
        "outputId": "917a07d4-eeed-45e4-f229-fdb1061b76f0",
        "colab": {
          "base_uri": "https://localhost:8080/"
        }
      },
      "execution_count": 22,
      "outputs": [
        {
          "output_type": "stream",
          "name": "stdout",
          "text": [
            "Cloning into 'cwb-ccc'...\n",
            "remote: Enumerating objects: 3349, done.\u001b[K\n",
            "remote: Counting objects: 100% (1103/1103), done.\u001b[K\n",
            "remote: Compressing objects: 100% (360/360), done.\u001b[K\n",
            "remote: Total 3349 (delta 786), reused 1029 (delta 723), pack-reused 2246\u001b[K\n",
            "Receiving objects: 100% (3349/3349), 4.35 MiB | 15.79 MiB/s, done.\n",
            "Resolving deltas: 100% (2253/2253), done.\n"
          ]
        }
      ]
    },
    {
      "cell_type": "code",
      "source": [
        "%cd cwb-ccc/"
      ],
      "metadata": {
        "id": "HNcr9GHcKGEE",
        "outputId": "584784a3-5c46-4a47-916f-2d7f1d369d7d",
        "colab": {
          "base_uri": "https://localhost:8080/"
        }
      },
      "execution_count": 23,
      "outputs": [
        {
          "output_type": "stream",
          "name": "stdout",
          "text": [
            "/content/cwb-ccc-src/cwb-ccc\n"
          ]
        }
      ]
    },
    {
      "cell_type": "code",
      "source": [
        "!python -m pip install pipenv"
      ],
      "metadata": {
        "id": "uQYSvBxZKLi9",
        "outputId": "b9db23f6-307b-47b7-953e-d4aa3b677058",
        "colab": {
          "base_uri": "https://localhost:8080/"
        }
      },
      "execution_count": 24,
      "outputs": [
        {
          "output_type": "stream",
          "name": "stdout",
          "text": [
            "Collecting pipenv\n",
            "  Downloading pipenv-2023.12.1-py3-none-any.whl (3.1 MB)\n",
            "\u001b[2K     \u001b[90m━━━━━━━━━━━━━━━━━━━━━━━━━━━━━━━━━━━━━━━━\u001b[0m \u001b[32m3.1/3.1 MB\u001b[0m \u001b[31m12.4 MB/s\u001b[0m eta \u001b[36m0:00:00\u001b[0m\n",
            "\u001b[?25hRequirement already satisfied: certifi in /usr/local/lib/python3.10/dist-packages (from pipenv) (2024.2.2)\n",
            "Requirement already satisfied: setuptools>=67 in /usr/local/lib/python3.10/dist-packages (from pipenv) (67.7.2)\n",
            "Collecting virtualenv>=20.24.2 (from pipenv)\n",
            "  Downloading virtualenv-20.26.1-py3-none-any.whl (3.9 MB)\n",
            "\u001b[2K     \u001b[90m━━━━━━━━━━━━━━━━━━━━━━━━━━━━━━━━━━━━━━━━\u001b[0m \u001b[32m3.9/3.9 MB\u001b[0m \u001b[31m31.4 MB/s\u001b[0m eta \u001b[36m0:00:00\u001b[0m\n",
            "\u001b[?25hCollecting distlib<1,>=0.3.7 (from virtualenv>=20.24.2->pipenv)\n",
            "  Downloading distlib-0.3.8-py2.py3-none-any.whl (468 kB)\n",
            "\u001b[2K     \u001b[90m━━━━━━━━━━━━━━━━━━━━━━━━━━━━━━━━━━━━━━━━\u001b[0m \u001b[32m468.9/468.9 kB\u001b[0m \u001b[31m27.2 MB/s\u001b[0m eta \u001b[36m0:00:00\u001b[0m\n",
            "\u001b[?25hRequirement already satisfied: filelock<4,>=3.12.2 in /usr/local/lib/python3.10/dist-packages (from virtualenv>=20.24.2->pipenv) (3.13.4)\n",
            "Requirement already satisfied: platformdirs<5,>=3.9.1 in /usr/local/lib/python3.10/dist-packages (from virtualenv>=20.24.2->pipenv) (4.2.0)\n",
            "Installing collected packages: distlib, virtualenv, pipenv\n",
            "Successfully installed distlib-0.3.8 pipenv-2023.12.1 virtualenv-20.26.1\n"
          ]
        }
      ]
    },
    {
      "cell_type": "code",
      "source": [
        "!pipenv install --dev"
      ],
      "metadata": {
        "id": "v3Gl4N7bKaul",
        "outputId": "61702b78-b6c1-480f-a380-d6d48fc52778",
        "colab": {
          "base_uri": "https://localhost:8080/"
        }
      },
      "execution_count": 26,
      "outputs": [
        {
          "output_type": "stream",
          "name": "stdout",
          "text": [
            "\u001b[1mCreating a virtualenv for this project...\u001b[0m\n",
            "Pipfile: \u001b[33m\u001b[1m/content/cwb-ccc-src/cwb-ccc/Pipfile\u001b[0m\n",
            "\u001b[1mUsing default python from\u001b[0m \u001b[33m\u001b[1m/usr/bin/python3\u001b[0m \u001b[32m(3.10.12)\u001b[0m \u001b[1mto create virtualenv...\u001b[0m\n",
            "\u001b[2K\u001b[32m⠧\u001b[0m Creating virtual environment...\u001b[36mcreated virtual environment CPython3.10.12.final.0-64 in 1219ms\n",
            "  creator CPython3Posix(dest=/root/.local/share/virtualenvs/cwb-ccc-yi9pdErm, clear=False, no_vcs_ignore=False, global=False)\n",
            "  seeder FromAppData(download=False, pip=bundle, setuptools=bundle, wheel=bundle, via=copy, app_data_dir=/root/.local/share/virtualenv)\n",
            "    added seed packages: pip==24.0, setuptools==69.5.1, wheel==0.43.0\n",
            "  activators BashActivator,CShellActivator,FishActivator,NushellActivator,PowerShellActivator,PythonActivator\n",
            "\u001b[0m\n",
            "✔ Successfully created virtual environment!\n",
            "\u001b[2K\u001b[32m⠇\u001b[0m Creating virtual environment...\n",
            "\u001b[1A\u001b[2K\u001b[32mVirtualenv location: /root/.local/share/virtualenvs/cwb-ccc-yi9pdErm\u001b[0m\n",
            "\u001b[1mPipfile.lock not found, creating\u001b[0m\u001b[1;33m...\u001b[0m\n",
            "Locking\u001b[0m \u001b[33m[packages]\u001b[0m dependencies...\u001b[0m\n",
            "\u001b[?25lBuilding requirements\u001b[33m...\u001b[0m\n",
            "\u001b[2KResolving dependencies\u001b[33m...\u001b[0m\n",
            "\u001b[2K✔ Success!\n",
            "\u001b[2K\u001b[32m⠸\u001b[0m Locking...\n",
            "\u001b[1A\u001b[2KLocking\u001b[0m \u001b[33m[dev-packages]\u001b[0m dependencies...\u001b[0m\n",
            "\u001b[?25lBuilding requirements\u001b[33m...\u001b[0m\n",
            "\u001b[2KResolving dependencies\u001b[33m...\u001b[0m\n",
            "\u001b[2K✔ Success!\n",
            "\u001b[2K\u001b[32m⠼\u001b[0m Locking...\n",
            "\u001b[1A\u001b[2K\u001b[1mUpdated Pipfile.lock (c8c7d9b5eb1690ad759ccf778c2860eaafcd1075fe3c52be89c58720cb4a488d)!\u001b[0m\n",
            "\u001b[1mInstalling dependencies from Pipfile.lock \u001b[0m\u001b[1m(\u001b[0m\u001b[1m4a488d\u001b[0m\u001b[1m)\u001b[0m\u001b[1;33m...\u001b[0m\n",
            "\u001b[1mInstalling dependencies from Pipfile.lock \u001b[0m\u001b[1m(\u001b[0m\u001b[1m4a488d\u001b[0m\u001b[1m)\u001b[0m\u001b[1;33m...\u001b[0m\n",
            "To activate this project's virtualenv, run \u001b[33mpipenv shell\u001b[0m.\n",
            "Alternatively, run a command inside the virtualenv with \u001b[33mpipenv run\u001b[0m.\n"
          ]
        }
      ]
    },
    {
      "cell_type": "code",
      "source": [
        "!pipenv run python3 -m cython -2 ccc/cl.pyx"
      ],
      "metadata": {
        "id": "LQI9WS2UK8T0"
      },
      "execution_count": 27,
      "outputs": []
    },
    {
      "cell_type": "code",
      "source": [
        "!pipenv run python3 setup.py bdist_wheel"
      ],
      "metadata": {
        "id": "-XUP7X90LCqc",
        "outputId": "207472e5-22f1-4896-c772-c59a966fb3c3",
        "colab": {
          "base_uri": "https://localhost:8080/"
        }
      },
      "execution_count": 28,
      "outputs": [
        {
          "output_type": "stream",
          "name": "stdout",
          "text": [
            "running bdist_wheel\n",
            "running build\n",
            "running build_py\n",
            "creating build\n",
            "creating build/lib.linux-x86_64-cpython-310\n",
            "creating build/lib.linux-x86_64-cpython-310/ccc\n",
            "copying ccc/dumps.py -> build/lib.linux-x86_64-cpython-310/ccc\n",
            "copying ccc/cqpy.py -> build/lib.linux-x86_64-cpython-310/ccc\n",
            "copying ccc/collocates.py -> build/lib.linux-x86_64-cpython-310/ccc\n",
            "copying ccc/version.py -> build/lib.linux-x86_64-cpython-310/ccc\n",
            "copying ccc/cache.py -> build/lib.linux-x86_64-cpython-310/ccc\n",
            "copying ccc/concordances.py -> build/lib.linux-x86_64-cpython-310/ccc\n",
            "copying ccc/counts.py -> build/lib.linux-x86_64-cpython-310/ccc\n",
            "copying ccc/utils.py -> build/lib.linux-x86_64-cpython-310/ccc\n",
            "copying ccc/cwb.py -> build/lib.linux-x86_64-cpython-310/ccc\n",
            "copying ccc/discoursemes.py -> build/lib.linux-x86_64-cpython-310/ccc\n",
            "copying ccc/cqp.py -> build/lib.linux-x86_64-cpython-310/ccc\n",
            "copying ccc/__init__.py -> build/lib.linux-x86_64-cpython-310/ccc\n",
            "copying ccc/keywords.py -> build/lib.linux-x86_64-cpython-310/ccc\n",
            "warning: build_py: byte-compiling is disabled, skipping.\n",
            "\n",
            "running build_ext\n",
            "building 'ccc.cl' extension\n",
            "creating build/temp.linux-x86_64-cpython-310\n",
            "creating build/temp.linux-x86_64-cpython-310/ccc\n",
            "x86_64-linux-gnu-gcc -Wno-unused-result -Wsign-compare -DNDEBUG -g -fwrapv -O2 -Wall -g -fstack-protector-strong -Wformat -Werror=format-security -g -fwrapv -O2 -fPIC -I/usr/local/include -I/usr/local/include -I/root/.local/share/virtualenvs/cwb-ccc-yi9pdErm/include -I/usr/include/python3.10 -c ccc/cl.c -o build/temp.linux-x86_64-cpython-310/ccc/cl.o\n",
            "x86_64-linux-gnu-gcc -shared -Wl,-O1 -Wl,-Bsymbolic-functions -Wl,-Bsymbolic-functions -g -fwrapv -O2 build/temp.linux-x86_64-cpython-310/ccc/cl.o -L/usr/local/lib -L/usr/local/lib -L/usr/lib/x86_64-linux-gnu -lcl -lm -lpcre -lglib-2.0 -o build/lib.linux-x86_64-cpython-310/ccc/cl.cpython-310-x86_64-linux-gnu.so\n",
            "/root/.local/share/virtualenvs/cwb-ccc-yi9pdErm/lib/python3.10/site-packages/setuptools/_distutils/cmd.py:66: SetuptoolsDeprecationWarning: setup.py install is deprecated.\n",
            "!!\n",
            "\n",
            "        ********************************************************************************\n",
            "        Please avoid running ``setup.py`` directly.\n",
            "        Instead, use pypa/build, pypa/installer or other\n",
            "        standards-based tools.\n",
            "\n",
            "        See https://blog.ganssle.io/articles/2021/10/setup-py-deprecated.html for details.\n",
            "        ********************************************************************************\n",
            "\n",
            "!!\n",
            "  self.initialize_options()\n",
            "installing to build/bdist.linux-x86_64/wheel\n",
            "running install\n",
            "running install_lib\n",
            "creating build/bdist.linux-x86_64\n",
            "creating build/bdist.linux-x86_64/wheel\n",
            "creating build/bdist.linux-x86_64/wheel/ccc\n",
            "copying build/lib.linux-x86_64-cpython-310/ccc/dumps.py -> build/bdist.linux-x86_64/wheel/ccc\n",
            "copying build/lib.linux-x86_64-cpython-310/ccc/cqpy.py -> build/bdist.linux-x86_64/wheel/ccc\n",
            "copying build/lib.linux-x86_64-cpython-310/ccc/collocates.py -> build/bdist.linux-x86_64/wheel/ccc\n",
            "copying build/lib.linux-x86_64-cpython-310/ccc/version.py -> build/bdist.linux-x86_64/wheel/ccc\n",
            "copying build/lib.linux-x86_64-cpython-310/ccc/cache.py -> build/bdist.linux-x86_64/wheel/ccc\n",
            "copying build/lib.linux-x86_64-cpython-310/ccc/concordances.py -> build/bdist.linux-x86_64/wheel/ccc\n",
            "copying build/lib.linux-x86_64-cpython-310/ccc/counts.py -> build/bdist.linux-x86_64/wheel/ccc\n",
            "copying build/lib.linux-x86_64-cpython-310/ccc/utils.py -> build/bdist.linux-x86_64/wheel/ccc\n",
            "copying build/lib.linux-x86_64-cpython-310/ccc/cwb.py -> build/bdist.linux-x86_64/wheel/ccc\n",
            "copying build/lib.linux-x86_64-cpython-310/ccc/discoursemes.py -> build/bdist.linux-x86_64/wheel/ccc\n",
            "copying build/lib.linux-x86_64-cpython-310/ccc/cl.cpython-310-x86_64-linux-gnu.so -> build/bdist.linux-x86_64/wheel/ccc\n",
            "copying build/lib.linux-x86_64-cpython-310/ccc/cqp.py -> build/bdist.linux-x86_64/wheel/ccc\n",
            "copying build/lib.linux-x86_64-cpython-310/ccc/__init__.py -> build/bdist.linux-x86_64/wheel/ccc\n",
            "copying build/lib.linux-x86_64-cpython-310/ccc/keywords.py -> build/bdist.linux-x86_64/wheel/ccc\n",
            "warning: install_lib: byte-compiling is disabled, skipping.\n",
            "\n",
            "running install_egg_info\n",
            "running egg_info\n",
            "creating cwb_ccc.egg-info\n",
            "writing cwb_ccc.egg-info/PKG-INFO\n",
            "writing dependency_links to cwb_ccc.egg-info/dependency_links.txt\n",
            "writing requirements to cwb_ccc.egg-info/requires.txt\n",
            "writing top-level names to cwb_ccc.egg-info/top_level.txt\n",
            "writing manifest file 'cwb_ccc.egg-info/SOURCES.txt'\n",
            "reading manifest file 'cwb_ccc.egg-info/SOURCES.txt'\n",
            "reading manifest template 'MANIFEST.in'\n",
            "adding license file 'LICENSE'\n",
            "writing manifest file 'cwb_ccc.egg-info/SOURCES.txt'\n",
            "Copying cwb_ccc.egg-info to build/bdist.linux-x86_64/wheel/cwb_ccc-0.12.1-py3.10.egg-info\n",
            "running install_scripts\n",
            "creating build/bdist.linux-x86_64/wheel/cwb_ccc-0.12.1.dist-info/WHEEL\n",
            "creating 'dist/cwb_ccc-0.12.1-cp310-cp310-linux_x86_64.whl' and adding 'build/bdist.linux-x86_64/wheel' to it\n",
            "adding 'ccc/__init__.py'\n",
            "adding 'ccc/cache.py'\n",
            "adding 'ccc/cl.cpython-310-x86_64-linux-gnu.so'\n",
            "adding 'ccc/collocates.py'\n",
            "adding 'ccc/concordances.py'\n",
            "adding 'ccc/counts.py'\n",
            "adding 'ccc/cqp.py'\n",
            "adding 'ccc/cqpy.py'\n",
            "adding 'ccc/cwb.py'\n",
            "adding 'ccc/discoursemes.py'\n",
            "adding 'ccc/dumps.py'\n",
            "adding 'ccc/keywords.py'\n",
            "adding 'ccc/utils.py'\n",
            "adding 'ccc/version.py'\n",
            "adding 'cwb_ccc-0.12.1.dist-info/LICENSE'\n",
            "adding 'cwb_ccc-0.12.1.dist-info/METADATA'\n",
            "adding 'cwb_ccc-0.12.1.dist-info/WHEEL'\n",
            "adding 'cwb_ccc-0.12.1.dist-info/top_level.txt'\n",
            "adding 'cwb_ccc-0.12.1.dist-info/RECORD'\n",
            "removing build/bdist.linux-x86_64/wheel\n"
          ]
        }
      ]
    },
    {
      "cell_type": "code",
      "source": [
        "%cd /content/"
      ],
      "metadata": {
        "id": "c6WnCBW-J1GM",
        "outputId": "8f597af6-6df0-4cd6-bb6c-ddd42e03e038",
        "colab": {
          "base_uri": "https://localhost:8080/"
        }
      },
      "execution_count": 30,
      "outputs": [
        {
          "output_type": "stream",
          "name": "stdout",
          "text": [
            "/content\n"
          ]
        }
      ]
    },
    {
      "cell_type": "code",
      "source": [
        "!python -m pip install cwb-ccc"
      ],
      "metadata": {
        "id": "Ps4pu0W2LbNN",
        "outputId": "64a3a392-46ee-458b-f556-0c4048e589fe",
        "colab": {
          "base_uri": "https://localhost:8080/"
        }
      },
      "execution_count": 10,
      "outputs": [
        {
          "output_type": "stream",
          "name": "stdout",
          "text": [
            "Requirement already satisfied: cwb-ccc in /usr/local/lib/python3.10/dist-packages (0.12.1)\n",
            "Requirement already satisfied: wheel<0.42,>=0.41.1 in /usr/local/lib/python3.10/dist-packages (from cwb-ccc) (0.41.3)\n",
            "Requirement already satisfied: association-measures<0.3,>=0.2.6 in /usr/local/lib/python3.10/dist-packages (from cwb-ccc) (0.2.7)\n",
            "Requirement already satisfied: pandas<2.0,>=1.3.5 in /usr/local/lib/python3.10/dist-packages (from cwb-ccc) (1.5.3)\n",
            "Requirement already satisfied: numexpr<3.0,>=2.8.5 in /usr/local/lib/python3.10/dist-packages (from cwb-ccc) (2.10.0)\n",
            "Requirement already satisfied: Bottleneck<2.0,>=1.3.7 in /usr/local/lib/python3.10/dist-packages (from cwb-ccc) (1.3.8)\n",
            "Requirement already satisfied: unidecode<2.0,>=1.3.6 in /usr/local/lib/python3.10/dist-packages (from cwb-ccc) (1.3.8)\n",
            "Requirement already satisfied: pyyaml<7.0,>=6.0.1 in /usr/local/lib/python3.10/dist-packages (from cwb-ccc) (6.0.1)\n",
            "Requirement already satisfied: scipy in /usr/local/lib/python3.10/dist-packages (from association-measures<0.3,>=0.2.6->cwb-ccc) (1.11.4)\n",
            "Requirement already satisfied: numpy in /usr/local/lib/python3.10/dist-packages (from Bottleneck<2.0,>=1.3.7->cwb-ccc) (1.25.2)\n",
            "Requirement already satisfied: python-dateutil>=2.8.1 in /usr/local/lib/python3.10/dist-packages (from pandas<2.0,>=1.3.5->cwb-ccc) (2.8.2)\n",
            "Requirement already satisfied: pytz>=2020.1 in /usr/local/lib/python3.10/dist-packages (from pandas<2.0,>=1.3.5->cwb-ccc) (2023.4)\n",
            "Requirement already satisfied: six>=1.5 in /usr/local/lib/python3.10/dist-packages (from python-dateutil>=2.8.1->pandas<2.0,>=1.3.5->cwb-ccc) (1.16.0)\n"
          ]
        }
      ]
    },
    {
      "cell_type": "code",
      "source": [
        "!pip show pandas"
      ],
      "metadata": {
        "id": "_GKMon8G9xSo",
        "colab": {
          "base_uri": "https://localhost:8080/"
        },
        "outputId": "956ace97-d583-4d38-aba9-66eb40d78e85"
      },
      "execution_count": 11,
      "outputs": [
        {
          "output_type": "stream",
          "name": "stdout",
          "text": [
            "Name: pandas\n",
            "Version: 1.5.3\n",
            "Summary: Powerful data structures for data analysis, time series, and statistics\n",
            "Home-page: https://pandas.pydata.org\n",
            "Author: The Pandas Development Team\n",
            "Author-email: pandas-dev@python.org\n",
            "License: BSD-3-Clause\n",
            "Location: /usr/local/lib/python3.10/dist-packages\n",
            "Requires: numpy, python-dateutil, pytz\n",
            "Required-by: altair, arviz, association-measures, bigframes, bokeh, bqplot, cmdstanpy, cufflinks, cwb-ccc, datascience, db-dtypes, dopamine-rl, fastai, geemap, geopandas, google-colab, gspread-dataframe, holoviews, ibis-framework, mizani, mlxtend, pandas-datareader, pandas-gbq, panel, plotnine, prophet, pymc, seaborn, sklearn-pandas, statsmodels, vega-datasets, xarray, yfinance\n"
          ]
        }
      ]
    },
    {
      "cell_type": "code",
      "source": [
        "import ccc"
      ],
      "metadata": {
        "id": "gLkpRsTlL_Ak"
      },
      "execution_count": 17,
      "outputs": []
    },
    {
      "cell_type": "code",
      "source": [
        "!sudo find / -name libcl*\n",
        "# !sudo find / -name the_name_of_the_file.so\n",
        "# libcl.so"
      ],
      "metadata": {
        "id": "DR8QUksvMUns",
        "outputId": "72fc79ab-2a6f-4b52-8605-5e6f80e81103",
        "colab": {
          "base_uri": "https://localhost:8080/"
        }
      },
      "execution_count": 9,
      "outputs": [
        {
          "output_type": "stream",
          "name": "stdout",
          "text": [
            "find: ‘/proc/62/task/62/net’: Invalid argument\n",
            "find: ‘/proc/62/net’: Invalid argument\n",
            "/usr/share/doc/libclang1-14\n",
            "/usr/share/doc/libclang-cpp14\n",
            "/usr/share/doc/libclang-common-14-dev\n",
            "/usr/share/lintian/overrides/libclang1-14\n",
            "/usr/lib/x86_64-linux-gnu/libclang-14.so.14.0.0\n",
            "/usr/lib/x86_64-linux-gnu/libclang-14.so.1\n",
            "/usr/lib/x86_64-linux-gnu/libclang-cpp.so.14\n",
            "/usr/lib/x86_64-linux-gnu/libclang-14.so.13\n",
            "/usr/lib/llvm-14/lib/libclang-14.so.1\n",
            "/usr/lib/llvm-14/lib/clang/14.0.0/lib/linux/libclang_rt.fuzzer_no_main-x86_64.a\n",
            "/usr/lib/llvm-14/lib/clang/14.0.0/lib/linux/libclang_rt.xray-x86_64.a\n",
            "/usr/lib/llvm-14/lib/clang/14.0.0/lib/linux/libclang_rt.asan-x86_64.so\n",
            "/usr/lib/llvm-14/lib/clang/14.0.0/lib/linux/libclang_rt.scudo_minimal-x86_64.so\n",
            "/usr/lib/llvm-14/lib/clang/14.0.0/lib/linux/libclang_rt.hwasan_aliases-x86_64.a\n",
            "/usr/lib/llvm-14/lib/clang/14.0.0/lib/linux/libclang_rt.scudo-i386.so\n",
            "/usr/lib/llvm-14/lib/clang/14.0.0/lib/linux/libclang_rt.asan_static-i386.a\n",
            "/usr/lib/llvm-14/lib/clang/14.0.0/lib/linux/libclang_rt.stats-i386.a\n",
            "/usr/lib/llvm-14/lib/clang/14.0.0/lib/linux/libclang_rt.msan-x86_64.a\n",
            "/usr/lib/llvm-14/lib/clang/14.0.0/lib/linux/libclang_rt.stats_client-i386.a\n",
            "/usr/lib/llvm-14/lib/clang/14.0.0/lib/linux/libclang_rt.tsan-x86_64.a.syms\n",
            "/usr/lib/llvm-14/lib/clang/14.0.0/lib/linux/libclang_rt.ubsan_standalone-i386.a\n",
            "/usr/lib/llvm-14/lib/clang/14.0.0/lib/linux/libclang_rt.hwasan_aliases-x86_64.so\n",
            "/usr/lib/llvm-14/lib/clang/14.0.0/lib/linux/libclang_rt.scudo_standalone-x86_64.so\n",
            "/usr/lib/llvm-14/lib/clang/14.0.0/lib/linux/libclang_rt.scudo_standalone-i386.a\n",
            "/usr/lib/llvm-14/lib/clang/14.0.0/lib/linux/libclang_rt.ubsan_minimal-x86_64.so\n",
            "/usr/lib/llvm-14/lib/clang/14.0.0/lib/linux/libclang_rt.stats-x86_64.a\n",
            "/usr/lib/llvm-14/lib/clang/14.0.0/lib/linux/libclang_rt.hwasan_aliases-x86_64.a.syms\n",
            "/usr/lib/llvm-14/lib/clang/14.0.0/lib/linux/libclang_rt.stats_client-x86_64.a\n",
            "/usr/lib/llvm-14/lib/clang/14.0.0/lib/linux/libclang_rt.tsan-x86_64.a\n",
            "/usr/lib/llvm-14/lib/clang/14.0.0/lib/linux/libclang_rt.safestack-i386.a\n",
            "/usr/lib/llvm-14/lib/clang/14.0.0/lib/linux/libclang_rt.ubsan_minimal-i386.so\n",
            "/usr/lib/llvm-14/lib/clang/14.0.0/lib/linux/libclang_rt.msan-x86_64.a.syms\n",
            "/usr/lib/llvm-14/lib/clang/14.0.0/lib/linux/libclang_rt.xray-profiling-x86_64.a\n",
            "/usr/lib/llvm-14/lib/clang/14.0.0/lib/linux/libclang_rt.ubsan_standalone_cxx-x86_64.a\n",
            "/usr/lib/llvm-14/lib/clang/14.0.0/lib/linux/libclang_rt.scudo-x86_64.a\n",
            "/usr/lib/llvm-14/lib/clang/14.0.0/lib/linux/libclang_rt.dd-x86_64.a\n",
            "/usr/lib/llvm-14/lib/clang/14.0.0/lib/linux/libclang_rt.hwasan-x86_64.so\n",
            "/usr/lib/llvm-14/lib/clang/14.0.0/lib/linux/libclang_rt.ubsan_minimal-x86_64.a.syms\n",
            "/usr/lib/llvm-14/lib/clang/14.0.0/lib/linux/libclang_rt.scudo_standalone-x86_64.a\n",
            "/usr/lib/llvm-14/lib/clang/14.0.0/lib/linux/libclang_rt.asan-preinit-x86_64.a\n",
            "/usr/lib/llvm-14/lib/clang/14.0.0/lib/linux/libclang_rt.scudo_cxx_minimal-x86_64.a\n",
            "/usr/lib/llvm-14/lib/clang/14.0.0/lib/linux/libclang_rt.memprof-x86_64.a\n",
            "/usr/lib/llvm-14/lib/clang/14.0.0/lib/linux/libclang_rt.ubsan_minimal-x86_64.a\n",
            "/usr/lib/llvm-14/lib/clang/14.0.0/lib/linux/libclang_rt.ubsan_standalone-i386.so\n",
            "/usr/lib/llvm-14/lib/clang/14.0.0/lib/linux/libclang_rt.builtins-x86_64.a\n",
            "/usr/lib/llvm-14/lib/clang/14.0.0/lib/linux/libclang_rt.hwasan_aliases_cxx-x86_64.a\n",
            "/usr/lib/llvm-14/lib/clang/14.0.0/lib/linux/libclang_rt.asan_static-x86_64.a\n",
            "/usr/lib/llvm-14/lib/clang/14.0.0/lib/linux/libclang_rt.scudo_minimal-i386.a\n",
            "/usr/lib/llvm-14/lib/clang/14.0.0/lib/linux/libclang_rt.scudo_minimal-x86_64.a\n",
            "/usr/lib/llvm-14/lib/clang/14.0.0/lib/linux/libclang_rt.dyndd-x86_64.so\n",
            "/usr/lib/llvm-14/lib/clang/14.0.0/lib/linux/libclang_rt.scudo-x86_64.so\n",
            "/usr/lib/llvm-14/lib/clang/14.0.0/lib/linux/libclang_rt.gwp_asan-i386.a\n",
            "/usr/lib/llvm-14/lib/clang/14.0.0/lib/linux/libclang_rt.asan-preinit-i386.a\n",
            "/usr/lib/llvm-14/lib/clang/14.0.0/lib/linux/libclang_rt.ubsan_standalone_cxx-x86_64.a.syms\n",
            "/usr/lib/llvm-14/lib/clang/14.0.0/lib/linux/libclang_rt.memprof-x86_64.so\n",
            "/usr/lib/llvm-14/lib/clang/14.0.0/lib/linux/libclang_rt.hwasan-x86_64.a.syms\n",
            "/usr/lib/llvm-14/lib/clang/14.0.0/lib/linux/libclang_rt.scudo_cxx_minimal-i386.a\n",
            "/usr/lib/llvm-14/lib/clang/14.0.0/lib/linux/libclang_rt.gwp_asan-x86_64.a\n",
            "/usr/lib/llvm-14/lib/clang/14.0.0/lib/linux/libclang_rt.xray-basic-x86_64.a\n",
            "/usr/lib/llvm-14/lib/clang/14.0.0/lib/linux/libclang_rt.ubsan_standalone-x86_64.a\n",
            "/usr/lib/llvm-14/lib/clang/14.0.0/lib/linux/libclang_rt.scudo_standalone-i386.so\n",
            "/usr/lib/llvm-14/lib/clang/14.0.0/lib/linux/libclang_rt.fuzzer-i386.a\n",
            "/usr/lib/llvm-14/lib/clang/14.0.0/lib/linux/libclang_rt.ubsan_minimal-i386.a\n",
            "/usr/lib/llvm-14/lib/clang/14.0.0/lib/linux/libclang_rt.ubsan_standalone-x86_64.a.syms\n",
            "/usr/lib/llvm-14/lib/clang/14.0.0/lib/linux/libclang_rt.scudo_standalone_cxx-x86_64.a\n",
            "/usr/lib/llvm-14/lib/clang/14.0.0/lib/linux/libclang_rt.asan_cxx-x86_64.a\n",
            "/usr/lib/llvm-14/lib/clang/14.0.0/lib/linux/libclang_rt.hwasan_aliases_cxx-x86_64.a.syms\n",
            "/usr/lib/llvm-14/lib/clang/14.0.0/lib/linux/libclang_rt.memprof-x86_64.a.syms\n",
            "/usr/lib/llvm-14/lib/clang/14.0.0/lib/linux/libclang_rt.msan_cxx-x86_64.a.syms\n",
            "/usr/lib/llvm-14/lib/clang/14.0.0/lib/linux/libclang_rt.asan-i386.a\n",
            "/usr/lib/llvm-14/lib/clang/14.0.0/lib/linux/libclang_rt.profile-x86_64.a\n",
            "/usr/lib/llvm-14/lib/clang/14.0.0/lib/linux/libclang_rt.asan_cxx-i386.a\n",
            "/usr/lib/llvm-14/lib/clang/14.0.0/lib/linux/libclang_rt.dfsan-x86_64.a.syms\n",
            "/usr/lib/llvm-14/lib/clang/14.0.0/lib/linux/libclang_rt.cfi_diag-i386.a\n",
            "/usr/lib/llvm-14/lib/clang/14.0.0/lib/linux/libclang_rt.hwasan-x86_64.a\n",
            "/usr/lib/llvm-14/lib/clang/14.0.0/lib/linux/libclang_rt.fuzzer_no_main-i386.a\n",
            "/usr/lib/llvm-14/lib/clang/14.0.0/lib/linux/libclang_rt.memprof-preinit-x86_64.a\n",
            "/usr/lib/llvm-14/lib/clang/14.0.0/lib/linux/libclang_rt.ubsan_standalone-x86_64.so\n",
            "/usr/lib/llvm-14/lib/clang/14.0.0/lib/linux/libclang_rt.tsan_cxx-x86_64.a\n",
            "/usr/lib/llvm-14/lib/clang/14.0.0/lib/linux/libclang_rt.asan-x86_64.a.syms\n",
            "/usr/lib/llvm-14/lib/clang/14.0.0/lib/linux/libclang_rt.scudo_standalone_cxx-i386.a\n",
            "/usr/lib/llvm-14/lib/clang/14.0.0/lib/linux/libclang_rt.dfsan-x86_64.a\n",
            "/usr/lib/llvm-14/lib/clang/14.0.0/lib/linux/libclang_rt.tsan-x86_64.so\n",
            "/usr/lib/llvm-14/lib/clang/14.0.0/lib/linux/libclang_rt.asan-x86_64.a\n",
            "/usr/lib/llvm-14/lib/clang/14.0.0/lib/linux/libclang_rt.msan_cxx-x86_64.a\n",
            "/usr/lib/llvm-14/lib/clang/14.0.0/lib/linux/libclang_rt.fuzzer-x86_64.a\n",
            "/usr/lib/llvm-14/lib/clang/14.0.0/lib/linux/libclang_rt.safestack-x86_64.a\n",
            "/usr/lib/llvm-14/lib/clang/14.0.0/lib/linux/libclang_rt.orc-x86_64.a\n",
            "/usr/lib/llvm-14/lib/clang/14.0.0/lib/linux/libclang_rt.hwasan_cxx-x86_64.a\n",
            "/usr/lib/llvm-14/lib/clang/14.0.0/lib/linux/libclang_rt.cfi-x86_64.a\n",
            "/usr/lib/llvm-14/lib/clang/14.0.0/lib/linux/libclang_rt.asan_cxx-x86_64.a.syms\n",
            "/usr/lib/llvm-14/lib/clang/14.0.0/lib/linux/libclang_rt.scudo_cxx-i386.a\n",
            "/usr/lib/llvm-14/lib/clang/14.0.0/lib/linux/libclang_rt.builtins-i386.a\n",
            "/usr/lib/llvm-14/lib/clang/14.0.0/lib/linux/libclang_rt.xray-fdr-x86_64.a\n",
            "/usr/lib/llvm-14/lib/clang/14.0.0/lib/linux/libclang_rt.tsan_cxx-x86_64.a.syms\n",
            "/usr/lib/llvm-14/lib/clang/14.0.0/lib/linux/libclang_rt.cfi_diag-x86_64.a\n",
            "/usr/lib/llvm-14/lib/clang/14.0.0/lib/linux/libclang_rt.memprof_cxx-x86_64.a.syms\n",
            "/usr/lib/llvm-14/lib/clang/14.0.0/lib/linux/libclang_rt.scudo_cxx-x86_64.a\n",
            "/usr/lib/llvm-14/lib/clang/14.0.0/lib/linux/libclang_rt.scudo-i386.a\n",
            "/usr/lib/llvm-14/lib/clang/14.0.0/lib/linux/libclang_rt.fuzzer_interceptors-x86_64.a\n",
            "/usr/lib/llvm-14/lib/clang/14.0.0/lib/linux/libclang_rt.profile-i386.a\n",
            "/usr/lib/llvm-14/lib/clang/14.0.0/lib/linux/libclang_rt.cfi-i386.a\n",
            "/usr/lib/llvm-14/lib/clang/14.0.0/lib/linux/libclang_rt.memprof_cxx-x86_64.a\n",
            "/usr/lib/llvm-14/lib/clang/14.0.0/lib/linux/libclang_rt.lsan-i386.a\n",
            "/usr/lib/llvm-14/lib/clang/14.0.0/lib/linux/libclang_rt.asan-i386.so\n",
            "/usr/lib/llvm-14/lib/clang/14.0.0/lib/linux/libclang_rt.lsan-x86_64.a\n",
            "/usr/lib/llvm-14/lib/clang/14.0.0/lib/linux/libclang_rt.hwasan_cxx-x86_64.a.syms\n",
            "/usr/lib/llvm-14/lib/clang/14.0.0/lib/linux/libclang_rt.scudo_minimal-i386.so\n",
            "/usr/lib/llvm-14/lib/clang/14.0.0/lib/linux/libclang_rt.fuzzer_interceptors-i386.a\n",
            "/usr/lib/llvm-14/lib/clang/14.0.0/lib/linux/libclang_rt.ubsan_standalone_cxx-i386.a\n",
            "/usr/lib/llvm-14/lib/libclang-cpp.so.14\n",
            "/usr/lib/llvm-14/lib/libclang.so.1\n",
            "/usr/local/lib/libcl.a\n",
            "/usr/local/lib/libcl.so\n",
            "/usr/local/lib/python3.10/dist-packages/libclang-18.1.1.dist-info\n",
            "/usr/local/lib/python3.10/dist-packages/clang/native/libclang.so\n",
            "/var/lib/dpkg/info/libclang1-14.triggers\n",
            "/var/lib/dpkg/info/libclang1-14.symbols\n",
            "/var/lib/dpkg/info/libclang-cpp14.list\n",
            "/var/lib/dpkg/info/libclang1-14.list\n",
            "/var/lib/dpkg/info/libclang-cpp14.triggers\n",
            "/var/lib/dpkg/info/libclang-cpp14.shlibs\n",
            "/var/lib/dpkg/info/libclang1-14.md5sums\n",
            "/var/lib/dpkg/info/libclang-common-14-dev.list\n",
            "/var/lib/dpkg/info/libclang-common-14-dev.md5sums\n",
            "/var/lib/dpkg/info/libclang1-14.shlibs\n",
            "/var/lib/dpkg/info/libclang-cpp14.md5sums\n",
            "/opt/nvidia/nsight-compute/2023.2.2/host/target-linux-x64/CollectX/libclx_api.so\n"
          ]
        }
      ]
    },
    {
      "cell_type": "code",
      "source": [
        "!echo $LD_LIBRARY_PATH"
      ],
      "metadata": {
        "id": "OSxxs26yM-tM",
        "outputId": "2539adc5-9ef4-48a8-9add-294bc933a172",
        "colab": {
          "base_uri": "https://localhost:8080/"
        }
      },
      "execution_count": 13,
      "outputs": [
        {
          "output_type": "stream",
          "name": "stdout",
          "text": [
            "/usr/local/lib/\n"
          ]
        }
      ]
    },
    {
      "cell_type": "code",
      "source": [
        "%env LD_LIBRARY_PATH=/usr/local/lib/"
      ],
      "metadata": {
        "id": "MSeKwbDkS_1r",
        "outputId": "9a8fbd47-f470-484b-f5d6-0834b2d2d6d9",
        "colab": {
          "base_uri": "https://localhost:8080/"
        }
      },
      "execution_count": 8,
      "outputs": [
        {
          "output_type": "stream",
          "name": "stdout",
          "text": [
            "env: LD_LIBRARY_PATH=/usr/local/lib/\n"
          ]
        }
      ]
    },
    {
      "cell_type": "code",
      "source": [
        "%env LD_LIBRARY_PATH=/usr/local/nvidia/lib:/usr/local/nvidia/lib64:/usr/local/lib/"
      ],
      "metadata": {
        "id": "d6NzLiEKNRBN",
        "outputId": "d0079b9a-dae9-46d1-bb14-225c36cf1e73",
        "colab": {
          "base_uri": "https://localhost:8080/"
        }
      },
      "execution_count": 2,
      "outputs": [
        {
          "output_type": "stream",
          "name": "stdout",
          "text": [
            "env: LD_LIBRARY_PATH=/usr/local/nvidia/lib:/usr/local/nvidia/lib64:/usr/local/lib/\n"
          ]
        }
      ]
    },
    {
      "cell_type": "code",
      "source": [
        "!echo $LD_LIBRARY_PATH"
      ],
      "metadata": {
        "id": "_p4fneM9Naf1",
        "outputId": "74855f17-63ea-4891-b821-97deea763338",
        "colab": {
          "base_uri": "https://localhost:8080/"
        }
      },
      "execution_count": 16,
      "outputs": [
        {
          "output_type": "stream",
          "name": "stdout",
          "text": [
            "/usr/local/lib/\n"
          ]
        }
      ]
    },
    {
      "cell_type": "code",
      "source": [
        "!sudo ldconfig"
      ],
      "metadata": {
        "id": "R3o__gGvT9h7",
        "outputId": "50673138-2277-43ab-e67e-74c04ad1e409",
        "colab": {
          "base_uri": "https://localhost:8080/"
        }
      },
      "execution_count": 15,
      "outputs": [
        {
          "output_type": "stream",
          "name": "stdout",
          "text": [
            "/sbin/ldconfig.real: /usr/local/lib/libtbbmalloc.so.2 is not a symbolic link\n",
            "\n",
            "/sbin/ldconfig.real: /usr/local/lib/libtbbbind_2_0.so.3 is not a symbolic link\n",
            "\n",
            "/sbin/ldconfig.real: /usr/local/lib/libtbb.so.12 is not a symbolic link\n",
            "\n",
            "/sbin/ldconfig.real: /usr/local/lib/libtbbmalloc_proxy.so.2 is not a symbolic link\n",
            "\n",
            "/sbin/ldconfig.real: /usr/local/lib/libtbbbind.so.3 is not a symbolic link\n",
            "\n",
            "/sbin/ldconfig.real: /usr/local/lib/libtbbbind_2_5.so.3 is not a symbolic link\n",
            "\n"
          ]
        }
      ]
    },
    {
      "cell_type": "code",
      "source": [
        "# !sudo cp /usr/local/lib/libcl.so /usr/local/nvidia/lib64/"
      ],
      "metadata": {
        "id": "8FVSlNSLO0nM",
        "outputId": "c66f9f58-1469-482b-dd24-170cf104ff7c",
        "colab": {
          "base_uri": "https://localhost:8080/"
        }
      },
      "execution_count": 8,
      "outputs": [
        {
          "output_type": "stream",
          "name": "stdout",
          "text": [
            "cp: cannot create regular file '/usr/local/nvidia/lib64/': No such file or directory\n"
          ]
        }
      ]
    },
    {
      "cell_type": "code",
      "source": [
        "from ccc import Corpora"
      ],
      "metadata": {
        "id": "S_sMQVIBKLRs",
        "outputId": "a59bd012-0624-48b8-e567-11253422431f",
        "colab": {
          "base_uri": "https://localhost:8080/",
          "height": 460
        }
      },
      "execution_count": 4,
      "outputs": [
        {
          "output_type": "error",
          "ename": "ImportError",
          "evalue": "libcl.so: cannot open shared object file: No such file or directory",
          "traceback": [
            "\u001b[0;31m---------------------------------------------------------------------------\u001b[0m",
            "\u001b[0;31mImportError\u001b[0m                               Traceback (most recent call last)",
            "\u001b[0;32m<ipython-input-4-1d22aac96072>\u001b[0m in \u001b[0;36m<cell line: 1>\u001b[0;34m()\u001b[0m\n\u001b[0;32m----> 1\u001b[0;31m \u001b[0;32mfrom\u001b[0m \u001b[0mccc\u001b[0m \u001b[0;32mimport\u001b[0m \u001b[0mCorpora\u001b[0m\u001b[0;34m\u001b[0m\u001b[0;34m\u001b[0m\u001b[0m\n\u001b[0m",
            "\u001b[0;32m/usr/local/lib/python3.10/dist-packages/ccc/__init__.py\u001b[0m in \u001b[0;36m<module>\u001b[0;34m\u001b[0m\n\u001b[1;32m      5\u001b[0m \"\"\"\n\u001b[1;32m      6\u001b[0m \u001b[0;34m\u001b[0m\u001b[0m\n\u001b[0;32m----> 7\u001b[0;31m \u001b[0;32mfrom\u001b[0m \u001b[0;34m.\u001b[0m\u001b[0mcwb\u001b[0m \u001b[0;32mimport\u001b[0m \u001b[0mCorpora\u001b[0m\u001b[0;34m,\u001b[0m \u001b[0mCorpus\u001b[0m\u001b[0;34m,\u001b[0m \u001b[0mSubCorpus\u001b[0m\u001b[0;34m\u001b[0m\u001b[0;34m\u001b[0m\u001b[0m\n\u001b[0m\u001b[1;32m      8\u001b[0m \u001b[0;32mfrom\u001b[0m \u001b[0;34m.\u001b[0m\u001b[0mversion\u001b[0m \u001b[0;32mimport\u001b[0m \u001b[0m__version__\u001b[0m\u001b[0;34m\u001b[0m\u001b[0;34m\u001b[0m\u001b[0m\n",
            "\u001b[0;32m/usr/local/lib/python3.10/dist-packages/ccc/cwb.py\u001b[0m in \u001b[0;36m<module>\u001b[0;34m\u001b[0m\n\u001b[1;32m     17\u001b[0m \u001b[0;31m# part of module\u001b[0m\u001b[0;34m\u001b[0m\u001b[0;34m\u001b[0m\u001b[0m\n\u001b[1;32m     18\u001b[0m \u001b[0;32mfrom\u001b[0m \u001b[0;34m.\u001b[0m\u001b[0mcache\u001b[0m \u001b[0;32mimport\u001b[0m \u001b[0mCache\u001b[0m\u001b[0;34m,\u001b[0m \u001b[0mgenerate_idx\u001b[0m\u001b[0;34m,\u001b[0m \u001b[0mgenerate_library_idx\u001b[0m\u001b[0;34m\u001b[0m\u001b[0;34m\u001b[0m\u001b[0m\n\u001b[0;32m---> 19\u001b[0;31m \u001b[0;32mfrom\u001b[0m \u001b[0;34m.\u001b[0m\u001b[0mcl\u001b[0m \u001b[0;32mimport\u001b[0m \u001b[0mCorpus\u001b[0m \u001b[0;32mas\u001b[0m \u001b[0mAttributes\u001b[0m\u001b[0;34m\u001b[0m\u001b[0;34m\u001b[0m\u001b[0m\n\u001b[0m\u001b[1;32m     20\u001b[0m \u001b[0;32mfrom\u001b[0m \u001b[0;34m.\u001b[0m\u001b[0mcollocates\u001b[0m \u001b[0;32mimport\u001b[0m \u001b[0mCollocates\u001b[0m\u001b[0;34m\u001b[0m\u001b[0;34m\u001b[0m\u001b[0m\n\u001b[1;32m     21\u001b[0m \u001b[0;32mfrom\u001b[0m \u001b[0;34m.\u001b[0m\u001b[0mconcordances\u001b[0m \u001b[0;32mimport\u001b[0m \u001b[0mConcordance\u001b[0m\u001b[0;34m\u001b[0m\u001b[0;34m\u001b[0m\u001b[0m\n",
            "\u001b[0;31mImportError\u001b[0m: libcl.so: cannot open shared object file: No such file or directory",
            "",
            "\u001b[0;31m---------------------------------------------------------------------------\u001b[0;32m\nNOTE: If your import is failing due to a missing package, you can\nmanually install dependencies using either !pip or !apt.\n\nTo view examples of installing some common dependencies, click the\n\"Open Examples\" button below.\n\u001b[0;31m---------------------------------------------------------------------------\u001b[0m\n"
          ],
          "errorDetails": {
            "actions": [
              {
                "action": "open_url",
                "actionText": "Open Examples",
                "url": "/notebooks/snippets/importing_libraries.ipynb"
              }
            ]
          }
        }
      ]
    },
    {
      "cell_type": "markdown",
      "source": [
        "## pandas versions are incompatible ?\n",
        "### to check!\n",
        "ERROR: pip's dependency resolver does not currently take into account all the packages that are installed. This behaviour is the source of the following dependency conflicts.\n",
        "\n",
        "google-colab 1.0.0 requires pandas~=1.1.0; python_version >= \"3.0\", but you have pandas 1.3.5 which is incompatible.\n",
        "\n",
        "Successfully installed association-measures-0.2.0 cwb-ccc-0.10.1 pandas-1.3.5 pyyaml-6.0 unidecode-1.3.2\n",
        "\n",
        "- we go for a compromise, which works for both so far..."
      ],
      "metadata": {
        "id": "cUBCq5DtEtu_"
      }
    },
    {
      "cell_type": "code",
      "source": [
        "!pip install pandas==1.1.5\n",
        "# click [restart runtime] button!"
      ],
      "metadata": {
        "id": "UI2vEM5OCI4r",
        "colab": {
          "base_uri": "https://localhost:8080/",
          "height": 721
        },
        "outputId": "c52787c4-d49a-44fe-b723-d77709cc8c8b"
      },
      "execution_count": null,
      "outputs": [
        {
          "output_type": "stream",
          "name": "stdout",
          "text": [
            "Collecting pandas==1.1.5\n",
            "  Downloading pandas-1.1.5.tar.gz (5.2 MB)\n",
            "\u001b[2K     \u001b[90m━━━━━━━━━━━━━━━━━━━━━━━━━━━━━━━━━━━━━━━━\u001b[0m \u001b[32m5.2/5.2 MB\u001b[0m \u001b[31m27.1 MB/s\u001b[0m eta \u001b[36m0:00:00\u001b[0m\n",
            "\u001b[?25h  Installing build dependencies ... \u001b[?25l\u001b[?25hdone\n",
            "  Getting requirements to build wheel ... \u001b[?25l\u001b[?25hdone\n",
            "  Preparing metadata (pyproject.toml) ... \u001b[?25l\u001b[?25hdone\n",
            "Requirement already satisfied: python-dateutil>=2.7.3 in /usr/local/lib/python3.10/dist-packages (from pandas==1.1.5) (2.8.2)\n",
            "Requirement already satisfied: pytz>=2017.2 in /usr/local/lib/python3.10/dist-packages (from pandas==1.1.5) (2023.4)\n",
            "Requirement already satisfied: numpy>=1.15.4 in /usr/local/lib/python3.10/dist-packages (from pandas==1.1.5) (1.25.2)\n",
            "Requirement already satisfied: six>=1.5 in /usr/local/lib/python3.10/dist-packages (from python-dateutil>=2.7.3->pandas==1.1.5) (1.16.0)\n",
            "Building wheels for collected packages: pandas\n",
            "  Building wheel for pandas (pyproject.toml) ... \u001b[?25l\u001b[?25hdone\n",
            "  Created wheel for pandas: filename=pandas-1.1.5-cp310-cp310-linux_x86_64.whl size=33263188 sha256=5f8ae8b741b033eb0cab53738486344e1e1761349f77a7923d6690f19eeb806a\n",
            "  Stored in directory: /root/.cache/pip/wheels/92/41/92/769e05cd303040fdae625c9f5a8d38f1d37c423aa2a30b3d0d\n",
            "Successfully built pandas\n",
            "Installing collected packages: pandas\n",
            "  Attempting uninstall: pandas\n",
            "    Found existing installation: pandas 1.5.3\n",
            "    Uninstalling pandas-1.5.3:\n",
            "      Successfully uninstalled pandas-1.5.3\n",
            "\u001b[31mERROR: pip's dependency resolver does not currently take into account all the packages that are installed. This behaviour is the source of the following dependency conflicts.\n",
            "arviz 0.15.1 requires pandas>=1.3.0, but you have pandas 1.1.5 which is incompatible.\n",
            "bigframes 1.2.0 requires pandas>=1.5.0, but you have pandas 1.1.5 which is incompatible.\n",
            "bokeh 3.3.4 requires pandas>=1.2, but you have pandas 1.1.5 which is incompatible.\n",
            "cwb-ccc 0.12.1 requires pandas<2.0,>=1.3.5, but you have pandas 1.1.5 which is incompatible.\n",
            "google-colab 1.0.0 requires pandas==2.0.3, but you have pandas 1.1.5 which is incompatible.\n",
            "ibis-framework 8.0.0 requires pandas<3,>=1.2.5, but you have pandas 1.1.5 which is incompatible.\n",
            "mizani 0.9.3 requires pandas>=1.3.5, but you have pandas 1.1.5 which is incompatible.\n",
            "panel 1.3.8 requires pandas>=1.2, but you have pandas 1.1.5 which is incompatible.\n",
            "plotnine 0.12.4 requires pandas>=1.5.0, but you have pandas 1.1.5 which is incompatible.\n",
            "seaborn 0.13.1 requires pandas>=1.2, but you have pandas 1.1.5 which is incompatible.\n",
            "statsmodels 0.14.2 requires pandas!=2.1.0,>=1.4, but you have pandas 1.1.5 which is incompatible.\n",
            "xarray 2023.7.0 requires pandas>=1.4, but you have pandas 1.1.5 which is incompatible.\n",
            "yfinance 0.2.38 requires pandas>=1.3.0, but you have pandas 1.1.5 which is incompatible.\u001b[0m\u001b[31m\n",
            "\u001b[0mSuccessfully installed pandas-1.1.5\n"
          ]
        },
        {
          "output_type": "display_data",
          "data": {
            "application/vnd.colab-display-data+json": {
              "pip_warning": {
                "packages": [
                  "pandas"
                ]
              },
              "id": "a36bb478089f417dbcea8878563a6d13"
            }
          },
          "metadata": {}
        }
      ]
    },
    {
      "cell_type": "code",
      "source": [
        "import ccc"
      ],
      "metadata": {
        "colab": {
          "base_uri": "https://localhost:8080/",
          "height": 460
        },
        "id": "jGRzypwmDmRt",
        "outputId": "253724f2-8da7-439c-b1e4-58dfc69627ea"
      },
      "execution_count": null,
      "outputs": [
        {
          "output_type": "error",
          "ename": "ImportError",
          "evalue": "libcl.so: cannot open shared object file: No such file or directory",
          "traceback": [
            "\u001b[0;31m---------------------------------------------------------------------------\u001b[0m",
            "\u001b[0;31mImportError\u001b[0m                               Traceback (most recent call last)",
            "\u001b[0;32m<ipython-input-5-38ad242a8415>\u001b[0m in \u001b[0;36m<cell line: 1>\u001b[0;34m()\u001b[0m\n\u001b[0;32m----> 1\u001b[0;31m \u001b[0;32mimport\u001b[0m \u001b[0mccc\u001b[0m\u001b[0;34m\u001b[0m\u001b[0;34m\u001b[0m\u001b[0m\n\u001b[0m",
            "\u001b[0;32m/usr/local/lib/python3.10/dist-packages/ccc/__init__.py\u001b[0m in \u001b[0;36m<module>\u001b[0;34m\u001b[0m\n\u001b[1;32m      5\u001b[0m \"\"\"\n\u001b[1;32m      6\u001b[0m \u001b[0;34m\u001b[0m\u001b[0m\n\u001b[0;32m----> 7\u001b[0;31m \u001b[0;32mfrom\u001b[0m \u001b[0;34m.\u001b[0m\u001b[0mcwb\u001b[0m \u001b[0;32mimport\u001b[0m \u001b[0mCorpora\u001b[0m\u001b[0;34m,\u001b[0m \u001b[0mCorpus\u001b[0m\u001b[0;34m,\u001b[0m \u001b[0mSubCorpus\u001b[0m\u001b[0;34m\u001b[0m\u001b[0;34m\u001b[0m\u001b[0m\n\u001b[0m\u001b[1;32m      8\u001b[0m \u001b[0;32mfrom\u001b[0m \u001b[0;34m.\u001b[0m\u001b[0mversion\u001b[0m \u001b[0;32mimport\u001b[0m \u001b[0m__version__\u001b[0m\u001b[0;34m\u001b[0m\u001b[0;34m\u001b[0m\u001b[0m\n",
            "\u001b[0;32m/usr/local/lib/python3.10/dist-packages/ccc/cwb.py\u001b[0m in \u001b[0;36m<module>\u001b[0;34m\u001b[0m\n\u001b[1;32m     17\u001b[0m \u001b[0;31m# part of module\u001b[0m\u001b[0;34m\u001b[0m\u001b[0;34m\u001b[0m\u001b[0m\n\u001b[1;32m     18\u001b[0m \u001b[0;32mfrom\u001b[0m \u001b[0;34m.\u001b[0m\u001b[0mcache\u001b[0m \u001b[0;32mimport\u001b[0m \u001b[0mCache\u001b[0m\u001b[0;34m,\u001b[0m \u001b[0mgenerate_idx\u001b[0m\u001b[0;34m,\u001b[0m \u001b[0mgenerate_library_idx\u001b[0m\u001b[0;34m\u001b[0m\u001b[0;34m\u001b[0m\u001b[0m\n\u001b[0;32m---> 19\u001b[0;31m \u001b[0;32mfrom\u001b[0m \u001b[0;34m.\u001b[0m\u001b[0mcl\u001b[0m \u001b[0;32mimport\u001b[0m \u001b[0mCorpus\u001b[0m \u001b[0;32mas\u001b[0m \u001b[0mAttributes\u001b[0m\u001b[0;34m\u001b[0m\u001b[0;34m\u001b[0m\u001b[0m\n\u001b[0m\u001b[1;32m     20\u001b[0m \u001b[0;32mfrom\u001b[0m \u001b[0;34m.\u001b[0m\u001b[0mcollocates\u001b[0m \u001b[0;32mimport\u001b[0m \u001b[0mCollocates\u001b[0m\u001b[0;34m\u001b[0m\u001b[0;34m\u001b[0m\u001b[0m\n\u001b[1;32m     21\u001b[0m \u001b[0;32mfrom\u001b[0m \u001b[0;34m.\u001b[0m\u001b[0mconcordances\u001b[0m \u001b[0;32mimport\u001b[0m \u001b[0mConcordance\u001b[0m\u001b[0;34m\u001b[0m\u001b[0;34m\u001b[0m\u001b[0m\n",
            "\u001b[0;31mImportError\u001b[0m: libcl.so: cannot open shared object file: No such file or directory",
            "",
            "\u001b[0;31m---------------------------------------------------------------------------\u001b[0;32m\nNOTE: If your import is failing due to a missing package, you can\nmanually install dependencies using either !pip or !apt.\n\nTo view examples of installing some common dependencies, click the\n\"Open Examples\" button below.\n\u001b[0;31m---------------------------------------------------------------------------\u001b[0m\n"
          ],
          "errorDetails": {
            "actions": [
              {
                "action": "open_url",
                "actionText": "Open Examples",
                "url": "/notebooks/snippets/importing_libraries.ipynb"
              }
            ]
          }
        }
      ]
    },
    {
      "cell_type": "code",
      "source": [
        "from ccc import Corpora"
      ],
      "metadata": {
        "colab": {
          "base_uri": "https://localhost:8080/",
          "height": 564
        },
        "id": "eiTpx0n3CDHs",
        "outputId": "db01c5f9-f95e-4b0e-995f-283b0137777a"
      },
      "execution_count": null,
      "outputs": [
        {
          "output_type": "error",
          "ename": "ImportError",
          "evalue": "libcl.so: cannot open shared object file: No such file or directory",
          "traceback": [
            "\u001b[0;31m---------------------------------------------------------------------------\u001b[0m",
            "\u001b[0;31mImportError\u001b[0m                               Traceback (most recent call last)",
            "\u001b[0;32m<ipython-input-22-1d22aac96072>\u001b[0m in \u001b[0;36m<cell line: 1>\u001b[0;34m()\u001b[0m\n\u001b[0;32m----> 1\u001b[0;31m \u001b[0;32mfrom\u001b[0m \u001b[0mccc\u001b[0m \u001b[0;32mimport\u001b[0m \u001b[0mCorpora\u001b[0m\u001b[0;34m\u001b[0m\u001b[0;34m\u001b[0m\u001b[0m\n\u001b[0m",
            "\u001b[0;32m/usr/local/lib/python3.10/dist-packages/ccc/__init__.py\u001b[0m in \u001b[0;36m<module>\u001b[0;34m\u001b[0m\n\u001b[1;32m      5\u001b[0m \"\"\"\n\u001b[1;32m      6\u001b[0m \u001b[0;34m\u001b[0m\u001b[0m\n\u001b[0;32m----> 7\u001b[0;31m \u001b[0;32mfrom\u001b[0m \u001b[0;34m.\u001b[0m\u001b[0mcwb\u001b[0m \u001b[0;32mimport\u001b[0m \u001b[0mCorpora\u001b[0m\u001b[0;34m,\u001b[0m \u001b[0mCorpus\u001b[0m\u001b[0;34m,\u001b[0m \u001b[0mSubCorpus\u001b[0m\u001b[0;34m\u001b[0m\u001b[0;34m\u001b[0m\u001b[0m\n\u001b[0m\u001b[1;32m      8\u001b[0m \u001b[0;32mfrom\u001b[0m \u001b[0;34m.\u001b[0m\u001b[0mversion\u001b[0m \u001b[0;32mimport\u001b[0m \u001b[0m__version__\u001b[0m\u001b[0;34m\u001b[0m\u001b[0;34m\u001b[0m\u001b[0m\n",
            "\u001b[0;32m/usr/local/lib/python3.10/dist-packages/ccc/cwb.py\u001b[0m in \u001b[0;36m<module>\u001b[0;34m\u001b[0m\n\u001b[1;32m     17\u001b[0m \u001b[0;31m# part of module\u001b[0m\u001b[0;34m\u001b[0m\u001b[0;34m\u001b[0m\u001b[0m\n\u001b[1;32m     18\u001b[0m \u001b[0;32mfrom\u001b[0m \u001b[0;34m.\u001b[0m\u001b[0mcache\u001b[0m \u001b[0;32mimport\u001b[0m \u001b[0mCache\u001b[0m\u001b[0;34m,\u001b[0m \u001b[0mgenerate_idx\u001b[0m\u001b[0;34m,\u001b[0m \u001b[0mgenerate_library_idx\u001b[0m\u001b[0;34m\u001b[0m\u001b[0;34m\u001b[0m\u001b[0m\n\u001b[0;32m---> 19\u001b[0;31m \u001b[0;32mfrom\u001b[0m \u001b[0;34m.\u001b[0m\u001b[0mcl\u001b[0m \u001b[0;32mimport\u001b[0m \u001b[0mCorpus\u001b[0m \u001b[0;32mas\u001b[0m \u001b[0mAttributes\u001b[0m\u001b[0;34m\u001b[0m\u001b[0;34m\u001b[0m\u001b[0m\n\u001b[0m\u001b[1;32m     20\u001b[0m \u001b[0;32mfrom\u001b[0m \u001b[0;34m.\u001b[0m\u001b[0mcollocates\u001b[0m \u001b[0;32mimport\u001b[0m \u001b[0mCollocates\u001b[0m\u001b[0;34m\u001b[0m\u001b[0;34m\u001b[0m\u001b[0m\n\u001b[1;32m     21\u001b[0m \u001b[0;32mfrom\u001b[0m \u001b[0;34m.\u001b[0m\u001b[0mconcordances\u001b[0m \u001b[0;32mimport\u001b[0m \u001b[0mConcordance\u001b[0m\u001b[0;34m\u001b[0m\u001b[0;34m\u001b[0m\u001b[0m\n",
            "\u001b[0;31mImportError\u001b[0m: libcl.so: cannot open shared object file: No such file or directory",
            "",
            "\u001b[0;31m---------------------------------------------------------------------------\u001b[0;32m\nNOTE: If your import is failing due to a missing package, you can\nmanually install dependencies using either !pip or !apt.\n\nTo view examples of installing some common dependencies, click the\n\"Open Examples\" button below.\n\u001b[0;31m---------------------------------------------------------------------------\u001b[0m\n"
          ],
          "errorDetails": {
            "actions": [
              {
                "action": "open_url",
                "actionText": "Open Examples",
                "url": "/notebooks/snippets/importing_libraries.ipynb"
              }
            ]
          }
        }
      ]
    },
    {
      "cell_type": "markdown",
      "source": [
        "### Experiments with cwb-ccc\n",
        "From the webpage\n"
      ],
      "metadata": {
        "id": "6lulNEGl9zlR"
      }
    },
    {
      "cell_type": "code",
      "source": [
        "from ccc import Corpora\n",
        "corpora = Corpora(registry_path=\"/usr/local/share/cwb/registry/\")\n",
        "# corpora = Corpora(\"/content/Dickens-1.0/registry\")\n",
        "print(corpora)\n",
        "corpora.show()  # returns a DataFrame"
      ],
      "metadata": {
        "id": "_ls1FlVLl-U9",
        "colab": {
          "base_uri": "https://localhost:8080/",
          "height": 633
        },
        "outputId": "fc065c94-6e85-4283-d6f8-2d1185ae6425"
      },
      "execution_count": null,
      "outputs": [
        {
          "output_type": "error",
          "ename": "ImportError",
          "evalue": "libcl.so: cannot open shared object file: No such file or directory",
          "traceback": [
            "\u001b[0;31m---------------------------------------------------------------------------\u001b[0m",
            "\u001b[0;31mImportError\u001b[0m                               Traceback (most recent call last)",
            "\u001b[0;32m<ipython-input-21-c9eb56069df8>\u001b[0m in \u001b[0;36m<cell line: 1>\u001b[0;34m()\u001b[0m\n\u001b[0;32m----> 1\u001b[0;31m \u001b[0;32mfrom\u001b[0m \u001b[0mccc\u001b[0m \u001b[0;32mimport\u001b[0m \u001b[0mCorpora\u001b[0m\u001b[0;34m\u001b[0m\u001b[0;34m\u001b[0m\u001b[0m\n\u001b[0m\u001b[1;32m      2\u001b[0m \u001b[0mcorpora\u001b[0m \u001b[0;34m=\u001b[0m \u001b[0mCorpora\u001b[0m\u001b[0;34m(\u001b[0m\u001b[0mregistry_path\u001b[0m\u001b[0;34m=\u001b[0m\u001b[0;34m\"/usr/local/share/cwb/registry/\"\u001b[0m\u001b[0;34m)\u001b[0m\u001b[0;34m\u001b[0m\u001b[0;34m\u001b[0m\u001b[0m\n\u001b[1;32m      3\u001b[0m \u001b[0;31m# corpora = Corpora(\"/content/Dickens-1.0/registry\")\u001b[0m\u001b[0;34m\u001b[0m\u001b[0;34m\u001b[0m\u001b[0m\n\u001b[1;32m      4\u001b[0m \u001b[0mprint\u001b[0m\u001b[0;34m(\u001b[0m\u001b[0mcorpora\u001b[0m\u001b[0;34m)\u001b[0m\u001b[0;34m\u001b[0m\u001b[0;34m\u001b[0m\u001b[0m\n\u001b[1;32m      5\u001b[0m \u001b[0mcorpora\u001b[0m\u001b[0;34m.\u001b[0m\u001b[0mshow\u001b[0m\u001b[0;34m(\u001b[0m\u001b[0;34m)\u001b[0m  \u001b[0;31m# returns a DataFrame\u001b[0m\u001b[0;34m\u001b[0m\u001b[0;34m\u001b[0m\u001b[0m\n",
            "\u001b[0;32m/usr/local/lib/python3.10/dist-packages/ccc/__init__.py\u001b[0m in \u001b[0;36m<module>\u001b[0;34m\u001b[0m\n\u001b[1;32m      5\u001b[0m \"\"\"\n\u001b[1;32m      6\u001b[0m \u001b[0;34m\u001b[0m\u001b[0m\n\u001b[0;32m----> 7\u001b[0;31m \u001b[0;32mfrom\u001b[0m \u001b[0;34m.\u001b[0m\u001b[0mcwb\u001b[0m \u001b[0;32mimport\u001b[0m \u001b[0mCorpora\u001b[0m\u001b[0;34m,\u001b[0m \u001b[0mCorpus\u001b[0m\u001b[0;34m,\u001b[0m \u001b[0mSubCorpus\u001b[0m\u001b[0;34m\u001b[0m\u001b[0;34m\u001b[0m\u001b[0m\n\u001b[0m\u001b[1;32m      8\u001b[0m \u001b[0;32mfrom\u001b[0m \u001b[0;34m.\u001b[0m\u001b[0mversion\u001b[0m \u001b[0;32mimport\u001b[0m \u001b[0m__version__\u001b[0m\u001b[0;34m\u001b[0m\u001b[0;34m\u001b[0m\u001b[0m\n",
            "\u001b[0;32m/usr/local/lib/python3.10/dist-packages/ccc/cwb.py\u001b[0m in \u001b[0;36m<module>\u001b[0;34m\u001b[0m\n\u001b[1;32m     17\u001b[0m \u001b[0;31m# part of module\u001b[0m\u001b[0;34m\u001b[0m\u001b[0;34m\u001b[0m\u001b[0m\n\u001b[1;32m     18\u001b[0m \u001b[0;32mfrom\u001b[0m \u001b[0;34m.\u001b[0m\u001b[0mcache\u001b[0m \u001b[0;32mimport\u001b[0m \u001b[0mCache\u001b[0m\u001b[0;34m,\u001b[0m \u001b[0mgenerate_idx\u001b[0m\u001b[0;34m,\u001b[0m \u001b[0mgenerate_library_idx\u001b[0m\u001b[0;34m\u001b[0m\u001b[0;34m\u001b[0m\u001b[0m\n\u001b[0;32m---> 19\u001b[0;31m \u001b[0;32mfrom\u001b[0m \u001b[0;34m.\u001b[0m\u001b[0mcl\u001b[0m \u001b[0;32mimport\u001b[0m \u001b[0mCorpus\u001b[0m \u001b[0;32mas\u001b[0m \u001b[0mAttributes\u001b[0m\u001b[0;34m\u001b[0m\u001b[0;34m\u001b[0m\u001b[0m\n\u001b[0m\u001b[1;32m     20\u001b[0m \u001b[0;32mfrom\u001b[0m \u001b[0;34m.\u001b[0m\u001b[0mcollocates\u001b[0m \u001b[0;32mimport\u001b[0m \u001b[0mCollocates\u001b[0m\u001b[0;34m\u001b[0m\u001b[0;34m\u001b[0m\u001b[0m\n\u001b[1;32m     21\u001b[0m \u001b[0;32mfrom\u001b[0m \u001b[0;34m.\u001b[0m\u001b[0mconcordances\u001b[0m \u001b[0;32mimport\u001b[0m \u001b[0mConcordance\u001b[0m\u001b[0;34m\u001b[0m\u001b[0;34m\u001b[0m\u001b[0m\n",
            "\u001b[0;31mImportError\u001b[0m: libcl.so: cannot open shared object file: No such file or directory",
            "",
            "\u001b[0;31m---------------------------------------------------------------------------\u001b[0;32m\nNOTE: If your import is failing due to a missing package, you can\nmanually install dependencies using either !pip or !apt.\n\nTo view examples of installing some common dependencies, click the\n\"Open Examples\" button below.\n\u001b[0;31m---------------------------------------------------------------------------\u001b[0m\n"
          ],
          "errorDetails": {
            "actions": [
              {
                "action": "open_url",
                "actionText": "Open Examples",
                "url": "/notebooks/snippets/importing_libraries.ipynb"
              }
            ]
          }
        }
      ]
    },
    {
      "cell_type": "code",
      "source": [
        "corpus = corpora.activate(corpus_name=\"DICKENS\")"
      ],
      "metadata": {
        "id": "CE4ETsZY05pa"
      },
      "execution_count": null,
      "outputs": []
    },
    {
      "cell_type": "code",
      "source": [
        "from ccc import Corpus\n",
        "corpus = Corpus(\n",
        "  corpus_name=\"DICKENS\",\n",
        "  registry_path=\"/usr/local/share/cwb/registry/\"\n",
        ")"
      ],
      "metadata": {
        "id": "5SvuTHWO2biQ"
      },
      "execution_count": null,
      "outputs": []
    },
    {
      "cell_type": "code",
      "source": [
        "query = r'[word=\"[A-Z0-9][A-Z0-9][A-Z0-9]+\"]'\n",
        "dump = corpus.query(query)"
      ],
      "metadata": {
        "id": "bG0YV4eJ2nxd"
      },
      "execution_count": null,
      "outputs": []
    },
    {
      "cell_type": "code",
      "source": [
        "dump.df"
      ],
      "metadata": {
        "id": "SEduaqw7HJop"
      },
      "execution_count": null,
      "outputs": []
    },
    {
      "cell_type": "code",
      "source": [
        "corpus.attributes_available"
      ],
      "metadata": {
        "id": "Huvnn6YNCnJK"
      },
      "execution_count": null,
      "outputs": []
    },
    {
      "cell_type": "code",
      "source": [
        "query = r'\"question\"'\n",
        "dump = corpus.query(query)"
      ],
      "metadata": {
        "id": "aXdYciaqDRZU"
      },
      "execution_count": null,
      "outputs": []
    },
    {
      "cell_type": "code",
      "source": [
        "dump.df"
      ],
      "metadata": {
        "id": "TdAvtzWAEBJG"
      },
      "execution_count": null,
      "outputs": []
    },
    {
      "cell_type": "code",
      "source": [
        "dump = corpus.query(\n",
        "  cqp_query=query,\n",
        "  context=20,\n",
        "  context_break='s'\n",
        ")"
      ],
      "metadata": {
        "id": "eEP_kTV5Elik"
      },
      "execution_count": null,
      "outputs": []
    },
    {
      "cell_type": "code",
      "source": [
        "dump.df"
      ],
      "metadata": {
        "id": "aXiyEK_wFrIe"
      },
      "execution_count": null,
      "outputs": []
    },
    {
      "cell_type": "code",
      "source": [
        "dump.set_context(\n",
        "    context_left=5,\n",
        "    context_right=10,\n",
        "    context_break='s'\n",
        ")"
      ],
      "metadata": {
        "id": "vnRPzZXwGtxb"
      },
      "execution_count": null,
      "outputs": []
    },
    {
      "cell_type": "code",
      "source": [
        "dump.df"
      ],
      "metadata": {
        "id": "wav8P_RPGwZ2"
      },
      "execution_count": null,
      "outputs": []
    },
    {
      "cell_type": "code",
      "source": [
        "dump.breakdown()"
      ],
      "metadata": {
        "id": "9y-q9SdRGz05"
      },
      "execution_count": null,
      "outputs": []
    },
    {
      "cell_type": "code",
      "source": [
        "dump.concordance()"
      ],
      "metadata": {
        "id": "Ds3ZK761L3iY"
      },
      "execution_count": null,
      "outputs": []
    },
    {
      "cell_type": "code",
      "source": [
        "dump.concordance(p_show=[\"word\", \"lemma\"], s_show=[\"text_id\"])"
      ],
      "metadata": {
        "id": "ikj5RzFeMqWt"
      },
      "execution_count": null,
      "outputs": []
    },
    {
      "cell_type": "code",
      "source": [
        "dump.concordance(form=\"kwic\")"
      ],
      "metadata": {
        "id": "fESAxu9uM792"
      },
      "execution_count": null,
      "outputs": []
    },
    {
      "cell_type": "code",
      "source": [
        "lines = dump.concordance(\n",
        "    p_show=['word', 'pos', 'lemma'],\n",
        "    form='dataframe'\n",
        ")"
      ],
      "metadata": {
        "id": "BG0UltJXNFLD"
      },
      "execution_count": null,
      "outputs": []
    },
    {
      "cell_type": "code",
      "source": [
        "lines.iloc[0]['dataframe']"
      ],
      "metadata": {
        "id": "sCI08tY8T94n"
      },
      "execution_count": null,
      "outputs": []
    },
    {
      "cell_type": "code",
      "source": [
        "type(lines.iloc[2]['dataframe'])"
      ],
      "metadata": {
        "id": "kShVkg2CfgiB"
      },
      "execution_count": null,
      "outputs": []
    },
    {
      "cell_type": "code",
      "source": [
        "lines = dump.concordance(\n",
        "    p_show=['word', 'pos', 'lemma'],\n",
        "    form='dict'\n",
        ")"
      ],
      "metadata": {
        "id": "Btv0RCr-iMq-"
      },
      "execution_count": null,
      "outputs": []
    },
    {
      "cell_type": "code",
      "source": [
        "lines.iloc[0]['dict']"
      ],
      "metadata": {
        "id": "mqjx_VY1qsms"
      },
      "execution_count": null,
      "outputs": []
    },
    {
      "cell_type": "code",
      "source": [
        "lines = dump.concordance(\n",
        "    p_show=['word', 'pos', 'lemma'],\n",
        "    form='slots'\n",
        ")"
      ],
      "metadata": {
        "id": "A0CF_QFyrCoh"
      },
      "execution_count": null,
      "outputs": []
    },
    {
      "cell_type": "code",
      "source": [
        "lines.iloc[0]"
      ],
      "metadata": {
        "id": "h9RjA-pGHuZF",
        "colab": {
          "base_uri": "https://localhost:8080/"
        },
        "outputId": "922439dd-dab9-4a86-da20-ff15b8e2c7df"
      },
      "execution_count": null,
      "outputs": [
        {
          "output_type": "execute_result",
          "data": {
            "text/plain": [
              "word                     Scrooge asked the question , because he did n'...\n",
              "pos                             NN VBD DT NN , IN PP VBD RB VB IN DT NN RB\n",
              "lemma                    Scrooge ask the question , because he do not k...\n",
              "match..matchend_word                                              question\n",
              "match..matchend_pos                                                     NN\n",
              "match..matchend_lemma                                             question\n",
              "Name: (5614, 5614), dtype: object"
            ]
          },
          "metadata": {},
          "execution_count": 22
        }
      ]
    },
    {
      "cell_type": "code",
      "source": [
        "lines.iloc[0]['lemma']"
      ],
      "metadata": {
        "id": "pWWpjMrnrNdj",
        "colab": {
          "base_uri": "https://localhost:8080/",
          "height": 37
        },
        "outputId": "c3867db9-e7af-45ef-c052-4c3230555846"
      },
      "execution_count": null,
      "outputs": [
        {
          "output_type": "execute_result",
          "data": {
            "application/vnd.google.colaboratory.intrinsic+json": {
              "type": "string"
            },
            "text/plain": [
              "'Scrooge ask the question , because he do not know whether a ghost so'"
            ]
          },
          "metadata": {},
          "execution_count": 23
        }
      ]
    },
    {
      "cell_type": "code",
      "source": [
        "dump = corpus.query(\n",
        "  cqp_query=r'@1[pos=\"D.*\"] @2[pos=\"NN\"] @3[word=\"question\"]',\n",
        "  context=None,\n",
        "  context_break='s',\n",
        "  match_strategy='longest'\n",
        ")\n",
        "lines = dump.concordance(form='dataframe')"
      ],
      "metadata": {
        "id": "aRnleZo6rvgN"
      },
      "execution_count": null,
      "outputs": []
    },
    {
      "cell_type": "code",
      "source": [
        "lines.iloc[1]['dataframe']"
      ],
      "metadata": {
        "id": "MnqLwcSHtIvK"
      },
      "execution_count": null,
      "outputs": []
    },
    {
      "cell_type": "code",
      "source": [
        "lines = dump.concordance(form='dict')"
      ],
      "metadata": {
        "id": "7zLLZRAGts3t"
      },
      "execution_count": null,
      "outputs": []
    },
    {
      "cell_type": "code",
      "source": [
        "lines.iloc[1]['dict']"
      ],
      "metadata": {
        "id": "J--lQCDktzDR"
      },
      "execution_count": null,
      "outputs": []
    },
    {
      "cell_type": "code",
      "source": [
        "lines = dump.concordance(\n",
        "  form='slots',\n",
        "  p_show=['word', 'lemma'],\n",
        "  slots={\"article\": [1], \"np\": [2, 3]}\n",
        ")"
      ],
      "metadata": {
        "id": "TEqoBL7KuA0Q"
      },
      "execution_count": null,
      "outputs": []
    },
    {
      "cell_type": "code",
      "source": [
        "lines"
      ],
      "metadata": {
        "id": "K6agGHvkupFa"
      },
      "execution_count": null,
      "outputs": []
    },
    {
      "cell_type": "code",
      "source": [
        "dump.correct_anchors({2: -2, 3: +1})\n",
        "lines = dump.concordance(\n",
        "  form='slots',\n",
        "  slots={\"art\": [1],\n",
        "  \"np\": [2, 3]}\n",
        ")"
      ],
      "metadata": {
        "id": "GxMthnEXu4RS"
      },
      "execution_count": null,
      "outputs": []
    },
    {
      "cell_type": "code",
      "source": [
        "lines"
      ],
      "metadata": {
        "id": "n5Hky4vSvZ6E"
      },
      "execution_count": null,
      "outputs": []
    },
    {
      "cell_type": "code",
      "source": [
        "dump = corpus.query(\n",
        "    '[lemma=\"question\"]',\n",
        "    context=10,\n",
        "    context_break='s'\n",
        ")"
      ],
      "metadata": {
        "id": "L_cz5_mny4XZ"
      },
      "execution_count": null,
      "outputs": []
    },
    {
      "cell_type": "code",
      "source": [
        "dump.collocates(order='log_likelihood')"
      ],
      "metadata": {
        "id": "RLk9NlIrzS1m"
      },
      "execution_count": null,
      "outputs": []
    },
    {
      "cell_type": "code",
      "source": [
        "dump = corpus.query(\n",
        "    '[lemma=\"answer\"]',\n",
        "    context=10,\n",
        "    context_break='s'\n",
        ")"
      ],
      "metadata": {
        "id": "Mx5JnkG40YfS"
      },
      "execution_count": null,
      "outputs": []
    },
    {
      "cell_type": "code",
      "source": [
        "dump.collocates(p_query=['lemma'], order='conservative_log_ratio')\n",
        "# ['lemma', 'pos']"
      ],
      "metadata": {
        "id": "ZvbF3NMgz-ma"
      },
      "execution_count": null,
      "outputs": []
    },
    {
      "cell_type": "code",
      "source": [
        "corpus.query('[lemma=\"question\" & pos=\"N.*\"]').breakdown()"
      ],
      "metadata": {
        "id": "DSj0WaM6zhmp"
      },
      "execution_count": null,
      "outputs": []
    },
    {
      "cell_type": "code",
      "source": [
        "# https://pypi.org/project/cwb-ccc/#anchored-queries"
      ],
      "metadata": {
        "id": "d3vWtAL-v0Y4"
      },
      "execution_count": null,
      "outputs": []
    },
    {
      "cell_type": "code",
      "source": [
        "%tb"
      ],
      "metadata": {
        "colab": {
          "base_uri": "https://localhost:8080/"
        },
        "id": "u9c1bxAHseaX",
        "outputId": "9c6a639d-33a2-4f67-f4e9-c27f67db491c"
      },
      "execution_count": null,
      "outputs": [
        {
          "output_type": "stream",
          "name": "stderr",
          "text": [
            "No traceback available to show.\n"
          ]
        }
      ]
    },
    {
      "cell_type": "code",
      "source": [
        "# !export CWB_DIR=/usr/local/cwb-3.4.10\n",
        "# /usr/local/cwb-3.4.22/bin"
      ],
      "metadata": {
        "id": "KqxsSReWsTnd"
      },
      "execution_count": null,
      "outputs": []
    },
    {
      "cell_type": "code",
      "source": [
        "# !python --version"
      ],
      "metadata": {
        "id": "GdqTG_2BvkTq"
      },
      "execution_count": null,
      "outputs": []
    },
    {
      "cell_type": "markdown",
      "source": [
        "### todo:\n",
        "1. to add corpus lemmatization & encoding parts\n",
        "2. to add generation of interesting collocations, exporting them as lists\n",
        "3. to add parallel corpus functionality\n"
      ],
      "metadata": {
        "id": "Ou8wY0JrIvmK"
      }
    },
    {
      "cell_type": "markdown",
      "source": [
        "## Building own corpus\n",
        "Europarl 8M EN (DE):\n",
        "https://heibox.uni-heidelberg.de/f/0e1fcda2b7bc494d83b8/?dl=1\n",
        "ep_en_de.txt\n",
        "\n",
        "- Create a data directory where files in the binary CWB format will be stored. Here, we assume that this directory is called /corpora/data/example. If this directory already exists and contains corpus data (from a previous version), you should delete all files in the directory. NB: You need a separate data directory for each corpus you want to encode.\n",
        "- Choose a registry directory, where all encoded corpora have to be registered to make them accessible to the CWB tools. It is recommended that you use the default registry directory /usr/local/share/cwb/registry. Otherwise,youwillhavetospecifythepathtoyourregistry directory with a -r flag whenever you invoke one of the CWB tools (or set an appropriate environment variable, see below). In the example commands in this manual, we assume that you use the standard registry directory.\n",
        "- The next step is to encode the corpus, i.e. convert the verticalized text to CWB binary format with the cwb-encode tool. Note that the command below has to be entered on a single line.\n",
        "\n",
        "\n",
        "```\n",
        "$ cwb-encode -d /corpora/data/example\n",
        "                      -xsBC9 -c ascii -f example.vrt\n",
        "                      -R /usr/local/share/cwb/registry/example\n",
        "                      -P pos -P lemma -S s\n",
        "```\n",
        "from: https://cwb.sourceforge.io/files/CWB_Encoding_Tutorial.pdf\n"
      ],
      "metadata": {
        "id": "EgegHjE4yUIl"
      }
    },
    {
      "cell_type": "markdown",
      "source": [
        "Cleanup ... (if needed to reinstall)"
      ],
      "metadata": {
        "id": "6ZxWvnWk1GSN"
      }
    },
    {
      "cell_type": "code",
      "source": [
        "rm -r EP"
      ],
      "metadata": {
        "id": "IYrY62pj00Pb"
      },
      "execution_count": null,
      "outputs": []
    },
    {
      "cell_type": "code",
      "source": [
        "rm -r corpepen/"
      ],
      "metadata": {
        "id": "spizUeMo061P"
      },
      "execution_count": null,
      "outputs": []
    },
    {
      "cell_type": "code",
      "source": [
        "rm /usr/local/share/cwb/registry/corpepen"
      ],
      "metadata": {
        "id": "gjhTIwnI09R2"
      },
      "execution_count": null,
      "outputs": []
    },
    {
      "cell_type": "markdown",
      "source": [
        "downloading EP data"
      ],
      "metadata": {
        "id": "_jc0IzD51LQy"
      }
    },
    {
      "cell_type": "code",
      "source": [
        "# !wget https://heibox.uni-heidelberg.de/f/0e1fcda2b7bc494d83b8/?dl=1\n",
        "!wget https://heibox.uni-heidelberg.de/f/0e1fcda2b7bc494d83b8/?dl=1"
      ],
      "metadata": {
        "id": "eF3ueOXszN6-"
      },
      "execution_count": null,
      "outputs": []
    },
    {
      "cell_type": "code",
      "source": [
        "!mkdir EP"
      ],
      "metadata": {
        "id": "VgAnBc6gbG1k"
      },
      "execution_count": null,
      "outputs": []
    },
    {
      "cell_type": "code",
      "source": [
        "!mv index.html?dl=1 EP/ep_en_de1.txt"
      ],
      "metadata": {
        "id": "l4DF9yPo2R5b"
      },
      "execution_count": null,
      "outputs": []
    },
    {
      "cell_type": "code",
      "source": [
        "FIn = open('EP/ep_en_de1.txt', 'r')\n",
        "FOut = open('EP/ep_en_de.txt', 'w')\n",
        "for SLine in FIn:\n",
        "    SLine = SLine.strip()\n",
        "    SLine = SLine.lower()\n",
        "    FOut.write(SLine + '\\n')\n",
        "\n",
        "FOut.flush()\n"
      ],
      "metadata": {
        "id": "0LbouwOr2U_d"
      },
      "execution_count": null,
      "outputs": []
    },
    {
      "cell_type": "code",
      "source": [
        "!head --lines=100 EP/ep_en_de.txt >ep_en_de_100.txt"
      ],
      "metadata": {
        "id": "25sz42kN11EG"
      },
      "execution_count": null,
      "outputs": []
    },
    {
      "cell_type": "code",
      "source": [
        "!mkdir corpepen"
      ],
      "metadata": {
        "id": "cAfy1VX_2cJB"
      },
      "execution_count": null,
      "outputs": []
    },
    {
      "cell_type": "markdown",
      "source": [
        "encoding corpus"
      ],
      "metadata": {
        "id": "FijWQJxB3H5R"
      }
    },
    {
      "cell_type": "code",
      "source": [
        "!cwb-encode -d /content/corpepen -xsBC9 -c utf8 -f /content/EP/ep_en_de.txt -R /usr/local/share/cwb/registry/corpepen 2>&1"
      ],
      "metadata": {
        "id": "dwDPFUJI24HZ"
      },
      "execution_count": null,
      "outputs": []
    },
    {
      "cell_type": "code",
      "source": [
        "!cwb-makeall --help"
      ],
      "metadata": {
        "id": "q7RC85VF8l8b"
      },
      "execution_count": null,
      "outputs": []
    },
    {
      "cell_type": "code",
      "source": [
        "!cwb-makeall -V CORPEPEN"
      ],
      "metadata": {
        "id": "XI4jNDzw8kNg"
      },
      "execution_count": null,
      "outputs": []
    },
    {
      "cell_type": "code",
      "source": [
        "%tb"
      ],
      "metadata": {
        "id": "6SbEUjOr589I",
        "colab": {
          "base_uri": "https://localhost:8080/"
        },
        "outputId": "96c1b942-ae22-4466-8722-9f140e61a1a7"
      },
      "execution_count": null,
      "outputs": [
        {
          "output_type": "stream",
          "name": "stderr",
          "text": [
            "No traceback available to show.\n"
          ]
        }
      ]
    },
    {
      "cell_type": "code",
      "source": [
        "!cwb-describe-corpus corpepen"
      ],
      "metadata": {
        "id": "5T6-wewX6z9p"
      },
      "execution_count": null,
      "outputs": []
    },
    {
      "cell_type": "code",
      "source": [
        "# try these commands in the interactive prompt (just copy and paste them):\n",
        "# CORPEPEN;\n",
        "# \"question\";\n",
        "# \"of\";\n",
        "# q\n",
        "# exit;\n",
        "!cqp -e"
      ],
      "metadata": {
        "colab": {
          "base_uri": "https://localhost:8080/"
        },
        "id": "kvKd9btj5UVi",
        "outputId": "f2ec50ca-0f7d-4293-f79e-e645377784b4"
      },
      "execution_count": null,
      "outputs": [
        {
          "output_type": "stream",
          "name": "stdout",
          "text": [
            "\u001b[m[no corpus]> CORPEPEN;\n",
            "\u001b[mCORPEPEN> \"question\";\n",
            "      122: oncern inadmissibility my <\u001b[m\u001b[7mquestion\u001b[m> relate to something that\u001b[m\u001b[m\n",
            "      513: ing on this matter on the <\u001b[m\u001b[7mquestion\u001b[m> of the strategic plan of\u001b[m\u001b[m\n",
            "     4825: st the european union the <\u001b[m\u001b[7mquestion\u001b[m> be who prosecute that be\u001b[m\u001b[m\n",
            "     5003: e at the moment the whole <\u001b[m\u001b[7mquestion\u001b[m> as to whether we have th\u001b[m\u001b[m\n",
            "     5046: ission should tackle this <\u001b[m\u001b[7mquestion\u001b[m> we be aware that it be a\u001b[m\u001b[m\n",
            "     7039: say in her remark but the <\u001b[m\u001b[7mquestion\u001b[m> be how long will it take\u001b[m\u001b[m\n",
            "    10935: ue relate to and surround <\u001b[m\u001b[7mquestion\u001b[m> of liability despite my \u001b[m\u001b[m\n",
            "    11144: behrendt have ask me this <\u001b[m\u001b[7mquestion\u001b[m> before and i say i think\u001b[m\u001b[m\n",
            "    11184:  next time you ask me the <\u001b[m\u001b[7mquestion\u001b[m> i will be in a position \u001b[m\u001b[m\n",
            "    11717: mr florenz also raise the <\u001b[m\u001b[7mquestion\u001b[m> of anonymity i be happy \u001b[m\u001b[m\n",
            "    11899:  tooth i suspect that the <\u001b[m\u001b[7mquestion\u001b[m> be focus on the issue of\u001b[m\u001b[m\n",
            "    12266:  address over time be the <\u001b[m\u001b[7mquestion\u001b[m> of the speed of response\u001b[m\u001b[m\n",
            "    12351:  in relation to mrs lynne <\u001b[m\u001b[7mquestion\u001b[m> on interim payment that \u001b[m\u001b[m\n",
            "    12748:  be cut back the time for <\u001b[m\u001b[7mquestion\u001b[m> time it be one of the fe\u001b[m\u001b[m\n",
            "    13461: hank you mr bowe for your <\u001b[m\u001b[7mquestion\u001b[m> the european commission \u001b[m\u001b[m\n",
            "    13934: hank you mr bowe for that <\u001b[m\u001b[7mquestion\u001b[m> we have to state again t\u001b[m\u001b[m\n",
            "    14325: he area i can answer that <\u001b[m\u001b[7mquestion\u001b[m> when it come to medical \u001b[m\u001b[m\n",
            "    15352:  the ombudsman there be a <\u001b[m\u001b[7mquestion\u001b[m> about the legislative ba\u001b[m\u001b[m\n",
            "    15388: urable member who ask the <\u001b[m\u001b[7mquestion\u001b[m> who take a particular in\u001b[m\u001b[m\n",
            "    15480: ound the only substantial <\u001b[m\u001b[7mquestion\u001b[m> that have arise be the l\u001b[m\u001b[m\n",
            "    15548: n about these development <\u001b[m\u001b[7mquestion\u001b[m> will know how important \u001b[m\u001b[m\n",
            "    19942: tion to that there be the <\u001b[m\u001b[7mquestion\u001b[m> of duty free that be a s\u001b[m\u001b[m\n",
            "    24561: oncession on the security <\u001b[m\u001b[7mquestion\u001b[m> then the prospect of a s\u001b[m\u001b[m\n",
            "\u001b[K\u001b[?1l\u001b>\u001b[mCORPEPEN> \n",
            "\u001b[mCORPEPEN> exit;\n",
            "\n",
            "Done. Share and enjoy!\n"
          ]
        }
      ]
    },
    {
      "cell_type": "code",
      "source": [
        "from ccc import Corpora\n",
        "corpora = Corpora(registry_path=\"/usr/local/share/cwb/registry/\")\n",
        "# corpora = Corpora(\"/content/Dickens-1.0/registry\")\n",
        "print(corpora)\n",
        "corpora.show()  # returns a DataFrame"
      ],
      "metadata": {
        "colab": {
          "base_uri": "https://localhost:8080/",
          "height": 246
        },
        "id": "3qHfCbt37DO3",
        "outputId": "1338ba94-f34d-40d7-af54-928538556ddd"
      },
      "execution_count": null,
      "outputs": [
        {
          "output_type": "stream",
          "name": "stdout",
          "text": [
            "\n",
            "registry path: \"/usr/local/share/cwb/registry/\"\n",
            "cqp binary   : \"cqp\"\n",
            "found 1 corpora:\n",
            "             size\n",
            "corpus           \n",
            "CORPEPEN  7281561\n"
          ]
        },
        {
          "output_type": "execute_result",
          "data": {
            "text/html": [
              "\n",
              "  <div id=\"df-ea983a05-120b-4e59-899f-258836ee1ad6\">\n",
              "    <div class=\"colab-df-container\">\n",
              "      <div>\n",
              "<style scoped>\n",
              "    .dataframe tbody tr th:only-of-type {\n",
              "        vertical-align: middle;\n",
              "    }\n",
              "\n",
              "    .dataframe tbody tr th {\n",
              "        vertical-align: top;\n",
              "    }\n",
              "\n",
              "    .dataframe thead th {\n",
              "        text-align: right;\n",
              "    }\n",
              "</style>\n",
              "<table border=\"1\" class=\"dataframe\">\n",
              "  <thead>\n",
              "    <tr style=\"text-align: right;\">\n",
              "      <th></th>\n",
              "      <th>size</th>\n",
              "    </tr>\n",
              "    <tr>\n",
              "      <th>corpus</th>\n",
              "      <th></th>\n",
              "    </tr>\n",
              "  </thead>\n",
              "  <tbody>\n",
              "    <tr>\n",
              "      <th>CORPEPEN</th>\n",
              "      <td>7281561</td>\n",
              "    </tr>\n",
              "  </tbody>\n",
              "</table>\n",
              "</div>\n",
              "      <button class=\"colab-df-convert\" onclick=\"convertToInteractive('df-ea983a05-120b-4e59-899f-258836ee1ad6')\"\n",
              "              title=\"Convert this dataframe to an interactive table.\"\n",
              "              style=\"display:none;\">\n",
              "        \n",
              "  <svg xmlns=\"http://www.w3.org/2000/svg\" height=\"24px\"viewBox=\"0 0 24 24\"\n",
              "       width=\"24px\">\n",
              "    <path d=\"M0 0h24v24H0V0z\" fill=\"none\"/>\n",
              "    <path d=\"M18.56 5.44l.94 2.06.94-2.06 2.06-.94-2.06-.94-.94-2.06-.94 2.06-2.06.94zm-11 1L8.5 8.5l.94-2.06 2.06-.94-2.06-.94L8.5 2.5l-.94 2.06-2.06.94zm10 10l.94 2.06.94-2.06 2.06-.94-2.06-.94-.94-2.06-.94 2.06-2.06.94z\"/><path d=\"M17.41 7.96l-1.37-1.37c-.4-.4-.92-.59-1.43-.59-.52 0-1.04.2-1.43.59L10.3 9.45l-7.72 7.72c-.78.78-.78 2.05 0 2.83L4 21.41c.39.39.9.59 1.41.59.51 0 1.02-.2 1.41-.59l7.78-7.78 2.81-2.81c.8-.78.8-2.07 0-2.86zM5.41 20L4 18.59l7.72-7.72 1.47 1.35L5.41 20z\"/>\n",
              "  </svg>\n",
              "      </button>\n",
              "      \n",
              "  <style>\n",
              "    .colab-df-container {\n",
              "      display:flex;\n",
              "      flex-wrap:wrap;\n",
              "      gap: 12px;\n",
              "    }\n",
              "\n",
              "    .colab-df-convert {\n",
              "      background-color: #E8F0FE;\n",
              "      border: none;\n",
              "      border-radius: 50%;\n",
              "      cursor: pointer;\n",
              "      display: none;\n",
              "      fill: #1967D2;\n",
              "      height: 32px;\n",
              "      padding: 0 0 0 0;\n",
              "      width: 32px;\n",
              "    }\n",
              "\n",
              "    .colab-df-convert:hover {\n",
              "      background-color: #E2EBFA;\n",
              "      box-shadow: 0px 1px 2px rgba(60, 64, 67, 0.3), 0px 1px 3px 1px rgba(60, 64, 67, 0.15);\n",
              "      fill: #174EA6;\n",
              "    }\n",
              "\n",
              "    [theme=dark] .colab-df-convert {\n",
              "      background-color: #3B4455;\n",
              "      fill: #D2E3FC;\n",
              "    }\n",
              "\n",
              "    [theme=dark] .colab-df-convert:hover {\n",
              "      background-color: #434B5C;\n",
              "      box-shadow: 0px 1px 3px 1px rgba(0, 0, 0, 0.15);\n",
              "      filter: drop-shadow(0px 1px 2px rgba(0, 0, 0, 0.3));\n",
              "      fill: #FFFFFF;\n",
              "    }\n",
              "  </style>\n",
              "\n",
              "      <script>\n",
              "        const buttonEl =\n",
              "          document.querySelector('#df-ea983a05-120b-4e59-899f-258836ee1ad6 button.colab-df-convert');\n",
              "        buttonEl.style.display =\n",
              "          google.colab.kernel.accessAllowed ? 'block' : 'none';\n",
              "\n",
              "        async function convertToInteractive(key) {\n",
              "          const element = document.querySelector('#df-ea983a05-120b-4e59-899f-258836ee1ad6');\n",
              "          const dataTable =\n",
              "            await google.colab.kernel.invokeFunction('convertToInteractive',\n",
              "                                                     [key], {});\n",
              "          if (!dataTable) return;\n",
              "\n",
              "          const docLinkHtml = 'Like what you see? Visit the ' +\n",
              "            '<a target=\"_blank\" href=https://colab.research.google.com/notebooks/data_table.ipynb>data table notebook</a>'\n",
              "            + ' to learn more about interactive tables.';\n",
              "          element.innerHTML = '';\n",
              "          dataTable['output_type'] = 'display_data';\n",
              "          await google.colab.output.renderOutput(dataTable, element);\n",
              "          const docLink = document.createElement('div');\n",
              "          docLink.innerHTML = docLinkHtml;\n",
              "          element.appendChild(docLink);\n",
              "        }\n",
              "      </script>\n",
              "    </div>\n",
              "  </div>\n",
              "  "
            ],
            "text/plain": [
              "             size\n",
              "corpus           \n",
              "CORPEPEN  7281561"
            ]
          },
          "metadata": {},
          "execution_count": 14
        }
      ]
    },
    {
      "cell_type": "code",
      "source": [
        "corpus = corpora.activate(corpus_name=\"CORPEPEN\")"
      ],
      "metadata": {
        "id": "lYlpsI_S8jxh"
      },
      "execution_count": null,
      "outputs": []
    },
    {
      "cell_type": "code",
      "source": [
        "from ccc import Corpus\n",
        "corpus = Corpus(\n",
        "  corpus_name=\"CORPEPEN\",\n",
        "  registry_path=\"/usr/local/share/cwb/registry/\"\n",
        ")"
      ],
      "metadata": {
        "id": "uOfw-7u84r0X"
      },
      "execution_count": null,
      "outputs": []
    },
    {
      "cell_type": "code",
      "source": [],
      "metadata": {
        "id": "vc86l2Hk5ndI"
      },
      "execution_count": null,
      "outputs": []
    },
    {
      "cell_type": "code",
      "source": [
        "query = r'\"value\"'"
      ],
      "metadata": {
        "id": "sa0WlSYs5Yxm"
      },
      "execution_count": null,
      "outputs": []
    },
    {
      "cell_type": "code",
      "source": [
        "query = '[word=\"the\"]'"
      ],
      "metadata": {
        "id": "stCqdDpb6m6O"
      },
      "execution_count": null,
      "outputs": []
    },
    {
      "cell_type": "code",
      "source": [
        "dump = corpus.query(query)"
      ],
      "metadata": {
        "id": "z72hIb4e6GJZ"
      },
      "execution_count": null,
      "outputs": []
    },
    {
      "cell_type": "code",
      "source": [
        "dump = corpus.query(\n",
        "    '[word=\"quest.*\"]',\n",
        "    context=10\n",
        ")"
      ],
      "metadata": {
        "id": "pymIfw9v4phW"
      },
      "execution_count": null,
      "outputs": []
    },
    {
      "cell_type": "code",
      "source": [
        "lines = dump.concordance(\n",
        "    form='dict'\n",
        ")"
      ],
      "metadata": {
        "id": "NW8wN5g49_-l"
      },
      "execution_count": null,
      "outputs": []
    },
    {
      "cell_type": "code",
      "source": [
        "lines"
      ],
      "metadata": {
        "colab": {
          "base_uri": "https://localhost:8080/",
          "height": 450
        },
        "id": "k0auuXdA-Gja",
        "outputId": "bce5f170-637e-4717-c2bc-dba5bab7d695"
      },
      "execution_count": null,
      "outputs": [
        {
          "output_type": "execute_result",
          "data": {
            "text/html": [
              "\n",
              "  <div id=\"df-f87adf83-53ee-47ff-b67e-be0ec7ffe3cf\">\n",
              "    <div class=\"colab-df-container\">\n",
              "      <div>\n",
              "<style scoped>\n",
              "    .dataframe tbody tr th:only-of-type {\n",
              "        vertical-align: middle;\n",
              "    }\n",
              "\n",
              "    .dataframe tbody tr th {\n",
              "        vertical-align: top;\n",
              "    }\n",
              "\n",
              "    .dataframe thead th {\n",
              "        text-align: right;\n",
              "    }\n",
              "</style>\n",
              "<table border=\"1\" class=\"dataframe\">\n",
              "  <thead>\n",
              "    <tr style=\"text-align: right;\">\n",
              "      <th></th>\n",
              "      <th></th>\n",
              "      <th>context</th>\n",
              "      <th>contextend</th>\n",
              "      <th>dict</th>\n",
              "    </tr>\n",
              "    <tr>\n",
              "      <th>match</th>\n",
              "      <th>matchend</th>\n",
              "      <th></th>\n",
              "      <th></th>\n",
              "      <th></th>\n",
              "    </tr>\n",
              "  </thead>\n",
              "  <tbody>\n",
              "    <tr>\n",
              "      <th>2819</th>\n",
              "      <th>2819</th>\n",
              "      <td>2799</td>\n",
              "      <td>2839</td>\n",
              "      <td>{'cpos': [2799, 2800, 2801, 2802, 2803, 2804, ...</td>\n",
              "    </tr>\n",
              "    <tr>\n",
              "      <th>4589</th>\n",
              "      <th>4589</th>\n",
              "      <td>4569</td>\n",
              "      <td>4609</td>\n",
              "      <td>{'cpos': [4569, 4570, 4571, 4572, 4573, 4574, ...</td>\n",
              "    </tr>\n",
              "    <tr>\n",
              "      <th>15705</th>\n",
              "      <th>15705</th>\n",
              "      <td>15685</td>\n",
              "      <td>15725</td>\n",
              "      <td>{'cpos': [15685, 15686, 15687, 15688, 15689, 1...</td>\n",
              "    </tr>\n",
              "    <tr>\n",
              "      <th>22098</th>\n",
              "      <th>22098</th>\n",
              "      <td>22078</td>\n",
              "      <td>22118</td>\n",
              "      <td>{'cpos': [22078, 22079, 22080, 22081, 22082, 2...</td>\n",
              "    </tr>\n",
              "    <tr>\n",
              "      <th>23642</th>\n",
              "      <th>23642</th>\n",
              "      <td>23622</td>\n",
              "      <td>23662</td>\n",
              "      <td>{'cpos': [23622, 23623, 23624, 23625, 23626, 2...</td>\n",
              "    </tr>\n",
              "    <tr>\n",
              "      <th>...</th>\n",
              "      <th>...</th>\n",
              "      <td>...</td>\n",
              "      <td>...</td>\n",
              "      <td>...</td>\n",
              "    </tr>\n",
              "    <tr>\n",
              "      <th>372781</th>\n",
              "      <th>372781</th>\n",
              "      <td>372761</td>\n",
              "      <td>372801</td>\n",
              "      <td>{'cpos': [372761, 372762, 372763, 372764, 3727...</td>\n",
              "    </tr>\n",
              "    <tr>\n",
              "      <th>385062</th>\n",
              "      <th>385062</th>\n",
              "      <td>385042</td>\n",
              "      <td>385082</td>\n",
              "      <td>{'cpos': [385042, 385043, 385044, 385045, 3850...</td>\n",
              "    </tr>\n",
              "    <tr>\n",
              "      <th>386601</th>\n",
              "      <th>386601</th>\n",
              "      <td>386581</td>\n",
              "      <td>386621</td>\n",
              "      <td>{'cpos': [386581, 386582, 386583, 386584, 3865...</td>\n",
              "    </tr>\n",
              "    <tr>\n",
              "      <th>386658</th>\n",
              "      <th>386658</th>\n",
              "      <td>386638</td>\n",
              "      <td>386678</td>\n",
              "      <td>{'cpos': [386638, 386639, 386640, 386641, 3866...</td>\n",
              "    </tr>\n",
              "    <tr>\n",
              "      <th>391180</th>\n",
              "      <th>391180</th>\n",
              "      <td>391160</td>\n",
              "      <td>391200</td>\n",
              "      <td>{'cpos': [391160, 391161, 391162, 391163, 3911...</td>\n",
              "    </tr>\n",
              "  </tbody>\n",
              "</table>\n",
              "<p>100 rows × 3 columns</p>\n",
              "</div>\n",
              "      <button class=\"colab-df-convert\" onclick=\"convertToInteractive('df-f87adf83-53ee-47ff-b67e-be0ec7ffe3cf')\"\n",
              "              title=\"Convert this dataframe to an interactive table.\"\n",
              "              style=\"display:none;\">\n",
              "        \n",
              "  <svg xmlns=\"http://www.w3.org/2000/svg\" height=\"24px\"viewBox=\"0 0 24 24\"\n",
              "       width=\"24px\">\n",
              "    <path d=\"M0 0h24v24H0V0z\" fill=\"none\"/>\n",
              "    <path d=\"M18.56 5.44l.94 2.06.94-2.06 2.06-.94-2.06-.94-.94-2.06-.94 2.06-2.06.94zm-11 1L8.5 8.5l.94-2.06 2.06-.94-2.06-.94L8.5 2.5l-.94 2.06-2.06.94zm10 10l.94 2.06.94-2.06 2.06-.94-2.06-.94-.94-2.06-.94 2.06-2.06.94z\"/><path d=\"M17.41 7.96l-1.37-1.37c-.4-.4-.92-.59-1.43-.59-.52 0-1.04.2-1.43.59L10.3 9.45l-7.72 7.72c-.78.78-.78 2.05 0 2.83L4 21.41c.39.39.9.59 1.41.59.51 0 1.02-.2 1.41-.59l7.78-7.78 2.81-2.81c.8-.78.8-2.07 0-2.86zM5.41 20L4 18.59l7.72-7.72 1.47 1.35L5.41 20z\"/>\n",
              "  </svg>\n",
              "      </button>\n",
              "      \n",
              "  <style>\n",
              "    .colab-df-container {\n",
              "      display:flex;\n",
              "      flex-wrap:wrap;\n",
              "      gap: 12px;\n",
              "    }\n",
              "\n",
              "    .colab-df-convert {\n",
              "      background-color: #E8F0FE;\n",
              "      border: none;\n",
              "      border-radius: 50%;\n",
              "      cursor: pointer;\n",
              "      display: none;\n",
              "      fill: #1967D2;\n",
              "      height: 32px;\n",
              "      padding: 0 0 0 0;\n",
              "      width: 32px;\n",
              "    }\n",
              "\n",
              "    .colab-df-convert:hover {\n",
              "      background-color: #E2EBFA;\n",
              "      box-shadow: 0px 1px 2px rgba(60, 64, 67, 0.3), 0px 1px 3px 1px rgba(60, 64, 67, 0.15);\n",
              "      fill: #174EA6;\n",
              "    }\n",
              "\n",
              "    [theme=dark] .colab-df-convert {\n",
              "      background-color: #3B4455;\n",
              "      fill: #D2E3FC;\n",
              "    }\n",
              "\n",
              "    [theme=dark] .colab-df-convert:hover {\n",
              "      background-color: #434B5C;\n",
              "      box-shadow: 0px 1px 3px 1px rgba(0, 0, 0, 0.15);\n",
              "      filter: drop-shadow(0px 1px 2px rgba(0, 0, 0, 0.3));\n",
              "      fill: #FFFFFF;\n",
              "    }\n",
              "  </style>\n",
              "\n",
              "      <script>\n",
              "        const buttonEl =\n",
              "          document.querySelector('#df-f87adf83-53ee-47ff-b67e-be0ec7ffe3cf button.colab-df-convert');\n",
              "        buttonEl.style.display =\n",
              "          google.colab.kernel.accessAllowed ? 'block' : 'none';\n",
              "\n",
              "        async function convertToInteractive(key) {\n",
              "          const element = document.querySelector('#df-f87adf83-53ee-47ff-b67e-be0ec7ffe3cf');\n",
              "          const dataTable =\n",
              "            await google.colab.kernel.invokeFunction('convertToInteractive',\n",
              "                                                     [key], {});\n",
              "          if (!dataTable) return;\n",
              "\n",
              "          const docLinkHtml = 'Like what you see? Visit the ' +\n",
              "            '<a target=\"_blank\" href=https://colab.research.google.com/notebooks/data_table.ipynb>data table notebook</a>'\n",
              "            + ' to learn more about interactive tables.';\n",
              "          element.innerHTML = '';\n",
              "          dataTable['output_type'] = 'display_data';\n",
              "          await google.colab.output.renderOutput(dataTable, element);\n",
              "          const docLink = document.createElement('div');\n",
              "          docLink.innerHTML = docLinkHtml;\n",
              "          element.appendChild(docLink);\n",
              "        }\n",
              "      </script>\n",
              "    </div>\n",
              "  </div>\n",
              "  "
            ],
            "text/plain": [
              "                 context  ...                                               dict\n",
              "match  matchend           ...                                                   \n",
              "2819   2819         2799  ...  {'cpos': [2799, 2800, 2801, 2802, 2803, 2804, ...\n",
              "4589   4589         4569  ...  {'cpos': [4569, 4570, 4571, 4572, 4573, 4574, ...\n",
              "15705  15705       15685  ...  {'cpos': [15685, 15686, 15687, 15688, 15689, 1...\n",
              "22098  22098       22078  ...  {'cpos': [22078, 22079, 22080, 22081, 22082, 2...\n",
              "23642  23642       23622  ...  {'cpos': [23622, 23623, 23624, 23625, 23626, 2...\n",
              "...                  ...  ...                                                ...\n",
              "372781 372781     372761  ...  {'cpos': [372761, 372762, 372763, 372764, 3727...\n",
              "385062 385062     385042  ...  {'cpos': [385042, 385043, 385044, 385045, 3850...\n",
              "386601 386601     386581  ...  {'cpos': [386581, 386582, 386583, 386584, 3865...\n",
              "386658 386658     386638  ...  {'cpos': [386638, 386639, 386640, 386641, 3866...\n",
              "391180 391180     391160  ...  {'cpos': [391160, 391161, 391162, 391163, 3911...\n",
              "\n",
              "[100 rows x 3 columns]"
            ]
          },
          "metadata": {},
          "execution_count": 121
        }
      ]
    },
    {
      "cell_type": "code",
      "source": [
        "dump = corpus.query(\n",
        "  cqp_query=query,\n",
        "  context=5\n",
        ")"
      ],
      "metadata": {
        "id": "Lj8Lbyc5-v3J"
      },
      "execution_count": null,
      "outputs": []
    },
    {
      "cell_type": "code",
      "source": [
        "dump.df"
      ],
      "metadata": {
        "colab": {
          "base_uri": "https://localhost:8080/",
          "height": 450
        },
        "id": "-y3z0khj_OSD",
        "outputId": "cd3227dc-dcc6-43d7-cbd4-0ef789a59ffa"
      },
      "execution_count": null,
      "outputs": [
        {
          "output_type": "execute_result",
          "data": {
            "text/html": [
              "\n",
              "  <div id=\"df-be8ec7a5-6188-4288-8b3c-6eeb575235b4\">\n",
              "    <div class=\"colab-df-container\">\n",
              "      <div>\n",
              "<style scoped>\n",
              "    .dataframe tbody tr th:only-of-type {\n",
              "        vertical-align: middle;\n",
              "    }\n",
              "\n",
              "    .dataframe tbody tr th {\n",
              "        vertical-align: top;\n",
              "    }\n",
              "\n",
              "    .dataframe thead th {\n",
              "        text-align: right;\n",
              "    }\n",
              "</style>\n",
              "<table border=\"1\" class=\"dataframe\">\n",
              "  <thead>\n",
              "    <tr style=\"text-align: right;\">\n",
              "      <th></th>\n",
              "      <th></th>\n",
              "      <th>context</th>\n",
              "      <th>contextend</th>\n",
              "    </tr>\n",
              "    <tr>\n",
              "      <th>match</th>\n",
              "      <th>matchend</th>\n",
              "      <th></th>\n",
              "      <th></th>\n",
              "    </tr>\n",
              "  </thead>\n",
              "  <tbody>\n",
              "    <tr>\n",
              "      <th>2819</th>\n",
              "      <th>2819</th>\n",
              "      <td>2809</td>\n",
              "      <td>2829</td>\n",
              "    </tr>\n",
              "    <tr>\n",
              "      <th>4589</th>\n",
              "      <th>4589</th>\n",
              "      <td>4579</td>\n",
              "      <td>4599</td>\n",
              "    </tr>\n",
              "    <tr>\n",
              "      <th>15705</th>\n",
              "      <th>15705</th>\n",
              "      <td>15695</td>\n",
              "      <td>15715</td>\n",
              "    </tr>\n",
              "    <tr>\n",
              "      <th>22098</th>\n",
              "      <th>22098</th>\n",
              "      <td>22088</td>\n",
              "      <td>22108</td>\n",
              "    </tr>\n",
              "    <tr>\n",
              "      <th>23642</th>\n",
              "      <th>23642</th>\n",
              "      <td>23632</td>\n",
              "      <td>23652</td>\n",
              "    </tr>\n",
              "    <tr>\n",
              "      <th>...</th>\n",
              "      <th>...</th>\n",
              "      <td>...</td>\n",
              "      <td>...</td>\n",
              "    </tr>\n",
              "    <tr>\n",
              "      <th>7932213</th>\n",
              "      <th>7932213</th>\n",
              "      <td>7932203</td>\n",
              "      <td>7932223</td>\n",
              "    </tr>\n",
              "    <tr>\n",
              "      <th>7932223</th>\n",
              "      <th>7932223</th>\n",
              "      <td>7932213</td>\n",
              "      <td>7932233</td>\n",
              "    </tr>\n",
              "    <tr>\n",
              "      <th>7949447</th>\n",
              "      <th>7949447</th>\n",
              "      <td>7949437</td>\n",
              "      <td>7949457</td>\n",
              "    </tr>\n",
              "    <tr>\n",
              "      <th>7951869</th>\n",
              "      <th>7951869</th>\n",
              "      <td>7951859</td>\n",
              "      <td>7951879</td>\n",
              "    </tr>\n",
              "    <tr>\n",
              "      <th>7953543</th>\n",
              "      <th>7953543</th>\n",
              "      <td>7953533</td>\n",
              "      <td>7953553</td>\n",
              "    </tr>\n",
              "  </tbody>\n",
              "</table>\n",
              "<p>2140 rows × 2 columns</p>\n",
              "</div>\n",
              "      <button class=\"colab-df-convert\" onclick=\"convertToInteractive('df-be8ec7a5-6188-4288-8b3c-6eeb575235b4')\"\n",
              "              title=\"Convert this dataframe to an interactive table.\"\n",
              "              style=\"display:none;\">\n",
              "        \n",
              "  <svg xmlns=\"http://www.w3.org/2000/svg\" height=\"24px\"viewBox=\"0 0 24 24\"\n",
              "       width=\"24px\">\n",
              "    <path d=\"M0 0h24v24H0V0z\" fill=\"none\"/>\n",
              "    <path d=\"M18.56 5.44l.94 2.06.94-2.06 2.06-.94-2.06-.94-.94-2.06-.94 2.06-2.06.94zm-11 1L8.5 8.5l.94-2.06 2.06-.94-2.06-.94L8.5 2.5l-.94 2.06-2.06.94zm10 10l.94 2.06.94-2.06 2.06-.94-2.06-.94-.94-2.06-.94 2.06-2.06.94z\"/><path d=\"M17.41 7.96l-1.37-1.37c-.4-.4-.92-.59-1.43-.59-.52 0-1.04.2-1.43.59L10.3 9.45l-7.72 7.72c-.78.78-.78 2.05 0 2.83L4 21.41c.39.39.9.59 1.41.59.51 0 1.02-.2 1.41-.59l7.78-7.78 2.81-2.81c.8-.78.8-2.07 0-2.86zM5.41 20L4 18.59l7.72-7.72 1.47 1.35L5.41 20z\"/>\n",
              "  </svg>\n",
              "      </button>\n",
              "      \n",
              "  <style>\n",
              "    .colab-df-container {\n",
              "      display:flex;\n",
              "      flex-wrap:wrap;\n",
              "      gap: 12px;\n",
              "    }\n",
              "\n",
              "    .colab-df-convert {\n",
              "      background-color: #E8F0FE;\n",
              "      border: none;\n",
              "      border-radius: 50%;\n",
              "      cursor: pointer;\n",
              "      display: none;\n",
              "      fill: #1967D2;\n",
              "      height: 32px;\n",
              "      padding: 0 0 0 0;\n",
              "      width: 32px;\n",
              "    }\n",
              "\n",
              "    .colab-df-convert:hover {\n",
              "      background-color: #E2EBFA;\n",
              "      box-shadow: 0px 1px 2px rgba(60, 64, 67, 0.3), 0px 1px 3px 1px rgba(60, 64, 67, 0.15);\n",
              "      fill: #174EA6;\n",
              "    }\n",
              "\n",
              "    [theme=dark] .colab-df-convert {\n",
              "      background-color: #3B4455;\n",
              "      fill: #D2E3FC;\n",
              "    }\n",
              "\n",
              "    [theme=dark] .colab-df-convert:hover {\n",
              "      background-color: #434B5C;\n",
              "      box-shadow: 0px 1px 3px 1px rgba(0, 0, 0, 0.15);\n",
              "      filter: drop-shadow(0px 1px 2px rgba(0, 0, 0, 0.3));\n",
              "      fill: #FFFFFF;\n",
              "    }\n",
              "  </style>\n",
              "\n",
              "      <script>\n",
              "        const buttonEl =\n",
              "          document.querySelector('#df-be8ec7a5-6188-4288-8b3c-6eeb575235b4 button.colab-df-convert');\n",
              "        buttonEl.style.display =\n",
              "          google.colab.kernel.accessAllowed ? 'block' : 'none';\n",
              "\n",
              "        async function convertToInteractive(key) {\n",
              "          const element = document.querySelector('#df-be8ec7a5-6188-4288-8b3c-6eeb575235b4');\n",
              "          const dataTable =\n",
              "            await google.colab.kernel.invokeFunction('convertToInteractive',\n",
              "                                                     [key], {});\n",
              "          if (!dataTable) return;\n",
              "\n",
              "          const docLinkHtml = 'Like what you see? Visit the ' +\n",
              "            '<a target=\"_blank\" href=https://colab.research.google.com/notebooks/data_table.ipynb>data table notebook</a>'\n",
              "            + ' to learn more about interactive tables.';\n",
              "          element.innerHTML = '';\n",
              "          dataTable['output_type'] = 'display_data';\n",
              "          await google.colab.output.renderOutput(dataTable, element);\n",
              "          const docLink = document.createElement('div');\n",
              "          docLink.innerHTML = docLinkHtml;\n",
              "          element.appendChild(docLink);\n",
              "        }\n",
              "      </script>\n",
              "    </div>\n",
              "  </div>\n",
              "  "
            ],
            "text/plain": [
              "                  context  contextend\n",
              "match   matchend                     \n",
              "2819    2819         2809        2829\n",
              "4589    4589         4579        4599\n",
              "15705   15705       15695       15715\n",
              "22098   22098       22088       22108\n",
              "23642   23642       23632       23652\n",
              "...                   ...         ...\n",
              "7932213 7932213   7932203     7932223\n",
              "7932223 7932223   7932213     7932233\n",
              "7949447 7949447   7949437     7949457\n",
              "7951869 7951869   7951859     7951879\n",
              "7953543 7953543   7953533     7953553\n",
              "\n",
              "[2140 rows x 2 columns]"
            ]
          },
          "metadata": {},
          "execution_count": 124
        }
      ]
    },
    {
      "cell_type": "code",
      "source": [
        "dump.concordance(form=\"kwic\", cut_off=None)"
      ],
      "metadata": {
        "colab": {
          "base_uri": "https://localhost:8080/",
          "height": 450
        },
        "id": "Pc_8FJ6L-4KO",
        "outputId": "3a81c1cd-d82c-4a49-d064-7894d2ccff91"
      },
      "execution_count": null,
      "outputs": [
        {
          "output_type": "execute_result",
          "data": {
            "text/html": [
              "\n",
              "  <div id=\"df-daebbcd9-8b79-4588-97d4-cad52b8f5d68\">\n",
              "    <div class=\"colab-df-container\">\n",
              "      <div>\n",
              "<style scoped>\n",
              "    .dataframe tbody tr th:only-of-type {\n",
              "        vertical-align: middle;\n",
              "    }\n",
              "\n",
              "    .dataframe tbody tr th {\n",
              "        vertical-align: top;\n",
              "    }\n",
              "\n",
              "    .dataframe thead th {\n",
              "        text-align: right;\n",
              "    }\n",
              "</style>\n",
              "<table border=\"1\" class=\"dataframe\">\n",
              "  <thead>\n",
              "    <tr style=\"text-align: right;\">\n",
              "      <th></th>\n",
              "      <th></th>\n",
              "      <th>left_word</th>\n",
              "      <th>node_word</th>\n",
              "      <th>right_word</th>\n",
              "    </tr>\n",
              "    <tr>\n",
              "      <th>match</th>\n",
              "      <th>matchend</th>\n",
              "      <th></th>\n",
              "      <th></th>\n",
              "      <th></th>\n",
              "    </tr>\n",
              "  </thead>\n",
              "  <tbody>\n",
              "    <tr>\n",
              "      <th>2819</th>\n",
              "      <th>2819</th>\n",
              "      <td>and addition relate to achieve what be know as \"</td>\n",
              "      <td>value</td>\n",
              "      <td>for money \" indicator in the grant-giving proc...</td>\n",
              "    </tr>\n",
              "    <tr>\n",
              "      <th>4589</th>\n",
              "      <th>4589</th>\n",
              "      <td>the figure for last year now show that the total</td>\n",
              "      <td>value</td>\n",
              "      <td>of merger in the European area be EUR @card@ t...</td>\n",
              "    </tr>\n",
              "    <tr>\n",
              "      <th>15705</th>\n",
              "      <th>15705</th>\n",
              "      <td>I be not sure that it would add much practical</td>\n",
              "      <td>value</td>\n",
              "      <td>to our effort . it would be unlikely to have</td>\n",
              "    </tr>\n",
              "    <tr>\n",
              "      <th>22098</th>\n",
              "      <th>22098</th>\n",
              "      <td>as a former official - and I think that the</td>\n",
              "      <td>value</td>\n",
              "      <td>of that be show by his ability to tackle the</td>\n",
              "    </tr>\n",
              "    <tr>\n",
              "      <th>23642</th>\n",
              "      <th>23642</th>\n",
              "      <td>we be at one in the belief that there be</td>\n",
              "      <td>value</td>\n",
              "      <td>in define the well possible mechanism for this...</td>\n",
              "    </tr>\n",
              "    <tr>\n",
              "      <th>...</th>\n",
              "      <th>...</th>\n",
              "      <td>...</td>\n",
              "      <td>...</td>\n",
              "      <td>...</td>\n",
              "    </tr>\n",
              "    <tr>\n",
              "      <th>7932213</th>\n",
              "      <th>7932213</th>\n",
              "      <td>Kong , we would not be true to our own</td>\n",
              "      <td>value</td>\n",
              "      <td>, if we do not speak out when those value</td>\n",
              "    </tr>\n",
              "    <tr>\n",
              "      <th>7932223</th>\n",
              "      <th>7932223</th>\n",
              "      <td>value , if we do not speak out when those</td>\n",
              "      <td>value</td>\n",
              "      <td>appear to us to be under threat . What sensible</td>\n",
              "    </tr>\n",
              "    <tr>\n",
              "      <th>7949447</th>\n",
              "      <th>7949447</th>\n",
              "      <td>to sell that beef into our market , at good</td>\n",
              "      <td>value</td>\n",
              "      <td>to our consumer , and if we be to put</td>\n",
              "    </tr>\n",
              "    <tr>\n",
              "      <th>7951869</th>\n",
              "      <th>7951869</th>\n",
              "      <td>Kingdom , we have a long political debate over...</td>\n",
              "      <td>value</td>\n",
              "      <td>of resale price maintenance apply to book . th...</td>\n",
              "    </tr>\n",
              "    <tr>\n",
              "      <th>7953543</th>\n",
              "      <th>7953543</th>\n",
              "      <td>money . but the poor respect both education an...</td>\n",
              "      <td>value</td>\n",
              "      <td>and they respect democracy . soon there will b...</td>\n",
              "    </tr>\n",
              "  </tbody>\n",
              "</table>\n",
              "<p>2140 rows × 3 columns</p>\n",
              "</div>\n",
              "      <button class=\"colab-df-convert\" onclick=\"convertToInteractive('df-daebbcd9-8b79-4588-97d4-cad52b8f5d68')\"\n",
              "              title=\"Convert this dataframe to an interactive table.\"\n",
              "              style=\"display:none;\">\n",
              "        \n",
              "  <svg xmlns=\"http://www.w3.org/2000/svg\" height=\"24px\"viewBox=\"0 0 24 24\"\n",
              "       width=\"24px\">\n",
              "    <path d=\"M0 0h24v24H0V0z\" fill=\"none\"/>\n",
              "    <path d=\"M18.56 5.44l.94 2.06.94-2.06 2.06-.94-2.06-.94-.94-2.06-.94 2.06-2.06.94zm-11 1L8.5 8.5l.94-2.06 2.06-.94-2.06-.94L8.5 2.5l-.94 2.06-2.06.94zm10 10l.94 2.06.94-2.06 2.06-.94-2.06-.94-.94-2.06-.94 2.06-2.06.94z\"/><path d=\"M17.41 7.96l-1.37-1.37c-.4-.4-.92-.59-1.43-.59-.52 0-1.04.2-1.43.59L10.3 9.45l-7.72 7.72c-.78.78-.78 2.05 0 2.83L4 21.41c.39.39.9.59 1.41.59.51 0 1.02-.2 1.41-.59l7.78-7.78 2.81-2.81c.8-.78.8-2.07 0-2.86zM5.41 20L4 18.59l7.72-7.72 1.47 1.35L5.41 20z\"/>\n",
              "  </svg>\n",
              "      </button>\n",
              "      \n",
              "  <style>\n",
              "    .colab-df-container {\n",
              "      display:flex;\n",
              "      flex-wrap:wrap;\n",
              "      gap: 12px;\n",
              "    }\n",
              "\n",
              "    .colab-df-convert {\n",
              "      background-color: #E8F0FE;\n",
              "      border: none;\n",
              "      border-radius: 50%;\n",
              "      cursor: pointer;\n",
              "      display: none;\n",
              "      fill: #1967D2;\n",
              "      height: 32px;\n",
              "      padding: 0 0 0 0;\n",
              "      width: 32px;\n",
              "    }\n",
              "\n",
              "    .colab-df-convert:hover {\n",
              "      background-color: #E2EBFA;\n",
              "      box-shadow: 0px 1px 2px rgba(60, 64, 67, 0.3), 0px 1px 3px 1px rgba(60, 64, 67, 0.15);\n",
              "      fill: #174EA6;\n",
              "    }\n",
              "\n",
              "    [theme=dark] .colab-df-convert {\n",
              "      background-color: #3B4455;\n",
              "      fill: #D2E3FC;\n",
              "    }\n",
              "\n",
              "    [theme=dark] .colab-df-convert:hover {\n",
              "      background-color: #434B5C;\n",
              "      box-shadow: 0px 1px 3px 1px rgba(0, 0, 0, 0.15);\n",
              "      filter: drop-shadow(0px 1px 2px rgba(0, 0, 0, 0.3));\n",
              "      fill: #FFFFFF;\n",
              "    }\n",
              "  </style>\n",
              "\n",
              "      <script>\n",
              "        const buttonEl =\n",
              "          document.querySelector('#df-daebbcd9-8b79-4588-97d4-cad52b8f5d68 button.colab-df-convert');\n",
              "        buttonEl.style.display =\n",
              "          google.colab.kernel.accessAllowed ? 'block' : 'none';\n",
              "\n",
              "        async function convertToInteractive(key) {\n",
              "          const element = document.querySelector('#df-daebbcd9-8b79-4588-97d4-cad52b8f5d68');\n",
              "          const dataTable =\n",
              "            await google.colab.kernel.invokeFunction('convertToInteractive',\n",
              "                                                     [key], {});\n",
              "          if (!dataTable) return;\n",
              "\n",
              "          const docLinkHtml = 'Like what you see? Visit the ' +\n",
              "            '<a target=\"_blank\" href=https://colab.research.google.com/notebooks/data_table.ipynb>data table notebook</a>'\n",
              "            + ' to learn more about interactive tables.';\n",
              "          element.innerHTML = '';\n",
              "          dataTable['output_type'] = 'display_data';\n",
              "          await google.colab.output.renderOutput(dataTable, element);\n",
              "          const docLink = document.createElement('div');\n",
              "          docLink.innerHTML = docLinkHtml;\n",
              "          element.appendChild(docLink);\n",
              "        }\n",
              "      </script>\n",
              "    </div>\n",
              "  </div>\n",
              "  "
            ],
            "text/plain": [
              "                                                          left_word  ...                                         right_word\n",
              "match   matchend                                                     ...                                                   \n",
              "2819    2819       and addition relate to achieve what be know as \"  ...  for money \" indicator in the grant-giving proc...\n",
              "4589    4589       the figure for last year now show that the total  ...  of merger in the European area be EUR @card@ t...\n",
              "15705   15705        I be not sure that it would add much practical  ...       to our effort . it would be unlikely to have\n",
              "22098   22098           as a former official - and I think that the  ...       of that be show by his ability to tackle the\n",
              "23642   23642              we be at one in the belief that there be  ...  in define the well possible mechanism for this...\n",
              "...                                                             ...  ...                                                ...\n",
              "7932213 7932213              Kong , we would not be true to our own  ...          , if we do not speak out when those value\n",
              "7932223 7932223           value , if we do not speak out when those  ...    appear to us to be under threat . What sensible\n",
              "7949447 7949447         to sell that beef into our market , at good  ...              to our consumer , and if we be to put\n",
              "7951869 7951869   Kingdom , we have a long political debate over...  ...  of resale price maintenance apply to book . th...\n",
              "7953543 7953543   money . but the poor respect both education an...  ...  and they respect democracy . soon there will b...\n",
              "\n",
              "[2140 rows x 3 columns]"
            ]
          },
          "metadata": {},
          "execution_count": 131
        }
      ]
    },
    {
      "cell_type": "code",
      "source": [
        "# dump.collocates\n",
        "# dump.collocates(order='log_likelihood', cut_off=None)\n",
        "#\n",
        "dfColl = dump.collocates(order='mutual_information', cut_off=None)\n",
        "dump.collocates(order='mutual_information', cut_off=None)\n"
      ],
      "metadata": {
        "colab": {
          "base_uri": "https://localhost:8080/",
          "height": 582
        },
        "id": "M2Tv74j2_7ZD",
        "outputId": "60c4a6a1-f25a-456d-cb04-d6ec887f5ee6"
      },
      "execution_count": null,
      "outputs": [
        {
          "output_type": "stream",
          "name": "stderr",
          "text": [
            "specfied p-attribute(s) (\"lemma\") not available\n",
            "falling back to primary layer\n",
            "specfied p-attribute(s) (\"lemma\") not available\n",
            "falling back to primary layer\n"
          ]
        },
        {
          "output_type": "execute_result",
          "data": {
            "text/html": [
              "\n",
              "  <div id=\"df-7d1cf595-bf34-4d0b-8d05-66a8a89fa83a\">\n",
              "    <div class=\"colab-df-container\">\n",
              "      <div>\n",
              "<style scoped>\n",
              "    .dataframe tbody tr th:only-of-type {\n",
              "        vertical-align: middle;\n",
              "    }\n",
              "\n",
              "    .dataframe tbody tr th {\n",
              "        vertical-align: top;\n",
              "    }\n",
              "\n",
              "    .dataframe thead th {\n",
              "        text-align: right;\n",
              "    }\n",
              "</style>\n",
              "<table border=\"1\" class=\"dataframe\">\n",
              "  <thead>\n",
              "    <tr style=\"text-align: right;\">\n",
              "      <th></th>\n",
              "      <th>O11</th>\n",
              "      <th>O12</th>\n",
              "      <th>O21</th>\n",
              "      <th>O22</th>\n",
              "      <th>E11</th>\n",
              "      <th>E12</th>\n",
              "      <th>E21</th>\n",
              "      <th>E22</th>\n",
              "      <th>z_score</th>\n",
              "      <th>t_score</th>\n",
              "      <th>log_likelihood</th>\n",
              "      <th>simple_ll</th>\n",
              "      <th>dice</th>\n",
              "      <th>log_ratio</th>\n",
              "      <th>mutual_information</th>\n",
              "      <th>local_mutual_information</th>\n",
              "      <th>conservative_log_ratio</th>\n",
              "      <th>ipm</th>\n",
              "      <th>ipm_reference</th>\n",
              "      <th>ipm_expected</th>\n",
              "      <th>ipm_reference_expected</th>\n",
              "      <th>in_nodes</th>\n",
              "      <th>marginal</th>\n",
              "    </tr>\n",
              "    <tr>\n",
              "      <th>item</th>\n",
              "      <th></th>\n",
              "      <th></th>\n",
              "      <th></th>\n",
              "      <th></th>\n",
              "      <th></th>\n",
              "      <th></th>\n",
              "      <th></th>\n",
              "      <th></th>\n",
              "      <th></th>\n",
              "      <th></th>\n",
              "      <th></th>\n",
              "      <th></th>\n",
              "      <th></th>\n",
              "      <th></th>\n",
              "      <th></th>\n",
              "      <th></th>\n",
              "      <th></th>\n",
              "      <th></th>\n",
              "      <th></th>\n",
              "      <th></th>\n",
              "      <th></th>\n",
              "      <th></th>\n",
              "      <th></th>\n",
              "    </tr>\n",
              "  </thead>\n",
              "  <tbody>\n",
              "    <tr>\n",
              "      <th>parametric</th>\n",
              "      <td>2</td>\n",
              "      <td>21110</td>\n",
              "      <td>0</td>\n",
              "      <td>7934225</td>\n",
              "      <td>0.005308</td>\n",
              "      <td>21111.994692</td>\n",
              "      <td>1.994692</td>\n",
              "      <td>7.934223e+06</td>\n",
              "      <td>27.379501</td>\n",
              "      <td>1.410460</td>\n",
              "      <td>23.727216</td>\n",
              "      <td>19.737642</td>\n",
              "      <td>0.000189</td>\n",
              "      <td>10.553882</td>\n",
              "      <td>2.576129</td>\n",
              "      <td>5.152258</td>\n",
              "      <td>0.398702</td>\n",
              "      <td>94.732853</td>\n",
              "      <td>0.000000</td>\n",
              "      <td>0.251404</td>\n",
              "      <td>0.251404</td>\n",
              "      <td>0</td>\n",
              "      <td>2</td>\n",
              "    </tr>\n",
              "    <tr>\n",
              "      <th>mg/litre</th>\n",
              "      <td>2</td>\n",
              "      <td>21110</td>\n",
              "      <td>0</td>\n",
              "      <td>7934225</td>\n",
              "      <td>0.005308</td>\n",
              "      <td>21111.994692</td>\n",
              "      <td>1.994692</td>\n",
              "      <td>7.934223e+06</td>\n",
              "      <td>27.379501</td>\n",
              "      <td>1.410460</td>\n",
              "      <td>23.727216</td>\n",
              "      <td>19.737642</td>\n",
              "      <td>0.000189</td>\n",
              "      <td>10.553882</td>\n",
              "      <td>2.576129</td>\n",
              "      <td>5.152258</td>\n",
              "      <td>0.398702</td>\n",
              "      <td>94.732853</td>\n",
              "      <td>0.000000</td>\n",
              "      <td>0.251404</td>\n",
              "      <td>0.251404</td>\n",
              "      <td>0</td>\n",
              "      <td>2</td>\n",
              "    </tr>\n",
              "    <tr>\n",
              "      <th>calorific</th>\n",
              "      <td>2</td>\n",
              "      <td>21110</td>\n",
              "      <td>0</td>\n",
              "      <td>7934225</td>\n",
              "      <td>0.005308</td>\n",
              "      <td>21111.994692</td>\n",
              "      <td>1.994692</td>\n",
              "      <td>7.934223e+06</td>\n",
              "      <td>27.379501</td>\n",
              "      <td>1.410460</td>\n",
              "      <td>23.727216</td>\n",
              "      <td>19.737642</td>\n",
              "      <td>0.000189</td>\n",
              "      <td>10.553882</td>\n",
              "      <td>2.576129</td>\n",
              "      <td>5.152258</td>\n",
              "      <td>0.398702</td>\n",
              "      <td>94.732853</td>\n",
              "      <td>0.000000</td>\n",
              "      <td>0.251404</td>\n",
              "      <td>0.251404</td>\n",
              "      <td>0</td>\n",
              "      <td>2</td>\n",
              "    </tr>\n",
              "    <tr>\n",
              "      <th>added</th>\n",
              "      <td>202</td>\n",
              "      <td>20910</td>\n",
              "      <td>52</td>\n",
              "      <td>7934173</td>\n",
              "      <td>0.674069</td>\n",
              "      <td>21111.325931</td>\n",
              "      <td>253.325931</td>\n",
              "      <td>7.933972e+06</td>\n",
              "      <td>245.215241</td>\n",
              "      <td>14.165243</td>\n",
              "      <td>2141.140925</td>\n",
              "      <td>1901.234953</td>\n",
              "      <td>0.018909</td>\n",
              "      <td>10.511654</td>\n",
              "      <td>2.476647</td>\n",
              "      <td>500.282665</td>\n",
              "      <td>9.513875</td>\n",
              "      <td>9568.018189</td>\n",
              "      <td>6.553885</td>\n",
              "      <td>31.928251</td>\n",
              "      <td>31.928251</td>\n",
              "      <td>0</td>\n",
              "      <td>254</td>\n",
              "    </tr>\n",
              "    <tr>\n",
              "      <th>tax-based</th>\n",
              "      <td>2</td>\n",
              "      <td>21110</td>\n",
              "      <td>1</td>\n",
              "      <td>7934224</td>\n",
              "      <td>0.007961</td>\n",
              "      <td>21111.992039</td>\n",
              "      <td>2.992039</td>\n",
              "      <td>7.934222e+06</td>\n",
              "      <td>22.325527</td>\n",
              "      <td>1.408584</td>\n",
              "      <td>19.913445</td>\n",
              "      <td>18.121089</td>\n",
              "      <td>0.000189</td>\n",
              "      <td>9.553882</td>\n",
              "      <td>2.400038</td>\n",
              "      <td>4.800076</td>\n",
              "      <td>1.687763</td>\n",
              "      <td>94.732853</td>\n",
              "      <td>0.126036</td>\n",
              "      <td>0.377105</td>\n",
              "      <td>0.377105</td>\n",
              "      <td>0</td>\n",
              "      <td>3</td>\n",
              "    </tr>\n",
              "    <tr>\n",
              "      <th>...</th>\n",
              "      <td>...</td>\n",
              "      <td>...</td>\n",
              "      <td>...</td>\n",
              "      <td>...</td>\n",
              "      <td>...</td>\n",
              "      <td>...</td>\n",
              "      <td>...</td>\n",
              "      <td>...</td>\n",
              "      <td>...</td>\n",
              "      <td>...</td>\n",
              "      <td>...</td>\n",
              "      <td>...</td>\n",
              "      <td>...</td>\n",
              "      <td>...</td>\n",
              "      <td>...</td>\n",
              "      <td>...</td>\n",
              "      <td>...</td>\n",
              "      <td>...</td>\n",
              "      <td>...</td>\n",
              "      <td>...</td>\n",
              "      <td>...</td>\n",
              "      <td>...</td>\n",
              "      <td>...</td>\n",
              "    </tr>\n",
              "    <tr>\n",
              "      <th>purpose</th>\n",
              "      <td>3</td>\n",
              "      <td>21109</td>\n",
              "      <td>1121</td>\n",
              "      <td>7933104</td>\n",
              "      <td>2.982889</td>\n",
              "      <td>21109.017111</td>\n",
              "      <td>1121.017111</td>\n",
              "      <td>7.933104e+06</td>\n",
              "      <td>0.009907</td>\n",
              "      <td>0.009879</td>\n",
              "      <td>0.000098</td>\n",
              "      <td>0.000098</td>\n",
              "      <td>0.000270</td>\n",
              "      <td>0.008274</td>\n",
              "      <td>0.002484</td>\n",
              "      <td>0.007452</td>\n",
              "      <td>0.000000</td>\n",
              "      <td>142.099280</td>\n",
              "      <td>141.286641</td>\n",
              "      <td>141.288798</td>\n",
              "      <td>141.288798</td>\n",
              "      <td>0</td>\n",
              "      <td>1124</td>\n",
              "    </tr>\n",
              "    <tr>\n",
              "      <th>among</th>\n",
              "      <td>3</td>\n",
              "      <td>21109</td>\n",
              "      <td>1121</td>\n",
              "      <td>7933104</td>\n",
              "      <td>2.982889</td>\n",
              "      <td>21109.017111</td>\n",
              "      <td>1121.017111</td>\n",
              "      <td>7.933104e+06</td>\n",
              "      <td>0.009907</td>\n",
              "      <td>0.009879</td>\n",
              "      <td>0.000098</td>\n",
              "      <td>0.000098</td>\n",
              "      <td>0.000270</td>\n",
              "      <td>0.008274</td>\n",
              "      <td>0.002484</td>\n",
              "      <td>0.007452</td>\n",
              "      <td>0.000000</td>\n",
              "      <td>142.099280</td>\n",
              "      <td>141.286641</td>\n",
              "      <td>141.288798</td>\n",
              "      <td>141.288798</td>\n",
              "      <td>0</td>\n",
              "      <td>1124</td>\n",
              "    </tr>\n",
              "    <tr>\n",
              "      <th>that</th>\n",
              "      <td>374</td>\n",
              "      <td>20738</td>\n",
              "      <td>139828</td>\n",
              "      <td>7794397</td>\n",
              "      <td>372.070300</td>\n",
              "      <td>20739.929700</td>\n",
              "      <td>139829.929700</td>\n",
              "      <td>7.794395e+06</td>\n",
              "      <td>0.100041</td>\n",
              "      <td>0.099782</td>\n",
              "      <td>0.010198</td>\n",
              "      <td>0.009991</td>\n",
              "      <td>0.004637</td>\n",
              "      <td>0.007483</td>\n",
              "      <td>0.002247</td>\n",
              "      <td>0.840228</td>\n",
              "      <td>0.000000</td>\n",
              "      <td>17715.043577</td>\n",
              "      <td>17623.397370</td>\n",
              "      <td>17623.640582</td>\n",
              "      <td>17623.640582</td>\n",
              "      <td>0</td>\n",
              "      <td>140202</td>\n",
              "    </tr>\n",
              "    <tr>\n",
              "      <th>yes</th>\n",
              "      <td>2</td>\n",
              "      <td>21110</td>\n",
              "      <td>749</td>\n",
              "      <td>7933476</td>\n",
              "      <td>1.993016</td>\n",
              "      <td>21110.006984</td>\n",
              "      <td>749.006984</td>\n",
              "      <td>7.933476e+06</td>\n",
              "      <td>0.004947</td>\n",
              "      <td>0.004939</td>\n",
              "      <td>0.000025</td>\n",
              "      <td>0.000024</td>\n",
              "      <td>0.000183</td>\n",
              "      <td>0.005060</td>\n",
              "      <td>0.001519</td>\n",
              "      <td>0.003039</td>\n",
              "      <td>0.000000</td>\n",
              "      <td>94.732853</td>\n",
              "      <td>94.401154</td>\n",
              "      <td>94.402035</td>\n",
              "      <td>94.402035</td>\n",
              "      <td>0</td>\n",
              "      <td>751</td>\n",
              "    </tr>\n",
              "    <tr>\n",
              "      <th>examine</th>\n",
              "      <td>2</td>\n",
              "      <td>21110</td>\n",
              "      <td>750</td>\n",
              "      <td>7933475</td>\n",
              "      <td>1.995670</td>\n",
              "      <td>21110.004330</td>\n",
              "      <td>750.004330</td>\n",
              "      <td>7.933475e+06</td>\n",
              "      <td>0.003065</td>\n",
              "      <td>0.003062</td>\n",
              "      <td>0.000009</td>\n",
              "      <td>0.000009</td>\n",
              "      <td>0.000183</td>\n",
              "      <td>0.003135</td>\n",
              "      <td>0.000941</td>\n",
              "      <td>0.001883</td>\n",
              "      <td>0.000000</td>\n",
              "      <td>94.732853</td>\n",
              "      <td>94.527191</td>\n",
              "      <td>94.527737</td>\n",
              "      <td>94.527737</td>\n",
              "      <td>0</td>\n",
              "      <td>752</td>\n",
              "    </tr>\n",
              "  </tbody>\n",
              "</table>\n",
              "<p>710 rows × 23 columns</p>\n",
              "</div>\n",
              "      <button class=\"colab-df-convert\" onclick=\"convertToInteractive('df-7d1cf595-bf34-4d0b-8d05-66a8a89fa83a')\"\n",
              "              title=\"Convert this dataframe to an interactive table.\"\n",
              "              style=\"display:none;\">\n",
              "        \n",
              "  <svg xmlns=\"http://www.w3.org/2000/svg\" height=\"24px\"viewBox=\"0 0 24 24\"\n",
              "       width=\"24px\">\n",
              "    <path d=\"M0 0h24v24H0V0z\" fill=\"none\"/>\n",
              "    <path d=\"M18.56 5.44l.94 2.06.94-2.06 2.06-.94-2.06-.94-.94-2.06-.94 2.06-2.06.94zm-11 1L8.5 8.5l.94-2.06 2.06-.94-2.06-.94L8.5 2.5l-.94 2.06-2.06.94zm10 10l.94 2.06.94-2.06 2.06-.94-2.06-.94-.94-2.06-.94 2.06-2.06.94z\"/><path d=\"M17.41 7.96l-1.37-1.37c-.4-.4-.92-.59-1.43-.59-.52 0-1.04.2-1.43.59L10.3 9.45l-7.72 7.72c-.78.78-.78 2.05 0 2.83L4 21.41c.39.39.9.59 1.41.59.51 0 1.02-.2 1.41-.59l7.78-7.78 2.81-2.81c.8-.78.8-2.07 0-2.86zM5.41 20L4 18.59l7.72-7.72 1.47 1.35L5.41 20z\"/>\n",
              "  </svg>\n",
              "      </button>\n",
              "      \n",
              "  <style>\n",
              "    .colab-df-container {\n",
              "      display:flex;\n",
              "      flex-wrap:wrap;\n",
              "      gap: 12px;\n",
              "    }\n",
              "\n",
              "    .colab-df-convert {\n",
              "      background-color: #E8F0FE;\n",
              "      border: none;\n",
              "      border-radius: 50%;\n",
              "      cursor: pointer;\n",
              "      display: none;\n",
              "      fill: #1967D2;\n",
              "      height: 32px;\n",
              "      padding: 0 0 0 0;\n",
              "      width: 32px;\n",
              "    }\n",
              "\n",
              "    .colab-df-convert:hover {\n",
              "      background-color: #E2EBFA;\n",
              "      box-shadow: 0px 1px 2px rgba(60, 64, 67, 0.3), 0px 1px 3px 1px rgba(60, 64, 67, 0.15);\n",
              "      fill: #174EA6;\n",
              "    }\n",
              "\n",
              "    [theme=dark] .colab-df-convert {\n",
              "      background-color: #3B4455;\n",
              "      fill: #D2E3FC;\n",
              "    }\n",
              "\n",
              "    [theme=dark] .colab-df-convert:hover {\n",
              "      background-color: #434B5C;\n",
              "      box-shadow: 0px 1px 3px 1px rgba(0, 0, 0, 0.15);\n",
              "      filter: drop-shadow(0px 1px 2px rgba(0, 0, 0, 0.3));\n",
              "      fill: #FFFFFF;\n",
              "    }\n",
              "  </style>\n",
              "\n",
              "      <script>\n",
              "        const buttonEl =\n",
              "          document.querySelector('#df-7d1cf595-bf34-4d0b-8d05-66a8a89fa83a button.colab-df-convert');\n",
              "        buttonEl.style.display =\n",
              "          google.colab.kernel.accessAllowed ? 'block' : 'none';\n",
              "\n",
              "        async function convertToInteractive(key) {\n",
              "          const element = document.querySelector('#df-7d1cf595-bf34-4d0b-8d05-66a8a89fa83a');\n",
              "          const dataTable =\n",
              "            await google.colab.kernel.invokeFunction('convertToInteractive',\n",
              "                                                     [key], {});\n",
              "          if (!dataTable) return;\n",
              "\n",
              "          const docLinkHtml = 'Like what you see? Visit the ' +\n",
              "            '<a target=\"_blank\" href=https://colab.research.google.com/notebooks/data_table.ipynb>data table notebook</a>'\n",
              "            + ' to learn more about interactive tables.';\n",
              "          element.innerHTML = '';\n",
              "          dataTable['output_type'] = 'display_data';\n",
              "          await google.colab.output.renderOutput(dataTable, element);\n",
              "          const docLink = document.createElement('div');\n",
              "          docLink.innerHTML = docLinkHtml;\n",
              "          element.appendChild(docLink);\n",
              "        }\n",
              "      </script>\n",
              "    </div>\n",
              "  </div>\n",
              "  "
            ],
            "text/plain": [
              "            O11    O12     O21  ...  ipm_reference_expected  in_nodes  marginal\n",
              "item                            ...                                            \n",
              "parametric    2  21110       0  ...                0.251404         0         2\n",
              "mg/litre      2  21110       0  ...                0.251404         0         2\n",
              "calorific     2  21110       0  ...                0.251404         0         2\n",
              "added       202  20910      52  ...               31.928251         0       254\n",
              "tax-based     2  21110       1  ...                0.377105         0         3\n",
              "...         ...    ...     ...  ...                     ...       ...       ...\n",
              "purpose       3  21109    1121  ...              141.288798         0      1124\n",
              "among         3  21109    1121  ...              141.288798         0      1124\n",
              "that        374  20738  139828  ...            17623.640582         0    140202\n",
              "yes           2  21110     749  ...               94.402035         0       751\n",
              "examine       2  21110     750  ...               94.527737         0       752\n",
              "\n",
              "[710 rows x 23 columns]"
            ]
          },
          "metadata": {},
          "execution_count": 134
        }
      ]
    },
    {
      "cell_type": "code",
      "source": [
        "dfColl.to_excel(r'value_collstat.xlsx', index = True)"
      ],
      "metadata": {
        "id": "B1khxWZPRSg9"
      },
      "execution_count": null,
      "outputs": []
    },
    {
      "cell_type": "code",
      "source": [
        "def query2colist(qry, ord='mutual_information', cut=100, minFrq = 5, file=None, values = None):\n",
        "    query=None\n",
        "    dump = None\n",
        "    dfColl = None\n",
        "    LAll = None\n",
        "    retList = []\n",
        "\n",
        "    query = r'{}'.format(qry)\n",
        "    print(query)\n",
        "    dump = corpus.query(cqp_query=query, context=5)\n",
        "    dfColl = dump.collocates(order=ord, cut_off=None)\n",
        "    LIndex = dfColl.index.to_numpy().tolist()\n",
        "    LValues = dfColl[['O11','O21','mutual_information']].to_numpy().tolist()\n",
        "    LAll = list(zip(LIndex, LValues))\n",
        "\n",
        "    i=0\n",
        "    for word, (o11, o21, mutual_information) in LAll:\n",
        "        oAll = o11+o21\n",
        "        if oAll >= minFrq:\n",
        "            i+=1\n",
        "            if values:\n",
        "                retList.append((word, int(o11), int(o21), int(oAll), mutual_information))\n",
        "            else:\n",
        "                retList.append(word)\n",
        "            if i>= cut:\n",
        "                break\n",
        "    if file:\n",
        "        FOut = open(file, 'w')\n",
        "        for el in retList:\n",
        "            FOut.write(str(el) + '\\n')\n",
        "        FOut.flush()\n",
        "    return retList\n"
      ],
      "metadata": {
        "id": "EA76ny8wtAHW"
      },
      "execution_count": null,
      "outputs": []
    },
    {
      "cell_type": "code",
      "source": [
        "rList = query2colist(\"'however'\", file='however_mi100_minFrq5.txt', values=True)"
      ],
      "metadata": {
        "colab": {
          "base_uri": "https://localhost:8080/"
        },
        "id": "0O2nshvX6ubZ",
        "outputId": "4f217b95-f1b9-4b34-b13e-084026b7aaf2"
      },
      "execution_count": null,
      "outputs": [
        {
          "output_type": "stream",
          "name": "stderr",
          "text": [
            "specfied p-attribute(s) (\"lemma\") not available\n",
            "falling back to primary layer\n"
          ]
        },
        {
          "output_type": "stream",
          "name": "stdout",
          "text": [
            "'however'\n"
          ]
        }
      ]
    },
    {
      "cell_type": "code",
      "source": [
        "rList"
      ],
      "metadata": {
        "id": "iUOjkhDm7LAN"
      },
      "execution_count": null,
      "outputs": []
    },
    {
      "cell_type": "code",
      "source": [
        "query = r'\"value\"'\n",
        "dump = corpus.query(\n",
        "  cqp_query=query,\n",
        "  context=5\n",
        ")\n",
        "dfColl = dump.collocates(order='mutual_information', cut_off=100)\n",
        "LIndex = dfColl.index.to_numpy().tolist()\n",
        "FOut = open('value_mi100_collstat.txt', 'w')\n",
        "for el in LIndex:\n",
        "    FOut.write(el + '\\n')\n",
        "FOut.flush()\n",
        "# dfColl.to_excel(r'value_collstat.xlsx', index = True)\n"
      ],
      "metadata": {
        "id": "qZYM2zqwWMcK",
        "colab": {
          "base_uri": "https://localhost:8080/"
        },
        "outputId": "d6dc0f47-3b27-4ea1-db14-f57b91a57b93"
      },
      "execution_count": null,
      "outputs": [
        {
          "output_type": "stream",
          "name": "stderr",
          "text": [
            "specfied p-attribute(s) (\"lemma\") not available\n",
            "falling back to primary layer\n"
          ]
        }
      ]
    },
    {
      "cell_type": "code",
      "source": [
        "query = r'\"however\"'\n",
        "dump = corpus.query(\n",
        "  cqp_query=query,\n",
        "  context=5\n",
        ")\n",
        "dfColl = dump.collocates(order='mutual_information', cut_off=None)\n",
        "dfColl.to_excel(r'however_collstat.xlsx', index = True)"
      ],
      "metadata": {
        "colab": {
          "base_uri": "https://localhost:8080/"
        },
        "id": "tEVNhV0PSicz",
        "outputId": "02d4f195-cdc2-416b-defb-57074fa0f0fb"
      },
      "execution_count": null,
      "outputs": [
        {
          "output_type": "stream",
          "name": "stderr",
          "text": [
            "specfied p-attribute(s) (\"lemma\") not available\n",
            "falling back to primary layer\n"
          ]
        }
      ]
    },
    {
      "cell_type": "code",
      "source": [
        "query = r'\"commission\"'\n",
        "dump = corpus.query(\n",
        "  cqp_query=query,\n",
        "  context=5\n",
        ")\n",
        "dfColl = dump.collocates(order='mutual_information', cut_off=None)\n",
        "dfColl.to_excel(r'commission_collstat.xlsx', index = True)"
      ],
      "metadata": {
        "colab": {
          "base_uri": "https://localhost:8080/"
        },
        "id": "_xEs--0aS-n4",
        "outputId": "587e706e-dcf0-4145-cdbe-1a6988ce5f36"
      },
      "execution_count": null,
      "outputs": [
        {
          "output_type": "stream",
          "name": "stderr",
          "text": [
            "specfied p-attribute(s) (\"lemma\") not available\n",
            "falling back to primary layer\n"
          ]
        }
      ]
    },
    {
      "cell_type": "code",
      "source": [
        "query = r'\"conclusion\"'\n",
        "dump = corpus.query(\n",
        "  cqp_query=query,\n",
        "  context=5\n",
        ")\n",
        "dfColl = dump.collocates(order='mutual_information', cut_off=None)\n",
        "dfColl.to_excel(r'conclusion_collstat.xlsx', index = True)"
      ],
      "metadata": {
        "colab": {
          "base_uri": "https://localhost:8080/"
        },
        "id": "lpOyweGSUAgs",
        "outputId": "15c923c1-96cd-4fbd-941a-7f062ccb3baa"
      },
      "execution_count": null,
      "outputs": [
        {
          "output_type": "stream",
          "name": "stderr",
          "text": [
            "specfied p-attribute(s) (\"lemma\") not available\n",
            "falling back to primary layer\n"
          ]
        }
      ]
    },
    {
      "cell_type": "code",
      "source": [
        "# lst = dfColl[['mutual_information', 'log_likelihood']].items()\n",
        "LIndex = dfColl.index.to_numpy().tolist()"
      ],
      "metadata": {
        "id": "36kNv1XTGCcB"
      },
      "execution_count": null,
      "outputs": []
    },
    {
      "cell_type": "code",
      "source": [
        "# z_score\tt_score\tlog_likelihood\tsimple_ll\tdice\tlog_ratio\tmutual_information\tlocal_mutual_information\tconservative_log_ratio\n",
        "# z_score, t_score, log_likelihood, simple_ll, dice, log_ratio, mutual_information, local_mutual_information, conservative_log_ratio\n",
        "# 'z_score', 't_score', 'log_likelihood', 'simple_ll', 'dice', 'log_ratio', 'mutual_information', 'local_mutual_information', 'conservative_log_ratio'\n",
        "# O11\tO12\tO21\tO22\tE11\tE12\tE21\tE22\n",
        "# 'O11', 'O12', 'O21', 'O22', 'E11', 'E12', 'E21', 'E22'\n",
        "LValues = dfColl[['O11', 'O12', 'O21', 'O22', 'E11', 'E12', 'E21', 'E22', 'z_score', 't_score', 'log_likelihood', 'simple_ll', 'dice', 'log_ratio', 'mutual_information', 'local_mutual_information', 'conservative_log_ratio']].to_numpy().tolist()"
      ],
      "metadata": {
        "id": "N8NQI4FnK4Hn"
      },
      "execution_count": null,
      "outputs": []
    },
    {
      "cell_type": "code",
      "source": [
        "print(len(LIndex), len(LValues))"
      ],
      "metadata": {
        "colab": {
          "base_uri": "https://localhost:8080/"
        },
        "id": "HtmFUSzFLpyf",
        "outputId": "f5796f7f-0055-4059-f3d3-f222192482a1"
      },
      "execution_count": null,
      "outputs": [
        {
          "output_type": "stream",
          "name": "stdout",
          "text": [
            "710 710\n"
          ]
        }
      ]
    },
    {
      "cell_type": "code",
      "source": [
        "LAll = list(zip(LIndex, LValues))"
      ],
      "metadata": {
        "id": "_NB9VoyLL_U0"
      },
      "execution_count": null,
      "outputs": []
    },
    {
      "cell_type": "code",
      "source": [
        "LAll"
      ],
      "metadata": {
        "id": "hRj-F81sMGqM"
      },
      "execution_count": null,
      "outputs": []
    },
    {
      "cell_type": "code",
      "source": [
        "lex = 'value'"
      ],
      "metadata": {
        "id": "fWiLC_MzPiqJ"
      },
      "execution_count": null,
      "outputs": []
    },
    {
      "cell_type": "code",
      "source": [
        "FOut = open(lex + '_collstat.txt', 'w')\n",
        "FOut.write(\"'Collocation','O11','O12','O21','O22','E11','E12','E21','E22','z_score','t_score','log_likelihood','simple_ll','dice','log_ratio','mutual_information','local_mutual_information','conservative_log_ratio'\\n\")\n",
        "for Word, LVals in LAll:\n",
        "    FOut.write(\"'\" + Word + \"'\" + ',')\n",
        "    LSVal = [str(IVal) for IVal in LVals]\n",
        "    SVal = ','.join(LSVal)\n",
        "    FOut.write(SVal + '\\n')"
      ],
      "metadata": {
        "id": "uSAiJafjNge5"
      },
      "execution_count": null,
      "outputs": []
    },
    {
      "cell_type": "code",
      "source": [],
      "metadata": {
        "id": "IvnLTG7LRO__"
      },
      "execution_count": null,
      "outputs": []
    },
    {
      "cell_type": "code",
      "source": [
        "for key, value in lst:\n",
        "  print(key, value)"
      ],
      "metadata": {
        "colab": {
          "base_uri": "https://localhost:8080/"
        },
        "id": "I0vLsuacHIQ7",
        "outputId": "5203f401-15a6-4fb4-d749-a4b316256d6e"
      },
      "execution_count": null,
      "outputs": [
        {
          "output_type": "stream",
          "name": "stdout",
          "text": [
            "mutual_information item\n",
            "parametric    2.576129\n",
            "mg/litre      2.576129\n",
            "calorific     2.576129\n",
            "added         2.476647\n",
            "tax-based     2.400038\n",
            "                ...   \n",
            "purpose       0.002484\n",
            "among         0.002484\n",
            "that          0.002247\n",
            "yes           0.001519\n",
            "examine       0.000941\n",
            "Name: mutual_information, Length: 710, dtype: float64\n",
            "log_likelihood item\n",
            "parametric      23.727216\n",
            "mg/litre        23.727216\n",
            "calorific       23.727216\n",
            "added         2141.140925\n",
            "tax-based       19.913445\n",
            "                 ...     \n",
            "purpose          0.000098\n",
            "among            0.000098\n",
            "that             0.010198\n",
            "yes              0.000025\n",
            "examine          0.000009\n",
            "Name: log_likelihood, Length: 710, dtype: float64\n"
          ]
        }
      ]
    }
  ]
}