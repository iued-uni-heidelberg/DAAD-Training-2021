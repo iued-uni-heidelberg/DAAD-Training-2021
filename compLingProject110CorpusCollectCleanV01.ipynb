{
  "nbformat": 4,
  "nbformat_minor": 0,
  "metadata": {
    "colab": {
      "name": "compLingProject110CorpusCollectCleanV01.ipynb",
      "provenance": [],
      "collapsed_sections": [],
      "authorship_tag": "ABX9TyO8G73QxKaJG+WIKL79l8yM",
      "include_colab_link": true
    },
    "kernelspec": {
      "name": "python3",
      "display_name": "Python 3"
    },
    "language_info": {
      "name": "python"
    }
  },
  "cells": [
    {
      "cell_type": "markdown",
      "metadata": {
        "id": "view-in-github",
        "colab_type": "text"
      },
      "source": [
        "<a href=\"https://colab.research.google.com/github/iued-uni-heidelberg/DAAD-Training-2021/blob/main/compLingProject110CorpusCollectCleanV01.ipynb\" target=\"_parent\"><img src=\"https://colab.research.google.com/assets/colab-badge.svg\" alt=\"Open In Colab\"/></a>"
      ]
    },
    {
      "cell_type": "markdown",
      "source": [
        "# Working with corpus"
      ],
      "metadata": {
        "id": "BnkFj87HjIXf"
      }
    },
    {
      "cell_type": "markdown",
      "source": [
        "# Corpus collection and preparation methods\n",
        "## Recursively download a website\n",
        "\n",
        "Possible sources for corpus collection:\n",
        "- Aerzteblatt.de : de and en medical texts https://www.aerzteblatt.de/int/archive/\n",
        "- Georgian Medical News journal (summaries in ka and en) https://www.geomednews.com/\n",
        "- Yerevan State Medical University, en, hy parallel texts https://ysmu.am/\n",
        "\n",
        "Tasks: \n",
        "- 'recursively' download (crawl) the website\n",
        "- remove html structure or convert pdf, find content text\n",
        "- save as text file, prepare for Part-of-Speech tagging & alignment\n",
        "\n",
        "wget manual and advice: \n",
        "- https://www.gnu.org/software/wget/manual/html_node/Recursive-Retrieval-Options.html\n",
        "- https://stackoverflow.com/questions/273743/using-wget-to-recursively-fetch-a-directory-with-arbitrary-files-in-it\n",
        "\n",
        "Run the following cell for a few minutes, then stop (by clicking on the rotating button) when you think you have enough data."
      ],
      "metadata": {
        "id": "sKhP5AvAdyOM"
      }
    },
    {
      "cell_type": "code",
      "execution_count": 1,
      "metadata": {
        "id": "nJsojy-jdECz",
        "colab": {
          "base_uri": "https://localhost:8080/"
        },
        "outputId": "6bf73d1b-0d0b-4bf9-ec21-bd3b7b3a70ee"
      },
      "outputs": [
        {
          "output_type": "stream",
          "name": "stdout",
          "text": [
            "Process is interrupted.\n"
          ]
        }
      ],
      "source": [
        "%%bash\n",
        "wget --recursive --no-parent https://www.aerzteblatt.de/int/archive/"
      ]
    },
    {
      "cell_type": "code",
      "source": [
        "!tar -cvzf www.aerzteblatt.de.tgz www.aerzteblatt.de"
      ],
      "metadata": {
        "id": "Ksi13NS3oB8u"
      },
      "execution_count": null,
      "outputs": []
    },
    {
      "cell_type": "code",
      "source": [
        "!wget https://heibox.uni-heidelberg.de/f/c38d0b9f7f744c5aae16/?dl=1\n",
        "!mv index.html?dl=1 www.aerzteblatt.de.tgz\n",
        "!tar -xvzf www.aerzteblatt.de.tgz\n"
      ],
      "metadata": {
        "id": "Bl4bvCjToixa"
      },
      "execution_count": null,
      "outputs": []
    },
    {
      "cell_type": "code",
      "source": [
        "# -*- coding: utf-8 -*-\n",
        "# Python script to open each file, read json input and copy to one text file for subsequent processing\n",
        "import os, re, sys\n",
        "\n",
        "class clHtmlDir2txt(object):\n",
        "    '''\n",
        "    @author Bogdan Babych, IÜD, Heidelberg University\n",
        "    @email bogdan [dot] babych [at] iued [dot] uni-heidelberg [dot] de\n",
        "    '''\n",
        "    def __init__(self, SDirName, output_file = 'corpus_text.txt', tag='doc', id=1000000): # initialising by openning the directories\n",
        "        self.SOutput_file = output_file\n",
        "        self.openDir(SDirName)\n",
        "        return\n",
        "\n",
        "    def openDir(self, path): # implementation of recursively openning directories from a given rule directory and reading each file recursively into a string\n",
        "        i = 0\n",
        "        FOut = open(self.SOutput_file, 'w')\n",
        "\n",
        "        for root,d_names,f_names in os.walk(path):\n",
        "            for f in f_names:\n",
        "                i+=1\n",
        "                if i%2==0: print(str(i) + '. Processing: ' + f)\n",
        "                fullpath = os.path.join(root, f)\n",
        "                # print(fullpath)\n",
        "                try:\n",
        "                    FIn = open(fullpath,'r')\n",
        "                    SIn = FIn.read()\n",
        "                    # apply text filter, if not None\n",
        "                    # if self.STextFilter and (re.search(self.RFilter, SIn) == None): continue\n",
        "                    SText2Write = self.procFile(SIn,f,i)\n",
        "                    if SText2Write: FOut.write(SText2Write) # if the string is not empty then write to file\n",
        "                    FIn.close()\n",
        "                except:\n",
        "                    print(f'file {f} cannot be read or processed')\n",
        "\n",
        "        return\n",
        "\n",
        "    "
      ],
      "metadata": {
        "id": "pIg8EBMYom8J"
      },
      "execution_count": null,
      "outputs": []
    }
  ]
}