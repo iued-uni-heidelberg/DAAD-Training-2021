{
  "nbformat": 4,
  "nbformat_minor": 0,
  "metadata": {
    "colab": {
      "name": "compLingProject110CorpusCollectCleanV01.ipynb",
      "provenance": [],
      "collapsed_sections": [
        "BnkFj87HjIXf"
      ],
      "authorship_tag": "ABX9TyPdOAe4ISmWApu4erOEMuCv",
      "include_colab_link": true
    },
    "kernelspec": {
      "name": "python3",
      "display_name": "Python 3"
    },
    "language_info": {
      "name": "python"
    }
  },
  "cells": [
    {
      "cell_type": "markdown",
      "metadata": {
        "id": "view-in-github",
        "colab_type": "text"
      },
      "source": [
        "<a href=\"https://colab.research.google.com/github/iued-uni-heidelberg/DAAD-Training-2021/blob/main/compLingProject110CorpusCollectCleanV01.ipynb\" target=\"_parent\"><img src=\"https://colab.research.google.com/assets/colab-badge.svg\" alt=\"Open In Colab\"/></a>"
      ]
    },
    {
      "cell_type": "markdown",
      "source": [
        "# Working with corpus"
      ],
      "metadata": {
        "id": "BnkFj87HjIXf"
      }
    },
    {
      "cell_type": "markdown",
      "source": [
        "# Corpus collection and preparation methods\n",
        "## Recursively download a website\n",
        "\n",
        "Possible sources for corpus collection:\n",
        "- Aerzteblatt.de : de and en medical texts https://www.aerzteblatt.de/int/archive/\n",
        "- Georgian Medical News journal (summaries in ka and en) https://www.geomednews.com/\n",
        "- Yerevan State Medical University, en, hy parallel texts https://ysmu.am/\n",
        "\n",
        "Tasks: \n",
        "- 'recursively' download (crawl) the website\n",
        "- remove html structure or convert pdf, find content text\n",
        "- save as text file, prepare for Part-of-Speech tagging & alignment\n",
        "\n",
        "wget manual and advice: \n",
        "- https://www.gnu.org/software/wget/manual/html_node/Recursive-Retrieval-Options.html\n",
        "- https://stackoverflow.com/questions/273743/using-wget-to-recursively-fetch-a-directory-with-arbitrary-files-in-it\n",
        "\n",
        "Run the following cell for a few minutes, then stop (by clicking on the rotating button) when you think you have enough data."
      ],
      "metadata": {
        "id": "sKhP5AvAdyOM"
      }
    },
    {
      "cell_type": "code",
      "execution_count": null,
      "metadata": {
        "id": "nJsojy-jdECz"
      },
      "outputs": [],
      "source": [
        "%%bash\n",
        "wget --recursive --no-parent https://www.aerzteblatt.de/int/archive/"
      ]
    },
    {
      "cell_type": "code",
      "source": [
        "!tar -cvzf www.aerzteblatt.de.tgz www.aerzteblatt.de"
      ],
      "metadata": {
        "id": "Ksi13NS3oB8u"
      },
      "execution_count": null,
      "outputs": []
    },
    {
      "cell_type": "code",
      "source": [
        "# longer collection, wget --recursive was running for ~45 min\n",
        "!wget https://heibox.uni-heidelberg.de/f/00bbb48ee1c046c896af/?dl=1\n",
        "# smaller collection, ~ 6 files\n",
        "# !wget https://heibox.uni-heidelberg.de/f/c38d0b9f7f744c5aae16/?dl=1"
      ],
      "metadata": {
        "id": "hH7qS9uwHwMx"
      },
      "execution_count": null,
      "outputs": []
    },
    {
      "cell_type": "code",
      "source": [
        "!mv index.html?dl=1 www.aerzteblatt.de.tgz"
      ],
      "metadata": {
        "id": "CZx9BbOUI07g"
      },
      "execution_count": 3,
      "outputs": []
    },
    {
      "cell_type": "code",
      "source": [
        "!tar -xvzf www.aerzteblatt.de.tgz"
      ],
      "metadata": {
        "id": "Bl4bvCjToixa"
      },
      "execution_count": null,
      "outputs": []
    },
    {
      "cell_type": "code",
      "source": [
        "!apt-get install lynx   "
      ],
      "metadata": {
        "id": "pIg8EBMYom8J"
      },
      "execution_count": null,
      "outputs": []
    },
    {
      "cell_type": "code",
      "source": [
        "!lynx https://www.uni-heidelberg.de/en"
      ],
      "metadata": {
        "id": "2uYnERw9J4ec"
      },
      "execution_count": null,
      "outputs": []
    },
    {
      "cell_type": "code",
      "source": [
        "!lynx --dump https://www.uni-heidelberg.de/en >uni-heidelberg.txt"
      ],
      "metadata": {
        "id": "TdY5MV5mJJIe"
      },
      "execution_count": 9,
      "outputs": []
    }
  ]
}