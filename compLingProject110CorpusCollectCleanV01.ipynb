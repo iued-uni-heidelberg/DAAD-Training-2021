{
  "nbformat": 4,
  "nbformat_minor": 0,
  "metadata": {
    "colab": {
      "name": "compLingProject110CorpusCollectCleanV01.ipynb",
      "provenance": [],
      "collapsed_sections": [],
      "authorship_tag": "ABX9TyNxZBegDZzhylrv9O55E3R4",
      "include_colab_link": true
    },
    "kernelspec": {
      "name": "python3",
      "display_name": "Python 3"
    },
    "language_info": {
      "name": "python"
    }
  },
  "cells": [
    {
      "cell_type": "markdown",
      "metadata": {
        "id": "view-in-github",
        "colab_type": "text"
      },
      "source": [
        "<a href=\"https://colab.research.google.com/github/iued-uni-heidelberg/DAAD-Training-2021/blob/main/compLingProject110CorpusCollectCleanV01.ipynb\" target=\"_parent\"><img src=\"https://colab.research.google.com/assets/colab-badge.svg\" alt=\"Open In Colab\"/></a>"
      ]
    },
    {
      "cell_type": "markdown",
      "source": [
        "# Corpus collection and preparation methods\n",
        "## Recursively download a website\n",
        "\n",
        "Possible sources for corpus collection:\n",
        "- Aerzteblatt.de : de and en medical texts https://www.aerzteblatt.de/int/archive/\n",
        "- Georgian Medical News journal (summaries in ka and en) https://www.geomednews.com/\n",
        "- Yerevan State Medical University, en, hy parallel texts https://ysmu.am/\n",
        "\n",
        "Tasks: \n",
        "- 'recursively' download (crawl) the website\n",
        "- remove html structure or convert pdf, find content text\n",
        "- save as text file, prepare for Part-of-Speech tagging & alignment\n",
        "\n",
        "wget manual and advice: \n",
        "- "
      ],
      "metadata": {
        "id": "sKhP5AvAdyOM"
      }
    },
    {
      "cell_type": "code",
      "execution_count": null,
      "metadata": {
        "id": "nJsojy-jdECz"
      },
      "outputs": [],
      "source": [
        "%%bash\n",
        "wget --recursive --no-parent https://www.aerzteblatt.de/int/archive/"
      ]
    }
  ]
}