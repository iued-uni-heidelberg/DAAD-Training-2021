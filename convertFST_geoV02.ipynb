{
  "nbformat": 4,
  "nbformat_minor": 0,
  "metadata": {
    "colab": {
      "name": "convertFST_geoV02.ipynb",
      "provenance": [],
      "collapsed_sections": [],
      "authorship_tag": "ABX9TyOdgjj3qZTGQAKfDAAOJGgv",
      "include_colab_link": true
    },
    "kernelspec": {
      "name": "python3",
      "display_name": "Python 3"
    },
    "language_info": {
      "name": "python"
    }
  },
  "cells": [
    {
      "cell_type": "markdown",
      "metadata": {
        "id": "view-in-github",
        "colab_type": "text"
      },
      "source": [
        "<a href=\"https://colab.research.google.com/github/iued-uni-heidelberg/DAAD-Training-2021/blob/main/convertFST_geoV02.ipynb\" target=\"_parent\"><img src=\"https://colab.research.google.com/assets/colab-badge.svg\" alt=\"Open In Colab\"/></a>"
      ]
    },
    {
      "cell_type": "markdown",
      "metadata": {
        "id": "sFwBWpicfrxK"
      },
      "source": [
        "# Conversion of the fst format into the format, which enables lemmatization\n",
        "## Converts FST to a form, where we can do lemmatization\n",
        "- v01, works with the following data format:\n",
        "```\n",
        "0@U.st.c@:კაც@U.st.c@     Numb;   -->  კაც@U.st.c@:კაც@U.st.c@     Numb;\n",
        "0@U.st.c@:პირველ@U.st.c@    Numb;  -->  პირველ0@U.st.c@:პირველ@U.st.c@    Numb;\n",
        "0@U.st.c@:კრიტერიუმ@U.st.c@    Numb; --> კრიტერიუმ@U.st.c@:კრიტერიუმ@U.st.c@    Numb;\n",
        "0@U.st.c@:მკვლელ@U.st.c@    Numb; -->    მკვლელ@U.st.c@:მკვლელ@U.st.c@    Numb\n",
        "0@U.st.c@:აბ@U.st.c@    Numb; -->    აბ@U.st.c@:აბ@U.st.c@    Numb;\n",
        "0@U.st.c@:აბაზიან@U.st.c@    Numb; -->  აბაზიან@U.st.c@:აბაზიან@U.st.c@    Numb;\n",
        "0@U.st.c@:აბაჟურ@U.st.c@    Numb; -->  აბაჟურ@U.st.c@:აბაჟურ@U.st.c@    Numb;\n",
        "```\n",
        "- v02, works with another data format as well:\n",
        "```\n",
        "0:კაც     Numb;   -->  კაც:კაც     Numb;\n",
        "0:პირველ    Numb;  -->  პირველ:პირველ    Numb;\n",
        "0:კრიტერიუმ    Numb; --> კრიტერიუმ:კრიტერიუმ    Numb;\n",
        "0:მკვლელ    Numb; -->    მკვლელ:მკვლელ    Numb\n",
        "```\n"
      ]
    },
    {
      "cell_type": "code",
      "metadata": {
        "colab": {
          "base_uri": "https://localhost:8080/"
        },
        "id": "qTbwU3y0fSLj",
        "outputId": "4c221dd2-1b28-4531-892a-c1bde6db37dd"
      },
      "source": [
        "!wget https://heibox.uni-heidelberg.de/f/202e979339704cd49b25/?dl=1\n",
        "!mv index.html?dl=1 fst-sample.txt\n"
      ],
      "execution_count": null,
      "outputs": [
        {
          "output_type": "stream",
          "name": "stdout",
          "text": [
            "--2021-12-02 14:27:49--  https://heibox.uni-heidelberg.de/f/202e979339704cd49b25/?dl=1\n",
            "Resolving heibox.uni-heidelberg.de (heibox.uni-heidelberg.de)... 129.206.7.113\n",
            "Connecting to heibox.uni-heidelberg.de (heibox.uni-heidelberg.de)|129.206.7.113|:443... connected.\n",
            "HTTP request sent, awaiting response... 302 Found\n",
            "Location: https://heibox.uni-heidelberg.de/seafhttp/files/c88c406a-1268-4cc0-a6d0-ad1107a33102/fst-sample.txt [following]\n",
            "--2021-12-02 14:27:50--  https://heibox.uni-heidelberg.de/seafhttp/files/c88c406a-1268-4cc0-a6d0-ad1107a33102/fst-sample.txt\n",
            "Reusing existing connection to heibox.uni-heidelberg.de:443.\n",
            "HTTP request sent, awaiting response... 200 OK\n",
            "Length: 785 [text/plain]\n",
            "Saving to: ‘index.html?dl=1’\n",
            "\n",
            "index.html?dl=1     100%[===================>]     785  --.-KB/s    in 0.006s  \n",
            "\n",
            "2021-12-02 14:27:50 (139 KB/s) - ‘index.html?dl=1’ saved [785/785]\n",
            "\n"
          ]
        }
      ]
    },
    {
      "cell_type": "code",
      "metadata": {
        "colab": {
          "base_uri": "https://localhost:8080/"
        },
        "id": "prmzLZx5gamr",
        "outputId": "c1ae6545-c012-48fd-cd0e-09a8a0445f9f"
      },
      "source": [
        "import re, os, sys\n",
        "FIn = open('fst-sample.txt', 'r')\n",
        "FOut = open('fst-sample-out.txt', 'w')\n",
        "\n",
        "for SLine in FIn:\n",
        "    SLine = SLine.strip()\n",
        "    if re.search('@:.+?@', SLine):\n",
        "        SStem = re.search('@:(.+?)@', SLine).group(1)\n",
        "        print(SStem)\n",
        "        SLineOut = re.sub('^0', SStem, SLine, 1)\n",
        "        FOut.write(SLineOut + '\\n')\n",
        "    else:\n",
        "        FOut.write(SLine + '\\n')\n",
        "FOut.flush()\n"
      ],
      "execution_count": null,
      "outputs": [
        {
          "output_type": "stream",
          "name": "stdout",
          "text": [
            "კაც\n",
            "პირველ\n",
            "კრიტერიუმ\n",
            "მკვლელ\n",
            "აბ\n",
            "აბაზიან\n",
            "აბაჟურ\n"
          ]
        }
      ]
    }
  ]
}