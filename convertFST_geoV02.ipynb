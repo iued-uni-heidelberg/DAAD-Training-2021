{
  "nbformat": 4,
  "nbformat_minor": 0,
  "metadata": {
    "colab": {
      "name": "convertFST_geoV02.ipynb",
      "provenance": [],
      "collapsed_sections": [],
      "authorship_tag": "ABX9TyM8Z2XLRdb9Hxu71+sB4voS",
      "include_colab_link": true
    },
    "kernelspec": {
      "name": "python3",
      "display_name": "Python 3"
    },
    "language_info": {
      "name": "python"
    }
  },
  "cells": [
    {
      "cell_type": "markdown",
      "metadata": {
        "id": "view-in-github",
        "colab_type": "text"
      },
      "source": [
        "<a href=\"https://colab.research.google.com/github/iued-uni-heidelberg/DAAD-Training-2021/blob/main/convertFST_geoV02.ipynb\" target=\"_parent\"><img src=\"https://colab.research.google.com/assets/colab-badge.svg\" alt=\"Open In Colab\"/></a>"
      ]
    },
    {
      "cell_type": "markdown",
      "metadata": {
        "id": "sFwBWpicfrxK"
      },
      "source": [
        "# Conversion of the fst format into the format, which enables lemmatization\n",
        "## Converts FST to a form, where we can do lemmatization\n",
        "- v01, works with the following data format:\n",
        "```\n",
        "0@U.st.c@:კაც@U.st.c@     Numb;   -->  კაც@U.st.c@:კაც@U.st.c@     Numb;\n",
        "0@U.st.c@:პირველ@U.st.c@    Numb;  -->  პირველ0@U.st.c@:პირველ@U.st.c@    Numb;\n",
        "0@U.st.c@:კრიტერიუმ@U.st.c@    Numb; --> კრიტერიუმ@U.st.c@:კრიტერიუმ@U.st.c@    Numb;\n",
        "0@U.st.c@:მკვლელ@U.st.c@    Numb; -->    მკვლელ@U.st.c@:მკვლელ@U.st.c@    Numb\n",
        "0@U.st.c@:აბ@U.st.c@    Numb; -->    აბ@U.st.c@:აბ@U.st.c@    Numb;\n",
        "0@U.st.c@:აბაზიან@U.st.c@    Numb; -->  აბაზიან@U.st.c@:აბაზიან@U.st.c@    Numb;\n",
        "0@U.st.c@:აბაჟურ@U.st.c@    Numb; -->  აბაჟურ@U.st.c@:აბაჟურ@U.st.c@    Numb;\n",
        "```\n",
        "- v02, works with another data format as well:\n",
        "```\n",
        "0:კაც     Numb;   -->  კაც:კაც     Numb;\n",
        "0:პირველ    Numb;  -->  პირველ:პირველ    Numb;\n",
        "0:კრიტერიუმ    Numb; --> კრიტერიუმ:კრიტერიუმ    Numb;\n",
        "0:მკვლელ    Numb; -->    მკვლელ:მკვლელ    Numb\n",
        "```\n"
      ]
    },
    {
      "cell_type": "markdown",
      "source": [
        "### Downloading the sample and reference files\n",
        "- After downloading, press the [Refresh] button to the left in [Files] to check that the files have been downloaded onto the colab disk system"
      ],
      "metadata": {
        "id": "B7cEign23yrB"
      }
    },
    {
      "cell_type": "code",
      "metadata": {
        "id": "qTbwU3y0fSLj"
      },
      "source": [
        "# !wget https://heibox.uni-heidelberg.de/f/202e979339704cd49b25/?dl=1\n",
        "# !mv index.html?dl=1 fst-sample.txt\n",
        "\n",
        "# sample IN file to convert\n",
        "!wget https://heibox.uni-heidelberg.de/f/d9f11668d9c543939857/?dl=1\n",
        "!mv index.html?dl=1 fst-sample-in.txt\n",
        "\n",
        "# reference file REF: to compare the results\n",
        "!wget https://heibox.uni-heidelberg.de/f/151bce7e603849f8bcdf/?dl=1\n",
        "!mv index.html?dl=1 fst-sample-ref.txt\n",
        "\n"
      ],
      "execution_count": null,
      "outputs": []
    },
    {
      "cell_type": "code",
      "metadata": {
        "id": "prmzLZx5gamr"
      },
      "source": [
        "import re, os, sys\n",
        "FIn = open('fst-sample-in.txt', 'r')\n",
        "FOut = open('fst-sample-out.txt', 'w')\n",
        "\n",
        "for SLine in FIn:\n",
        "    SLine = SLine.strip()\n",
        "    if re.search('@:.+?@', SLine):\n",
        "        SStem = re.search('@:(.+?)@', SLine).group(1)\n",
        "        print(SStem)\n",
        "        SLineOut = re.sub('^0', SStem, SLine, 1)\n",
        "        FOut.write(SLineOut + '\\n')\n",
        "    else:\n",
        "        FOut.write(SLine + '\\n')\n",
        "FOut.flush()\n"
      ],
      "execution_count": null,
      "outputs": []
    }
  ]
}