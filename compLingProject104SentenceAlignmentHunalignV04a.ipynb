{
  "nbformat": 4,
  "nbformat_minor": 0,
  "metadata": {
    "colab": {
      "name": "compLingProject104SentenceAlignmentHunalignV04a.ipynb",
      "provenance": [],
      "collapsed_sections": [],
      "include_colab_link": true
    },
    "kernelspec": {
      "name": "python3",
      "display_name": "Python 3"
    },
    "language_info": {
      "name": "python"
    }
  },
  "cells": [
    {
      "cell_type": "markdown",
      "metadata": {
        "id": "view-in-github",
        "colab_type": "text"
      },
      "source": [
        "<a href=\"https://colab.research.google.com/github/iued-uni-heidelberg/DAAD-Training-2021/blob/main/compLingProject104SentenceAlignmentHunalignV04a.ipynb\" target=\"_parent\"><img src=\"https://colab.research.google.com/assets/colab-badge.svg\" alt=\"Open In Colab\"/></a>"
      ]
    },
    {
      "cell_type": "markdown",
      "source": [
        "# Experiments with alignment tools"
      ],
      "metadata": {
        "id": "hhDdKnVbT6Aa"
      }
    },
    {
      "cell_type": "markdown",
      "source": [
        "resources / corpora:\n",
        "https://heibox.uni-heidelberg.de/d/d65daff8341e467c82b1/\n",
        "\n",
        "\n",
        "Instructions are here:\n",
        "https://github.com/danielvarga/hunalign\n"
      ],
      "metadata": {
        "id": "iM-SQNgcjh6t"
      }
    },
    {
      "cell_type": "code",
      "execution_count": null,
      "metadata": {
        "id": "5wTTt2yCTo7U",
        "outputId": "efd9383f-a641-4dbf-ad10-cbd8d8147f39",
        "colab": {
          "base_uri": "https://localhost:8080/"
        }
      },
      "outputs": [
        {
          "output_type": "stream",
          "name": "stdout",
          "text": [
            "Cloning into 'hunalign'...\n",
            "remote: Enumerating objects: 397, done.\u001b[K\n",
            "remote: Total 397 (delta 0), reused 0 (delta 0), pack-reused 397\u001b[K\n",
            "Receiving objects: 100% (397/397), 7.60 MiB | 17.14 MiB/s, done.\n",
            "Resolving deltas: 100% (191/191), done.\n"
          ]
        }
      ],
      "source": [
        "!git clone https://github.com/danielvarga/hunalign.git"
      ]
    },
    {
      "cell_type": "code",
      "source": [
        "%cd hunalign/src/hunalign\n",
        "!pwd"
      ],
      "metadata": {
        "id": "ZddMwgW9T5Rj",
        "outputId": "e6bf59f0-10da-42c3-abac-8e15eb4c3075",
        "colab": {
          "base_uri": "https://localhost:8080/"
        }
      },
      "execution_count": null,
      "outputs": [
        {
          "output_type": "stream",
          "name": "stdout",
          "text": [
            "/content/hunalign/src/hunalign\n",
            "/content/hunalign/src/hunalign\n"
          ]
        }
      ]
    },
    {
      "cell_type": "code",
      "source": [
        "!make"
      ],
      "metadata": {
        "id": "hJbwoRqGVK_O",
        "outputId": "1f823488-af86-4ea7-9a94-7789c654524b",
        "colab": {
          "base_uri": "https://localhost:8080/"
        }
      },
      "execution_count": null,
      "outputs": [
        {
          "output_type": "stream",
          "name": "stdout",
          "text": [
            "g++  -O9 -ffast-math -funroll-loops -I ../include  -c -o alignerTool.o alignerTool.cpp\n",
            "g++  -O9 -ffast-math -funroll-loops -I ../include  -c -o alignment.o alignment.cpp\n",
            "g++  -O9 -ffast-math -funroll-loops -I ../include  -c -o bloom.o bloom.cpp\n",
            "g++  -O9 -ffast-math -funroll-loops -I ../include  -c -o bookToMatrix.o bookToMatrix.cpp\n",
            "g++  -O9 -ffast-math -funroll-loops -I ../include  -c -o cooccurrence.o cooccurrence.cpp\n",
            "In file included from \u001b[01m\u001b[K/usr/include/c++/7/ext/hash_map:60:0\u001b[m\u001b[K,\n",
            "                 from \u001b[01m\u001b[K../include/portableHash.h:23\u001b[m\u001b[K,\n",
            "                 from \u001b[01m\u001b[Kcooccurrence.cpp:36\u001b[m\u001b[K:\n",
            "\u001b[01m\u001b[K/usr/include/c++/7/backward/backward_warning.h:32:2:\u001b[m\u001b[K \u001b[01;35m\u001b[Kwarning: \u001b[m\u001b[K#warning This file includes at least one deprecated or antiquated header which may be removed without further notice at a future date. Please use a non-deprecated interface with equivalent functionality instead. For a listing of replacement headers and interfaces, consult the file backward_warning.h. To disable this warning use -Wno-deprecated. [\u001b[01;35m\u001b[K-Wcpp\u001b[m\u001b[K]\n",
            " #\u001b[01;35m\u001b[Kwarning\u001b[m\u001b[K \\\n",
            "  \u001b[01;35m\u001b[K^~~~~~~\u001b[m\u001b[K\n",
            "g++  -O9 -ffast-math -funroll-loops -I ../include  -c -o cooccurrenceTool.o cooccurrenceTool.cpp\n",
            "g++  -O9 -ffast-math -funroll-loops -I ../include  -c -o dictionary.o dictionary.cpp\n",
            "g++  -O9 -ffast-math -funroll-loops -I ../include  -c -o main.o main.cpp\n",
            "g++  -O9 -ffast-math -funroll-loops -I ../include  -c -o networkFlow.o networkFlow.cpp\n",
            "In file included from \u001b[01m\u001b[K/usr/include/c++/7/ext/hash_map:60:0\u001b[m\u001b[K,\n",
            "                 from \u001b[01m\u001b[K../include/portableHash.h:23\u001b[m\u001b[K,\n",
            "                 from \u001b[01m\u001b[KnetworkFlow.cpp:15\u001b[m\u001b[K:\n",
            "\u001b[01m\u001b[K/usr/include/c++/7/backward/backward_warning.h:32:2:\u001b[m\u001b[K \u001b[01;35m\u001b[Kwarning: \u001b[m\u001b[K#warning This file includes at least one deprecated or antiquated header which may be removed without further notice at a future date. Please use a non-deprecated interface with equivalent functionality instead. For a listing of replacement headers and interfaces, consult the file backward_warning.h. To disable this warning use -Wno-deprecated. [\u001b[01;35m\u001b[K-Wcpp\u001b[m\u001b[K]\n",
            " #\u001b[01;35m\u001b[Kwarning\u001b[m\u001b[K \\\n",
            "  \u001b[01;35m\u001b[K^~~~~~~\u001b[m\u001b[K\n",
            "g++  -O9 -ffast-math -funroll-loops -I ../include  -c -o oldAlignTest.o oldAlignTest.cpp\n",
            "g++  -O9 -ffast-math -funroll-loops -I ../include  -c -o trailPostprocessors.o trailPostprocessors.cpp\n",
            "g++  -O9 -ffast-math -funroll-loops -I ../include  -c -o translate.o translate.cpp\n",
            "g++  -O9 -ffast-math -funroll-loops -I ../include  -c -o wordAlignment.o wordAlignment.cpp\n",
            "g++  -O9 -ffast-math -funroll-loops -I ../include  -c -o ../utils/stringsAndStreams.o ../utils/stringsAndStreams.cpp\n",
            "g++  -O9 -ffast-math -funroll-loops -I ../include  -c -o ../utils/argumentsParser.o ../utils/argumentsParser.cpp\n",
            "g++  -O9 -ffast-math -funroll-loops -I ../include  -c -o ../utils/timer.o ../utils/timer.cpp\n",
            "g++ -O9 -ffast-math -funroll-loops -I ../include -lstdc++ -o hunalign alignerTool.o alignment.o bloom.o bookToMatrix.o cooccurrence.o cooccurrenceTool.o dictionary.o main.o networkFlow.o oldAlignTest.o trailPostprocessors.o translate.o wordAlignment.o ../utils/stringsAndStreams.o ../utils/argumentsParser.o ../utils/timer.o\n"
          ]
        }
      ]
    },
    {
      "cell_type": "code",
      "source": [
        "%cd /content/hunalign/\n",
        "!pwd\n",
        "!src/hunalign/hunalign data/hu-en.stem.dic examples/demo.hu.stem examples/demo.en.stem -hand=examples/demo.manual.ladder -text > /tmp/align.txt\n",
        "# !less /tmp/align.txt"
      ],
      "metadata": {
        "id": "fVz4B9KoVW7T"
      },
      "execution_count": null,
      "outputs": []
    },
    {
      "cell_type": "code",
      "source": [
        "!head --lines=20 /tmp/align.txt"
      ],
      "metadata": {
        "id": "aSfCT3TzeYfl",
        "outputId": "e2b402a5-74e5-4260-9dc0-259feec0f087",
        "colab": {
          "base_uri": "https://localhost:8080/"
        }
      },
      "execution_count": null,
      "outputs": [
        {
          "output_type": "stream",
          "name": "stdout",
          "text": [
            "<p>\t<p>\t0\n",
            "john steinbeck\tjohn steinbeck\t2.3\n",
            "egy mar�k arany\t\t-0.3\n",
            "ford�t : ungv�ri tam�s\t\t-0.3\n",
            "tartalom\t( c ) 1929\t0.2625\n",
            "egy fejezet\t\t-0.3\n",
            "kett� fejezet\t\t-0.3\n",
            "h�rom fejezet\t\t-0.3\n",
            "n�gy fejezet\t\t-0.3\n",
            "�t fejezet\t\t-0.3\n",
            "egy fejezet\t1 1 chapter i\t0.3\n",
            "1\t1 1 1 i\t16.35\n",
            "<p>\t\t0\n",
            "az �jfekete walesi szurdok d�lut�n megindult a sz�l ; hirdet hogy a vil�g t�l k�zel�t a sarkvid�k ~~~ a foly� m�r csendes moraj zajlik a j�g\tall afternoon the wind sift out of the black welsh glen crying notice that winter be come sliding down over the world from the pole ; and riverward there be the faint moan of new ice\t0.879268\n",
            "szomor� sz�rke nap volt ez a nyugtalans�g el�gedetlens�g\the be a sad day a day of grey unrest of discontent\t1.55833\n",
            "a szell� finom fuvallat l�gy s gyeng�d el�gia mintha valami vid�m dolog b�cs�ztat\tthe gently moving air seem to be celebrate the loss of some gay thing with a soft tender elegy\t1.34143\n",
            "de a mez� ideges toporz�kol a testes ig�sl� s az apr� barn�s mad�r vid�kszerte n�gyes-�t�s raj repdes egyik fa a m�sik majd �jra vissza : �jonc h�v - toboroz d�li v�ndor�t\tbut in the pasture great work horse nervously stamp he foot and all through the country small brown bird in clique of four or five fly twitter from tree to tree and back again seek and calling in recruit for he southing\t1.10418\n",
            "a mag�nyos s kiugr� szikla cs�cs n�h�ny kecske kaptat fel : s�rga szem hosszasan k�mlel a magass�g s a felh� szagl�sz\ta few goat clamber to the tops of high lone rock and long stare upward with he yellow eyes and sniff the heaven\t1.09152\n",
            "<p>\t<p>\t0\n",
            "a d�lut�n egy processzi� lass�s�g k�zeleg mely az este rekeszt be az est sarok pedig a nyugtalan sz�l rohamoz z�r�g t�le a sz�raz f� amint jajong sz�ll a f�ld\tthe afternoon pass slowly procession-like with an end of evening and on the heel of the evening an excited wind rush out rustle in the dry grass and flee whimpering across the field\t1.16558\n"
          ]
        }
      ]
    },
    {
      "cell_type": "code",
      "source": [
        "%cd /content/\n",
        "!pwd"
      ],
      "metadata": {
        "colab": {
          "base_uri": "https://localhost:8080/"
        },
        "id": "OtZIH64gfTO6",
        "outputId": "04d5e83b-e2dd-4077-eee8-93c8ca471e5f"
      },
      "execution_count": null,
      "outputs": [
        {
          "output_type": "stream",
          "name": "stdout",
          "text": [
            "/content\n",
            "/content\n"
          ]
        }
      ]
    },
    {
      "cell_type": "code",
      "source": [
        "# downloading files - en es\n",
        "!wget https://heibox.uni-heidelberg.de/f/dc01904f8f9040a69610/?dl=1\n",
        "!mv index.html?dl=1 solar-t01-en-RE01.txt\n",
        "!wget https://heibox.uni-heidelberg.de/f/646957ccb3d24f359ed7/?dl=1\n",
        "!mv index.html?dl=1 solar-t01-es-RE01.txt"
      ],
      "metadata": {
        "id": "4C3Lu_yijc-2"
      },
      "execution_count": null,
      "outputs": []
    },
    {
      "cell_type": "code",
      "source": [
        "# downloading files - en de\n",
        "!wget https://heibox.uni-heidelberg.de/f/dc489828a2d642bfba82/?dl=1\n",
        "!mv index.html?dl=1 ab-t01-en.txt\n",
        "# English file\n",
        "!wget https://heibox.uni-heidelberg.de/f/e7e542d75d7644d1857d/?dl=1\n",
        "!mv index.html?dl=1 ab-t01-de.txt\n",
        "# Other language files"
      ],
      "metadata": {
        "id": "-irmCMkDjfjK"
      },
      "execution_count": null,
      "outputs": []
    },
    {
      "cell_type": "code",
      "source": [
        "!head --lines=10 ab-t01-en.txt"
      ],
      "metadata": {
        "id": "S7VB7wPmes6C"
      },
      "execution_count": null,
      "outputs": []
    },
    {
      "cell_type": "code",
      "source": [
        "!head --lines=10 ab-t01-de.txt"
      ],
      "metadata": {
        "id": "84YR_aNtfmz6"
      },
      "execution_count": null,
      "outputs": []
    },
    {
      "cell_type": "code",
      "source": [
        "!./hunalign/src/hunalign/hunalign -text -realign -autodict=es2enAutodict.txt ./hunalign/data/null.dic solar-t01-en-RE01.txt solar-t01-es-RE01.txt > solar-t01-en2esAlignment.tsv"
      ],
      "metadata": {
        "id": "YbI3WH-WccuO"
      },
      "execution_count": null,
      "outputs": []
    },
    {
      "cell_type": "code",
      "source": [
        "!./hunalign/src/hunalign/hunalign -text -realign -autodict=de2enAutodict.txt ./hunalign/data/null.dic  > "
      ],
      "metadata": {
        "id": "JBo3h8SMdZfv"
      },
      "execution_count": null,
      "outputs": []
    },
    {
      "cell_type": "code",
      "source": [
        "\n",
        "!./hunalign/src/hunalign/hunalign -text -realign -autodict=de2enAutodict.txt ./hunalign/data/null.dic ab-t001-en-fatigue.txt ab-t001-de-fatigue.txt > ab-t001-en2de-fatigue.tsv"
      ],
      "metadata": {
        "id": "aeeVxY50OtDX",
        "outputId": "3593cb60-cec0-4def-cdb2-d3459d4a527a",
        "colab": {
          "base_uri": "https://localhost:8080/"
        }
      },
      "execution_count": null,
      "outputs": [
        {
          "output_type": "stream",
          "name": "stdout",
          "text": [
            "Reading dictionary...\n",
            "188 source language sentences read.\n",
            "206 target language sentences read.\n",
            "quasiglobal_stopwordRemoval is set to 0\n",
            "Simplified dictionary ready.\n",
            "Rough translation ready.\n",
            "0 \n",
            "100 \n",
            "Rough translation-based similarity matrix ready.\n",
            "Matrix built.\n",
            "Trail found.\n",
            "Align ready.\n",
            "Global quality of unfiltered align 0.799821\n",
            "4034 items inside the border.\n",
            "Border of realign zone determined.\n",
            "178 bisentences collected.\n",
            "Plausible bisentences filtered.\n",
            "Removing stopwords...Removing identicals... (1). (1, (11). (11): (11, (12). (13, (15), (16). (17) (18) (19). (2, (20), (21). (22, (24) (26). (29, (3, (32) (33). (34) (35, (5) (5). (5, (6). (7). (8). (9, (N (N: (SBS), (e1, (e12, (e14). (e15). (e17). (e18). (e19). (e20). (e21). (e22). (e23). (e24). (e25). (e26). (e3, (e39), (e39). (e40) (e42)? (e43)? (e45, (e46) (e47), (e5, (e7, (e9, 012 054 0–2 1 1). 1): 1. 10 10), 10.3238/arztebl.m2021.0192 10.3238/arztebl.m2021.0225 11, 118: 14, 15). 16 2 2) 2). 20 2012 2013 2015 2015) 2016 2016. 2020 2020) 2020. 2021; 22 23) 28 29, 3 3, 30, 31) 36). 4 4). 483 491 5 50 5–8 648 85 = Allgemeinmedizin Arztebl Baum, Bock, Bundeszentrale Clinical Cochrane DOI: Database De Definition Dietrich, Donner-Banzhoff, Dreibholz Dtsch Gesellschaft Hamburg In Int LNSLNS Maisel, Medline Reckendrees, Reibling, Reviews Seefeld, Spura, Systematic Trends [2012], [2014], [2016], [2018], [2020]). e10, e13). e16). e2) e38). e6). e8). fatigue für gesundheitliche high in mIU/L mellitus, moderate multiple neck observed plausible positive primary qualitative tiredness, und ± µg/mL ≥ \n",
            "170 identical translations found.\n",
            "Removing hapaxes...11 hapax-based dictionary items found.\n",
            "Building CorpusConstellation... Done.\n",
            "0 items left in original dictionary.\n",
            "Removing stopwords...Removing identicals... \n",
            "0 identical translations found.\n",
            "Removing hapaxes...0 hapax-based dictionary items found.\n",
            "Building CorpusConstellation... Done.\n",
            "5418 new dictionary items found.\n",
            "Simplified dictionary ready.\n",
            "Rough translation ready.\n",
            "0 \n",
            "100 Matrix built.\n",
            "Trail found.\n",
            "Detail realign ready.\n",
            "Global quality of unfiltered align after realign 0.895947\n",
            "quasiglobal_spaceOutBySentenceLength is set to 1\n",
            "Trail spaced out by sentence length.\n",
            "Global quality of unfiltered align after realign 0.895947\n",
            "Quality 0.895947\n"
          ]
        }
      ]
    },
    {
      "cell_type": "code",
      "source": [
        "# copy dictionaries for editing\n",
        "!cp es2enAutodict.txt es2enAutodict.dic\n",
        "!cp de2enAutodict.txt de2enAutodict.dic"
      ],
      "metadata": {
        "id": "V_gxwlekhkZW"
      },
      "execution_count": null,
      "outputs": []
    },
    {
      "cell_type": "code",
      "source": [
        "# you can edit dictionaries and try realigning tests if results are not good, like in this example:\n",
        "!./hunalign/src/hunalign/hunalign -text -realign -autodict=es2enAutodict2.txt es2enAutodict.txt solar-t01-en-RE01.txt solar-t01-es-RE01.txt > solar-t01-en2esAlignment2.txt"
      ],
      "metadata": {
        "id": "yh_I8HhHivWJ"
      },
      "execution_count": null,
      "outputs": []
    },
    {
      "cell_type": "code",
      "source": [
        "%cd /content/"
      ],
      "metadata": {
        "id": "4uqIFYZHlaTo"
      },
      "execution_count": null,
      "outputs": []
    },
    {
      "cell_type": "markdown",
      "source": [
        "# Converting tsv to tmx"
      ],
      "metadata": {
        "id": "vYPVNJE9naFM"
      }
    },
    {
      "cell_type": "code",
      "source": [
        "# change names of files accordingly (input and output)\n",
        "import re, os, sys\n",
        "FIn = open('ab-t01-en2de.tsv', 'r')\n",
        "FOut = open('ab-t01-en2de.tmx', 'w')\n",
        "SrcLang = 'en'\n",
        "TgtLang = 'de'\n",
        "\n",
        "SLineHead = '''<?xml version=\"1.0\" encoding=\"UTF-8\"?>\n",
        "<!DOCTYPE tmx SYSTEM \"tmx14.dtd\">\n",
        "<tmx version=\"1.4\">\n",
        "  <header creationtool=\"OmegaT\" o-tmf=\"OmegaT TMX\" adminlang=\"EN-US\" datatype=\"plaintext\" creationtoolversion=\"5.7.0_0_8ae1ecfb\" segtype=\"sentence\" srclang=\"en\"/>\n",
        "  <body>\n",
        "'''\n",
        "SLineEnd = '''\n",
        "  </body>\n",
        "</tmx>\n",
        "'''\n",
        "\n",
        "FOut.write(SLineHead)\n",
        "for SLine in FIn:\n",
        "    SLine = SLine.strip()\n",
        "    LLine = re.split('\\t', SLine)\n",
        "    try:\n",
        "        SSrcLang = LLine[0]\n",
        "        STgtLang = LLine[1]\n",
        "\n",
        "        STuvSLTag = f'      <tuv xml:lang=\"{SrcLang}\">'\n",
        "        STuvTLTag = f'      <tuv xml:lang=\"{TgtLang}\">'\n",
        "\n",
        "        STuvSL = STuvSLTag + '''\\n        <seg>''' + SSrcLang + '''</seg>\\n''' + '''      </tuv>\\n'''\n",
        "        STuvTL = STuvTLTag + '''\\n        <seg>''' + STgtLang + '''</seg>\\n''' + '''      </tuv>\\n'''\n",
        "\n",
        "        STuv = '''    <tu>\\n''' + STuvSL + STuvTL + '''    </tu>\\n'''\n",
        "        FOut.write(STuv)\n",
        "    except:\n",
        "        continue\n",
        "FOut.write(SLineEnd)\n",
        "FOut.flush()"
      ],
      "metadata": {
        "id": "ZzYUz9XineGH"
      },
      "execution_count": null,
      "outputs": []
    }
  ]
}