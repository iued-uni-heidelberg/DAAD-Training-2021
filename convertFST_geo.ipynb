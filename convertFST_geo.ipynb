{
  "nbformat": 4,
  "nbformat_minor": 0,
  "metadata": {
    "colab": {
      "name": "convertFST_geo.ipynb",
      "provenance": [],
      "collapsed_sections": [],
      "authorship_tag": "ABX9TyNps4NyQiD2mMtd0ZE9tNiH",
      "include_colab_link": true
    },
    "kernelspec": {
      "name": "python3",
      "display_name": "Python 3"
    },
    "language_info": {
      "name": "python"
    }
  },
  "cells": [
    {
      "cell_type": "markdown",
      "metadata": {
        "id": "view-in-github",
        "colab_type": "text"
      },
      "source": [
        "<a href=\"https://colab.research.google.com/github/iued-uni-heidelberg/DAAD-Training-2021/blob/main/convertFST_geo.ipynb\" target=\"_parent\"><img src=\"https://colab.research.google.com/assets/colab-badge.svg\" alt=\"Open In Colab\"/></a>"
      ]
    },
    {
      "cell_type": "markdown",
      "metadata": {
        "id": "sFwBWpicfrxK"
      },
      "source": [
        "converts FST to a form, where we can do lemmatization\n"
      ]
    },
    {
      "cell_type": "code",
      "metadata": {
        "id": "qTbwU3y0fSLj"
      },
      "source": [
        "!wget https://heibox.uni-heidelberg.de/f/202e979339704cd49b25/?dl=1\n",
        "!mv index.html?dl=1 fst-sample.txt "
      ],
      "execution_count": null,
      "outputs": []
    },
    {
      "cell_type": "code",
      "metadata": {
        "colab": {
          "base_uri": "https://localhost:8080/"
        },
        "id": "prmzLZx5gamr",
        "outputId": "9b724155-c12a-4bdc-e5f2-edcb3682e50d"
      },
      "source": [
        "import re, os, sys\n",
        "FIn = open('fst-sample.txt', 'r')\n",
        "FOut = open('fst-sample-out.txt', 'w')\n",
        "\n",
        "for SLine in FIn:\n",
        "    SLine = SLine.strip()\n",
        "    if re.search('@:.+?@', SLine):\n",
        "        SStem = re.search('@:(.+?)@', SLine).group(1)\n",
        "        print(SStem)\n",
        "        SLineOut = re.sub('^0')0\n"
      ],
      "execution_count": 9,
      "outputs": [
        {
          "output_type": "stream",
          "name": "stdout",
          "text": [
            "კაც\n",
            "პირველ\n",
            "კრიტერიუმ\n",
            "მკვლელ\n",
            "აბ\n",
            "აბაზიან\n",
            "აბაჟურ\n"
          ]
        }
      ]
    }
  ]
}