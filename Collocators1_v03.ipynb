{
  "nbformat": 4,
  "nbformat_minor": 0,
  "metadata": {
    "colab": {
      "name": "Collocators1_v03.ipynb",
      "provenance": [],
      "collapsed_sections": [],
      "include_colab_link": true
    },
    "kernelspec": {
      "name": "python3",
      "display_name": "Python 3"
    },
    "language_info": {
      "name": "python"
    }
  },
  "cells": [
    {
      "cell_type": "markdown",
      "metadata": {
        "id": "view-in-github",
        "colab_type": "text"
      },
      "source": [
        "<a href=\"https://colab.research.google.com/github/iued-uni-heidelberg/DAAD-Training-2021/blob/main/Collocators1_v03.ipynb\" target=\"_parent\"><img src=\"https://colab.research.google.com/assets/colab-badge.svg\" alt=\"Open In Colab\"/></a>"
      ]
    },
    {
      "cell_type": "code",
      "source": [
        "from nltk.corpus import PlaintextCorpusReader\n",
        "corpus_root = './EP_c'\n",
        "EP_WL = PlaintextCorpusReader(corpus_root, '.*')\n",
        "#wordlists.fileids()\n",
        "#wordl = ['commission', 'democracy']\n",
        "EP_words = EP_WL.words()\n",
        "Freq_EP=nltk.FreqDist(EP_WL.words())\n",
        "Freq_EP.items()\n"
      ],
      "metadata": {
        "id": "KAZoCIDJGVnD"
      },
      "execution_count": null,
      "outputs": []
    },
    {
      "cell_type": "code",
      "source": [
        "import nltk\n",
        "from nltk.corpus import brown\n",
        "from nltk.text import Text\n",
        "import pandas as pd\n",
        "import numpy as np\n",
        "!wget https://heibox.uni-heidelberg.de/f/893e129ed27448e5b03d/?dl=1\n",
        "!cp index.html?dl=1 ep_en_de.txt\n",
        "!mkdir EP_c\n",
        "!mv ep_en_de.txt ./EP_c/\n",
        "from nltk.corpus import PlaintextCorpusReader\n",
        "corpus_root = './EP_c'\n",
        "EP_WL = PlaintextCorpusReader(corpus_root, '.*')\n",
        "EP_words = EP_WL.words()\n",
        "#Freq_EP=nltk.FreqDist(EP_WL.words())\n",
        "#Freq_EP.items()\n"
      ],
      "metadata": {
        "colab": {
          "base_uri": "https://localhost:8080/"
        },
        "id": "Hu1zywVG5iLX",
        "outputId": "4285f2de-c5f3-4c6f-b6a7-0799e0ef6caa"
      },
      "execution_count": null,
      "outputs": [
        {
          "output_type": "stream",
          "name": "stdout",
          "text": [
            "--2021-12-30 09:18:22--  https://heibox.uni-heidelberg.de/f/893e129ed27448e5b03d/?dl=1\n",
            "Resolving heibox.uni-heidelberg.de (heibox.uni-heidelberg.de)... 129.206.7.113\n",
            "Connecting to heibox.uni-heidelberg.de (heibox.uni-heidelberg.de)|129.206.7.113|:443... connected.\n",
            "HTTP request sent, awaiting response... 302 Found\n",
            "Location: https://heibox.uni-heidelberg.de/seafhttp/files/0c93c305-6306-4454-a798-c9d9a664d6b7/en_de_or_l.txt [following]\n",
            "--2021-12-30 09:18:23--  https://heibox.uni-heidelberg.de/seafhttp/files/0c93c305-6306-4454-a798-c9d9a664d6b7/en_de_or_l.txt\n",
            "Reusing existing connection to heibox.uni-heidelberg.de:443.\n",
            "HTTP request sent, awaiting response... 200 OK\n",
            "Length: 50710231 (48M) [text/plain]\n",
            "Saving to: ‘index.html?dl=1’\n",
            "\n",
            "index.html?dl=1     100%[===================>]  48.36M  5.90MB/s    in 8.5s    \n",
            "\n",
            "2021-12-30 09:18:32 (5.67 MB/s) - ‘index.html?dl=1’ saved [50710231/50710231]\n",
            "\n"
          ]
        }
      ]
    },
    {
      "cell_type": "code",
      "source": [
        "type(EP_words)"
      ],
      "metadata": {
        "id": "FC9UlzxE_HDJ",
        "outputId": "731adb51-a899-4ea1-dd94-071bd6a6c1fd",
        "colab": {
          "base_uri": "https://localhost:8080/"
        }
      },
      "execution_count": null,
      "outputs": [
        {
          "output_type": "execute_result",
          "data": {
            "text/plain": [
              "nltk.corpus.reader.util.StreamBackedCorpusView"
            ]
          },
          "metadata": {},
          "execution_count": 16
        }
      ]
    },
    {
      "cell_type": "code",
      "source": [
        "len(EP_words)"
      ],
      "metadata": {
        "id": "vbUYfDnu_PWo",
        "outputId": "5df72e87-6785-4336-f45d-a8383357caea",
        "colab": {
          "base_uri": "https://localhost:8080/"
        }
      },
      "execution_count": null,
      "outputs": [
        {
          "output_type": "execute_result",
          "data": {
            "text/plain": [
              "8160499"
            ]
          },
          "metadata": {},
          "execution_count": 17
        }
      ]
    },
    {
      "cell_type": "code",
      "source": [
        "print(EP_words[0:10])"
      ],
      "metadata": {
        "id": "pqSGXgOF_VVA",
        "outputId": "134e6d3f-6f3d-4b85-f429-26d27222ceea",
        "colab": {
          "base_uri": "https://localhost:8080/"
        }
      },
      "execution_count": null,
      "outputs": [
        {
          "output_type": "stream",
          "name": "stdout",
          "text": [
            "['madam', 'President', ',', 'on', 'a', 'point', 'of', 'order', '.', 'you']\n"
          ]
        }
      ]
    },
    {
      "cell_type": "code",
      "source": [
        "from nltk.corpus.reader import wordlist\n",
        "def colloc(lexem, text, span):\n",
        "  from collections import Counter    \n",
        "  text = [each_string.lower() for each_string in text]\n",
        "  \n",
        "  text_slice = text[span:(len(text)-span)]\n",
        "  tdict = dict(Counter(text_slice))\n",
        "  spandict =  spanlist(lexem, text, span)\n",
        "  t_words = sum(tdict.values())\n",
        "  print(t_words)\n",
        "  s_words = sum(spandict.values())\n",
        "  print(s_words)\n",
        "# return(tdict)\n",
        "\n",
        "  freq_lexem = tdict[lexem]\n",
        "  print(\"flex\")\n",
        "  print(freq_lexem)\n",
        "  l_cand = list()\n",
        "  l_mi = list()\n",
        "  colloc_dic ={}\n",
        "  for candidate in spandict:\n",
        "    print(candidate)\n",
        "    freq_cand_span = spandict[candidate]\n",
        "    print(\"fcs\")\n",
        "    print(freq_cand_span)\n",
        "    freq_cand = tdict[candidate]\n",
        "    print(\"fc\")\n",
        "    print(freq_cand)\n",
        "    p_cand_span = freq_cand_span/s_words\n",
        "    print(\"pcs\")\n",
        "    print(p_cand_span)\n",
        "    p_lexem = freq_lexem/t_words\n",
        "    print(\"plex\")\n",
        "    print(p_lexem)\n",
        "    p_cand = freq_cand/t_words\n",
        "    print(\"pc\")\n",
        "    print(p_cand)\n",
        "    # MI = p_cand_span/(p_cand*p_lexem)\n",
        "    MI = freq_cand_span * t_words / (freq_cand * s_words)\n",
        "    print(MI)\n",
        "    l_cand.append(candidate)\n",
        "    l_mi.append(MI)\n",
        "    colloc_dic[candidate] = MI\n",
        "\n",
        "  '''\n",
        "  zip_iterator = zip(l_cand, l_mi)\n",
        "  colloc_dic ={}\n",
        "  for key, value in zip_iterator:\n",
        "    colloc_dic[key] = value\n",
        "  '''\n",
        "#  \n",
        "\n",
        "  FO = FileOut = open(lexem+'_coll.txt', 'w')\n",
        "  for word, mi in sorted(colloc_dic.items(), key=lambda x: x[1], reverse=True):\n",
        "  #save the collocates list\n",
        "    FileOut.write(word)\n",
        "    FileOut.write('\\t')\n",
        "    FileOut.write(str(mi))\n",
        "    FileOut.write('\\n')\n",
        "\n",
        "  FileOut.flush()\n",
        "  FileOut.close()\n",
        "\n",
        "  return tdict\n",
        "  # return colloc_dic\n",
        "\n",
        "\n",
        "\n",
        "def spanlist(lexem, text, span):\n",
        "  from collections import Counter    \n",
        "  slist = list()\n",
        "  text = [each_string.lower() for each_string in text]\n",
        "  \n",
        "  text_slice = text[span:(len(text)-span)]\n",
        "  for i in range(0,len(text_slice)-1):\n",
        "    if text_slice[i] == lexem:\n",
        "      for w in text[(i-span+5):(i+5)]:\n",
        "        slist.append(w)\n",
        "      for w in text[(i+6):(i+span+6)]:\n",
        "        slist.append(w.lower())\n",
        "  sdict = dict(Counter(slist))\n",
        "  return sdict  \n"
      ],
      "metadata": {
        "id": "7k_Uh1mE-wcH"
      },
      "execution_count": null,
      "outputs": []
    },
    {
      "cell_type": "code",
      "source": [
        "EP_test = EP_words[0:500000]\n",
        "# tdict = colloc('president', EP_test, 5)\n",
        "tdict = colloc('commission', EP_words, 5)\n",
        "#print(tdict)\n",
        "# sdict = spanlist('value', EP_words, 5)\n",
        "# sdict = spanlist('president', EP_test, 5)\n",
        "#sdict\n",
        "#tdict\n"
      ],
      "metadata": {
        "id": "BaebvMlGBwyf"
      },
      "execution_count": null,
      "outputs": []
    },
    {
      "cell_type": "code",
      "source": [
        "if 'hot-spots' in EP_words:\n",
        "  print('found')\n",
        "  "
      ],
      "metadata": {
        "id": "cP2LwwUOcpVk"
      },
      "execution_count": null,
      "outputs": []
    },
    {
      "cell_type": "code",
      "source": [
        "!grep \"hot-spot\" /content/EP_c/ep_en_de.txt"
      ],
      "metadata": {
        "id": "oIEzO2CrcQ18",
        "outputId": "0168aad6-4216-482e-e96e-c049bc9e7316",
        "colab": {
          "base_uri": "https://localhost:8080/"
        }
      },
      "execution_count": null,
      "outputs": [
        {
          "output_type": "stream",
          "name": "stdout",
          "text": [
            "hot-spots\r\n"
          ]
        }
      ]
    },
    {
      "cell_type": "code",
      "source": [
        "tdict['spot']"
      ],
      "metadata": {
        "id": "-R1k7RuMb_gn",
        "outputId": "637ebe0c-a19e-4aaa-c297-bee7ed757419",
        "colab": {
          "base_uri": "https://localhost:8080/"
        }
      },
      "execution_count": null,
      "outputs": [
        {
          "output_type": "execute_result",
          "data": {
            "text/plain": [
              "119"
            ]
          },
          "metadata": {},
          "execution_count": 71
        }
      ]
    },
    {
      "cell_type": "code",
      "source": [
        "FSumOfValues = sum(tdict.values())"
      ],
      "metadata": {
        "id": "JV-Vu4NPEbLA"
      },
      "execution_count": null,
      "outputs": []
    },
    {
      "cell_type": "code",
      "source": [
        "FSumOfValues\n"
      ],
      "metadata": {
        "id": "rMlbEqvVEnhl",
        "outputId": "fdb28111-1d9b-4ee7-dc71-2dbcca451b43",
        "colab": {
          "base_uri": "https://localhost:8080/"
        }
      },
      "execution_count": null,
      "outputs": [
        {
          "output_type": "execute_result",
          "data": {
            "text/plain": [
              "38716979.37709295"
            ]
          },
          "metadata": {},
          "execution_count": 28
        }
      ]
    },
    {
      "cell_type": "code",
      "source": [
        "tc = tdict['romano']\n",
        "# sc = sdict['romano']\n",
        "tm = tdict['barak']\n",
        "# sm = sdict['barak']\n",
        "print(tc, sc, tm, sm)"
      ],
      "metadata": {
        "id": "8-kETbUWEyZw",
        "outputId": "261c26f1-c2c5-42eb-daad-eb4b48ebb55d",
        "colab": {
          "base_uri": "https://localhost:8080/"
        }
      },
      "execution_count": null,
      "outputs": [
        {
          "output_type": "stream",
          "name": "stdout",
          "text": [
            "22 8 8 2\n"
          ]
        }
      ]
    },
    {
      "cell_type": "code",
      "source": [
        ""
      ],
      "metadata": {
        "id": "JrIWVxpEN2dN"
      },
      "execution_count": null,
      "outputs": []
    },
    {
      "cell_type": "code",
      "source": [
        "sdict"
      ],
      "metadata": {
        "id": "1SPezJbY_9bp"
      },
      "execution_count": null,
      "outputs": []
    },
    {
      "cell_type": "code",
      "source": [
        "len(EP_words)"
      ],
      "metadata": {
        "id": "tlEyWSlUwAuv",
        "outputId": "52a413c7-ac4b-4920-8a43-71f32d98965b",
        "colab": {
          "base_uri": "https://localhost:8080/"
        }
      },
      "execution_count": null,
      "outputs": [
        {
          "output_type": "execute_result",
          "data": {
            "text/plain": [
              "8160499"
            ]
          },
          "metadata": {},
          "execution_count": 9
        }
      ]
    },
    {
      "cell_type": "code",
      "source": [
        "print(EP_words[0:10])"
      ],
      "metadata": {
        "id": "3iZfP7eUvYBn",
        "outputId": "a87a3982-b6ff-4747-c116-83ba14563620",
        "colab": {
          "base_uri": "https://localhost:8080/"
        }
      },
      "execution_count": null,
      "outputs": [
        {
          "output_type": "stream",
          "name": "stdout",
          "text": [
            "['madam', 'President', ',', 'on', 'a', 'point', 'of', 'order', '.', 'you']\n"
          ]
        }
      ]
    },
    {
      "cell_type": "code",
      "source": [
        "!head --lines=20 /content/EP_c/ep_en_de.txt"
      ],
      "metadata": {
        "id": "9MwNOveNvl8T"
      },
      "execution_count": null,
      "outputs": []
    },
    {
      "cell_type": "code",
      "source": [
        "!diff value_coll01.txt value_coll03.txt"
      ],
      "metadata": {
        "id": "6smuoleVwiTs"
      },
      "execution_count": null,
      "outputs": []
    }
  ]
}