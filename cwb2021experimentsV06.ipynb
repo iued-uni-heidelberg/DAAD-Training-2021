{
  "nbformat": 4,
  "nbformat_minor": 0,
  "metadata": {
    "colab": {
      "name": "cwb2021experimentsV06.ipynb",
      "provenance": [],
      "collapsed_sections": [],
      "include_colab_link": true
    },
    "kernelspec": {
      "name": "python3",
      "display_name": "Python 3"
    },
    "language_info": {
      "name": "python"
    }
  },
  "cells": [
    {
      "cell_type": "markdown",
      "metadata": {
        "id": "view-in-github",
        "colab_type": "text"
      },
      "source": [
        "<a href=\"https://colab.research.google.com/github/iued-uni-heidelberg/DAAD-Training-2021/blob/main/cwb2021experimentsV06.ipynb\" target=\"_parent\"><img src=\"https://colab.research.google.com/assets/colab-badge.svg\" alt=\"Open In Colab\"/></a>"
      ]
    },
    {
      "cell_type": "markdown",
      "source": [
        "# Working with CWB on Colab\n",
        "Author: Bogdan Babych, IÜD, Heidelberg University\n",
        "\n",
        "Modifying CWB installations and packages to work with colab environment\n",
        "\n",
        "### Downloading packages and data"
      ],
      "metadata": {
        "id": "3KsREtgj4KGB"
      }
    },
    {
      "cell_type": "code",
      "execution_count": null,
      "metadata": {
        "id": "zAn_DUV0xv3Y"
      },
      "outputs": [],
      "source": [
        "!wget https://heibox.uni-heidelberg.de/f/7f1e8929352b4cf4b13a/?dl=1"
      ]
    },
    {
      "cell_type": "code",
      "source": [
        "!mv index.html?dl=1 cwb-3.4.22-source.tar.gz"
      ],
      "metadata": {
        "id": "RISPCuS9ywar"
      },
      "execution_count": 2,
      "outputs": []
    },
    {
      "cell_type": "code",
      "source": [
        "!tar xvfz cwb-3.4.22-source.tar.gz"
      ],
      "metadata": {
        "id": "-9q2g4tHy526"
      },
      "execution_count": null,
      "outputs": []
    },
    {
      "cell_type": "markdown",
      "source": [
        "### Installing the parser generator 'bison'"
      ],
      "metadata": {
        "id": "LTjz5aJb_Kxs"
      }
    },
    {
      "cell_type": "code",
      "source": [
        "!apt-get install flex bison"
      ],
      "metadata": {
        "id": "xMCPjvHC2e0_"
      },
      "execution_count": null,
      "outputs": []
    },
    {
      "cell_type": "markdown",
      "source": [
        "### Replacing the configuration file\n",
        "Using correct environment and 'standard' location for installation (otherwise python bindings do not work)"
      ],
      "metadata": {
        "id": "JtRYAaTI_QVJ"
      }
    },
    {
      "cell_type": "code",
      "source": [
        "!wget https://heibox.uni-heidelberg.de/f/67bb38a210064bc5961e/?dl=1\n",
        "!mv /content/cwb-3.4.22/config.mk /content/cwb-3.4.22/config.mk.old.01\n",
        "!mv index.html?dl=1 /content/cwb-3.4.22/config.mk"
      ],
      "metadata": {
        "id": "YF7LROot_cOr"
      },
      "execution_count": null,
      "outputs": []
    },
    {
      "cell_type": "code",
      "source": [
        "# alternative: editing the file at the line numbers\n",
        "!awk '{ if (NR == 42) print \"PLATFORM=linux-64\"; else print $0}' /content/cwb-3.4.22/config.mk > /content/cwb-3.4.22/config.mk.TMP\n",
        "!awk '{ if (NR == 63) print \"SITE=standard\"; else print $0}' /content/cwb-3.4.22/config.mk.TMP > /content/cwb-3.4.22/config.mk"
      ],
      "metadata": {
        "id": "1b-ylUzM_gTc"
      },
      "execution_count": null,
      "outputs": []
    },
    {
      "cell_type": "markdown",
      "source": [
        "### Changing into installation directory and running installation scripts"
      ],
      "metadata": {
        "id": "6iM4NBfQBdyw"
      }
    },
    {
      "cell_type": "code",
      "source": [
        "%cd /content/cwb-3.4.22/"
      ],
      "metadata": {
        "id": "ppn0btNhzB1O",
        "outputId": "f9d0a638-7ba9-4f5c-8a75-6f704b3b8ac4",
        "colab": {
          "base_uri": "https://localhost:8080/"
        }
      },
      "execution_count": 6,
      "outputs": [
        {
          "output_type": "stream",
          "name": "stdout",
          "text": [
            "/content/cwb-3.4.22\n"
          ]
        }
      ]
    },
    {
      "cell_type": "code",
      "source": [
        "!pwd"
      ],
      "metadata": {
        "id": "7zyvBPLDzFT8",
        "outputId": "120a5c26-cbac-4cec-8324-2e83b2fe0840",
        "colab": {
          "base_uri": "https://localhost:8080/"
        }
      },
      "execution_count": 7,
      "outputs": [
        {
          "output_type": "stream",
          "name": "stdout",
          "text": [
            "/content/cwb-3.4.22\n"
          ]
        }
      ]
    },
    {
      "cell_type": "markdown",
      "source": [
        "(this will be the default register directory for the 'standard' CWB installation):"
      ],
      "metadata": {
        "id": "TJljSy_20JSX"
      }
    },
    {
      "cell_type": "code",
      "source": [
        "!mkdir -p /usr/local/share/cwb/registry/"
      ],
      "metadata": {
        "id": "voZ90vnn7WTi"
      },
      "execution_count": 8,
      "outputs": []
    },
    {
      "cell_type": "code",
      "source": [
        "!sudo ./install-scripts/config-basic\n",
        "!sudo ./install-scripts/install-linux"
      ],
      "metadata": {
        "id": "8kt7QWlDzK7M"
      },
      "execution_count": null,
      "outputs": []
    },
    {
      "cell_type": "code",
      "source": [
        "%cd /content/"
      ],
      "metadata": {
        "id": "CVuSe3hQ_BDj"
      },
      "execution_count": null,
      "outputs": []
    },
    {
      "cell_type": "markdown",
      "source": [
        "### Downloading and relocating the register of a sample corpus\n",
        "The register is placed into the standard cwb location"
      ],
      "metadata": {
        "id": "rNjdhnI0By8g"
      }
    },
    {
      "cell_type": "code",
      "source": [
        "!wget https://heibox.uni-heidelberg.de/f/dd3538603aa84dd09a76/?dl=1\n",
        "!mv index.html?dl=1 Dickens-1.0.tar.gz\n",
        "!tar xvzf Dickens-1.0.tar.gz"
      ],
      "metadata": {
        "id": "oGgO8XnS8mp1"
      },
      "execution_count": null,
      "outputs": []
    },
    {
      "cell_type": "code",
      "source": [
        "!cp /content/Dickens-1.0/registry/dickens /content/Dickens-1.0/registry/dickens.old.01\n",
        "!awk '{ if (NR == 10) print \"HOME /content/Dickens-1.0/data\"; else print $0}' /content/Dickens-1.0/registry/dickens > /content/Dickens-1.0/registry/dickens.TMP\n",
        "!awk '{ if (NR == 12) print \"INFO /content/Dickens-1.0/data/.info\"; else print $0}' /content/Dickens-1.0/registry/dickens.TMP > /content/Dickens-1.0/registry/dickens"
      ],
      "metadata": {
        "id": "0UkrOMJw8ubE"
      },
      "execution_count": 12,
      "outputs": []
    },
    {
      "cell_type": "code",
      "source": [
        "!mv /content/Dickens-1.0/registry/dickens /usr/local/share/cwb/registry"
      ],
      "metadata": {
        "id": "1zXK1Z9v8zob"
      },
      "execution_count": 13,
      "outputs": []
    },
    {
      "cell_type": "markdown",
      "source": [
        "### Updating path (only needed if installing into a non-standard location\n"
      ],
      "metadata": {
        "id": "6RlHVMGcCJFk"
      }
    },
    {
      "cell_type": "code",
      "source": [
        "# !echo $PATH"
      ],
      "metadata": {
        "id": "Zlu6uAee9eJ1"
      },
      "execution_count": null,
      "outputs": []
    },
    {
      "cell_type": "code",
      "source": [
        "# %env PATH=/usr/local/cwb-3.4.22/bin:/usr/local/nvidia/bin:/usr/local/cuda/bin:/usr/local/sbin:/usr/local/bin:/usr/sbin:/usr/bin:/sbin:/bin:/tools/node/bin:/tools/google-cloud-sdk/bin:/opt/bin"
      ],
      "metadata": {
        "id": "nsUAyqA79-PO"
      },
      "execution_count": null,
      "outputs": []
    },
    {
      "cell_type": "code",
      "source": [
        "# !echo $PATH"
      ],
      "metadata": {
        "id": "XwVe-fIX_BCO"
      },
      "execution_count": null,
      "outputs": []
    },
    {
      "cell_type": "code",
      "source": [
        "# %env PATH=/usr/local/nvidia/bin:/usr/local/cuda/bin:/usr/local/sbin:/usr/local/bin:/usr/sbin:/usr/bin:/sbin:/bin:/tools/node/bin:/tools/google-cloud-sdk/bin:/opt/bin"
      ],
      "metadata": {
        "id": "6TBYYIgvkcVc"
      },
      "execution_count": null,
      "outputs": []
    },
    {
      "cell_type": "code",
      "source": [
        "!pwd"
      ],
      "metadata": {
        "id": "-SegqQOf_a4H",
        "colab": {
          "base_uri": "https://localhost:8080/"
        },
        "outputId": "b559bd4e-9845-4085-ff65-aedad2da548a"
      },
      "execution_count": 14,
      "outputs": [
        {
          "output_type": "stream",
          "name": "stdout",
          "text": [
            "/content\n"
          ]
        }
      ]
    },
    {
      "cell_type": "markdown",
      "source": [
        "### Testing interactive Corpus Query Processor (CQP)\n"
      ],
      "metadata": {
        "id": "E4GIzdN_Di-v"
      }
    },
    {
      "cell_type": "code",
      "source": [
        "# try these commands in the interactive prompt (just copy and paste them):\n",
        "# DICKENS;\n",
        "# \"question\";\n",
        "# q\n",
        "# exit;\n",
        "!cqp -e"
      ],
      "metadata": {
        "id": "OmUjHSSfz41T"
      },
      "execution_count": null,
      "outputs": []
    },
    {
      "cell_type": "code",
      "source": [
        "!cwb-describe-corpus -h"
      ],
      "metadata": {
        "id": "Wbbdaxst_020"
      },
      "execution_count": null,
      "outputs": []
    },
    {
      "cell_type": "code",
      "source": [
        "!cwb-describe-corpus -s dickens"
      ],
      "metadata": {
        "id": "iCmNuT3A0XPn"
      },
      "execution_count": null,
      "outputs": []
    },
    {
      "cell_type": "code",
      "source": [
        "# !cwb-describe-corpus -s -r registry dickens"
      ],
      "metadata": {
        "id": "L27_yMizBI_k"
      },
      "execution_count": null,
      "outputs": []
    },
    {
      "cell_type": "code",
      "source": [
        "%cd /content/"
      ],
      "metadata": {
        "id": "HGZpuvwZFLVf",
        "colab": {
          "base_uri": "https://localhost:8080/"
        },
        "outputId": "6bdb43c4-df97-4358-ab04-80d00fa08e6e"
      },
      "execution_count": 18,
      "outputs": [
        {
          "output_type": "stream",
          "name": "stdout",
          "text": [
            "/content\n"
          ]
        }
      ]
    },
    {
      "cell_type": "markdown",
      "source": [
        "## Installing python interface to CWB \n",
        "cwb-ccc"
      ],
      "metadata": {
        "id": "f6nQadtzEgp8"
      }
    },
    {
      "cell_type": "code",
      "source": [
        "# !python -m pip install cwb-ccc\n",
        "!python -m pip install cwb-ccc"
      ],
      "metadata": {
        "id": "56JFOM66E1Kt"
      },
      "execution_count": null,
      "outputs": []
    },
    {
      "cell_type": "markdown",
      "source": [
        "## pandas versions are incompatible\n",
        "ERROR: pip's dependency resolver does not currently take into account all the packages that are installed. This behaviour is the source of the following dependency conflicts.\n",
        "\n",
        "google-colab 1.0.0 requires pandas~=1.1.0; python_version >= \"3.0\", but you have pandas 1.3.5 which is incompatible.\n",
        "\n",
        "Successfully installed association-measures-0.2.0 cwb-ccc-0.10.1 pandas-1.3.5 pyyaml-6.0 unidecode-1.3.2\n",
        "\n",
        "- we go for a compromise, which works for both so far..."
      ],
      "metadata": {
        "id": "cUBCq5DtEtu_"
      }
    },
    {
      "cell_type": "code",
      "source": [
        "!pip show pandas"
      ],
      "metadata": {
        "id": "_GKMon8G9xSo",
        "colab": {
          "base_uri": "https://localhost:8080/"
        },
        "outputId": "5acdcf35-55c0-4676-ec3f-406bc94eb999"
      },
      "execution_count": 20,
      "outputs": [
        {
          "output_type": "stream",
          "name": "stdout",
          "text": [
            "Name: pandas\n",
            "Version: 1.3.5\n",
            "Summary: Powerful data structures for data analysis, time series, and statistics\n",
            "Home-page: https://pandas.pydata.org\n",
            "Author: The Pandas Development Team\n",
            "Author-email: pandas-dev@python.org\n",
            "License: BSD-3-Clause\n",
            "Location: /usr/local/lib/python3.7/dist-packages\n",
            "Requires: pytz, numpy, python-dateutil\n",
            "Required-by: xarray, vega-datasets, statsmodels, sklearn-pandas, seaborn, pymc3, plotnine, pandas-profiling, pandas-gbq, pandas-datareader, mlxtend, mizani, holoviews, gspread-dataframe, google-colab, fix-yahoo-finance, fbprophet, fastai, cwb-ccc, cufflinks, cmdstanpy, association-measures, arviz, altair\n"
          ]
        }
      ]
    },
    {
      "cell_type": "code",
      "source": [
        "!pip install pandas==1.1.5\n",
        "# click [restart runtime] button!"
      ],
      "metadata": {
        "id": "UI2vEM5OCI4r",
        "colab": {
          "base_uri": "https://localhost:8080/",
          "height": 378
        },
        "outputId": "86f6743a-28d2-4722-9ed5-19898359548a"
      },
      "execution_count": 21,
      "outputs": [
        {
          "output_type": "stream",
          "name": "stdout",
          "text": [
            "Collecting pandas==1.1.5\n",
            "  Downloading pandas-1.1.5-cp37-cp37m-manylinux1_x86_64.whl (9.5 MB)\n",
            "\u001b[K     |████████████████████████████████| 9.5 MB 12.1 MB/s \n",
            "\u001b[?25hRequirement already satisfied: python-dateutil>=2.7.3 in /usr/local/lib/python3.7/dist-packages (from pandas==1.1.5) (2.8.2)\n",
            "Requirement already satisfied: numpy>=1.15.4 in /usr/local/lib/python3.7/dist-packages (from pandas==1.1.5) (1.19.5)\n",
            "Requirement already satisfied: pytz>=2017.2 in /usr/local/lib/python3.7/dist-packages (from pandas==1.1.5) (2018.9)\n",
            "Requirement already satisfied: six>=1.5 in /usr/local/lib/python3.7/dist-packages (from python-dateutil>=2.7.3->pandas==1.1.5) (1.15.0)\n",
            "Installing collected packages: pandas\n",
            "  Attempting uninstall: pandas\n",
            "    Found existing installation: pandas 1.3.5\n",
            "    Uninstalling pandas-1.3.5:\n",
            "      Successfully uninstalled pandas-1.3.5\n",
            "\u001b[31mERROR: pip's dependency resolver does not currently take into account all the packages that are installed. This behaviour is the source of the following dependency conflicts.\n",
            "cwb-ccc 0.10.1 requires pandas>=1.2.0, but you have pandas 1.1.5 which is incompatible.\u001b[0m\n",
            "Successfully installed pandas-1.1.5\n"
          ]
        },
        {
          "output_type": "display_data",
          "data": {
            "application/vnd.colab-display-data+json": {
              "pip_warning": {
                "packages": [
                  "pandas"
                ]
              }
            }
          },
          "metadata": {}
        }
      ]
    },
    {
      "cell_type": "markdown",
      "source": [
        "### Experiments with cwb-ccc \n",
        "From the webpage \n"
      ],
      "metadata": {
        "id": "6lulNEGl9zlR"
      }
    },
    {
      "cell_type": "code",
      "source": [
        "from ccc import Corpora\n",
        "corpora = Corpora(registry_path=\"/usr/local/share/cwb/registry/\")\n",
        "# corpora = Corpora(\"/content/Dickens-1.0/registry\")\n",
        "print(corpora)\n",
        "corpora.show()  # returns a DataFrame"
      ],
      "metadata": {
        "id": "_ls1FlVLl-U9"
      },
      "execution_count": null,
      "outputs": []
    },
    {
      "cell_type": "code",
      "source": [
        "corpus = corpora.activate(corpus_name=\"DICKENS\")"
      ],
      "metadata": {
        "id": "CE4ETsZY05pa"
      },
      "execution_count": null,
      "outputs": []
    },
    {
      "cell_type": "code",
      "source": [
        "from ccc import Corpus\n",
        "corpus = Corpus(\n",
        "  corpus_name=\"DICKENS\",\n",
        "  registry_path=\"/usr/local/share/cwb/registry/\"\n",
        ")"
      ],
      "metadata": {
        "id": "5SvuTHWO2biQ"
      },
      "execution_count": 2,
      "outputs": []
    },
    {
      "cell_type": "code",
      "source": [
        "query = r'[word=\"[A-Z0-9][A-Z0-9][A-Z0-9]+\"]'\n",
        "dump = corpus.query(query)"
      ],
      "metadata": {
        "id": "bG0YV4eJ2nxd"
      },
      "execution_count": 3,
      "outputs": []
    },
    {
      "cell_type": "code",
      "source": [
        "dump.df"
      ],
      "metadata": {
        "id": "SEduaqw7HJop"
      },
      "execution_count": null,
      "outputs": []
    },
    {
      "cell_type": "code",
      "source": [
        "corpus.attributes_available"
      ],
      "metadata": {
        "id": "Huvnn6YNCnJK"
      },
      "execution_count": null,
      "outputs": []
    },
    {
      "cell_type": "code",
      "source": [
        "query = r'\"question\"'\n",
        "dump = corpus.query(query)"
      ],
      "metadata": {
        "id": "aXdYciaqDRZU"
      },
      "execution_count": 6,
      "outputs": []
    },
    {
      "cell_type": "code",
      "source": [
        "dump.df"
      ],
      "metadata": {
        "id": "TdAvtzWAEBJG"
      },
      "execution_count": null,
      "outputs": []
    },
    {
      "cell_type": "code",
      "source": [
        "dump = corpus.query(\n",
        "  cqp_query=query,\n",
        "  context=20,\n",
        "  context_break='s'\n",
        ")"
      ],
      "metadata": {
        "id": "eEP_kTV5Elik"
      },
      "execution_count": 8,
      "outputs": []
    },
    {
      "cell_type": "code",
      "source": [
        "dump.df"
      ],
      "metadata": {
        "id": "aXiyEK_wFrIe"
      },
      "execution_count": null,
      "outputs": []
    },
    {
      "cell_type": "code",
      "source": [
        "dump.set_context(\n",
        "    context_left=5,\n",
        "    context_right=10,\n",
        "    context_break='s'\n",
        ")"
      ],
      "metadata": {
        "id": "vnRPzZXwGtxb"
      },
      "execution_count": 10,
      "outputs": []
    },
    {
      "cell_type": "code",
      "source": [
        "dump.df"
      ],
      "metadata": {
        "id": "wav8P_RPGwZ2"
      },
      "execution_count": null,
      "outputs": []
    },
    {
      "cell_type": "code",
      "source": [
        "dump.breakdown()"
      ],
      "metadata": {
        "id": "9y-q9SdRGz05"
      },
      "execution_count": null,
      "outputs": []
    },
    {
      "cell_type": "code",
      "source": [
        "dump.concordance()"
      ],
      "metadata": {
        "id": "Ds3ZK761L3iY"
      },
      "execution_count": null,
      "outputs": []
    },
    {
      "cell_type": "code",
      "source": [
        "dump.concordance(p_show=[\"word\", \"lemma\"], s_show=[\"text_id\"])"
      ],
      "metadata": {
        "id": "ikj5RzFeMqWt"
      },
      "execution_count": null,
      "outputs": []
    },
    {
      "cell_type": "code",
      "source": [
        "dump.concordance(form=\"kwic\")"
      ],
      "metadata": {
        "id": "fESAxu9uM792"
      },
      "execution_count": null,
      "outputs": []
    },
    {
      "cell_type": "code",
      "source": [
        "lines = dump.concordance(\n",
        "    p_show=['word', 'pos', 'lemma'],\n",
        "    form='dataframe'\n",
        ")"
      ],
      "metadata": {
        "id": "BG0UltJXNFLD"
      },
      "execution_count": 16,
      "outputs": []
    },
    {
      "cell_type": "code",
      "source": [
        "lines.iloc[0]['dataframe']"
      ],
      "metadata": {
        "id": "sCI08tY8T94n"
      },
      "execution_count": null,
      "outputs": []
    },
    {
      "cell_type": "code",
      "source": [
        "type(lines.iloc[2]['dataframe'])"
      ],
      "metadata": {
        "id": "kShVkg2CfgiB"
      },
      "execution_count": null,
      "outputs": []
    },
    {
      "cell_type": "code",
      "source": [
        "lines = dump.concordance(\n",
        "    p_show=['word', 'pos', 'lemma'],\n",
        "    form='dict'\n",
        ")"
      ],
      "metadata": {
        "id": "Btv0RCr-iMq-"
      },
      "execution_count": 19,
      "outputs": []
    },
    {
      "cell_type": "code",
      "source": [
        "lines.iloc[0]['dict']"
      ],
      "metadata": {
        "id": "mqjx_VY1qsms"
      },
      "execution_count": null,
      "outputs": []
    },
    {
      "cell_type": "code",
      "source": [
        "lines = dump.concordance(\n",
        "    p_show=['word', 'pos', 'lemma'],\n",
        "    form='slots'\n",
        ")"
      ],
      "metadata": {
        "id": "A0CF_QFyrCoh"
      },
      "execution_count": 21,
      "outputs": []
    },
    {
      "cell_type": "code",
      "source": [
        "lines.iloc[0]"
      ],
      "metadata": {
        "id": "h9RjA-pGHuZF",
        "colab": {
          "base_uri": "https://localhost:8080/"
        },
        "outputId": "922439dd-dab9-4a86-da20-ff15b8e2c7df"
      },
      "execution_count": 22,
      "outputs": [
        {
          "output_type": "execute_result",
          "data": {
            "text/plain": [
              "word                     Scrooge asked the question , because he did n'...\n",
              "pos                             NN VBD DT NN , IN PP VBD RB VB IN DT NN RB\n",
              "lemma                    Scrooge ask the question , because he do not k...\n",
              "match..matchend_word                                              question\n",
              "match..matchend_pos                                                     NN\n",
              "match..matchend_lemma                                             question\n",
              "Name: (5614, 5614), dtype: object"
            ]
          },
          "metadata": {},
          "execution_count": 22
        }
      ]
    },
    {
      "cell_type": "code",
      "source": [
        "lines.iloc[0]['lemma']"
      ],
      "metadata": {
        "id": "pWWpjMrnrNdj",
        "colab": {
          "base_uri": "https://localhost:8080/",
          "height": 37
        },
        "outputId": "c3867db9-e7af-45ef-c052-4c3230555846"
      },
      "execution_count": 23,
      "outputs": [
        {
          "output_type": "execute_result",
          "data": {
            "application/vnd.google.colaboratory.intrinsic+json": {
              "type": "string"
            },
            "text/plain": [
              "'Scrooge ask the question , because he do not know whether a ghost so'"
            ]
          },
          "metadata": {},
          "execution_count": 23
        }
      ]
    },
    {
      "cell_type": "code",
      "source": [
        "dump = corpus.query(\n",
        "  cqp_query=r'@1[pos=\"D.*\"] @2[pos=\"NN\"] @3[word=\"question\"]',\n",
        "  context=None, \n",
        "  context_break='s', \n",
        "  match_strategy='longest'\n",
        ")\n",
        "lines = dump.concordance(form='dataframe')"
      ],
      "metadata": {
        "id": "aRnleZo6rvgN"
      },
      "execution_count": 24,
      "outputs": []
    },
    {
      "cell_type": "code",
      "source": [
        "lines.iloc[1]['dataframe']"
      ],
      "metadata": {
        "id": "MnqLwcSHtIvK"
      },
      "execution_count": null,
      "outputs": []
    },
    {
      "cell_type": "code",
      "source": [
        "lines = dump.concordance(form='dict')"
      ],
      "metadata": {
        "id": "7zLLZRAGts3t"
      },
      "execution_count": 26,
      "outputs": []
    },
    {
      "cell_type": "code",
      "source": [
        "lines.iloc[1]['dict']"
      ],
      "metadata": {
        "id": "J--lQCDktzDR"
      },
      "execution_count": null,
      "outputs": []
    },
    {
      "cell_type": "code",
      "source": [
        "lines = dump.concordance(\n",
        "  form='slots', \n",
        "  p_show=['word', 'lemma'],\n",
        "  slots={\"article\": [1], \"np\": [2, 3]}\n",
        ")"
      ],
      "metadata": {
        "id": "TEqoBL7KuA0Q"
      },
      "execution_count": 28,
      "outputs": []
    },
    {
      "cell_type": "code",
      "source": [
        "lines"
      ],
      "metadata": {
        "id": "K6agGHvkupFa"
      },
      "execution_count": null,
      "outputs": []
    },
    {
      "cell_type": "code",
      "source": [
        "dump.correct_anchors({2: -2, 3: +1})\n",
        "lines = dump.concordance(\n",
        "  form='slots',\n",
        "  slots={\"art\": [1],\n",
        "  \"np\": [2, 3]}\n",
        ")"
      ],
      "metadata": {
        "id": "GxMthnEXu4RS"
      },
      "execution_count": 30,
      "outputs": []
    },
    {
      "cell_type": "code",
      "source": [
        "lines"
      ],
      "metadata": {
        "id": "n5Hky4vSvZ6E"
      },
      "execution_count": null,
      "outputs": []
    },
    {
      "cell_type": "code",
      "source": [
        "dump = corpus.query(\n",
        "    '[lemma=\"question\"]', \n",
        "    context=10, \n",
        "    context_break='s'\n",
        ")"
      ],
      "metadata": {
        "id": "L_cz5_mny4XZ"
      },
      "execution_count": 32,
      "outputs": []
    },
    {
      "cell_type": "code",
      "source": [
        "dump.collocates(order='log_likelihood')"
      ],
      "metadata": {
        "id": "RLk9NlIrzS1m"
      },
      "execution_count": null,
      "outputs": []
    },
    {
      "cell_type": "code",
      "source": [
        "dump = corpus.query(\n",
        "    '[lemma=\"answer\"]', \n",
        "    context=10, \n",
        "    context_break='s'\n",
        ")"
      ],
      "metadata": {
        "id": "Mx5JnkG40YfS"
      },
      "execution_count": 34,
      "outputs": []
    },
    {
      "cell_type": "code",
      "source": [
        "dump.collocates(p_query=['lemma'], order='conservative_log_ratio')\n",
        "# ['lemma', 'pos']"
      ],
      "metadata": {
        "id": "ZvbF3NMgz-ma"
      },
      "execution_count": null,
      "outputs": []
    },
    {
      "cell_type": "code",
      "source": [
        "corpus.query('[lemma=\"question\" & pos=\"N.*\"]').breakdown()"
      ],
      "metadata": {
        "id": "DSj0WaM6zhmp"
      },
      "execution_count": null,
      "outputs": []
    },
    {
      "cell_type": "code",
      "source": [
        "# https://pypi.org/project/cwb-ccc/#anchored-queries"
      ],
      "metadata": {
        "id": "d3vWtAL-v0Y4"
      },
      "execution_count": null,
      "outputs": []
    },
    {
      "cell_type": "code",
      "source": [
        "%tb"
      ],
      "metadata": {
        "colab": {
          "base_uri": "https://localhost:8080/"
        },
        "id": "u9c1bxAHseaX",
        "outputId": "9c6a639d-33a2-4f67-f4e9-c27f67db491c"
      },
      "execution_count": 37,
      "outputs": [
        {
          "output_type": "stream",
          "name": "stderr",
          "text": [
            "No traceback available to show.\n"
          ]
        }
      ]
    },
    {
      "cell_type": "code",
      "source": [
        "# !export CWB_DIR=/usr/local/cwb-3.4.10\n",
        "# /usr/local/cwb-3.4.22/bin"
      ],
      "metadata": {
        "id": "KqxsSReWsTnd"
      },
      "execution_count": null,
      "outputs": []
    },
    {
      "cell_type": "code",
      "source": [
        "# !python --version"
      ],
      "metadata": {
        "id": "GdqTG_2BvkTq"
      },
      "execution_count": null,
      "outputs": []
    },
    {
      "cell_type": "markdown",
      "source": [
        "### todo:\n",
        "1. to add corpus lemmatization & encoding parts\n",
        "2. to add generation of interesting collocations, exporting them as lists\n",
        "3. to add parallel corpus functionality\n"
      ],
      "metadata": {
        "id": "Ou8wY0JrIvmK"
      }
    },
    {
      "cell_type": "markdown",
      "source": [
        "## Building own corpus\n",
        "Europarl 8M EN (DE):\n",
        "https://heibox.uni-heidelberg.de/f/0e1fcda2b7bc494d83b8/?dl=1\n",
        "ep_en_de.txt\n",
        "\n",
        "- Create a data directory where files in the binary CWB format will be stored. Here, we assume that this directory is called /corpora/data/example. If this directory already exists and contains corpus data (from a previous version), you should delete all files in the directory. NB: You need a separate data directory for each corpus you want to encode.\n",
        "- Choose a registry directory, where all encoded corpora have to be registered to make them accessible to the CWB tools. It is recommended that you use the default registry directory /usr/local/share/cwb/registry. Otherwise,youwillhavetospecifythepathtoyourregistry directory with a -r flag whenever you invoke one of the CWB tools (or set an appropriate environment variable, see below). In the example commands in this manual, we assume that you use the standard registry directory.\n",
        "- The next step is to encode the corpus, i.e. convert the verticalized text to CWB binary format with the cwb-encode tool. Note that the command below has to be entered on a single line.\n",
        "\n",
        "\n",
        "```\n",
        "$ cwb-encode -d /corpora/data/example\n",
        "                      -xsBC9 -c ascii -f example.vrt\n",
        "                      -R /usr/local/share/cwb/registry/example\n",
        "                      -P pos -P lemma -S s\n",
        "```\n",
        "from: https://cwb.sourceforge.io/files/CWB_Encoding_Tutorial.pdf\n"
      ],
      "metadata": {
        "id": "EgegHjE4yUIl"
      }
    },
    {
      "cell_type": "code",
      "source": [
        "!wget https://heibox.uni-heidelberg.de/f/0e1fcda2b7bc494d83b8/?dl=1\n",
        "!mkdir EP\n"
      ],
      "metadata": {
        "id": "eF3ueOXszN6-"
      },
      "execution_count": null,
      "outputs": []
    },
    {
      "cell_type": "code",
      "source": [
        "!mv index.html?dl=1 EP/ep_en_de.txt"
      ],
      "metadata": {
        "id": "l4DF9yPo2R5b"
      },
      "execution_count": 39,
      "outputs": []
    },
    {
      "cell_type": "code",
      "source": [
        "!mkdir epende0en"
      ],
      "metadata": {
        "id": "cAfy1VX_2cJB"
      },
      "execution_count": 40,
      "outputs": []
    },
    {
      "cell_type": "code",
      "source": [
        "!cwb-encode -d /content/epende0en -xsBC9 -c UTF8 -f /content/EP/ep_en_de.txt -R /usr/local/share/cwb/registry/epende0en"
      ],
      "metadata": {
        "id": "dwDPFUJI24HZ"
      },
      "execution_count": 42,
      "outputs": []
    },
    {
      "cell_type": "code",
      "source": [
        "!cwb-describe-corpus epende0en"
      ],
      "metadata": {
        "colab": {
          "base_uri": "https://localhost:8080/"
        },
        "id": "5T6-wewX6z9p",
        "outputId": "d33152d9-b168-4822-84ab-1b37f63bf1ed"
      },
      "execution_count": 60,
      "outputs": [
        {
          "output_type": "stream",
          "name": "stdout",
          "text": [
            "\n",
            "============================================================\n",
            "Corpus: epende0en\n",
            "============================================================\n",
            "\n",
            "description:    \n",
            "registry file:  /usr/local/share/cwb/registry/epende0en\n",
            "home directory: /content/epende0en/\n",
            "info file:      /content/epende0en/.info\n",
            "encoding:       utf8\n",
            "size (tokens):  7957477\n",
            "\n",
            "  1 positional attributes:\n",
            "      word            \n",
            "\n",
            "  0 structural attributes:\n",
            "      \n",
            "\n",
            "  0 alignment  attributes:\n",
            "      \n",
            "\n",
            "\n"
          ]
        }
      ]
    },
    {
      "cell_type": "code",
      "source": [
        "corpora = Corpora(registry_path=\"/usr/local/share/cwb/registry/\")\n",
        "# corpora = Corpora(\"/content/Dickens-1.0/registry\")\n",
        "print(corpora)\n",
        "corpora.show()  # returns a DataFrame"
      ],
      "metadata": {
        "colab": {
          "base_uri": "https://localhost:8080/",
          "height": 278
        },
        "id": "3qHfCbt37DO3",
        "outputId": "a48cfa7a-6286-4dd1-e074-9b73f655e48e"
      },
      "execution_count": 69,
      "outputs": [
        {
          "output_type": "stream",
          "name": "stdout",
          "text": [
            "\n",
            "registry path: \"/usr/local/share/cwb/registry/\"\n",
            "cqp binary   : \"cqp\"\n",
            "found 2 corpora:\n",
            "              size\n",
            "corpus            \n",
            "DICKENS    3407085\n",
            "EPENDE0EN  7957477\n"
          ]
        },
        {
          "output_type": "execute_result",
          "data": {
            "text/html": [
              "\n",
              "  <div id=\"df-a5a05c4d-9a92-49c2-b948-2b094ccef76c\">\n",
              "    <div class=\"colab-df-container\">\n",
              "      <div>\n",
              "<style scoped>\n",
              "    .dataframe tbody tr th:only-of-type {\n",
              "        vertical-align: middle;\n",
              "    }\n",
              "\n",
              "    .dataframe tbody tr th {\n",
              "        vertical-align: top;\n",
              "    }\n",
              "\n",
              "    .dataframe thead th {\n",
              "        text-align: right;\n",
              "    }\n",
              "</style>\n",
              "<table border=\"1\" class=\"dataframe\">\n",
              "  <thead>\n",
              "    <tr style=\"text-align: right;\">\n",
              "      <th></th>\n",
              "      <th>size</th>\n",
              "    </tr>\n",
              "    <tr>\n",
              "      <th>corpus</th>\n",
              "      <th></th>\n",
              "    </tr>\n",
              "  </thead>\n",
              "  <tbody>\n",
              "    <tr>\n",
              "      <th>DICKENS</th>\n",
              "      <td>3407085</td>\n",
              "    </tr>\n",
              "    <tr>\n",
              "      <th>EPENDE0EN</th>\n",
              "      <td>7957477</td>\n",
              "    </tr>\n",
              "  </tbody>\n",
              "</table>\n",
              "</div>\n",
              "      <button class=\"colab-df-convert\" onclick=\"convertToInteractive('df-a5a05c4d-9a92-49c2-b948-2b094ccef76c')\"\n",
              "              title=\"Convert this dataframe to an interactive table.\"\n",
              "              style=\"display:none;\">\n",
              "        \n",
              "  <svg xmlns=\"http://www.w3.org/2000/svg\" height=\"24px\"viewBox=\"0 0 24 24\"\n",
              "       width=\"24px\">\n",
              "    <path d=\"M0 0h24v24H0V0z\" fill=\"none\"/>\n",
              "    <path d=\"M18.56 5.44l.94 2.06.94-2.06 2.06-.94-2.06-.94-.94-2.06-.94 2.06-2.06.94zm-11 1L8.5 8.5l.94-2.06 2.06-.94-2.06-.94L8.5 2.5l-.94 2.06-2.06.94zm10 10l.94 2.06.94-2.06 2.06-.94-2.06-.94-.94-2.06-.94 2.06-2.06.94z\"/><path d=\"M17.41 7.96l-1.37-1.37c-.4-.4-.92-.59-1.43-.59-.52 0-1.04.2-1.43.59L10.3 9.45l-7.72 7.72c-.78.78-.78 2.05 0 2.83L4 21.41c.39.39.9.59 1.41.59.51 0 1.02-.2 1.41-.59l7.78-7.78 2.81-2.81c.8-.78.8-2.07 0-2.86zM5.41 20L4 18.59l7.72-7.72 1.47 1.35L5.41 20z\"/>\n",
              "  </svg>\n",
              "      </button>\n",
              "      \n",
              "  <style>\n",
              "    .colab-df-container {\n",
              "      display:flex;\n",
              "      flex-wrap:wrap;\n",
              "      gap: 12px;\n",
              "    }\n",
              "\n",
              "    .colab-df-convert {\n",
              "      background-color: #E8F0FE;\n",
              "      border: none;\n",
              "      border-radius: 50%;\n",
              "      cursor: pointer;\n",
              "      display: none;\n",
              "      fill: #1967D2;\n",
              "      height: 32px;\n",
              "      padding: 0 0 0 0;\n",
              "      width: 32px;\n",
              "    }\n",
              "\n",
              "    .colab-df-convert:hover {\n",
              "      background-color: #E2EBFA;\n",
              "      box-shadow: 0px 1px 2px rgba(60, 64, 67, 0.3), 0px 1px 3px 1px rgba(60, 64, 67, 0.15);\n",
              "      fill: #174EA6;\n",
              "    }\n",
              "\n",
              "    [theme=dark] .colab-df-convert {\n",
              "      background-color: #3B4455;\n",
              "      fill: #D2E3FC;\n",
              "    }\n",
              "\n",
              "    [theme=dark] .colab-df-convert:hover {\n",
              "      background-color: #434B5C;\n",
              "      box-shadow: 0px 1px 3px 1px rgba(0, 0, 0, 0.15);\n",
              "      filter: drop-shadow(0px 1px 2px rgba(0, 0, 0, 0.3));\n",
              "      fill: #FFFFFF;\n",
              "    }\n",
              "  </style>\n",
              "\n",
              "      <script>\n",
              "        const buttonEl =\n",
              "          document.querySelector('#df-a5a05c4d-9a92-49c2-b948-2b094ccef76c button.colab-df-convert');\n",
              "        buttonEl.style.display =\n",
              "          google.colab.kernel.accessAllowed ? 'block' : 'none';\n",
              "\n",
              "        async function convertToInteractive(key) {\n",
              "          const element = document.querySelector('#df-a5a05c4d-9a92-49c2-b948-2b094ccef76c');\n",
              "          const dataTable =\n",
              "            await google.colab.kernel.invokeFunction('convertToInteractive',\n",
              "                                                     [key], {});\n",
              "          if (!dataTable) return;\n",
              "\n",
              "          const docLinkHtml = 'Like what you see? Visit the ' +\n",
              "            '<a target=\"_blank\" href=https://colab.research.google.com/notebooks/data_table.ipynb>data table notebook</a>'\n",
              "            + ' to learn more about interactive tables.';\n",
              "          element.innerHTML = '';\n",
              "          dataTable['output_type'] = 'display_data';\n",
              "          await google.colab.output.renderOutput(dataTable, element);\n",
              "          const docLink = document.createElement('div');\n",
              "          docLink.innerHTML = docLinkHtml;\n",
              "          element.appendChild(docLink);\n",
              "        }\n",
              "      </script>\n",
              "    </div>\n",
              "  </div>\n",
              "  "
            ],
            "text/plain": [
              "              size\n",
              "corpus            \n",
              "DICKENS    3407085\n",
              "EPENDE0EN  7957477"
            ]
          },
          "metadata": {},
          "execution_count": 69
        }
      ]
    },
    {
      "cell_type": "code",
      "source": [
        "corpus = corpora.activate(corpus_name=\"EPENDE0EN\")"
      ],
      "metadata": {
        "id": "lYlpsI_S8jxh"
      },
      "execution_count": 70,
      "outputs": []
    },
    {
      "cell_type": "code",
      "source": [
        "from ccc import Corpus\n",
        "corpus = Corpus(\n",
        "  corpus_name=\"EPENDE0EN\",\n",
        "  registry_path=\"/usr/local/share/cwb/registry/\"\n",
        ")"
      ],
      "metadata": {
        "id": "uOfw-7u84r0X"
      },
      "execution_count": 73,
      "outputs": []
    },
    {
      "cell_type": "code",
      "source": [
        ""
      ],
      "metadata": {
        "id": "vc86l2Hk5ndI"
      },
      "execution_count": 64,
      "outputs": []
    },
    {
      "cell_type": "code",
      "source": [
        "query = r'\"value\"'"
      ],
      "metadata": {
        "id": "sa0WlSYs5Yxm"
      },
      "execution_count": 74,
      "outputs": []
    },
    {
      "cell_type": "code",
      "source": [
        "query = '[word=\"the\"]'"
      ],
      "metadata": {
        "id": "stCqdDpb6m6O"
      },
      "execution_count": 67,
      "outputs": []
    },
    {
      "cell_type": "code",
      "source": [
        "dump = corpus.query(query)"
      ],
      "metadata": {
        "colab": {
          "base_uri": "https://localhost:8080/"
        },
        "id": "z72hIb4e6GJZ",
        "outputId": "0167248e-d714-4b22-a0ac-9d55838a9819"
      },
      "execution_count": 75,
      "outputs": [
        {
          "output_type": "stream",
          "name": "stderr",
          "text": [
            "found 0 matches\n"
          ]
        }
      ]
    },
    {
      "cell_type": "code",
      "source": [
        "dump = corpus.query(\n",
        "    '[word=\"quest.*\"]', \n",
        "    context=10\n",
        ")"
      ],
      "metadata": {
        "colab": {
          "base_uri": "https://localhost:8080/"
        },
        "id": "pymIfw9v4phW",
        "outputId": "e7a213c3-390a-4e73-aa28-78f0f5e32f61"
      },
      "execution_count": 77,
      "outputs": [
        {
          "output_type": "stream",
          "name": "stderr",
          "text": [
            "found 0 matches\n"
          ]
        }
      ]
    }
  ]
}