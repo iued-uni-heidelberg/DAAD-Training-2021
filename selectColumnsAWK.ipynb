{
  "nbformat": 4,
  "nbformat_minor": 0,
  "metadata": {
    "colab": {
      "name": "selectColumnsAWK.ipynb",
      "provenance": [],
      "authorship_tag": "ABX9TyO0polkqYcOqXX348a6cgiF",
      "include_colab_link": true
    },
    "kernelspec": {
      "name": "python3",
      "display_name": "Python 3"
    },
    "language_info": {
      "name": "python"
    }
  },
  "cells": [
    {
      "cell_type": "markdown",
      "metadata": {
        "id": "view-in-github",
        "colab_type": "text"
      },
      "source": [
        "<a href=\"https://colab.research.google.com/github/iued-uni-heidelberg/DAAD-Training-2021/blob/main/selectColumnsAWK.ipynb\" target=\"_parent\"><img src=\"https://colab.research.google.com/assets/colab-badge.svg\" alt=\"Open In Colab\"/></a>"
      ]
    },
    {
      "cell_type": "markdown",
      "metadata": {
        "id": "cFoyD4hN_YPH"
      },
      "source": [
        "Selecting columns from TreeTagger files"
      ]
    },
    {
      "cell_type": "code",
      "metadata": {
        "id": "bytguwS4_br5"
      },
      "source": [
        "!wget https://heibox.uni-heidelberg.de/f/27ea894f940b4c439918/?dl=1"
      ],
      "execution_count": null,
      "outputs": []
    },
    {
      "cell_type": "code",
      "metadata": {
        "id": "pe37Dnzl_dkG"
      },
      "source": [
        "!mv index.html?dl=1 in_lem.txt"
      ],
      "execution_count": 2,
      "outputs": []
    },
    {
      "cell_type": "code",
      "metadata": {
        "id": "X0legujD_frP"
      },
      "source": [
        "!awk -F\"\\t\" '{printf \"%s\\n\", $3}' < in_lem.txt >out_lem1.txt"
      ],
      "execution_count": 3,
      "outputs": []
    },
    {
      "cell_type": "code",
      "metadata": {
        "id": "Hhc1js3U_hd-"
      },
      "source": [
        "!awk -F\"\\t\" '{printf \"%s/%s\\n\", $3, $2}' < in_lem.txt >out_lem2.txt"
      ],
      "execution_count": 4,
      "outputs": []
    }
  ]
}