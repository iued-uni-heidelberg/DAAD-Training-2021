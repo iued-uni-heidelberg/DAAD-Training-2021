{
  "nbformat": 4,
  "nbformat_minor": 0,
  "metadata": {
    "colab": {
      "name": "selectColumnsAWK.ipynb",
      "provenance": [],
      "authorship_tag": "ABX9TyNnFx1NZcwkwpWvVonTTULT",
      "include_colab_link": true
    },
    "kernelspec": {
      "name": "python3",
      "display_name": "Python 3"
    },
    "language_info": {
      "name": "python"
    }
  },
  "cells": [
    {
      "cell_type": "markdown",
      "metadata": {
        "id": "view-in-github",
        "colab_type": "text"
      },
      "source": [
        "<a href=\"https://colab.research.google.com/github/iued-uni-heidelberg/DAAD-Training-2021/blob/main/selectColumnsAWK.ipynb\" target=\"_parent\"><img src=\"https://colab.research.google.com/assets/colab-badge.svg\" alt=\"Open In Colab\"/></a>"
      ]
    },
    {
      "cell_type": "markdown",
      "metadata": {
        "id": "cFoyD4hN_YPH"
      },
      "source": [
        "Selecting columns from TreeTagger files"
      ]
    },
    {
      "cell_type": "code",
      "metadata": {
        "id": "bytguwS4_br5"
      },
      "source": [
        "!wget https://heibox.uni-heidelberg.de/f/27ea894f940b4c439918/?dl=1"
      ],
      "execution_count": null,
      "outputs": []
    },
    {
      "cell_type": "code",
      "metadata": {
        "id": "pe37Dnzl_dkG"
      },
      "source": [
        "!mv index.html?dl=1 in_lem.txt"
      ],
      "execution_count": null,
      "outputs": []
    },
    {
      "cell_type": "code",
      "metadata": {
        "id": "X0legujD_frP"
      },
      "source": [
        "!awk -F\"\\t\" '{printf \"%s\\n\", $3}' < in_lem.txt >out_lem1.txt"
      ],
      "execution_count": null,
      "outputs": []
    },
    {
      "cell_type": "code",
      "metadata": {
        "id": "Hhc1js3U_hd-"
      },
      "source": [
        "!awk -F\"\\t\" '{printf \"%s/%s\\n\", $3, $2}' < in_lem.txt >out_lem2.txt"
      ],
      "execution_count": null,
      "outputs": []
    },
    {
      "cell_type": "markdown",
      "metadata": {
        "id": "4q7w3XhvVSRq"
      },
      "source": [
        "Regular expressions replacements:"
      ]
    },
    {
      "cell_type": "code",
      "metadata": {
        "id": "r8AUbOReVY24"
      },
      "source": [
        "!wget https://heibox.uni-heidelberg.de/f/99811800bdcc42db9f76/?dl=1"
      ],
      "execution_count": null,
      "outputs": []
    },
    {
      "cell_type": "code",
      "metadata": {
        "id": "AJRMMmOsWHUs"
      },
      "source": [
        "!mv index.html?dl=1 BGHkurz.txt"
      ],
      "execution_count": 2,
      "outputs": []
    },
    {
      "cell_type": "markdown",
      "metadata": {
        "id": "sBzE8YDEd8eF"
      },
      "source": [
        "Full document"
      ]
    },
    {
      "cell_type": "code",
      "metadata": {
        "colab": {
          "base_uri": "https://localhost:8080/"
        },
        "id": "7qetd35seAU1",
        "outputId": "a0e5a641-f30d-402d-a6dc-712b54ab8410"
      },
      "source": [
        "!wget https://heibox.uni-heidelberg.de/f/dbb26710c4d0464eb852/?dl=1"
      ],
      "execution_count": 5,
      "outputs": [
        {
          "output_type": "stream",
          "name": "stdout",
          "text": [
            "--2021-10-12 17:09:09--  https://heibox.uni-heidelberg.de/f/dbb26710c4d0464eb852/?dl=1\n",
            "Resolving heibox.uni-heidelberg.de (heibox.uni-heidelberg.de)... 129.206.7.113\n",
            "Connecting to heibox.uni-heidelberg.de (heibox.uni-heidelberg.de)|129.206.7.113|:443... connected.\n",
            "HTTP request sent, awaiting response... 302 Found\n",
            "Location: https://heibox.uni-heidelberg.de/seafhttp/files/6aed9986-917d-4982-8193-54e4307215af/output1.zip [following]\n",
            "--2021-10-12 17:09:10--  https://heibox.uni-heidelberg.de/seafhttp/files/6aed9986-917d-4982-8193-54e4307215af/output1.zip\n",
            "Reusing existing connection to heibox.uni-heidelberg.de:443.\n",
            "HTTP request sent, awaiting response... 200 OK\n",
            "Length: 397987055 (380M) [application/zip]\n",
            "Saving to: ‘index.html?dl=1’\n",
            "\n",
            "index.html?dl=1     100%[===================>] 379.55M  14.9MB/s    in 25s     \n",
            "\n",
            "2021-10-12 17:09:36 (14.9 MB/s) - ‘index.html?dl=1’ saved [397987055/397987055]\n",
            "\n"
          ]
        }
      ]
    },
    {
      "cell_type": "code",
      "metadata": {
        "id": "2R2gMIbGemxp"
      },
      "source": [
        "!mv index.html?dl=1 output.zip"
      ],
      "execution_count": 6,
      "outputs": []
    },
    {
      "cell_type": "code",
      "metadata": {
        "colab": {
          "base_uri": "https://localhost:8080/"
        },
        "id": "sZ4UPaZ3eikN",
        "outputId": "a0ce4b31-9795-4bc0-9c5c-2253b35caf60"
      },
      "source": [
        "!unzip output.zip"
      ],
      "execution_count": 7,
      "outputs": [
        {
          "output_type": "stream",
          "name": "stdout",
          "text": [
            "Archive:  output.zip\n",
            "replace output.txt? [y]es, [n]o, [A]ll, [N]one, [r]ename: y\n",
            "  inflating: output.txt              \n"
          ]
        }
      ]
    },
    {
      "cell_type": "code",
      "metadata": {
        "id": "KgayPUrTeVhV"
      },
      "source": [
        "!head --lines=1000 output.txt >output1k.txt"
      ],
      "execution_count": 8,
      "outputs": []
    },
    {
      "cell_type": "code",
      "metadata": {
        "id": "_eaYCoFKgfIe",
        "outputId": "09b966b5-f9df-4edf-fe1d-a6399b9151ad",
        "colab": {
          "base_uri": "https://localhost:8080/"
        }
      },
      "source": [
        "!wc output1k.txt\n",
        "!wc output.txt"
      ],
      "execution_count": 12,
      "outputs": [
        {
          "output_type": "stream",
          "name": "stdout",
          "text": [
            " 1000 11975 92326 output1k.txt\n",
            "  15781128  188786327 1467960343 output.txt\n"
          ]
        }
      ]
    },
    {
      "cell_type": "code",
      "metadata": {
        "id": "2utR3r_bfkzo"
      },
      "source": [
        "FInput = open('0hex.txt', 'r')\n",
        "FOutput = open('0hex-utf8.txt', 'w')"
      ],
      "execution_count": 25,
      "outputs": []
    },
    {
      "cell_type": "code",
      "metadata": {
        "id": "OMYUUFhCf0l4"
      },
      "source": [
        "import re\n",
        "i = 0\n",
        "REPattern = re.compile('[A-Za-zÄÖÜäöüß]')\n",
        "for SLine in FInput:\n",
        "    i += 1\n",
        "    if i%1000000 == 0: \n",
        "        SI = str(i)\n",
        "        print(f'{SI}')\n",
        "        if not re.search(REPattern, SLine): continue\n",
        "    FOutput.write(SLine)\n",
        "FOutput.flush()\n",
        "FOutput.close()"
      ],
      "execution_count": 26,
      "outputs": []
    }
  ]
}