{
  "nbformat": 4,
  "nbformat_minor": 0,
  "metadata": {
    "colab": {
      "provenance": [],
      "include_colab_link": true
    },
    "kernelspec": {
      "name": "python3",
      "display_name": "Python 3"
    },
    "language_info": {
      "name": "python"
    }
  },
  "cells": [
    {
      "cell_type": "markdown",
      "metadata": {
        "id": "view-in-github",
        "colab_type": "text"
      },
      "source": [
        "<a href=\"https://colab.research.google.com/github/iued-uni-heidelberg/DAAD-Training-2021/blob/main/cwb2024experimentsV08.ipynb\" target=\"_parent\"><img src=\"https://colab.research.google.com/assets/colab-badge.svg\" alt=\"Open In Colab\"/></a>"
      ]
    },
    {
      "cell_type": "markdown",
      "source": [
        "# Working with CWB on Colab\n",
        "Author: Bogdan Babych, IÜD, Heidelberg University\n",
        "\n",
        "Modifying CWB installations and packages to work with colab environment\n",
        "\n",
        "### Downloading packages and data"
      ],
      "metadata": {
        "id": "3KsREtgj4KGB"
      }
    },
    {
      "cell_type": "code",
      "execution_count": 1,
      "metadata": {
        "id": "zAn_DUV0xv3Y",
        "colab": {
          "base_uri": "https://localhost:8080/"
        },
        "outputId": "bbbb10de-836e-457d-8e58-f58e739587e9"
      },
      "outputs": [
        {
          "output_type": "stream",
          "name": "stdout",
          "text": [
            "--2024-04-29 12:10:41--  https://heibox.uni-heidelberg.de/f/1e917698afa64a4886b9/?dl=1\n",
            "Resolving heibox.uni-heidelberg.de (heibox.uni-heidelberg.de)... 129.206.7.113\n",
            "Connecting to heibox.uni-heidelberg.de (heibox.uni-heidelberg.de)|129.206.7.113|:443... connected.\n",
            "HTTP request sent, awaiting response... 302 Found\n",
            "Location: https://heibox.uni-heidelberg.de/seafhttp/files/ca4cd81a-3457-4bf7-a09b-082c526ae1ac/cwb-3.5.0-src.tar.gz [following]\n",
            "--2024-04-29 12:10:42--  https://heibox.uni-heidelberg.de/seafhttp/files/ca4cd81a-3457-4bf7-a09b-082c526ae1ac/cwb-3.5.0-src.tar.gz\n",
            "Reusing existing connection to heibox.uni-heidelberg.de:443.\n",
            "HTTP request sent, awaiting response... 200 OK\n",
            "Length: 2928752 (2.8M) [application/octet-stream]\n",
            "Saving to: ‘index.html?dl=1’\n",
            "\n",
            "index.html?dl=1     100%[===================>]   2.79M  2.64MB/s    in 1.1s    \n",
            "\n",
            "2024-04-29 12:10:43 (2.64 MB/s) - ‘index.html?dl=1’ saved [2928752/2928752]\n",
            "\n"
          ]
        }
      ],
      "source": [
        "# v 3.4\n",
        "# !wget https://heibox.uni-heidelberg.de/f/7f1e8929352b4cf4b13a/?dl=1\n",
        "# v3.5\n",
        "!wget https://heibox.uni-heidelberg.de/f/1e917698afa64a4886b9/?dl=1"
      ]
    },
    {
      "cell_type": "code",
      "source": [
        "# !mv index.html?dl=1 cwb-3.4.22-source.tar.gz\n",
        "!mv index.html?dl=1 cwb-3.5.0-src.tar.gz"
      ],
      "metadata": {
        "id": "RISPCuS9ywar"
      },
      "execution_count": 2,
      "outputs": []
    },
    {
      "cell_type": "code",
      "source": [
        "# !tar xvfz cwb-3.4.22-source.tar.gz\n",
        "!tar xvfz cwb-3.5.0-src.tar.gz"
      ],
      "metadata": {
        "id": "-9q2g4tHy526"
      },
      "execution_count": null,
      "outputs": []
    },
    {
      "cell_type": "markdown",
      "source": [
        "### Installing the parser generator 'bison'"
      ],
      "metadata": {
        "id": "LTjz5aJb_Kxs"
      }
    },
    {
      "cell_type": "code",
      "source": [
        "!apt-get install flex bison"
      ],
      "metadata": {
        "id": "xMCPjvHC2e0_",
        "colab": {
          "base_uri": "https://localhost:8080/"
        },
        "outputId": "24cafe5f-69ed-401f-b48c-72cb0ba84c16"
      },
      "execution_count": 4,
      "outputs": [
        {
          "output_type": "stream",
          "name": "stdout",
          "text": [
            "Reading package lists... Done\n",
            "Building dependency tree... Done\n",
            "Reading state information... Done\n",
            "The following additional packages will be installed:\n",
            "  libfl-dev libfl2\n",
            "Suggested packages:\n",
            "  bison-doc flex-doc\n",
            "The following NEW packages will be installed:\n",
            "  bison flex libfl-dev libfl2\n",
            "0 upgraded, 4 newly installed, 0 to remove and 45 not upgraded.\n",
            "Need to get 1,072 kB of archives.\n",
            "After this operation, 3,667 kB of additional disk space will be used.\n",
            "Get:1 http://archive.ubuntu.com/ubuntu jammy/main amd64 flex amd64 2.6.4-8build2 [307 kB]\n",
            "Get:2 http://archive.ubuntu.com/ubuntu jammy/main amd64 bison amd64 2:3.8.2+dfsg-1build1 [748 kB]\n",
            "Get:3 http://archive.ubuntu.com/ubuntu jammy/main amd64 libfl2 amd64 2.6.4-8build2 [10.7 kB]\n",
            "Get:4 http://archive.ubuntu.com/ubuntu jammy/main amd64 libfl-dev amd64 2.6.4-8build2 [6,236 B]\n",
            "Fetched 1,072 kB in 1s (788 kB/s)\n",
            "Selecting previously unselected package flex.\n",
            "(Reading database ... 121752 files and directories currently installed.)\n",
            "Preparing to unpack .../flex_2.6.4-8build2_amd64.deb ...\n",
            "Unpacking flex (2.6.4-8build2) ...\n",
            "Selecting previously unselected package bison.\n",
            "Preparing to unpack .../bison_2%3a3.8.2+dfsg-1build1_amd64.deb ...\n",
            "Unpacking bison (2:3.8.2+dfsg-1build1) ...\n",
            "Selecting previously unselected package libfl2:amd64.\n",
            "Preparing to unpack .../libfl2_2.6.4-8build2_amd64.deb ...\n",
            "Unpacking libfl2:amd64 (2.6.4-8build2) ...\n",
            "Selecting previously unselected package libfl-dev:amd64.\n",
            "Preparing to unpack .../libfl-dev_2.6.4-8build2_amd64.deb ...\n",
            "Unpacking libfl-dev:amd64 (2.6.4-8build2) ...\n",
            "Setting up flex (2.6.4-8build2) ...\n",
            "Setting up libfl2:amd64 (2.6.4-8build2) ...\n",
            "Setting up bison (2:3.8.2+dfsg-1build1) ...\n",
            "update-alternatives: using /usr/bin/bison.yacc to provide /usr/bin/yacc (yacc) in auto mode\n",
            "Setting up libfl-dev:amd64 (2.6.4-8build2) ...\n",
            "Processing triggers for man-db (2.10.2-1) ...\n",
            "Processing triggers for libc-bin (2.35-0ubuntu3.4) ...\n",
            "/sbin/ldconfig.real: /usr/local/lib/libtbbbind_2_5.so.3 is not a symbolic link\n",
            "\n",
            "/sbin/ldconfig.real: /usr/local/lib/libtbbmalloc_proxy.so.2 is not a symbolic link\n",
            "\n",
            "/sbin/ldconfig.real: /usr/local/lib/libtbb.so.12 is not a symbolic link\n",
            "\n",
            "/sbin/ldconfig.real: /usr/local/lib/libtbbbind_2_0.so.3 is not a symbolic link\n",
            "\n",
            "/sbin/ldconfig.real: /usr/local/lib/libtbbbind.so.3 is not a symbolic link\n",
            "\n",
            "/sbin/ldconfig.real: /usr/local/lib/libtbbmalloc.so.2 is not a symbolic link\n",
            "\n"
          ]
        }
      ]
    },
    {
      "cell_type": "markdown",
      "source": [
        "### Replacing the configuration file\n",
        "Using correct environment and 'standard' location for installation (otherwise python bindings do not work)"
      ],
      "metadata": {
        "id": "JtRYAaTI_QVJ"
      }
    },
    {
      "cell_type": "code",
      "source": [
        "!wget https://heibox.uni-heidelberg.de/f/67bb38a210064bc5961e/?dl=1\n",
        "!mv /content/cwb-3.4.22/config.mk /content/cwb-3.4.22/config.mk.old.01\n",
        "!mv index.html?dl=1 /content/cwb-3.4.22/config.mk"
      ],
      "metadata": {
        "id": "YF7LROot_cOr",
        "outputId": "b12188fa-de13-40c5-9865-2ae0187eabe6",
        "colab": {
          "base_uri": "https://localhost:8080/"
        }
      },
      "execution_count": null,
      "outputs": [
        {
          "output_type": "stream",
          "name": "stdout",
          "text": [
            "--2024-04-29 12:04:50--  https://heibox.uni-heidelberg.de/f/67bb38a210064bc5961e/?dl=1\n",
            "Resolving heibox.uni-heidelberg.de (heibox.uni-heidelberg.de)... 129.206.7.113\n",
            "Connecting to heibox.uni-heidelberg.de (heibox.uni-heidelberg.de)|129.206.7.113|:443... connected.\n",
            "HTTP request sent, awaiting response... 302 Found\n",
            "Location: https://heibox.uni-heidelberg.de/seafhttp/files/5887e0ec-f62a-4a8c-8f70-cbbde427ff04/config.mk [following]\n",
            "--2024-04-29 12:04:51--  https://heibox.uni-heidelberg.de/seafhttp/files/5887e0ec-f62a-4a8c-8f70-cbbde427ff04/config.mk\n",
            "Reusing existing connection to heibox.uni-heidelberg.de:443.\n",
            "HTTP request sent, awaiting response... 200 OK\n",
            "Length: 8155 (8.0K) [application/octet-stream]\n",
            "Saving to: ‘index.html?dl=1’\n",
            "\n",
            "index.html?dl=1     100%[===================>]   7.96K  --.-KB/s    in 0.008s  \n",
            "\n",
            "2024-04-29 12:04:52 (1.02 MB/s) - ‘index.html?dl=1’ saved [8155/8155]\n",
            "\n"
          ]
        }
      ]
    },
    {
      "cell_type": "code",
      "source": [
        "# alternative: editing the file at the line numbers\n",
        "!awk '{ if (NR == 42) print \"PLATFORM=linux-64\"; else print $0}' /content/cwb-3.4.22/config.mk > /content/cwb-3.4.22/config.mk.TMP\n",
        "!awk '{ if (NR == 63) print \"SITE=standard\"; else print $0}' /content/cwb-3.4.22/config.mk.TMP > /content/cwb-3.4.22/config.mk"
      ],
      "metadata": {
        "id": "1b-ylUzM_gTc"
      },
      "execution_count": null,
      "outputs": []
    },
    {
      "cell_type": "markdown",
      "source": [
        "### Changing into installation directory and running installation scripts"
      ],
      "metadata": {
        "id": "6iM4NBfQBdyw"
      }
    },
    {
      "cell_type": "code",
      "source": [
        "# %cd /content/cwb-3.4.22/\n",
        "%cd /content/cwb-3.5.0-src"
      ],
      "metadata": {
        "id": "ppn0btNhzB1O",
        "outputId": "3ab85727-7b3c-4d2e-b6eb-d581700a2105",
        "colab": {
          "base_uri": "https://localhost:8080/"
        }
      },
      "execution_count": 7,
      "outputs": [
        {
          "output_type": "stream",
          "name": "stdout",
          "text": [
            "/content/cwb-3.5.0-src\n"
          ]
        }
      ]
    },
    {
      "cell_type": "code",
      "source": [
        "!pwd"
      ],
      "metadata": {
        "id": "7zyvBPLDzFT8",
        "outputId": "8b6ca42b-3b42-4944-cfde-791f67a26284",
        "colab": {
          "base_uri": "https://localhost:8080/"
        }
      },
      "execution_count": 8,
      "outputs": [
        {
          "output_type": "stream",
          "name": "stdout",
          "text": [
            "/content/cwb-3.5.0-src\n"
          ]
        }
      ]
    },
    {
      "cell_type": "markdown",
      "source": [
        "(this will be the default register directory for the 'standard' CWB installation):"
      ],
      "metadata": {
        "id": "TJljSy_20JSX"
      }
    },
    {
      "cell_type": "code",
      "source": [
        "!mkdir -p /usr/local/share/cwb/registry/"
      ],
      "metadata": {
        "id": "voZ90vnn7WTi"
      },
      "execution_count": 5,
      "outputs": []
    },
    {
      "cell_type": "code",
      "source": [
        "# !sudo ./install-scripts/config-basic\n",
        "# !sudo ./install-scripts/install-linux\n",
        "\n",
        "\n",
        "!sudo /content/cwb-3.5.0-src/install-scripts/install-linux"
      ],
      "metadata": {
        "id": "8kt7QWlDzK7M",
        "outputId": "3dcba355-0bab-4b2c-b1fc-a82647b6844f",
        "colab": {
          "base_uri": "https://localhost:8080/"
        }
      },
      "execution_count": 9,
      "outputs": [
        {
          "output_type": "stream",
          "name": "stdout",
          "text": [
            "Linux distribution successfully detected: Ubuntu 22.04\n",
            "Reading package lists... Done\n",
            "Building dependency tree... Done\n",
            "Reading state information... Done\n",
            "autoconf is already the newest version (2.71-2).\n",
            "bison is already the newest version (2:3.8.2+dfsg-1build1).\n",
            "flex is already the newest version (2.6.4-8build2).\n",
            "gcc is already the newest version (4:11.2.0-1ubuntu1).\n",
            "libreadline-dev is already the newest version (8.1.2-1).\n",
            "make is already the newest version (4.3-4.1build1).\n",
            "pkg-config is already the newest version (0.29.2-1ubuntu3).\n",
            "libc6-dev is already the newest version (2.35-0ubuntu3.7).\n",
            "libglib2.0-dev is already the newest version (2.72.4-0ubuntu2.2).\n",
            "libncurses-dev is already the newest version (6.3-2ubuntu0.1).\n",
            "libpcre3-dev is already the newest version (2:8.39-13ubuntu0.22.04.1).\n",
            "0 upgraded, 0 newly installed, 0 to remove and 43 not upgraded.\n",
            "--------------------------------- PERFORMING TYPICAL CLEANUP\n",
            "for i in cl cqp utils man instutils     ; do if [ -f \"$i/Makefile\" ]; then make -C $i clean; fi; done;\n",
            "make[1]: Entering directory '/content/cwb-3.5.0-src/cl'\n",
            "rm -f depend.mk\n",
            "gcc -MM -MG  -DCWB_REGISTRY_DEFAULT_PATH=\\\"\"/usr/local/share/cwb/registry\"\\\" -DCOMPILE_DATE=\\\"\"Mon Apr 29 12:36:14 PM UTC 2024\"\\\" -DCWB_VERSION=\\\"3.5.0\\\" -I/usr/include/glib-2.0 -I/usr/lib/x86_64-linux-gnu/glib-2.0/include    globals.c macros.c ui-helpers.c list.c lexhash.c ngram-hash.c bitfields.c storage.c fileutils.c regtab.c special-chars.c regopt.c corpus.c attributes.c makecomps.c registry.tab.c lex.creg.c cdaccess.c bitio.c endian.c compression.c  > depend.mk\n",
            "    .... cleanup compiled CL library code\n",
            "rm -f *.o libcl.a registry.output *~ libcl.so\n",
            "make[1]: Leaving directory '/content/cwb-3.5.0-src/cl'\n",
            "make[1]: Entering directory '/content/cwb-3.5.0-src/cqp'\n",
            "rm -f depend.mk\n",
            "gcc -MM -MG  -DCWB_REGISTRY_DEFAULT_PATH=\\\"\"/usr/local/share/cwb/registry\"\\\" -DCOMPILE_DATE=\\\"\"Mon Apr 29 12:36:15 PM UTC 2024\"\\\" -DCWB_VERSION=\\\"3.5.0\\\" -I/usr/include/glib-2.0 -I/usr/lib/x86_64-linux-gnu/glib-2.0/include    llquery.c cqp.c cqpcl.c symtab.c eval.c tree.c options.c corpmanag.c regex2dfa.c output.c ranges.c builtins.c groups.c targets.c matchlist.c concordance.c parse_actions.c attlist.c context_descriptor.c print-modes.c ascii-print.c sgml-print.c html-print.c latex-print.c variables.c print_align.c macro.c ../CQi/server.c ../CQi/auth.c ../CQi/log.c parser.tab.c lex.yy.c > depend.mk\n",
            "    .... cleaning up CQP programs\n",
            "rm -f cqp cqpcl cqpserver  *.o ../CQi/*.o parser.output *~ ../CQi/*~\n",
            "# TODO what is \"parser.output\" ? PARSES, PARSEH, PARSEO I think ....\n",
            "make[1]: Leaving directory '/content/cwb-3.5.0-src/cqp'\n",
            "make[1]: Entering directory '/content/cwb-3.5.0-src/utils'\n",
            "rm -f depend.mk\n",
            "gcc -MM -MG  -DCWB_REGISTRY_DEFAULT_PATH=\\\"\"/usr/local/share/cwb/registry\"\\\" -DCOMPILE_DATE=\\\"\"Mon Apr 29 12:36:16 PM UTC 2024\"\\\" -DCWB_VERSION=\\\"3.5.0\\\" -I/usr/include/glib-2.0 -I/usr/lib/x86_64-linux-gnu/glib-2.0/include    cwb-atoi.c cwb-itoa.c cwb-makeall.c cwb-encode.c cwb-decode.c cwb-lexdecode.c cwb-huffcode.c cwb-compress-rdx.c cwb-s-encode.c cwb-s-decode.c cwb-describe-corpus.c cwb-decode-nqrfile.c cwb-scan-corpus.c barlib.c feature_maps.c cwb-align.c cwb-align-show.c cwb-align-encode.c cwb-align-decode.c  > depend.mk\n",
            "    .... cleanup CWB utility programs\n",
            "rm -f cwb-atoi cwb-itoa cwb-makeall cwb-encode cwb-decode cwb-lexdecode cwb-huffcode cwb-compress-rdx cwb-s-encode cwb-s-decode cwb-describe-corpus cwb-decode-nqrfile cwb-scan-corpus cwb-align cwb-align-show cwb-align-encode cwb-align-decode  *.o *~\n",
            "make[1]: Leaving directory '/content/cwb-3.5.0-src/utils'\n",
            "make[1]: Entering directory '/content/cwb-3.5.0-src/man'\n",
            "    .... cleaning up PDF files\n",
            "rm -f cqp.pdf cqpcl.pdf cqpserver.pdf cwb-align.pdf cwb-align-show.pdf cwb-align-encode.pdf cwb-align-decode.pdf cwb-atoi.pdf cwb-itoa.pdf cwb-config.pdf cwb-encode.pdf cwb-decode.pdf cwb-lexdecode.pdf cwb-decode-nqrfile.pdf cwb-describe-corpus.pdf cwb-makeall.pdf cwb-compress-rdx.pdf cwb-huffcode.pdf cwb-s-encode.pdf cwb-s-decode.pdf cwb-scan-corpus.pdf *~\n",
            "make[1]: Leaving directory '/content/cwb-3.5.0-src/man'\n",
            "make[1]: Entering directory '/content/cwb-3.5.0-src/instutils'\n",
            "rm -f cwb-config install-cwb.sh *~\n",
            "make[1]: Leaving directory '/content/cwb-3.5.0-src/instutils'\n",
            "rm -f *~ config/*/*~ CQi/*~ CQi/*.o technical/*~ TAGS\n",
            "rm -f -rf build/* doc/docset_html\n",
            "--------------------------------- UPDATING ALL DEPENDENCIES\n",
            "for i in cl cqp utils man instutils     ; do make -C $i depend ; done;\n",
            "make[1]: Entering directory '/content/cwb-3.5.0-src/cl'\n",
            "    .... generating the CL's make dependencies\n",
            "rm -f depend.mk\n",
            "make depend.mk\n",
            "make[2]: Entering directory '/content/cwb-3.5.0-src/cl'\n",
            "rm -f depend.mk\n",
            "gcc -MM -MG  -DCWB_REGISTRY_DEFAULT_PATH=\\\"\"/usr/local/share/cwb/registry\"\\\" -DCOMPILE_DATE=\\\"\"Mon Apr 29 12:36:17 PM UTC 2024\"\\\" -DCWB_VERSION=\\\"3.5.0\\\" -I/usr/include/glib-2.0 -I/usr/lib/x86_64-linux-gnu/glib-2.0/include    globals.c macros.c ui-helpers.c list.c lexhash.c ngram-hash.c bitfields.c storage.c fileutils.c regtab.c special-chars.c regopt.c corpus.c attributes.c makecomps.c registry.tab.c lex.creg.c cdaccess.c bitio.c endian.c compression.c  > depend.mk\n",
            "make[2]: 'depend.mk' is up to date.\n",
            "make[2]: Leaving directory '/content/cwb-3.5.0-src/cl'\n",
            "make[1]: Leaving directory '/content/cwb-3.5.0-src/cl'\n",
            "make[1]: Entering directory '/content/cwb-3.5.0-src/cqp'\n",
            "    .... generating CQP's make dependencies\n",
            "rm -f depend.mk\n",
            "make depend.mk\n",
            "make[2]: Entering directory '/content/cwb-3.5.0-src/cqp'\n",
            "rm -f depend.mk\n",
            "gcc -MM -MG  -DCWB_REGISTRY_DEFAULT_PATH=\\\"\"/usr/local/share/cwb/registry\"\\\" -DCOMPILE_DATE=\\\"\"Mon Apr 29 12:36:17 PM UTC 2024\"\\\" -DCWB_VERSION=\\\"3.5.0\\\" -I/usr/include/glib-2.0 -I/usr/lib/x86_64-linux-gnu/glib-2.0/include    llquery.c cqp.c cqpcl.c symtab.c eval.c tree.c options.c corpmanag.c regex2dfa.c output.c ranges.c builtins.c groups.c targets.c matchlist.c concordance.c parse_actions.c attlist.c context_descriptor.c print-modes.c ascii-print.c sgml-print.c html-print.c latex-print.c variables.c print_align.c macro.c ../CQi/server.c ../CQi/auth.c ../CQi/log.c parser.tab.c lex.yy.c > depend.mk\n",
            "make[2]: 'depend.mk' is up to date.\n",
            "make[2]: Leaving directory '/content/cwb-3.5.0-src/cqp'\n",
            "make[1]: Leaving directory '/content/cwb-3.5.0-src/cqp'\n",
            "make[1]: Entering directory '/content/cwb-3.5.0-src/utils'\n",
            "    .... generate make dependencies for the CWB utilities\n",
            "rm -f depend.mk\n",
            "make depend.mk\n",
            "make[2]: Entering directory '/content/cwb-3.5.0-src/utils'\n",
            "rm -f depend.mk\n",
            "gcc -MM -MG  -DCWB_REGISTRY_DEFAULT_PATH=\\\"\"/usr/local/share/cwb/registry\"\\\" -DCOMPILE_DATE=\\\"\"Mon Apr 29 12:36:19 PM UTC 2024\"\\\" -DCWB_VERSION=\\\"3.5.0\\\" -I/usr/include/glib-2.0 -I/usr/lib/x86_64-linux-gnu/glib-2.0/include    cwb-atoi.c cwb-itoa.c cwb-makeall.c cwb-encode.c cwb-decode.c cwb-lexdecode.c cwb-huffcode.c cwb-compress-rdx.c cwb-s-encode.c cwb-s-decode.c cwb-describe-corpus.c cwb-decode-nqrfile.c cwb-scan-corpus.c barlib.c feature_maps.c cwb-align.c cwb-align-show.c cwb-align-encode.c cwb-align-decode.c  > depend.mk\n",
            "make[2]: 'depend.mk' is up to date.\n",
            "make[2]: Leaving directory '/content/cwb-3.5.0-src/utils'\n",
            "make[1]: Leaving directory '/content/cwb-3.5.0-src/utils'\n",
            "make[1]: Entering directory '/content/cwb-3.5.0-src/man'\n",
            "         Nothing to be done for 'make depend' in directory 'man'\n",
            "make[1]: Leaving directory '/content/cwb-3.5.0-src/man'\n",
            "make[1]: Entering directory '/content/cwb-3.5.0-src/instutils'\n",
            "         Nothing to be done for 'make depend' in directory 'instutils'\n",
            "make[1]: Leaving directory '/content/cwb-3.5.0-src/instutils'\n",
            "--------------------------------- BUILDING CORPUS LIBRARY (CL)\n",
            "make -C cl \n",
            "make[1]: Entering directory '/content/cwb-3.5.0-src/cl'\n",
            "    .... compiling source file globals.c\n",
            "rm -f globals.o\n",
            "gcc -c  -o globals.o -O2 -Wall -fPIC -O3 -march=x86-64 -mtune=generic   -DUSE_TERMCAP -DUSE_READLINE -DCWB_REGISTRY_DEFAULT_PATH=\\\"\"/usr/local/share/cwb/registry\"\\\" -DCOMPILE_DATE=\\\"\"Mon Apr 29 12:36:19 PM UTC 2024\"\\\" -DCWB_VERSION=\\\"3.5.0\\\" -I/usr/include/glib-2.0 -I/usr/lib/x86_64-linux-gnu/glib-2.0/include    globals.c\n",
            "    .... compiling source file macros.c\n",
            "rm -f macros.o\n",
            "gcc -c  -o macros.o -O2 -Wall -fPIC -O3 -march=x86-64 -mtune=generic   -DUSE_TERMCAP -DUSE_READLINE -DCWB_REGISTRY_DEFAULT_PATH=\\\"\"/usr/local/share/cwb/registry\"\\\" -DCOMPILE_DATE=\\\"\"Mon Apr 29 12:36:20 PM UTC 2024\"\\\" -DCWB_VERSION=\\\"3.5.0\\\" -I/usr/include/glib-2.0 -I/usr/lib/x86_64-linux-gnu/glib-2.0/include    macros.c\n",
            "    .... compiling source file ui-helpers.c\n",
            "rm -f ui-helpers.o\n",
            "gcc -c  -o ui-helpers.o -O2 -Wall -fPIC -O3 -march=x86-64 -mtune=generic   -DUSE_TERMCAP -DUSE_READLINE -DCWB_REGISTRY_DEFAULT_PATH=\\\"\"/usr/local/share/cwb/registry\"\\\" -DCOMPILE_DATE=\\\"\"Mon Apr 29 12:36:20 PM UTC 2024\"\\\" -DCWB_VERSION=\\\"3.5.0\\\" -I/usr/include/glib-2.0 -I/usr/lib/x86_64-linux-gnu/glib-2.0/include    ui-helpers.c\n",
            "    .... compiling source file list.c\n",
            "rm -f list.o\n",
            "gcc -c  -o list.o -O2 -Wall -fPIC -O3 -march=x86-64 -mtune=generic   -DUSE_TERMCAP -DUSE_READLINE -DCWB_REGISTRY_DEFAULT_PATH=\\\"\"/usr/local/share/cwb/registry\"\\\" -DCOMPILE_DATE=\\\"\"Mon Apr 29 12:36:20 PM UTC 2024\"\\\" -DCWB_VERSION=\\\"3.5.0\\\" -I/usr/include/glib-2.0 -I/usr/lib/x86_64-linux-gnu/glib-2.0/include    list.c\n",
            "    .... compiling source file lexhash.c\n",
            "rm -f lexhash.o\n",
            "gcc -c  -o lexhash.o -O2 -Wall -fPIC -O3 -march=x86-64 -mtune=generic   -DUSE_TERMCAP -DUSE_READLINE -DCWB_REGISTRY_DEFAULT_PATH=\\\"\"/usr/local/share/cwb/registry\"\\\" -DCOMPILE_DATE=\\\"\"Mon Apr 29 12:36:20 PM UTC 2024\"\\\" -DCWB_VERSION=\\\"3.5.0\\\" -I/usr/include/glib-2.0 -I/usr/lib/x86_64-linux-gnu/glib-2.0/include    lexhash.c\n",
            "    .... compiling source file ngram-hash.c\n",
            "rm -f ngram-hash.o\n",
            "gcc -c  -o ngram-hash.o -O2 -Wall -fPIC -O3 -march=x86-64 -mtune=generic   -DUSE_TERMCAP -DUSE_READLINE -DCWB_REGISTRY_DEFAULT_PATH=\\\"\"/usr/local/share/cwb/registry\"\\\" -DCOMPILE_DATE=\\\"\"Mon Apr 29 12:36:20 PM UTC 2024\"\\\" -DCWB_VERSION=\\\"3.5.0\\\" -I/usr/include/glib-2.0 -I/usr/lib/x86_64-linux-gnu/glib-2.0/include    ngram-hash.c\n",
            "    .... compiling source file bitfields.c\n",
            "rm -f bitfields.o\n",
            "gcc -c  -o bitfields.o -O2 -Wall -fPIC -O3 -march=x86-64 -mtune=generic   -DUSE_TERMCAP -DUSE_READLINE -DCWB_REGISTRY_DEFAULT_PATH=\\\"\"/usr/local/share/cwb/registry\"\\\" -DCOMPILE_DATE=\\\"\"Mon Apr 29 12:36:21 PM UTC 2024\"\\\" -DCWB_VERSION=\\\"3.5.0\\\" -I/usr/include/glib-2.0 -I/usr/lib/x86_64-linux-gnu/glib-2.0/include    bitfields.c\n",
            "    .... compiling source file storage.c\n",
            "rm -f storage.o\n",
            "gcc -c  -o storage.o -O2 -Wall -fPIC -O3 -march=x86-64 -mtune=generic   -DUSE_TERMCAP -DUSE_READLINE -DCWB_REGISTRY_DEFAULT_PATH=\\\"\"/usr/local/share/cwb/registry\"\\\" -DCOMPILE_DATE=\\\"\"Mon Apr 29 12:36:21 PM UTC 2024\"\\\" -DCWB_VERSION=\\\"3.5.0\\\" -I/usr/include/glib-2.0 -I/usr/lib/x86_64-linux-gnu/glib-2.0/include    storage.c\n",
            "\u001b[01m\u001b[Kstorage.c:\u001b[m\u001b[K In function ‘\u001b[01m\u001b[Kmmapfile\u001b[m\u001b[K’:\n",
            "\u001b[01m\u001b[Kstorage.c:336:7:\u001b[m\u001b[K \u001b[01;35m\u001b[Kwarning: \u001b[m\u001b[Kignoring return value of ‘\u001b[01m\u001b[Kwrite\u001b[m\u001b[K’ declared with attribute ‘\u001b[01m\u001b[Kwarn_unused_result\u001b[m\u001b[K’ [\u001b[01;35m\u001b[K\u001b]8;;https://gcc.gnu.org/onlinedocs/gcc/Warning-Options.html#index-Wunused-result\u0007-Wunused-result\u001b]8;;\u0007\u001b[m\u001b[K]\n",
            "  336 |       \u001b[01;35m\u001b[Kwrite(fd, &fd, sizeof(int))\u001b[m\u001b[K;\n",
            "      |       \u001b[01;35m\u001b[K^~~~~~~~~~~~~~~~~~~~~~~~~~~\u001b[m\u001b[K\n",
            "    .... compiling source file fileutils.c\n",
            "rm -f fileutils.o\n",
            "gcc -c  -o fileutils.o -O2 -Wall -fPIC -O3 -march=x86-64 -mtune=generic   -DUSE_TERMCAP -DUSE_READLINE -DCWB_REGISTRY_DEFAULT_PATH=\\\"\"/usr/local/share/cwb/registry\"\\\" -DCOMPILE_DATE=\\\"\"Mon Apr 29 12:36:21 PM UTC 2024\"\\\" -DCWB_VERSION=\\\"3.5.0\\\" -I/usr/include/glib-2.0 -I/usr/lib/x86_64-linux-gnu/glib-2.0/include    fileutils.c\n",
            "    .... compiling source file regtab.c\n",
            "rm -f regtab.o\n",
            "gcc -c  -o regtab.o -O2 -Wall -fPIC -O3 -march=x86-64 -mtune=generic   -DUSE_TERMCAP -DUSE_READLINE -DCWB_REGISTRY_DEFAULT_PATH=\\\"\"/usr/local/share/cwb/registry\"\\\" -DCOMPILE_DATE=\\\"\"Mon Apr 29 12:36:22 PM UTC 2024\"\\\" -DCWB_VERSION=\\\"3.5.0\\\" -I/usr/include/glib-2.0 -I/usr/lib/x86_64-linux-gnu/glib-2.0/include    regtab.c\n",
            "    .... compiling source file special-chars.c\n",
            "rm -f special-chars.o\n",
            "gcc -c  -o special-chars.o -O2 -Wall -fPIC -O3 -march=x86-64 -mtune=generic   -DUSE_TERMCAP -DUSE_READLINE -DCWB_REGISTRY_DEFAULT_PATH=\\\"\"/usr/local/share/cwb/registry\"\\\" -DCOMPILE_DATE=\\\"\"Mon Apr 29 12:36:22 PM UTC 2024\"\\\" -DCWB_VERSION=\\\"3.5.0\\\" -I/usr/include/glib-2.0 -I/usr/lib/x86_64-linux-gnu/glib-2.0/include    special-chars.c\n",
            "    .... compiling source file regopt.c\n",
            "rm -f regopt.o\n",
            "gcc -c  -o regopt.o -O2 -Wall -fPIC -O3 -march=x86-64 -mtune=generic   -DUSE_TERMCAP -DUSE_READLINE -DCWB_REGISTRY_DEFAULT_PATH=\\\"\"/usr/local/share/cwb/registry\"\\\" -DCOMPILE_DATE=\\\"\"Mon Apr 29 12:36:23 PM UTC 2024\"\\\" -DCWB_VERSION=\\\"3.5.0\\\" -I/usr/include/glib-2.0 -I/usr/lib/x86_64-linux-gnu/glib-2.0/include    regopt.c\n",
            "    .... compiling source file corpus.c\n",
            "rm -f corpus.o\n",
            "gcc -c  -o corpus.o -O2 -Wall -fPIC -O3 -march=x86-64 -mtune=generic   -DUSE_TERMCAP -DUSE_READLINE -DCWB_REGISTRY_DEFAULT_PATH=\\\"\"/usr/local/share/cwb/registry\"\\\" -DCOMPILE_DATE=\\\"\"Mon Apr 29 12:36:25 PM UTC 2024\"\\\" -DCWB_VERSION=\\\"3.5.0\\\" -I/usr/include/glib-2.0 -I/usr/lib/x86_64-linux-gnu/glib-2.0/include    corpus.c\n",
            "    .... compiling source file attributes.c\n",
            "rm -f attributes.o\n",
            "gcc -c  -o attributes.o -O2 -Wall -fPIC -O3 -march=x86-64 -mtune=generic   -DUSE_TERMCAP -DUSE_READLINE -DCWB_REGISTRY_DEFAULT_PATH=\\\"\"/usr/local/share/cwb/registry\"\\\" -DCOMPILE_DATE=\\\"\"Mon Apr 29 12:36:25 PM UTC 2024\"\\\" -DCWB_VERSION=\\\"3.5.0\\\" -I/usr/include/glib-2.0 -I/usr/lib/x86_64-linux-gnu/glib-2.0/include    attributes.c\n",
            "    .... compiling source file makecomps.c\n",
            "rm -f makecomps.o\n",
            "gcc -c  -o makecomps.o -O2 -Wall -fPIC -O3 -march=x86-64 -mtune=generic   -DUSE_TERMCAP -DUSE_READLINE -DCWB_REGISTRY_DEFAULT_PATH=\\\"\"/usr/local/share/cwb/registry\"\\\" -DCOMPILE_DATE=\\\"\"Mon Apr 29 12:36:26 PM UTC 2024\"\\\" -DCWB_VERSION=\\\"3.5.0\\\" -I/usr/include/glib-2.0 -I/usr/lib/x86_64-linux-gnu/glib-2.0/include    makecomps.c\n",
            "    .... compiling source file registry.tab.c\n",
            "rm -f registry.tab.o\n",
            "gcc -c  -o registry.tab.o -O2 -Wall -fPIC -O3 -march=x86-64 -mtune=generic   -DUSE_TERMCAP -DUSE_READLINE -DCWB_REGISTRY_DEFAULT_PATH=\\\"\"/usr/local/share/cwb/registry\"\\\" -DCOMPILE_DATE=\\\"\"Mon Apr 29 12:36:26 PM UTC 2024\"\\\" -DCWB_VERSION=\\\"3.5.0\\\" -I/usr/include/glib-2.0 -I/usr/lib/x86_64-linux-gnu/glib-2.0/include    registry.tab.c\n",
            "    .... compiling source file lex.creg.c\n",
            "rm -f lex.creg.o\n",
            "gcc -c  -o lex.creg.o -O2 -Wall -fPIC -O3 -march=x86-64 -mtune=generic   -DUSE_TERMCAP -DUSE_READLINE -DCWB_REGISTRY_DEFAULT_PATH=\\\"\"/usr/local/share/cwb/registry\"\\\" -DCOMPILE_DATE=\\\"\"Mon Apr 29 12:36:27 PM UTC 2024\"\\\" -DCWB_VERSION=\\\"3.5.0\\\" -I/usr/include/glib-2.0 -I/usr/lib/x86_64-linux-gnu/glib-2.0/include    lex.creg.c\n",
            "    .... compiling source file cdaccess.c\n",
            "rm -f cdaccess.o\n",
            "gcc -c  -o cdaccess.o -O2 -Wall -fPIC -O3 -march=x86-64 -mtune=generic   -DUSE_TERMCAP -DUSE_READLINE -DCWB_REGISTRY_DEFAULT_PATH=\\\"\"/usr/local/share/cwb/registry\"\\\" -DCOMPILE_DATE=\\\"\"Mon Apr 29 12:36:27 PM UTC 2024\"\\\" -DCWB_VERSION=\\\"3.5.0\\\" -I/usr/include/glib-2.0 -I/usr/lib/x86_64-linux-gnu/glib-2.0/include    cdaccess.c\n",
            "\u001b[01m\u001b[Kcdaccess.c:\u001b[m\u001b[K In function ‘\u001b[01m\u001b[Kcl_dynamic_call\u001b[m\u001b[K’:\n",
            "\u001b[01m\u001b[Kcdaccess.c:2502:7:\u001b[m\u001b[K \u001b[01;35m\u001b[Kwarning: \u001b[m\u001b[Kignoring return value of ‘\u001b[01m\u001b[Kfgets\u001b[m\u001b[K’ declared with attribute ‘\u001b[01m\u001b[Kwarn_unused_result\u001b[m\u001b[K’ [\u001b[01;35m\u001b[K\u001b]8;;https://gcc.gnu.org/onlinedocs/gcc/Warning-Options.html#index-Wunused-result\u0007-Wunused-result\u001b]8;;\u0007\u001b[m\u001b[K]\n",
            " 2502 |       \u001b[01;35m\u001b[Kfgets(call, CL_MAX_LINE_LENGTH, pipe)\u001b[m\u001b[K;\n",
            "      |       \u001b[01;35m\u001b[K^~~~~~~~~~~~~~~~~~~~~~~~~~~~~~~~~~~~~\u001b[m\u001b[K\n",
            "    .... compiling source file bitio.c\n",
            "rm -f bitio.o\n",
            "gcc -c  -o bitio.o -O2 -Wall -fPIC -O3 -march=x86-64 -mtune=generic   -DUSE_TERMCAP -DUSE_READLINE -DCWB_REGISTRY_DEFAULT_PATH=\\\"\"/usr/local/share/cwb/registry\"\\\" -DCOMPILE_DATE=\\\"\"Mon Apr 29 12:36:28 PM UTC 2024\"\\\" -DCWB_VERSION=\\\"3.5.0\\\" -I/usr/include/glib-2.0 -I/usr/lib/x86_64-linux-gnu/glib-2.0/include    bitio.c\n",
            "    .... compiling source file endian.c\n",
            "rm -f endian.o\n",
            "gcc -c  -o endian.o -O2 -Wall -fPIC -O3 -march=x86-64 -mtune=generic   -DUSE_TERMCAP -DUSE_READLINE -DCWB_REGISTRY_DEFAULT_PATH=\\\"\"/usr/local/share/cwb/registry\"\\\" -DCOMPILE_DATE=\\\"\"Mon Apr 29 12:36:28 PM UTC 2024\"\\\" -DCWB_VERSION=\\\"3.5.0\\\" -I/usr/include/glib-2.0 -I/usr/lib/x86_64-linux-gnu/glib-2.0/include    endian.c\n",
            "    .... compiling source file compression.c\n",
            "rm -f compression.o\n",
            "gcc -c  -o compression.o -O2 -Wall -fPIC -O3 -march=x86-64 -mtune=generic   -DUSE_TERMCAP -DUSE_READLINE -DCWB_REGISTRY_DEFAULT_PATH=\\\"\"/usr/local/share/cwb/registry\"\\\" -DCOMPILE_DATE=\\\"\"Mon Apr 29 12:36:28 PM UTC 2024\"\\\" -DCWB_VERSION=\\\"3.5.0\\\" -I/usr/include/glib-2.0 -I/usr/lib/x86_64-linux-gnu/glib-2.0/include    compression.c\n",
            "    .... generating static library file for CL (libcl.a)\n",
            "rm -f libcl.a\n",
            "ar cq libcl.a globals.o macros.o ui-helpers.o list.o lexhash.o ngram-hash.o bitfields.o storage.o fileutils.o regtab.o special-chars.o regopt.o corpus.o attributes.o makecomps.o registry.tab.o lex.creg.o cdaccess.o bitio.o endian.o compression.o\n",
            "ranlib libcl.a\n",
            "    .... generating shared library file for CL (libcl.so)\n",
            "gcc -shared -Wl,-soname,libcl.so -o libcl.so globals.o macros.o ui-helpers.o list.o lexhash.o ngram-hash.o bitfields.o storage.o fileutils.o regtab.o special-chars.o regopt.o corpus.o attributes.o makecomps.o registry.tab.o lex.creg.o cdaccess.o bitio.o endian.o compression.o   -lm   -lpcre -lglib-2.0 \n",
            "    .... compiling source file dl_stub.c\n",
            "rm -f dl_stub.o\n",
            "gcc -c  -o dl_stub.o -O2 -Wall -fPIC -O3 -march=x86-64 -mtune=generic   -DUSE_TERMCAP -DUSE_READLINE -DCWB_REGISTRY_DEFAULT_PATH=\\\"\"/usr/local/share/cwb/registry\"\\\" -DCOMPILE_DATE=\\\"\"Mon Apr 29 12:36:29 PM UTC 2024\"\\\" -DCWB_VERSION=\\\"3.5.0\\\" -I/usr/include/glib-2.0 -I/usr/lib/x86_64-linux-gnu/glib-2.0/include    dl_stub.c\n",
            "make[1]: Leaving directory '/content/cwb-3.5.0-src/cl'\n",
            "--------------------------------- BUILDING COMMAND-LINE UTILITIES\n",
            "make -C utils \n",
            "make[1]: Entering directory '/content/cwb-3.5.0-src/utils'\n",
            "    .... compiling source file cwb-atoi.c\n",
            "rm -f cwb-atoi.o\n",
            "gcc -c  -o cwb-atoi.o -O2 -Wall -fPIC -O3 -march=x86-64 -mtune=generic   -DUSE_TERMCAP -DUSE_READLINE -DCWB_REGISTRY_DEFAULT_PATH=\\\"\"/usr/local/share/cwb/registry\"\\\" -DCOMPILE_DATE=\\\"\"Mon Apr 29 12:36:29 PM UTC 2024\"\\\" -DCWB_VERSION=\\\"3.5.0\\\" -I/usr/include/glib-2.0 -I/usr/lib/x86_64-linux-gnu/glib-2.0/include    cwb-atoi.c\n",
            "    .... link executable cwb-atoi\n",
            "rm -f cwb-atoi\n",
            "gcc -O2 -Wall -fPIC -O3 -march=x86-64 -mtune=generic   -DUSE_TERMCAP -DUSE_READLINE -o cwb-atoi cwb-atoi.o /content/cwb-3.5.0-src/utils/../cl/libcl.so -Xlinker -rpath -Xlinker /usr/local/lib -lm   -lpcre -lglib-2.0 \n",
            "    .... compiling source file cwb-itoa.c\n",
            "rm -f cwb-itoa.o\n",
            "gcc -c  -o cwb-itoa.o -O2 -Wall -fPIC -O3 -march=x86-64 -mtune=generic   -DUSE_TERMCAP -DUSE_READLINE -DCWB_REGISTRY_DEFAULT_PATH=\\\"\"/usr/local/share/cwb/registry\"\\\" -DCOMPILE_DATE=\\\"\"Mon Apr 29 12:36:29 PM UTC 2024\"\\\" -DCWB_VERSION=\\\"3.5.0\\\" -I/usr/include/glib-2.0 -I/usr/lib/x86_64-linux-gnu/glib-2.0/include    cwb-itoa.c\n",
            "    .... link executable cwb-itoa\n",
            "rm -f cwb-itoa\n",
            "gcc -O2 -Wall -fPIC -O3 -march=x86-64 -mtune=generic   -DUSE_TERMCAP -DUSE_READLINE -o cwb-itoa cwb-itoa.o /content/cwb-3.5.0-src/utils/../cl/libcl.so -Xlinker -rpath -Xlinker /usr/local/lib -lm   -lpcre -lglib-2.0 \n",
            "    .... compiling source file cwb-makeall.c\n",
            "rm -f cwb-makeall.o\n",
            "gcc -c  -o cwb-makeall.o -O2 -Wall -fPIC -O3 -march=x86-64 -mtune=generic   -DUSE_TERMCAP -DUSE_READLINE -DCWB_REGISTRY_DEFAULT_PATH=\\\"\"/usr/local/share/cwb/registry\"\\\" -DCOMPILE_DATE=\\\"\"Mon Apr 29 12:36:29 PM UTC 2024\"\\\" -DCWB_VERSION=\\\"3.5.0\\\" -I/usr/include/glib-2.0 -I/usr/lib/x86_64-linux-gnu/glib-2.0/include    cwb-makeall.c\n",
            "    .... link executable cwb-makeall\n",
            "rm -f cwb-makeall\n",
            "gcc -O2 -Wall -fPIC -O3 -march=x86-64 -mtune=generic   -DUSE_TERMCAP -DUSE_READLINE -o cwb-makeall cwb-makeall.o /content/cwb-3.5.0-src/utils/../cl/libcl.so -Xlinker -rpath -Xlinker /usr/local/lib -lm   -lpcre -lglib-2.0 \n",
            "    .... compiling source file cwb-encode.c\n",
            "rm -f cwb-encode.o\n",
            "gcc -c  -o cwb-encode.o -O2 -Wall -fPIC -O3 -march=x86-64 -mtune=generic   -DUSE_TERMCAP -DUSE_READLINE -DCWB_REGISTRY_DEFAULT_PATH=\\\"\"/usr/local/share/cwb/registry\"\\\" -DCOMPILE_DATE=\\\"\"Mon Apr 29 12:36:30 PM UTC 2024\"\\\" -DCWB_VERSION=\\\"3.5.0\\\" -I/usr/include/glib-2.0 -I/usr/lib/x86_64-linux-gnu/glib-2.0/include    cwb-encode.c\n",
            "    .... link executable cwb-encode\n",
            "rm -f cwb-encode\n",
            "gcc -O2 -Wall -fPIC -O3 -march=x86-64 -mtune=generic   -DUSE_TERMCAP -DUSE_READLINE -o cwb-encode cwb-encode.o /content/cwb-3.5.0-src/utils/../cl/libcl.so -Xlinker -rpath -Xlinker /usr/local/lib -lm   -lpcre -lglib-2.0 \n",
            "    .... compiling source file cwb-decode.c\n",
            "rm -f cwb-decode.o\n",
            "gcc -c  -o cwb-decode.o -O2 -Wall -fPIC -O3 -march=x86-64 -mtune=generic   -DUSE_TERMCAP -DUSE_READLINE -DCWB_REGISTRY_DEFAULT_PATH=\\\"\"/usr/local/share/cwb/registry\"\\\" -DCOMPILE_DATE=\\\"\"Mon Apr 29 12:36:31 PM UTC 2024\"\\\" -DCWB_VERSION=\\\"3.5.0\\\" -I/usr/include/glib-2.0 -I/usr/lib/x86_64-linux-gnu/glib-2.0/include    cwb-decode.c\n",
            "    .... link executable cwb-decode\n",
            "rm -f cwb-decode\n",
            "gcc -O2 -Wall -fPIC -O3 -march=x86-64 -mtune=generic   -DUSE_TERMCAP -DUSE_READLINE -o cwb-decode cwb-decode.o /content/cwb-3.5.0-src/utils/../cl/libcl.so -Xlinker -rpath -Xlinker /usr/local/lib -lm   -lpcre -lglib-2.0 \n",
            "    .... compiling source file cwb-lexdecode.c\n",
            "rm -f cwb-lexdecode.o\n",
            "gcc -c  -o cwb-lexdecode.o -O2 -Wall -fPIC -O3 -march=x86-64 -mtune=generic   -DUSE_TERMCAP -DUSE_READLINE -DCWB_REGISTRY_DEFAULT_PATH=\\\"\"/usr/local/share/cwb/registry\"\\\" -DCOMPILE_DATE=\\\"\"Mon Apr 29 12:36:31 PM UTC 2024\"\\\" -DCWB_VERSION=\\\"3.5.0\\\" -I/usr/include/glib-2.0 -I/usr/lib/x86_64-linux-gnu/glib-2.0/include    cwb-lexdecode.c\n",
            "    .... link executable cwb-lexdecode\n",
            "rm -f cwb-lexdecode\n",
            "gcc -O2 -Wall -fPIC -O3 -march=x86-64 -mtune=generic   -DUSE_TERMCAP -DUSE_READLINE -o cwb-lexdecode cwb-lexdecode.o /content/cwb-3.5.0-src/utils/../cl/libcl.so -Xlinker -rpath -Xlinker /usr/local/lib -lm   -lpcre -lglib-2.0 \n",
            "    .... compiling source file cwb-huffcode.c\n",
            "rm -f cwb-huffcode.o\n",
            "gcc -c  -o cwb-huffcode.o -O2 -Wall -fPIC -O3 -march=x86-64 -mtune=generic   -DUSE_TERMCAP -DUSE_READLINE -DCWB_REGISTRY_DEFAULT_PATH=\\\"\"/usr/local/share/cwb/registry\"\\\" -DCOMPILE_DATE=\\\"\"Mon Apr 29 12:36:31 PM UTC 2024\"\\\" -DCWB_VERSION=\\\"3.5.0\\\" -I/usr/include/glib-2.0 -I/usr/lib/x86_64-linux-gnu/glib-2.0/include    cwb-huffcode.c\n",
            "    .... link executable cwb-huffcode\n",
            "rm -f cwb-huffcode\n",
            "gcc -O2 -Wall -fPIC -O3 -march=x86-64 -mtune=generic   -DUSE_TERMCAP -DUSE_READLINE -o cwb-huffcode cwb-huffcode.o /content/cwb-3.5.0-src/utils/../cl/libcl.so -Xlinker -rpath -Xlinker /usr/local/lib -lm   -lpcre -lglib-2.0 \n",
            "    .... compiling source file cwb-compress-rdx.c\n",
            "rm -f cwb-compress-rdx.o\n",
            "gcc -c  -o cwb-compress-rdx.o -O2 -Wall -fPIC -O3 -march=x86-64 -mtune=generic   -DUSE_TERMCAP -DUSE_READLINE -DCWB_REGISTRY_DEFAULT_PATH=\\\"\"/usr/local/share/cwb/registry\"\\\" -DCOMPILE_DATE=\\\"\"Mon Apr 29 12:36:32 PM UTC 2024\"\\\" -DCWB_VERSION=\\\"3.5.0\\\" -I/usr/include/glib-2.0 -I/usr/lib/x86_64-linux-gnu/glib-2.0/include    cwb-compress-rdx.c\n",
            "    .... link executable cwb-compress-rdx\n",
            "rm -f cwb-compress-rdx\n",
            "gcc -O2 -Wall -fPIC -O3 -march=x86-64 -mtune=generic   -DUSE_TERMCAP -DUSE_READLINE -o cwb-compress-rdx cwb-compress-rdx.o /content/cwb-3.5.0-src/utils/../cl/libcl.so -Xlinker -rpath -Xlinker /usr/local/lib -lm   -lpcre -lglib-2.0 \n",
            "    .... compiling source file cwb-s-encode.c\n",
            "rm -f cwb-s-encode.o\n",
            "gcc -c  -o cwb-s-encode.o -O2 -Wall -fPIC -O3 -march=x86-64 -mtune=generic   -DUSE_TERMCAP -DUSE_READLINE -DCWB_REGISTRY_DEFAULT_PATH=\\\"\"/usr/local/share/cwb/registry\"\\\" -DCOMPILE_DATE=\\\"\"Mon Apr 29 12:36:32 PM UTC 2024\"\\\" -DCWB_VERSION=\\\"3.5.0\\\" -I/usr/include/glib-2.0 -I/usr/lib/x86_64-linux-gnu/glib-2.0/include    cwb-s-encode.c\n",
            "    .... link executable cwb-s-encode\n",
            "rm -f cwb-s-encode\n",
            "gcc -O2 -Wall -fPIC -O3 -march=x86-64 -mtune=generic   -DUSE_TERMCAP -DUSE_READLINE -o cwb-s-encode cwb-s-encode.o /content/cwb-3.5.0-src/utils/../cl/libcl.so -Xlinker -rpath -Xlinker /usr/local/lib -lm   -lpcre -lglib-2.0 \n",
            "    .... compiling source file cwb-s-decode.c\n",
            "rm -f cwb-s-decode.o\n",
            "gcc -c  -o cwb-s-decode.o -O2 -Wall -fPIC -O3 -march=x86-64 -mtune=generic   -DUSE_TERMCAP -DUSE_READLINE -DCWB_REGISTRY_DEFAULT_PATH=\\\"\"/usr/local/share/cwb/registry\"\\\" -DCOMPILE_DATE=\\\"\"Mon Apr 29 12:36:32 PM UTC 2024\"\\\" -DCWB_VERSION=\\\"3.5.0\\\" -I/usr/include/glib-2.0 -I/usr/lib/x86_64-linux-gnu/glib-2.0/include    cwb-s-decode.c\n",
            "    .... link executable cwb-s-decode\n",
            "rm -f cwb-s-decode\n",
            "gcc -O2 -Wall -fPIC -O3 -march=x86-64 -mtune=generic   -DUSE_TERMCAP -DUSE_READLINE -o cwb-s-decode cwb-s-decode.o /content/cwb-3.5.0-src/utils/../cl/libcl.so -Xlinker -rpath -Xlinker /usr/local/lib -lm   -lpcre -lglib-2.0 \n",
            "    .... compiling source file cwb-describe-corpus.c\n",
            "rm -f cwb-describe-corpus.o\n",
            "gcc -c  -o cwb-describe-corpus.o -O2 -Wall -fPIC -O3 -march=x86-64 -mtune=generic   -DUSE_TERMCAP -DUSE_READLINE -DCWB_REGISTRY_DEFAULT_PATH=\\\"\"/usr/local/share/cwb/registry\"\\\" -DCOMPILE_DATE=\\\"\"Mon Apr 29 12:36:32 PM UTC 2024\"\\\" -DCWB_VERSION=\\\"3.5.0\\\" -I/usr/include/glib-2.0 -I/usr/lib/x86_64-linux-gnu/glib-2.0/include    cwb-describe-corpus.c\n",
            "    .... link executable cwb-describe-corpus\n",
            "rm -f cwb-describe-corpus\n",
            "gcc -O2 -Wall -fPIC -O3 -march=x86-64 -mtune=generic   -DUSE_TERMCAP -DUSE_READLINE -o cwb-describe-corpus cwb-describe-corpus.o /content/cwb-3.5.0-src/utils/../cl/libcl.so -Xlinker -rpath -Xlinker /usr/local/lib -lm   -lpcre -lglib-2.0 \n",
            "    .... compiling source file cwb-decode-nqrfile.c\n",
            "rm -f cwb-decode-nqrfile.o\n",
            "gcc -c  -o cwb-decode-nqrfile.o -O2 -Wall -fPIC -O3 -march=x86-64 -mtune=generic   -DUSE_TERMCAP -DUSE_READLINE -DCWB_REGISTRY_DEFAULT_PATH=\\\"\"/usr/local/share/cwb/registry\"\\\" -DCOMPILE_DATE=\\\"\"Mon Apr 29 12:36:33 PM UTC 2024\"\\\" -DCWB_VERSION=\\\"3.5.0\\\" -I/usr/include/glib-2.0 -I/usr/lib/x86_64-linux-gnu/glib-2.0/include    cwb-decode-nqrfile.c\n",
            "    .... link executable cwb-decode-nqrfile\n",
            "rm -f cwb-decode-nqrfile\n",
            "gcc -O2 -Wall -fPIC -O3 -march=x86-64 -mtune=generic   -DUSE_TERMCAP -DUSE_READLINE -o cwb-decode-nqrfile cwb-decode-nqrfile.o /content/cwb-3.5.0-src/utils/../cl/libcl.so -Xlinker -rpath -Xlinker /usr/local/lib -lm   -lpcre -lglib-2.0 \n",
            "    .... compiling source file cwb-scan-corpus.c\n",
            "rm -f cwb-scan-corpus.o\n",
            "gcc -c  -o cwb-scan-corpus.o -O2 -Wall -fPIC -O3 -march=x86-64 -mtune=generic   -DUSE_TERMCAP -DUSE_READLINE -DCWB_REGISTRY_DEFAULT_PATH=\\\"\"/usr/local/share/cwb/registry\"\\\" -DCOMPILE_DATE=\\\"\"Mon Apr 29 12:36:33 PM UTC 2024\"\\\" -DCWB_VERSION=\\\"3.5.0\\\" -I/usr/include/glib-2.0 -I/usr/lib/x86_64-linux-gnu/glib-2.0/include    cwb-scan-corpus.c\n",
            "    .... link executable cwb-scan-corpus\n",
            "rm -f cwb-scan-corpus\n",
            "gcc -O2 -Wall -fPIC -O3 -march=x86-64 -mtune=generic   -DUSE_TERMCAP -DUSE_READLINE -o cwb-scan-corpus cwb-scan-corpus.o /content/cwb-3.5.0-src/utils/../cl/libcl.so -Xlinker -rpath -Xlinker /usr/local/lib -lm   -lpcre -lglib-2.0 \n",
            "    .... compiling source file cwb-align.c\n",
            "rm -f cwb-align.o\n",
            "gcc -c  -o cwb-align.o -O2 -Wall -fPIC -O3 -march=x86-64 -mtune=generic   -DUSE_TERMCAP -DUSE_READLINE -DCWB_REGISTRY_DEFAULT_PATH=\\\"\"/usr/local/share/cwb/registry\"\\\" -DCOMPILE_DATE=\\\"\"Mon Apr 29 12:36:33 PM UTC 2024\"\\\" -DCWB_VERSION=\\\"3.5.0\\\" -I/usr/include/glib-2.0 -I/usr/lib/x86_64-linux-gnu/glib-2.0/include    cwb-align.c\n",
            "    .... compiling source file barlib.c\n",
            "rm -f barlib.o\n",
            "gcc -c  -o barlib.o -O2 -Wall -fPIC -O3 -march=x86-64 -mtune=generic   -DUSE_TERMCAP -DUSE_READLINE -DCWB_REGISTRY_DEFAULT_PATH=\\\"\"/usr/local/share/cwb/registry\"\\\" -DCOMPILE_DATE=\\\"\"Mon Apr 29 12:36:33 PM UTC 2024\"\\\" -DCWB_VERSION=\\\"3.5.0\\\" -I/usr/include/glib-2.0 -I/usr/lib/x86_64-linux-gnu/glib-2.0/include    barlib.c\n",
            "    .... compiling source file feature_maps.c\n",
            "rm -f feature_maps.o\n",
            "gcc -c  -o feature_maps.o -O2 -Wall -fPIC -O3 -march=x86-64 -mtune=generic   -DUSE_TERMCAP -DUSE_READLINE -DCWB_REGISTRY_DEFAULT_PATH=\\\"\"/usr/local/share/cwb/registry\"\\\" -DCOMPILE_DATE=\\\"\"Mon Apr 29 12:36:33 PM UTC 2024\"\\\" -DCWB_VERSION=\\\"3.5.0\\\" -I/usr/include/glib-2.0 -I/usr/lib/x86_64-linux-gnu/glib-2.0/include    feature_maps.c\n",
            "    .... link executable cwb-align\n",
            "rm -f cwb-align\n",
            "gcc -O2 -Wall -fPIC -O3 -march=x86-64 -mtune=generic   -DUSE_TERMCAP -DUSE_READLINE -o cwb-align cwb-align.o barlib.o feature_maps.o /content/cwb-3.5.0-src/utils/../cl/libcl.so -Xlinker -rpath -Xlinker /usr/local/lib -lm   -lpcre -lglib-2.0 \n",
            "    .... compiling source file cwb-align-show.c\n",
            "rm -f cwb-align-show.o\n",
            "gcc -c  -o cwb-align-show.o -O2 -Wall -fPIC -O3 -march=x86-64 -mtune=generic   -DUSE_TERMCAP -DUSE_READLINE -DCWB_REGISTRY_DEFAULT_PATH=\\\"\"/usr/local/share/cwb/registry\"\\\" -DCOMPILE_DATE=\\\"\"Mon Apr 29 12:36:34 PM UTC 2024\"\\\" -DCWB_VERSION=\\\"3.5.0\\\" -I/usr/include/glib-2.0 -I/usr/lib/x86_64-linux-gnu/glib-2.0/include    cwb-align-show.c\n",
            "\u001b[01m\u001b[Kcwb-align-show.c:\u001b[m\u001b[K In function ‘\u001b[01m\u001b[Kalignshow_skip_next_region\u001b[m\u001b[K’:\n",
            "\u001b[01m\u001b[Kcwb-align-show.c:217:3:\u001b[m\u001b[K \u001b[01;35m\u001b[Kwarning: \u001b[m\u001b[Kignoring return value of ‘\u001b[01m\u001b[Kfgets\u001b[m\u001b[K’ declared with attribute ‘\u001b[01m\u001b[Kwarn_unused_result\u001b[m\u001b[K’ [\u001b[01;35m\u001b[K\u001b]8;;https://gcc.gnu.org/onlinedocs/gcc/Warning-Options.html#index-Wunused-result\u0007-Wunused-result\u001b]8;;\u0007\u001b[m\u001b[K]\n",
            "  217 |   \u001b[01;35m\u001b[Kfgets(line, CL_MAX_LINE_LENGTH, f)\u001b[m\u001b[K;\n",
            "      |   \u001b[01;35m\u001b[K^~~~~~~~~~~~~~~~~~~~~~~~~~~~~~~~~~\u001b[m\u001b[K\n",
            "\u001b[01m\u001b[Kcwb-align-show.c:\u001b[m\u001b[K In function ‘\u001b[01m\u001b[Kmain\u001b[m\u001b[K’:\n",
            "\u001b[01m\u001b[Kcwb-align-show.c:354:3:\u001b[m\u001b[K \u001b[01;35m\u001b[Kwarning: \u001b[m\u001b[Kignoring return value of ‘\u001b[01m\u001b[Kfgets\u001b[m\u001b[K’ declared with attribute ‘\u001b[01m\u001b[Kwarn_unused_result\u001b[m\u001b[K’ [\u001b[01;35m\u001b[K\u001b]8;;https://gcc.gnu.org/onlinedocs/gcc/Warning-Options.html#index-Wunused-result\u0007-Wunused-result\u001b]8;;\u0007\u001b[m\u001b[K]\n",
            "  354 |   \u001b[01;35m\u001b[Kfgets(line, CL_MAX_LINE_LENGTH, af)\u001b[m\u001b[K;\n",
            "      |   \u001b[01;35m\u001b[K^~~~~~~~~~~~~~~~~~~~~~~~~~~~~~~~~~~\u001b[m\u001b[K\n",
            "\u001b[01m\u001b[Kcwb-align-show.c:392:5:\u001b[m\u001b[K \u001b[01;35m\u001b[Kwarning: \u001b[m\u001b[Kignoring return value of ‘\u001b[01m\u001b[Kfgets\u001b[m\u001b[K’ declared with attribute ‘\u001b[01m\u001b[Kwarn_unused_result\u001b[m\u001b[K’ [\u001b[01;35m\u001b[K\u001b]8;;https://gcc.gnu.org/onlinedocs/gcc/Warning-Options.html#index-Wunused-result\u0007-Wunused-result\u001b]8;;\u0007\u001b[m\u001b[K]\n",
            "  392 |     \u001b[01;35m\u001b[Kfgets(cmd, CL_MAX_LINE_LENGTH, stdin)\u001b[m\u001b[K;\n",
            "      |     \u001b[01;35m\u001b[K^~~~~~~~~~~~~~~~~~~~~~~~~~~~~~~~~~~~~\u001b[m\u001b[K\n",
            "    .... link executable cwb-align-show\n",
            "rm -f cwb-align-show\n",
            "gcc -O2 -Wall -fPIC -O3 -march=x86-64 -mtune=generic   -DUSE_TERMCAP -DUSE_READLINE -o cwb-align-show cwb-align-show.o /content/cwb-3.5.0-src/utils/../cl/libcl.so -Xlinker -rpath -Xlinker /usr/local/lib -lm   -lpcre -lglib-2.0 \n",
            "    .... compiling source file cwb-align-encode.c\n",
            "rm -f cwb-align-encode.o\n",
            "gcc -c  -o cwb-align-encode.o -O2 -Wall -fPIC -O3 -march=x86-64 -mtune=generic   -DUSE_TERMCAP -DUSE_READLINE -DCWB_REGISTRY_DEFAULT_PATH=\\\"\"/usr/local/share/cwb/registry\"\\\" -DCOMPILE_DATE=\\\"\"Mon Apr 29 12:36:34 PM UTC 2024\"\\\" -DCWB_VERSION=\\\"3.5.0\\\" -I/usr/include/glib-2.0 -I/usr/lib/x86_64-linux-gnu/glib-2.0/include    cwb-align-encode.c\n",
            "\u001b[01m\u001b[Kcwb-align-encode.c:\u001b[m\u001b[K In function ‘\u001b[01m\u001b[Kmain\u001b[m\u001b[K’:\n",
            "\u001b[01m\u001b[Kcwb-align-encode.c:207:3:\u001b[m\u001b[K \u001b[01;35m\u001b[Kwarning: \u001b[m\u001b[Kignoring return value of ‘\u001b[01m\u001b[Kfgets\u001b[m\u001b[K’ declared with attribute ‘\u001b[01m\u001b[Kwarn_unused_result\u001b[m\u001b[K’ [\u001b[01;35m\u001b[K\u001b]8;;https://gcc.gnu.org/onlinedocs/gcc/Warning-Options.html#index-Wunused-result\u0007-Wunused-result\u001b]8;;\u0007\u001b[m\u001b[K]\n",
            "  207 |   \u001b[01;35m\u001b[Kfgets(line, CL_MAX_LINE_LENGTH, af)\u001b[m\u001b[K;\n",
            "      |   \u001b[01;35m\u001b[K^~~~~~~~~~~~~~~~~~~~~~~~~~~~~~~~~~~\u001b[m\u001b[K\n",
            "    .... link executable cwb-align-encode\n",
            "rm -f cwb-align-encode\n",
            "gcc -O2 -Wall -fPIC -O3 -march=x86-64 -mtune=generic   -DUSE_TERMCAP -DUSE_READLINE -o cwb-align-encode cwb-align-encode.o /content/cwb-3.5.0-src/utils/../cl/libcl.so -Xlinker -rpath -Xlinker /usr/local/lib -lm   -lpcre -lglib-2.0 \n",
            "    .... compiling source file cwb-align-decode.c\n",
            "rm -f cwb-align-decode.o\n",
            "gcc -c  -o cwb-align-decode.o -O2 -Wall -fPIC -O3 -march=x86-64 -mtune=generic   -DUSE_TERMCAP -DUSE_READLINE -DCWB_REGISTRY_DEFAULT_PATH=\\\"\"/usr/local/share/cwb/registry\"\\\" -DCOMPILE_DATE=\\\"\"Mon Apr 29 12:36:34 PM UTC 2024\"\\\" -DCWB_VERSION=\\\"3.5.0\\\" -I/usr/include/glib-2.0 -I/usr/lib/x86_64-linux-gnu/glib-2.0/include    cwb-align-decode.c\n",
            "    .... link executable cwb-align-decode\n",
            "rm -f cwb-align-decode\n",
            "gcc -O2 -Wall -fPIC -O3 -march=x86-64 -mtune=generic   -DUSE_TERMCAP -DUSE_READLINE -o cwb-align-decode cwb-align-decode.o /content/cwb-3.5.0-src/utils/../cl/libcl.so -Xlinker -rpath -Xlinker /usr/local/lib -lm   -lpcre -lglib-2.0 \n",
            "make[1]: Leaving directory '/content/cwb-3.5.0-src/utils'\n",
            "--------------------------------- BUILDING CQP\n",
            "make -C cqp \n",
            "make[1]: Entering directory '/content/cwb-3.5.0-src/cqp'\n",
            "    .... compiling source file cqp.c\n",
            "rm -f cqp.o\n",
            "gcc -c  -o cqp.o -O2 -Wall -fPIC -O3 -march=x86-64 -mtune=generic   -DUSE_TERMCAP -DUSE_READLINE -DCWB_REGISTRY_DEFAULT_PATH=\\\"\"/usr/local/share/cwb/registry\"\\\" -DCOMPILE_DATE=\\\"\"Mon Apr 29 12:36:35 PM UTC 2024\"\\\" -DCWB_VERSION=\\\"3.5.0\\\" -I/usr/include/glib-2.0 -I/usr/lib/x86_64-linux-gnu/glib-2.0/include    cqp.c\n",
            "    .... compiling source file symtab.c\n",
            "rm -f symtab.o\n",
            "gcc -c  -o symtab.o -O2 -Wall -fPIC -O3 -march=x86-64 -mtune=generic   -DUSE_TERMCAP -DUSE_READLINE -DCWB_REGISTRY_DEFAULT_PATH=\\\"\"/usr/local/share/cwb/registry\"\\\" -DCOMPILE_DATE=\\\"\"Mon Apr 29 12:36:35 PM UTC 2024\"\\\" -DCWB_VERSION=\\\"3.5.0\\\" -I/usr/include/glib-2.0 -I/usr/lib/x86_64-linux-gnu/glib-2.0/include    symtab.c\n",
            "    .... compiling source file eval.c\n",
            "rm -f eval.o\n",
            "gcc -c  -o eval.o -O2 -Wall -fPIC -O3 -march=x86-64 -mtune=generic   -DUSE_TERMCAP -DUSE_READLINE -DCWB_REGISTRY_DEFAULT_PATH=\\\"\"/usr/local/share/cwb/registry\"\\\" -DCOMPILE_DATE=\\\"\"Mon Apr 29 12:36:35 PM UTC 2024\"\\\" -DCWB_VERSION=\\\"3.5.0\\\" -I/usr/include/glib-2.0 -I/usr/lib/x86_64-linux-gnu/glib-2.0/include    eval.c\n",
            "    .... compiling source file tree.c\n",
            "rm -f tree.o\n",
            "gcc -c  -o tree.o -O2 -Wall -fPIC -O3 -march=x86-64 -mtune=generic   -DUSE_TERMCAP -DUSE_READLINE -DCWB_REGISTRY_DEFAULT_PATH=\\\"\"/usr/local/share/cwb/registry\"\\\" -DCOMPILE_DATE=\\\"\"Mon Apr 29 12:36:36 PM UTC 2024\"\\\" -DCWB_VERSION=\\\"3.5.0\\\" -I/usr/include/glib-2.0 -I/usr/lib/x86_64-linux-gnu/glib-2.0/include    tree.c\n",
            "    .... compiling source file options.c\n",
            "rm -f options.o\n",
            "gcc -c  -o options.o -O2 -Wall -fPIC -O3 -march=x86-64 -mtune=generic   -DUSE_TERMCAP -DUSE_READLINE -DCWB_REGISTRY_DEFAULT_PATH=\\\"\"/usr/local/share/cwb/registry\"\\\" -DCOMPILE_DATE=\\\"\"Mon Apr 29 12:36:37 PM UTC 2024\"\\\" -DCWB_VERSION=\\\"3.5.0\\\" -I/usr/include/glib-2.0 -I/usr/lib/x86_64-linux-gnu/glib-2.0/include    options.c\n",
            "    .... compiling source file corpmanag.c\n",
            "rm -f corpmanag.o\n",
            "gcc -c  -o corpmanag.o -O2 -Wall -fPIC -O3 -march=x86-64 -mtune=generic   -DUSE_TERMCAP -DUSE_READLINE -DCWB_REGISTRY_DEFAULT_PATH=\\\"\"/usr/local/share/cwb/registry\"\\\" -DCOMPILE_DATE=\\\"\"Mon Apr 29 12:36:37 PM UTC 2024\"\\\" -DCWB_VERSION=\\\"3.5.0\\\" -I/usr/include/glib-2.0 -I/usr/lib/x86_64-linux-gnu/glib-2.0/include    corpmanag.c\n",
            "    .... compiling source file regex2dfa.c\n",
            "rm -f regex2dfa.o\n",
            "gcc -c  -o regex2dfa.o -O2 -Wall -fPIC -O3 -march=x86-64 -mtune=generic   -DUSE_TERMCAP -DUSE_READLINE -DCWB_REGISTRY_DEFAULT_PATH=\\\"\"/usr/local/share/cwb/registry\"\\\" -DCOMPILE_DATE=\\\"\"Mon Apr 29 12:36:38 PM UTC 2024\"\\\" -DCWB_VERSION=\\\"3.5.0\\\" -I/usr/include/glib-2.0 -I/usr/lib/x86_64-linux-gnu/glib-2.0/include    regex2dfa.c\n",
            "    .... compiling source file output.c\n",
            "rm -f output.o\n",
            "gcc -c  -o output.o -O2 -Wall -fPIC -O3 -march=x86-64 -mtune=generic   -DUSE_TERMCAP -DUSE_READLINE -DCWB_REGISTRY_DEFAULT_PATH=\\\"\"/usr/local/share/cwb/registry\"\\\" -DCOMPILE_DATE=\\\"\"Mon Apr 29 12:36:39 PM UTC 2024\"\\\" -DCWB_VERSION=\\\"3.5.0\\\" -I/usr/include/glib-2.0 -I/usr/lib/x86_64-linux-gnu/glib-2.0/include    output.c\n",
            "    .... compiling source file ranges.c\n",
            "rm -f ranges.o\n",
            "gcc -c  -o ranges.o -O2 -Wall -fPIC -O3 -march=x86-64 -mtune=generic   -DUSE_TERMCAP -DUSE_READLINE -DCWB_REGISTRY_DEFAULT_PATH=\\\"\"/usr/local/share/cwb/registry\"\\\" -DCOMPILE_DATE=\\\"\"Mon Apr 29 12:36:39 PM UTC 2024\"\\\" -DCWB_VERSION=\\\"3.5.0\\\" -I/usr/include/glib-2.0 -I/usr/lib/x86_64-linux-gnu/glib-2.0/include    ranges.c\n",
            "    .... compiling source file builtins.c\n",
            "rm -f builtins.o\n",
            "gcc -c  -o builtins.o -O2 -Wall -fPIC -O3 -march=x86-64 -mtune=generic   -DUSE_TERMCAP -DUSE_READLINE -DCWB_REGISTRY_DEFAULT_PATH=\\\"\"/usr/local/share/cwb/registry\"\\\" -DCOMPILE_DATE=\\\"\"Mon Apr 29 12:36:40 PM UTC 2024\"\\\" -DCWB_VERSION=\\\"3.5.0\\\" -I/usr/include/glib-2.0 -I/usr/lib/x86_64-linux-gnu/glib-2.0/include    builtins.c\n",
            "    .... compiling source file groups.c\n",
            "rm -f groups.o\n",
            "gcc -c  -o groups.o -O2 -Wall -fPIC -O3 -march=x86-64 -mtune=generic   -DUSE_TERMCAP -DUSE_READLINE -DCWB_REGISTRY_DEFAULT_PATH=\\\"\"/usr/local/share/cwb/registry\"\\\" -DCOMPILE_DATE=\\\"\"Mon Apr 29 12:36:40 PM UTC 2024\"\\\" -DCWB_VERSION=\\\"3.5.0\\\" -I/usr/include/glib-2.0 -I/usr/lib/x86_64-linux-gnu/glib-2.0/include    groups.c\n",
            "    .... compiling source file targets.c\n",
            "rm -f targets.o\n",
            "gcc -c  -o targets.o -O2 -Wall -fPIC -O3 -march=x86-64 -mtune=generic   -DUSE_TERMCAP -DUSE_READLINE -DCWB_REGISTRY_DEFAULT_PATH=\\\"\"/usr/local/share/cwb/registry\"\\\" -DCOMPILE_DATE=\\\"\"Mon Apr 29 12:36:40 PM UTC 2024\"\\\" -DCWB_VERSION=\\\"3.5.0\\\" -I/usr/include/glib-2.0 -I/usr/lib/x86_64-linux-gnu/glib-2.0/include    targets.c\n",
            "    .... compiling source file matchlist.c\n",
            "rm -f matchlist.o\n",
            "gcc -c  -o matchlist.o -O2 -Wall -fPIC -O3 -march=x86-64 -mtune=generic   -DUSE_TERMCAP -DUSE_READLINE -DCWB_REGISTRY_DEFAULT_PATH=\\\"\"/usr/local/share/cwb/registry\"\\\" -DCOMPILE_DATE=\\\"\"Mon Apr 29 12:36:40 PM UTC 2024\"\\\" -DCWB_VERSION=\\\"3.5.0\\\" -I/usr/include/glib-2.0 -I/usr/lib/x86_64-linux-gnu/glib-2.0/include    matchlist.c\n",
            "    .... compiling source file concordance.c\n",
            "rm -f concordance.o\n",
            "gcc -c  -o concordance.o -O2 -Wall -fPIC -O3 -march=x86-64 -mtune=generic   -DUSE_TERMCAP -DUSE_READLINE -DCWB_REGISTRY_DEFAULT_PATH=\\\"\"/usr/local/share/cwb/registry\"\\\" -DCOMPILE_DATE=\\\"\"Mon Apr 29 12:36:41 PM UTC 2024\"\\\" -DCWB_VERSION=\\\"3.5.0\\\" -I/usr/include/glib-2.0 -I/usr/lib/x86_64-linux-gnu/glib-2.0/include    concordance.c\n",
            "    .... compiling source file parse_actions.c\n",
            "rm -f parse_actions.o\n",
            "gcc -c  -o parse_actions.o -O2 -Wall -fPIC -O3 -march=x86-64 -mtune=generic   -DUSE_TERMCAP -DUSE_READLINE -DCWB_REGISTRY_DEFAULT_PATH=\\\"\"/usr/local/share/cwb/registry\"\\\" -DCOMPILE_DATE=\\\"\"Mon Apr 29 12:36:41 PM UTC 2024\"\\\" -DCWB_VERSION=\\\"3.5.0\\\" -I/usr/include/glib-2.0 -I/usr/lib/x86_64-linux-gnu/glib-2.0/include    parse_actions.c\n",
            "    .... compiling source file attlist.c\n",
            "rm -f attlist.o\n",
            "gcc -c  -o attlist.o -O2 -Wall -fPIC -O3 -march=x86-64 -mtune=generic   -DUSE_TERMCAP -DUSE_READLINE -DCWB_REGISTRY_DEFAULT_PATH=\\\"\"/usr/local/share/cwb/registry\"\\\" -DCOMPILE_DATE=\\\"\"Mon Apr 29 12:36:42 PM UTC 2024\"\\\" -DCWB_VERSION=\\\"3.5.0\\\" -I/usr/include/glib-2.0 -I/usr/lib/x86_64-linux-gnu/glib-2.0/include    attlist.c\n",
            "    .... compiling source file context_descriptor.c\n",
            "rm -f context_descriptor.o\n",
            "gcc -c  -o context_descriptor.o -O2 -Wall -fPIC -O3 -march=x86-64 -mtune=generic   -DUSE_TERMCAP -DUSE_READLINE -DCWB_REGISTRY_DEFAULT_PATH=\\\"\"/usr/local/share/cwb/registry\"\\\" -DCOMPILE_DATE=\\\"\"Mon Apr 29 12:36:42 PM UTC 2024\"\\\" -DCWB_VERSION=\\\"3.5.0\\\" -I/usr/include/glib-2.0 -I/usr/lib/x86_64-linux-gnu/glib-2.0/include    context_descriptor.c\n",
            "    .... compiling source file print-modes.c\n",
            "rm -f print-modes.o\n",
            "gcc -c  -o print-modes.o -O2 -Wall -fPIC -O3 -march=x86-64 -mtune=generic   -DUSE_TERMCAP -DUSE_READLINE -DCWB_REGISTRY_DEFAULT_PATH=\\\"\"/usr/local/share/cwb/registry\"\\\" -DCOMPILE_DATE=\\\"\"Mon Apr 29 12:36:42 PM UTC 2024\"\\\" -DCWB_VERSION=\\\"3.5.0\\\" -I/usr/include/glib-2.0 -I/usr/lib/x86_64-linux-gnu/glib-2.0/include    print-modes.c\n",
            "    .... compiling source file ascii-print.c\n",
            "rm -f ascii-print.o\n",
            "gcc -c  -o ascii-print.o -O2 -Wall -fPIC -O3 -march=x86-64 -mtune=generic   -DUSE_TERMCAP -DUSE_READLINE -DCWB_REGISTRY_DEFAULT_PATH=\\\"\"/usr/local/share/cwb/registry\"\\\" -DCOMPILE_DATE=\\\"\"Mon Apr 29 12:36:43 PM UTC 2024\"\\\" -DCWB_VERSION=\\\"3.5.0\\\" -I/usr/include/glib-2.0 -I/usr/lib/x86_64-linux-gnu/glib-2.0/include    ascii-print.c\n",
            "    .... compiling source file sgml-print.c\n",
            "rm -f sgml-print.o\n",
            "gcc -c  -o sgml-print.o -O2 -Wall -fPIC -O3 -march=x86-64 -mtune=generic   -DUSE_TERMCAP -DUSE_READLINE -DCWB_REGISTRY_DEFAULT_PATH=\\\"\"/usr/local/share/cwb/registry\"\\\" -DCOMPILE_DATE=\\\"\"Mon Apr 29 12:36:43 PM UTC 2024\"\\\" -DCWB_VERSION=\\\"3.5.0\\\" -I/usr/include/glib-2.0 -I/usr/lib/x86_64-linux-gnu/glib-2.0/include    sgml-print.c\n",
            "    .... compiling source file html-print.c\n",
            "rm -f html-print.o\n",
            "gcc -c  -o html-print.o -O2 -Wall -fPIC -O3 -march=x86-64 -mtune=generic   -DUSE_TERMCAP -DUSE_READLINE -DCWB_REGISTRY_DEFAULT_PATH=\\\"\"/usr/local/share/cwb/registry\"\\\" -DCOMPILE_DATE=\\\"\"Mon Apr 29 12:36:43 PM UTC 2024\"\\\" -DCWB_VERSION=\\\"3.5.0\\\" -I/usr/include/glib-2.0 -I/usr/lib/x86_64-linux-gnu/glib-2.0/include    html-print.c\n",
            "    .... compiling source file latex-print.c\n",
            "rm -f latex-print.o\n",
            "gcc -c  -o latex-print.o -O2 -Wall -fPIC -O3 -march=x86-64 -mtune=generic   -DUSE_TERMCAP -DUSE_READLINE -DCWB_REGISTRY_DEFAULT_PATH=\\\"\"/usr/local/share/cwb/registry\"\\\" -DCOMPILE_DATE=\\\"\"Mon Apr 29 12:36:43 PM UTC 2024\"\\\" -DCWB_VERSION=\\\"3.5.0\\\" -I/usr/include/glib-2.0 -I/usr/lib/x86_64-linux-gnu/glib-2.0/include    latex-print.c\n",
            "    .... compiling source file variables.c\n",
            "rm -f variables.o\n",
            "gcc -c  -o variables.o -O2 -Wall -fPIC -O3 -march=x86-64 -mtune=generic   -DUSE_TERMCAP -DUSE_READLINE -DCWB_REGISTRY_DEFAULT_PATH=\\\"\"/usr/local/share/cwb/registry\"\\\" -DCOMPILE_DATE=\\\"\"Mon Apr 29 12:36:43 PM UTC 2024\"\\\" -DCWB_VERSION=\\\"3.5.0\\\" -I/usr/include/glib-2.0 -I/usr/lib/x86_64-linux-gnu/glib-2.0/include    variables.c\n",
            "    .... compiling source file print_align.c\n",
            "rm -f print_align.o\n",
            "gcc -c  -o print_align.o -O2 -Wall -fPIC -O3 -march=x86-64 -mtune=generic   -DUSE_TERMCAP -DUSE_READLINE -DCWB_REGISTRY_DEFAULT_PATH=\\\"\"/usr/local/share/cwb/registry\"\\\" -DCOMPILE_DATE=\\\"\"Mon Apr 29 12:36:43 PM UTC 2024\"\\\" -DCWB_VERSION=\\\"3.5.0\\\" -I/usr/include/glib-2.0 -I/usr/lib/x86_64-linux-gnu/glib-2.0/include    print_align.c\n",
            "    .... compiling source file macro.c\n",
            "rm -f macro.o\n",
            "gcc -c  -o macro.o -O2 -Wall -fPIC -O3 -march=x86-64 -mtune=generic   -DUSE_TERMCAP -DUSE_READLINE -DCWB_REGISTRY_DEFAULT_PATH=\\\"\"/usr/local/share/cwb/registry\"\\\" -DCOMPILE_DATE=\\\"\"Mon Apr 29 12:36:44 PM UTC 2024\"\\\" -DCWB_VERSION=\\\"3.5.0\\\" -I/usr/include/glib-2.0 -I/usr/lib/x86_64-linux-gnu/glib-2.0/include    macro.c\n",
            "    .... compiling source file parser.tab.c\n",
            "rm -f parser.tab.o\n",
            "gcc -c  -o parser.tab.o -O2 -Wall -fPIC -O3 -march=x86-64 -mtune=generic   -DUSE_TERMCAP -DUSE_READLINE -DCWB_REGISTRY_DEFAULT_PATH=\\\"\"/usr/local/share/cwb/registry\"\\\" -DCOMPILE_DATE=\\\"\"Mon Apr 29 12:36:44 PM UTC 2024\"\\\" -DCWB_VERSION=\\\"3.5.0\\\" -I/usr/include/glib-2.0 -I/usr/lib/x86_64-linux-gnu/glib-2.0/include    parser.tab.c\n",
            "    .... compiling source file lex.yy.c\n",
            "rm -f lex.yy.o\n",
            "gcc -c  -o lex.yy.o -O2 -Wall -fPIC -O3 -march=x86-64 -mtune=generic   -DUSE_TERMCAP -DUSE_READLINE -DCWB_REGISTRY_DEFAULT_PATH=\\\"\"/usr/local/share/cwb/registry\"\\\" -DCOMPILE_DATE=\\\"\"Mon Apr 29 12:36:45 PM UTC 2024\"\\\" -DCWB_VERSION=\\\"3.5.0\\\" -I/usr/include/glib-2.0 -I/usr/lib/x86_64-linux-gnu/glib-2.0/include    lex.yy.c\n",
            "    .... compiling source file dummy_auth.c\n",
            "rm -f dummy_auth.o\n",
            "gcc -c  -o dummy_auth.o -O2 -Wall -fPIC -O3 -march=x86-64 -mtune=generic   -DUSE_TERMCAP -DUSE_READLINE -DCWB_REGISTRY_DEFAULT_PATH=\\\"\"/usr/local/share/cwb/registry\"\\\" -DCOMPILE_DATE=\\\"\"Mon Apr 29 12:36:45 PM UTC 2024\"\\\" -DCWB_VERSION=\\\"3.5.0\\\" -I/usr/include/glib-2.0 -I/usr/lib/x86_64-linux-gnu/glib-2.0/include    dummy_auth.c\n",
            "    .... compiling source file llquery.c\n",
            "rm -f llquery.o\n",
            "gcc -c  -o llquery.o -O2 -Wall -fPIC -O3 -march=x86-64 -mtune=generic   -DUSE_TERMCAP -DUSE_READLINE -DCWB_REGISTRY_DEFAULT_PATH=\\\"\"/usr/local/share/cwb/registry\"\\\" -DCOMPILE_DATE=\\\"\"Mon Apr 29 12:36:45 PM UTC 2024\"\\\" -DCWB_VERSION=\\\"3.5.0\\\" -I/usr/include/glib-2.0 -I/usr/lib/x86_64-linux-gnu/glib-2.0/include    llquery.c\n",
            "    .... linking executable cqp\n",
            "rm -f cqp\n",
            "gcc -O2 -Wall -fPIC -O3 -march=x86-64 -mtune=generic   -DUSE_TERMCAP -DUSE_READLINE -DCWB_REGISTRY_DEFAULT_PATH=\\\"\"/usr/local/share/cwb/registry\"\\\" -DCOMPILE_DATE=\\\"\"Mon Apr 29 12:36:46 PM UTC 2024\"\\\" -DCWB_VERSION=\\\"3.5.0\\\" -I/usr/include/glib-2.0 -I/usr/lib/x86_64-linux-gnu/glib-2.0/include    -o cqp llquery.o cqp.o symtab.o eval.o tree.o options.o corpmanag.o regex2dfa.o output.o ranges.o builtins.o groups.o targets.o matchlist.o concordance.o parse_actions.o attlist.o context_descriptor.o print-modes.o ascii-print.o sgml-print.o html-print.o latex-print.o variables.o print_align.o macro.o parser.tab.o lex.yy.o dummy_auth.o /content/cwb-3.5.0-src/cqp/../cl/libcl.so -Xlinker -rpath -Xlinker /usr/local/lib  -lm   -lpcre -lglib-2.0  -lreadline -lhistory -lncurses -ltinfo\n",
            "    .... compiling source file cqpcl.c\n",
            "rm -f cqpcl.o\n",
            "gcc -c  -o cqpcl.o -O2 -Wall -fPIC -O3 -march=x86-64 -mtune=generic   -DUSE_TERMCAP -DUSE_READLINE -DCWB_REGISTRY_DEFAULT_PATH=\\\"\"/usr/local/share/cwb/registry\"\\\" -DCOMPILE_DATE=\\\"\"Mon Apr 29 12:36:46 PM UTC 2024\"\\\" -DCWB_VERSION=\\\"3.5.0\\\" -I/usr/include/glib-2.0 -I/usr/lib/x86_64-linux-gnu/glib-2.0/include    cqpcl.c\n",
            "    .... linking executable cqpcl\n",
            "rm -f cqpcl\n",
            "gcc -O2 -Wall -fPIC -O3 -march=x86-64 -mtune=generic   -DUSE_TERMCAP -DUSE_READLINE -DCWB_REGISTRY_DEFAULT_PATH=\\\"\"/usr/local/share/cwb/registry\"\\\" -DCOMPILE_DATE=\\\"\"Mon Apr 29 12:36:46 PM UTC 2024\"\\\" -DCWB_VERSION=\\\"3.5.0\\\" -I/usr/include/glib-2.0 -I/usr/lib/x86_64-linux-gnu/glib-2.0/include    -o cqpcl cqpcl.o cqp.o symtab.o eval.o tree.o options.o corpmanag.o regex2dfa.o output.o ranges.o builtins.o groups.o targets.o matchlist.o concordance.o parse_actions.o attlist.o context_descriptor.o print-modes.o ascii-print.o sgml-print.o html-print.o latex-print.o variables.o print_align.o macro.o parser.tab.o lex.yy.o dummy_auth.o /content/cwb-3.5.0-src/cqp/../cl/libcl.so -Xlinker -rpath -Xlinker /usr/local/lib  -lm   -lpcre -lglib-2.0  -lreadline -lhistory -lncurses -ltinfo\n",
            "    .... compiling source file ../CQi/server.c\n",
            "rm -f ../CQi/server.o\n",
            "gcc -c  -o ../CQi/server.o -O2 -Wall -fPIC -O3 -march=x86-64 -mtune=generic   -DUSE_TERMCAP -DUSE_READLINE -DCWB_REGISTRY_DEFAULT_PATH=\\\"\"/usr/local/share/cwb/registry\"\\\" -DCOMPILE_DATE=\\\"\"Mon Apr 29 12:36:46 PM UTC 2024\"\\\" -DCWB_VERSION=\\\"3.5.0\\\" -I/usr/include/glib-2.0 -I/usr/lib/x86_64-linux-gnu/glib-2.0/include    ../CQi/server.c\n",
            "    .... compiling source file ../CQi/auth.c\n",
            "rm -f ../CQi/auth.o\n",
            "gcc -c  -o ../CQi/auth.o -O2 -Wall -fPIC -O3 -march=x86-64 -mtune=generic   -DUSE_TERMCAP -DUSE_READLINE -DCWB_REGISTRY_DEFAULT_PATH=\\\"\"/usr/local/share/cwb/registry\"\\\" -DCOMPILE_DATE=\\\"\"Mon Apr 29 12:36:46 PM UTC 2024\"\\\" -DCWB_VERSION=\\\"3.5.0\\\" -I/usr/include/glib-2.0 -I/usr/lib/x86_64-linux-gnu/glib-2.0/include    ../CQi/auth.c\n",
            "    .... compiling source file ../CQi/log.c\n",
            "rm -f ../CQi/log.o\n",
            "gcc -c  -o ../CQi/log.o -O2 -Wall -fPIC -O3 -march=x86-64 -mtune=generic   -DUSE_TERMCAP -DUSE_READLINE -DCWB_REGISTRY_DEFAULT_PATH=\\\"\"/usr/local/share/cwb/registry\"\\\" -DCOMPILE_DATE=\\\"\"Mon Apr 29 12:36:46 PM UTC 2024\"\\\" -DCWB_VERSION=\\\"3.5.0\\\" -I/usr/include/glib-2.0 -I/usr/lib/x86_64-linux-gnu/glib-2.0/include    ../CQi/log.c\n",
            "    .... compiling source file ../CQi/cqpserver.c\n",
            "rm -f ../CQi/cqpserver.o\n",
            "gcc -c  -o ../CQi/cqpserver.o -O2 -Wall -fPIC -O3 -march=x86-64 -mtune=generic   -DUSE_TERMCAP -DUSE_READLINE -DCWB_REGISTRY_DEFAULT_PATH=\\\"\"/usr/local/share/cwb/registry\"\\\" -DCOMPILE_DATE=\\\"\"Mon Apr 29 12:36:46 PM UTC 2024\"\\\" -DCWB_VERSION=\\\"3.5.0\\\" -I/usr/include/glib-2.0 -I/usr/lib/x86_64-linux-gnu/glib-2.0/include    ../CQi/cqpserver.c\n",
            "    .... linking executable cqpserver\n",
            "rm -f cqpserver\n",
            "gcc -O2 -Wall -fPIC -O3 -march=x86-64 -mtune=generic   -DUSE_TERMCAP -DUSE_READLINE -DCWB_REGISTRY_DEFAULT_PATH=\\\"\"/usr/local/share/cwb/registry\"\\\" -DCOMPILE_DATE=\\\"\"Mon Apr 29 12:36:47 PM UTC 2024\"\\\" -DCWB_VERSION=\\\"3.5.0\\\" -I/usr/include/glib-2.0 -I/usr/lib/x86_64-linux-gnu/glib-2.0/include    -o cqpserver ../CQi/cqpserver.o cqp.o symtab.o eval.o tree.o options.o corpmanag.o regex2dfa.o output.o ranges.o builtins.o groups.o targets.o matchlist.o concordance.o parse_actions.o attlist.o context_descriptor.o print-modes.o ascii-print.o sgml-print.o html-print.o latex-print.o variables.o print_align.o macro.o parser.tab.o lex.yy.o ../CQi/server.o ../CQi/auth.o ../CQi/log.o /content/cwb-3.5.0-src/cqp/../cl/libcl.so -Xlinker -rpath -Xlinker /usr/local/lib  -lm   -lpcre -lglib-2.0  -lreadline -lhistory -lncurses -ltinfo \n",
            "make[1]: Leaving directory '/content/cwb-3.5.0-src/cqp'\n",
            "--------------------------------- INSTALLING CORPUS WORKBENCH\n",
            "make -C cl install   # we're not using a for-loop, to make sure we abort on error\n",
            "make[1]: Entering directory '/content/cwb-3.5.0-src/cl'\n",
            "    .... installing cwb/cl.h header file\n",
            "if [ ! -d \"/usr/local/include/cwb\" ]; then install   -m 755   -d \"/usr/local/include/cwb\" ; fi;\n",
            "install  -m 644  cl.h \"/usr/local/include/cwb\"\n",
            "    .... installing the static CL library file\n",
            "if [ ! -d \"/usr/local/lib\" ]; then install   -m 755   -d \"/usr/local/lib\" ; fi;\n",
            "install  -m 644  libcl.a \"/usr/local/lib\"\n",
            "    .... installing the dynamic CL library file\n",
            "if [ ! -d \"/usr/local/lib\" ]; then install   -m 755   -d \"/usr/local/lib\" ; fi;\n",
            "install  -m 644  libcl.so \"/usr/local/lib\"\n",
            "make[1]: Leaving directory '/content/cwb-3.5.0-src/cl'\n",
            "make -C cqp install\n",
            "make[1]: Entering directory '/content/cwb-3.5.0-src/cqp'\n",
            "    .... installing the CQP programs\n",
            "if [ ! -d /usr/local/bin ]; then install   -m 755   -d /usr/local/bin; fi;\n",
            "for i in cqp cqpcl cqpserver ; do install  -m 755   $i /usr/local/bin ; done\n",
            "    .... installing the CQi/cqi.h header file\n",
            "if [ ! -d \"/usr/local/include/cwb\" ]; then install   -m 755   -d \"/usr/local/include/cwb\" ; fi;\n",
            "install  -m 644  ../CQi/cqi.h /usr/local/include/cwb\n",
            "make[1]: Leaving directory '/content/cwb-3.5.0-src/cqp'\n",
            "make -C utils install\n",
            "make[1]: Entering directory '/content/cwb-3.5.0-src/utils'\n",
            "    .... install the CWB utility programs\n",
            "if [ ! -d \"/usr/local/bin\" ]; then install   -m 755   -d \"/usr/local/bin\"; fi;\n",
            "for i in cwb-atoi cwb-itoa cwb-makeall cwb-encode cwb-decode cwb-lexdecode cwb-huffcode cwb-compress-rdx cwb-s-encode cwb-s-decode cwb-describe-corpus cwb-decode-nqrfile cwb-scan-corpus cwb-align cwb-align-show cwb-align-encode cwb-align-decode ; do install  -m 755   $i \"/usr/local/bin\"; done\n",
            "make[1]: Leaving directory '/content/cwb-3.5.0-src/utils'\n",
            "make -C man install\n",
            "make[1]: Entering directory '/content/cwb-3.5.0-src/man'\n",
            "    .... installing all manual files\n",
            "if [ ! -d /usr/local/share/man/man1 ]; then  install   -m 755   -d /usr/local/share/man/man1; fi\n",
            "for i in cqp cqpcl cqpserver cwb-align cwb-align-show cwb-align-encode cwb-align-decode cwb-atoi cwb-itoa cwb-config cwb-encode cwb-decode cwb-lexdecode cwb-decode-nqrfile cwb-describe-corpus cwb-makeall cwb-compress-rdx cwb-huffcode cwb-s-encode cwb-s-decode cwb-scan-corpus; do install  -m 644  $i.man /usr/local/share/man/man1/$i.1 ; done\n",
            "make[1]: Leaving directory '/content/cwb-3.5.0-src/man'\n",
            "make -C instutils all\n",
            "make[1]: Entering directory '/content/cwb-3.5.0-src/instutils'\n",
            "if [ -f cwb-config ];      then rm -f cwb-config;      fi\n",
            "make cwb-config\n",
            "make[2]: Entering directory '/content/cwb-3.5.0-src/instutils'\n",
            "VERSION='3.5.0' PREFIX='/usr/local' BINDIR='/usr/local/bin' LIBDIR='/usr/local/lib' INCDIR='/usr/local/include' MANDIR='/usr/local/share/man' CFLAGS='-I/usr/local/include' LDFLAGS='-L/usr/local/lib -lcl  -lm   -lpcre -lglib-2.0 ' REGISTRY='/usr/local/share/cwb/registry' sh cwb-config.in > cwb-config\n",
            "## NB: we have removed -I/usr/include/glib-2.0 -I/usr/lib/x86_64-linux-gnu/glib-2.0/include from CFLAGS= above because Glib and PCRE headers shouldn't be needed to link against CL\n",
            "make[2]: Leaving directory '/content/cwb-3.5.0-src/instutils'\n",
            "make[1]: Leaving directory '/content/cwb-3.5.0-src/instutils'\n",
            "make -C instutils install\n",
            "make[1]: Entering directory '/content/cwb-3.5.0-src/instutils'\n",
            "if [ ! -d /usr/local/bin ]; then install   -m 755   -d \"/usr/local/bin\"; fi\n",
            "install  -m 755   cwb-config \"/usr/local/bin/cwb-config\"\n",
            "make[1]: Leaving directory '/content/cwb-3.5.0-src/instutils'\n",
            "--------------------------------- PERFORMING TYPICAL CLEANUP\n",
            "for i in cl cqp utils man instutils     ; do if [ -f \"$i/Makefile\" ]; then make -C $i clean; fi; done;\n",
            "make[1]: Entering directory '/content/cwb-3.5.0-src/cl'\n",
            "    .... cleanup compiled CL library code\n",
            "rm -f *.o libcl.a registry.output *~ libcl.so\n",
            "make[1]: Leaving directory '/content/cwb-3.5.0-src/cl'\n",
            "make[1]: Entering directory '/content/cwb-3.5.0-src/cqp'\n",
            "    .... cleaning up CQP programs\n",
            "rm -f cqp cqpcl cqpserver  *.o ../CQi/*.o parser.output *~ ../CQi/*~\n",
            "# TODO what is \"parser.output\" ? PARSES, PARSEH, PARSEO I think ....\n",
            "make[1]: Leaving directory '/content/cwb-3.5.0-src/cqp'\n",
            "make[1]: Entering directory '/content/cwb-3.5.0-src/utils'\n",
            "    .... cleanup CWB utility programs\n",
            "rm -f cwb-atoi cwb-itoa cwb-makeall cwb-encode cwb-decode cwb-lexdecode cwb-huffcode cwb-compress-rdx cwb-s-encode cwb-s-decode cwb-describe-corpus cwb-decode-nqrfile cwb-scan-corpus cwb-align cwb-align-show cwb-align-encode cwb-align-decode  *.o *~\n",
            "make[1]: Leaving directory '/content/cwb-3.5.0-src/utils'\n",
            "make[1]: Entering directory '/content/cwb-3.5.0-src/man'\n",
            "    .... cleaning up PDF files\n",
            "rm -f cqp.pdf cqpcl.pdf cqpserver.pdf cwb-align.pdf cwb-align-show.pdf cwb-align-encode.pdf cwb-align-decode.pdf cwb-atoi.pdf cwb-itoa.pdf cwb-config.pdf cwb-encode.pdf cwb-decode.pdf cwb-lexdecode.pdf cwb-decode-nqrfile.pdf cwb-describe-corpus.pdf cwb-makeall.pdf cwb-compress-rdx.pdf cwb-huffcode.pdf cwb-s-encode.pdf cwb-s-decode.pdf cwb-scan-corpus.pdf *~\n",
            "make[1]: Leaving directory '/content/cwb-3.5.0-src/man'\n",
            "make[1]: Entering directory '/content/cwb-3.5.0-src/instutils'\n",
            "rm -f cwb-config install-cwb.sh *~\n",
            "make[1]: Leaving directory '/content/cwb-3.5.0-src/instutils'\n",
            "rm -f *~ config/*/*~ CQi/*~ CQi/*.o technical/*~ TAGS\n",
            "rm -f -rf build/* doc/docset_html\n",
            "--------------------------------- PERFORMING EXTRA CLEANUP\n",
            "for i in cl cqp utils man instutils     ; do make -C $i realclean; done;\n",
            "make[1]: Entering directory '/content/cwb-3.5.0-src/cl'\n",
            "    .... cleanup compiled CL library code\n",
            "rm -f *.o libcl.a registry.output *~ libcl.so\n",
            "    .... cleanup CL registry parser's automatic files\n",
            "rm -f registry.tab.c registry.tab.c lex.creg.c registry.tab.h\n",
            "rm -f depend.mk\n",
            "make[1]: Leaving directory '/content/cwb-3.5.0-src/cl'\n",
            "make[1]: Entering directory '/content/cwb-3.5.0-src/cqp'\n",
            "    .... cleaning up CQP programs\n",
            "rm -f cqp cqpcl cqpserver  *.o ../CQi/*.o parser.output *~ ../CQi/*~\n",
            "# TODO what is \"parser.output\" ? PARSES, PARSEH, PARSEO I think ....\n",
            "    .... cleaning up CQP parser code\n",
            "rm -f lex.yy.c parser.tab.c parser.tab.h \n",
            "rm -f depend.mk\n",
            "make[1]: Leaving directory '/content/cwb-3.5.0-src/cqp'\n",
            "make[1]: Entering directory '/content/cwb-3.5.0-src/utils'\n",
            "    .... cleanup CWB utility programs\n",
            "rm -f cwb-atoi cwb-itoa cwb-makeall cwb-encode cwb-decode cwb-lexdecode cwb-huffcode cwb-compress-rdx cwb-s-encode cwb-s-decode cwb-describe-corpus cwb-decode-nqrfile cwb-scan-corpus cwb-align cwb-align-show cwb-align-encode cwb-align-decode  *.o *~\n",
            "    .... cleanup CWB utilities dependency file\n",
            "rm -f depend.mk\n",
            "make[1]: Leaving directory '/content/cwb-3.5.0-src/utils'\n",
            "make[1]: Entering directory '/content/cwb-3.5.0-src/man'\n",
            "    .... cleaning up all manual files\n",
            "rm -f cqp.pdf cqpcl.pdf cqpserver.pdf cwb-align.pdf cwb-align-show.pdf cwb-align-encode.pdf cwb-align-decode.pdf cwb-atoi.pdf cwb-itoa.pdf cwb-config.pdf cwb-encode.pdf cwb-decode.pdf cwb-lexdecode.pdf cwb-decode-nqrfile.pdf cwb-describe-corpus.pdf cwb-makeall.pdf cwb-compress-rdx.pdf cwb-huffcode.pdf cwb-s-encode.pdf cwb-s-decode.pdf cwb-scan-corpus.pdf cqp.man cqpcl.man cqpserver.man cwb-align.man cwb-align-show.man cwb-align-encode.man cwb-align-decode.man cwb-atoi.man cwb-itoa.man cwb-config.man cwb-encode.man cwb-decode.man cwb-lexdecode.man cwb-decode-nqrfile.man cwb-describe-corpus.man cwb-makeall.man cwb-compress-rdx.man cwb-huffcode.man cwb-s-encode.man cwb-s-decode.man cwb-scan-corpus.man *~\n",
            "make[1]: Leaving directory '/content/cwb-3.5.0-src/man'\n",
            "make[1]: Entering directory '/content/cwb-3.5.0-src/instutils'\n",
            "rm -f cwb-config install-cwb.sh *~\n",
            "make[1]: Leaving directory '/content/cwb-3.5.0-src/instutils'\n"
          ]
        }
      ]
    },
    {
      "cell_type": "code",
      "source": [
        "%cd /content/"
      ],
      "metadata": {
        "id": "CVuSe3hQ_BDj",
        "colab": {
          "base_uri": "https://localhost:8080/"
        },
        "outputId": "77d6ff45-0f97-4f7b-84ca-13415eb391b2"
      },
      "execution_count": 10,
      "outputs": [
        {
          "output_type": "stream",
          "name": "stdout",
          "text": [
            "/content\n"
          ]
        }
      ]
    },
    {
      "cell_type": "markdown",
      "source": [
        "### Downloading and relocating the register of a sample corpus\n",
        "The register is placed into the standard cwb location"
      ],
      "metadata": {
        "id": "rNjdhnI0By8g"
      }
    },
    {
      "cell_type": "code",
      "source": [
        "!wget https://heibox.uni-heidelberg.de/f/dd3538603aa84dd09a76/?dl=1\n",
        "!mv index.html?dl=1 Dickens-1.0.tar.gz\n",
        "!tar xvzf Dickens-1.0.tar.gz"
      ],
      "metadata": {
        "id": "oGgO8XnS8mp1",
        "colab": {
          "base_uri": "https://localhost:8080/"
        },
        "outputId": "1421cbe1-c2cc-4034-86c2-03a5369489a1"
      },
      "execution_count": 11,
      "outputs": [
        {
          "output_type": "stream",
          "name": "stdout",
          "text": [
            "--2024-04-29 12:37:20--  https://heibox.uni-heidelberg.de/f/dd3538603aa84dd09a76/?dl=1\n",
            "Resolving heibox.uni-heidelberg.de (heibox.uni-heidelberg.de)... 129.206.7.113\n",
            "Connecting to heibox.uni-heidelberg.de (heibox.uni-heidelberg.de)|129.206.7.113|:443... connected.\n",
            "HTTP request sent, awaiting response... 302 Found\n",
            "Location: https://heibox.uni-heidelberg.de/seafhttp/files/854d5866-79f0-4b82-9ff8-05b195f434f4/Dickens-1.0.tar.gz [following]\n",
            "--2024-04-29 12:37:21--  https://heibox.uni-heidelberg.de/seafhttp/files/854d5866-79f0-4b82-9ff8-05b195f434f4/Dickens-1.0.tar.gz\n",
            "Reusing existing connection to heibox.uni-heidelberg.de:443.\n",
            "HTTP request sent, awaiting response... 200 OK\n",
            "Length: 38979131 (37M) [application/octet-stream]\n",
            "Saving to: ‘index.html?dl=1’\n",
            "\n",
            "index.html?dl=1     100%[===================>]  37.17M  13.1MB/s    in 2.8s    \n",
            "\n",
            "2024-04-29 12:37:24 (13.1 MB/s) - ‘index.html?dl=1’ saved [38979131/38979131]\n",
            "\n",
            "Dickens-1.0/\n",
            "Dickens-1.0/data/\n",
            "Dickens-1.0/dickens_meta.txt\n",
            "Dickens-1.0/README.txt\n",
            "Dickens-1.0/registry/\n",
            "Dickens-1.0/registry/dickens\n",
            "Dickens-1.0/data/.info\n",
            "Dickens-1.0/data/book.rng\n",
            "Dickens-1.0/data/book_num.avs\n",
            "Dickens-1.0/data/book_num.avx\n",
            "Dickens-1.0/data/book_num.rng\n",
            "Dickens-1.0/data/chapter.rng\n",
            "Dickens-1.0/data/chapter_num.avs\n",
            "Dickens-1.0/data/chapter_num.avx\n",
            "Dickens-1.0/data/chapter_num.rng\n",
            "Dickens-1.0/data/chapter_title.avs\n",
            "Dickens-1.0/data/chapter_title.avx\n",
            "Dickens-1.0/data/chapter_title.rng\n",
            "Dickens-1.0/data/lemma.corpus.cnt\n",
            "Dickens-1.0/data/lemma.crc\n",
            "Dickens-1.0/data/lemma.crx\n",
            "Dickens-1.0/data/lemma.hcd\n",
            "Dickens-1.0/data/lemma.huf\n",
            "Dickens-1.0/data/lemma.huf.syn\n",
            "Dickens-1.0/data/lemma.lexicon\n",
            "Dickens-1.0/data/lemma.lexicon.idx\n",
            "Dickens-1.0/data/lemma.lexicon.srt\n",
            "Dickens-1.0/data/novel.rng\n",
            "Dickens-1.0/data/novel_title.avs\n",
            "Dickens-1.0/data/novel_title.avx\n",
            "Dickens-1.0/data/novel_title.rng\n",
            "Dickens-1.0/data/np.rng\n",
            "Dickens-1.0/data/np1.rng\n",
            "Dickens-1.0/data/np2.rng\n",
            "Dickens-1.0/data/np_h.avs\n",
            "Dickens-1.0/data/np_h.avx\n",
            "Dickens-1.0/data/np_h.rng\n",
            "Dickens-1.0/data/np_h1.avs\n",
            "Dickens-1.0/data/np_h1.avx\n",
            "Dickens-1.0/data/np_h1.rng\n",
            "Dickens-1.0/data/np_h2.avs\n",
            "Dickens-1.0/data/np_h2.avx\n",
            "Dickens-1.0/data/np_h2.rng\n",
            "Dickens-1.0/data/np_len.avs\n",
            "Dickens-1.0/data/np_len.avx\n",
            "Dickens-1.0/data/np_len.rng\n",
            "Dickens-1.0/data/np_len1.avs\n",
            "Dickens-1.0/data/np_len1.avx\n",
            "Dickens-1.0/data/np_len1.rng\n",
            "Dickens-1.0/data/np_len2.avs\n",
            "Dickens-1.0/data/np_len2.avx\n",
            "Dickens-1.0/data/np_len2.rng\n",
            "Dickens-1.0/data/p.rng\n",
            "Dickens-1.0/data/p_len.avs\n",
            "Dickens-1.0/data/p_len.avx\n",
            "Dickens-1.0/data/p_len.rng\n",
            "Dickens-1.0/data/pos.corpus.cnt\n",
            "Dickens-1.0/data/pos.crc\n",
            "Dickens-1.0/data/pos.crx\n",
            "Dickens-1.0/data/pos.hcd\n",
            "Dickens-1.0/data/pos.huf\n",
            "Dickens-1.0/data/pos.huf.syn\n",
            "Dickens-1.0/data/pos.lexicon\n",
            "Dickens-1.0/data/pos.lexicon.idx\n",
            "Dickens-1.0/data/pos.lexicon.srt\n",
            "Dickens-1.0/data/pp.rng\n",
            "Dickens-1.0/data/pp1.rng\n",
            "Dickens-1.0/data/pp2.rng\n",
            "Dickens-1.0/data/pp_h.avs\n",
            "Dickens-1.0/data/pp_h.avx\n",
            "Dickens-1.0/data/pp_h.rng\n",
            "Dickens-1.0/data/pp_h1.avs\n",
            "Dickens-1.0/data/pp_h1.avx\n",
            "Dickens-1.0/data/pp_h1.rng\n",
            "Dickens-1.0/data/pp_h2.avs\n",
            "Dickens-1.0/data/pp_h2.avx\n",
            "Dickens-1.0/data/pp_h2.rng\n",
            "Dickens-1.0/data/pp_len.avs\n",
            "Dickens-1.0/data/pp_len.avx\n",
            "Dickens-1.0/data/pp_len.rng\n",
            "Dickens-1.0/data/pp_len1.avs\n",
            "Dickens-1.0/data/pp_len1.avx\n",
            "Dickens-1.0/data/pp_len1.rng\n",
            "Dickens-1.0/data/pp_len2.avs\n",
            "Dickens-1.0/data/pp_len2.avx\n",
            "Dickens-1.0/data/pp_len2.rng\n",
            "Dickens-1.0/data/s.rng\n",
            "Dickens-1.0/data/s_len.avs\n",
            "Dickens-1.0/data/s_len.avx\n",
            "Dickens-1.0/data/s_len.rng\n",
            "Dickens-1.0/data/text.rng\n",
            "Dickens-1.0/data/text_id.avs\n",
            "Dickens-1.0/data/text_id.avx\n",
            "Dickens-1.0/data/text_id.rng\n",
            "Dickens-1.0/data/title.rng\n",
            "Dickens-1.0/data/title_len.avs\n",
            "Dickens-1.0/data/title_len.avx\n",
            "Dickens-1.0/data/title_len.rng\n",
            "Dickens-1.0/data/titlepage.rng\n",
            "Dickens-1.0/data/word.corpus.cnt\n",
            "Dickens-1.0/data/word.crc\n",
            "Dickens-1.0/data/word.crx\n",
            "Dickens-1.0/data/word.hcd\n",
            "Dickens-1.0/data/word.huf\n",
            "Dickens-1.0/data/word.huf.syn\n",
            "Dickens-1.0/data/word.lexicon\n",
            "Dickens-1.0/data/word.lexicon.idx\n",
            "Dickens-1.0/data/word.lexicon.srt\n"
          ]
        }
      ]
    },
    {
      "cell_type": "code",
      "source": [
        "!cp /content/Dickens-1.0/registry/dickens /content/Dickens-1.0/registry/dickens.old.01\n",
        "!awk '{ if (NR == 10) print \"HOME /content/Dickens-1.0/data\"; else print $0}' /content/Dickens-1.0/registry/dickens > /content/Dickens-1.0/registry/dickens.TMP\n",
        "!awk '{ if (NR == 12) print \"INFO /content/Dickens-1.0/data/.info\"; else print $0}' /content/Dickens-1.0/registry/dickens.TMP > /content/Dickens-1.0/registry/dickens"
      ],
      "metadata": {
        "id": "0UkrOMJw8ubE"
      },
      "execution_count": 12,
      "outputs": []
    },
    {
      "cell_type": "code",
      "source": [
        "!cp /content/Dickens-1.0/data/.info /content/dickens-info"
      ],
      "metadata": {
        "id": "OwdWNFGS5IaY"
      },
      "execution_count": 14,
      "outputs": []
    },
    {
      "cell_type": "code",
      "source": [
        "!cp /content/Dickens-1.0/registry/dickens /usr/local/share/cwb/registry"
      ],
      "metadata": {
        "id": "1zXK1Z9v8zob"
      },
      "execution_count": 13,
      "outputs": []
    },
    {
      "cell_type": "markdown",
      "source": [
        "### Updating path (only needed if installing into a non-standard location\n"
      ],
      "metadata": {
        "id": "6RlHVMGcCJFk"
      }
    },
    {
      "cell_type": "code",
      "source": [
        "# !echo $PATH"
      ],
      "metadata": {
        "id": "Zlu6uAee9eJ1"
      },
      "execution_count": null,
      "outputs": []
    },
    {
      "cell_type": "code",
      "source": [
        "# %env PATH=/usr/local/cwb-3.4.22/bin:/usr/local/nvidia/bin:/usr/local/cuda/bin:/usr/local/sbin:/usr/local/bin:/usr/sbin:/usr/bin:/sbin:/bin:/tools/node/bin:/tools/google-cloud-sdk/bin:/opt/bin"
      ],
      "metadata": {
        "id": "nsUAyqA79-PO"
      },
      "execution_count": null,
      "outputs": []
    },
    {
      "cell_type": "code",
      "source": [
        "# !echo $PATH"
      ],
      "metadata": {
        "id": "XwVe-fIX_BCO"
      },
      "execution_count": null,
      "outputs": []
    },
    {
      "cell_type": "code",
      "source": [
        "# %env PATH=/usr/local/nvidia/bin:/usr/local/cuda/bin:/usr/local/sbin:/usr/local/bin:/usr/sbin:/usr/bin:/sbin:/bin:/tools/node/bin:/tools/google-cloud-sdk/bin:/opt/bin"
      ],
      "metadata": {
        "id": "6TBYYIgvkcVc"
      },
      "execution_count": null,
      "outputs": []
    },
    {
      "cell_type": "code",
      "source": [
        "!pwd"
      ],
      "metadata": {
        "id": "-SegqQOf_a4H",
        "colab": {
          "base_uri": "https://localhost:8080/"
        },
        "outputId": "7a03768f-a749-4804-9484-cb97a3467ec6"
      },
      "execution_count": 15,
      "outputs": [
        {
          "output_type": "stream",
          "name": "stdout",
          "text": [
            "/content\n"
          ]
        }
      ]
    },
    {
      "cell_type": "markdown",
      "source": [
        "### Testing interactive Corpus Query Processor (CQP)\n"
      ],
      "metadata": {
        "id": "E4GIzdN_Di-v"
      }
    },
    {
      "cell_type": "code",
      "source": [
        "# try these commands in the interactive prompt (just copy and paste them):\n",
        "# DICKENS;\n",
        "# \"question\";\n",
        "# q\n",
        "# exit;\n",
        "!cqp -e"
      ],
      "metadata": {
        "id": "OmUjHSSfz41T",
        "colab": {
          "base_uri": "https://localhost:8080/"
        },
        "outputId": "abc75206-da3e-4b15-bcdb-7997be01e8a9"
      },
      "execution_count": 16,
      "outputs": [
        {
          "output_type": "stream",
          "name": "stdout",
          "text": [
            "\u001b[m\u001b[?2004h[no corpus]> DICKENS;\n",
            "\u001b[m\u001b[?2004hDICKENS> \"question\";\n",
            "     5614:  then . Scrooge asked the <\u001b[m\u001b[7mquestion\u001b[m> , because he did n't know\u001b[m\u001b[m\n",
            "    24336: r a bear . At every fresh <\u001b[m\u001b[7mquestion\u001b[m> that was put to him , thi\u001b[m\u001b[m\n",
            "    28174: nny , and made it an open <\u001b[m\u001b[7mquestion\u001b[m> , I 'd repent of being so\u001b[m\u001b[m\n",
            "    31729: Scrooge , ` answer me one <\u001b[m\u001b[7mquestion\u001b[m> . Are these the shadows o\u001b[m\u001b[m\n",
            "    36008:  the second branch of the <\u001b[m\u001b[7mquestion\u001b[m> , I will only remark , th\u001b[m\u001b[m\n",
            "    36769: ving once , on a disputed <\u001b[m\u001b[7mquestion\u001b[m> of supplies , made some h\u001b[m\u001b[m\n",
            "    39206: ched - and so I asked the <\u001b[m\u001b[7mquestion\u001b[m> . You were an orphan , we\u001b[m\u001b[m\n",
            "    51121: , then ? said I , putting <\u001b[m\u001b[7mquestion\u001b[m> number two of the catechi\u001b[m\u001b[m\n",
            "    53098: n I have asked myself the <\u001b[m\u001b[7mquestion\u001b[m> , would it have been bett\u001b[m\u001b[m\n",
            "    57633: . But if he had asked the <\u001b[m\u001b[7mquestion\u001b[m> twenty times , each time \u001b[m\u001b[m\n",
            "    79051:  ? Did it bite ? At every <\u001b[m\u001b[7mquestion\u001b[m> he gave me a fleshy cut w\u001b[m\u001b[m\n",
            "    80966:  was of course out of the <\u001b[m\u001b[7mquestion\u001b[m> . In the morning , too , \u001b[m\u001b[m\n",
            "    83429: s ? Steerforth evaded the <\u001b[m\u001b[7mquestion\u001b[m> for a little while ; look\u001b[m\u001b[m\n",
            "    93809: ssionate judges of such a <\u001b[m\u001b[7mquestion\u001b[m> than you . ' Edward , ' r\u001b[m\u001b[m\n",
            "    97211:  sorrowful to discuss the <\u001b[m\u001b[7mquestion\u001b[m> , which would possibly ha\u001b[m\u001b[m\n",
            "   119570:  opportunity of putting a <\u001b[m\u001b[7mquestion\u001b[m> in which I had a near int\u001b[m\u001b[m\n",
            "   128775:  ; though I had asked the <\u001b[m\u001b[7mquestion\u001b[m> so often , that it almost\u001b[m\u001b[m\n",
            "   130829: vid Copperfield , and the <\u001b[m\u001b[7mquestion\u001b[m> I put to you is , what sh\u001b[m\u001b[m\n",
            "   133561:  going to ask you another <\u001b[m\u001b[7mquestion\u001b[m> . Look at this child . ' \u001b[m\u001b[m\n",
            "   135368: o give my opinion on this <\u001b[m\u001b[7mquestion\u001b[m> , I delivered my message \u001b[m\u001b[m\n",
            "   135996: endeavouring to evade the <\u001b[m\u001b[7mquestion\u001b[m> , by replying that I thou\u001b[m\u001b[m\n",
            "   137203: hem , chiefly because the <\u001b[m\u001b[7mquestion\u001b[m> was raised in her own min\u001b[m\u001b[m\n",
            "   144319: Mr. Wickfield - ' the old <\u001b[m\u001b[7mquestion\u001b[m> , you know . What 's your\u001b[m\u001b[m\n",
            "\u001b[K   144474: ever , that 's beside the <\u001b[m\u001b[7mquestion\u001b[m> . The best school ? Whate\u001b[m\u001b[m\n",
            "\u001b[K   146420:  always roused him with a <\u001b[m\u001b[7mquestion\u001b[m> or caress . Then he came \u001b[m\u001b[m\n",
            "\u001b[K   147374:  you bring me back to the <\u001b[m\u001b[7mquestion\u001b[m> , with an apology for dig\u001b[m\u001b[m\n",
            "\u001b[K   148965:  but I did not pursue the <\u001b[m\u001b[7mquestion\u001b[m> in my mind , for dinner w\u001b[m\u001b[m\n",
            "\u001b[K   159539:  I began to entertain the <\u001b[m\u001b[7mquestion\u001b[m> whether an attempt , or t\u001b[m\u001b[m\n",
            "   170243: wer to her often-repeated <\u001b[m\u001b[7mquestion\u001b[m> , ' What I would like to \u001b[m\u001b[m\n",
            "   173209:  Maldon when you ask that <\u001b[m\u001b[7mquestion\u001b[m> . Say ? Not he . You migh\u001b[m\u001b[m\n",
            "   180099:  ! Her own views of every <\u001b[m\u001b[7mquestion\u001b[m> , and her correction of e\u001b[m\u001b[m\n",
            "   186946: ' Because I want to ask a <\u001b[m\u001b[7mquestion\u001b[m> about a house there , tha\u001b[m\u001b[m\n",
            "   196716:  you know the Giantess in <\u001b[m\u001b[7mquestion\u001b[m> , Daisy ? inquired Steerf\u001b[m\u001b[m\n",
            "   196815: ely refused to answer any <\u001b[m\u001b[7mquestion\u001b[m> of which I made her the s\u001b[m\u001b[m\n",
            "   199835: xclamation sounded like a <\u001b[m\u001b[7mquestion\u001b[m> put to both of us , and t\u001b[m\u001b[m\n",
            "   199847: s , and the second like a <\u001b[m\u001b[7mquestion\u001b[m> put to Steerforth only . \u001b[m\u001b[m\n",
            "   200020: pounced upon me with this <\u001b[m\u001b[7mquestion\u001b[m> , and a searching look , \u001b[m\u001b[m\n",
            "   206272: he believed the donkey in <\u001b[m\u001b[7mquestion\u001b[m> was then engaged in the s\u001b[m\u001b[m\n",
            "   209967:  had to rise and answer a <\u001b[m\u001b[7mquestion\u001b[m> of the presiding dignitar\u001b[m\u001b[m\n",
            "\u001b[K   220547: n Agnes down , stated the <\u001b[m\u001b[7mquestion\u001b[m> more decisively yet , I t\u001b[m\u001b[m\n",
            "\u001b[K\u001b[?1l\u001b>\u001b[m\u001b[?2004hDICKENS> uit;\n",
            "CQP Error:\n",
            "\tCorpus ``uit'' is undefined\n",
            "\u001b[m\u001b[?2004hDICKENS> quit'\n",
            "CQP Error:\n",
            "\tCorpus ``quit'' is undefined\n",
            "CQP Error:\n",
            "\tCQP Syntax Error: syntax error, unexpected $undefined, expecting ';'\n",
            "\tquit'; <--\n",
            "Ignoring subsequent input until end of line ... \n",
            "\u001b[m\u001b[?2004hDICKENS> exit'\n",
            "\u001b[?2004l\n",
            "Done. Share and enjoy!\n"
          ]
        }
      ]
    },
    {
      "cell_type": "code",
      "source": [
        "!cwb-describe-corpus -h"
      ],
      "metadata": {
        "id": "Wbbdaxst_020",
        "colab": {
          "base_uri": "https://localhost:8080/"
        },
        "outputId": "c7e74671-d20a-4e30-cdf2-3527cd7afd44"
      },
      "execution_count": 17,
      "outputs": [
        {
          "output_type": "stream",
          "name": "stdout",
          "text": [
            "\n",
            "Usage:  cwb-describe-corpus [flags] <corpus> [<corpus> ...] \n",
            "Options:\n",
            "  -r <dir>  use registry directory <dir>\n",
            "  -s        show statistics (attribute & lexicon size)\n",
            "  -d        show details (about component files)\n",
            "  -h        this help page\n",
            "Part of the IMS Open Corpus Workbench v3.5.0\n",
            "\n"
          ]
        }
      ]
    },
    {
      "cell_type": "code",
      "source": [
        "!cwb-describe-corpus -s dickens"
      ],
      "metadata": {
        "id": "iCmNuT3A0XPn",
        "colab": {
          "base_uri": "https://localhost:8080/"
        },
        "outputId": "f74423ea-15cc-4802-dfe9-c6134465edc9"
      },
      "execution_count": 18,
      "outputs": [
        {
          "output_type": "stream",
          "name": "stdout",
          "text": [
            "\n",
            "============================================================\n",
            "Corpus: dickens\n",
            "============================================================\n",
            "\n",
            "description:    IMS Corpus Workbench Demo Corpus v1.0 (novels by Charles Dickens)\n",
            "registry file:  /usr/local/share/cwb/registry/dickens\n",
            "home directory: /content/Dickens-1.0/data/\n",
            "info file:      /content/Dickens-1.0/data/.info\n",
            "encoding:       latin1\n",
            "size (tokens):  3407085\n",
            "\n",
            "  3 positional attributes\n",
            " 34 structural attributes\n",
            "  0 alignment  attributes\n",
            "\n",
            "p-ATT word                3407085 tokens,    57568 types\n",
            "p-ATT pos                 3407085 tokens,       43 types\n",
            "p-ATT lemma               3407085 tokens,    41222 types\n",
            "s-ATT text                     14 regions\n",
            "s-ATT text_id                  14 regions (with annotations)\n",
            "s-ATT novel                    14 regions\n",
            "s-ATT novel_title              14 regions (with annotations)\n",
            "s-ATT titlepage                14 regions\n",
            "s-ATT book                     17 regions\n",
            "s-ATT book_num                 17 regions (with annotations)\n",
            "s-ATT chapter                 696 regions\n",
            "s-ATT chapter_num             696 regions (with annotations)\n",
            "s-ATT chapter_title           696 regions (with annotations)\n",
            "s-ATT title                   733 regions\n",
            "s-ATT title_len               733 regions (with annotations)\n",
            "s-ATT p                     61177 regions\n",
            "s-ATT p_len                 61177 regions (with annotations)\n",
            "s-ATT s                    152455 regions\n",
            "s-ATT s_len                152455 regions (with annotations)\n",
            "s-ATT np                   419363 regions\n",
            "s-ATT np1                   90915 regions\n",
            "s-ATT np2                   25640 regions\n",
            "s-ATT np_h                 419363 regions (with annotations)\n",
            "s-ATT np_h1                 90915 regions (with annotations)\n",
            "s-ATT np_h2                 25640 regions (with annotations)\n",
            "s-ATT np_len               419363 regions (with annotations)\n",
            "s-ATT np_len1               90915 regions (with annotations)\n",
            "s-ATT np_len2               25640 regions (with annotations)\n",
            "s-ATT pp                   116608 regions\n",
            "s-ATT pp1                   38889 regions\n",
            "s-ATT pp2                    9000 regions\n",
            "s-ATT pp_h                 116608 regions (with annotations)\n",
            "s-ATT pp_h1                 38889 regions (with annotations)\n",
            "s-ATT pp_h2                  9000 regions (with annotations)\n",
            "s-ATT pp_len               116608 regions (with annotations)\n",
            "s-ATT pp_len1               38889 regions (with annotations)\n",
            "s-ATT pp_len2                9000 regions (with annotations)\n",
            "\n"
          ]
        }
      ]
    },
    {
      "cell_type": "code",
      "source": [
        "# !cwb-describe-corpus -s -r registry dickens"
      ],
      "metadata": {
        "id": "L27_yMizBI_k"
      },
      "execution_count": null,
      "outputs": []
    },
    {
      "cell_type": "code",
      "source": [
        "%cd /content/"
      ],
      "metadata": {
        "id": "HGZpuvwZFLVf",
        "colab": {
          "base_uri": "https://localhost:8080/"
        },
        "outputId": "709fa735-9c72-4baa-a2e2-28f360eacf5f"
      },
      "execution_count": 19,
      "outputs": [
        {
          "output_type": "stream",
          "name": "stdout",
          "text": [
            "/content\n"
          ]
        }
      ]
    },
    {
      "cell_type": "markdown",
      "source": [
        "## Installing python interface to CWB\n",
        "cwb-ccc"
      ],
      "metadata": {
        "id": "f6nQadtzEgp8"
      }
    },
    {
      "cell_type": "code",
      "source": [
        "# !python -m pip install cwb-ccc\n",
        "!python -m pip install cwb-ccc"
      ],
      "metadata": {
        "id": "56JFOM66E1Kt",
        "colab": {
          "base_uri": "https://localhost:8080/"
        },
        "outputId": "e12a4cae-7212-479b-e7a0-ea542c2e12d7"
      },
      "execution_count": 20,
      "outputs": [
        {
          "output_type": "stream",
          "name": "stdout",
          "text": [
            "Collecting cwb-ccc\n",
            "  Downloading cwb-ccc-0.12.1.tar.gz (147 kB)\n",
            "\u001b[?25l     \u001b[90m━━━━━━━━━━━━━━━━━━━━━━━━━━━━━━━━━━━━━━━━\u001b[0m \u001b[32m0.0/148.0 kB\u001b[0m \u001b[31m?\u001b[0m eta \u001b[36m-:--:--\u001b[0m\r\u001b[2K     \u001b[91m━━━━━━━━━━━━━━━━━━━━━━━━━━━━━━━━━━━━━━\u001b[0m\u001b[91m╸\u001b[0m\u001b[90m━\u001b[0m \u001b[32m143.4/148.0 kB\u001b[0m \u001b[31m4.9 MB/s\u001b[0m eta \u001b[36m0:00:01\u001b[0m\r\u001b[2K     \u001b[90m━━━━━━━━━━━━━━━━━━━━━━━━━━━━━━━━━━━━━━━━\u001b[0m \u001b[32m148.0/148.0 kB\u001b[0m \u001b[31m3.3 MB/s\u001b[0m eta \u001b[36m0:00:00\u001b[0m\n",
            "\u001b[?25h  Installing build dependencies ... \u001b[?25l\u001b[?25hdone\n",
            "  Getting requirements to build wheel ... \u001b[?25l\u001b[?25hdone\n",
            "  Preparing metadata (pyproject.toml) ... \u001b[?25l\u001b[?25hdone\n",
            "Collecting wheel<0.42,>=0.41.1 (from cwb-ccc)\n",
            "  Downloading wheel-0.41.3-py3-none-any.whl (65 kB)\n",
            "\u001b[2K     \u001b[90m━━━━━━━━━━━━━━━━━━━━━━━━━━━━━━━━━━━━━━━━\u001b[0m \u001b[32m65.8/65.8 kB\u001b[0m \u001b[31m6.8 MB/s\u001b[0m eta \u001b[36m0:00:00\u001b[0m\n",
            "\u001b[?25hCollecting association-measures<0.3,>=0.2.6 (from cwb-ccc)\n",
            "  Downloading association-measures-0.2.7.tar.gz (36 kB)\n",
            "  Installing build dependencies ... \u001b[?25l\u001b[?25hdone\n",
            "  Getting requirements to build wheel ... \u001b[?25l\u001b[?25hdone\n",
            "  Preparing metadata (pyproject.toml) ... \u001b[?25l\u001b[?25hdone\n",
            "Collecting pandas<2.0,>=1.3.5 (from cwb-ccc)\n",
            "  Downloading pandas-1.5.3-cp310-cp310-manylinux_2_17_x86_64.manylinux2014_x86_64.whl (12.1 MB)\n",
            "\u001b[2K     \u001b[90m━━━━━━━━━━━━━━━━━━━━━━━━━━━━━━━━━━━━━━━━\u001b[0m \u001b[32m12.1/12.1 MB\u001b[0m \u001b[31m34.2 MB/s\u001b[0m eta \u001b[36m0:00:00\u001b[0m\n",
            "\u001b[?25hRequirement already satisfied: numexpr<3.0,>=2.8.5 in /usr/local/lib/python3.10/dist-packages (from cwb-ccc) (2.10.0)\n",
            "Collecting Bottleneck<2.0,>=1.3.7 (from cwb-ccc)\n",
            "  Downloading Bottleneck-1.3.8-cp310-cp310-manylinux_2_5_x86_64.manylinux1_x86_64.manylinux_2_17_x86_64.manylinux2014_x86_64.whl (354 kB)\n",
            "\u001b[2K     \u001b[90m━━━━━━━━━━━━━━━━━━━━━━━━━━━━━━━━━━━━━━━━\u001b[0m \u001b[32m354.1/354.1 kB\u001b[0m \u001b[31m32.5 MB/s\u001b[0m eta \u001b[36m0:00:00\u001b[0m\n",
            "\u001b[?25hCollecting unidecode<2.0,>=1.3.6 (from cwb-ccc)\n",
            "  Downloading Unidecode-1.3.8-py3-none-any.whl (235 kB)\n",
            "\u001b[2K     \u001b[90m━━━━━━━━━━━━━━━━━━━━━━━━━━━━━━━━━━━━━━━━\u001b[0m \u001b[32m235.5/235.5 kB\u001b[0m \u001b[31m21.2 MB/s\u001b[0m eta \u001b[36m0:00:00\u001b[0m\n",
            "\u001b[?25hRequirement already satisfied: pyyaml<7.0,>=6.0.1 in /usr/local/lib/python3.10/dist-packages (from cwb-ccc) (6.0.1)\n",
            "Requirement already satisfied: scipy in /usr/local/lib/python3.10/dist-packages (from association-measures<0.3,>=0.2.6->cwb-ccc) (1.11.4)\n",
            "Requirement already satisfied: numpy in /usr/local/lib/python3.10/dist-packages (from Bottleneck<2.0,>=1.3.7->cwb-ccc) (1.25.2)\n",
            "Requirement already satisfied: python-dateutil>=2.8.1 in /usr/local/lib/python3.10/dist-packages (from pandas<2.0,>=1.3.5->cwb-ccc) (2.8.2)\n",
            "Requirement already satisfied: pytz>=2020.1 in /usr/local/lib/python3.10/dist-packages (from pandas<2.0,>=1.3.5->cwb-ccc) (2023.4)\n",
            "Requirement already satisfied: six>=1.5 in /usr/local/lib/python3.10/dist-packages (from python-dateutil>=2.8.1->pandas<2.0,>=1.3.5->cwb-ccc) (1.16.0)\n",
            "Building wheels for collected packages: cwb-ccc, association-measures\n",
            "  Building wheel for cwb-ccc (pyproject.toml) ... \u001b[?25l\u001b[?25hdone\n",
            "  Created wheel for cwb-ccc: filename=cwb_ccc-0.12.1-cp310-cp310-linux_x86_64.whl size=283793 sha256=ebc27836cb27c573ef56c7ec9c256227cc23440318d910f261164130bd567cbc\n",
            "  Stored in directory: /root/.cache/pip/wheels/c3/18/dc/cbfacdd87a4b75970adfe449dbd77342d860f1342c3f488944\n",
            "  Building wheel for association-measures (pyproject.toml) ... \u001b[?25l\u001b[?25hdone\n",
            "  Created wheel for association-measures: filename=association_measures-0.2.7-cp310-cp310-linux_x86_64.whl size=66849 sha256=d24f7a6773188dd2d8b9ae2b9e6cb3c2c020aeea2a864c7ff736167924ea8efa\n",
            "  Stored in directory: /root/.cache/pip/wheels/60/46/34/c0c1e21a792361b8521286d3934652e4320e9d2f557af278a7\n",
            "Successfully built cwb-ccc association-measures\n",
            "Installing collected packages: wheel, unidecode, Bottleneck, pandas, association-measures, cwb-ccc\n",
            "  Attempting uninstall: wheel\n",
            "    Found existing installation: wheel 0.43.0\n",
            "    Uninstalling wheel-0.43.0:\n",
            "      Successfully uninstalled wheel-0.43.0\n",
            "  Attempting uninstall: pandas\n",
            "    Found existing installation: pandas 2.0.3\n",
            "    Uninstalling pandas-2.0.3:\n",
            "      Successfully uninstalled pandas-2.0.3\n",
            "\u001b[31mERROR: pip's dependency resolver does not currently take into account all the packages that are installed. This behaviour is the source of the following dependency conflicts.\n",
            "google-colab 1.0.0 requires pandas==2.0.3, but you have pandas 1.5.3 which is incompatible.\u001b[0m\u001b[31m\n",
            "\u001b[0mSuccessfully installed Bottleneck-1.3.8 association-measures-0.2.7 cwb-ccc-0.12.1 pandas-1.5.3 unidecode-1.3.8 wheel-0.41.3\n"
          ]
        }
      ]
    },
    {
      "cell_type": "markdown",
      "source": [
        "## pandas versions are incompatible\n",
        "ERROR: pip's dependency resolver does not currently take into account all the packages that are installed. This behaviour is the source of the following dependency conflicts.\n",
        "\n",
        "google-colab 1.0.0 requires pandas~=1.1.0; python_version >= \"3.0\", but you have pandas 1.3.5 which is incompatible.\n",
        "\n",
        "Successfully installed association-measures-0.2.0 cwb-ccc-0.10.1 pandas-1.3.5 pyyaml-6.0 unidecode-1.3.2\n",
        "\n",
        "- we go for a compromise, which works for both so far..."
      ],
      "metadata": {
        "id": "cUBCq5DtEtu_"
      }
    },
    {
      "cell_type": "code",
      "source": [
        "!pip show pandas"
      ],
      "metadata": {
        "id": "_GKMon8G9xSo",
        "colab": {
          "base_uri": "https://localhost:8080/"
        },
        "outputId": "fa6294c7-1127-4a7a-874a-d409d4e3adf7"
      },
      "execution_count": 21,
      "outputs": [
        {
          "output_type": "stream",
          "name": "stdout",
          "text": [
            "Name: pandas\n",
            "Version: 1.5.3\n",
            "Summary: Powerful data structures for data analysis, time series, and statistics\n",
            "Home-page: https://pandas.pydata.org\n",
            "Author: The Pandas Development Team\n",
            "Author-email: pandas-dev@python.org\n",
            "License: BSD-3-Clause\n",
            "Location: /usr/local/lib/python3.10/dist-packages\n",
            "Requires: numpy, python-dateutil, pytz\n",
            "Required-by: altair, arviz, association-measures, bigframes, bokeh, bqplot, cmdstanpy, cufflinks, cwb-ccc, datascience, db-dtypes, dopamine-rl, fastai, geemap, geopandas, google-colab, gspread-dataframe, holoviews, ibis-framework, mizani, mlxtend, pandas-datareader, pandas-gbq, panel, plotnine, prophet, pymc, seaborn, sklearn-pandas, statsmodels, vega-datasets, xarray, yfinance\n"
          ]
        }
      ]
    },
    {
      "cell_type": "code",
      "source": [
        "!pip install pandas==1.1.5\n",
        "# click [restart runtime] button!"
      ],
      "metadata": {
        "id": "UI2vEM5OCI4r",
        "colab": {
          "base_uri": "https://localhost:8080/"
        },
        "outputId": "6080e844-78e9-4196-819b-d35de8138051"
      },
      "execution_count": 22,
      "outputs": [
        {
          "output_type": "stream",
          "name": "stdout",
          "text": [
            "Collecting pandas==1.1.5\n",
            "  Downloading pandas-1.1.5.tar.gz (5.2 MB)\n",
            "\u001b[2K     \u001b[90m━━━━━━━━━━━━━━━━━━━━━━━━━━━━━━━━━━━━━━━━\u001b[0m \u001b[32m5.2/5.2 MB\u001b[0m \u001b[31m18.1 MB/s\u001b[0m eta \u001b[36m0:00:00\u001b[0m\n",
            "\u001b[?25h  Installing build dependencies ... \u001b[?25l\u001b[?25hdone\n",
            "  Getting requirements to build wheel ... \u001b[?25l\u001b[?25hdone\n",
            "  Preparing metadata (pyproject.toml) ... \u001b[?25l\u001b[?25hdone\n",
            "Requirement already satisfied: python-dateutil>=2.7.3 in /usr/local/lib/python3.10/dist-packages (from pandas==1.1.5) (2.8.2)\n",
            "Requirement already satisfied: pytz>=2017.2 in /usr/local/lib/python3.10/dist-packages (from pandas==1.1.5) (2023.4)\n",
            "Requirement already satisfied: numpy>=1.15.4 in /usr/local/lib/python3.10/dist-packages (from pandas==1.1.5) (1.25.2)\n",
            "Requirement already satisfied: six>=1.5 in /usr/local/lib/python3.10/dist-packages (from python-dateutil>=2.7.3->pandas==1.1.5) (1.16.0)\n",
            "Building wheels for collected packages: pandas\n",
            "  Building wheel for pandas (pyproject.toml) ... \u001b[?25l\u001b[?25hdone\n",
            "  Created wheel for pandas: filename=pandas-1.1.5-cp310-cp310-linux_x86_64.whl size=33263286 sha256=d095182228ed7950c4bd7a7a286e0b34269b44df8f3d1f01c7281cd0bc45ab1c\n",
            "  Stored in directory: /root/.cache/pip/wheels/92/41/92/769e05cd303040fdae625c9f5a8d38f1d37c423aa2a30b3d0d\n",
            "Successfully built pandas\n",
            "Installing collected packages: pandas\n",
            "  Attempting uninstall: pandas\n",
            "    Found existing installation: pandas 1.5.3\n",
            "    Uninstalling pandas-1.5.3:\n",
            "      Successfully uninstalled pandas-1.5.3\n",
            "\u001b[31mERROR: pip's dependency resolver does not currently take into account all the packages that are installed. This behaviour is the source of the following dependency conflicts.\n",
            "arviz 0.15.1 requires pandas>=1.3.0, but you have pandas 1.1.5 which is incompatible.\n",
            "bigframes 1.2.0 requires pandas>=1.5.0, but you have pandas 1.1.5 which is incompatible.\n",
            "bokeh 3.3.4 requires pandas>=1.2, but you have pandas 1.1.5 which is incompatible.\n",
            "cwb-ccc 0.12.1 requires pandas<2.0,>=1.3.5, but you have pandas 1.1.5 which is incompatible.\n",
            "google-colab 1.0.0 requires pandas==2.0.3, but you have pandas 1.1.5 which is incompatible.\n",
            "ibis-framework 8.0.0 requires pandas<3,>=1.2.5, but you have pandas 1.1.5 which is incompatible.\n",
            "mizani 0.9.3 requires pandas>=1.3.5, but you have pandas 1.1.5 which is incompatible.\n",
            "panel 1.3.8 requires pandas>=1.2, but you have pandas 1.1.5 which is incompatible.\n",
            "plotnine 0.12.4 requires pandas>=1.5.0, but you have pandas 1.1.5 which is incompatible.\n",
            "seaborn 0.13.1 requires pandas>=1.2, but you have pandas 1.1.5 which is incompatible.\n",
            "statsmodels 0.14.2 requires pandas!=2.1.0,>=1.4, but you have pandas 1.1.5 which is incompatible.\n",
            "xarray 2023.7.0 requires pandas>=1.4, but you have pandas 1.1.5 which is incompatible.\n",
            "yfinance 0.2.38 requires pandas>=1.3.0, but you have pandas 1.1.5 which is incompatible.\u001b[0m\u001b[31m\n",
            "\u001b[0mSuccessfully installed pandas-1.1.5\n"
          ]
        }
      ]
    },
    {
      "cell_type": "markdown",
      "source": [
        "### Experiments with cwb-ccc\n",
        "From the webpage\n"
      ],
      "metadata": {
        "id": "6lulNEGl9zlR"
      }
    },
    {
      "cell_type": "code",
      "source": [
        "from ccc import Corpora\n",
        "corpora = Corpora(registry_path=\"/usr/local/share/cwb/registry/\")\n",
        "# corpora = Corpora(\"/content/Dickens-1.0/registry\")\n",
        "print(corpora)\n",
        "corpora.show()  # returns a DataFrame"
      ],
      "metadata": {
        "id": "_ls1FlVLl-U9"
      },
      "execution_count": null,
      "outputs": []
    },
    {
      "cell_type": "code",
      "source": [
        "corpus = corpora.activate(corpus_name=\"DICKENS\")"
      ],
      "metadata": {
        "id": "CE4ETsZY05pa"
      },
      "execution_count": null,
      "outputs": []
    },
    {
      "cell_type": "code",
      "source": [
        "from ccc import Corpus\n",
        "corpus = Corpus(\n",
        "  corpus_name=\"DICKENS\",\n",
        "  registry_path=\"/usr/local/share/cwb/registry/\"\n",
        ")"
      ],
      "metadata": {
        "id": "5SvuTHWO2biQ"
      },
      "execution_count": null,
      "outputs": []
    },
    {
      "cell_type": "code",
      "source": [
        "query = r'[word=\"[A-Z0-9][A-Z0-9][A-Z0-9]+\"]'\n",
        "dump = corpus.query(query)"
      ],
      "metadata": {
        "id": "bG0YV4eJ2nxd"
      },
      "execution_count": null,
      "outputs": []
    },
    {
      "cell_type": "code",
      "source": [
        "dump.df"
      ],
      "metadata": {
        "id": "SEduaqw7HJop"
      },
      "execution_count": null,
      "outputs": []
    },
    {
      "cell_type": "code",
      "source": [
        "corpus.attributes_available"
      ],
      "metadata": {
        "id": "Huvnn6YNCnJK"
      },
      "execution_count": null,
      "outputs": []
    },
    {
      "cell_type": "code",
      "source": [
        "query = r'\"question\"'\n",
        "dump = corpus.query(query)"
      ],
      "metadata": {
        "id": "aXdYciaqDRZU"
      },
      "execution_count": null,
      "outputs": []
    },
    {
      "cell_type": "code",
      "source": [
        "dump.df"
      ],
      "metadata": {
        "id": "TdAvtzWAEBJG"
      },
      "execution_count": null,
      "outputs": []
    },
    {
      "cell_type": "code",
      "source": [
        "dump = corpus.query(\n",
        "  cqp_query=query,\n",
        "  context=20,\n",
        "  context_break='s'\n",
        ")"
      ],
      "metadata": {
        "id": "eEP_kTV5Elik"
      },
      "execution_count": null,
      "outputs": []
    },
    {
      "cell_type": "code",
      "source": [
        "dump.df"
      ],
      "metadata": {
        "id": "aXiyEK_wFrIe"
      },
      "execution_count": null,
      "outputs": []
    },
    {
      "cell_type": "code",
      "source": [
        "dump.set_context(\n",
        "    context_left=5,\n",
        "    context_right=10,\n",
        "    context_break='s'\n",
        ")"
      ],
      "metadata": {
        "id": "vnRPzZXwGtxb"
      },
      "execution_count": null,
      "outputs": []
    },
    {
      "cell_type": "code",
      "source": [
        "dump.df"
      ],
      "metadata": {
        "id": "wav8P_RPGwZ2"
      },
      "execution_count": null,
      "outputs": []
    },
    {
      "cell_type": "code",
      "source": [
        "dump.breakdown()"
      ],
      "metadata": {
        "id": "9y-q9SdRGz05"
      },
      "execution_count": null,
      "outputs": []
    },
    {
      "cell_type": "code",
      "source": [
        "dump.concordance()"
      ],
      "metadata": {
        "id": "Ds3ZK761L3iY"
      },
      "execution_count": null,
      "outputs": []
    },
    {
      "cell_type": "code",
      "source": [
        "dump.concordance(p_show=[\"word\", \"lemma\"], s_show=[\"text_id\"])"
      ],
      "metadata": {
        "id": "ikj5RzFeMqWt"
      },
      "execution_count": null,
      "outputs": []
    },
    {
      "cell_type": "code",
      "source": [
        "dump.concordance(form=\"kwic\")"
      ],
      "metadata": {
        "id": "fESAxu9uM792"
      },
      "execution_count": null,
      "outputs": []
    },
    {
      "cell_type": "code",
      "source": [
        "lines = dump.concordance(\n",
        "    p_show=['word', 'pos', 'lemma'],\n",
        "    form='dataframe'\n",
        ")"
      ],
      "metadata": {
        "id": "BG0UltJXNFLD"
      },
      "execution_count": null,
      "outputs": []
    },
    {
      "cell_type": "code",
      "source": [
        "lines.iloc[0]['dataframe']"
      ],
      "metadata": {
        "id": "sCI08tY8T94n"
      },
      "execution_count": null,
      "outputs": []
    },
    {
      "cell_type": "code",
      "source": [
        "type(lines.iloc[2]['dataframe'])"
      ],
      "metadata": {
        "id": "kShVkg2CfgiB"
      },
      "execution_count": null,
      "outputs": []
    },
    {
      "cell_type": "code",
      "source": [
        "lines = dump.concordance(\n",
        "    p_show=['word', 'pos', 'lemma'],\n",
        "    form='dict'\n",
        ")"
      ],
      "metadata": {
        "id": "Btv0RCr-iMq-"
      },
      "execution_count": null,
      "outputs": []
    },
    {
      "cell_type": "code",
      "source": [
        "lines.iloc[0]['dict']"
      ],
      "metadata": {
        "id": "mqjx_VY1qsms"
      },
      "execution_count": null,
      "outputs": []
    },
    {
      "cell_type": "code",
      "source": [
        "lines = dump.concordance(\n",
        "    p_show=['word', 'pos', 'lemma'],\n",
        "    form='slots'\n",
        ")"
      ],
      "metadata": {
        "id": "A0CF_QFyrCoh"
      },
      "execution_count": null,
      "outputs": []
    },
    {
      "cell_type": "code",
      "source": [
        "lines.iloc[0]"
      ],
      "metadata": {
        "id": "h9RjA-pGHuZF",
        "colab": {
          "base_uri": "https://localhost:8080/"
        },
        "outputId": "922439dd-dab9-4a86-da20-ff15b8e2c7df"
      },
      "execution_count": null,
      "outputs": [
        {
          "output_type": "execute_result",
          "data": {
            "text/plain": [
              "word                     Scrooge asked the question , because he did n'...\n",
              "pos                             NN VBD DT NN , IN PP VBD RB VB IN DT NN RB\n",
              "lemma                    Scrooge ask the question , because he do not k...\n",
              "match..matchend_word                                              question\n",
              "match..matchend_pos                                                     NN\n",
              "match..matchend_lemma                                             question\n",
              "Name: (5614, 5614), dtype: object"
            ]
          },
          "metadata": {},
          "execution_count": 22
        }
      ]
    },
    {
      "cell_type": "code",
      "source": [
        "lines.iloc[0]['lemma']"
      ],
      "metadata": {
        "id": "pWWpjMrnrNdj",
        "colab": {
          "base_uri": "https://localhost:8080/",
          "height": 37
        },
        "outputId": "c3867db9-e7af-45ef-c052-4c3230555846"
      },
      "execution_count": null,
      "outputs": [
        {
          "output_type": "execute_result",
          "data": {
            "application/vnd.google.colaboratory.intrinsic+json": {
              "type": "string"
            },
            "text/plain": [
              "'Scrooge ask the question , because he do not know whether a ghost so'"
            ]
          },
          "metadata": {},
          "execution_count": 23
        }
      ]
    },
    {
      "cell_type": "code",
      "source": [
        "dump = corpus.query(\n",
        "  cqp_query=r'@1[pos=\"D.*\"] @2[pos=\"NN\"] @3[word=\"question\"]',\n",
        "  context=None,\n",
        "  context_break='s',\n",
        "  match_strategy='longest'\n",
        ")\n",
        "lines = dump.concordance(form='dataframe')"
      ],
      "metadata": {
        "id": "aRnleZo6rvgN"
      },
      "execution_count": null,
      "outputs": []
    },
    {
      "cell_type": "code",
      "source": [
        "lines.iloc[1]['dataframe']"
      ],
      "metadata": {
        "id": "MnqLwcSHtIvK"
      },
      "execution_count": null,
      "outputs": []
    },
    {
      "cell_type": "code",
      "source": [
        "lines = dump.concordance(form='dict')"
      ],
      "metadata": {
        "id": "7zLLZRAGts3t"
      },
      "execution_count": null,
      "outputs": []
    },
    {
      "cell_type": "code",
      "source": [
        "lines.iloc[1]['dict']"
      ],
      "metadata": {
        "id": "J--lQCDktzDR"
      },
      "execution_count": null,
      "outputs": []
    },
    {
      "cell_type": "code",
      "source": [
        "lines = dump.concordance(\n",
        "  form='slots',\n",
        "  p_show=['word', 'lemma'],\n",
        "  slots={\"article\": [1], \"np\": [2, 3]}\n",
        ")"
      ],
      "metadata": {
        "id": "TEqoBL7KuA0Q"
      },
      "execution_count": null,
      "outputs": []
    },
    {
      "cell_type": "code",
      "source": [
        "lines"
      ],
      "metadata": {
        "id": "K6agGHvkupFa"
      },
      "execution_count": null,
      "outputs": []
    },
    {
      "cell_type": "code",
      "source": [
        "dump.correct_anchors({2: -2, 3: +1})\n",
        "lines = dump.concordance(\n",
        "  form='slots',\n",
        "  slots={\"art\": [1],\n",
        "  \"np\": [2, 3]}\n",
        ")"
      ],
      "metadata": {
        "id": "GxMthnEXu4RS"
      },
      "execution_count": null,
      "outputs": []
    },
    {
      "cell_type": "code",
      "source": [
        "lines"
      ],
      "metadata": {
        "id": "n5Hky4vSvZ6E"
      },
      "execution_count": null,
      "outputs": []
    },
    {
      "cell_type": "code",
      "source": [
        "dump = corpus.query(\n",
        "    '[lemma=\"question\"]',\n",
        "    context=10,\n",
        "    context_break='s'\n",
        ")"
      ],
      "metadata": {
        "id": "L_cz5_mny4XZ"
      },
      "execution_count": null,
      "outputs": []
    },
    {
      "cell_type": "code",
      "source": [
        "dump.collocates(order='log_likelihood')"
      ],
      "metadata": {
        "id": "RLk9NlIrzS1m"
      },
      "execution_count": null,
      "outputs": []
    },
    {
      "cell_type": "code",
      "source": [
        "dump = corpus.query(\n",
        "    '[lemma=\"answer\"]',\n",
        "    context=10,\n",
        "    context_break='s'\n",
        ")"
      ],
      "metadata": {
        "id": "Mx5JnkG40YfS"
      },
      "execution_count": null,
      "outputs": []
    },
    {
      "cell_type": "code",
      "source": [
        "dump.collocates(p_query=['lemma'], order='conservative_log_ratio')\n",
        "# ['lemma', 'pos']"
      ],
      "metadata": {
        "id": "ZvbF3NMgz-ma"
      },
      "execution_count": null,
      "outputs": []
    },
    {
      "cell_type": "code",
      "source": [
        "corpus.query('[lemma=\"question\" & pos=\"N.*\"]').breakdown()"
      ],
      "metadata": {
        "id": "DSj0WaM6zhmp"
      },
      "execution_count": null,
      "outputs": []
    },
    {
      "cell_type": "code",
      "source": [
        "# https://pypi.org/project/cwb-ccc/#anchored-queries"
      ],
      "metadata": {
        "id": "d3vWtAL-v0Y4"
      },
      "execution_count": null,
      "outputs": []
    },
    {
      "cell_type": "code",
      "source": [
        "%tb"
      ],
      "metadata": {
        "colab": {
          "base_uri": "https://localhost:8080/"
        },
        "id": "u9c1bxAHseaX",
        "outputId": "9c6a639d-33a2-4f67-f4e9-c27f67db491c"
      },
      "execution_count": null,
      "outputs": [
        {
          "output_type": "stream",
          "name": "stderr",
          "text": [
            "No traceback available to show.\n"
          ]
        }
      ]
    },
    {
      "cell_type": "code",
      "source": [
        "# !export CWB_DIR=/usr/local/cwb-3.4.10\n",
        "# /usr/local/cwb-3.4.22/bin"
      ],
      "metadata": {
        "id": "KqxsSReWsTnd"
      },
      "execution_count": null,
      "outputs": []
    },
    {
      "cell_type": "code",
      "source": [
        "# !python --version"
      ],
      "metadata": {
        "id": "GdqTG_2BvkTq"
      },
      "execution_count": null,
      "outputs": []
    },
    {
      "cell_type": "markdown",
      "source": [
        "### todo:\n",
        "1. to add corpus lemmatization & encoding parts\n",
        "2. to add generation of interesting collocations, exporting them as lists\n",
        "3. to add parallel corpus functionality\n"
      ],
      "metadata": {
        "id": "Ou8wY0JrIvmK"
      }
    },
    {
      "cell_type": "markdown",
      "source": [
        "## Building own corpus\n",
        "Europarl 8M EN (DE):\n",
        "https://heibox.uni-heidelberg.de/f/0e1fcda2b7bc494d83b8/?dl=1\n",
        "ep_en_de.txt\n",
        "\n",
        "- Create a data directory where files in the binary CWB format will be stored. Here, we assume that this directory is called /corpora/data/example. If this directory already exists and contains corpus data (from a previous version), you should delete all files in the directory. NB: You need a separate data directory for each corpus you want to encode.\n",
        "- Choose a registry directory, where all encoded corpora have to be registered to make them accessible to the CWB tools. It is recommended that you use the default registry directory /usr/local/share/cwb/registry. Otherwise,youwillhavetospecifythepathtoyourregistry directory with a -r flag whenever you invoke one of the CWB tools (or set an appropriate environment variable, see below). In the example commands in this manual, we assume that you use the standard registry directory.\n",
        "- The next step is to encode the corpus, i.e. convert the verticalized text to CWB binary format with the cwb-encode tool. Note that the command below has to be entered on a single line.\n",
        "\n",
        "\n",
        "```\n",
        "$ cwb-encode -d /corpora/data/example\n",
        "                      -xsBC9 -c ascii -f example.vrt\n",
        "                      -R /usr/local/share/cwb/registry/example\n",
        "                      -P pos -P lemma -S s\n",
        "```\n",
        "from: https://cwb.sourceforge.io/files/CWB_Encoding_Tutorial.pdf\n"
      ],
      "metadata": {
        "id": "EgegHjE4yUIl"
      }
    },
    {
      "cell_type": "markdown",
      "source": [
        "Cleanup ... (if needed to reinstall)"
      ],
      "metadata": {
        "id": "6ZxWvnWk1GSN"
      }
    },
    {
      "cell_type": "code",
      "source": [
        "rm -r EP"
      ],
      "metadata": {
        "id": "IYrY62pj00Pb"
      },
      "execution_count": null,
      "outputs": []
    },
    {
      "cell_type": "code",
      "source": [
        "rm -r corpepen/"
      ],
      "metadata": {
        "id": "spizUeMo061P"
      },
      "execution_count": null,
      "outputs": []
    },
    {
      "cell_type": "code",
      "source": [
        "rm /usr/local/share/cwb/registry/corpepen"
      ],
      "metadata": {
        "id": "gjhTIwnI09R2"
      },
      "execution_count": null,
      "outputs": []
    },
    {
      "cell_type": "markdown",
      "source": [
        "downloading EP data"
      ],
      "metadata": {
        "id": "_jc0IzD51LQy"
      }
    },
    {
      "cell_type": "code",
      "source": [
        "# !wget https://heibox.uni-heidelberg.de/f/0e1fcda2b7bc494d83b8/?dl=1\n",
        "!wget https://heibox.uni-heidelberg.de/f/0e1fcda2b7bc494d83b8/?dl=1"
      ],
      "metadata": {
        "id": "eF3ueOXszN6-"
      },
      "execution_count": null,
      "outputs": []
    },
    {
      "cell_type": "code",
      "source": [
        "!mkdir EP"
      ],
      "metadata": {
        "id": "VgAnBc6gbG1k"
      },
      "execution_count": null,
      "outputs": []
    },
    {
      "cell_type": "code",
      "source": [
        "!mv index.html?dl=1 EP/ep_en_de1.txt"
      ],
      "metadata": {
        "id": "l4DF9yPo2R5b"
      },
      "execution_count": null,
      "outputs": []
    },
    {
      "cell_type": "code",
      "source": [
        "FIn = open('EP/ep_en_de1.txt', 'r')\n",
        "FOut = open('EP/ep_en_de.txt', 'w')\n",
        "for SLine in FIn:\n",
        "    SLine = SLine.strip()\n",
        "    SLine = SLine.lower()\n",
        "    FOut.write(SLine + '\\n')\n",
        "\n",
        "FOut.flush()\n"
      ],
      "metadata": {
        "id": "0LbouwOr2U_d"
      },
      "execution_count": null,
      "outputs": []
    },
    {
      "cell_type": "code",
      "source": [
        "!head --lines=100 EP/ep_en_de.txt >ep_en_de_100.txt"
      ],
      "metadata": {
        "id": "25sz42kN11EG"
      },
      "execution_count": null,
      "outputs": []
    },
    {
      "cell_type": "code",
      "source": [
        "!mkdir corpepen"
      ],
      "metadata": {
        "id": "cAfy1VX_2cJB"
      },
      "execution_count": null,
      "outputs": []
    },
    {
      "cell_type": "markdown",
      "source": [
        "encoding corpus"
      ],
      "metadata": {
        "id": "FijWQJxB3H5R"
      }
    },
    {
      "cell_type": "code",
      "source": [
        "!cwb-encode -d /content/corpepen -xsBC9 -c utf8 -f /content/EP/ep_en_de.txt -R /usr/local/share/cwb/registry/corpepen 2>&1"
      ],
      "metadata": {
        "id": "dwDPFUJI24HZ"
      },
      "execution_count": null,
      "outputs": []
    },
    {
      "cell_type": "code",
      "source": [
        "!cwb-makeall --help"
      ],
      "metadata": {
        "id": "q7RC85VF8l8b"
      },
      "execution_count": null,
      "outputs": []
    },
    {
      "cell_type": "code",
      "source": [
        "!cwb-makeall -V CORPEPEN"
      ],
      "metadata": {
        "id": "XI4jNDzw8kNg"
      },
      "execution_count": null,
      "outputs": []
    },
    {
      "cell_type": "code",
      "source": [
        "%tb"
      ],
      "metadata": {
        "id": "6SbEUjOr589I",
        "colab": {
          "base_uri": "https://localhost:8080/"
        },
        "outputId": "96c1b942-ae22-4466-8722-9f140e61a1a7"
      },
      "execution_count": null,
      "outputs": [
        {
          "output_type": "stream",
          "name": "stderr",
          "text": [
            "No traceback available to show.\n"
          ]
        }
      ]
    },
    {
      "cell_type": "code",
      "source": [
        "!cwb-describe-corpus corpepen"
      ],
      "metadata": {
        "id": "5T6-wewX6z9p"
      },
      "execution_count": null,
      "outputs": []
    },
    {
      "cell_type": "code",
      "source": [
        "# try these commands in the interactive prompt (just copy and paste them):\n",
        "# CORPEPEN;\n",
        "# \"question\";\n",
        "# \"of\";\n",
        "# q\n",
        "# exit;\n",
        "!cqp -e"
      ],
      "metadata": {
        "colab": {
          "base_uri": "https://localhost:8080/"
        },
        "id": "kvKd9btj5UVi",
        "outputId": "f2ec50ca-0f7d-4293-f79e-e645377784b4"
      },
      "execution_count": null,
      "outputs": [
        {
          "output_type": "stream",
          "name": "stdout",
          "text": [
            "\u001b[m[no corpus]> CORPEPEN;\n",
            "\u001b[mCORPEPEN> \"question\";\n",
            "      122: oncern inadmissibility my <\u001b[m\u001b[7mquestion\u001b[m> relate to something that\u001b[m\u001b[m\n",
            "      513: ing on this matter on the <\u001b[m\u001b[7mquestion\u001b[m> of the strategic plan of\u001b[m\u001b[m\n",
            "     4825: st the european union the <\u001b[m\u001b[7mquestion\u001b[m> be who prosecute that be\u001b[m\u001b[m\n",
            "     5003: e at the moment the whole <\u001b[m\u001b[7mquestion\u001b[m> as to whether we have th\u001b[m\u001b[m\n",
            "     5046: ission should tackle this <\u001b[m\u001b[7mquestion\u001b[m> we be aware that it be a\u001b[m\u001b[m\n",
            "     7039: say in her remark but the <\u001b[m\u001b[7mquestion\u001b[m> be how long will it take\u001b[m\u001b[m\n",
            "    10935: ue relate to and surround <\u001b[m\u001b[7mquestion\u001b[m> of liability despite my \u001b[m\u001b[m\n",
            "    11144: behrendt have ask me this <\u001b[m\u001b[7mquestion\u001b[m> before and i say i think\u001b[m\u001b[m\n",
            "    11184:  next time you ask me the <\u001b[m\u001b[7mquestion\u001b[m> i will be in a position \u001b[m\u001b[m\n",
            "    11717: mr florenz also raise the <\u001b[m\u001b[7mquestion\u001b[m> of anonymity i be happy \u001b[m\u001b[m\n",
            "    11899:  tooth i suspect that the <\u001b[m\u001b[7mquestion\u001b[m> be focus on the issue of\u001b[m\u001b[m\n",
            "    12266:  address over time be the <\u001b[m\u001b[7mquestion\u001b[m> of the speed of response\u001b[m\u001b[m\n",
            "    12351:  in relation to mrs lynne <\u001b[m\u001b[7mquestion\u001b[m> on interim payment that \u001b[m\u001b[m\n",
            "    12748:  be cut back the time for <\u001b[m\u001b[7mquestion\u001b[m> time it be one of the fe\u001b[m\u001b[m\n",
            "    13461: hank you mr bowe for your <\u001b[m\u001b[7mquestion\u001b[m> the european commission \u001b[m\u001b[m\n",
            "    13934: hank you mr bowe for that <\u001b[m\u001b[7mquestion\u001b[m> we have to state again t\u001b[m\u001b[m\n",
            "    14325: he area i can answer that <\u001b[m\u001b[7mquestion\u001b[m> when it come to medical \u001b[m\u001b[m\n",
            "    15352:  the ombudsman there be a <\u001b[m\u001b[7mquestion\u001b[m> about the legislative ba\u001b[m\u001b[m\n",
            "    15388: urable member who ask the <\u001b[m\u001b[7mquestion\u001b[m> who take a particular in\u001b[m\u001b[m\n",
            "    15480: ound the only substantial <\u001b[m\u001b[7mquestion\u001b[m> that have arise be the l\u001b[m\u001b[m\n",
            "    15548: n about these development <\u001b[m\u001b[7mquestion\u001b[m> will know how important \u001b[m\u001b[m\n",
            "    19942: tion to that there be the <\u001b[m\u001b[7mquestion\u001b[m> of duty free that be a s\u001b[m\u001b[m\n",
            "    24561: oncession on the security <\u001b[m\u001b[7mquestion\u001b[m> then the prospect of a s\u001b[m\u001b[m\n",
            "\u001b[K\u001b[?1l\u001b>\u001b[mCORPEPEN> \n",
            "\u001b[mCORPEPEN> exit;\n",
            "\n",
            "Done. Share and enjoy!\n"
          ]
        }
      ]
    },
    {
      "cell_type": "code",
      "source": [
        "from ccc import Corpora\n",
        "corpora = Corpora(registry_path=\"/usr/local/share/cwb/registry/\")\n",
        "# corpora = Corpora(\"/content/Dickens-1.0/registry\")\n",
        "print(corpora)\n",
        "corpora.show()  # returns a DataFrame"
      ],
      "metadata": {
        "colab": {
          "base_uri": "https://localhost:8080/",
          "height": 246
        },
        "id": "3qHfCbt37DO3",
        "outputId": "1338ba94-f34d-40d7-af54-928538556ddd"
      },
      "execution_count": null,
      "outputs": [
        {
          "output_type": "stream",
          "name": "stdout",
          "text": [
            "\n",
            "registry path: \"/usr/local/share/cwb/registry/\"\n",
            "cqp binary   : \"cqp\"\n",
            "found 1 corpora:\n",
            "             size\n",
            "corpus           \n",
            "CORPEPEN  7281561\n"
          ]
        },
        {
          "output_type": "execute_result",
          "data": {
            "text/html": [
              "\n",
              "  <div id=\"df-ea983a05-120b-4e59-899f-258836ee1ad6\">\n",
              "    <div class=\"colab-df-container\">\n",
              "      <div>\n",
              "<style scoped>\n",
              "    .dataframe tbody tr th:only-of-type {\n",
              "        vertical-align: middle;\n",
              "    }\n",
              "\n",
              "    .dataframe tbody tr th {\n",
              "        vertical-align: top;\n",
              "    }\n",
              "\n",
              "    .dataframe thead th {\n",
              "        text-align: right;\n",
              "    }\n",
              "</style>\n",
              "<table border=\"1\" class=\"dataframe\">\n",
              "  <thead>\n",
              "    <tr style=\"text-align: right;\">\n",
              "      <th></th>\n",
              "      <th>size</th>\n",
              "    </tr>\n",
              "    <tr>\n",
              "      <th>corpus</th>\n",
              "      <th></th>\n",
              "    </tr>\n",
              "  </thead>\n",
              "  <tbody>\n",
              "    <tr>\n",
              "      <th>CORPEPEN</th>\n",
              "      <td>7281561</td>\n",
              "    </tr>\n",
              "  </tbody>\n",
              "</table>\n",
              "</div>\n",
              "      <button class=\"colab-df-convert\" onclick=\"convertToInteractive('df-ea983a05-120b-4e59-899f-258836ee1ad6')\"\n",
              "              title=\"Convert this dataframe to an interactive table.\"\n",
              "              style=\"display:none;\">\n",
              "        \n",
              "  <svg xmlns=\"http://www.w3.org/2000/svg\" height=\"24px\"viewBox=\"0 0 24 24\"\n",
              "       width=\"24px\">\n",
              "    <path d=\"M0 0h24v24H0V0z\" fill=\"none\"/>\n",
              "    <path d=\"M18.56 5.44l.94 2.06.94-2.06 2.06-.94-2.06-.94-.94-2.06-.94 2.06-2.06.94zm-11 1L8.5 8.5l.94-2.06 2.06-.94-2.06-.94L8.5 2.5l-.94 2.06-2.06.94zm10 10l.94 2.06.94-2.06 2.06-.94-2.06-.94-.94-2.06-.94 2.06-2.06.94z\"/><path d=\"M17.41 7.96l-1.37-1.37c-.4-.4-.92-.59-1.43-.59-.52 0-1.04.2-1.43.59L10.3 9.45l-7.72 7.72c-.78.78-.78 2.05 0 2.83L4 21.41c.39.39.9.59 1.41.59.51 0 1.02-.2 1.41-.59l7.78-7.78 2.81-2.81c.8-.78.8-2.07 0-2.86zM5.41 20L4 18.59l7.72-7.72 1.47 1.35L5.41 20z\"/>\n",
              "  </svg>\n",
              "      </button>\n",
              "      \n",
              "  <style>\n",
              "    .colab-df-container {\n",
              "      display:flex;\n",
              "      flex-wrap:wrap;\n",
              "      gap: 12px;\n",
              "    }\n",
              "\n",
              "    .colab-df-convert {\n",
              "      background-color: #E8F0FE;\n",
              "      border: none;\n",
              "      border-radius: 50%;\n",
              "      cursor: pointer;\n",
              "      display: none;\n",
              "      fill: #1967D2;\n",
              "      height: 32px;\n",
              "      padding: 0 0 0 0;\n",
              "      width: 32px;\n",
              "    }\n",
              "\n",
              "    .colab-df-convert:hover {\n",
              "      background-color: #E2EBFA;\n",
              "      box-shadow: 0px 1px 2px rgba(60, 64, 67, 0.3), 0px 1px 3px 1px rgba(60, 64, 67, 0.15);\n",
              "      fill: #174EA6;\n",
              "    }\n",
              "\n",
              "    [theme=dark] .colab-df-convert {\n",
              "      background-color: #3B4455;\n",
              "      fill: #D2E3FC;\n",
              "    }\n",
              "\n",
              "    [theme=dark] .colab-df-convert:hover {\n",
              "      background-color: #434B5C;\n",
              "      box-shadow: 0px 1px 3px 1px rgba(0, 0, 0, 0.15);\n",
              "      filter: drop-shadow(0px 1px 2px rgba(0, 0, 0, 0.3));\n",
              "      fill: #FFFFFF;\n",
              "    }\n",
              "  </style>\n",
              "\n",
              "      <script>\n",
              "        const buttonEl =\n",
              "          document.querySelector('#df-ea983a05-120b-4e59-899f-258836ee1ad6 button.colab-df-convert');\n",
              "        buttonEl.style.display =\n",
              "          google.colab.kernel.accessAllowed ? 'block' : 'none';\n",
              "\n",
              "        async function convertToInteractive(key) {\n",
              "          const element = document.querySelector('#df-ea983a05-120b-4e59-899f-258836ee1ad6');\n",
              "          const dataTable =\n",
              "            await google.colab.kernel.invokeFunction('convertToInteractive',\n",
              "                                                     [key], {});\n",
              "          if (!dataTable) return;\n",
              "\n",
              "          const docLinkHtml = 'Like what you see? Visit the ' +\n",
              "            '<a target=\"_blank\" href=https://colab.research.google.com/notebooks/data_table.ipynb>data table notebook</a>'\n",
              "            + ' to learn more about interactive tables.';\n",
              "          element.innerHTML = '';\n",
              "          dataTable['output_type'] = 'display_data';\n",
              "          await google.colab.output.renderOutput(dataTable, element);\n",
              "          const docLink = document.createElement('div');\n",
              "          docLink.innerHTML = docLinkHtml;\n",
              "          element.appendChild(docLink);\n",
              "        }\n",
              "      </script>\n",
              "    </div>\n",
              "  </div>\n",
              "  "
            ],
            "text/plain": [
              "             size\n",
              "corpus           \n",
              "CORPEPEN  7281561"
            ]
          },
          "metadata": {},
          "execution_count": 14
        }
      ]
    },
    {
      "cell_type": "code",
      "source": [
        "corpus = corpora.activate(corpus_name=\"CORPEPEN\")"
      ],
      "metadata": {
        "id": "lYlpsI_S8jxh"
      },
      "execution_count": null,
      "outputs": []
    },
    {
      "cell_type": "code",
      "source": [
        "from ccc import Corpus\n",
        "corpus = Corpus(\n",
        "  corpus_name=\"CORPEPEN\",\n",
        "  registry_path=\"/usr/local/share/cwb/registry/\"\n",
        ")"
      ],
      "metadata": {
        "id": "uOfw-7u84r0X"
      },
      "execution_count": null,
      "outputs": []
    },
    {
      "cell_type": "code",
      "source": [],
      "metadata": {
        "id": "vc86l2Hk5ndI"
      },
      "execution_count": null,
      "outputs": []
    },
    {
      "cell_type": "code",
      "source": [
        "query = r'\"value\"'"
      ],
      "metadata": {
        "id": "sa0WlSYs5Yxm"
      },
      "execution_count": null,
      "outputs": []
    },
    {
      "cell_type": "code",
      "source": [
        "query = '[word=\"the\"]'"
      ],
      "metadata": {
        "id": "stCqdDpb6m6O"
      },
      "execution_count": null,
      "outputs": []
    },
    {
      "cell_type": "code",
      "source": [
        "dump = corpus.query(query)"
      ],
      "metadata": {
        "id": "z72hIb4e6GJZ"
      },
      "execution_count": null,
      "outputs": []
    },
    {
      "cell_type": "code",
      "source": [
        "dump = corpus.query(\n",
        "    '[word=\"quest.*\"]',\n",
        "    context=10\n",
        ")"
      ],
      "metadata": {
        "id": "pymIfw9v4phW"
      },
      "execution_count": null,
      "outputs": []
    },
    {
      "cell_type": "code",
      "source": [
        "lines = dump.concordance(\n",
        "    form='dict'\n",
        ")"
      ],
      "metadata": {
        "id": "NW8wN5g49_-l"
      },
      "execution_count": null,
      "outputs": []
    },
    {
      "cell_type": "code",
      "source": [
        "lines"
      ],
      "metadata": {
        "colab": {
          "base_uri": "https://localhost:8080/",
          "height": 450
        },
        "id": "k0auuXdA-Gja",
        "outputId": "bce5f170-637e-4717-c2bc-dba5bab7d695"
      },
      "execution_count": null,
      "outputs": [
        {
          "output_type": "execute_result",
          "data": {
            "text/html": [
              "\n",
              "  <div id=\"df-f87adf83-53ee-47ff-b67e-be0ec7ffe3cf\">\n",
              "    <div class=\"colab-df-container\">\n",
              "      <div>\n",
              "<style scoped>\n",
              "    .dataframe tbody tr th:only-of-type {\n",
              "        vertical-align: middle;\n",
              "    }\n",
              "\n",
              "    .dataframe tbody tr th {\n",
              "        vertical-align: top;\n",
              "    }\n",
              "\n",
              "    .dataframe thead th {\n",
              "        text-align: right;\n",
              "    }\n",
              "</style>\n",
              "<table border=\"1\" class=\"dataframe\">\n",
              "  <thead>\n",
              "    <tr style=\"text-align: right;\">\n",
              "      <th></th>\n",
              "      <th></th>\n",
              "      <th>context</th>\n",
              "      <th>contextend</th>\n",
              "      <th>dict</th>\n",
              "    </tr>\n",
              "    <tr>\n",
              "      <th>match</th>\n",
              "      <th>matchend</th>\n",
              "      <th></th>\n",
              "      <th></th>\n",
              "      <th></th>\n",
              "    </tr>\n",
              "  </thead>\n",
              "  <tbody>\n",
              "    <tr>\n",
              "      <th>2819</th>\n",
              "      <th>2819</th>\n",
              "      <td>2799</td>\n",
              "      <td>2839</td>\n",
              "      <td>{'cpos': [2799, 2800, 2801, 2802, 2803, 2804, ...</td>\n",
              "    </tr>\n",
              "    <tr>\n",
              "      <th>4589</th>\n",
              "      <th>4589</th>\n",
              "      <td>4569</td>\n",
              "      <td>4609</td>\n",
              "      <td>{'cpos': [4569, 4570, 4571, 4572, 4573, 4574, ...</td>\n",
              "    </tr>\n",
              "    <tr>\n",
              "      <th>15705</th>\n",
              "      <th>15705</th>\n",
              "      <td>15685</td>\n",
              "      <td>15725</td>\n",
              "      <td>{'cpos': [15685, 15686, 15687, 15688, 15689, 1...</td>\n",
              "    </tr>\n",
              "    <tr>\n",
              "      <th>22098</th>\n",
              "      <th>22098</th>\n",
              "      <td>22078</td>\n",
              "      <td>22118</td>\n",
              "      <td>{'cpos': [22078, 22079, 22080, 22081, 22082, 2...</td>\n",
              "    </tr>\n",
              "    <tr>\n",
              "      <th>23642</th>\n",
              "      <th>23642</th>\n",
              "      <td>23622</td>\n",
              "      <td>23662</td>\n",
              "      <td>{'cpos': [23622, 23623, 23624, 23625, 23626, 2...</td>\n",
              "    </tr>\n",
              "    <tr>\n",
              "      <th>...</th>\n",
              "      <th>...</th>\n",
              "      <td>...</td>\n",
              "      <td>...</td>\n",
              "      <td>...</td>\n",
              "    </tr>\n",
              "    <tr>\n",
              "      <th>372781</th>\n",
              "      <th>372781</th>\n",
              "      <td>372761</td>\n",
              "      <td>372801</td>\n",
              "      <td>{'cpos': [372761, 372762, 372763, 372764, 3727...</td>\n",
              "    </tr>\n",
              "    <tr>\n",
              "      <th>385062</th>\n",
              "      <th>385062</th>\n",
              "      <td>385042</td>\n",
              "      <td>385082</td>\n",
              "      <td>{'cpos': [385042, 385043, 385044, 385045, 3850...</td>\n",
              "    </tr>\n",
              "    <tr>\n",
              "      <th>386601</th>\n",
              "      <th>386601</th>\n",
              "      <td>386581</td>\n",
              "      <td>386621</td>\n",
              "      <td>{'cpos': [386581, 386582, 386583, 386584, 3865...</td>\n",
              "    </tr>\n",
              "    <tr>\n",
              "      <th>386658</th>\n",
              "      <th>386658</th>\n",
              "      <td>386638</td>\n",
              "      <td>386678</td>\n",
              "      <td>{'cpos': [386638, 386639, 386640, 386641, 3866...</td>\n",
              "    </tr>\n",
              "    <tr>\n",
              "      <th>391180</th>\n",
              "      <th>391180</th>\n",
              "      <td>391160</td>\n",
              "      <td>391200</td>\n",
              "      <td>{'cpos': [391160, 391161, 391162, 391163, 3911...</td>\n",
              "    </tr>\n",
              "  </tbody>\n",
              "</table>\n",
              "<p>100 rows × 3 columns</p>\n",
              "</div>\n",
              "      <button class=\"colab-df-convert\" onclick=\"convertToInteractive('df-f87adf83-53ee-47ff-b67e-be0ec7ffe3cf')\"\n",
              "              title=\"Convert this dataframe to an interactive table.\"\n",
              "              style=\"display:none;\">\n",
              "        \n",
              "  <svg xmlns=\"http://www.w3.org/2000/svg\" height=\"24px\"viewBox=\"0 0 24 24\"\n",
              "       width=\"24px\">\n",
              "    <path d=\"M0 0h24v24H0V0z\" fill=\"none\"/>\n",
              "    <path d=\"M18.56 5.44l.94 2.06.94-2.06 2.06-.94-2.06-.94-.94-2.06-.94 2.06-2.06.94zm-11 1L8.5 8.5l.94-2.06 2.06-.94-2.06-.94L8.5 2.5l-.94 2.06-2.06.94zm10 10l.94 2.06.94-2.06 2.06-.94-2.06-.94-.94-2.06-.94 2.06-2.06.94z\"/><path d=\"M17.41 7.96l-1.37-1.37c-.4-.4-.92-.59-1.43-.59-.52 0-1.04.2-1.43.59L10.3 9.45l-7.72 7.72c-.78.78-.78 2.05 0 2.83L4 21.41c.39.39.9.59 1.41.59.51 0 1.02-.2 1.41-.59l7.78-7.78 2.81-2.81c.8-.78.8-2.07 0-2.86zM5.41 20L4 18.59l7.72-7.72 1.47 1.35L5.41 20z\"/>\n",
              "  </svg>\n",
              "      </button>\n",
              "      \n",
              "  <style>\n",
              "    .colab-df-container {\n",
              "      display:flex;\n",
              "      flex-wrap:wrap;\n",
              "      gap: 12px;\n",
              "    }\n",
              "\n",
              "    .colab-df-convert {\n",
              "      background-color: #E8F0FE;\n",
              "      border: none;\n",
              "      border-radius: 50%;\n",
              "      cursor: pointer;\n",
              "      display: none;\n",
              "      fill: #1967D2;\n",
              "      height: 32px;\n",
              "      padding: 0 0 0 0;\n",
              "      width: 32px;\n",
              "    }\n",
              "\n",
              "    .colab-df-convert:hover {\n",
              "      background-color: #E2EBFA;\n",
              "      box-shadow: 0px 1px 2px rgba(60, 64, 67, 0.3), 0px 1px 3px 1px rgba(60, 64, 67, 0.15);\n",
              "      fill: #174EA6;\n",
              "    }\n",
              "\n",
              "    [theme=dark] .colab-df-convert {\n",
              "      background-color: #3B4455;\n",
              "      fill: #D2E3FC;\n",
              "    }\n",
              "\n",
              "    [theme=dark] .colab-df-convert:hover {\n",
              "      background-color: #434B5C;\n",
              "      box-shadow: 0px 1px 3px 1px rgba(0, 0, 0, 0.15);\n",
              "      filter: drop-shadow(0px 1px 2px rgba(0, 0, 0, 0.3));\n",
              "      fill: #FFFFFF;\n",
              "    }\n",
              "  </style>\n",
              "\n",
              "      <script>\n",
              "        const buttonEl =\n",
              "          document.querySelector('#df-f87adf83-53ee-47ff-b67e-be0ec7ffe3cf button.colab-df-convert');\n",
              "        buttonEl.style.display =\n",
              "          google.colab.kernel.accessAllowed ? 'block' : 'none';\n",
              "\n",
              "        async function convertToInteractive(key) {\n",
              "          const element = document.querySelector('#df-f87adf83-53ee-47ff-b67e-be0ec7ffe3cf');\n",
              "          const dataTable =\n",
              "            await google.colab.kernel.invokeFunction('convertToInteractive',\n",
              "                                                     [key], {});\n",
              "          if (!dataTable) return;\n",
              "\n",
              "          const docLinkHtml = 'Like what you see? Visit the ' +\n",
              "            '<a target=\"_blank\" href=https://colab.research.google.com/notebooks/data_table.ipynb>data table notebook</a>'\n",
              "            + ' to learn more about interactive tables.';\n",
              "          element.innerHTML = '';\n",
              "          dataTable['output_type'] = 'display_data';\n",
              "          await google.colab.output.renderOutput(dataTable, element);\n",
              "          const docLink = document.createElement('div');\n",
              "          docLink.innerHTML = docLinkHtml;\n",
              "          element.appendChild(docLink);\n",
              "        }\n",
              "      </script>\n",
              "    </div>\n",
              "  </div>\n",
              "  "
            ],
            "text/plain": [
              "                 context  ...                                               dict\n",
              "match  matchend           ...                                                   \n",
              "2819   2819         2799  ...  {'cpos': [2799, 2800, 2801, 2802, 2803, 2804, ...\n",
              "4589   4589         4569  ...  {'cpos': [4569, 4570, 4571, 4572, 4573, 4574, ...\n",
              "15705  15705       15685  ...  {'cpos': [15685, 15686, 15687, 15688, 15689, 1...\n",
              "22098  22098       22078  ...  {'cpos': [22078, 22079, 22080, 22081, 22082, 2...\n",
              "23642  23642       23622  ...  {'cpos': [23622, 23623, 23624, 23625, 23626, 2...\n",
              "...                  ...  ...                                                ...\n",
              "372781 372781     372761  ...  {'cpos': [372761, 372762, 372763, 372764, 3727...\n",
              "385062 385062     385042  ...  {'cpos': [385042, 385043, 385044, 385045, 3850...\n",
              "386601 386601     386581  ...  {'cpos': [386581, 386582, 386583, 386584, 3865...\n",
              "386658 386658     386638  ...  {'cpos': [386638, 386639, 386640, 386641, 3866...\n",
              "391180 391180     391160  ...  {'cpos': [391160, 391161, 391162, 391163, 3911...\n",
              "\n",
              "[100 rows x 3 columns]"
            ]
          },
          "metadata": {},
          "execution_count": 121
        }
      ]
    },
    {
      "cell_type": "code",
      "source": [
        "dump = corpus.query(\n",
        "  cqp_query=query,\n",
        "  context=5\n",
        ")"
      ],
      "metadata": {
        "id": "Lj8Lbyc5-v3J"
      },
      "execution_count": null,
      "outputs": []
    },
    {
      "cell_type": "code",
      "source": [
        "dump.df"
      ],
      "metadata": {
        "colab": {
          "base_uri": "https://localhost:8080/",
          "height": 450
        },
        "id": "-y3z0khj_OSD",
        "outputId": "cd3227dc-dcc6-43d7-cbd4-0ef789a59ffa"
      },
      "execution_count": null,
      "outputs": [
        {
          "output_type": "execute_result",
          "data": {
            "text/html": [
              "\n",
              "  <div id=\"df-be8ec7a5-6188-4288-8b3c-6eeb575235b4\">\n",
              "    <div class=\"colab-df-container\">\n",
              "      <div>\n",
              "<style scoped>\n",
              "    .dataframe tbody tr th:only-of-type {\n",
              "        vertical-align: middle;\n",
              "    }\n",
              "\n",
              "    .dataframe tbody tr th {\n",
              "        vertical-align: top;\n",
              "    }\n",
              "\n",
              "    .dataframe thead th {\n",
              "        text-align: right;\n",
              "    }\n",
              "</style>\n",
              "<table border=\"1\" class=\"dataframe\">\n",
              "  <thead>\n",
              "    <tr style=\"text-align: right;\">\n",
              "      <th></th>\n",
              "      <th></th>\n",
              "      <th>context</th>\n",
              "      <th>contextend</th>\n",
              "    </tr>\n",
              "    <tr>\n",
              "      <th>match</th>\n",
              "      <th>matchend</th>\n",
              "      <th></th>\n",
              "      <th></th>\n",
              "    </tr>\n",
              "  </thead>\n",
              "  <tbody>\n",
              "    <tr>\n",
              "      <th>2819</th>\n",
              "      <th>2819</th>\n",
              "      <td>2809</td>\n",
              "      <td>2829</td>\n",
              "    </tr>\n",
              "    <tr>\n",
              "      <th>4589</th>\n",
              "      <th>4589</th>\n",
              "      <td>4579</td>\n",
              "      <td>4599</td>\n",
              "    </tr>\n",
              "    <tr>\n",
              "      <th>15705</th>\n",
              "      <th>15705</th>\n",
              "      <td>15695</td>\n",
              "      <td>15715</td>\n",
              "    </tr>\n",
              "    <tr>\n",
              "      <th>22098</th>\n",
              "      <th>22098</th>\n",
              "      <td>22088</td>\n",
              "      <td>22108</td>\n",
              "    </tr>\n",
              "    <tr>\n",
              "      <th>23642</th>\n",
              "      <th>23642</th>\n",
              "      <td>23632</td>\n",
              "      <td>23652</td>\n",
              "    </tr>\n",
              "    <tr>\n",
              "      <th>...</th>\n",
              "      <th>...</th>\n",
              "      <td>...</td>\n",
              "      <td>...</td>\n",
              "    </tr>\n",
              "    <tr>\n",
              "      <th>7932213</th>\n",
              "      <th>7932213</th>\n",
              "      <td>7932203</td>\n",
              "      <td>7932223</td>\n",
              "    </tr>\n",
              "    <tr>\n",
              "      <th>7932223</th>\n",
              "      <th>7932223</th>\n",
              "      <td>7932213</td>\n",
              "      <td>7932233</td>\n",
              "    </tr>\n",
              "    <tr>\n",
              "      <th>7949447</th>\n",
              "      <th>7949447</th>\n",
              "      <td>7949437</td>\n",
              "      <td>7949457</td>\n",
              "    </tr>\n",
              "    <tr>\n",
              "      <th>7951869</th>\n",
              "      <th>7951869</th>\n",
              "      <td>7951859</td>\n",
              "      <td>7951879</td>\n",
              "    </tr>\n",
              "    <tr>\n",
              "      <th>7953543</th>\n",
              "      <th>7953543</th>\n",
              "      <td>7953533</td>\n",
              "      <td>7953553</td>\n",
              "    </tr>\n",
              "  </tbody>\n",
              "</table>\n",
              "<p>2140 rows × 2 columns</p>\n",
              "</div>\n",
              "      <button class=\"colab-df-convert\" onclick=\"convertToInteractive('df-be8ec7a5-6188-4288-8b3c-6eeb575235b4')\"\n",
              "              title=\"Convert this dataframe to an interactive table.\"\n",
              "              style=\"display:none;\">\n",
              "        \n",
              "  <svg xmlns=\"http://www.w3.org/2000/svg\" height=\"24px\"viewBox=\"0 0 24 24\"\n",
              "       width=\"24px\">\n",
              "    <path d=\"M0 0h24v24H0V0z\" fill=\"none\"/>\n",
              "    <path d=\"M18.56 5.44l.94 2.06.94-2.06 2.06-.94-2.06-.94-.94-2.06-.94 2.06-2.06.94zm-11 1L8.5 8.5l.94-2.06 2.06-.94-2.06-.94L8.5 2.5l-.94 2.06-2.06.94zm10 10l.94 2.06.94-2.06 2.06-.94-2.06-.94-.94-2.06-.94 2.06-2.06.94z\"/><path d=\"M17.41 7.96l-1.37-1.37c-.4-.4-.92-.59-1.43-.59-.52 0-1.04.2-1.43.59L10.3 9.45l-7.72 7.72c-.78.78-.78 2.05 0 2.83L4 21.41c.39.39.9.59 1.41.59.51 0 1.02-.2 1.41-.59l7.78-7.78 2.81-2.81c.8-.78.8-2.07 0-2.86zM5.41 20L4 18.59l7.72-7.72 1.47 1.35L5.41 20z\"/>\n",
              "  </svg>\n",
              "      </button>\n",
              "      \n",
              "  <style>\n",
              "    .colab-df-container {\n",
              "      display:flex;\n",
              "      flex-wrap:wrap;\n",
              "      gap: 12px;\n",
              "    }\n",
              "\n",
              "    .colab-df-convert {\n",
              "      background-color: #E8F0FE;\n",
              "      border: none;\n",
              "      border-radius: 50%;\n",
              "      cursor: pointer;\n",
              "      display: none;\n",
              "      fill: #1967D2;\n",
              "      height: 32px;\n",
              "      padding: 0 0 0 0;\n",
              "      width: 32px;\n",
              "    }\n",
              "\n",
              "    .colab-df-convert:hover {\n",
              "      background-color: #E2EBFA;\n",
              "      box-shadow: 0px 1px 2px rgba(60, 64, 67, 0.3), 0px 1px 3px 1px rgba(60, 64, 67, 0.15);\n",
              "      fill: #174EA6;\n",
              "    }\n",
              "\n",
              "    [theme=dark] .colab-df-convert {\n",
              "      background-color: #3B4455;\n",
              "      fill: #D2E3FC;\n",
              "    }\n",
              "\n",
              "    [theme=dark] .colab-df-convert:hover {\n",
              "      background-color: #434B5C;\n",
              "      box-shadow: 0px 1px 3px 1px rgba(0, 0, 0, 0.15);\n",
              "      filter: drop-shadow(0px 1px 2px rgba(0, 0, 0, 0.3));\n",
              "      fill: #FFFFFF;\n",
              "    }\n",
              "  </style>\n",
              "\n",
              "      <script>\n",
              "        const buttonEl =\n",
              "          document.querySelector('#df-be8ec7a5-6188-4288-8b3c-6eeb575235b4 button.colab-df-convert');\n",
              "        buttonEl.style.display =\n",
              "          google.colab.kernel.accessAllowed ? 'block' : 'none';\n",
              "\n",
              "        async function convertToInteractive(key) {\n",
              "          const element = document.querySelector('#df-be8ec7a5-6188-4288-8b3c-6eeb575235b4');\n",
              "          const dataTable =\n",
              "            await google.colab.kernel.invokeFunction('convertToInteractive',\n",
              "                                                     [key], {});\n",
              "          if (!dataTable) return;\n",
              "\n",
              "          const docLinkHtml = 'Like what you see? Visit the ' +\n",
              "            '<a target=\"_blank\" href=https://colab.research.google.com/notebooks/data_table.ipynb>data table notebook</a>'\n",
              "            + ' to learn more about interactive tables.';\n",
              "          element.innerHTML = '';\n",
              "          dataTable['output_type'] = 'display_data';\n",
              "          await google.colab.output.renderOutput(dataTable, element);\n",
              "          const docLink = document.createElement('div');\n",
              "          docLink.innerHTML = docLinkHtml;\n",
              "          element.appendChild(docLink);\n",
              "        }\n",
              "      </script>\n",
              "    </div>\n",
              "  </div>\n",
              "  "
            ],
            "text/plain": [
              "                  context  contextend\n",
              "match   matchend                     \n",
              "2819    2819         2809        2829\n",
              "4589    4589         4579        4599\n",
              "15705   15705       15695       15715\n",
              "22098   22098       22088       22108\n",
              "23642   23642       23632       23652\n",
              "...                   ...         ...\n",
              "7932213 7932213   7932203     7932223\n",
              "7932223 7932223   7932213     7932233\n",
              "7949447 7949447   7949437     7949457\n",
              "7951869 7951869   7951859     7951879\n",
              "7953543 7953543   7953533     7953553\n",
              "\n",
              "[2140 rows x 2 columns]"
            ]
          },
          "metadata": {},
          "execution_count": 124
        }
      ]
    },
    {
      "cell_type": "code",
      "source": [
        "dump.concordance(form=\"kwic\", cut_off=None)"
      ],
      "metadata": {
        "colab": {
          "base_uri": "https://localhost:8080/",
          "height": 450
        },
        "id": "Pc_8FJ6L-4KO",
        "outputId": "3a81c1cd-d82c-4a49-d064-7894d2ccff91"
      },
      "execution_count": null,
      "outputs": [
        {
          "output_type": "execute_result",
          "data": {
            "text/html": [
              "\n",
              "  <div id=\"df-daebbcd9-8b79-4588-97d4-cad52b8f5d68\">\n",
              "    <div class=\"colab-df-container\">\n",
              "      <div>\n",
              "<style scoped>\n",
              "    .dataframe tbody tr th:only-of-type {\n",
              "        vertical-align: middle;\n",
              "    }\n",
              "\n",
              "    .dataframe tbody tr th {\n",
              "        vertical-align: top;\n",
              "    }\n",
              "\n",
              "    .dataframe thead th {\n",
              "        text-align: right;\n",
              "    }\n",
              "</style>\n",
              "<table border=\"1\" class=\"dataframe\">\n",
              "  <thead>\n",
              "    <tr style=\"text-align: right;\">\n",
              "      <th></th>\n",
              "      <th></th>\n",
              "      <th>left_word</th>\n",
              "      <th>node_word</th>\n",
              "      <th>right_word</th>\n",
              "    </tr>\n",
              "    <tr>\n",
              "      <th>match</th>\n",
              "      <th>matchend</th>\n",
              "      <th></th>\n",
              "      <th></th>\n",
              "      <th></th>\n",
              "    </tr>\n",
              "  </thead>\n",
              "  <tbody>\n",
              "    <tr>\n",
              "      <th>2819</th>\n",
              "      <th>2819</th>\n",
              "      <td>and addition relate to achieve what be know as \"</td>\n",
              "      <td>value</td>\n",
              "      <td>for money \" indicator in the grant-giving proc...</td>\n",
              "    </tr>\n",
              "    <tr>\n",
              "      <th>4589</th>\n",
              "      <th>4589</th>\n",
              "      <td>the figure for last year now show that the total</td>\n",
              "      <td>value</td>\n",
              "      <td>of merger in the European area be EUR @card@ t...</td>\n",
              "    </tr>\n",
              "    <tr>\n",
              "      <th>15705</th>\n",
              "      <th>15705</th>\n",
              "      <td>I be not sure that it would add much practical</td>\n",
              "      <td>value</td>\n",
              "      <td>to our effort . it would be unlikely to have</td>\n",
              "    </tr>\n",
              "    <tr>\n",
              "      <th>22098</th>\n",
              "      <th>22098</th>\n",
              "      <td>as a former official - and I think that the</td>\n",
              "      <td>value</td>\n",
              "      <td>of that be show by his ability to tackle the</td>\n",
              "    </tr>\n",
              "    <tr>\n",
              "      <th>23642</th>\n",
              "      <th>23642</th>\n",
              "      <td>we be at one in the belief that there be</td>\n",
              "      <td>value</td>\n",
              "      <td>in define the well possible mechanism for this...</td>\n",
              "    </tr>\n",
              "    <tr>\n",
              "      <th>...</th>\n",
              "      <th>...</th>\n",
              "      <td>...</td>\n",
              "      <td>...</td>\n",
              "      <td>...</td>\n",
              "    </tr>\n",
              "    <tr>\n",
              "      <th>7932213</th>\n",
              "      <th>7932213</th>\n",
              "      <td>Kong , we would not be true to our own</td>\n",
              "      <td>value</td>\n",
              "      <td>, if we do not speak out when those value</td>\n",
              "    </tr>\n",
              "    <tr>\n",
              "      <th>7932223</th>\n",
              "      <th>7932223</th>\n",
              "      <td>value , if we do not speak out when those</td>\n",
              "      <td>value</td>\n",
              "      <td>appear to us to be under threat . What sensible</td>\n",
              "    </tr>\n",
              "    <tr>\n",
              "      <th>7949447</th>\n",
              "      <th>7949447</th>\n",
              "      <td>to sell that beef into our market , at good</td>\n",
              "      <td>value</td>\n",
              "      <td>to our consumer , and if we be to put</td>\n",
              "    </tr>\n",
              "    <tr>\n",
              "      <th>7951869</th>\n",
              "      <th>7951869</th>\n",
              "      <td>Kingdom , we have a long political debate over...</td>\n",
              "      <td>value</td>\n",
              "      <td>of resale price maintenance apply to book . th...</td>\n",
              "    </tr>\n",
              "    <tr>\n",
              "      <th>7953543</th>\n",
              "      <th>7953543</th>\n",
              "      <td>money . but the poor respect both education an...</td>\n",
              "      <td>value</td>\n",
              "      <td>and they respect democracy . soon there will b...</td>\n",
              "    </tr>\n",
              "  </tbody>\n",
              "</table>\n",
              "<p>2140 rows × 3 columns</p>\n",
              "</div>\n",
              "      <button class=\"colab-df-convert\" onclick=\"convertToInteractive('df-daebbcd9-8b79-4588-97d4-cad52b8f5d68')\"\n",
              "              title=\"Convert this dataframe to an interactive table.\"\n",
              "              style=\"display:none;\">\n",
              "        \n",
              "  <svg xmlns=\"http://www.w3.org/2000/svg\" height=\"24px\"viewBox=\"0 0 24 24\"\n",
              "       width=\"24px\">\n",
              "    <path d=\"M0 0h24v24H0V0z\" fill=\"none\"/>\n",
              "    <path d=\"M18.56 5.44l.94 2.06.94-2.06 2.06-.94-2.06-.94-.94-2.06-.94 2.06-2.06.94zm-11 1L8.5 8.5l.94-2.06 2.06-.94-2.06-.94L8.5 2.5l-.94 2.06-2.06.94zm10 10l.94 2.06.94-2.06 2.06-.94-2.06-.94-.94-2.06-.94 2.06-2.06.94z\"/><path d=\"M17.41 7.96l-1.37-1.37c-.4-.4-.92-.59-1.43-.59-.52 0-1.04.2-1.43.59L10.3 9.45l-7.72 7.72c-.78.78-.78 2.05 0 2.83L4 21.41c.39.39.9.59 1.41.59.51 0 1.02-.2 1.41-.59l7.78-7.78 2.81-2.81c.8-.78.8-2.07 0-2.86zM5.41 20L4 18.59l7.72-7.72 1.47 1.35L5.41 20z\"/>\n",
              "  </svg>\n",
              "      </button>\n",
              "      \n",
              "  <style>\n",
              "    .colab-df-container {\n",
              "      display:flex;\n",
              "      flex-wrap:wrap;\n",
              "      gap: 12px;\n",
              "    }\n",
              "\n",
              "    .colab-df-convert {\n",
              "      background-color: #E8F0FE;\n",
              "      border: none;\n",
              "      border-radius: 50%;\n",
              "      cursor: pointer;\n",
              "      display: none;\n",
              "      fill: #1967D2;\n",
              "      height: 32px;\n",
              "      padding: 0 0 0 0;\n",
              "      width: 32px;\n",
              "    }\n",
              "\n",
              "    .colab-df-convert:hover {\n",
              "      background-color: #E2EBFA;\n",
              "      box-shadow: 0px 1px 2px rgba(60, 64, 67, 0.3), 0px 1px 3px 1px rgba(60, 64, 67, 0.15);\n",
              "      fill: #174EA6;\n",
              "    }\n",
              "\n",
              "    [theme=dark] .colab-df-convert {\n",
              "      background-color: #3B4455;\n",
              "      fill: #D2E3FC;\n",
              "    }\n",
              "\n",
              "    [theme=dark] .colab-df-convert:hover {\n",
              "      background-color: #434B5C;\n",
              "      box-shadow: 0px 1px 3px 1px rgba(0, 0, 0, 0.15);\n",
              "      filter: drop-shadow(0px 1px 2px rgba(0, 0, 0, 0.3));\n",
              "      fill: #FFFFFF;\n",
              "    }\n",
              "  </style>\n",
              "\n",
              "      <script>\n",
              "        const buttonEl =\n",
              "          document.querySelector('#df-daebbcd9-8b79-4588-97d4-cad52b8f5d68 button.colab-df-convert');\n",
              "        buttonEl.style.display =\n",
              "          google.colab.kernel.accessAllowed ? 'block' : 'none';\n",
              "\n",
              "        async function convertToInteractive(key) {\n",
              "          const element = document.querySelector('#df-daebbcd9-8b79-4588-97d4-cad52b8f5d68');\n",
              "          const dataTable =\n",
              "            await google.colab.kernel.invokeFunction('convertToInteractive',\n",
              "                                                     [key], {});\n",
              "          if (!dataTable) return;\n",
              "\n",
              "          const docLinkHtml = 'Like what you see? Visit the ' +\n",
              "            '<a target=\"_blank\" href=https://colab.research.google.com/notebooks/data_table.ipynb>data table notebook</a>'\n",
              "            + ' to learn more about interactive tables.';\n",
              "          element.innerHTML = '';\n",
              "          dataTable['output_type'] = 'display_data';\n",
              "          await google.colab.output.renderOutput(dataTable, element);\n",
              "          const docLink = document.createElement('div');\n",
              "          docLink.innerHTML = docLinkHtml;\n",
              "          element.appendChild(docLink);\n",
              "        }\n",
              "      </script>\n",
              "    </div>\n",
              "  </div>\n",
              "  "
            ],
            "text/plain": [
              "                                                          left_word  ...                                         right_word\n",
              "match   matchend                                                     ...                                                   \n",
              "2819    2819       and addition relate to achieve what be know as \"  ...  for money \" indicator in the grant-giving proc...\n",
              "4589    4589       the figure for last year now show that the total  ...  of merger in the European area be EUR @card@ t...\n",
              "15705   15705        I be not sure that it would add much practical  ...       to our effort . it would be unlikely to have\n",
              "22098   22098           as a former official - and I think that the  ...       of that be show by his ability to tackle the\n",
              "23642   23642              we be at one in the belief that there be  ...  in define the well possible mechanism for this...\n",
              "...                                                             ...  ...                                                ...\n",
              "7932213 7932213              Kong , we would not be true to our own  ...          , if we do not speak out when those value\n",
              "7932223 7932223           value , if we do not speak out when those  ...    appear to us to be under threat . What sensible\n",
              "7949447 7949447         to sell that beef into our market , at good  ...              to our consumer , and if we be to put\n",
              "7951869 7951869   Kingdom , we have a long political debate over...  ...  of resale price maintenance apply to book . th...\n",
              "7953543 7953543   money . but the poor respect both education an...  ...  and they respect democracy . soon there will b...\n",
              "\n",
              "[2140 rows x 3 columns]"
            ]
          },
          "metadata": {},
          "execution_count": 131
        }
      ]
    },
    {
      "cell_type": "code",
      "source": [
        "# dump.collocates\n",
        "# dump.collocates(order='log_likelihood', cut_off=None)\n",
        "#\n",
        "dfColl = dump.collocates(order='mutual_information', cut_off=None)\n",
        "dump.collocates(order='mutual_information', cut_off=None)\n"
      ],
      "metadata": {
        "colab": {
          "base_uri": "https://localhost:8080/",
          "height": 582
        },
        "id": "M2Tv74j2_7ZD",
        "outputId": "60c4a6a1-f25a-456d-cb04-d6ec887f5ee6"
      },
      "execution_count": null,
      "outputs": [
        {
          "output_type": "stream",
          "name": "stderr",
          "text": [
            "specfied p-attribute(s) (\"lemma\") not available\n",
            "falling back to primary layer\n",
            "specfied p-attribute(s) (\"lemma\") not available\n",
            "falling back to primary layer\n"
          ]
        },
        {
          "output_type": "execute_result",
          "data": {
            "text/html": [
              "\n",
              "  <div id=\"df-7d1cf595-bf34-4d0b-8d05-66a8a89fa83a\">\n",
              "    <div class=\"colab-df-container\">\n",
              "      <div>\n",
              "<style scoped>\n",
              "    .dataframe tbody tr th:only-of-type {\n",
              "        vertical-align: middle;\n",
              "    }\n",
              "\n",
              "    .dataframe tbody tr th {\n",
              "        vertical-align: top;\n",
              "    }\n",
              "\n",
              "    .dataframe thead th {\n",
              "        text-align: right;\n",
              "    }\n",
              "</style>\n",
              "<table border=\"1\" class=\"dataframe\">\n",
              "  <thead>\n",
              "    <tr style=\"text-align: right;\">\n",
              "      <th></th>\n",
              "      <th>O11</th>\n",
              "      <th>O12</th>\n",
              "      <th>O21</th>\n",
              "      <th>O22</th>\n",
              "      <th>E11</th>\n",
              "      <th>E12</th>\n",
              "      <th>E21</th>\n",
              "      <th>E22</th>\n",
              "      <th>z_score</th>\n",
              "      <th>t_score</th>\n",
              "      <th>log_likelihood</th>\n",
              "      <th>simple_ll</th>\n",
              "      <th>dice</th>\n",
              "      <th>log_ratio</th>\n",
              "      <th>mutual_information</th>\n",
              "      <th>local_mutual_information</th>\n",
              "      <th>conservative_log_ratio</th>\n",
              "      <th>ipm</th>\n",
              "      <th>ipm_reference</th>\n",
              "      <th>ipm_expected</th>\n",
              "      <th>ipm_reference_expected</th>\n",
              "      <th>in_nodes</th>\n",
              "      <th>marginal</th>\n",
              "    </tr>\n",
              "    <tr>\n",
              "      <th>item</th>\n",
              "      <th></th>\n",
              "      <th></th>\n",
              "      <th></th>\n",
              "      <th></th>\n",
              "      <th></th>\n",
              "      <th></th>\n",
              "      <th></th>\n",
              "      <th></th>\n",
              "      <th></th>\n",
              "      <th></th>\n",
              "      <th></th>\n",
              "      <th></th>\n",
              "      <th></th>\n",
              "      <th></th>\n",
              "      <th></th>\n",
              "      <th></th>\n",
              "      <th></th>\n",
              "      <th></th>\n",
              "      <th></th>\n",
              "      <th></th>\n",
              "      <th></th>\n",
              "      <th></th>\n",
              "      <th></th>\n",
              "    </tr>\n",
              "  </thead>\n",
              "  <tbody>\n",
              "    <tr>\n",
              "      <th>parametric</th>\n",
              "      <td>2</td>\n",
              "      <td>21110</td>\n",
              "      <td>0</td>\n",
              "      <td>7934225</td>\n",
              "      <td>0.005308</td>\n",
              "      <td>21111.994692</td>\n",
              "      <td>1.994692</td>\n",
              "      <td>7.934223e+06</td>\n",
              "      <td>27.379501</td>\n",
              "      <td>1.410460</td>\n",
              "      <td>23.727216</td>\n",
              "      <td>19.737642</td>\n",
              "      <td>0.000189</td>\n",
              "      <td>10.553882</td>\n",
              "      <td>2.576129</td>\n",
              "      <td>5.152258</td>\n",
              "      <td>0.398702</td>\n",
              "      <td>94.732853</td>\n",
              "      <td>0.000000</td>\n",
              "      <td>0.251404</td>\n",
              "      <td>0.251404</td>\n",
              "      <td>0</td>\n",
              "      <td>2</td>\n",
              "    </tr>\n",
              "    <tr>\n",
              "      <th>mg/litre</th>\n",
              "      <td>2</td>\n",
              "      <td>21110</td>\n",
              "      <td>0</td>\n",
              "      <td>7934225</td>\n",
              "      <td>0.005308</td>\n",
              "      <td>21111.994692</td>\n",
              "      <td>1.994692</td>\n",
              "      <td>7.934223e+06</td>\n",
              "      <td>27.379501</td>\n",
              "      <td>1.410460</td>\n",
              "      <td>23.727216</td>\n",
              "      <td>19.737642</td>\n",
              "      <td>0.000189</td>\n",
              "      <td>10.553882</td>\n",
              "      <td>2.576129</td>\n",
              "      <td>5.152258</td>\n",
              "      <td>0.398702</td>\n",
              "      <td>94.732853</td>\n",
              "      <td>0.000000</td>\n",
              "      <td>0.251404</td>\n",
              "      <td>0.251404</td>\n",
              "      <td>0</td>\n",
              "      <td>2</td>\n",
              "    </tr>\n",
              "    <tr>\n",
              "      <th>calorific</th>\n",
              "      <td>2</td>\n",
              "      <td>21110</td>\n",
              "      <td>0</td>\n",
              "      <td>7934225</td>\n",
              "      <td>0.005308</td>\n",
              "      <td>21111.994692</td>\n",
              "      <td>1.994692</td>\n",
              "      <td>7.934223e+06</td>\n",
              "      <td>27.379501</td>\n",
              "      <td>1.410460</td>\n",
              "      <td>23.727216</td>\n",
              "      <td>19.737642</td>\n",
              "      <td>0.000189</td>\n",
              "      <td>10.553882</td>\n",
              "      <td>2.576129</td>\n",
              "      <td>5.152258</td>\n",
              "      <td>0.398702</td>\n",
              "      <td>94.732853</td>\n",
              "      <td>0.000000</td>\n",
              "      <td>0.251404</td>\n",
              "      <td>0.251404</td>\n",
              "      <td>0</td>\n",
              "      <td>2</td>\n",
              "    </tr>\n",
              "    <tr>\n",
              "      <th>added</th>\n",
              "      <td>202</td>\n",
              "      <td>20910</td>\n",
              "      <td>52</td>\n",
              "      <td>7934173</td>\n",
              "      <td>0.674069</td>\n",
              "      <td>21111.325931</td>\n",
              "      <td>253.325931</td>\n",
              "      <td>7.933972e+06</td>\n",
              "      <td>245.215241</td>\n",
              "      <td>14.165243</td>\n",
              "      <td>2141.140925</td>\n",
              "      <td>1901.234953</td>\n",
              "      <td>0.018909</td>\n",
              "      <td>10.511654</td>\n",
              "      <td>2.476647</td>\n",
              "      <td>500.282665</td>\n",
              "      <td>9.513875</td>\n",
              "      <td>9568.018189</td>\n",
              "      <td>6.553885</td>\n",
              "      <td>31.928251</td>\n",
              "      <td>31.928251</td>\n",
              "      <td>0</td>\n",
              "      <td>254</td>\n",
              "    </tr>\n",
              "    <tr>\n",
              "      <th>tax-based</th>\n",
              "      <td>2</td>\n",
              "      <td>21110</td>\n",
              "      <td>1</td>\n",
              "      <td>7934224</td>\n",
              "      <td>0.007961</td>\n",
              "      <td>21111.992039</td>\n",
              "      <td>2.992039</td>\n",
              "      <td>7.934222e+06</td>\n",
              "      <td>22.325527</td>\n",
              "      <td>1.408584</td>\n",
              "      <td>19.913445</td>\n",
              "      <td>18.121089</td>\n",
              "      <td>0.000189</td>\n",
              "      <td>9.553882</td>\n",
              "      <td>2.400038</td>\n",
              "      <td>4.800076</td>\n",
              "      <td>1.687763</td>\n",
              "      <td>94.732853</td>\n",
              "      <td>0.126036</td>\n",
              "      <td>0.377105</td>\n",
              "      <td>0.377105</td>\n",
              "      <td>0</td>\n",
              "      <td>3</td>\n",
              "    </tr>\n",
              "    <tr>\n",
              "      <th>...</th>\n",
              "      <td>...</td>\n",
              "      <td>...</td>\n",
              "      <td>...</td>\n",
              "      <td>...</td>\n",
              "      <td>...</td>\n",
              "      <td>...</td>\n",
              "      <td>...</td>\n",
              "      <td>...</td>\n",
              "      <td>...</td>\n",
              "      <td>...</td>\n",
              "      <td>...</td>\n",
              "      <td>...</td>\n",
              "      <td>...</td>\n",
              "      <td>...</td>\n",
              "      <td>...</td>\n",
              "      <td>...</td>\n",
              "      <td>...</td>\n",
              "      <td>...</td>\n",
              "      <td>...</td>\n",
              "      <td>...</td>\n",
              "      <td>...</td>\n",
              "      <td>...</td>\n",
              "      <td>...</td>\n",
              "    </tr>\n",
              "    <tr>\n",
              "      <th>purpose</th>\n",
              "      <td>3</td>\n",
              "      <td>21109</td>\n",
              "      <td>1121</td>\n",
              "      <td>7933104</td>\n",
              "      <td>2.982889</td>\n",
              "      <td>21109.017111</td>\n",
              "      <td>1121.017111</td>\n",
              "      <td>7.933104e+06</td>\n",
              "      <td>0.009907</td>\n",
              "      <td>0.009879</td>\n",
              "      <td>0.000098</td>\n",
              "      <td>0.000098</td>\n",
              "      <td>0.000270</td>\n",
              "      <td>0.008274</td>\n",
              "      <td>0.002484</td>\n",
              "      <td>0.007452</td>\n",
              "      <td>0.000000</td>\n",
              "      <td>142.099280</td>\n",
              "      <td>141.286641</td>\n",
              "      <td>141.288798</td>\n",
              "      <td>141.288798</td>\n",
              "      <td>0</td>\n",
              "      <td>1124</td>\n",
              "    </tr>\n",
              "    <tr>\n",
              "      <th>among</th>\n",
              "      <td>3</td>\n",
              "      <td>21109</td>\n",
              "      <td>1121</td>\n",
              "      <td>7933104</td>\n",
              "      <td>2.982889</td>\n",
              "      <td>21109.017111</td>\n",
              "      <td>1121.017111</td>\n",
              "      <td>7.933104e+06</td>\n",
              "      <td>0.009907</td>\n",
              "      <td>0.009879</td>\n",
              "      <td>0.000098</td>\n",
              "      <td>0.000098</td>\n",
              "      <td>0.000270</td>\n",
              "      <td>0.008274</td>\n",
              "      <td>0.002484</td>\n",
              "      <td>0.007452</td>\n",
              "      <td>0.000000</td>\n",
              "      <td>142.099280</td>\n",
              "      <td>141.286641</td>\n",
              "      <td>141.288798</td>\n",
              "      <td>141.288798</td>\n",
              "      <td>0</td>\n",
              "      <td>1124</td>\n",
              "    </tr>\n",
              "    <tr>\n",
              "      <th>that</th>\n",
              "      <td>374</td>\n",
              "      <td>20738</td>\n",
              "      <td>139828</td>\n",
              "      <td>7794397</td>\n",
              "      <td>372.070300</td>\n",
              "      <td>20739.929700</td>\n",
              "      <td>139829.929700</td>\n",
              "      <td>7.794395e+06</td>\n",
              "      <td>0.100041</td>\n",
              "      <td>0.099782</td>\n",
              "      <td>0.010198</td>\n",
              "      <td>0.009991</td>\n",
              "      <td>0.004637</td>\n",
              "      <td>0.007483</td>\n",
              "      <td>0.002247</td>\n",
              "      <td>0.840228</td>\n",
              "      <td>0.000000</td>\n",
              "      <td>17715.043577</td>\n",
              "      <td>17623.397370</td>\n",
              "      <td>17623.640582</td>\n",
              "      <td>17623.640582</td>\n",
              "      <td>0</td>\n",
              "      <td>140202</td>\n",
              "    </tr>\n",
              "    <tr>\n",
              "      <th>yes</th>\n",
              "      <td>2</td>\n",
              "      <td>21110</td>\n",
              "      <td>749</td>\n",
              "      <td>7933476</td>\n",
              "      <td>1.993016</td>\n",
              "      <td>21110.006984</td>\n",
              "      <td>749.006984</td>\n",
              "      <td>7.933476e+06</td>\n",
              "      <td>0.004947</td>\n",
              "      <td>0.004939</td>\n",
              "      <td>0.000025</td>\n",
              "      <td>0.000024</td>\n",
              "      <td>0.000183</td>\n",
              "      <td>0.005060</td>\n",
              "      <td>0.001519</td>\n",
              "      <td>0.003039</td>\n",
              "      <td>0.000000</td>\n",
              "      <td>94.732853</td>\n",
              "      <td>94.401154</td>\n",
              "      <td>94.402035</td>\n",
              "      <td>94.402035</td>\n",
              "      <td>0</td>\n",
              "      <td>751</td>\n",
              "    </tr>\n",
              "    <tr>\n",
              "      <th>examine</th>\n",
              "      <td>2</td>\n",
              "      <td>21110</td>\n",
              "      <td>750</td>\n",
              "      <td>7933475</td>\n",
              "      <td>1.995670</td>\n",
              "      <td>21110.004330</td>\n",
              "      <td>750.004330</td>\n",
              "      <td>7.933475e+06</td>\n",
              "      <td>0.003065</td>\n",
              "      <td>0.003062</td>\n",
              "      <td>0.000009</td>\n",
              "      <td>0.000009</td>\n",
              "      <td>0.000183</td>\n",
              "      <td>0.003135</td>\n",
              "      <td>0.000941</td>\n",
              "      <td>0.001883</td>\n",
              "      <td>0.000000</td>\n",
              "      <td>94.732853</td>\n",
              "      <td>94.527191</td>\n",
              "      <td>94.527737</td>\n",
              "      <td>94.527737</td>\n",
              "      <td>0</td>\n",
              "      <td>752</td>\n",
              "    </tr>\n",
              "  </tbody>\n",
              "</table>\n",
              "<p>710 rows × 23 columns</p>\n",
              "</div>\n",
              "      <button class=\"colab-df-convert\" onclick=\"convertToInteractive('df-7d1cf595-bf34-4d0b-8d05-66a8a89fa83a')\"\n",
              "              title=\"Convert this dataframe to an interactive table.\"\n",
              "              style=\"display:none;\">\n",
              "        \n",
              "  <svg xmlns=\"http://www.w3.org/2000/svg\" height=\"24px\"viewBox=\"0 0 24 24\"\n",
              "       width=\"24px\">\n",
              "    <path d=\"M0 0h24v24H0V0z\" fill=\"none\"/>\n",
              "    <path d=\"M18.56 5.44l.94 2.06.94-2.06 2.06-.94-2.06-.94-.94-2.06-.94 2.06-2.06.94zm-11 1L8.5 8.5l.94-2.06 2.06-.94-2.06-.94L8.5 2.5l-.94 2.06-2.06.94zm10 10l.94 2.06.94-2.06 2.06-.94-2.06-.94-.94-2.06-.94 2.06-2.06.94z\"/><path d=\"M17.41 7.96l-1.37-1.37c-.4-.4-.92-.59-1.43-.59-.52 0-1.04.2-1.43.59L10.3 9.45l-7.72 7.72c-.78.78-.78 2.05 0 2.83L4 21.41c.39.39.9.59 1.41.59.51 0 1.02-.2 1.41-.59l7.78-7.78 2.81-2.81c.8-.78.8-2.07 0-2.86zM5.41 20L4 18.59l7.72-7.72 1.47 1.35L5.41 20z\"/>\n",
              "  </svg>\n",
              "      </button>\n",
              "      \n",
              "  <style>\n",
              "    .colab-df-container {\n",
              "      display:flex;\n",
              "      flex-wrap:wrap;\n",
              "      gap: 12px;\n",
              "    }\n",
              "\n",
              "    .colab-df-convert {\n",
              "      background-color: #E8F0FE;\n",
              "      border: none;\n",
              "      border-radius: 50%;\n",
              "      cursor: pointer;\n",
              "      display: none;\n",
              "      fill: #1967D2;\n",
              "      height: 32px;\n",
              "      padding: 0 0 0 0;\n",
              "      width: 32px;\n",
              "    }\n",
              "\n",
              "    .colab-df-convert:hover {\n",
              "      background-color: #E2EBFA;\n",
              "      box-shadow: 0px 1px 2px rgba(60, 64, 67, 0.3), 0px 1px 3px 1px rgba(60, 64, 67, 0.15);\n",
              "      fill: #174EA6;\n",
              "    }\n",
              "\n",
              "    [theme=dark] .colab-df-convert {\n",
              "      background-color: #3B4455;\n",
              "      fill: #D2E3FC;\n",
              "    }\n",
              "\n",
              "    [theme=dark] .colab-df-convert:hover {\n",
              "      background-color: #434B5C;\n",
              "      box-shadow: 0px 1px 3px 1px rgba(0, 0, 0, 0.15);\n",
              "      filter: drop-shadow(0px 1px 2px rgba(0, 0, 0, 0.3));\n",
              "      fill: #FFFFFF;\n",
              "    }\n",
              "  </style>\n",
              "\n",
              "      <script>\n",
              "        const buttonEl =\n",
              "          document.querySelector('#df-7d1cf595-bf34-4d0b-8d05-66a8a89fa83a button.colab-df-convert');\n",
              "        buttonEl.style.display =\n",
              "          google.colab.kernel.accessAllowed ? 'block' : 'none';\n",
              "\n",
              "        async function convertToInteractive(key) {\n",
              "          const element = document.querySelector('#df-7d1cf595-bf34-4d0b-8d05-66a8a89fa83a');\n",
              "          const dataTable =\n",
              "            await google.colab.kernel.invokeFunction('convertToInteractive',\n",
              "                                                     [key], {});\n",
              "          if (!dataTable) return;\n",
              "\n",
              "          const docLinkHtml = 'Like what you see? Visit the ' +\n",
              "            '<a target=\"_blank\" href=https://colab.research.google.com/notebooks/data_table.ipynb>data table notebook</a>'\n",
              "            + ' to learn more about interactive tables.';\n",
              "          element.innerHTML = '';\n",
              "          dataTable['output_type'] = 'display_data';\n",
              "          await google.colab.output.renderOutput(dataTable, element);\n",
              "          const docLink = document.createElement('div');\n",
              "          docLink.innerHTML = docLinkHtml;\n",
              "          element.appendChild(docLink);\n",
              "        }\n",
              "      </script>\n",
              "    </div>\n",
              "  </div>\n",
              "  "
            ],
            "text/plain": [
              "            O11    O12     O21  ...  ipm_reference_expected  in_nodes  marginal\n",
              "item                            ...                                            \n",
              "parametric    2  21110       0  ...                0.251404         0         2\n",
              "mg/litre      2  21110       0  ...                0.251404         0         2\n",
              "calorific     2  21110       0  ...                0.251404         0         2\n",
              "added       202  20910      52  ...               31.928251         0       254\n",
              "tax-based     2  21110       1  ...                0.377105         0         3\n",
              "...         ...    ...     ...  ...                     ...       ...       ...\n",
              "purpose       3  21109    1121  ...              141.288798         0      1124\n",
              "among         3  21109    1121  ...              141.288798         0      1124\n",
              "that        374  20738  139828  ...            17623.640582         0    140202\n",
              "yes           2  21110     749  ...               94.402035         0       751\n",
              "examine       2  21110     750  ...               94.527737         0       752\n",
              "\n",
              "[710 rows x 23 columns]"
            ]
          },
          "metadata": {},
          "execution_count": 134
        }
      ]
    },
    {
      "cell_type": "code",
      "source": [
        "dfColl.to_excel(r'value_collstat.xlsx', index = True)"
      ],
      "metadata": {
        "id": "B1khxWZPRSg9"
      },
      "execution_count": null,
      "outputs": []
    },
    {
      "cell_type": "code",
      "source": [
        "def query2colist(qry, ord='mutual_information', cut=100, minFrq = 5, file=None, values = None):\n",
        "    query=None\n",
        "    dump = None\n",
        "    dfColl = None\n",
        "    LAll = None\n",
        "    retList = []\n",
        "\n",
        "    query = r'{}'.format(qry)\n",
        "    print(query)\n",
        "    dump = corpus.query(cqp_query=query, context=5)\n",
        "    dfColl = dump.collocates(order=ord, cut_off=None)\n",
        "    LIndex = dfColl.index.to_numpy().tolist()\n",
        "    LValues = dfColl[['O11','O21','mutual_information']].to_numpy().tolist()\n",
        "    LAll = list(zip(LIndex, LValues))\n",
        "\n",
        "    i=0\n",
        "    for word, (o11, o21, mutual_information) in LAll:\n",
        "        oAll = o11+o21\n",
        "        if oAll >= minFrq:\n",
        "            i+=1\n",
        "            if values:\n",
        "                retList.append((word, int(o11), int(o21), int(oAll), mutual_information))\n",
        "            else:\n",
        "                retList.append(word)\n",
        "            if i>= cut:\n",
        "                break\n",
        "    if file:\n",
        "        FOut = open(file, 'w')\n",
        "        for el in retList:\n",
        "            FOut.write(str(el) + '\\n')\n",
        "        FOut.flush()\n",
        "    return retList\n"
      ],
      "metadata": {
        "id": "EA76ny8wtAHW"
      },
      "execution_count": null,
      "outputs": []
    },
    {
      "cell_type": "code",
      "source": [
        "rList = query2colist(\"'however'\", file='however_mi100_minFrq5.txt', values=True)"
      ],
      "metadata": {
        "colab": {
          "base_uri": "https://localhost:8080/"
        },
        "id": "0O2nshvX6ubZ",
        "outputId": "4f217b95-f1b9-4b34-b13e-084026b7aaf2"
      },
      "execution_count": null,
      "outputs": [
        {
          "output_type": "stream",
          "name": "stderr",
          "text": [
            "specfied p-attribute(s) (\"lemma\") not available\n",
            "falling back to primary layer\n"
          ]
        },
        {
          "output_type": "stream",
          "name": "stdout",
          "text": [
            "'however'\n"
          ]
        }
      ]
    },
    {
      "cell_type": "code",
      "source": [
        "rList"
      ],
      "metadata": {
        "id": "iUOjkhDm7LAN"
      },
      "execution_count": null,
      "outputs": []
    },
    {
      "cell_type": "code",
      "source": [
        "query = r'\"value\"'\n",
        "dump = corpus.query(\n",
        "  cqp_query=query,\n",
        "  context=5\n",
        ")\n",
        "dfColl = dump.collocates(order='mutual_information', cut_off=100)\n",
        "LIndex = dfColl.index.to_numpy().tolist()\n",
        "FOut = open('value_mi100_collstat.txt', 'w')\n",
        "for el in LIndex:\n",
        "    FOut.write(el + '\\n')\n",
        "FOut.flush()\n",
        "# dfColl.to_excel(r'value_collstat.xlsx', index = True)\n"
      ],
      "metadata": {
        "id": "qZYM2zqwWMcK",
        "colab": {
          "base_uri": "https://localhost:8080/"
        },
        "outputId": "d6dc0f47-3b27-4ea1-db14-f57b91a57b93"
      },
      "execution_count": null,
      "outputs": [
        {
          "output_type": "stream",
          "name": "stderr",
          "text": [
            "specfied p-attribute(s) (\"lemma\") not available\n",
            "falling back to primary layer\n"
          ]
        }
      ]
    },
    {
      "cell_type": "code",
      "source": [
        "query = r'\"however\"'\n",
        "dump = corpus.query(\n",
        "  cqp_query=query,\n",
        "  context=5\n",
        ")\n",
        "dfColl = dump.collocates(order='mutual_information', cut_off=None)\n",
        "dfColl.to_excel(r'however_collstat.xlsx', index = True)"
      ],
      "metadata": {
        "colab": {
          "base_uri": "https://localhost:8080/"
        },
        "id": "tEVNhV0PSicz",
        "outputId": "02d4f195-cdc2-416b-defb-57074fa0f0fb"
      },
      "execution_count": null,
      "outputs": [
        {
          "output_type": "stream",
          "name": "stderr",
          "text": [
            "specfied p-attribute(s) (\"lemma\") not available\n",
            "falling back to primary layer\n"
          ]
        }
      ]
    },
    {
      "cell_type": "code",
      "source": [
        "query = r'\"commission\"'\n",
        "dump = corpus.query(\n",
        "  cqp_query=query,\n",
        "  context=5\n",
        ")\n",
        "dfColl = dump.collocates(order='mutual_information', cut_off=None)\n",
        "dfColl.to_excel(r'commission_collstat.xlsx', index = True)"
      ],
      "metadata": {
        "colab": {
          "base_uri": "https://localhost:8080/"
        },
        "id": "_xEs--0aS-n4",
        "outputId": "587e706e-dcf0-4145-cdbe-1a6988ce5f36"
      },
      "execution_count": null,
      "outputs": [
        {
          "output_type": "stream",
          "name": "stderr",
          "text": [
            "specfied p-attribute(s) (\"lemma\") not available\n",
            "falling back to primary layer\n"
          ]
        }
      ]
    },
    {
      "cell_type": "code",
      "source": [
        "query = r'\"conclusion\"'\n",
        "dump = corpus.query(\n",
        "  cqp_query=query,\n",
        "  context=5\n",
        ")\n",
        "dfColl = dump.collocates(order='mutual_information', cut_off=None)\n",
        "dfColl.to_excel(r'conclusion_collstat.xlsx', index = True)"
      ],
      "metadata": {
        "colab": {
          "base_uri": "https://localhost:8080/"
        },
        "id": "lpOyweGSUAgs",
        "outputId": "15c923c1-96cd-4fbd-941a-7f062ccb3baa"
      },
      "execution_count": null,
      "outputs": [
        {
          "output_type": "stream",
          "name": "stderr",
          "text": [
            "specfied p-attribute(s) (\"lemma\") not available\n",
            "falling back to primary layer\n"
          ]
        }
      ]
    },
    {
      "cell_type": "code",
      "source": [
        "# lst = dfColl[['mutual_information', 'log_likelihood']].items()\n",
        "LIndex = dfColl.index.to_numpy().tolist()"
      ],
      "metadata": {
        "id": "36kNv1XTGCcB"
      },
      "execution_count": null,
      "outputs": []
    },
    {
      "cell_type": "code",
      "source": [
        "# z_score\tt_score\tlog_likelihood\tsimple_ll\tdice\tlog_ratio\tmutual_information\tlocal_mutual_information\tconservative_log_ratio\n",
        "# z_score, t_score, log_likelihood, simple_ll, dice, log_ratio, mutual_information, local_mutual_information, conservative_log_ratio\n",
        "# 'z_score', 't_score', 'log_likelihood', 'simple_ll', 'dice', 'log_ratio', 'mutual_information', 'local_mutual_information', 'conservative_log_ratio'\n",
        "# O11\tO12\tO21\tO22\tE11\tE12\tE21\tE22\n",
        "# 'O11', 'O12', 'O21', 'O22', 'E11', 'E12', 'E21', 'E22'\n",
        "LValues = dfColl[['O11', 'O12', 'O21', 'O22', 'E11', 'E12', 'E21', 'E22', 'z_score', 't_score', 'log_likelihood', 'simple_ll', 'dice', 'log_ratio', 'mutual_information', 'local_mutual_information', 'conservative_log_ratio']].to_numpy().tolist()"
      ],
      "metadata": {
        "id": "N8NQI4FnK4Hn"
      },
      "execution_count": null,
      "outputs": []
    },
    {
      "cell_type": "code",
      "source": [
        "print(len(LIndex), len(LValues))"
      ],
      "metadata": {
        "colab": {
          "base_uri": "https://localhost:8080/"
        },
        "id": "HtmFUSzFLpyf",
        "outputId": "f5796f7f-0055-4059-f3d3-f222192482a1"
      },
      "execution_count": null,
      "outputs": [
        {
          "output_type": "stream",
          "name": "stdout",
          "text": [
            "710 710\n"
          ]
        }
      ]
    },
    {
      "cell_type": "code",
      "source": [
        "LAll = list(zip(LIndex, LValues))"
      ],
      "metadata": {
        "id": "_NB9VoyLL_U0"
      },
      "execution_count": null,
      "outputs": []
    },
    {
      "cell_type": "code",
      "source": [
        "LAll"
      ],
      "metadata": {
        "id": "hRj-F81sMGqM"
      },
      "execution_count": null,
      "outputs": []
    },
    {
      "cell_type": "code",
      "source": [
        "lex = 'value'"
      ],
      "metadata": {
        "id": "fWiLC_MzPiqJ"
      },
      "execution_count": null,
      "outputs": []
    },
    {
      "cell_type": "code",
      "source": [
        "FOut = open(lex + '_collstat.txt', 'w')\n",
        "FOut.write(\"'Collocation','O11','O12','O21','O22','E11','E12','E21','E22','z_score','t_score','log_likelihood','simple_ll','dice','log_ratio','mutual_information','local_mutual_information','conservative_log_ratio'\\n\")\n",
        "for Word, LVals in LAll:\n",
        "    FOut.write(\"'\" + Word + \"'\" + ',')\n",
        "    LSVal = [str(IVal) for IVal in LVals]\n",
        "    SVal = ','.join(LSVal)\n",
        "    FOut.write(SVal + '\\n')"
      ],
      "metadata": {
        "id": "uSAiJafjNge5"
      },
      "execution_count": null,
      "outputs": []
    },
    {
      "cell_type": "code",
      "source": [],
      "metadata": {
        "id": "IvnLTG7LRO__"
      },
      "execution_count": null,
      "outputs": []
    },
    {
      "cell_type": "code",
      "source": [
        "for key, value in lst:\n",
        "  print(key, value)"
      ],
      "metadata": {
        "colab": {
          "base_uri": "https://localhost:8080/"
        },
        "id": "I0vLsuacHIQ7",
        "outputId": "5203f401-15a6-4fb4-d749-a4b316256d6e"
      },
      "execution_count": null,
      "outputs": [
        {
          "output_type": "stream",
          "name": "stdout",
          "text": [
            "mutual_information item\n",
            "parametric    2.576129\n",
            "mg/litre      2.576129\n",
            "calorific     2.576129\n",
            "added         2.476647\n",
            "tax-based     2.400038\n",
            "                ...   \n",
            "purpose       0.002484\n",
            "among         0.002484\n",
            "that          0.002247\n",
            "yes           0.001519\n",
            "examine       0.000941\n",
            "Name: mutual_information, Length: 710, dtype: float64\n",
            "log_likelihood item\n",
            "parametric      23.727216\n",
            "mg/litre        23.727216\n",
            "calorific       23.727216\n",
            "added         2141.140925\n",
            "tax-based       19.913445\n",
            "                 ...     \n",
            "purpose          0.000098\n",
            "among            0.000098\n",
            "that             0.010198\n",
            "yes              0.000025\n",
            "examine          0.000009\n",
            "Name: log_likelihood, Length: 710, dtype: float64\n"
          ]
        }
      ]
    }
  ]
}