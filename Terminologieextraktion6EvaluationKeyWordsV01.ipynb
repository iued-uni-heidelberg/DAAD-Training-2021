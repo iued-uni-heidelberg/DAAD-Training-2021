{
  "nbformat": 4,
  "nbformat_minor": 0,
  "metadata": {
    "colab": {
      "name": "Terminologieextraktion6EvaluationKeyWordsV01.ipynb",
      "provenance": [],
      "authorship_tag": "ABX9TyMXBpnqmxz+29hfnBGQKXRm",
      "include_colab_link": true
    },
    "kernelspec": {
      "name": "python3",
      "display_name": "Python 3"
    },
    "language_info": {
      "name": "python"
    }
  },
  "cells": [
    {
      "cell_type": "markdown",
      "metadata": {
        "id": "view-in-github",
        "colab_type": "text"
      },
      "source": [
        "<a href=\"https://colab.research.google.com/github/iued-uni-heidelberg/DAAD-Training-2021/blob/main/Terminologieextraktion6EvaluationKeyWordsV01.ipynb\" target=\"_parent\"><img src=\"https://colab.research.google.com/assets/colab-badge.svg\" alt=\"Open In Colab\"/></a>"
      ]
    },
    {
      "cell_type": "markdown",
      "metadata": {
        "id": "w_u_1JsuhpJV"
      },
      "source": [
        "# Terminology extraction with keywords, association measures, etc.\n",
        "\n",
        "Here we enrich extracted MWEs with keyness information (and other paremeters) and test Precision / Recall"
      ]
    },
    {
      "cell_type": "code",
      "metadata": {
        "id": "gEIsH60_hdEL"
      },
      "source": [
        ""
      ],
      "execution_count": null,
      "outputs": []
    }
  ]
}