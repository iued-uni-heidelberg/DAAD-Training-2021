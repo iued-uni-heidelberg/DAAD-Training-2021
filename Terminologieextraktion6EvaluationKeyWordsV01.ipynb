{
  "nbformat": 4,
  "nbformat_minor": 0,
  "metadata": {
    "colab": {
      "name": "Terminologieextraktion6EvaluationKeyWordsV01.ipynb",
      "provenance": [],
      "collapsed_sections": [],
      "authorship_tag": "ABX9TyO7hQ+9daD080kSsllD4qb7",
      "include_colab_link": true
    },
    "kernelspec": {
      "name": "python3",
      "display_name": "Python 3"
    },
    "language_info": {
      "name": "python"
    }
  },
  "cells": [
    {
      "cell_type": "markdown",
      "metadata": {
        "id": "view-in-github",
        "colab_type": "text"
      },
      "source": [
        "<a href=\"https://colab.research.google.com/github/iued-uni-heidelberg/DAAD-Training-2021/blob/main/Terminologieextraktion6EvaluationKeyWordsV01.ipynb\" target=\"_parent\"><img src=\"https://colab.research.google.com/assets/colab-badge.svg\" alt=\"Open In Colab\"/></a>"
      ]
    },
    {
      "cell_type": "markdown",
      "metadata": {
        "id": "w_u_1JsuhpJV"
      },
      "source": [
        "# Terminology extraction with keywords, association measures, etc.\n",
        "\n",
        "Here we enrich extracted MWEs with keyness information (and other paremeters) and test Precision / Recall"
      ]
    },
    {
      "cell_type": "markdown",
      "metadata": {
        "id": "MI638SJm_FAJ"
      },
      "source": [
        "## Preparing gold standard annotation dictinaries"
      ]
    },
    {
      "cell_type": "code",
      "metadata": {
        "id": "gEIsH60_hdEL"
      },
      "source": [
        "# Stage 1: Preparing Gold standard: Reading / extracting information from gold standard: creating a list of annotated terms\n",
        "# set 1 (same text annotated by two annotators)\n",
        "!wget https://heibox.uni-heidelberg.de/f/ae1110c4f9ad42b9a3d5/?dl=1\n",
        "!mv index.html?dl=1 BGH1_s00Astghik.txt\n",
        "!wget https://heibox.uni-heidelberg.de/f/398e7a10fa3241519f26/?dl=1\n",
        "!mv index.html?dl=1 BGH1_s00Maia.txt\n",
        "\n",
        "# set 2 (same text annotated by two annotators)\n",
        "!wget https://heibox.uni-heidelberg.de/f/0c787f26123f49178639/?dl=1\n",
        "!mv index.html?dl=1 BGH2_s00Hayk.txt\n",
        "!wget https://heibox.uni-heidelberg.de/f/356205b502fb4d759ad5/?dl=1\n",
        "!mv index.html?dl=1 BGH2_s00Nino.txt\n",
        "\n",
        "# set 3 (same text annotated by two annotators)\n",
        "!wget https://heibox.uni-heidelberg.de/f/ed0c7af9a9d04967b449/?dl=1\n",
        "!mv index.html?dl=1 BGH3_s00Tamar.txt\n",
        "# !wget \n",
        "# !mv index.html?dl=1 "
      ],
      "execution_count": null,
      "outputs": []
    },
    {
      "cell_type": "code",
      "metadata": {
        "id": "6LdbtxRwwauy"
      },
      "source": [
        "# one more will be added: Frau Khachatryan\n",
        "!cat BGH1_s00Astghik.txt BGH1_s00Maia.txt BGH2_s00Hayk.txt BGH2_s00Nino.txt BGH3_s00Tamar.txt >BGH0_s00GoldStandard.txt"
      ],
      "execution_count": 5,
      "outputs": []
    },
    {
      "cell_type": "code",
      "metadata": {
        "id": "SNK9JjVN1_N7"
      },
      "source": [
        "# a useful function for recording / visualising current stage of dictionaries\n",
        "def printDictionary(DictionaryFrq, FOut, K = 1, Rev = True): # printing a dictionary: by values or alphabetically\n",
        "    for Word, Frq in sorted( DictionaryFrq.items() , key=lambda x: x[K], reverse=Rev):\n",
        "        FOut.write(Word + '\\t' + str(Frq) + '\\n')\n",
        "    return"
      ],
      "execution_count": 11,
      "outputs": []
    },
    {
      "cell_type": "code",
      "metadata": {
        "id": "65srZoeW-wwA"
      },
      "source": [
        "FInput = open('BGH0_s00GoldStandard.txt', 'r')\n",
        "FOutput = open('BGH0_s01GoldS_Terms.txt', 'w')\n",
        "# for statistical purposes - separately single and multiword terms\n",
        "FOutputDict1w = open('BGH0_s01GoldS_D1w.txt', 'w') # 1-word terms\n",
        "FOutputDict2w = open('BGH0_s01GoldS_D2w.txt', 'w') # 2-word terminological expressions\n",
        "FOutputDict3w = open('BGH0_s01GoldS_D3w.txt', 'w') # 3-word terminological expressions\n",
        "FOutputDictMWE = open('BGH0_s01GoldS_DMWE.txt', 'w') # more than 3 words"
      ],
      "execution_count": 15,
      "outputs": []
    },
    {
      "cell_type": "code",
      "metadata": {
        "id": "zB30Z1Fm6Ic0"
      },
      "source": [
        "# creating gold-standard dictionaries for evaluation tasks:\n",
        "import re, os, sys\n",
        "LGSTerms = [] # gold standard terms\n",
        "DGS1w = {} # dictionary of single words\n",
        "DGS2w = {} # dictionary of 2-word expressions\n",
        "DGS3w = {} # dictionary of 3-word expressions\n",
        "DGSMWE = {} # dictionary of other mwes\n",
        "IGS1w = 0 # number of annotated tokens of single words\n",
        "IGS2w = 0\n",
        "IGS3w = 0\n",
        "IGSMWE = 0 # number of annotated tokens of multiwords\n",
        "for SLine in FInput:\n",
        "    LAnnotatedTermsInLine = re.findall('<<([^><]+)>>', SLine)\n",
        "    LGSTerms.extend(LAnnotatedTermsInLine)\n",
        "\n",
        "for GSTerm in LGSTerms:\n",
        "    GSTerm = GSTerm.strip()\n",
        "    GSTerm = GSTerm.strip('„“\"().')\n",
        "\n",
        "    # everything is converted to upper case for quick dictionary lookup\n",
        "    GSTerm = GSTerm.upper()\n",
        "    \n",
        "    GSTerm = re.sub(' +', ' ', GSTerm)\n",
        "    LGSTErms = re.split(' ', GSTerm)\n",
        "    if len(LGSTErms) > 3:\n",
        "        IGSMWE += 1\n",
        "        try: DGSMWE[GSTerm] += 1\n",
        "        except: DGSMWE[GSTerm] = 1\n",
        "    elif len(LGSTErms) > 2:\n",
        "        IGS3w += 1\n",
        "        try: DGS3w[GSTerm] += 1\n",
        "        except: DGS3w[GSTerm] = 1\n",
        "    elif len(LGSTErms) > 1:\n",
        "        IGS2w += 1\n",
        "        try: DGS2w[GSTerm] +=1\n",
        "        except: DGS2w[GSTerm] = 1\n",
        "    else:\n",
        "        IGS1w += 1\n",
        "        try: DGS1w[GSTerm] +=1\n",
        "        except: DGS1w[GSTerm] = 1\n",
        "\n",
        "    FOutput.write(GSTerm + '\\n')\n",
        "\n",
        "FOutputDictMWE.write('# Number of tokens: ' + str(IGSMWE) + '\\n')\n",
        "FOutputDict3w.write('# Number of tokens: ' + str(IGS3w) + '\\n')\n",
        "FOutputDict2w.write('# Number of tokens: ' + str(IGS2w) + '\\n')\n",
        "FOutputDict1w.write('# Number of tokens: ' + str(IGS1w) + '\\n')\n",
        "\n",
        "printDictionary(DGSMWE, FOutputDictMWE)\n",
        "printDictionary(DGS3w, FOutputDict3w)\n",
        "printDictionary(DGS2w, FOutputDict2w)\n",
        "printDictionary(DGS1w, FOutputDict1w)\n",
        "\n",
        "FOutputDictMWE.flush()\n",
        "FOutputDictMWE.close()\n",
        "FOutputDict3w.flush()\n",
        "FOutputDict3w.close()\n",
        "FOutputDict2w.flush()\n",
        "FOutputDict2w.close()\n",
        "FOutputDict1w.flush()\n",
        "FOutputDict1w.close()\n",
        "\n",
        "FOutput.flush()\n",
        "FOutput.close()\n",
        "\n",
        "FInput.close()"
      ],
      "execution_count": 16,
      "outputs": []
    },
    {
      "cell_type": "markdown",
      "metadata": {
        "id": "CZ0gL2rD-6Py"
      },
      "source": [
        "## Preparing the 'keyness' dictionary"
      ]
    },
    {
      "cell_type": "code",
      "metadata": {
        "colab": {
          "base_uri": "https://localhost:8080/"
        },
        "id": "iceETOGHG8ie",
        "outputId": "45632a3c-0760-439d-b461-5ba893fdb87e"
      },
      "source": [
        "!wget https://heibox.uni-heidelberg.de/f/aa4560e627bd4b1d8055/?dl=1\n",
        "!mv index.html?dl=1 TK_KW_Verif_V02.csv"
      ],
      "execution_count": 17,
      "outputs": [
        {
          "output_type": "stream",
          "name": "stdout",
          "text": [
            "--2021-10-27 09:36:48--  https://heibox.uni-heidelberg.de/f/aa4560e627bd4b1d8055/?dl=1\n",
            "Resolving heibox.uni-heidelberg.de (heibox.uni-heidelberg.de)... 129.206.7.113\n",
            "Connecting to heibox.uni-heidelberg.de (heibox.uni-heidelberg.de)|129.206.7.113|:443... connected.\n",
            "HTTP request sent, awaiting response... 302 Found\n",
            "Location: https://heibox.uni-heidelberg.de/seafhttp/files/1f73a3b5-80d0-4fb7-aa0f-f9d08aabc629/TK_KW_Verif_V02.csv [following]\n",
            "--2021-10-27 09:36:49--  https://heibox.uni-heidelberg.de/seafhttp/files/1f73a3b5-80d0-4fb7-aa0f-f9d08aabc629/TK_KW_Verif_V02.csv\n",
            "Reusing existing connection to heibox.uni-heidelberg.de:443.\n",
            "HTTP request sent, awaiting response... 200 OK\n",
            "Length: 38812 (38K) [application/octet-stream]\n",
            "Saving to: ‘index.html?dl=1’\n",
            "\n",
            "index.html?dl=1     100%[===================>]  37.90K  90.7KB/s    in 0.4s    \n",
            "\n",
            "2021-10-27 09:36:50 (90.7 KB/s) - ‘index.html?dl=1’ saved [38812/38812]\n",
            "\n"
          ]
        }
      ]
    },
    {
      "cell_type": "code",
      "metadata": {
        "id": "2okBQ92YwfKw"
      },
      "source": [
        "# Stage 2: Preparing a dictionnary of keyness weights\n",
        "FInputKW = open('TK_KW_Verif_V02.csv', 'r')\n",
        "FOutputKW = open('TK_KW_Verif_V02.txt', 'w')\n",
        "# FOutputGSKWS1w = open('BGH1_s01GoldSKW_D1w.txt', 'w')\n",
        "# FOutputGSKWS2w = open('BGH1_s01GoldSKW_D2w.txt', 'w')\n",
        "# FOutputGSKWS3w = open('BGH1_s01GoldSKW_D3w.txt', 'w')\n",
        "# FOutputGSKWSMWE = open('BGH1_s01GoldSKW_MWE.txt', 'w')"
      ],
      "execution_count": 19,
      "outputs": []
    },
    {
      "cell_type": "code",
      "metadata": {
        "id": "im1Syy-JwqWt"
      },
      "source": [
        "DScoresKW = {} # keywords - scores\n",
        "DScoresNK = {} # non-keywords\n",
        "DStatKW = {} # status: key/non-key-word\n",
        "for Line in FInputKW:\n",
        "    LFieldsKW = re.split('\\t', Line)\n",
        "    SWord = LFieldsKW[1]\n",
        "    AKScore = float(LFieldsKW[2])\n",
        "    AKStat = float(LFieldsKW[3])\n",
        "    DStatKW[SWord] = AKStat\n",
        "    if AKStat > 0: # change value to 0.5 if we need to restrict to 'sure' terms only (value 1)\n",
        "        DScoresKW[SWord] = AKScore\n",
        "    else:\n",
        "        DScoresNK[SWord] = AKScore"
      ],
      "execution_count": 20,
      "outputs": []
    },
    {
      "cell_type": "code",
      "metadata": {
        "id": "XowrNS8l0YQk"
      },
      "source": [
        "# we create a dictionary of keyness values with only upper case letters, which will be checked against also uppercased term candidates\n",
        "# the same dictionary as DScoresKW, but with ensured conversion in to upper case:\n",
        "DScoresREKWquick = {} # dictionary of RE\n",
        "for kw, val in DScoresKW.items():\n",
        "    SUpperC = kw.upper() # making sure our key words are in upper case\n",
        "    # these are the alternatives, which we do not consider in this stage...\n",
        "    # SLowerC = kw.lower()\n",
        "    # SSentenceC = kw.capitalize()\n",
        "    # RPatternKW = re.compile('^' + kw + '$', re.IGNORECASE)\n",
        "    DScoresREKWquick[SUpperC] = val # \n",
        "    # DScoresREKWquick[SLowerC] = val # \n",
        "    # DScoresREKWquick[SSentenceC] = val # "
      ],
      "execution_count": 21,
      "outputs": []
    },
    {
      "cell_type": "code",
      "metadata": {
        "id": "AtUKUkDi5fdd"
      },
      "source": [
        "printDictionary(DScoresREKWquick, FOutputKW)"
      ],
      "execution_count": 22,
      "outputs": []
    },
    {
      "cell_type": "code",
      "metadata": {
        "id": "FVXmJo4PHx5-"
      },
      "source": [
        ""
      ],
      "execution_count": null,
      "outputs": []
    }
  ]
}