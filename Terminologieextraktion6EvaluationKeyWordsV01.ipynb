{
  "nbformat": 4,
  "nbformat_minor": 0,
  "metadata": {
    "colab": {
      "name": "Terminologieextraktion6EvaluationKeyWordsV01.ipynb",
      "provenance": [],
      "collapsed_sections": [],
      "authorship_tag": "ABX9TyNGmziFfZQpzKCyp0lz6nsv",
      "include_colab_link": true
    },
    "kernelspec": {
      "name": "python3",
      "display_name": "Python 3"
    },
    "language_info": {
      "name": "python"
    }
  },
  "cells": [
    {
      "cell_type": "markdown",
      "metadata": {
        "id": "view-in-github",
        "colab_type": "text"
      },
      "source": [
        "<a href=\"https://colab.research.google.com/github/iued-uni-heidelberg/DAAD-Training-2021/blob/main/Terminologieextraktion6EvaluationKeyWordsV01.ipynb\" target=\"_parent\"><img src=\"https://colab.research.google.com/assets/colab-badge.svg\" alt=\"Open In Colab\"/></a>"
      ]
    },
    {
      "cell_type": "markdown",
      "metadata": {
        "id": "w_u_1JsuhpJV"
      },
      "source": [
        "# Terminology extraction with keywords, association measures, etc.\n",
        "\n",
        "Here we enrich extracted MWEs with keyness information (and other paremeters) and test Precision / Recall"
      ]
    },
    {
      "cell_type": "markdown",
      "metadata": {
        "id": "MI638SJm_FAJ"
      },
      "source": [
        "## Preparing gold standard annotation dictinaries"
      ]
    },
    {
      "cell_type": "code",
      "metadata": {
        "id": "jWLBEC9UQGCS"
      },
      "source": [
        "# Stage 0: Some useful read/write and convert functions"
      ],
      "execution_count": 38,
      "outputs": []
    },
    {
      "cell_type": "code",
      "metadata": {
        "id": "6vFQdVPvMPWr"
      },
      "source": [
        "# import useful libraries\n",
        "import re, os, sys"
      ],
      "execution_count": null,
      "outputs": []
    },
    {
      "cell_type": "code",
      "metadata": {
        "id": "SNK9JjVN1_N7"
      },
      "source": [
        "# a useful function for recording / visualising current stage of dictionaries\n",
        "def printDictionary(DictionaryFrq, FOut, K = 1, Rev = True): # printing a dictionary: by values or alphabetically\n",
        "    for Word, Frq in sorted( DictionaryFrq.items() , key=lambda x: x[K], reverse=Rev):\n",
        "        FOut.write(Word + '\\t' + str(Frq) + '\\n')\n",
        "    return"
      ],
      "execution_count": null,
      "outputs": []
    },
    {
      "cell_type": "code",
      "metadata": {
        "id": "IgCuEZ8vGeNW"
      },
      "source": [
        "# another useful function to just read and return a 2-field dictionary, eg., frequency or keyness\n",
        "def readDictionary(FIN, SkipComments = True, Caps=False):\n",
        "    DScoresLarge = {} # keywords - scores\n",
        "    for Line in FIN:\n",
        "        if SkipComments and re.match('#', Line): continue\n",
        "        Line = Line.strip()\n",
        "        if Caps: Line.upper() # convert to upper case\n",
        "        LFieldsKW = re.split('\\t', Line)\n",
        "        SWord = LFieldsKW[0]\n",
        "        AKScore = float(LFieldsKW[1])\n",
        "        DScoresLarge[SWord] = AKScore   \n",
        "    return DScoresLarge"
      ],
      "execution_count": 36,
      "outputs": []
    },
    {
      "cell_type": "code",
      "metadata": {
        "id": "GpzfGgOnKzZu"
      },
      "source": [
        "# another possibly useful function: convert dictionary values to ranks (frequency, keyness weights, etc.)\n",
        "# for understanding how far down the list the item has been found...\n",
        "def rankDict(DIN):\n",
        "    '''\n",
        "    reading a frequency dictionary from a file\n",
        "    '''\n",
        "    DTermRanks = {}\n",
        "    i = 0\n",
        "    IRank = 0\n",
        "    IPrevFrq = 0\n",
        "    SumRanks = 0\n",
        "    for SKey, Frq in DIN.items():\n",
        "        # if re.match('#', SKey): continue # skipping comments\n",
        "        i+=1\n",
        "        if IPrevFrq != Frq: IRank = i # rank is the number of the highest ranking element of the same frequency group\n",
        "        IPrevFrq = Frq\n",
        "        \n",
        "        DTermRanks[SKey] = IRank\n",
        "        SumRanks += IRank\n",
        "\n",
        "    AAveRank = SumRanks / i\n",
        "    print(f'MaxRank = {IRank}\\nAve Rank = {AAveRank}\\n')\n",
        "    return DTermRanks, AAveRank"
      ],
      "execution_count": 37,
      "outputs": []
    },
    {
      "cell_type": "code",
      "metadata": {
        "id": "9YQ8SJI5kvF2"
      },
      "source": [
        "# Main evaluation function\n",
        "# One-directional comparision of dictionaries\n",
        "# one-directional comparison of two dictionaries; arguments: DGoldStandard (smaller) DTest (larger), file: GS items found in DTest; GS items missing from DText...\n",
        "# usually testing: smaller vs. bigger dictionaries\n",
        "def countIntersectDictionaries(DGS, DTest, FOutputPrecFOUND, FOutputPrecMISSING, SortBy = 0, Rev = False):\n",
        "    '''\n",
        "    general function: intersect dictionaries, return new intersection dictionaries, record \"in\" and \"out\" expressions\n",
        "    \n",
        "    3b: intersecting All possible MWEs in GS list with the \"Extracted\" list\n",
        "    DA (smaller and going over each element) with D1W / DMWE lists \n",
        "    '''\n",
        "\n",
        "    print('Total len of Gold Standard: ' + str(len(DGS.items())))\n",
        "    IFound = 0\n",
        "    IMissing = 0\n",
        "    SumFoundRanks = 0\n",
        "    DFound = {} # intersection dictionary\n",
        "\n",
        "    for Word, Frq in sorted(DGS.items(),  key=lambda x: x[SortBy], reverse=Rev):\n",
        "        if Word in DTest:\n",
        "            IFound += 1\n",
        "            try: # normally will not fire: if this word already exists with some rank, calculate the average of a new and old rank\n",
        "                r0 = DFound[Word]\n",
        "                r1 = DTest[Word]\n",
        "                r = (r0+r1)/2\n",
        "                DFound[Word] = r\n",
        "                print('r?')\n",
        "            except: # normal route: find the rank of the word in the dictionary\n",
        "                DFound[Word] = DTest[Word]\n",
        "\n",
        "            SumFoundRanks += DTest[Word] # add rank, to calculate average\n",
        "            try: FOutputPrecFOUND.write(Word + '\\t' + str(Frq) + '\\t' + str(D1W[Word]) + '\\n') # record/calculate average rank, etc.\n",
        "            except: \n",
        "                FOutputPrecFOUND.write(Word + '\\t' + str(Frq) + '\\t' + 'KEY ERROR' + '\\n')\n",
        "                print(Word + '\\t' + str(Frq) + '\\t' + 'KEY ERROR' + '\\n')\n",
        "        else:\n",
        "            IMissing += 1\n",
        "            FOutputPrecMISSING.write(Word + '\\t' + str(Frq) + '\\n') # record/calculate average rank, etc.\n",
        "\n",
        "    print(f'Found: {IFound}')\n",
        "    print(f'Missing: {IMissing}')\n",
        "    try: ACoverage = IFound / len(DGS.items())\n",
        "    except: ACoverage = 0\n",
        "    print(f'Found2LenGS: {ACoverage}')\n",
        "    try: AAverageFoundRanks = SumFoundRanks / IFound\n",
        "    except: AAverageFoundRanks = 0\n",
        "    print(f'Ave Found Ranks: {AAverageFoundRanks} \\n')\n",
        "\n",
        "    return ACoverage, AAverageFoundRanks, DFound\n"
      ],
      "execution_count": 35,
      "outputs": []
    },
    {
      "cell_type": "code",
      "metadata": {
        "id": "gEIsH60_hdEL"
      },
      "source": [
        "# Stage 1: Preparing Gold standard: Reading / extracting information from gold standard: creating a list of annotated terms\n",
        "# set 1 (same text annotated by two annotators)\n",
        "!wget https://heibox.uni-heidelberg.de/f/ae1110c4f9ad42b9a3d5/?dl=1\n",
        "!mv index.html?dl=1 BGH1_s00Astghik.txt\n",
        "!wget https://heibox.uni-heidelberg.de/f/398e7a10fa3241519f26/?dl=1\n",
        "!mv index.html?dl=1 BGH1_s00Maia.txt\n",
        "\n",
        "# set 2 (same text annotated by two annotators)\n",
        "!wget https://heibox.uni-heidelberg.de/f/0c787f26123f49178639/?dl=1\n",
        "!mv index.html?dl=1 BGH2_s00Hayk.txt\n",
        "!wget https://heibox.uni-heidelberg.de/f/356205b502fb4d759ad5/?dl=1\n",
        "!mv index.html?dl=1 BGH2_s00Nino.txt\n",
        "\n",
        "# set 3 (same text annotated by two annotators)\n",
        "!wget https://heibox.uni-heidelberg.de/f/ed0c7af9a9d04967b449/?dl=1\n",
        "!mv index.html?dl=1 BGH3_s00Tamar.txt\n",
        "# !wget \n",
        "# !mv index.html?dl=1 "
      ],
      "execution_count": null,
      "outputs": []
    },
    {
      "cell_type": "code",
      "metadata": {
        "id": "6LdbtxRwwauy"
      },
      "source": [
        "# one more will be added: Frau Khachatryan\n",
        "!cat BGH1_s00Astghik.txt BGH1_s00Maia.txt BGH2_s00Hayk.txt BGH2_s00Nino.txt BGH3_s00Tamar.txt >BGH0_s00GoldStandard.txt"
      ],
      "execution_count": null,
      "outputs": []
    },
    {
      "cell_type": "code",
      "metadata": {
        "id": "65srZoeW-wwA"
      },
      "source": [
        "FInput = open('BGH0_s00GoldStandard.txt', 'r')\n",
        "FOutput = open('BGH0_s01GoldS_Terms.txt', 'w')\n",
        "# for statistical purposes - separately single and multiword terms\n",
        "FOutputDict1w = open('BGH0_s01GoldS_D1w.txt', 'w') # 1-word terms\n",
        "FOutputDict2w = open('BGH0_s01GoldS_D2w.txt', 'w') # 2-word terminological expressions\n",
        "FOutputDict3w = open('BGH0_s01GoldS_D3w.txt', 'w') # 3-word terminological expressions\n",
        "FOutputDictMWE = open('BGH0_s01GoldS_DMWE.txt', 'w') # more than 3 words"
      ],
      "execution_count": null,
      "outputs": []
    },
    {
      "cell_type": "code",
      "metadata": {
        "id": "zB30Z1Fm6Ic0"
      },
      "source": [
        "# creating gold-standard dictionaries for evaluation tasks:\n",
        "# import re, os, sys\n",
        "LGSTerms = [] # gold standard terms\n",
        "DGS1w = {} # dictionary of single words\n",
        "DGS2w = {} # dictionary of 2-word expressions\n",
        "DGS3w = {} # dictionary of 3-word expressions\n",
        "DGSMWE = {} # dictionary of other mwes\n",
        "IGS1w = 0 # number of annotated tokens of single words\n",
        "IGS2w = 0\n",
        "IGS3w = 0\n",
        "IGSMWE = 0 # number of annotated tokens of multiwords\n",
        "for SLine in FInput:\n",
        "    LAnnotatedTermsInLine = re.findall('<<([^><]+)>>', SLine)\n",
        "    LGSTerms.extend(LAnnotatedTermsInLine)\n",
        "\n",
        "for GSTerm in LGSTerms:\n",
        "    GSTerm = GSTerm.strip()\n",
        "    GSTerm = GSTerm.strip('„“\"().')\n",
        "\n",
        "    # everything is converted to upper case for quick dictionary lookup\n",
        "    GSTerm = GSTerm.upper()\n",
        "    \n",
        "    GSTerm = re.sub(' +', ' ', GSTerm)\n",
        "    LGSTErms = re.split(' ', GSTerm)\n",
        "    if len(LGSTErms) > 3:\n",
        "        IGSMWE += 1\n",
        "        try: DGSMWE[GSTerm] += 1\n",
        "        except: DGSMWE[GSTerm] = 1\n",
        "    elif len(LGSTErms) > 2:\n",
        "        IGS3w += 1\n",
        "        try: DGS3w[GSTerm] += 1\n",
        "        except: DGS3w[GSTerm] = 1\n",
        "    elif len(LGSTErms) > 1:\n",
        "        IGS2w += 1\n",
        "        try: DGS2w[GSTerm] +=1\n",
        "        except: DGS2w[GSTerm] = 1\n",
        "    else:\n",
        "        IGS1w += 1\n",
        "        try: DGS1w[GSTerm] +=1\n",
        "        except: DGS1w[GSTerm] = 1\n",
        "\n",
        "    FOutput.write(GSTerm + '\\n')\n",
        "\n",
        "FOutputDictMWE.write('# Number of tokens: ' + str(IGSMWE) + '\\n')\n",
        "FOutputDict3w.write('# Number of tokens: ' + str(IGS3w) + '\\n')\n",
        "FOutputDict2w.write('# Number of tokens: ' + str(IGS2w) + '\\n')\n",
        "FOutputDict1w.write('# Number of tokens: ' + str(IGS1w) + '\\n')\n",
        "\n",
        "printDictionary(DGSMWE, FOutputDictMWE)\n",
        "printDictionary(DGS3w, FOutputDict3w)\n",
        "printDictionary(DGS2w, FOutputDict2w)\n",
        "printDictionary(DGS1w, FOutputDict1w)\n",
        "\n",
        "FOutputDictMWE.flush()\n",
        "FOutputDictMWE.close()\n",
        "FOutputDict3w.flush()\n",
        "FOutputDict3w.close()\n",
        "FOutputDict2w.flush()\n",
        "FOutputDict2w.close()\n",
        "FOutputDict1w.flush()\n",
        "FOutputDict1w.close()\n",
        "\n",
        "FOutput.flush()\n",
        "FOutput.close()\n",
        "\n",
        "FInput.close()"
      ],
      "execution_count": null,
      "outputs": []
    },
    {
      "cell_type": "markdown",
      "metadata": {
        "id": "CZ0gL2rD-6Py"
      },
      "source": [
        "## Preparing the 'keyness' dictionary"
      ]
    },
    {
      "cell_type": "code",
      "metadata": {
        "id": "iceETOGHG8ie"
      },
      "source": [
        "# Stage 2: preparing keyness dictionary\n",
        "!wget https://heibox.uni-heidelberg.de/f/aa4560e627bd4b1d8055/?dl=1\n",
        "!mv index.html?dl=1 TK_KW_Verif_V02.csv\n",
        "\n",
        "!wget https://heibox.uni-heidelberg.de/f/a83ba95576a244a59966/?dl=1\n",
        "!mv index.html?dl=1 KW_BGH_10000.tsv"
      ],
      "execution_count": null,
      "outputs": []
    },
    {
      "cell_type": "code",
      "metadata": {
        "id": "2okBQ92YwfKw"
      },
      "source": [
        "# Preparing a dictionnary of keyness weights, checking the 'approval' status\n",
        "FInputKW = open('TK_KW_Verif_V02.csv', 'r')\n",
        "FInputKWLarge = open('KW_BGH_10000.tsv', 'r') # for experiments with Precision / Recall\n",
        "FOutputKW = open('TK_KW_Verif_V02.txt', 'w')\n",
        "# FOutputGSKWS1w = open('BGH1_s01GoldSKW_D1w.txt', 'w')\n",
        "# FOutputGSKWS2w = open('BGH1_s01GoldSKW_D2w.txt', 'w')\n",
        "# FOutputGSKWS3w = open('BGH1_s01GoldSKW_D3w.txt', 'w')\n",
        "# FOutputGSKWSMWE = open('BGH1_s01GoldSKW_MWE.txt', 'w')"
      ],
      "execution_count": null,
      "outputs": []
    },
    {
      "cell_type": "code",
      "metadata": {
        "id": "im1Syy-JwqWt"
      },
      "source": [
        "DScoresKW = {} # keywords - scores\n",
        "DScoresNK = {} # non-keywords\n",
        "DStatKW = {} # status: key/non-key-word\n",
        "for Line in FInputKW:\n",
        "    LFieldsKW = re.split('\\t', Line) # add: strip()\n",
        "    SWord = LFieldsKW[1]\n",
        "    AKScore = float(LFieldsKW[2])\n",
        "    AKStat = float(LFieldsKW[3])\n",
        "    DStatKW[SWord] = AKStat\n",
        "    if AKStat > 0: # change value to 0.5 if we need to restrict to 'sure' terms only (value 1)\n",
        "        DScoresKW[SWord] = AKScore\n",
        "    else:\n",
        "        DScoresNK[SWord] = AKScore"
      ],
      "execution_count": null,
      "outputs": []
    },
    {
      "cell_type": "code",
      "metadata": {
        "id": "9Dg2sbpGB5ze"
      },
      "source": [
        "# reading the large keyword dictionary\n",
        "DScoresKWLarge = readDictionary(FInputKWLarge, Caps=True)"
      ],
      "execution_count": null,
      "outputs": []
    },
    {
      "cell_type": "code",
      "metadata": {
        "id": "XowrNS8l0YQk"
      },
      "source": [
        "# we create a dictionary of keyness values with only upper case letters, which will be checked against also uppercased term candidates\n",
        "# the same dictionary as DScoresKW, but with ensured conversion in to upper case:\n",
        "DScoresREKWquick = {} # dictionary of RE\n",
        "for kw, val in DScoresKW.items():\n",
        "    SUpperC = kw.upper() # making sure our key words are in upper case\n",
        "    # these are the alternatives, which we do not consider in this stage...\n",
        "    # SLowerC = kw.lower()\n",
        "    # SSentenceC = kw.capitalize()\n",
        "    # RPatternKW = re.compile('^' + kw + '$', re.IGNORECASE)\n",
        "    DScoresREKWquick[SUpperC] = val # \n",
        "    # DScoresREKWquick[SLowerC] = val # \n",
        "    # DScoresREKWquick[SSentenceC] = val # "
      ],
      "execution_count": null,
      "outputs": []
    },
    {
      "cell_type": "code",
      "metadata": {
        "id": "AtUKUkDi5fdd"
      },
      "source": [
        "printDictionary(DScoresREKWquick, FOutputKW)"
      ],
      "execution_count": null,
      "outputs": []
    },
    {
      "cell_type": "markdown",
      "metadata": {
        "id": "nf3a_32PIioD"
      },
      "source": [
        "## Preparing a dictionary of automatically extracted terms using PoS configurations vs. key-word based enhancements and re-orderings of this list"
      ]
    },
    {
      "cell_type": "code",
      "metadata": {
        "id": "FVXmJo4PHx5-"
      },
      "source": [
        "# Stage 3: Reading a file with extracted terms; capitalizing everything...\n",
        "# Reading test data - Possible Terms (extracted automatically): reading the text files of single and multiword terms, recording ranks\n",
        "# single words candidates\n",
        "#\n",
        "# Warning: these files are 8 and 70 MB respectively (relatively large to view on-line)\n",
        "!wget https://heibox.uni-heidelberg.de/f/a9171080790f4932b7b1/?dl=1\n",
        "!mv index.html?dl=1 BGH0_s02term1w.txt\n",
        "\n",
        "# multiword candidates\n",
        "!wget https://heibox.uni-heidelberg.de/f/2488701205e34e4683b1/?dl=1\n",
        "!mv index.html?dl=1 BGH0_s02termMWE.txt"
      ],
      "execution_count": null,
      "outputs": []
    },
    {
      "cell_type": "code",
      "metadata": {
        "id": "XDa-Ti5JHn_h"
      },
      "source": [
        "FAutoTerms1w = open('BGH0_s02term1w.txt', 'r')\n",
        "FAutoTermsMWE = open('BGH0_s02termMWE.txt', 'r')"
      ],
      "execution_count": null,
      "outputs": []
    },
    {
      "cell_type": "code",
      "metadata": {
        "id": "no-I_PP8Y9So"
      },
      "source": [
        "# ... here we will add functions for reading this dictionary (e.g., as ranked list, etc.)\n",
        "DAutoTerms1w = readDictionary(FAutoTerms1w, Caps=True)\n",
        "DAutoTermsMWE = readDictionary(FAutoTermsMWE, Caps=True)"
      ],
      "execution_count": null,
      "outputs": []
    },
    {
      "cell_type": "code",
      "metadata": {
        "id": "45N7ox-OKpD6"
      },
      "source": [
        "# optional: convert values to ranks\n",
        "DAutoTermsR1w = rankDict(DAutoTerms1w)\n",
        "DAutoTermsRMWE = rankDict(DAutoTermsMWE)"
      ],
      "execution_count": null,
      "outputs": []
    },
    {
      "cell_type": "code",
      "metadata": {
        "id": "s1IwZfeeNtGW"
      },
      "source": [
        "# Stage 3.1 combine extracted words with keyness (e.g., filter by keyness, etc.)\n",
        "# here we will add / combine information about keyness...\n",
        "# to be implemented..."
      ],
      "execution_count": null,
      "outputs": []
    },
    {
      "cell_type": "markdown",
      "metadata": {
        "id": "d-JdMo0qPWx6"
      },
      "source": [
        "We will check:\n",
        "\n",
        "- how terminology extraction works for Precison and Recall (intersecting the Gold Standard and extracted terms); \n",
        "\n",
        "- how high is the rank of the terms in the extracted list, etc..."
      ]
    },
    {
      "cell_type": "code",
      "metadata": {
        "id": "KTMBRsW0JdXA"
      },
      "source": [
        "# Stage04: preparing data for calculating precision and recall on the space of all possible MWEs, 1, 2, 3 words; (overlapping)\n",
        "# keeping only 1 version of the text (2 annotators annotated the same text twice to measure interannotator agreement)\n",
        "!cat BGH1_s00Astghik.txt BGH2_s00Hayk.txt BGH3_s00Tamar.txt >BGH0_s03GoldStandard1Version.txt\n"
      ],
      "execution_count": null,
      "outputs": []
    },
    {
      "cell_type": "markdown",
      "metadata": {
        "id": "fx_y4aAx6bbv"
      },
      "source": [
        "This function will be used for measuring P and R:\n",
        "one-way comparison of dictionaries"
      ]
    },
    {
      "cell_type": "code",
      "metadata": {
        "id": "uaQVspvOj51o"
      },
      "source": [
        "FInputGS1V = open('BGH0_s03GoldStandard1Version.txt', 'r')\n",
        "# tokenizing gold standard\n",
        "'''\n",
        "The idea is to tokenise the gold standard (from Stage 0), and to generate all possible MWEs for each string / pargraph\n",
        "    then we can test what is the coverage (non-overlapping) or precision (overlapping)\n",
        "    or: we create a dictionary of potential single and MWE strings and check what has been identified ?\n",
        "    or: comparing with 'oracle': known annotations are run as a point of comparision on the space; and we establish relations, i.e., the amount of over-generation\n",
        "\n",
        "    tasks: \n",
        "        4a: create the \"all possible strings\" space from gold standard text\n",
        "        4b: intersect 4a results with corpus list of extracted MWEs >> generate \"extracted from gold standard\" dictionary\n",
        "        4c: intersect human annotation in gold standard with 3a >> generate \"correct in gold standard\" dictionary\n",
        "        4d: intersect 4b and 4c, >> correctly extracted\n",
        "        4e: calculate 4d/4b = precision\n",
        "            calculate 4d/4c = recall\n",
        "\n",
        "'''\n",
        "# 3a: processing gold standard: tokenizing\n",
        "import re, os, sys\n",
        "LLParTokens = [] # List of paragraphs, each represented as a list of tokens\n",
        "for SLine in FInputGS1V:\n",
        "    # print(SLine)\n",
        "    SLine = SLine.strip() # implement this change\n",
        "\n",
        "    # remove annotation\n",
        "\n",
        "\n",
        "    SLine = re.sub('[<>]+', ' ', SLine)\n",
        "    SLine = re.sub(' +', ' ', SLine)\n",
        "\n",
        "\n",
        "\n",
        "    SLine = SLine.upper() # capitalize all words\n",
        "    # print(SLine)\n",
        "\n",
        "    LLine = re.split(' ', SLine) \n",
        "\n",
        "    # separate punctuation\n",
        "    LLine = re.findall(r\"[\\w']+|[.,!?;()\\-„“\\\"]\", SLine)\n",
        "    # SLine = re.sub(r'(,\\.;:\\-\\!\\?\\(\\)\\[\\]\\“\\\")', r' \\1 ', SLine)\n",
        "\n",
        "    LLine = list(filter(None, LLine))\n",
        "    LLParTokens.append(LLine)\n",
        "\n",
        "FInputGS1V.close()\n"
      ],
      "execution_count": null,
      "outputs": []
    },
    {
      "cell_type": "code",
      "metadata": {
        "id": "AMpKbSTsjZ-a"
      },
      "source": [
        "print(str(LLParTokens[9]))"
      ],
      "execution_count": null,
      "outputs": []
    },
    {
      "cell_type": "code",
      "metadata": {
        "id": "8ygnQ9IZkz3R"
      },
      "source": [
        "# Stage 4A\n",
        "# generating candidate MWEs for cheking if / when they have been identified as terms\n",
        "# algorithm from Terminologieextraktion3 notebook\n",
        "# 4a: creating space of all possible overlapping MWEs in gold standard\n",
        "\n",
        "def tokens2candNGrams(LWords, N): # working with specific N-gram size, to keep number of candidates under control\n",
        "    '''\n",
        "    convert a list of tokens into a list of all possible MWEs (works for each paragraph)\n",
        "    '''\n",
        "    LLCandidates = [] # lists - tokenised results\n",
        "    # LSCandidates = [] # strings - joint results\n",
        "\n",
        "    for i in range(N): # for up to the required N-gram length\n",
        "\n",
        "        for IPosition in range(len(LWords) - i): # unigrams -- no change; bigrams: up to penultimate, etc.\n",
        "            LCandidate = LWords[IPosition : IPosition + i + 1]\n",
        "            # SCandidate = ' '.join(LCandidate)\n",
        "            LLCandidates.append(LCandidate)\n",
        "        # LSCandidates.append(SCandidate)\n",
        "    \n",
        "    return LLCandidates\n",
        "\n",
        "\n",
        "# LLCandidates = tokens2candNGrams(['this', 'is', 'a', 'test', 'of', 'the', 'function'], 4)\n",
        "# for L in LLCandidates:\n",
        "#    print(str(L))\n",
        "\n",
        "#    ''' # full version; now abandoned...\n",
        "#    for klen in range(len(LWords)): # lengths of candidate lists\n",
        "#        klength = klen+1 # true length: for 0 it is le = 1\n",
        "#        # print(f'klen:{klength};')\n",
        "#        for i in range(len(LWords) - klen): # positions where candidates start\n",
        "#            # print(f'i:{i};')\n",
        "#            LCandidate = LWords[i:i+klength]\n",
        "#            SCandidate = ' '.join(LCandidate)\n",
        "#            LLCandidates.append(LCandidate)\n",
        "#            LSCandidates.append(SCandidate)\n",
        "#        \n",
        "#    return LLCandidates, LSCandidates\n",
        "#    '''"
      ],
      "execution_count": null,
      "outputs": []
    },
    {
      "cell_type": "code",
      "metadata": {
        "id": "U8NvSEc-dbE8"
      },
      "source": [
        "DA_1W = {} # dictionary of 1-word candidates from the gold standard text (to be tested)\n",
        "DA_2W = {} # dictionary of 2-word candidates from the gold standard text (to be tested)\n",
        "DA_3W = {} # dictionary of 3-word candidates from the gold standard text (to be tested)\n",
        "DA_MWE = {} # dictionary of MWE candidates from the gold standard text (to be tested)\n",
        "\n",
        "for LTokens in LLParTokens: # for each paragraph\n",
        "    LLCandidates = tokens2candNGrams(LTokens, 4)\n",
        "    # print(str(LLCandidates))\n",
        "    for LCandidate in LLCandidates:\n",
        "        SCandidate = ' '.join(LCandidate)\n",
        "        if len(LCandidate) > 3:\n",
        "            try:\n",
        "                DA_MWE[SCandidate] += 1\n",
        "            except:\n",
        "                DA_MWE[SCandidate] = 1  \n",
        "        elif len(LCandidate) > 2:\n",
        "            try:\n",
        "                DA_3W[SCandidate] += 1\n",
        "            except:\n",
        "                DA_3W[SCandidate] = 1  \n",
        "        elif len(LCandidate) > 1:\n",
        "            try:\n",
        "                DA_2W[SCandidate] += 1\n",
        "            except:\n",
        "                DA_2W[SCandidate] = 1  \n",
        "        else:\n",
        "            try:\n",
        "                DA_1W[SCandidate] += 1\n",
        "            except:\n",
        "                DA_1W[SCandidate] = 1\n"
      ],
      "execution_count": null,
      "outputs": []
    },
    {
      "cell_type": "code",
      "metadata": {
        "id": "q-3xaIslkrlm"
      },
      "source": [
        "FOutputA1w = open('BGH0_s04A_1w_res.txt', 'w')\n",
        "FOutputA2w = open('BGH0_s04A_2w_res.txt', 'w')\n",
        "FOutputA3w = open('BGH0_s04A_3w_res.txt', 'w')\n",
        "FOutputAMWE = open('BGH0_s04A_MWE_res.txt', 'w')"
      ],
      "execution_count": null,
      "outputs": []
    },
    {
      "cell_type": "code",
      "metadata": {
        "id": "CnQeFPXGg_3j"
      },
      "source": [
        "printDictionary(DA_1W, FOutputA1w, Rev = True)\n",
        "printDictionary(DA_2W, FOutputA2w, Rev = True)\n",
        "printDictionary(DA_3W, FOutputA3w, Rev = True)\n",
        "printDictionary(DA_MWE, FOutputAMWE, Rev = True)"
      ],
      "execution_count": null,
      "outputs": []
    },
    {
      "cell_type": "code",
      "metadata": {
        "id": "b75ahKJ2Tr8Q"
      },
      "source": [
        "# Stage 4B \n",
        "# creating output files for B\n",
        "FOutputFOUND1wBinA = open('BGH0_s04BinA1w_resY.txt', 'w')\n",
        "FOutputMISSING1wBinA = open('BGH0_s04BinA1w_resN.txt', 'w')\n",
        "\n",
        "FOutputFOUND2wBinA = open('BGH0_s04BinA2w_resY.txt', 'w')\n",
        "FOutputMISSING2wBinA = open('BGH0_s04BinA2w_resN.txt', 'w')\n",
        "\n",
        "FOutputFOUND3wBinA = open('BGH0_s04BinA3w_resY.txt', 'w')\n",
        "FOutputMISSING3wBinA = open('BGH0_s04BinA3w_resN.txt', 'w')\n",
        "\n",
        "FOutputFOUNDMWEsBinA = open('BGH0_s04BinAMWE_resY.txt', 'w')\n",
        "FOutputMISSINGMWEsBinA = open('BGH0_s04BinAMWE_resN.txt', 'w')"
      ],
      "execution_count": null,
      "outputs": []
    },
    {
      "cell_type": "code",
      "metadata": {
        "id": "drezLRNp6VUi"
      },
      "source": [
        "# Stage 4B preparing B-set for calculating performance\n",
        "AFound1wBinA, AAverageFoundRanks1wBinA, DB_1W = countIntersectDictionaries(DA_1W, DAutoTermsR1w, FOutputFOUND1wBinA, FOutputMISSING1wBinA, SortBy = 0, Rev = False)\n",
        "AFound2wBinA, AAverageFoundRanks2wBinA, DB_2W = countIntersectDictionaries(DA_2W, DAutoTermsRMWE, FOutputFOUND1wBinA, FOutputMISSING1wBinA, SortBy = 0, Rev = False)\n",
        "AFound3wBinA, AAverageFoundRanks3wBinA, DB_3W = countIntersectDictionaries(DA_3W, DAutoTermsRMWE, FOutputFOUND1wBinA, FOutputMISSING1wBinA, SortBy = 0, Rev = False)\n",
        "AFoundMWEBinA, AAverageFoundRanksMWEBinA, DB_MWE = countIntersectDictionaries(DA_MWE, DAutoTermsRMWE, FOutputFOUNDMWEsBinA, FOutputMISSINGMWEsBinA, SortBy = 0, Rev = False)\n"
      ],
      "execution_count": null,
      "outputs": []
    }
  ]
}