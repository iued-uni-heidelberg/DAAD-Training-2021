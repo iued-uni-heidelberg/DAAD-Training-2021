{
  "nbformat": 4,
  "nbformat_minor": 0,
  "metadata": {
    "colab": {
      "name": "compLingProject104SentenceAlignmentHunalignV04.ipynb",
      "provenance": [],
      "collapsed_sections": [],
      "include_colab_link": true
    },
    "kernelspec": {
      "name": "python3",
      "display_name": "Python 3"
    },
    "language_info": {
      "name": "python"
    }
  },
  "cells": [
    {
      "cell_type": "markdown",
      "metadata": {
        "id": "view-in-github",
        "colab_type": "text"
      },
      "source": [
        "<a href=\"https://colab.research.google.com/github/iued-uni-heidelberg/DAAD-Training-2021/blob/main/compLingProject104SentenceAlignmentHunalignV04.ipynb\" target=\"_parent\"><img src=\"https://colab.research.google.com/assets/colab-badge.svg\" alt=\"Open In Colab\"/></a>"
      ]
    },
    {
      "cell_type": "markdown",
      "source": [
        "# Experiments with alignment tools"
      ],
      "metadata": {
        "id": "hhDdKnVbT6Aa"
      }
    },
    {
      "cell_type": "markdown",
      "source": [
        "resources / corpora:\n",
        "https://heibox.uni-heidelberg.de/d/d65daff8341e467c82b1/\n",
        "\n",
        "\n",
        "Instructions are here:\n",
        "https://github.com/danielvarga/hunalign\n"
      ],
      "metadata": {
        "id": "iM-SQNgcjh6t"
      }
    },
    {
      "cell_type": "code",
      "execution_count": 1,
      "metadata": {
        "id": "5wTTt2yCTo7U",
        "colab": {
          "base_uri": "https://localhost:8080/"
        },
        "outputId": "5d178452-8b40-48e3-ee10-1e1fd88eb3d2"
      },
      "outputs": [
        {
          "output_type": "stream",
          "name": "stdout",
          "text": [
            "Cloning into 'hunalign'...\n",
            "remote: Enumerating objects: 397, done.\u001b[K\n",
            "remote: Total 397 (delta 0), reused 0 (delta 0), pack-reused 397\u001b[K\n",
            "Receiving objects: 100% (397/397), 7.60 MiB | 11.79 MiB/s, done.\n",
            "Resolving deltas: 100% (191/191), done.\n"
          ]
        }
      ],
      "source": [
        "!git clone https://github.com/danielvarga/hunalign.git"
      ]
    },
    {
      "cell_type": "code",
      "source": [
        "%cd hunalign/src/hunalign\n",
        "!pwd"
      ],
      "metadata": {
        "id": "ZddMwgW9T5Rj",
        "colab": {
          "base_uri": "https://localhost:8080/"
        },
        "outputId": "9c5477b7-e30d-4113-e759-a2abd1ed1731"
      },
      "execution_count": 2,
      "outputs": [
        {
          "output_type": "stream",
          "name": "stdout",
          "text": [
            "/content/hunalign/src/hunalign\n",
            "/content/hunalign/src/hunalign\n"
          ]
        }
      ]
    },
    {
      "cell_type": "code",
      "source": [
        "!make"
      ],
      "metadata": {
        "id": "hJbwoRqGVK_O",
        "colab": {
          "base_uri": "https://localhost:8080/"
        },
        "outputId": "53182993-7e46-4fff-d946-523f11194778"
      },
      "execution_count": 3,
      "outputs": [
        {
          "output_type": "stream",
          "name": "stdout",
          "text": [
            "g++  -O9 -ffast-math -funroll-loops -I ../include  -c -o alignerTool.o alignerTool.cpp\n",
            "g++  -O9 -ffast-math -funroll-loops -I ../include  -c -o alignment.o alignment.cpp\n",
            "g++  -O9 -ffast-math -funroll-loops -I ../include  -c -o bloom.o bloom.cpp\n",
            "g++  -O9 -ffast-math -funroll-loops -I ../include  -c -o bookToMatrix.o bookToMatrix.cpp\n",
            "g++  -O9 -ffast-math -funroll-loops -I ../include  -c -o cooccurrence.o cooccurrence.cpp\n",
            "In file included from \u001b[01m\u001b[K/usr/include/c++/7/ext/hash_map:60:0\u001b[m\u001b[K,\n",
            "                 from \u001b[01m\u001b[K../include/portableHash.h:23\u001b[m\u001b[K,\n",
            "                 from \u001b[01m\u001b[Kcooccurrence.cpp:36\u001b[m\u001b[K:\n",
            "\u001b[01m\u001b[K/usr/include/c++/7/backward/backward_warning.h:32:2:\u001b[m\u001b[K \u001b[01;35m\u001b[Kwarning: \u001b[m\u001b[K#warning This file includes at least one deprecated or antiquated header which may be removed without further notice at a future date. Please use a non-deprecated interface with equivalent functionality instead. For a listing of replacement headers and interfaces, consult the file backward_warning.h. To disable this warning use -Wno-deprecated. [\u001b[01;35m\u001b[K-Wcpp\u001b[m\u001b[K]\n",
            " #\u001b[01;35m\u001b[Kwarning\u001b[m\u001b[K \\\n",
            "  \u001b[01;35m\u001b[K^~~~~~~\u001b[m\u001b[K\n",
            "g++  -O9 -ffast-math -funroll-loops -I ../include  -c -o cooccurrenceTool.o cooccurrenceTool.cpp\n",
            "g++  -O9 -ffast-math -funroll-loops -I ../include  -c -o dictionary.o dictionary.cpp\n",
            "g++  -O9 -ffast-math -funroll-loops -I ../include  -c -o main.o main.cpp\n",
            "g++  -O9 -ffast-math -funroll-loops -I ../include  -c -o networkFlow.o networkFlow.cpp\n",
            "In file included from \u001b[01m\u001b[K/usr/include/c++/7/ext/hash_map:60:0\u001b[m\u001b[K,\n",
            "                 from \u001b[01m\u001b[K../include/portableHash.h:23\u001b[m\u001b[K,\n",
            "                 from \u001b[01m\u001b[KnetworkFlow.cpp:15\u001b[m\u001b[K:\n",
            "\u001b[01m\u001b[K/usr/include/c++/7/backward/backward_warning.h:32:2:\u001b[m\u001b[K \u001b[01;35m\u001b[Kwarning: \u001b[m\u001b[K#warning This file includes at least one deprecated or antiquated header which may be removed without further notice at a future date. Please use a non-deprecated interface with equivalent functionality instead. For a listing of replacement headers and interfaces, consult the file backward_warning.h. To disable this warning use -Wno-deprecated. [\u001b[01;35m\u001b[K-Wcpp\u001b[m\u001b[K]\n",
            " #\u001b[01;35m\u001b[Kwarning\u001b[m\u001b[K \\\n",
            "  \u001b[01;35m\u001b[K^~~~~~~\u001b[m\u001b[K\n",
            "g++  -O9 -ffast-math -funroll-loops -I ../include  -c -o oldAlignTest.o oldAlignTest.cpp\n",
            "g++  -O9 -ffast-math -funroll-loops -I ../include  -c -o trailPostprocessors.o trailPostprocessors.cpp\n",
            "g++  -O9 -ffast-math -funroll-loops -I ../include  -c -o translate.o translate.cpp\n",
            "g++  -O9 -ffast-math -funroll-loops -I ../include  -c -o wordAlignment.o wordAlignment.cpp\n",
            "g++  -O9 -ffast-math -funroll-loops -I ../include  -c -o ../utils/stringsAndStreams.o ../utils/stringsAndStreams.cpp\n",
            "g++  -O9 -ffast-math -funroll-loops -I ../include  -c -o ../utils/argumentsParser.o ../utils/argumentsParser.cpp\n",
            "g++  -O9 -ffast-math -funroll-loops -I ../include  -c -o ../utils/timer.o ../utils/timer.cpp\n",
            "g++ -O9 -ffast-math -funroll-loops -I ../include -lstdc++ -o hunalign alignerTool.o alignment.o bloom.o bookToMatrix.o cooccurrence.o cooccurrenceTool.o dictionary.o main.o networkFlow.o oldAlignTest.o trailPostprocessors.o translate.o wordAlignment.o ../utils/stringsAndStreams.o ../utils/argumentsParser.o ../utils/timer.o\n"
          ]
        }
      ]
    },
    {
      "cell_type": "code",
      "source": [
        "%cd /content/hunalign/\n",
        "!pwd\n",
        "!src/hunalign/hunalign data/hu-en.stem.dic examples/demo.hu.stem examples/demo.en.stem -hand=examples/demo.manual.ladder -text > /tmp/align.txt\n",
        "# !less /tmp/align.txt"
      ],
      "metadata": {
        "id": "fVz4B9KoVW7T"
      },
      "execution_count": null,
      "outputs": []
    },
    {
      "cell_type": "code",
      "source": [
        "!head --lines=20 /tmp/align.txt"
      ],
      "metadata": {
        "id": "aSfCT3TzeYfl"
      },
      "execution_count": null,
      "outputs": []
    },
    {
      "cell_type": "code",
      "source": [
        "%cd /content/\n",
        "!pwd"
      ],
      "metadata": {
        "colab": {
          "base_uri": "https://localhost:8080/"
        },
        "id": "OtZIH64gfTO6",
        "outputId": "c8809cc6-5d1d-4bfa-92b8-a89cbd0af567"
      },
      "execution_count": 9,
      "outputs": [
        {
          "output_type": "stream",
          "name": "stdout",
          "text": [
            "/content\n",
            "/content\n"
          ]
        }
      ]
    },
    {
      "cell_type": "code",
      "source": [
        "# downloading files - en es\n",
        "!wget https://heibox.uni-heidelberg.de/f/dc01904f8f9040a69610/?dl=1\n",
        "!mv index.html?dl=1 en-RE01.txt\n",
        "!wget https://heibox.uni-heidelberg.de/f/646957ccb3d24f359ed7/?dl=1\n",
        "!mv index.html?dl=1 es-RE01.txt"
      ],
      "metadata": {
        "id": "4C3Lu_yijc-2",
        "colab": {
          "base_uri": "https://localhost:8080/"
        },
        "outputId": "08ae439d-ae47-48ac-b0c5-e55fd4a65484"
      },
      "execution_count": 10,
      "outputs": [
        {
          "output_type": "stream",
          "name": "stdout",
          "text": [
            "--2021-12-19 20:59:09--  https://heibox.uni-heidelberg.de/f/dc01904f8f9040a69610/?dl=1\n",
            "Resolving heibox.uni-heidelberg.de (heibox.uni-heidelberg.de)... 129.206.7.113\n",
            "Connecting to heibox.uni-heidelberg.de (heibox.uni-heidelberg.de)|129.206.7.113|:443... connected.\n",
            "HTTP request sent, awaiting response... 302 Found\n",
            "Location: https://heibox.uni-heidelberg.de/seafhttp/files/009bab78-9ce9-4dc1-a1cf-b7351e499bbb/en-RE01.txt [following]\n",
            "--2021-12-19 20:59:10--  https://heibox.uni-heidelberg.de/seafhttp/files/009bab78-9ce9-4dc1-a1cf-b7351e499bbb/en-RE01.txt\n",
            "Reusing existing connection to heibox.uni-heidelberg.de:443.\n",
            "HTTP request sent, awaiting response... 200 OK\n",
            "Length: 5340 (5.2K) [text/plain]\n",
            "Saving to: ‘index.html?dl=1’\n",
            "\n",
            "index.html?dl=1     100%[===================>]   5.21K  --.-KB/s    in 0.04s   \n",
            "\n",
            "2021-12-19 20:59:10 (145 KB/s) - ‘index.html?dl=1’ saved [5340/5340]\n",
            "\n",
            "--2021-12-19 20:59:10--  https://heibox.uni-heidelberg.de/f/646957ccb3d24f359ed7/?dl=1\n",
            "Resolving heibox.uni-heidelberg.de (heibox.uni-heidelberg.de)... 129.206.7.113\n",
            "Connecting to heibox.uni-heidelberg.de (heibox.uni-heidelberg.de)|129.206.7.113|:443... connected.\n",
            "HTTP request sent, awaiting response... 302 Found\n",
            "Location: https://heibox.uni-heidelberg.de/seafhttp/files/bf565d47-311b-49d2-8468-3608384977b8/es-RE01.txt [following]\n",
            "--2021-12-19 20:59:12--  https://heibox.uni-heidelberg.de/seafhttp/files/bf565d47-311b-49d2-8468-3608384977b8/es-RE01.txt\n",
            "Reusing existing connection to heibox.uni-heidelberg.de:443.\n",
            "HTTP request sent, awaiting response... 200 OK\n",
            "Length: 6962 (6.8K) [text/plain]\n",
            "Saving to: ‘index.html?dl=1’\n",
            "\n",
            "index.html?dl=1     100%[===================>]   6.80K  --.-KB/s    in 0.06s   \n",
            "\n",
            "2021-12-19 20:59:12 (114 KB/s) - ‘index.html?dl=1’ saved [6962/6962]\n",
            "\n"
          ]
        }
      ]
    },
    {
      "cell_type": "code",
      "source": [
        "# downloading files - en de\n",
        "!wget https://heibox.uni-heidelberg.de/f/dc489828a2d642bfba82/?dl=1\n",
        "!mv index.html?dl=1 ab-t01-en.txt\n",
        "# English file\n",
        "!wget https://heibox.uni-heidelberg.de/f/e7e542d75d7644d1857d/?dl=1\n",
        "!mv index.html?dl=1 ab-t01-de.txt\n",
        "# Other language files"
      ],
      "metadata": {
        "id": "-irmCMkDjfjK"
      },
      "execution_count": null,
      "outputs": []
    },
    {
      "cell_type": "code",
      "source": [
        "head"
      ],
      "metadata": {
        "id": "S7VB7wPmes6C"
      },
      "execution_count": null,
      "outputs": []
    },
    {
      "cell_type": "code",
      "source": [
        "!src/hunalign/hunalign -text -realign -autodict=es2enAutodict.txt data/null.dic en-RE01.txt es-RE01.txt > en2esAlignment.txt"
      ],
      "metadata": {
        "id": "YbI3WH-WccuO"
      },
      "execution_count": null,
      "outputs": []
    },
    {
      "cell_type": "code",
      "source": [
        "!src/hunalign/hunalign -text -realign -autodict=en2deAutodict.txt data/null.dic ab-t01-en.txt ab-t01-de.txt > ab-t01-en2de.tsv"
      ],
      "metadata": {
        "id": "JBo3h8SMdZfv"
      },
      "execution_count": null,
      "outputs": []
    },
    {
      "cell_type": "code",
      "source": [
        "!cp es2enAutodict.txt es2enAutodict.dic\n",
        "!cp de2enAutodict.txt en2deAutodict.dic"
      ],
      "metadata": {
        "id": "V_gxwlekhkZW"
      },
      "execution_count": null,
      "outputs": []
    },
    {
      "cell_type": "code",
      "source": [
        "!src/hunalign/hunalign -text -realign -autodict=es2enAutodict2.txt es2enAutodict.dict en-RE01.txt es-RE01.txt > en2esAlignment2.txt"
      ],
      "metadata": {
        "id": "yh_I8HhHivWJ"
      },
      "execution_count": null,
      "outputs": []
    },
    {
      "cell_type": "code",
      "source": [
        ""
      ],
      "metadata": {
        "id": "RNOcPgxXeBoy"
      },
      "execution_count": null,
      "outputs": []
    },
    {
      "cell_type": "code",
      "source": [
        "%cd /content/"
      ],
      "metadata": {
        "colab": {
          "base_uri": "https://localhost:8080/"
        },
        "id": "4uqIFYZHlaTo",
        "outputId": "5fa40cf3-9aa1-432d-a65f-df261482e499"
      },
      "execution_count": null,
      "outputs": [
        {
          "output_type": "stream",
          "name": "stdout",
          "text": [
            "/content\n"
          ]
        }
      ]
    }
  ]
}