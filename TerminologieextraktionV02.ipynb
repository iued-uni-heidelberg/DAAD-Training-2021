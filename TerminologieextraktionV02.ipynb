{
  "nbformat": 4,
  "nbformat_minor": 0,
  "metadata": {
    "colab": {
      "name": "TerminologieextraktionV02.ipynb",
      "provenance": [],
      "collapsed_sections": [],
      "include_colab_link": true
    },
    "kernelspec": {
      "name": "python3",
      "display_name": "Python 3"
    },
    "language_info": {
      "name": "python"
    }
  },
  "cells": [
    {
      "cell_type": "markdown",
      "metadata": {
        "id": "view-in-github",
        "colab_type": "text"
      },
      "source": [
        "<a href=\"https://colab.research.google.com/github/iued-uni-heidelberg/DAAD-Training-2021/blob/main/TerminologieextraktionV02.ipynb\" target=\"_parent\"><img src=\"https://colab.research.google.com/assets/colab-badge.svg\" alt=\"Open In Colab\"/></a>"
      ]
    },
    {
      "cell_type": "markdown",
      "metadata": {
        "id": "Ir693xy5khPU"
      },
      "source": [
        "# Terminology extraction excercise\n",
        "\n",
        "## Running terminology extraction script on different corpora\n",
        "\n"
      ]
    },
    {
      "cell_type": "markdown",
      "metadata": {
        "id": "fLYo1agEEIdJ"
      },
      "source": [
        "Stage 1 Morphological analysis of Armenian"
      ]
    },
    {
      "cell_type": "code",
      "metadata": {
        "id": "DTPlL9dcNIOp"
      },
      "source": [
        "# importing python libraries\n",
        "import os, re, sys"
      ],
      "execution_count": 9,
      "outputs": []
    },
    {
      "cell_type": "code",
      "metadata": {
        "id": "OtWZ1FuvlfLk"
      },
      "source": [
        "# installing Armenian morphological analyser\n",
        "!git clone https://github.com/timarkh/uniparser-grammar-eastern-armenian\n",
        "\n",
        "# Python classes\n",
        "!pip3 install uniparser-eastern-armenian\n",
        "\n",
        "# disambiguation\n",
        "!sudo apt-get install cg3\n",
        "\n",
        "from uniparser_eastern_armenian import EasternArmenianAnalyzer\n",
        "a = EasternArmenianAnalyzer()\n"
      ],
      "execution_count": null,
      "outputs": []
    },
    {
      "cell_type": "markdown",
      "metadata": {
        "id": "F7ivpN2eGbdd"
      },
      "source": [
        "Downloading Armenian texts"
      ]
    },
    {
      "cell_type": "code",
      "metadata": {
        "id": "vGu0kwjPGYF0"
      },
      "source": [
        "%%bash\n",
        "# larger corpus of human rights 2M words\n",
        "wget https://heibox.uni-heidelberg.de/f/8148c49c41b84155b75d/?dl=1\n",
        "mv index.html?dl=1 humanrights_hy_2m.txt\n",
        "\n",
        "# smaller corpus of human rights 25k words\n",
        "wget https://heibox.uni-heidelberg.de/f/c888756380ba4f42b210/?dl=1\n",
        "mv index.html?dl=1 humanrights_hy_25k.txt\n",
        "\n",
        "# George Orwell 1994 - Armenian\n",
        "wget https://heibox.uni-heidelberg.de/f/e0bfae444a5a4c76957b/?dl=1\n",
        "mv index.html?dl=1 hy1984.txt"
      ],
      "execution_count": null,
      "outputs": []
    },
    {
      "cell_type": "code",
      "metadata": {
        "id": "8OrjpVo-Fg1i"
      },
      "source": [
        "FInText = open('humanrights_hy_2m.txt','r')\n",
        "FOutText = open('humanrights_hy_2m_vert.txt','w')"
      ],
      "execution_count": 4,
      "outputs": []
    },
    {
      "cell_type": "code",
      "metadata": {
        "id": "9UlPD2WHFzdo"
      },
      "source": [
        "FInText = open('humanrights_hy_25k.txt','r')\n",
        "FOutText = open('humanrights_hy_25k_vert.txt','w')"
      ],
      "execution_count": 14,
      "outputs": []
    },
    {
      "cell_type": "code",
      "metadata": {
        "id": "JJmwltoWF1Gi"
      },
      "source": [
        "FInText = open('hy1984.txt','r')\n",
        "FOutText = open('hy1984_vert.txt','w')"
      ],
      "execution_count": 6,
      "outputs": []
    },
    {
      "cell_type": "code",
      "metadata": {
        "colab": {
          "base_uri": "https://localhost:8080/"
        },
        "id": "4yOEP9vHFzL6",
        "outputId": "cf6a1984-cae6-4383-e818-499e0b6ac46b"
      },
      "source": [
        "countLines = 0\n",
        "for SLine in FInText:\n",
        "    countLines += 1\n",
        "    if countLines % 1000 == 0: print(countLines)\n",
        "    SLine = SLine.strip()\n",
        "    ListOfWords = re.split('[ ,\\.:;\\!\\(\\)\\\"\\[\\]՞՝«»\\-\\—՝։\\։]+', SLine) # tokenize: split on white spaces and punctuation\n",
        "    # if len(ListOfWords) > 0: FOutText.write(str(ListOfWords) + '\\n')\n",
        "    analyses = a.analyze_words(ListOfWords, disambiguate=False)\n",
        "    FOutText.write('<p>\\n')\n",
        "    for ana in analyses:\n",
        "        # for wfo in ana:\n",
        "        # how to type all variants + disambiguate ?\n",
        "        wfo = ana[0]\n",
        "        FOutText.write(wfo.wf + '\\t' + wfo.gramm + '\\t' + wfo.lemma + '\\t' + wfo.gloss + '\\n')\n",
        "        #    FOutText.write(wfo.wf + '\\t' + wfo.gramm + '\\t' + wfo.lemma + '\\t' + wfo.gloss + '\\n')\n",
        "    FOutText.write('</p>\\n')\n",
        "FOutText.flush()"
      ],
      "execution_count": 15,
      "outputs": [
        {
          "output_type": "stream",
          "name": "stdout",
          "text": [
            "1000\n"
          ]
        }
      ]
    },
    {
      "cell_type": "markdown",
      "metadata": {
        "id": "Ss0MNwGKfJBH"
      },
      "source": [
        "Downloading tagged files"
      ]
    },
    {
      "cell_type": "code",
      "metadata": {
        "id": "1KOjyYUufHrl"
      },
      "source": [
        "# Human Rights corpus , George Orwell 1984\n",
        "!wget https://heibox.uni-heidelberg.de/f/76ca1cc967894f958b4d/?dl=1\n",
        "!mv index.html?dl=1 humanrights_hy_25k_vert.txt\n",
        "\n",
        "!wget https://heibox.uni-heidelberg.de/f/f3ee380798be49959e88/?dl=1\n",
        "!mv index.html?dl=1 humanrights_hy_2m_vert.txt\n",
        "\n",
        "!wget https://heibox.uni-heidelberg.de/f/e62db43a9d86447fab0e/?dl=1\n",
        "!mv index.html?dl=1 hy1984_vert.txt"
      ],
      "execution_count": null,
      "outputs": []
    },
    {
      "cell_type": "markdown",
      "metadata": {
        "id": "GlfopqbZgi70"
      },
      "source": [
        "Other corpora"
      ]
    },
    {
      "cell_type": "code",
      "metadata": {
        "id": "OXKKCk4ow8fQ"
      },
      "source": [
        "# ArmenianWP\n",
        "!wget https://heibox.uni-heidelberg.de/f/206d85a0270943e4b87b/?dl=1\n",
        "# renaming file\n",
        "!mv index.html?dl=1 WPhy_vert.txt\n",
        "\n",
        "# Constitution Republic of Armenia\n",
        "!wget https://heibox.uni-heidelberg.de/f/bf54977b17604ec592cd/?dl=1\n",
        "# renaming file\n",
        "!mv index.html?dl=1 Const_RA_l.txt\n",
        "\n",
        "# Grundgesetz\n",
        "!wget https://heibox.uni-heidelberg.de/f/d6c5b31edc84422d9e14/?dl=1\n",
        "# renaming file\n",
        "!mv index.html?dl=1 GG_l.txt\n",
        "\n",
        "# Origin of the species\n",
        "!wget https://heibox.uni-heidelberg.de/f/befc6dbe718b4a37ba74/?dl=1\n",
        "# renaming file\n",
        "!mv index.html?dl=1 OOOS_l.txt\n",
        "\n",
        "# Europarl DE\n",
        "!wget https://heibox.uni-heidelberg.de/f/3ba6122e744e4b7f9c14/?dl=1\n",
        "# renaming file\n",
        "!mv index.html?dl=1 EP_DE_l.txt\n"
      ],
      "execution_count": null,
      "outputs": []
    },
    {
      "cell_type": "code",
      "metadata": {
        "id": "UeamIEr15Lev"
      },
      "source": [
        "#Terminologieextraktion\n",
        "import os, re, sys\n",
        "\n",
        "def openFiles(SFIn, SFOut):\n",
        "    Fin = open(SFIn, 'r')\n",
        "    Fout = open(SFOut, 'w')\n",
        "    return Fin, Fout\n",
        "\n",
        "class clProcCorpus(object):\n",
        "    ''' we will read a text file and return a dictionary\n",
        "    this will be done on the line by line basis\n",
        "    The dictionary can be sorted later...\n",
        "    '''\n",
        "    # this is a class for processing a corpus\n",
        "\n",
        "    def __init__(self, FileIN):\n",
        "        self.DictFrq = {}\n",
        "        self.processCorpus(FileIN)\n",
        "\n",
        "    def processCorpus(self, FileIN):\n",
        "        LTerm = []\n",
        "        for Line in FileIN:\n",
        "            Line = Line.strip()\n",
        "            LLine = re.split('\\t', Line)\n",
        "            try:\n",
        "                Word = LLine[0]\n",
        "                PoS = LLine[1]\n",
        "                Lemma = LLine[2]\n",
        "            except:\n",
        "                Word = \"\"\n",
        "                PoS = \"\"\n",
        "                Lemma = \"\"\n",
        "            \n",
        "      #Select the Tags for your langauge\n",
        "            if re.match('N.*', PoS) or re.match('A.*', PoS): #Arm\n",
        "            #if re.match('N.*', PoS) or re.match('ADJ.*', PoS): #DE\n",
        "            #if re.match('N.*', PoS) or re.match('J.*', PoS): #EN\n",
        "\n",
        "      #Terms as Words or Lemmas\n",
        "                LTerm.append(Word)\n",
        "            else:\n",
        "                STerm = ' '.join(LTerm)\n",
        "                LTerm = []\n",
        "\n",
        "                try:\n",
        "                    self.DictFrq[STerm] += 1\n",
        "                except:\n",
        "                    self.DictFrq[STerm] = 1        \n",
        "\n",
        "        return\n",
        "\n"
      ],
      "execution_count": 37,
      "outputs": []
    },
    {
      "cell_type": "markdown",
      "metadata": {
        "id": "iErM5GUvhWFg"
      },
      "source": [
        "Please run one at a time, then run extraction\n",
        "\n",
        "Armenian:"
      ]
    },
    {
      "cell_type": "code",
      "metadata": {
        "id": "dPeLiqzLhJeZ"
      },
      "source": [
        "FileIN, FileOut = openFiles('hy1984_vert.txt', 'hy1984_terms.txt')"
      ],
      "execution_count": 38,
      "outputs": []
    },
    {
      "cell_type": "code",
      "metadata": {
        "id": "5YAuT4KWg1M_"
      },
      "source": [
        "FileIN, FileOut = openFiles('humanrights_hy_25k_vert.txt', 'humanrights_hy_25k_terms.txt')"
      ],
      "execution_count": 40,
      "outputs": []
    },
    {
      "cell_type": "code",
      "metadata": {
        "id": "kv4i3UGjg2Cu"
      },
      "source": [
        "FileIN, FileOut = openFiles('humanrights_hy_2m_vert.txt', 'humanrights_hy_2m_terms.txt')"
      ],
      "execution_count": 42,
      "outputs": []
    },
    {
      "cell_type": "code",
      "metadata": {
        "id": "Ca54CJgIhcGR"
      },
      "source": [
        "FileIN, FileOut = openFiles('Const_RA_l.txt', 'Const_RA_terms.txt')"
      ],
      "execution_count": 25,
      "outputs": []
    },
    {
      "cell_type": "code",
      "metadata": {
        "id": "3n39vu76hgwH"
      },
      "source": [
        "FileIN, FileOut = openFiles('WPhy_vert.txt', 'WPhy_terms.txt')"
      ],
      "execution_count": 27,
      "outputs": []
    },
    {
      "cell_type": "markdown",
      "metadata": {
        "id": "Qa6qjtBFhzgo"
      },
      "source": [
        "German (please change the tag configurations and re-run the Terminology extraction class cell)"
      ]
    },
    {
      "cell_type": "code",
      "metadata": {
        "id": "2UPozZpxhhRn"
      },
      "source": [
        "FileIN, FileOut = openFiles('GG_l.txt', 'GG_terms.txt')"
      ],
      "execution_count": 30,
      "outputs": []
    },
    {
      "cell_type": "code",
      "metadata": {
        "id": "tFXZpU3Chhwk"
      },
      "source": [
        "FileIN, FileOut = openFiles('EP_DE_l.txt', 'EP_DE_terms.txt')"
      ],
      "execution_count": 32,
      "outputs": []
    },
    {
      "cell_type": "markdown",
      "metadata": {
        "id": "wUrupK-Ih_sQ"
      },
      "source": [
        "English"
      ]
    },
    {
      "cell_type": "code",
      "metadata": {
        "id": "KtcNLIR9hio7"
      },
      "source": [
        "FileIN, FileOut = openFiles('OOOS_l.txt', 'OOOS_terms.txt')"
      ],
      "execution_count": 35,
      "outputs": []
    },
    {
      "cell_type": "code",
      "metadata": {
        "id": "Gv7ETOOBiWl7"
      },
      "source": [
        "# FileIN, FileOut = openFiles('', '')"
      ],
      "execution_count": null,
      "outputs": []
    },
    {
      "cell_type": "markdown",
      "metadata": {
        "id": "dSaMhh_biP2P"
      },
      "source": [
        "Now run this on the Files which you chose in the previous step"
      ]
    },
    {
      "cell_type": "code",
      "metadata": {
        "id": "PY0xMY9SMSEE"
      },
      "source": [
        "# save the frequency dictionary into file, by decreasing frequencies\n",
        "# FileOutput.write( str( DictionaryFrq ) + '\\n' )\n",
        "\n",
        "OCorpus = clProcCorpus(FileIN)\n",
        "DictionaryFrq = OCorpus.DictFrq\n",
        "\n",
        "\n",
        "for Word, Frq in sorted( DictionaryFrq.items() , key=lambda x: x[1], reverse=True):\n",
        "    if re.search(' ', Word):\n",
        "        FileOut.write(Word + '\\t' + str(Frq) + '\\n')"
      ],
      "execution_count": 43,
      "outputs": []
    },
    {
      "cell_type": "code",
      "metadata": {
        "id": "SUPLnj8E5byZ"
      },
      "source": [
        ""
      ],
      "execution_count": null,
      "outputs": []
    }
  ]
}