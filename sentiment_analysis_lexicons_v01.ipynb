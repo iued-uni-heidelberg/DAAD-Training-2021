{
  "nbformat": 4,
  "nbformat_minor": 0,
  "metadata": {
    "colab": {
      "name": "sentiment-analysis-lexicons-v01.ipynb",
      "provenance": [],
      "collapsed_sections": [],
      "authorship_tag": "ABX9TyNhlI5EDk73FdEQi3Jjbqx1",
      "include_colab_link": true
    },
    "kernelspec": {
      "name": "python3",
      "display_name": "Python 3"
    },
    "language_info": {
      "name": "python"
    }
  },
  "cells": [
    {
      "cell_type": "markdown",
      "metadata": {
        "id": "view-in-github",
        "colab_type": "text"
      },
      "source": [
        "<a href=\"https://colab.research.google.com/github/iued-uni-heidelberg/DAAD-Training-2021/blob/main/sentiment_analysis_lexicons_v01.ipynb\" target=\"_parent\"><img src=\"https://colab.research.google.com/assets/colab-badge.svg\" alt=\"Open In Colab\"/></a>"
      ]
    },
    {
      "cell_type": "markdown",
      "source": [
        "# Sentiment analysis lexicons using Twitter feeds"
      ],
      "metadata": {
        "id": "N6RzyTvBB1Ll"
      }
    },
    {
      "cell_type": "code",
      "execution_count": 1,
      "metadata": {
        "colab": {
          "base_uri": "https://localhost:8080/"
        },
        "id": "WS9m1i1CBr5T",
        "outputId": "bc7d1b3f-f896-473b-d6aa-fd6c242f8853"
      },
      "outputs": [
        {
          "output_type": "stream",
          "name": "stdout",
          "text": [
            "--2022-02-21 11:26:04--  https://heibox.uni-heidelberg.de/f/da61b08e7ec945e9b2a5/?dl=1\n",
            "Resolving heibox.uni-heidelberg.de (heibox.uni-heidelberg.de)... 129.206.7.113\n",
            "Connecting to heibox.uni-heidelberg.de (heibox.uni-heidelberg.de)|129.206.7.113|:443... connected.\n",
            "HTTP request sent, awaiting response... 302 Found\n",
            "Location: https://heibox.uni-heidelberg.de/seafhttp/files/b64feebb-e3ff-4b58-babf-766867cfcf3f/lexicon-overlap-score-examples-master.tar.gz [following]\n",
            "--2022-02-21 11:26:05--  https://heibox.uni-heidelberg.de/seafhttp/files/b64feebb-e3ff-4b58-babf-766867cfcf3f/lexicon-overlap-score-examples-master.tar.gz\n",
            "Reusing existing connection to heibox.uni-heidelberg.de:443.\n",
            "HTTP request sent, awaiting response... 200 OK\n",
            "Length: 14278919 (14M) [application/octet-stream]\n",
            "Saving to: ‘index.html?dl=1’\n",
            "\n",
            "index.html?dl=1     100%[===================>]  13.62M  8.48MB/s    in 1.6s    \n",
            "\n",
            "2022-02-21 11:26:07 (8.48 MB/s) - ‘index.html?dl=1’ saved [14278919/14278919]\n",
            "\n"
          ]
        }
      ],
      "source": [
        "!wget https://heibox.uni-heidelberg.de/f/da61b08e7ec945e9b2a5/?dl=1"
      ]
    },
    {
      "cell_type": "code",
      "source": [
        "!mv index.html?dl=1 lexicon-overlap-score-examples-master.tar.gz\n",
        "!tar -xvzf lexicon-overlap-score-examples-master.tar.gz"
      ],
      "metadata": {
        "id": "sE2DF7LCCFx3"
      },
      "execution_count": null,
      "outputs": []
    },
    {
      "cell_type": "code",
      "source": [
        "# -*- coding: utf-8 -*-\n",
        "# Python script to open each file, read json input and copy to one text file for subsequent processing\n",
        "import os, re, sys\n",
        "\n",
        "class clLex2Dict(object):\n",
        "    '''\n",
        "    @author Bogdan Babych, IÜD, Heidelberg University, 2021\n",
        "    @email bogdan [dot] babych [at] iued [dot] uni-heidelberg [dot] de\n",
        "    '''\n",
        "    def __init__(self, SDirName, output_file = 'lexicon-tweets-all.txt', filtr = 0): # initialising by openning the directories\n",
        "        self.SOutput_file = output_file\n",
        "        self.Filter = filtr\n",
        "        self.openDir(SDirName)\n",
        "        return\n",
        "\n",
        "    def openDir(self, path): # implementation of recursively openning directories from a given rule directory and reading each file recursively into a string\n",
        "        i = 0\n",
        "        DLexiconAll = {}\n",
        "        FOut = open(self.SOutput_file, 'w')\n",
        "\n",
        "        for root,d_names,f_names in os.walk(path):\n",
        "            for f in f_names: # for each file found in the directory\n",
        "                ## remove this if using on another corpus\n",
        "\n",
        "                fullpath = os.path.join(root, f)\n",
        "                i+=1\n",
        "                if i%1==0: \n",
        "                    print(str(i) + '. Processing: ' + f)\n",
        "                    print(fullpath)\n",
        "\n",
        "                DLexicon1File = self.procFile(fullpath, f, i) # returns converted string + tags\n",
        "                \n",
        "                for key, value in DLexicon1File.items():\n",
        "                    try:\n",
        "                        LValues = DLexiconAll[key]\n",
        "                    except:\n",
        "                        LValues = []\n",
        "                    '''\n",
        "                    '''\n",
        "                    LValues.append(value)\n",
        "                    DLexiconAll[key] = LValues\n",
        "        DLexiconMerged, DLexiconMerged2Conts = self.mergeLex(DLexiconAll)\n",
        "        self.printDict(DLexiconMerged, DLexiconMerged2Conts, FOut)\n",
        "\n",
        "        # if SText2Write: FOut.write(SText2Write) # if the string is not empty then write to file\n",
        "        # FIn.close()\n",
        "\n",
        "        '''\n",
        "        try:\n",
        "            pass\n",
        "        except:\n",
        "            print(f'file {f} cannot be read or processed')\n",
        "        finally:\n",
        "            pass\n",
        "        '''\n",
        "        \n",
        "        FOut.flush()\n",
        "        FOut.close()\n",
        "\n",
        "        return\n",
        "\n",
        "\n",
        "    def procFile(self, fullpath, SFNameIn, i): # sending each json string for extraction of text and attaching an correct tags to each output string output string\n",
        "        DLexicon1File = {}\n",
        "        FIn = open(fullpath, 'r')\n",
        "        for SLine in FIn:\n",
        "            SLine = SLine.strip()\n",
        "            try: \n",
        "                LLine = re.split('\\t', SLine)\n",
        "                SWord = LLine[0]\n",
        "                SSentiment = LLine[1]\n",
        "                ASentiment = float(SSentiment)\n",
        "                DLexicon1File[SWord] = ASentiment\n",
        "            except:\n",
        "                pass\n",
        "\n",
        "        return DLexicon1File\n",
        "\n",
        "\n",
        "\n",
        "    def mergeLex(self, DLexiconAll):\n",
        "        '''\n",
        "\n",
        "        '''\n",
        "        DLexiconMerged = {}\n",
        "        DLexiconMerged2Conts = {}\n",
        "\n",
        "        \n",
        "        for key, value in DLexiconAll.items():\n",
        "            sum = 0\n",
        "            for el in value:\n",
        "                try:\n",
        "                    sum = sum + el\n",
        "                except:\n",
        "                    pass\n",
        "            average = sum / len(value)\n",
        "            DLexiconMerged[key] = average\n",
        "            DLexiconMerged2Conts[key] = len(value)\n",
        "\n",
        "\n",
        "        return DLexiconMerged, DLexiconMerged2Conts\n",
        "\n",
        "    def printDict(self, Dict, DictConts, FOut):\n",
        "        for key, value in sorted(Dict.items() , key=lambda x: x[1], reverse=False):\n",
        "            counts = DictConts[key]\n",
        "            if self.Filter:\n",
        "                if counts > self.Filter:\n",
        "                    FOut.write(key + '\\t' + str(value) + '\\t' + str(counts) + '\\n')\n",
        "            else:\n",
        "                FOut.write(key + '\\t' + str(value) + '\\t' + str(counts) + '\\n')\n",
        "        \n",
        "\n",
        "# calling the class\n",
        "OLexicon = clLex2Dict('/content/lexicon-overlap-score-examples-master/lexicons/', filtr = 0)"
      ],
      "metadata": {
        "id": "xlsZGbt0CYZL"
      },
      "execution_count": null,
      "outputs": []
    },
    {
      "cell_type": "markdown",
      "source": [
        "# Another positive-negative lexicon\n",
        "extracting from annotated file, putting into tsv"
      ],
      "metadata": {
        "id": "a1f2Onc1Pbrw"
      }
    },
    {
      "cell_type": "code",
      "source": [
        "!wget https://heibox.uni-heidelberg.de/f/9072fdbed717466db460/?dl=1\n",
        "!mv index.html?dl=1 subjectivity_clues_hltemnlp05.zip\n",
        "!unzip subjectivity_clues_hltemnlp05.zip"
      ],
      "metadata": {
        "id": "nndQNUVKQ3v7"
      },
      "execution_count": null,
      "outputs": []
    },
    {
      "cell_type": "code",
      "source": [
        "FInLex = open('/content/lexicon-tweets-all.txt', 'r')\n",
        "# global DTwitterLex\n",
        "def readTweeterLex(FInLex):\n",
        "    DTwitterLex = {}\n",
        "    for SLine in FInLex:\n",
        "        SLine = SLine.strip()\n",
        "        LLine = re.split('\\t', SLine)\n",
        "        try:\n",
        "            SWord = LLine[0]\n",
        "            SWeight = LLine[1]\n",
        "            DTwitterLex[SWord] = float(SWeight)\n",
        "        except:\n",
        "            print('.')\n",
        "    return DTwitterLex\n",
        "\n"
      ],
      "metadata": {
        "id": "OgaJLJVGTrLX"
      },
      "execution_count": 48,
      "outputs": []
    },
    {
      "cell_type": "code",
      "source": [
        "SFIn = '/content/subjectivity_clues_hltemnlp05/subjclueslen1-HLTEMNLP05.tff'\n",
        "SFOut = 'lexicon-positive-negative.txt'\n",
        "PositiveC = 0\n",
        "PositiveS = 0\n",
        "\n",
        "NegativeC = 0\n",
        "NegativeS = 0\n",
        "\n",
        "NeutralC = 0\n",
        "NeutralS = 0\n",
        "\n",
        "NonFoundC = 0\n",
        "\n",
        "DTwitterLex = readTweeterLex(FInLex)\n",
        "print(len(DTwitterLex.items()))\n",
        "FIn = open(SFIn, 'r')\n",
        "FOut = open(SFOut, 'w')\n",
        "for SLine in FIn:\n",
        "    SLine = SLine.strip()\n",
        "    LLine = re.split('[ =]', SLine)\n",
        "    # try:\n",
        "    SWord = LLine[5]\n",
        "    SPoS = LLine[7]\n",
        "    SSentiment = LLine[11]\n",
        "\n",
        "\n",
        "    # Weight = 'No'\n",
        "    \n",
        "    try:\n",
        "        Weight = DTwitterLex[SWord]\n",
        "    except:\n",
        "        Weight = 'NF'\n",
        "\n",
        "    S2Print = '\\t'.join([SWord, SPoS, SSentiment, str(Weight)])\n",
        "    # except:\n",
        "    #     pass\n",
        "    if Weight == 'NF':\n",
        "        NonFoundC += 1\n",
        "    elif SSentiment == 'negative':\n",
        "        NegativeC +=1\n",
        "        NegativeS += Weight\n",
        "    elif SSentiment == 'positive':\n",
        "        PositiveC += 1\n",
        "        PositiveS += Weight\n",
        "\n",
        "    elif SSentiment == 'neutral':\n",
        "        NeutralC +=1\n",
        "        NeutralS += Weight\n",
        "       \n",
        "    FOut.write(S2Print + '\\n')\n",
        "FOut.flush()\n",
        "FOut.close()\n",
        "\n",
        "PositiveA = PositiveS/PositiveC\n",
        "NegativeA = NegativeS/NegativeC\n",
        "NeutralA = NeutralS/NeutralC\n",
        "\n",
        "print(PositiveC)\n",
        "print(PositiveS)\n",
        "print(PositiveA)\n",
        "\n",
        "print(NegativeC)\n",
        "print(NegativeS)\n",
        "print(NegativeA)\n",
        "\n",
        "print(NeutralC)\n",
        "print(NeutralS)\n",
        "print(NeutralA)\n",
        "\n",
        "print(NonFoundC)\n"
      ],
      "metadata": {
        "colab": {
          "base_uri": "https://localhost:8080/"
        },
        "id": "uadUm06rRj-p",
        "outputId": "58e97ce1-1b6d-49a7-83eb-d003b21137d5"
      },
      "execution_count": 49,
      "outputs": [
        {
          "output_type": "stream",
          "name": "stdout",
          "text": [
            "66092\n",
            "1807\n",
            "701.7783006824241\n",
            "0.38836651947007417\n",
            "2669\n",
            "-1438.5379946979776\n",
            "-0.5389801403889013\n",
            "469\n",
            "-48.10320581794548\n",
            "-0.10256547082717586\n",
            "3262\n"
          ]
        }
      ]
    }
  ]
}