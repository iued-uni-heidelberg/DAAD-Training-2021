{
  "nbformat": 4,
  "nbformat_minor": 0,
  "metadata": {
    "colab": {
      "name": "sentiment-analysis-lexicons-v01.ipynb",
      "provenance": [],
      "authorship_tag": "ABX9TyN1oZcpdxwMtY/kDTf1NVZb",
      "include_colab_link": true
    },
    "kernelspec": {
      "name": "python3",
      "display_name": "Python 3"
    },
    "language_info": {
      "name": "python"
    }
  },
  "cells": [
    {
      "cell_type": "markdown",
      "metadata": {
        "id": "view-in-github",
        "colab_type": "text"
      },
      "source": [
        "<a href=\"https://colab.research.google.com/github/iued-uni-heidelberg/DAAD-Training-2021/blob/main/sentiment_analysis_lexicons_v01.ipynb\" target=\"_parent\"><img src=\"https://colab.research.google.com/assets/colab-badge.svg\" alt=\"Open In Colab\"/></a>"
      ]
    },
    {
      "cell_type": "markdown",
      "source": [
        "# Sentiment analysis lexicons using Twitter feeds"
      ],
      "metadata": {
        "id": "N6RzyTvBB1Ll"
      }
    },
    {
      "cell_type": "code",
      "execution_count": 1,
      "metadata": {
        "colab": {
          "base_uri": "https://localhost:8080/"
        },
        "id": "WS9m1i1CBr5T",
        "outputId": "bc7d1b3f-f896-473b-d6aa-fd6c242f8853"
      },
      "outputs": [
        {
          "output_type": "stream",
          "name": "stdout",
          "text": [
            "--2022-02-21 11:26:04--  https://heibox.uni-heidelberg.de/f/da61b08e7ec945e9b2a5/?dl=1\n",
            "Resolving heibox.uni-heidelberg.de (heibox.uni-heidelberg.de)... 129.206.7.113\n",
            "Connecting to heibox.uni-heidelberg.de (heibox.uni-heidelberg.de)|129.206.7.113|:443... connected.\n",
            "HTTP request sent, awaiting response... 302 Found\n",
            "Location: https://heibox.uni-heidelberg.de/seafhttp/files/b64feebb-e3ff-4b58-babf-766867cfcf3f/lexicon-overlap-score-examples-master.tar.gz [following]\n",
            "--2022-02-21 11:26:05--  https://heibox.uni-heidelberg.de/seafhttp/files/b64feebb-e3ff-4b58-babf-766867cfcf3f/lexicon-overlap-score-examples-master.tar.gz\n",
            "Reusing existing connection to heibox.uni-heidelberg.de:443.\n",
            "HTTP request sent, awaiting response... 200 OK\n",
            "Length: 14278919 (14M) [application/octet-stream]\n",
            "Saving to: ‘index.html?dl=1’\n",
            "\n",
            "index.html?dl=1     100%[===================>]  13.62M  8.48MB/s    in 1.6s    \n",
            "\n",
            "2022-02-21 11:26:07 (8.48 MB/s) - ‘index.html?dl=1’ saved [14278919/14278919]\n",
            "\n"
          ]
        }
      ],
      "source": [
        "!wget https://heibox.uni-heidelberg.de/f/da61b08e7ec945e9b2a5/?dl=1"
      ]
    },
    {
      "cell_type": "code",
      "source": [
        "!mv index.html?dl=1 lexicon-overlap-score-examples-master.tar.gz\n",
        "!tar -xvzf lexicon-overlap-score-examples-master.tar.gz"
      ],
      "metadata": {
        "id": "sE2DF7LCCFx3"
      },
      "execution_count": null,
      "outputs": []
    },
    {
      "cell_type": "code",
      "source": [
        "# -*- coding: utf-8 -*-\n",
        "# Python script to open each file, read json input and copy to one text file for subsequent processing\n",
        "import os, re, sys\n",
        "\n",
        "class clLex2Dict(object):\n",
        "    '''\n",
        "    @author Bogdan Babych, IÜD, Heidelberg University, 2021\n",
        "    @email bogdan [dot] babych [at] iued [dot] uni-heidelberg [dot] de\n",
        "    '''\n",
        "    def __init__(self, SDirName, output_file = 'lexicon-all.txt'): # initialising by openning the directories\n",
        "        self.SOutput_file = output_file\n",
        "        self.openDir(SDirName)\n",
        "        return\n",
        "\n",
        "    def openDir(self, path): # implementation of recursively openning directories from a given rule directory and reading each file recursively into a string\n",
        "        i = 0\n",
        "        FOut = open(self.SOutput_file, 'w')\n",
        "\n",
        "        for root,d_names,f_names in os.walk(path):\n",
        "            for f in f_names:\n",
        "                ## remove this if using on another corpus\n",
        "\n",
        "\n",
        "                fullpath = os.path.join(root, f)\n",
        "                i+=1\n",
        "                if i%1==0: \n",
        "                    print(str(i) + '. Processing: ' + f)\n",
        "                    print(fullpath)\n",
        "\n",
        "                # FIn = open(fullpath,'r')\n",
        "                # SIn = FIn.read()\n",
        "                # apply text filter, if not None\n",
        "                # if self.STextFilter and (re.search(self.RFilter, SIn) == None): continue\n",
        "                # SText2Write = self.procFile(SIn,f,i)\n",
        "\n",
        "                SText2Write = self.procFile(fullpath, f, i) # returns converted string + tags\n",
        "                if SText2Write: FOut.write(SText2Write) # if the string is not empty then write to file\n",
        "                # FIn.close()\n",
        "\n",
        "                try:\n",
        "                    pass\n",
        "                except:\n",
        "                    print(f'file {f} cannot be read or processed')\n",
        "                finally:\n",
        "                    pass\n",
        "        \n",
        "        FOut.flush()\n",
        "        FOut.close()\n",
        "\n",
        "        return\n",
        "\n",
        "\n",
        "    def procFile(self, fullpath, SFNameIn, i): # sending each json string for extraction of text and attaching an correct tags to each output string output string\n",
        "        STagOpen = '<' + self.STag + ' id=\"' + self.STag + str(self.ID + i)  + '\">\\n'\n",
        "        STagClose = '\\n</' + self.STag + '>\\n\\n'\n",
        "        SText4Corpus = self.getString(fullpath, SFNameIn)\n",
        "        if SText4Corpus:\n",
        "            return STagOpen + SText4Corpus + STagClose\n",
        "        else:\n",
        "            print('\\tNo data read from: ' + SFNameIn)\n",
        "            return None\n",
        "\n",
        "\n",
        "    def getString(self, fullpath, SFNameIn):\n",
        "        '''\n",
        "        the function uses system commands to copy, open and extract content of needed files\n",
        "        '''\n",
        "        # iconv -c -t UTF-8 < input.txt > output.txt\n",
        "        # iconv -f UTF-8 -t UTF-8//IGNORE 219624.txt > 219624_V2.txt\n",
        "        # last works!\n",
        "\n",
        "        SFNameHTML = SFNameIn + '_1.html'\n",
        "        SFNameTXT2 = SFNameIn + '_2.txt'\n",
        "        SFNameTXT3 = SFNameIn + '_3.txt'\n",
        "\n",
        "        SCommand = 'cp ' + fullpath + ' ./' + SFNameHTML\n",
        "        os.system(SCommand)\n",
        "\n",
        "        SCommand2 = 'lynx --dump ./' + SFNameHTML + ' > ' + SFNameTXT2\n",
        "        os.system(SCommand2)\n",
        "\n",
        "        # SCommand2 = 'iconv -c -t UTF-8 < ' + SFNameHTML + ' > ' + SFNameHTML2\n",
        "        SCommand3 = 'iconv -f UTF-8 -t UTF-8//IGNORE ' + SFNameTXT2 + ' > ' + SFNameTXT3\n",
        "        os.system(SCommand3)\n",
        "\n",
        "        # stream = os.popen('lynx --dump ./' + SFNameHTML2)\n",
        "        # SFileContent = stream.read()\n",
        "\n",
        "        F2Read = open('./' + SFNameTXT3, 'r', encoding=\"utf8\", errors=\"surrogateescape\")\n",
        "        SFileContent = F2Read.read()\n",
        "\n",
        "        LFileContent = re.split('\\n\\n+', SFileContent, flags=re.MULTILINE|re.DOTALL)\n",
        "        print(len(LFileContent))\n",
        "        print(LFileContent[0])\n",
        "\n",
        "        LFileContent0 = []\n",
        "        for el in LFileContent:\n",
        "            el = re.sub('\\n', ' ', el)\n",
        "            el = re.sub(' +', ' ', el)\n",
        "            LFileContent0.append(el)\n",
        "\n",
        "        SFileContent2 = '\\n\\n'.join(LFileContent0)\n",
        "        \n",
        "\n",
        "        return SFileContent2\n",
        "\n",
        "# calling the class\n",
        "OHtmlDir2txt = clHtmlDir2txt('/content/www.aerzteblatt.de')"
      ],
      "metadata": {
        "id": "xlsZGbt0CYZL"
      },
      "execution_count": null,
      "outputs": []
    }
  ]
}