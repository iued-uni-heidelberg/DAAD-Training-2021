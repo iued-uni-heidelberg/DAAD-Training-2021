{
  "nbformat": 4,
  "nbformat_minor": 0,
  "metadata": {
    "colab": {
      "name": "sentiment-analysis-lexicons-v01.ipynb",
      "provenance": [],
      "authorship_tag": "ABX9TyPHPtDlX9D29tG+CT5wjQEB",
      "include_colab_link": true
    },
    "kernelspec": {
      "name": "python3",
      "display_name": "Python 3"
    },
    "language_info": {
      "name": "python"
    }
  },
  "cells": [
    {
      "cell_type": "markdown",
      "metadata": {
        "id": "view-in-github",
        "colab_type": "text"
      },
      "source": [
        "<a href=\"https://colab.research.google.com/github/iued-uni-heidelberg/DAAD-Training-2021/blob/main/sentiment_analysis_lexicons_v01.ipynb\" target=\"_parent\"><img src=\"https://colab.research.google.com/assets/colab-badge.svg\" alt=\"Open In Colab\"/></a>"
      ]
    },
    {
      "cell_type": "markdown",
      "source": [
        "# Sentiment analysis lexicons using Twitter feeds"
      ],
      "metadata": {
        "id": "N6RzyTvBB1Ll"
      }
    },
    {
      "cell_type": "code",
      "execution_count": 1,
      "metadata": {
        "colab": {
          "base_uri": "https://localhost:8080/"
        },
        "id": "WS9m1i1CBr5T",
        "outputId": "bc7d1b3f-f896-473b-d6aa-fd6c242f8853"
      },
      "outputs": [
        {
          "output_type": "stream",
          "name": "stdout",
          "text": [
            "--2022-02-21 11:26:04--  https://heibox.uni-heidelberg.de/f/da61b08e7ec945e9b2a5/?dl=1\n",
            "Resolving heibox.uni-heidelberg.de (heibox.uni-heidelberg.de)... 129.206.7.113\n",
            "Connecting to heibox.uni-heidelberg.de (heibox.uni-heidelberg.de)|129.206.7.113|:443... connected.\n",
            "HTTP request sent, awaiting response... 302 Found\n",
            "Location: https://heibox.uni-heidelberg.de/seafhttp/files/b64feebb-e3ff-4b58-babf-766867cfcf3f/lexicon-overlap-score-examples-master.tar.gz [following]\n",
            "--2022-02-21 11:26:05--  https://heibox.uni-heidelberg.de/seafhttp/files/b64feebb-e3ff-4b58-babf-766867cfcf3f/lexicon-overlap-score-examples-master.tar.gz\n",
            "Reusing existing connection to heibox.uni-heidelberg.de:443.\n",
            "HTTP request sent, awaiting response... 200 OK\n",
            "Length: 14278919 (14M) [application/octet-stream]\n",
            "Saving to: ‘index.html?dl=1’\n",
            "\n",
            "index.html?dl=1     100%[===================>]  13.62M  8.48MB/s    in 1.6s    \n",
            "\n",
            "2022-02-21 11:26:07 (8.48 MB/s) - ‘index.html?dl=1’ saved [14278919/14278919]\n",
            "\n"
          ]
        }
      ],
      "source": [
        "!wget https://heibox.uni-heidelberg.de/f/da61b08e7ec945e9b2a5/?dl=1"
      ]
    },
    {
      "cell_type": "code",
      "source": [
        "!mv index.html?dl=1 lexicon-overlap-score-examples-master.tar.gz\n",
        "!tar -xvzf lexicon-overlap-score-examples-master.tar.gz"
      ],
      "metadata": {
        "id": "sE2DF7LCCFx3"
      },
      "execution_count": null,
      "outputs": []
    },
    {
      "cell_type": "code",
      "source": [
        "# -*- coding: utf-8 -*-\n",
        "# Python script to open each file, read json input and copy to one text file for subsequent processing\n",
        "import os, re, sys\n",
        "\n",
        "class clLex2Dict(object):\n",
        "    '''\n",
        "    @author Bogdan Babych, IÜD, Heidelberg University, 2021\n",
        "    @email bogdan [dot] babych [at] iued [dot] uni-heidelberg [dot] de\n",
        "    '''\n",
        "    def __init__(self, SDirName, output_file = 'lexicon-all.txt'): # initialising by openning the directories\n",
        "        self.SOutput_file = output_file\n",
        "        self.openDir(SDirName)\n",
        "        return\n",
        "\n",
        "    def openDir(self, path): # implementation of recursively openning directories from a given rule directory and reading each file recursively into a string\n",
        "        i = 0\n",
        "        DLexiconAll = {}\n",
        "        FOut = open(self.SOutput_file, 'w')\n",
        "\n",
        "        for root,d_names,f_names in os.walk(path):\n",
        "            for f in f_names:\n",
        "                ## remove this if using on another corpus\n",
        "\n",
        "                fullpath = os.path.join(root, f)\n",
        "                i+=1\n",
        "                if i%1==0: \n",
        "                    print(str(i) + '. Processing: ' + f)\n",
        "                    print(fullpath)\n",
        "\n",
        "                DLexicon1File = self.procFile(fullpath, f, i) # returns converted string + tags\n",
        "                # if SText2Write: FOut.write(SText2Write) # if the string is not empty then write to file\n",
        "                # FIn.close()\n",
        "\n",
        "                '''\n",
        "                try:\n",
        "                    pass\n",
        "                except:\n",
        "                    print(f'file {f} cannot be read or processed')\n",
        "                finally:\n",
        "                    pass\n",
        "                '''\n",
        "        \n",
        "        FOut.flush()\n",
        "        FOut.close()\n",
        "\n",
        "        return\n",
        "\n",
        "\n",
        "    def procFile(self, fullpath, SFNameIn, i): # sending each json string for extraction of text and attaching an correct tags to each output string output string\n",
        "        DLexicon1File = {}\n",
        "        FIn = open(fullpath, 'r')\n",
        "        for SLine in FIn:\n",
        "            SLine = SLine.strip()\n",
        "            try: \n",
        "                LLine = re.split('\\t', SLine)\n",
        "                SWord = LLine[0]\n",
        "                SSentiment = LLine[1]\n",
        "                ASentiment = float(SSentiment)\n",
        "                DLexicon1File[SWord] = ASentiment\n",
        "            except:\n",
        "                pass\n",
        "\n",
        "        return DLexicon1File\n",
        "\n",
        "\n",
        "\n",
        "    def mergeLex(self, DLexiconAll):\n",
        "        '''\n",
        "\n",
        "        '''\n",
        "        DLexiconMerged = {}\n",
        "\n",
        "        \n",
        "        for key, value in DLexiconAll.items():\n",
        "            sum = 0\n",
        "            for el in value:\n",
        "                try:\n",
        "                    sum = sum + el\n",
        "                except:\n",
        "                    pass\n",
        "            average = sum / len(value)\n",
        "            DLexiconMerged[key] = average\n",
        "\n",
        "\n",
        "        return DLexiconMerged\n",
        "\n",
        "    def printDict(self, Dict, FOut):\n",
        "        for key, value in sorted( Dict.items() , key=lambda x: x[K], reverse=True):\n",
        "            FOut.write(key + '\\t' + str(value) + '\\n')\n",
        "        \n",
        "\n",
        "# calling the class\n",
        "OLexicon = clLex2Dict('/content/lexicon-overlap-score-examples-master/lexicons/')"
      ],
      "metadata": {
        "id": "xlsZGbt0CYZL"
      },
      "execution_count": null,
      "outputs": []
    }
  ]
}