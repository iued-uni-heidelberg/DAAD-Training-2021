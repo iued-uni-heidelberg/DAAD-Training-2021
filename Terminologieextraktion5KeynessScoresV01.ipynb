{
  "nbformat": 4,
  "nbformat_minor": 0,
  "metadata": {
    "colab": {
      "name": "Terminologieextraktion5KeynessScoresV01.ipynb",
      "provenance": [],
      "collapsed_sections": [],
      "authorship_tag": "ABX9TyNRE/RO4zy6dyY9rj1wfWzk",
      "include_colab_link": true
    },
    "kernelspec": {
      "name": "python3",
      "display_name": "Python 3"
    },
    "language_info": {
      "name": "python"
    }
  },
  "cells": [
    {
      "cell_type": "markdown",
      "metadata": {
        "id": "view-in-github",
        "colab_type": "text"
      },
      "source": [
        "<a href=\"https://colab.research.google.com/github/iued-uni-heidelberg/DAAD-Training-2021/blob/main/Terminologieextraktion5KeynessScoresV01.ipynb\" target=\"_parent\"><img src=\"https://colab.research.google.com/assets/colab-badge.svg\" alt=\"Open In Colab\"/></a>"
      ]
    },
    {
      "cell_type": "markdown",
      "metadata": {
        "id": "8LOKq_mm4pZp"
      },
      "source": [
        "# The analysis of keyness, which will be used in term extraction\n",
        "\n",
        "---\n",
        "We will also prepare the gold standard evaluation set for the project\n"
      ]
    },
    {
      "cell_type": "code",
      "metadata": {
        "id": "hMDN0mCX4Yeo"
      },
      "source": [
        "# Stage 0: Preparing Gold standard: Reading / extracting information from gold standard: creating a list of annotated terms\n",
        "!wget https://heibox.uni-heidelberg.de/f/ae1110c4f9ad42b9a3d5/?dl=1\n",
        "!mv index.html?dl=1 BGH1_s00Astghik.txt\n",
        "!wget https://heibox.uni-heidelberg.de/f/0c787f26123f49178639/?dl=1\n",
        "!mv index.html?dl=1 BGH1_s00Hayk.txt"
      ],
      "execution_count": null,
      "outputs": []
    },
    {
      "cell_type": "code",
      "metadata": {
        "id": "Iks1ZFSk5DwF"
      },
      "source": [
        "!cat BGH1_s00Astghik.txt BGH1_s00Hayk.txt >BGH1_s00GoldStandard.txt"
      ],
      "execution_count": 2,
      "outputs": []
    },
    {
      "cell_type": "code",
      "metadata": {
        "id": "hBBoefCq5ZRx"
      },
      "source": [
        "FInput = open('BGH1_s00GoldStandard.txt', 'r')\n",
        "FOutput = open('BGH1_s00GoldS_Terms.txt', 'w')\n",
        "# for statistical purposes - separately single and multiword terms\n",
        "FOutputDict1w = open('BGH1_s00GoldS_D1w.txt', 'w') # 1-word terms\n",
        "FOutputDict2w = open('BGH1_s00GoldS_D2w.txt', 'w') # 2-word terminological expressions\n",
        "FOutputDictMWE = open('BGH1_s00GoldS_DMWE.txt', 'w') # more than 2 words"
      ],
      "execution_count": 3,
      "outputs": []
    },
    {
      "cell_type": "code",
      "metadata": {
        "id": "pcHAXZKV5gBk"
      },
      "source": [
        "def printDictionary(DictionaryFrq, FOut, Rev = True):\n",
        "    for Word, Frq in sorted( DictionaryFrq.items() , key=lambda x: x[1], reverse=Rev):\n",
        "        FOut.write(Word + '\\t' + str(Frq) + '\\n')\n",
        "    return"
      ],
      "execution_count": 4,
      "outputs": []
    },
    {
      "cell_type": "code",
      "metadata": {
        "id": "NiQLaMV05gxN"
      },
      "source": [
        "import re, os, sys\n",
        "LGSTerms = [] # gold standard terms\n",
        "DGS1w = {} # dictionary of single words\n",
        "DGS2w = {} # dictionary of single words\n",
        "DGSMWE = {} # dictionary of mwes\n",
        "IGS1w = 0 # number of annotated tokens of single words\n",
        "IGS2w = 0\n",
        "IGSMWE = 0 # number of annotated tokens of multiwords\n",
        "for SLine in FInput:\n",
        "    LAnnotatedTermsInLine = re.findall('<<([^><]+)>>', SLine)\n",
        "    LGSTerms.extend(LAnnotatedTermsInLine)\n",
        "\n",
        "for GSTerm in LGSTerms:\n",
        "    GSTerm = GSTerm.strip()\n",
        "    GSTerm = re.sub(' +', ' ', GSTerm)\n",
        "    LGSTErms = re.split(' ', GSTerm)\n",
        "    if len(LGSTErms) > 2:\n",
        "        IGSMWE += 1\n",
        "        try: DGSMWE[GSTerm] += 1\n",
        "        except: DGSMWE[GSTerm] = 1\n",
        "    if len(LGSTErms) == 2:\n",
        "        IGS2w += 1\n",
        "        try: DGS2w[GSTerm] +=1\n",
        "        except: DGS2w[GSTerm] = 1\n",
        "    else:\n",
        "        IGS1w += 1\n",
        "        try: DGS1w[GSTerm] +=1\n",
        "        except: DGS1w[GSTerm] = 1\n",
        "\n",
        "    FOutput.write(GSTerm + '\\n')\n",
        "\n",
        "FOutputDictMWE.write('# Number of tokens: ' + str(IGSMWE) + '\\n')\n",
        "FOutputDict2w.write('# Number of tokens: ' + str(IGS2w) + '\\n')\n",
        "FOutputDict1w.write('# Number of tokens: ' + str(IGS1w) + '\\n')\n",
        "\n",
        "printDictionary(DGSMWE, FOutputDictMWE)\n",
        "printDictionary(DGS2w, FOutputDict2w)\n",
        "printDictionary(DGS1w, FOutputDict1w)\n",
        "\n",
        "FOutputDictMWE.flush()\n",
        "FOutputDictMWE.close()\n",
        "FOutputDict2w.flush()\n",
        "FOutputDict2w.close()\n",
        "FOutputDict1w.flush()\n",
        "FOutputDict1w.close()\n",
        "\n",
        "FOutput.flush()\n",
        "FOutput.close()\n",
        "\n",
        "FInput.close()"
      ],
      "execution_count": 5,
      "outputs": []
    },
    {
      "cell_type": "markdown",
      "metadata": {
        "id": "uh5invxA-c6Y"
      },
      "source": [
        "## Testing for keyness -- the gold standard\n",
        "\n",
        "Here we cross-check the gold standard in terms of the keywords, which have been identified in comparison with Wikipedia and Europarl-7 corpora\n"
      ]
    },
    {
      "cell_type": "code",
      "metadata": {
        "colab": {
          "base_uri": "https://localhost:8080/"
        },
        "id": "lHGku5oV-b1M",
        "outputId": "1170dbf1-e3c1-444e-965f-71cdb73c08da"
      },
      "source": [
        "!wget https://heibox.uni-heidelberg.de/f/aa4560e627bd4b1d8055/?dl=1\n",
        "!mv index.html?dl=1 TK_KW_Verif_V02.csv"
      ],
      "execution_count": 6,
      "outputs": [
        {
          "output_type": "stream",
          "name": "stdout",
          "text": [
            "--2021-10-26 19:29:03--  https://heibox.uni-heidelberg.de/f/aa4560e627bd4b1d8055/?dl=1\n",
            "Resolving heibox.uni-heidelberg.de (heibox.uni-heidelberg.de)... 129.206.7.113\n",
            "Connecting to heibox.uni-heidelberg.de (heibox.uni-heidelberg.de)|129.206.7.113|:443... connected.\n",
            "HTTP request sent, awaiting response... 302 Found\n",
            "Location: https://heibox.uni-heidelberg.de/seafhttp/files/ef8547fb-ce0e-49e8-a2af-e8860fcb64ac/TK_KW_Verif_V02.csv [following]\n",
            "--2021-10-26 19:29:04--  https://heibox.uni-heidelberg.de/seafhttp/files/ef8547fb-ce0e-49e8-a2af-e8860fcb64ac/TK_KW_Verif_V02.csv\n",
            "Reusing existing connection to heibox.uni-heidelberg.de:443.\n",
            "HTTP request sent, awaiting response... 200 OK\n",
            "Length: 38812 (38K) [application/octet-stream]\n",
            "Saving to: ‘index.html?dl=1’\n",
            "\n",
            "index.html?dl=1     100%[===================>]  37.90K   139KB/s    in 0.3s    \n",
            "\n",
            "2021-10-26 19:29:05 (139 KB/s) - ‘index.html?dl=1’ saved [38812/38812]\n",
            "\n"
          ]
        }
      ]
    },
    {
      "cell_type": "code",
      "metadata": {
        "id": "uu0eNgJu_Zpd"
      },
      "source": [
        "FInputKW = open('TK_KW_Verif_V02.csv', 'r')\n",
        "FOutputGSKWS1w = open('BGH1_s01GoldSKW_D1w.txt', 'w')\n",
        "FOutputGSKWS2w = open('BGH1_s01GoldSKW_D2w.txt', 'w')\n",
        "FOutputGSKWSMWE = open('BGH1_s01GoldSKW_MWE.txt', 'w')"
      ],
      "execution_count": 7,
      "outputs": []
    },
    {
      "cell_type": "code",
      "metadata": {
        "id": "lBI-iBo4_kSd"
      },
      "source": [
        "DScoresKW = {} # keywords - scores\n",
        "DScoresNK = {} # non-keywords\n",
        "DStatusKW = {} # status: key/non-key-word\n",
        "for Line in FInputKW:\n",
        "    LFieldsKW = re.split('\\t', Line)\n",
        "    SWord = LFieldsKW[1]\n",
        "    AKScore = float(LFieldsKW[2])\n",
        "    AKStatus = float(LFieldsKW[3])\n",
        "    DStatusKW[SWord] = AKStatus\n",
        "    if AKStatus > 0:\n",
        "        DScoresKW[SWord] = AKScore\n",
        "    else:\n",
        "        DScoresNK[SWord] = AKScore"
      ],
      "execution_count": 8,
      "outputs": []
    },
    {
      "cell_type": "code",
      "metadata": {
        "id": "bfGcMfcbC5h5"
      },
      "source": [
        "# first we compile match patterns for all keywords and store them in a dictionary\n",
        "DScoresREKW = {} # dictionary of RE\n",
        "for kw, val in DScoresKW.items():\n",
        "    RPatternKW = re.compile('^' + kw + '$', re.IGNORECASE)\n",
        "    DScoresREKW[RPatternKW] = val # we convert all keywords to RE search patterns, with the ignore case flag\n",
        "\n"
      ],
      "execution_count": 9,
      "outputs": []
    },
    {
      "cell_type": "code",
      "metadata": {
        "id": "pI0M8Jj4Ia0Y"
      },
      "source": [
        "matchedMWEs = 0\n",
        "for STermGS, frq in DGSMWE.items(): # freq dictionary of gold standard terms annotated in the document\n",
        "    LAGoldSKeywordValues = []\n",
        "    LTermsGS = re.split(' ', STermGS)\n",
        "    m = 0\n",
        "    for STermWordGS in LTermsGS:\n",
        "        for REkw, val in DScoresKW.items():\n",
        "            if re.match(REkw, STermWordGS):\n",
        "                m+=1\n",
        "                LAGoldSKeywordValues.append(val) # values of keyness\n",
        "                print(STermGS + ' ~ ' + STermWordGS + ' ' + str(val))\n",
        "    if m>0: matchedMWEs += 1\n",
        "    # print(m)\n",
        "    # print(matchedMWEs)\n",
        "\n",
        "print(matchedMWEs)"
      ],
      "execution_count": null,
      "outputs": []
    },
    {
      "cell_type": "markdown",
      "metadata": {
        "id": "O63zZ9U0Mreu"
      },
      "source": [
        "A quicker algorithm to do the same check: we convert to all possible string variants (upper, lower, sentence case and just look up the dictinary)"
      ]
    },
    {
      "cell_type": "code",
      "metadata": {
        "id": "ori1zU8zJhE8"
      },
      "source": [
        "# alternative: we create a dictionary with lower, upper and sentence case variants\n",
        "DScoresREKWquick = {} # dictionary of RE\n",
        "for kw, val in DScoresKW.items():\n",
        "    SUpperC = kw.upper()\n",
        "    SLowerC = kw.lower()\n",
        "    SSentenceC = kw.capitalize()\n",
        "    # RPatternKW = re.compile('^' + kw + '$', re.IGNORECASE)\n",
        "    DScoresREKWquick[SUpperC] = val # \n",
        "    DScoresREKWquick[SLowerC] = val # \n",
        "    DScoresREKWquick[SSentenceC] = val # \n"
      ],
      "execution_count": 12,
      "outputs": []
    },
    {
      "cell_type": "code",
      "metadata": {
        "id": "hVAAn0D8Kh_Z"
      },
      "source": [
        "# 2nd variant: with quick dictionary\n",
        "matchedMWEs = 0\n",
        "for STermGS, frq in DGSMWE.items(): # freq dictionary of gold standard terms annotated in the document\n",
        "    LAGoldSKeywordValues = []\n",
        "    LTermsGS = re.split(' ', STermGS)\n",
        "    m = 0\n",
        "    for STermWordGS in LTermsGS:\n",
        "        if STermWordGS in DScoresREKWquick:\n",
        "            m+=1\n",
        "            val = DScoresREKWquick[STermWordGS]\n",
        "            LAGoldSKeywordValues.append(val)\n",
        "            print(STermGS + ' ~ ' + STermWordGS + ' ' + str(val))\n",
        "\n",
        "    if m>0: matchedMWEs += 1\n",
        "    # print(m)\n",
        "    # print(matchedMWEs)\n",
        "\n",
        "print(matchedMWEs)"
      ],
      "execution_count": null,
      "outputs": []
    }
  ]
}