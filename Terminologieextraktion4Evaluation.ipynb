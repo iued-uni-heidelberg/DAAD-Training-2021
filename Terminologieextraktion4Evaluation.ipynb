{
  "nbformat": 4,
  "nbformat_minor": 0,
  "metadata": {
    "colab": {
      "name": "Terminologieextraktion4Evaluation.ipynb",
      "provenance": [],
      "collapsed_sections": [],
      "authorship_tag": "ABX9TyMWxtVn487G8UvOI3yKYKdI",
      "include_colab_link": true
    },
    "kernelspec": {
      "name": "python3",
      "display_name": "Python 3"
    },
    "language_info": {
      "name": "python"
    }
  },
  "cells": [
    {
      "cell_type": "markdown",
      "metadata": {
        "id": "view-in-github",
        "colab_type": "text"
      },
      "source": [
        "<a href=\"https://colab.research.google.com/github/iued-uni-heidelberg/DAAD-Training-2021/blob/main/Terminologieextraktion4Evaluation.ipynb\" target=\"_parent\"><img src=\"https://colab.research.google.com/assets/colab-badge.svg\" alt=\"Open In Colab\"/></a>"
      ]
    },
    {
      "cell_type": "markdown",
      "metadata": {
        "id": "eN9DTw823QDH"
      },
      "source": [
        "# Evaluation of the terminology extraction results"
      ]
    },
    {
      "cell_type": "markdown",
      "metadata": {
        "id": "X6K-G2fFLE-4"
      },
      "source": [
        "Purpose: evaluating the tradeoff between precision and recall for different extraction methods"
      ]
    },
    {
      "cell_type": "code",
      "metadata": {
        "colab": {
          "base_uri": "https://localhost:8080/"
        },
        "id": "2F2EV7qc3fF3",
        "outputId": "c1030354-abec-4acc-a906-401bf1ed92c3"
      },
      "source": [
        "# Stage 0: Preparing Gold standard: Reading / extracting information from gold standard: creating a list of annotated terms\n",
        "!wget https://heibox.uni-heidelberg.de/f/ae1110c4f9ad42b9a3d5/?dl=1\n",
        "!mv index.html?dl=1 BGH1_s00Astghik.txt\n",
        "!wget https://heibox.uni-heidelberg.de/f/0c787f26123f49178639/?dl=1\n",
        "!mv index.html?dl=1 BGH1_s00Hayk.txt\n"
      ],
      "execution_count": 13,
      "outputs": [
        {
          "output_type": "stream",
          "name": "stdout",
          "text": [
            "--2021-10-23 20:15:28--  https://heibox.uni-heidelberg.de/f/ae1110c4f9ad42b9a3d5/?dl=1\n",
            "Resolving heibox.uni-heidelberg.de (heibox.uni-heidelberg.de)... 129.206.7.113\n",
            "Connecting to heibox.uni-heidelberg.de (heibox.uni-heidelberg.de)|129.206.7.113|:443... connected.\n",
            "HTTP request sent, awaiting response... 302 Found\n",
            "Location: https://heibox.uni-heidelberg.de/seafhttp/files/75c4f276-46f3-469a-bb8e-c47c9c5e54ae/BGH1_Astghik.txt [following]\n",
            "--2021-10-23 20:15:29--  https://heibox.uni-heidelberg.de/seafhttp/files/75c4f276-46f3-469a-bb8e-c47c9c5e54ae/BGH1_Astghik.txt\n",
            "Reusing existing connection to heibox.uni-heidelberg.de:443.\n",
            "HTTP request sent, awaiting response... 200 OK\n",
            "Length: 369792 (361K) [text/plain]\n",
            "Saving to: ‘index.html?dl=1’\n",
            "\n",
            "index.html?dl=1     100%[===================>] 361.12K   481KB/s    in 0.8s    \n",
            "\n",
            "2021-10-23 20:15:30 (481 KB/s) - ‘index.html?dl=1’ saved [369792/369792]\n",
            "\n",
            "--2021-10-23 20:15:30--  https://heibox.uni-heidelberg.de/f/0c787f26123f49178639/?dl=1\n",
            "Resolving heibox.uni-heidelberg.de (heibox.uni-heidelberg.de)... 129.206.7.113\n",
            "Connecting to heibox.uni-heidelberg.de (heibox.uni-heidelberg.de)|129.206.7.113|:443... connected.\n",
            "HTTP request sent, awaiting response... 302 Found\n",
            "Location: https://heibox.uni-heidelberg.de/seafhttp/files/1e291d56-77ad-4848-aa16-26b578a7ae74/BGH2_Hayk.txt [following]\n",
            "--2021-10-23 20:15:31--  https://heibox.uni-heidelberg.de/seafhttp/files/1e291d56-77ad-4848-aa16-26b578a7ae74/BGH2_Hayk.txt\n",
            "Reusing existing connection to heibox.uni-heidelberg.de:443.\n",
            "HTTP request sent, awaiting response... 200 OK\n",
            "Length: 411864 (402K) [text/plain]\n",
            "Saving to: ‘index.html?dl=1’\n",
            "\n",
            "index.html?dl=1     100%[===================>] 402.21K   497KB/s    in 0.8s    \n",
            "\n",
            "2021-10-23 20:15:32 (497 KB/s) - ‘index.html?dl=1’ saved [411864/411864]\n",
            "\n"
          ]
        }
      ]
    },
    {
      "cell_type": "code",
      "metadata": {
        "id": "rI2bPn1R-k8k"
      },
      "source": [
        "!cat BGH1_s00Astghik.txt BGH1_s00Hayk.txt >BGH1_s00GoldStandard.txt"
      ],
      "execution_count": 14,
      "outputs": []
    },
    {
      "cell_type": "code",
      "metadata": {
        "id": "BM66Xi9-4lSs"
      },
      "source": [
        "FInput = open('BGH1_s00GoldStandard.txt', 'r')\n",
        "FOutput = open('BGH1_s00GoldS_Terms.txt', 'w')\n",
        "# for statistical purposes - separately single and multiword terms\n",
        "FOutputDict1w = open('BGH1_s00GoldS_D1w.txt', 'w')\n",
        "FOutputDictMWE = open('BGH1_s00GoldS_DMWE.txt', 'w')"
      ],
      "execution_count": 15,
      "outputs": []
    },
    {
      "cell_type": "code",
      "metadata": {
        "id": "XvajJguDHp9I"
      },
      "source": [
        "def printDictionary(DictionaryFrq, FOut, Rev = True):\n",
        "    for Word, Frq in sorted( DictionaryFrq.items() , key=lambda x: x[1], reverse=Rev):\n",
        "        FOut.write(Word + '\\t' + str(Frq) + '\\n')\n",
        "    return"
      ],
      "execution_count": 16,
      "outputs": []
    },
    {
      "cell_type": "code",
      "metadata": {
        "id": "bGp9Uqli568A"
      },
      "source": [
        "import re, os, sys\n",
        "LGSTerms = [] # gold standard terms\n",
        "DGS1w = {} # dictionary of single words\n",
        "DGSMWE = {} # dictionary of mwes\n",
        "IGS1w = 0 # number of annotated tokens of single words\n",
        "IGSMWE = 0 # number of annotated tokens of multiwords\n",
        "for SLine in FInput:\n",
        "    LAnnotatedTermsInLine = re.findall('<<([^><]+)>>', SLine)\n",
        "    LGSTerms.extend(LAnnotatedTermsInLine)\n",
        "\n",
        "for GSTerm in LGSTerms:\n",
        "    GSTerm = GSTerm.strip()\n",
        "    GSTerm = re.sub(' +', ' ', GSTerm)\n",
        "    if re.search(' ', GSTerm):\n",
        "        IGSMWE += 1\n",
        "        try: DGSMWE[GSTerm] += 1\n",
        "        except: DGSMWE[GSTerm] = 1\n",
        "    else:\n",
        "        IGS1w += 1\n",
        "        try: DGS1w[GSTerm] +=1\n",
        "        except: DGS1w[GSTerm] = 1\n",
        "\n",
        "    FOutput.write(GSTerm + '\\n')\n",
        "\n",
        "FOutputDictMWE.write('# Number of tokens: ' + str(IGSMWE) + '\\n')\n",
        "FOutputDict1w.write('# Number of tokens: ' + str(IGS1w) + '\\n')\n",
        "\n",
        "printDictionary(DGSMWE, FOutputDictMWE)\n",
        "printDictionary(DGS1w, FOutputDict1w)\n",
        "\n",
        "FOutputDictMWE.flush()\n",
        "FOutputDictMWE.close()\n",
        "FOutputDict1w.flush()\n",
        "FOutputDict1w.close()\n",
        "\n",
        "FOutput.flush()\n",
        "FOutput.close()\n",
        "\n",
        "FInput.close()"
      ],
      "execution_count": 17,
      "outputs": []
    },
    {
      "cell_type": "code",
      "metadata": {
        "colab": {
          "base_uri": "https://localhost:8080/"
        },
        "id": "_l4C6taZ3MST",
        "outputId": "d31b7695-f847-4518-a277-ef2edb6a9771"
      },
      "source": [
        "# Stage 1: Reading test data - Possible Terms (extracted automatically): reading the text files of single and multiword terms, recording ranks\n",
        "# single words candidates\n",
        "!wget https://heibox.uni-heidelberg.de/f/a9171080790f4932b7b1/?dl=1\n",
        "!mv index.html?dl=1 BGH1_s00term1w.txt\n",
        "\n",
        "# multiword candidates\n",
        "!wget https://heibox.uni-heidelberg.de/f/2488701205e34e4683b1/?dl=1\n",
        "!mv index.html?dl=1 BGH1_s00termMWE.txt\n"
      ],
      "execution_count": 18,
      "outputs": [
        {
          "output_type": "stream",
          "name": "stdout",
          "text": [
            "--2021-10-23 20:15:48--  https://heibox.uni-heidelberg.de/f/a9171080790f4932b7b1/?dl=1\n",
            "Resolving heibox.uni-heidelberg.de (heibox.uni-heidelberg.de)... 129.206.7.113\n",
            "Connecting to heibox.uni-heidelberg.de (heibox.uni-heidelberg.de)|129.206.7.113|:443... connected.\n",
            "HTTP request sent, awaiting response... 302 Found\n",
            "Location: https://heibox.uni-heidelberg.de/seafhttp/files/2b7abd2c-7def-4335-800f-63cfac7ebd27/BGH_term1w.txt [following]\n",
            "--2021-10-23 20:15:48--  https://heibox.uni-heidelberg.de/seafhttp/files/2b7abd2c-7def-4335-800f-63cfac7ebd27/BGH_term1w.txt\n",
            "Reusing existing connection to heibox.uni-heidelberg.de:443.\n",
            "HTTP request sent, awaiting response... 200 OK\n",
            "Length: 8954371 (8.5M) [text/plain]\n",
            "Saving to: ‘index.html?dl=1’\n",
            "\n",
            "index.html?dl=1     100%[===================>]   8.54M  5.93MB/s    in 1.4s    \n",
            "\n",
            "2021-10-23 20:15:50 (5.93 MB/s) - ‘index.html?dl=1’ saved [8954371/8954371]\n",
            "\n",
            "--2021-10-23 20:15:50--  https://heibox.uni-heidelberg.de/f/2488701205e34e4683b1/?dl=1\n",
            "Resolving heibox.uni-heidelberg.de (heibox.uni-heidelberg.de)... 129.206.7.113\n",
            "Connecting to heibox.uni-heidelberg.de (heibox.uni-heidelberg.de)|129.206.7.113|:443... connected.\n",
            "HTTP request sent, awaiting response... 302 Found\n",
            "Location: https://heibox.uni-heidelberg.de/seafhttp/files/c0afb2c7-c55a-4d18-ae14-5637b076b547/BGH_termMWE.txt [following]\n",
            "--2021-10-23 20:15:51--  https://heibox.uni-heidelberg.de/seafhttp/files/c0afb2c7-c55a-4d18-ae14-5637b076b547/BGH_termMWE.txt\n",
            "Reusing existing connection to heibox.uni-heidelberg.de:443.\n",
            "HTTP request sent, awaiting response... 200 OK\n",
            "Length: 78612600 (75M) [text/plain]\n",
            "Saving to: ‘index.html?dl=1’\n",
            "\n",
            "index.html?dl=1     100%[===================>]  74.97M  18.5MB/s    in 5.1s    \n",
            "\n",
            "2021-10-23 20:15:56 (14.7 MB/s) - ‘index.html?dl=1’ saved [78612600/78612600]\n",
            "\n"
          ]
        }
      ]
    },
    {
      "cell_type": "code",
      "metadata": {
        "id": "KSgfBR0QMmQ5"
      },
      "source": [
        "FInputPossibleTerms1w = open('BGH1_s00term1w.txt', 'r')\n",
        "FInputPossibleTermsMWE = open('BGH1_s00termMWE.txt', 'r')\n",
        "\n",
        "FOutputResults1w = open('BGH1_s01term1w_res.txt', 'w')\n",
        "FOutputResultsMWE = open('BGH1_s01termMWE_res.txt', 'w')\n",
        "# FOutputResults = open('BGH1_term_s01res.txt', 'w')\n",
        "FOutputDebug = open('BGH1_s01term_debug.txt', 'w')\n",
        "\n",
        "\n",
        "FOutputResults1wFOUND = open('BGH1_s02term1w_resY.txt', 'w')\n",
        "FOutputResultsMWEFOUND = open('BGH1_s02termMWE_resY.txt', 'w')\n",
        "\n",
        "FOutputResults1wMISSING = open('BGH1_s02term1w_resN.txt', 'w')\n",
        "FOutputResultsMWEMISSING = open('BGH1_s02termMWE_resN.txt', 'w')"
      ],
      "execution_count": 20,
      "outputs": []
    },
    {
      "cell_type": "code",
      "metadata": {
        "id": "EMih63KTQhMv"
      },
      "source": [
        "import re, os, sys\n",
        "def readDict2rank(FIN):\n",
        "    '''\n",
        "    reading a frequency dictionary from a file\n",
        "    '''\n",
        "    DTermRanks = {}\n",
        "    i = 0\n",
        "    IRank = 0\n",
        "    IPrevFrq = 0\n",
        "    SumRanks = 0\n",
        "    for SLine in FIN:\n",
        "        if re.match('#', SLine): continue # skipping comments\n",
        "        SLine = SLine.strip()\n",
        "        LLine = re.split('\\t', SLine)\n",
        "        try:\n",
        "            Word = LLine[0]\n",
        "            Frq = int(LLine[1])\n",
        "        except:\n",
        "            continue\n",
        "        if Word in DTermRanks: FOutputDebug.write(SLine + '\\n') # checking for duplicates, there should not be any\n",
        "        i+=1\n",
        "        if IPrevFrq != Frq: IRank = i # rank is the number of the highest ranking element of the same frequency group\n",
        "        IPrevFrq = Frq\n",
        "        \n",
        "        DTermRanks[Word] = IRank\n",
        "        SumRanks += IRank\n",
        "\n",
        "    AAveRank = SumRanks / i\n",
        "    print(f'MaxRank = {IRank}\\nAve Rank = {AAveRank}\\n')\n",
        "    return DTermRanks, AAveRank"
      ],
      "execution_count": 21,
      "outputs": []
    },
    {
      "cell_type": "code",
      "metadata": {
        "colab": {
          "base_uri": "https://localhost:8080/"
        },
        "id": "C09OzcAeWATo",
        "outputId": "e9d06c15-b6ba-44b2-882d-ac96b96c74c6"
      },
      "source": [
        "D1W, AveRank1w = readDict2rank(FInputPossibleTerms1w)\n",
        "DMWE, AveRankMWE = readDict2rank(FInputPossibleTermsMWE)\n",
        "\n",
        "\n",
        "# testing that ranks were converted successfully:\n",
        "printDictionary(D1W, FOutputResults1w, Rev = False)\n",
        "printDictionary(DMWE, FOutputResultsMWE, Rev = False)\n"
      ],
      "execution_count": 22,
      "outputs": [
        {
          "output_type": "stream",
          "name": "stdout",
          "text": [
            "MaxRank = 261813\n",
            "Ave Rank = 182223.02101087398\n",
            "\n",
            "MaxRank = 709822\n",
            "Ave Rank = 582409.8984508096\n",
            "\n"
          ]
        }
      ]
    },
    {
      "cell_type": "code",
      "metadata": {
        "colab": {
          "base_uri": "https://localhost:8080/"
        },
        "id": "uZhm1w1laTCq",
        "outputId": "2102564e-6ddf-4b8e-8acc-708fa4d1ab94"
      },
      "source": [
        "# Stage 2: calculating recall for dictionaries that were read from gold standard\n",
        "\n",
        "def computeRecallOnAnnotation(DGS1w, D1W, FOutputResultsFOUND, FOutputResultsMISSING, SortBy = 0, Rev = False, ):\n",
        "\n",
        "    print('Total annotated in Gold Standard: ' + str(len(DGS1w.items())))\n",
        "    IFound = 0\n",
        "    IMissing = 0\n",
        "    SumFoundRanks = 0\n",
        "\n",
        "    for Word, Frq in sorted(DGS1w.items(),  key=lambda x: x[SortBy], reverse=Rev):\n",
        "        if Word in D1W:\n",
        "            IFound += 1\n",
        "            SumFoundRanks += D1W[Word] # add rank, to calculate average\n",
        "            FOutputResultsFOUND.write(Word + '\\t' + str(Frq) + '\\t' + str(D1W[Word]) + '\\n') # record/calculate average rank, etc.\n",
        "        else:\n",
        "            IMissing += 1\n",
        "            FOutputResultsMISSING.write(Word + '\\t' + str(Frq) + '\\n') # record/calculate average rank, etc.\n",
        "\n",
        "    print(f'Found: {IFound}')\n",
        "    print(f'Missing: {IMissing}')\n",
        "    ARecall = IFound / len(DGS1w.items())\n",
        "    print(f'Recall: {ARecall}')\n",
        "    AAverageFoundRanks = SumFoundRanks / IFound\n",
        "    print(f'Ave Found Ranks: {AAverageFoundRanks} \\n')\n",
        "\n",
        "    return ARecall, AAverageFoundRanks\n",
        "\n",
        "\n",
        "ARecall_1w, AAverageFoundRanks1w = computeRecallOnAnnotation(DGS1w, D1W, FOutputResults1wFOUND, FOutputResults1wMISSING, SortBy = 0, Rev = False)\n",
        "ARecall_MWE, AAverageFoundRanksMWE = computeRecallOnAnnotation(DGSMWE, DMWE, FOutputResultsMWEFOUND, FOutputResultsMWEMISSING, SortBy = 0, Rev = False)\n",
        "\n",
        "AAboveAve1w = AAverageFoundRanks1w / AveRank1w\n",
        "AAboveAveMWE = AAverageFoundRanksMWE / AveRankMWE\n",
        "\n",
        "print(f'\\nAboveAve1w: {AAboveAve1w}\\nAboveAveMWE: {AAboveAveMWE}')\n",
        "\n",
        "FOutputResults1wFOUND.flush()\n",
        "FOutputResults1wFOUND.close()\n",
        "FOutputResults1wMISSING.flush()\n",
        "FOutputResults1wMISSING.close()\n",
        "\n",
        "FOutputResultsMWEFOUND.flush()\n",
        "FOutputResultsMWEFOUND.close()\n",
        "FOutputResultsMWEMISSING.flush()\n",
        "FOutputResultsMWEMISSING.close()\n"
      ],
      "execution_count": 23,
      "outputs": [
        {
          "output_type": "stream",
          "name": "stdout",
          "text": [
            "Total annotated in Gold Standard: 431\n",
            "Found: 383\n",
            "Missing: 48\n",
            "Recall: 0.888631090487239\n",
            "Ave Found Ranks: 24651.738903394256 \n",
            "\n",
            "Total annotated in Gold Standard: 156\n",
            "Found: 50\n",
            "Missing: 106\n",
            "Recall: 0.32051282051282054\n",
            "Ave Found Ranks: 148709.12 \n",
            "\n",
            "\n",
            "AboveAve1w: 0.13528333997888878\n",
            "AboveAveMWE: 0.25533412188831467\n"
          ]
        }
      ]
    },
    {
      "cell_type": "code",
      "metadata": {
        "id": "Xy2nfTy5zsmR"
      },
      "source": [
        "# Stage03: preparing data for calculating precision\n",
        "'''\n",
        "The idea is to tokenise the gold standard (from Stage 0), and to generate all possible MWEs for each string / pargraph\n",
        "    then we can test what is the coverage (non-overlapping) or precision (overlapping)\n",
        "    or: we create a dictionary of potential single and MWE strings and check what has been identified ?\n",
        "    \n",
        "'''\n",
        "import re, os, sys\n",
        "FInput = open('BGH1_s00GoldStandard.txt', 'r')\n",
        "LLParTokens = []\n",
        "for SLine in FInput:\n",
        "    SLine.strip()\n",
        "    # separate punctuation\n",
        "    SLine = re.sub(r'(,\\.;:\\-\\!\\?\\(\\)\\[\\]\\“\\\")', r' \\1 ', SLine)\n",
        "    SLine = re.sub(' +', ' ', SLine)\n",
        "    LLine = re.split(' ', SLine)\n",
        "    LLParTokens.append(LLine)\n",
        "\n"
      ],
      "execution_count": 24,
      "outputs": []
    },
    {
      "cell_type": "code",
      "metadata": {
        "id": "_M5s2o9u5nOA"
      },
      "source": [
        "# generating candidate MWEs for cheking if / when they have been identified as terms\n",
        "# algorithm from Terminologieextraktion3 notebook\n",
        "\n",
        "LLGoldStandardMWEs = []\n",
        "\n",
        "for klen in range(len(LWords)): # lengths of candidate lists\n",
        "    klength = klen+1 # true length: for 0 it is le = 1\n",
        "    print(f'klen:{klength};')\n",
        "    for i in range(len(LWords) - klen): # positions where candidates start\n",
        "        print(f'i:{i};')\n",
        "        LCandidate = LWords[i:i+klength]\n",
        "        LLCandidates.append(LCandidate)\n"
      ],
      "execution_count": null,
      "outputs": []
    }
  ]
}