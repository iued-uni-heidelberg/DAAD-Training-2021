{
  "nbformat": 4,
  "nbformat_minor": 0,
  "metadata": {
    "colab": {
      "name": "Terminologieextraktion4Evaluation.ipynb",
      "provenance": [],
      "collapsed_sections": [],
      "authorship_tag": "ABX9TyMFv9IbYNSpo8hUj/Ihl7/G",
      "include_colab_link": true
    },
    "kernelspec": {
      "name": "python3",
      "display_name": "Python 3"
    },
    "language_info": {
      "name": "python"
    }
  },
  "cells": [
    {
      "cell_type": "markdown",
      "metadata": {
        "id": "view-in-github",
        "colab_type": "text"
      },
      "source": [
        "<a href=\"https://colab.research.google.com/github/iued-uni-heidelberg/DAAD-Training-2021/blob/main/Terminologieextraktion4Evaluation.ipynb\" target=\"_parent\"><img src=\"https://colab.research.google.com/assets/colab-badge.svg\" alt=\"Open In Colab\"/></a>"
      ]
    },
    {
      "cell_type": "markdown",
      "metadata": {
        "id": "eN9DTw823QDH"
      },
      "source": [
        "# Evaluation of the terminology extraction results"
      ]
    },
    {
      "cell_type": "code",
      "metadata": {
        "id": "2F2EV7qc3fF3"
      },
      "source": [
        "# Stage 0: Reading / extracting information from gold standard\n",
        "!wget https://heibox.uni-heidelberg.de/f/ae1110c4f9ad42b9a3d5/?dl=1\n",
        "!mv index.html?dl=1 BGH1_Astghik.txt\n",
        "!wget https://heibox.uni-heidelberg.de/f/0c787f26123f49178639/?dl=1\n",
        "!mv index.html?dl=1 BGH1_Hayk.txt\n",
        "!cat BGH1_Astghik.txt BGH1_Hayk.txt >BGH1_GoldStandard.txt"
      ],
      "execution_count": null,
      "outputs": []
    },
    {
      "cell_type": "code",
      "metadata": {
        "id": "BM66Xi9-4lSs"
      },
      "source": [
        "FInput = open('BGH1_GoldStandard.txt', 'r')\n",
        "for SLine in FInput:\n",
        "    "
      ],
      "execution_count": null,
      "outputs": []
    },
    {
      "cell_type": "code",
      "metadata": {
        "id": "_l4C6taZ3MST"
      },
      "source": [
        "# Stage 1: reading the text file of single and multiword terms"
      ],
      "execution_count": null,
      "outputs": []
    }
  ]
}