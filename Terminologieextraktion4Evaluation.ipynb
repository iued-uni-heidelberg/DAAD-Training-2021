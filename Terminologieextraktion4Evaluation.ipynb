{
  "nbformat": 4,
  "nbformat_minor": 0,
  "metadata": {
    "colab": {
      "name": "Terminologieextraktion4Evaluation.ipynb",
      "provenance": [],
      "collapsed_sections": [],
      "authorship_tag": "ABX9TyOW/Hsoi6hG0Nhnqs7SY+/O",
      "include_colab_link": true
    },
    "kernelspec": {
      "name": "python3",
      "display_name": "Python 3"
    },
    "language_info": {
      "name": "python"
    }
  },
  "cells": [
    {
      "cell_type": "markdown",
      "metadata": {
        "id": "view-in-github",
        "colab_type": "text"
      },
      "source": [
        "<a href=\"https://colab.research.google.com/github/iued-uni-heidelberg/DAAD-Training-2021/blob/main/Terminologieextraktion4Evaluation.ipynb\" target=\"_parent\"><img src=\"https://colab.research.google.com/assets/colab-badge.svg\" alt=\"Open In Colab\"/></a>"
      ]
    },
    {
      "cell_type": "markdown",
      "metadata": {
        "id": "eN9DTw823QDH"
      },
      "source": [
        "# Evaluation of the terminology extraction results"
      ]
    },
    {
      "cell_type": "markdown",
      "metadata": {
        "id": "X6K-G2fFLE-4"
      },
      "source": [
        "Purpose: evaluating the tradeoff between precision and recall for different extraction methods"
      ]
    },
    {
      "cell_type": "code",
      "metadata": {
        "colab": {
          "base_uri": "https://localhost:8080/"
        },
        "id": "2F2EV7qc3fF3",
        "outputId": "a5b4f973-ca39-4c5d-d4b4-1a8d8c969d17"
      },
      "source": [
        "# Stage 0: Preparing Gold standard: Reading / extracting information from gold standard: creating a list of annotated terms\n",
        "!wget https://heibox.uni-heidelberg.de/f/ae1110c4f9ad42b9a3d5/?dl=1\n",
        "!mv index.html?dl=1 BGH1_Astghik.txt\n",
        "!wget https://heibox.uni-heidelberg.de/f/0c787f26123f49178639/?dl=1\n",
        "!mv index.html?dl=1 BGH1_Hayk.txt\n"
      ],
      "execution_count": 1,
      "outputs": [
        {
          "output_type": "stream",
          "name": "stdout",
          "text": [
            "--2021-10-23 16:14:02--  https://heibox.uni-heidelberg.de/f/ae1110c4f9ad42b9a3d5/?dl=1\n",
            "Resolving heibox.uni-heidelberg.de (heibox.uni-heidelberg.de)... 129.206.7.113\n",
            "Connecting to heibox.uni-heidelberg.de (heibox.uni-heidelberg.de)|129.206.7.113|:443... connected.\n",
            "HTTP request sent, awaiting response... 302 Found\n",
            "Location: https://heibox.uni-heidelberg.de/seafhttp/files/616fd6c9-fdbc-4d48-98a3-b342087b003c/BGH1_Astghik.txt [following]\n",
            "--2021-10-23 16:14:03--  https://heibox.uni-heidelberg.de/seafhttp/files/616fd6c9-fdbc-4d48-98a3-b342087b003c/BGH1_Astghik.txt\n",
            "Reusing existing connection to heibox.uni-heidelberg.de:443.\n",
            "HTTP request sent, awaiting response... 200 OK\n",
            "Length: 369792 (361K) [text/plain]\n",
            "Saving to: ‘index.html?dl=1’\n",
            "\n",
            "index.html?dl=1     100%[===================>] 361.12K   495KB/s    in 0.7s    \n",
            "\n",
            "2021-10-23 16:14:04 (495 KB/s) - ‘index.html?dl=1’ saved [369792/369792]\n",
            "\n",
            "--2021-10-23 16:14:04--  https://heibox.uni-heidelberg.de/f/0c787f26123f49178639/?dl=1\n",
            "Resolving heibox.uni-heidelberg.de (heibox.uni-heidelberg.de)... 129.206.7.113\n",
            "Connecting to heibox.uni-heidelberg.de (heibox.uni-heidelberg.de)|129.206.7.113|:443... connected.\n",
            "HTTP request sent, awaiting response... 302 Found\n",
            "Location: https://heibox.uni-heidelberg.de/seafhttp/files/d6710858-56a0-439c-8cb7-fb73f13135ec/BGH2_Hayk.txt [following]\n",
            "--2021-10-23 16:14:04--  https://heibox.uni-heidelberg.de/seafhttp/files/d6710858-56a0-439c-8cb7-fb73f13135ec/BGH2_Hayk.txt\n",
            "Reusing existing connection to heibox.uni-heidelberg.de:443.\n",
            "HTTP request sent, awaiting response... 200 OK\n",
            "Length: 411864 (402K) [text/plain]\n",
            "Saving to: ‘index.html?dl=1’\n",
            "\n",
            "index.html?dl=1     100%[===================>] 402.21K   509KB/s    in 0.8s    \n",
            "\n",
            "2021-10-23 16:14:06 (509 KB/s) - ‘index.html?dl=1’ saved [411864/411864]\n",
            "\n"
          ]
        }
      ]
    },
    {
      "cell_type": "code",
      "metadata": {
        "id": "rI2bPn1R-k8k"
      },
      "source": [
        "!cat BGH1_Astghik.txt BGH1_Hayk.txt >BGH1_GoldStandard.txt"
      ],
      "execution_count": 23,
      "outputs": []
    },
    {
      "cell_type": "code",
      "metadata": {
        "id": "BM66Xi9-4lSs"
      },
      "source": [
        "FInput = open('BGH1_GoldStandard.txt', 'r')\n",
        "FOutput = open('BGH1_GoldS_Terms.txt', 'w')\n",
        "# for statistical purposes - separately single and multiword terms\n",
        "FOutputDict1w = open('BGH1_GoldS_D1w.txt', 'w')\n",
        "FOutputDictMWE = open('BGH1_GoldS_DMWE.txt', 'w')"
      ],
      "execution_count": 24,
      "outputs": []
    },
    {
      "cell_type": "code",
      "metadata": {
        "id": "XvajJguDHp9I"
      },
      "source": [
        "def printDictionary(DictionaryFrq, FOut, Rev = True):\n",
        "    for Word, Frq in sorted( DictionaryFrq.items() , key=lambda x: x[1], reverse=Rev):\n",
        "        FOut.write(Word + '\\t' + str(Frq) + '\\n')\n",
        "    return"
      ],
      "execution_count": 38,
      "outputs": []
    },
    {
      "cell_type": "code",
      "metadata": {
        "id": "bGp9Uqli568A"
      },
      "source": [
        "import re, os, sys\n",
        "LGSTerms = [] # gold standard terms\n",
        "DGS1w = {} # dictionary of single words\n",
        "DGSMWE = {} # dictionary of mwes\n",
        "IGS1w = 0 # number of annotated tokens of single words\n",
        "IGSMWE = 0 # number of annotated tokens of multiwords\n",
        "for SLine in FInput:\n",
        "    LAnnotatedTermsInLine = re.findall('<<([^><]+)>>', SLine)\n",
        "    LGSTerms.extend(LAnnotatedTermsInLine)\n",
        "\n",
        "for GSTerm in LGSTerms:\n",
        "    GSTerm = GSTerm.strip()\n",
        "    GSTerm = re.sub(' +', ' ', GSTerm)\n",
        "    if re.search(' ', GSTerm):\n",
        "        IGSMWE += 1\n",
        "        try: DGSMWE[GSTerm] += 1\n",
        "        except: DGSMWE[GSTerm] = 1\n",
        "    else:\n",
        "        IGS1w += 1\n",
        "        try: DGS1w[GSTerm] +=1\n",
        "        except: DGS1w[GSTerm] = 1\n",
        "\n",
        "    FOutput.write(GSTerm + '\\n')\n",
        "\n",
        "FOutputDictMWE.write('# Number of tokens: ' + str(IGSMWE) + '\\n')\n",
        "FOutputDict1w.write('# Number of tokens: ' + str(IGS1w) + '\\n')\n",
        "\n",
        "printDictionary(DGSMWE, FOutputDictMWE)\n",
        "printDictionary(DGS1w, FOutputDict1w)\n",
        "\n",
        "FOutputDictMWE.flush()\n",
        "FOutputDictMWE.close()\n",
        "FOutputDict1w.flush()\n",
        "FOutputDict1w.close()\n",
        "\n",
        "FOutput.flush()\n",
        "FOutput.close()"
      ],
      "execution_count": 26,
      "outputs": []
    },
    {
      "cell_type": "code",
      "metadata": {
        "colab": {
          "base_uri": "https://localhost:8080/"
        },
        "id": "_l4C6taZ3MST",
        "outputId": "1e338576-8e73-4963-ee83-36957956d00c"
      },
      "source": [
        "# Stage 1: Reading test data - Possible Terms (extracted automatically): reading the text files of single and multiword terms, recording ranks\n",
        "# single words candidates\n",
        "!wget https://heibox.uni-heidelberg.de/f/a9171080790f4932b7b1/?dl=1\n",
        "!mv index.html?dl=1 BGH_term1w.txt\n",
        "\n",
        "# multiword candidates\n",
        "!wget https://heibox.uni-heidelberg.de/f/2488701205e34e4683b1/?dl=1\n",
        "!mv index.html?dl=1 BGH_termMWE.txt\n"
      ],
      "execution_count": 28,
      "outputs": [
        {
          "output_type": "stream",
          "name": "stdout",
          "text": [
            "--2021-10-23 18:12:49--  https://heibox.uni-heidelberg.de/f/a9171080790f4932b7b1/?dl=1\n",
            "Resolving heibox.uni-heidelberg.de (heibox.uni-heidelberg.de)... 129.206.7.113\n",
            "Connecting to heibox.uni-heidelberg.de (heibox.uni-heidelberg.de)|129.206.7.113|:443... connected.\n",
            "HTTP request sent, awaiting response... 302 Found\n",
            "Location: https://heibox.uni-heidelberg.de/seafhttp/files/c8cc2be1-cb9d-4734-b8ad-a581c2e48050/BGH_term1w.txt [following]\n",
            "--2021-10-23 18:12:50--  https://heibox.uni-heidelberg.de/seafhttp/files/c8cc2be1-cb9d-4734-b8ad-a581c2e48050/BGH_term1w.txt\n",
            "Reusing existing connection to heibox.uni-heidelberg.de:443.\n",
            "HTTP request sent, awaiting response... 200 OK\n",
            "Length: 8954371 (8.5M) [text/plain]\n",
            "Saving to: ‘index.html?dl=1’\n",
            "\n",
            "index.html?dl=1     100%[===================>]   8.54M  5.44MB/s    in 1.6s    \n",
            "\n",
            "2021-10-23 18:12:52 (5.44 MB/s) - ‘index.html?dl=1’ saved [8954371/8954371]\n",
            "\n",
            "--2021-10-23 18:12:52--  https://heibox.uni-heidelberg.de/f/2488701205e34e4683b1/?dl=1\n",
            "Resolving heibox.uni-heidelberg.de (heibox.uni-heidelberg.de)... 129.206.7.113\n",
            "Connecting to heibox.uni-heidelberg.de (heibox.uni-heidelberg.de)|129.206.7.113|:443... connected.\n",
            "HTTP request sent, awaiting response... 302 Found\n",
            "Location: https://heibox.uni-heidelberg.de/seafhttp/files/cf9d5224-44b2-4bae-8b8b-2e530b0438f0/BGH_termMWE.txt [following]\n",
            "--2021-10-23 18:12:52--  https://heibox.uni-heidelberg.de/seafhttp/files/cf9d5224-44b2-4bae-8b8b-2e530b0438f0/BGH_termMWE.txt\n",
            "Reusing existing connection to heibox.uni-heidelberg.de:443.\n",
            "HTTP request sent, awaiting response... 200 OK\n",
            "Length: 78612600 (75M) [text/plain]\n",
            "Saving to: ‘index.html?dl=1’\n",
            "\n",
            "index.html?dl=1     100%[===================>]  74.97M  18.5MB/s    in 5.1s    \n",
            "\n",
            "2021-10-23 18:12:58 (14.8 MB/s) - ‘index.html?dl=1’ saved [78612600/78612600]\n",
            "\n"
          ]
        }
      ]
    },
    {
      "cell_type": "code",
      "metadata": {
        "id": "KSgfBR0QMmQ5"
      },
      "source": [
        "FInputPossibleTerms1w = open('BGH_term1w.txt', 'r')\n",
        "FInputPossibleTermsMWE = open('BGH_termMWE.txt', 'r')\n",
        "\n",
        "FOutputResults1w = open('BGH_term1w_res.txt', 'w')\n",
        "FOutputResultsMWE = open('BGH_termMWE_res.txt', 'w')\n",
        "FOutputResults = open('BGH_term_res.txt', 'w')\n",
        "FOutputDebug = open('BGH_term_debug.txt', 'w')\n",
        "\n",
        "\n",
        "FOutputResults1wFOUND = open('BGH_term1w_resY.txt', 'w')\n",
        "FOutputResultsMWEFOUND = open('BGH_termMWE_resY.txt', 'w')\n",
        "\n",
        "FOutputResults1wMISSING = open('BGH_term1w_resN.txt', 'w')\n",
        "FOutputResultsMWEMISSING = open('BGH_termMWE_resN.txt', 'w')"
      ],
      "execution_count": 39,
      "outputs": []
    },
    {
      "cell_type": "code",
      "metadata": {
        "id": "EMih63KTQhMv"
      },
      "source": [
        "import re, os, sys\n",
        "def readDict2rank(FIN):\n",
        "    '''\n",
        "    reading a frequency dictionary from a file\n",
        "    '''\n",
        "    DTermRanks = {}\n",
        "    i = 0\n",
        "    IRank = 0\n",
        "    IPrevFrq = 0\n",
        "    for SLine in FIN:\n",
        "        if re.match('#', SLine): continue # skipping comments\n",
        "        SLine = SLine.strip()\n",
        "        LLine = re.split('\\t', SLine)\n",
        "        try:\n",
        "            Word = LLine[0]\n",
        "            Frq = int(LLine[1])\n",
        "        except:\n",
        "            continue\n",
        "        if Word in DTermRanks: FOutputDebug.write(SLine + '\\n') # checking for duplicates, there should not be any\n",
        "        i+=1\n",
        "        if IPrevFrq != Frq: IRank = i # rank is the number of the highest ranking element of the same frequency group\n",
        "        IPrevFrq = Frq\n",
        "        \n",
        "        DTermRanks[Word] = IRank\n",
        "\n",
        "    return DTermRanks"
      ],
      "execution_count": 40,
      "outputs": []
    },
    {
      "cell_type": "code",
      "metadata": {
        "id": "C09OzcAeWATo"
      },
      "source": [
        "DMWE = readDict2rank(FInputPossibleTermsMWE)\n",
        "D1W = readDict2rank(FInputPossibleTerms1w)\n",
        "\n",
        "# testing that ranks were converted successfully:\n",
        "printDictionary(D1W, FOutputResults1w, Rev = False)\n",
        "printDictionary(DMWE, FOutputResultsMWE, Rev = False)\n"
      ],
      "execution_count": 41,
      "outputs": []
    },
    {
      "cell_type": "code",
      "metadata": {
        "id": "uZhm1w1laTCq"
      },
      "source": [
        "# Stage 2: calculating recall for dictionaries read from gold standard\n",
        "\n",
        "for Word, Frq in DGS1w:\n",
        "    if Word in D1W:\n",
        "        FOutputResults1wFOUND.write() # record/calculate average rank, etc."
      ],
      "execution_count": null,
      "outputs": []
    }
  ]
}