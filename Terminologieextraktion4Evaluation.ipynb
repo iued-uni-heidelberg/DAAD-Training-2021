{
  "nbformat": 4,
  "nbformat_minor": 0,
  "metadata": {
    "colab": {
      "name": "Terminologieextraktion4Evaluation.ipynb",
      "provenance": [],
      "collapsed_sections": [],
      "authorship_tag": "ABX9TyPGpC7P+uDitndvnVwinOHw",
      "include_colab_link": true
    },
    "kernelspec": {
      "name": "python3",
      "display_name": "Python 3"
    },
    "language_info": {
      "name": "python"
    }
  },
  "cells": [
    {
      "cell_type": "markdown",
      "metadata": {
        "id": "view-in-github",
        "colab_type": "text"
      },
      "source": [
        "<a href=\"https://colab.research.google.com/github/iued-uni-heidelberg/DAAD-Training-2021/blob/main/Terminologieextraktion4Evaluation.ipynb\" target=\"_parent\"><img src=\"https://colab.research.google.com/assets/colab-badge.svg\" alt=\"Open In Colab\"/></a>"
      ]
    },
    {
      "cell_type": "markdown",
      "metadata": {
        "id": "eN9DTw823QDH"
      },
      "source": [
        "# Evaluation of the terminology extraction results"
      ]
    },
    {
      "cell_type": "code",
      "metadata": {
        "colab": {
          "base_uri": "https://localhost:8080/"
        },
        "id": "2F2EV7qc3fF3",
        "outputId": "a5b4f973-ca39-4c5d-d4b4-1a8d8c969d17"
      },
      "source": [
        "# Stage 0: Reading / extracting information from gold standard: creating a list of annotated terms\n",
        "!wget https://heibox.uni-heidelberg.de/f/ae1110c4f9ad42b9a3d5/?dl=1\n",
        "!mv index.html?dl=1 BGH1_Astghik.txt\n",
        "!wget https://heibox.uni-heidelberg.de/f/0c787f26123f49178639/?dl=1\n",
        "!mv index.html?dl=1 BGH1_Hayk.txt\n",
        "!cat BGH1_Astghik.txt BGH1_Hayk.txt >BGH1_GoldStandard.txt"
      ],
      "execution_count": 1,
      "outputs": [
        {
          "output_type": "stream",
          "name": "stdout",
          "text": [
            "--2021-10-23 16:14:02--  https://heibox.uni-heidelberg.de/f/ae1110c4f9ad42b9a3d5/?dl=1\n",
            "Resolving heibox.uni-heidelberg.de (heibox.uni-heidelberg.de)... 129.206.7.113\n",
            "Connecting to heibox.uni-heidelberg.de (heibox.uni-heidelberg.de)|129.206.7.113|:443... connected.\n",
            "HTTP request sent, awaiting response... 302 Found\n",
            "Location: https://heibox.uni-heidelberg.de/seafhttp/files/616fd6c9-fdbc-4d48-98a3-b342087b003c/BGH1_Astghik.txt [following]\n",
            "--2021-10-23 16:14:03--  https://heibox.uni-heidelberg.de/seafhttp/files/616fd6c9-fdbc-4d48-98a3-b342087b003c/BGH1_Astghik.txt\n",
            "Reusing existing connection to heibox.uni-heidelberg.de:443.\n",
            "HTTP request sent, awaiting response... 200 OK\n",
            "Length: 369792 (361K) [text/plain]\n",
            "Saving to: ‘index.html?dl=1’\n",
            "\n",
            "index.html?dl=1     100%[===================>] 361.12K   495KB/s    in 0.7s    \n",
            "\n",
            "2021-10-23 16:14:04 (495 KB/s) - ‘index.html?dl=1’ saved [369792/369792]\n",
            "\n",
            "--2021-10-23 16:14:04--  https://heibox.uni-heidelberg.de/f/0c787f26123f49178639/?dl=1\n",
            "Resolving heibox.uni-heidelberg.de (heibox.uni-heidelberg.de)... 129.206.7.113\n",
            "Connecting to heibox.uni-heidelberg.de (heibox.uni-heidelberg.de)|129.206.7.113|:443... connected.\n",
            "HTTP request sent, awaiting response... 302 Found\n",
            "Location: https://heibox.uni-heidelberg.de/seafhttp/files/d6710858-56a0-439c-8cb7-fb73f13135ec/BGH2_Hayk.txt [following]\n",
            "--2021-10-23 16:14:04--  https://heibox.uni-heidelberg.de/seafhttp/files/d6710858-56a0-439c-8cb7-fb73f13135ec/BGH2_Hayk.txt\n",
            "Reusing existing connection to heibox.uni-heidelberg.de:443.\n",
            "HTTP request sent, awaiting response... 200 OK\n",
            "Length: 411864 (402K) [text/plain]\n",
            "Saving to: ‘index.html?dl=1’\n",
            "\n",
            "index.html?dl=1     100%[===================>] 402.21K   509KB/s    in 0.8s    \n",
            "\n",
            "2021-10-23 16:14:06 (509 KB/s) - ‘index.html?dl=1’ saved [411864/411864]\n",
            "\n"
          ]
        }
      ]
    },
    {
      "cell_type": "code",
      "metadata": {
        "id": "rI2bPn1R-k8k"
      },
      "source": [
        ""
      ],
      "execution_count": null,
      "outputs": []
    },
    {
      "cell_type": "code",
      "metadata": {
        "id": "BM66Xi9-4lSs"
      },
      "source": [
        "FInput = open('BGH1_GoldStandard.txt', 'r')\n",
        "FOutput = open('BGH1_GS_Terms.txt', 'w')\n",
        "# for statistical purposes - separately single and multiword terms\n",
        "FOutputDict1w = open('BGH1_GS_D1w.txt', 'w')\n",
        "FOutputDictMWE = open('BGH1_GS_DMWE.txt', 'w')"
      ],
      "execution_count": 11,
      "outputs": []
    },
    {
      "cell_type": "code",
      "metadata": {
        "id": "XvajJguDHp9I"
      },
      "source": [
        "def printDictionary(DictionaryFrq, FOut):\n",
        "    for Word, Frq in sorted( DictionaryFrq.items() , key=lambda x: x[1], reverse=True):\n",
        "        FOut.write(Word + '\\t' + str(Frq) + '\\n')\n",
        "    return"
      ],
      "execution_count": null,
      "outputs": []
    },
    {
      "cell_type": "code",
      "metadata": {
        "id": "bGp9Uqli568A"
      },
      "source": [
        "import re, os, sys\n",
        "LGSTerms = [] # gold standard terms\n",
        "DGS1w = {}\n",
        "DGSMWE = {}\n",
        "IGS1w = 0 # number of annotated tokens of single words\n",
        "IGSMWE = 0 # number of annotated tokens of multiwords\n",
        "for SLine in FInput:\n",
        "    LAnnotatedTermsInLine = re.findall('<<([^><]+)>>', SLine)\n",
        "    LGSTerms.extend(LAnnotatedTermsInLine)\n",
        "\n",
        "for GSTerm in LGSTerms:\n",
        "    GSTerm = GSTerm.strip()\n",
        "    GSTerm = re.sub(' +', ' ', GSTerm)\n",
        "    if re.search(' ', GSTerm):\n",
        "        DGSMWE += 1\n",
        "        try: DGSMWE[GSTerm] += 1\n",
        "        except: DGSMWE[GSTerm] = 1\n",
        "    else:\n",
        "        DGS1w += 1\n",
        "        try: DGS1w[GSTerm] +=1\n",
        "        except: DGS1w[GSTerm] = 1\n",
        "\n",
        "    FOutput.write(GSTerm + '\\n')\n",
        "\n",
        "printDictionary(DGSMWE, FOutputDictMWE)\n",
        "printDictionary(DGSMWE, FOutputDict1w)\n",
        "\n",
        "FOutputDictMWE.flush()\n",
        "FOutputDictMWE.close()\n",
        "FOutputDict1w.flush()\n",
        "FOutputDict1w.close()\n",
        "\n",
        "FOutput.flush()\n",
        "FOutput.close()"
      ],
      "execution_count": 12,
      "outputs": []
    },
    {
      "cell_type": "code",
      "metadata": {
        "id": "_l4C6taZ3MST"
      },
      "source": [
        "# Stage 1: reading the text files of single and multiword terms, recording ranks\n",
        "FInputPossibleTerms = "
      ],
      "execution_count": null,
      "outputs": []
    }
  ]
}